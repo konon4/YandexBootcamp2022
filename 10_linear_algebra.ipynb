{
 "cells": [
  {
   "cell_type": "markdown",
   "metadata": {
    "toc": true
   },
   "source": [
    "<h1>Содержание<span class=\"tocSkip\"></span></h1>\n",
    "<div class=\"toc\"><ul class=\"toc-item\"><li><span><a href=\"#Загрузка-данных\" data-toc-modified-id=\"Загрузка-данных-1\"><span class=\"toc-item-num\">1&nbsp;&nbsp;</span>Загрузка данных</a></span><ul class=\"toc-item\"><li><span><a href=\"#Исследование-данных\" data-toc-modified-id=\"Исследование-данных-1.1\"><span class=\"toc-item-num\">1.1&nbsp;&nbsp;</span>Исследование данных</a></span></li><li><span><a href=\"#Предобработка\" data-toc-modified-id=\"Предобработка-1.2\"><span class=\"toc-item-num\">1.2&nbsp;&nbsp;</span>Предобработка</a></span><ul class=\"toc-item\"><li><span><a href=\"#Проверим-есть-ли-не-целочисленная-зарплата.\" data-toc-modified-id=\"Проверим-есть-ли-не-целочисленная-зарплата.-1.2.1\"><span class=\"toc-item-num\">1.2.1&nbsp;&nbsp;</span>Проверим есть ли не целочисленная зарплата.</a></span></li><li><span><a href=\"#Переведём-возраст-в-целочисленные,-проверив-наличие-дробного-возраста.\" data-toc-modified-id=\"Переведём-возраст-в-целочисленные,-проверив-наличие-дробного-возраста.-1.2.2\"><span class=\"toc-item-num\">1.2.2&nbsp;&nbsp;</span>Переведём возраст в целочисленные, проверив наличие дробного возраста.</a></span></li><li><span><a href=\"#Проверим-есть-ли-NaN\" data-toc-modified-id=\"Проверим-есть-ли-NaN-1.2.3\"><span class=\"toc-item-num\">1.2.3&nbsp;&nbsp;</span>Проверим есть ли NaN</a></span></li><li><span><a href=\"#Проверим-на-дубликаты\" data-toc-modified-id=\"Проверим-на-дубликаты-1.2.4\"><span class=\"toc-item-num\">1.2.4&nbsp;&nbsp;</span>Проверим на дубликаты</a></span></li><li><span><a href=\"#Переименуем-колонки.\" data-toc-modified-id=\"Переименуем-колонки.-1.2.5\"><span class=\"toc-item-num\">1.2.5&nbsp;&nbsp;</span>Переименуем колонки.</a></span></li></ul></li></ul></li><li><span><a href=\"#Умножение-матриц\" data-toc-modified-id=\"Умножение-матриц-2\"><span class=\"toc-item-num\">2&nbsp;&nbsp;</span>Умножение матриц</a></span><ul class=\"toc-item\"><li><span><a href=\"#Постановка-задачи\" data-toc-modified-id=\"Постановка-задачи-2.1\"><span class=\"toc-item-num\">2.1&nbsp;&nbsp;</span>Постановка задачи</a></span></li><li><span><a href=\"#Ответ:-Не-изменится.\" data-toc-modified-id=\"Ответ:-Не-изменится.-2.2\"><span class=\"toc-item-num\">2.2&nbsp;&nbsp;</span><strong>Ответ:</strong> Не изменится.</a></span></li><li><span><a href=\"#Обоснование:\" data-toc-modified-id=\"Обоснование:-2.3\"><span class=\"toc-item-num\">2.3&nbsp;&nbsp;</span><strong>Обоснование:</strong></a></span></li></ul></li><li><span><a href=\"#Алгоритм-преобразования\" data-toc-modified-id=\"Алгоритм-преобразования-3\"><span class=\"toc-item-num\">3&nbsp;&nbsp;</span>Алгоритм преобразования</a></span><ul class=\"toc-item\"><li><span><a href=\"#Алгоритм\" data-toc-modified-id=\"Алгоритм-3.1\"><span class=\"toc-item-num\">3.1&nbsp;&nbsp;</span><strong>Алгоритм</strong></a></span></li><li><span><a href=\"#Обоснование\" data-toc-modified-id=\"Обоснование-3.2\"><span class=\"toc-item-num\">3.2&nbsp;&nbsp;</span><strong>Обоснование</strong></a></span></li></ul></li><li><span><a href=\"#Проверка-алгоритма\" data-toc-modified-id=\"Проверка-алгоритма-4\"><span class=\"toc-item-num\">4&nbsp;&nbsp;</span>Проверка алгоритма</a></span><ul class=\"toc-item\"><li><span><a href=\"#Подготовим-данные,-разобъём-на-выборки\" data-toc-modified-id=\"Подготовим-данные,-разобъём-на-выборки-4.1\"><span class=\"toc-item-num\">4.1&nbsp;&nbsp;</span>Подготовим данные, разобъём на выборки</a></span></li><li><span><a href=\"#Функция-преобразования-матрицы-признаков\" data-toc-modified-id=\"Функция-преобразования-матрицы-признаков-4.2\"><span class=\"toc-item-num\">4.2&nbsp;&nbsp;</span>Функция преобразования матрицы признаков</a></span></li><li><span><a href=\"#Обучим-модель-линейной-регрессии\" data-toc-modified-id=\"Обучим-модель-линейной-регрессии-4.3\"><span class=\"toc-item-num\">4.3&nbsp;&nbsp;</span>Обучим модель линейной регрессии</a></span><ul class=\"toc-item\"><li><span><a href=\"#Без-преобразования.\" data-toc-modified-id=\"Без-преобразования.-4.3.1\"><span class=\"toc-item-num\">4.3.1&nbsp;&nbsp;</span>Без преобразования.</a></span></li><li><span><a href=\"#C-преобразованием.\" data-toc-modified-id=\"C-преобразованием.-4.3.2\"><span class=\"toc-item-num\">4.3.2&nbsp;&nbsp;</span>C преобразованием.</a></span></li></ul></li><li><span><a href=\"#Вывод\" data-toc-modified-id=\"Вывод-4.4\"><span class=\"toc-item-num\">4.4&nbsp;&nbsp;</span>Вывод</a></span></li></ul></li><li><span><a href=\"#Чек-лист-проверки\" data-toc-modified-id=\"Чек-лист-проверки-5\"><span class=\"toc-item-num\">5&nbsp;&nbsp;</span>Чек-лист проверки</a></span></li></ul></div>"
   ]
  },
  {
   "cell_type": "markdown",
   "metadata": {},
   "source": [
    "# Защита персональных данных клиентов"
   ]
  },
  {
   "cell_type": "markdown",
   "metadata": {},
   "source": [
    "Вам нужно защитить данные клиентов страховой компании «Хоть потоп». Разработайте такой метод преобразования данных, чтобы по ним было сложно восстановить персональную информацию. Обоснуйте корректность его работы.\n",
    "\n",
    "Нужно защитить данные, чтобы при преобразовании качество моделей машинного обучения не ухудшилось. Подбирать наилучшую модель не требуется."
   ]
  },
  {
   "cell_type": "markdown",
   "metadata": {},
   "source": [
    "Загрузите и изучите данные.\n",
    "Ответьте на вопрос и обоснуйте решение.\n",
    "Признаки умножают на обратимую матрицу. Изменится ли качество линейной регрессии? (Её можно обучить заново.)\n",
    "a. Изменится. Приведите примеры матриц.\n",
    "b. Не изменится. Укажите, как связаны параметры линейной регрессии в исходной задаче и в преобразованной.\n",
    "Предложите алгоритм преобразования данных для решения задачи. Обоснуйте, почему качество линейной регрессии не поменяется.\n",
    "Запрограммируйте этот алгоритм, применив матричные операции. Проверьте, что качество линейной регрессии из sklearn не отличается до и после преобразования. Примените метрику R2."
   ]
  },
  {
   "cell_type": "markdown",
   "metadata": {},
   "source": [
    "## Загрузка данных"
   ]
  },
  {
   "cell_type": "code",
   "execution_count": 1,
   "metadata": {},
   "outputs": [],
   "source": [
    "import warnings\n",
    "\n",
    "import matplotlib.pyplot as plt\n",
    "import numpy as np\n",
    "import pandas as pd\n",
    "\n",
    "from sklearn.model_selection import train_test_split\n",
    "from sklearn.linear_model import LinearRegression\n",
    "from sklearn.metrics import r2_score"
   ]
  },
  {
   "cell_type": "code",
   "execution_count": 2,
   "metadata": {},
   "outputs": [],
   "source": [
    "warnings.filterwarnings('ignore')"
   ]
  },
  {
   "cell_type": "code",
   "execution_count": 3,
   "metadata": {},
   "outputs": [],
   "source": [
    "df = pd.read_csv('/datasets/insurance.csv')"
   ]
  },
  {
   "cell_type": "markdown",
   "metadata": {},
   "source": [
    "### Исследование данных"
   ]
  },
  {
   "cell_type": "code",
   "execution_count": 4,
   "metadata": {
    "scrolled": true
   },
   "outputs": [
    {
     "data": {
      "text/html": [
       "<div>\n",
       "<style scoped>\n",
       "    .dataframe tbody tr th:only-of-type {\n",
       "        vertical-align: middle;\n",
       "    }\n",
       "\n",
       "    .dataframe tbody tr th {\n",
       "        vertical-align: top;\n",
       "    }\n",
       "\n",
       "    .dataframe thead th {\n",
       "        text-align: right;\n",
       "    }\n",
       "</style>\n",
       "<table border=\"1\" class=\"dataframe\">\n",
       "  <thead>\n",
       "    <tr style=\"text-align: right;\">\n",
       "      <th></th>\n",
       "      <th>Пол</th>\n",
       "      <th>Возраст</th>\n",
       "      <th>Зарплата</th>\n",
       "      <th>Члены семьи</th>\n",
       "      <th>Страховые выплаты</th>\n",
       "    </tr>\n",
       "  </thead>\n",
       "  <tbody>\n",
       "    <tr>\n",
       "      <th>0</th>\n",
       "      <td>1</td>\n",
       "      <td>41.0</td>\n",
       "      <td>49600.0</td>\n",
       "      <td>1</td>\n",
       "      <td>0</td>\n",
       "    </tr>\n",
       "    <tr>\n",
       "      <th>1</th>\n",
       "      <td>0</td>\n",
       "      <td>46.0</td>\n",
       "      <td>38000.0</td>\n",
       "      <td>1</td>\n",
       "      <td>1</td>\n",
       "    </tr>\n",
       "    <tr>\n",
       "      <th>2</th>\n",
       "      <td>0</td>\n",
       "      <td>29.0</td>\n",
       "      <td>21000.0</td>\n",
       "      <td>0</td>\n",
       "      <td>0</td>\n",
       "    </tr>\n",
       "    <tr>\n",
       "      <th>3</th>\n",
       "      <td>0</td>\n",
       "      <td>21.0</td>\n",
       "      <td>41700.0</td>\n",
       "      <td>2</td>\n",
       "      <td>0</td>\n",
       "    </tr>\n",
       "    <tr>\n",
       "      <th>4</th>\n",
       "      <td>1</td>\n",
       "      <td>28.0</td>\n",
       "      <td>26100.0</td>\n",
       "      <td>0</td>\n",
       "      <td>0</td>\n",
       "    </tr>\n",
       "  </tbody>\n",
       "</table>\n",
       "</div>"
      ],
      "text/plain": [
       "   Пол  Возраст  Зарплата  Члены семьи  Страховые выплаты\n",
       "0    1     41.0   49600.0            1                  0\n",
       "1    0     46.0   38000.0            1                  1\n",
       "2    0     29.0   21000.0            0                  0\n",
       "3    0     21.0   41700.0            2                  0\n",
       "4    1     28.0   26100.0            0                  0"
      ]
     },
     "execution_count": 4,
     "metadata": {},
     "output_type": "execute_result"
    }
   ],
   "source": [
    "df.head()"
   ]
  },
  {
   "cell_type": "code",
   "execution_count": 5,
   "metadata": {
    "scrolled": false
   },
   "outputs": [
    {
     "data": {
      "image/png": "[encoded data removed]",
      "text/plain": [
       "<Figure size 720x720 with 6 Axes>"
      ]
     },
     "metadata": {
      "needs_background": "light"
     },
     "output_type": "display_data"
    }
   ],
   "source": [
    "df.hist(figsize=(10,10));"
   ]
  },
  {
   "cell_type": "code",
   "execution_count": 6,
   "metadata": {
    "scrolled": true
   },
   "outputs": [
    {
     "data": {
      "text/html": [
       "<div>\n",
       "<style scoped>\n",
       "    .dataframe tbody tr th:only-of-type {\n",
       "        vertical-align: middle;\n",
       "    }\n",
       "\n",
       "    .dataframe tbody tr th {\n",
       "        vertical-align: top;\n",
       "    }\n",
       "\n",
       "    .dataframe thead th {\n",
       "        text-align: right;\n",
       "    }\n",
       "</style>\n",
       "<table border=\"1\" class=\"dataframe\">\n",
       "  <thead>\n",
       "    <tr style=\"text-align: right;\">\n",
       "      <th></th>\n",
       "      <th>Пол</th>\n",
       "      <th>Возраст</th>\n",
       "      <th>Зарплата</th>\n",
       "      <th>Члены семьи</th>\n",
       "      <th>Страховые выплаты</th>\n",
       "    </tr>\n",
       "  </thead>\n",
       "  <tbody>\n",
       "    <tr>\n",
       "      <th>count</th>\n",
       "      <td>5000.000000</td>\n",
       "      <td>5000.000000</td>\n",
       "      <td>5000.000000</td>\n",
       "      <td>5000.000000</td>\n",
       "      <td>5000.000000</td>\n",
       "    </tr>\n",
       "    <tr>\n",
       "      <th>mean</th>\n",
       "      <td>0.499000</td>\n",
       "      <td>30.952800</td>\n",
       "      <td>39916.360000</td>\n",
       "      <td>1.194200</td>\n",
       "      <td>0.148000</td>\n",
       "    </tr>\n",
       "    <tr>\n",
       "      <th>std</th>\n",
       "      <td>0.500049</td>\n",
       "      <td>8.440807</td>\n",
       "      <td>9900.083569</td>\n",
       "      <td>1.091387</td>\n",
       "      <td>0.463183</td>\n",
       "    </tr>\n",
       "    <tr>\n",
       "      <th>min</th>\n",
       "      <td>0.000000</td>\n",
       "      <td>18.000000</td>\n",
       "      <td>5300.000000</td>\n",
       "      <td>0.000000</td>\n",
       "      <td>0.000000</td>\n",
       "    </tr>\n",
       "    <tr>\n",
       "      <th>25%</th>\n",
       "      <td>0.000000</td>\n",
       "      <td>24.000000</td>\n",
       "      <td>33300.000000</td>\n",
       "      <td>0.000000</td>\n",
       "      <td>0.000000</td>\n",
       "    </tr>\n",
       "    <tr>\n",
       "      <th>50%</th>\n",
       "      <td>0.000000</td>\n",
       "      <td>30.000000</td>\n",
       "      <td>40200.000000</td>\n",
       "      <td>1.000000</td>\n",
       "      <td>0.000000</td>\n",
       "    </tr>\n",
       "    <tr>\n",
       "      <th>75%</th>\n",
       "      <td>1.000000</td>\n",
       "      <td>37.000000</td>\n",
       "      <td>46600.000000</td>\n",
       "      <td>2.000000</td>\n",
       "      <td>0.000000</td>\n",
       "    </tr>\n",
       "    <tr>\n",
       "      <th>max</th>\n",
       "      <td>1.000000</td>\n",
       "      <td>65.000000</td>\n",
       "      <td>79000.000000</td>\n",
       "      <td>6.000000</td>\n",
       "      <td>5.000000</td>\n",
       "    </tr>\n",
       "  </tbody>\n",
       "</table>\n",
       "</div>"
      ],
      "text/plain": [
       "               Пол      Возраст      Зарплата  Члены семьи  Страховые выплаты\n",
       "count  5000.000000  5000.000000   5000.000000  5000.000000        5000.000000\n",
       "mean      0.499000    30.952800  39916.360000     1.194200           0.148000\n",
       "std       0.500049     8.440807   9900.083569     1.091387           0.463183\n",
       "min       0.000000    18.000000   5300.000000     0.000000           0.000000\n",
       "25%       0.000000    24.000000  33300.000000     0.000000           0.000000\n",
       "50%       0.000000    30.000000  40200.000000     1.000000           0.000000\n",
       "75%       1.000000    37.000000  46600.000000     2.000000           0.000000\n",
       "max       1.000000    65.000000  79000.000000     6.000000           5.000000"
      ]
     },
     "execution_count": 6,
     "metadata": {},
     "output_type": "execute_result"
    }
   ],
   "source": [
    "df.describe()"
   ]
  },
  {
   "cell_type": "code",
   "execution_count": 7,
   "metadata": {
    "scrolled": false
   },
   "outputs": [
    {
     "name": "stdout",
     "output_type": "stream",
     "text": [
      "<class 'pandas.core.frame.DataFrame'>\n",
      "RangeIndex: 5000 entries, 0 to 4999\n",
      "Data columns (total 5 columns):\n",
      " #   Column             Non-Null Count  Dtype  \n",
      "---  ------             --------------  -----  \n",
      " 0   Пол                5000 non-null   int64  \n",
      " 1   Возраст            5000 non-null   float64\n",
      " 2   Зарплата           5000 non-null   float64\n",
      " 3   Члены семьи        5000 non-null   int64  \n",
      " 4   Страховые выплаты  5000 non-null   int64  \n",
      "dtypes: float64(2), int64(3)\n",
      "memory usage: 195.4 KB\n"
     ]
    }
   ],
   "source": [
    "df.info()"
   ]
  },
  {
   "cell_type": "markdown",
   "metadata": {},
   "source": [
    "### Предобработка"
   ]
  },
  {
   "cell_type": "markdown",
   "metadata": {},
   "source": [
    "#### Проверим есть ли не целочисленная зарплата."
   ]
  },
  {
   "cell_type": "code",
   "execution_count": 8,
   "metadata": {
    "scrolled": false
   },
   "outputs": [
    {
     "data": {
      "text/plain": [
       "Пол                  40\n",
       "Возраст              40\n",
       "Зарплата             40\n",
       "Члены семьи          40\n",
       "Страховые выплаты    40\n",
       "dtype: int64"
      ]
     },
     "execution_count": 8,
     "metadata": {},
     "output_type": "execute_result"
    }
   ],
   "source": [
    "df[(df['Зарплата'] % 1)!= 0].count()"
   ]
  },
  {
   "cell_type": "markdown",
   "metadata": {},
   "source": [
    "#### Переведём возраст в целочисленные, проверив наличие дробного возраста."
   ]
  },
  {
   "cell_type": "code",
   "execution_count": 9,
   "metadata": {},
   "outputs": [],
   "source": [
    "if df[(df['Возраст'] % 1)!= 0]['Возраст'].count() == 0:\n",
    "    df['Возраст'] = df['Возраст'].astype(int)"
   ]
  },
  {
   "cell_type": "markdown",
   "metadata": {
    "scrolled": true
   },
   "source": [
    "#### Проверим есть ли NaN"
   ]
  },
  {
   "cell_type": "code",
   "execution_count": 10,
   "metadata": {},
   "outputs": [
    {
     "data": {
      "text/plain": [
       "Пол                  0\n",
       "Возраст              0\n",
       "Зарплата             0\n",
       "Члены семьи          0\n",
       "Страховые выплаты    0\n",
       "dtype: int64"
      ]
     },
     "execution_count": 10,
     "metadata": {},
     "output_type": "execute_result"
    }
   ],
   "source": [
    "df.isna().sum()"
   ]
  },
  {
   "cell_type": "markdown",
   "metadata": {},
   "source": [
    "#### Проверим на дубликаты"
   ]
  },
  {
   "cell_type": "code",
   "execution_count": 11,
   "metadata": {
    "scrolled": true
   },
   "outputs": [
    {
     "data": {
      "text/plain": [
       "153"
      ]
     },
     "metadata": {},
     "output_type": "display_data"
    }
   ],
   "source": [
    "display(df.duplicated().sum())"
   ]
  },
  {
   "cell_type": "markdown",
   "metadata": {},
   "source": [
    "Есть дубликаты, почистим от них в явном виде."
   ]
  },
  {
   "cell_type": "code",
   "execution_count": 12,
   "metadata": {
    "scrolled": false
   },
   "outputs": [
    {
     "data": {
      "text/plain": [
       "(4847, 5)"
      ]
     },
     "execution_count": 12,
     "metadata": {},
     "output_type": "execute_result"
    }
   ],
   "source": [
    "df = df.drop_duplicates()\n",
    "df = df.reset_index(drop=True)\n",
    "df.shape"
   ]
  },
  {
   "cell_type": "markdown",
   "metadata": {},
   "source": [
    "#### Переименуем колонки."
   ]
  },
  {
   "cell_type": "code",
   "execution_count": 13,
   "metadata": {},
   "outputs": [],
   "source": [
    "df.columns = ['attribute0', 'attribute1', 'attribute2', 'attribute3', 'target0']"
   ]
  },
  {
   "cell_type": "code",
   "execution_count": 14,
   "metadata": {},
   "outputs": [
    {
     "data": {
      "text/plain": [
       "Index(['attribute0', 'attribute1', 'attribute2', 'attribute3', 'target0'], dtype='object')"
      ]
     },
     "execution_count": 14,
     "metadata": {},
     "output_type": "execute_result"
    }
   ],
   "source": [
    "df.columns"
   ]
  },
  {
   "cell_type": "code",
   "execution_count": 15,
   "metadata": {
    "scrolled": false
   },
   "outputs": [
    {
     "data": {
      "text/plain": [
       "(4847, 5)"
      ]
     },
     "execution_count": 15,
     "metadata": {},
     "output_type": "execute_result"
    }
   ],
   "source": [
    "df.shape"
   ]
  },
  {
   "cell_type": "markdown",
   "metadata": {},
   "source": [
    "## Умножение матриц"
   ]
  },
  {
   "cell_type": "markdown",
   "metadata": {},
   "source": [
    "### Постановка задачи"
   ]
  },
  {
   "cell_type": "markdown",
   "metadata": {},
   "source": [
    "В этом задании вы можете записывать формулы в *Jupyter Notebook.*\n",
    "\n",
    "Чтобы записать формулу внутри текста, окружите её символами доллара \\\\$; если снаружи —  двойными символами \\\\$\\\\$. Эти формулы записываются на языке вёрстки *LaTeX.* \n",
    "\n",
    "Для примера мы записали формулы линейной регрессии. Можете их скопировать и отредактировать, чтобы решить задачу.\n",
    "\n",
    "Работать в *LaTeX* необязательно."
   ]
  },
  {
   "cell_type": "markdown",
   "metadata": {},
   "source": [
    "Обозначения:\n",
    "\n",
    "- $X$ — матрица признаков (нулевой столбец состоит из единиц)\n",
    "\n",
    "- $y$ — вектор целевого признака\n",
    "\n",
    "- $P$ — матрица, на которую умножаются признаки\n",
    "\n",
    "- $w$ — вектор весов линейной регрессии (нулевой элемент равен сдвигу)"
   ]
  },
  {
   "cell_type": "markdown",
   "metadata": {},
   "source": [
    "Предсказания:\n",
    "\n",
    "$$\n",
    "a = Xw\n",
    "$$\n",
    "\n",
    "Задача обучения:\n",
    "\n",
    "$$\n",
    "w = \\arg\\min_w MSE(Xw, y)\n",
    "$$\n",
    "\n",
    "Формула обучения:\n",
    "\n",
    "$$\n",
    "w = (X^T X)^{-1} X^T y\n",
    "$$"
   ]
  },
  {
   "cell_type": "markdown",
   "metadata": {},
   "source": [
    "Признаки умножают на обратимую матрицу.\\\n",
    "Изменится ли качество линейной регрессии? (Её можно обучить заново.)\\\n",
    "a. Изменится. Приведите примеры матриц.\\\n",
    "b. Не изменится. Укажите, как связаны параметры линейной регрессии в исходной задаче и в преобразованной."
   ]
  },
  {
   "cell_type": "markdown",
   "metadata": {},
   "source": [
    "### **Ответ:** Не изменится.\n",
    "\n",
    "### **Обоснование:**\n",
    "Допустим $Z$ - обратимая матрица, сгенерированная функцией numpy.random.normal().\n",
    "\n",
    "Вспомним, что данная матрица $Z$ при умножении на обратную даст единичную матрицу:\n",
    "\n",
    "$$\n",
    "ZZ^{-1}=E\n",
    "$$\n",
    "\n",
    "При умножении единичной матрицы на любую матрицу мы получим эту же матрицу:\n",
    "\n",
    "$$\n",
    "EA=AE=A\n",
    "$$\n",
    "\n",
    "Домножим матрицу признаков $X$ на обратимую матрицу $Z$.\n",
    "Размерности матриц должны быть согласованы, чтобы умножение получилось: ширина первой матрицы должна быть равна длине второй.\n",
    "\n",
    "Размерность матрицы признаков $X_{ij}$ (4847, 5), размерность матрицы $Z_{jr}$ тогда должна быть (5,r),где r - может быть любой размерности.\n",
    "\n",
    "$$\n",
    "M=XZ\n",
    "$$\n",
    "\n",
    "Предсказание:\n",
    "\n",
    "$$\n",
    "a = Mw\n",
    "$$\n",
    "\n",
    "Формула обучения:\n",
    "\n",
    "$$\n",
    "w = (M^T M)^{-1} M^T y\n",
    "$$\n",
    "\n",
    "Разделим формулу предсказания на M:\n",
    "\n",
    "$$\n",
    "w = a/M\n",
    "$$\n",
    "\n",
    "Подставим в формулу обучения:\n",
    "\n",
    "$$\n",
    "{a\\over M} = (M^T M)^{-1} M^T y\n",
    "$$\n",
    "\n",
    "Домножим формулу обучения на M:\n",
    "\n",
    "$$\n",
    "a = M(M^T M)^{-1} M^T y\n",
    "$$\n",
    "\n",
    "Подставим в формулу обучения уравнение $M = XZ$:\n",
    "\n",
    "$$\n",
    "a = XZ((XZ)^T XZ)^{-1} (XZ)^T y\n",
    "$$\n",
    "\n",
    "\n",
    "Погуглив свойства обратных матриц впоминаем, что:\n",
    "\n",
    "$$\n",
    "(A \\cdot B)^{-1} = B^{-1} \\cdot A^{-1}\n",
    "$$"
   ]
  },
  {
   "cell_type": "markdown",
   "metadata": {},
   "source": [
    "Подставим в формулу обучения уравнение $M = XZ$:\n",
    "\n",
    "$$\n",
    "a = XZ((XZ)^T XZ)^{-1} (XZ)^T y\n",
    "$$\n",
    "\n",
    "Применим правило: \n",
    "$$\n",
    "(AB)^T = B^T A^T\n",
    "$$\n",
    "\n",
    "Раскромем сперва $(XZ)^T$\n",
    "$$\n",
    "a = XZ(Z^T(X^T_{4x5000}X_{5000x4})_{4x4}Z)^{-1} (XZ)^T y\n",
    "$$\n",
    "\n",
    "Смотрим свойство обратных матриц:\n",
    "$$\n",
    "(ABC)^{-1} = C^{-1}(AB)^{-1} = (BC)^{-1}A^{-1} = C^{-1}B^{-1}A^{-1}\n",
    "$$\n",
    "\n",
    "Применим и получим:\n",
    "$$\n",
    "a = XZ Z^{-1} (X^T X)^{-1} (Z^T)^{-1} (XZ)^T y\n",
    "$$\n",
    "\n",
    "Применим:\n",
    "$$\n",
    "(AB)^T = B^T A^T\n",
    "$$\n",
    "\n",
    "\n",
    "И раскроем $(XZ)^T$:\n",
    "$$\n",
    "a = XZ Z^{-1} (X^T X)^{-1} (Z^T)^{-1} Z^T X^T y\n",
    "$$\n",
    "\n",
    "Видим, что у нас $Z Z^{-1} = E$, и $(Z^T)^{-1} Z^T = E$:\n",
    "\n",
    "$$\n",
    "a = XE (X^T X)^{-1} E X^T y\n",
    "$$\n",
    "\n",
    "Единичные матрицы можно сократить:\n",
    "\n",
    "$$\n",
    "a = X (X^T X)^{-1} X^T y\n",
    "$$\n",
    "\n",
    "Готово\n",
    "$$\n",
    "a = X w\n",
    "$$"
   ]
  },
  {
   "cell_type": "markdown",
   "metadata": {},
   "source": [
    "Получается домножая на матрицу признаков на обратимую значение предсказания останется прежним."
   ]
  },
  {
   "cell_type": "markdown",
   "metadata": {},
   "source": [
    "## Алгоритм преобразования"
   ]
  },
  {
   "cell_type": "markdown",
   "metadata": {},
   "source": [
    "### **Алгоритм**\n",
    "\n",
    "- Сгенерируем случайную матрицу Z с помощью numpy.random.normal().\n",
    "- Проверим Z на обратимость numpy.linalg.inv()\n",
    "- Домножим признаки на Z и сохраним в новую перемеенную.\n",
    "- Запустим линейную регрессию на новых данных."
   ]
  },
  {
   "cell_type": "markdown",
   "metadata": {},
   "source": [
    "###  **Обоснование**\n",
    "\n",
    "Домножим матрицу признаков $X$ на обратимую матрицу $Z$.\n",
    "Размерности матриц должны быть согласованы, чтобы умножение получилось: ширина первой матрицы должна быть равна длине второй.\n",
    "\n",
    "Размерность матрицы признаков $X_{ij}$ (4847, 5), размерность матрицы $Z_{jr}$ тогда должна быть (5,r),где r должно равняться j потому что обратная матрица может быть получена только для квадратной невырожденной матрицы.\n"
   ]
  },
  {
   "cell_type": "markdown",
   "metadata": {},
   "source": [
    "## Проверка алгоритма"
   ]
  },
  {
   "cell_type": "markdown",
   "metadata": {},
   "source": [
    "### Подготовим данные, разобъём на выборки"
   ]
  },
  {
   "cell_type": "code",
   "execution_count": 16,
   "metadata": {},
   "outputs": [],
   "source": [
    "features = df.drop(columns='target0')\n",
    "target = df['target0']"
   ]
  },
  {
   "cell_type": "code",
   "execution_count": 17,
   "metadata": {},
   "outputs": [],
   "source": [
    "features_train, features_test, target_train, target_test = train_test_split(\n",
    "    features, target, test_size=0.25, random_state=12345)"
   ]
  },
  {
   "cell_type": "markdown",
   "metadata": {},
   "source": [
    "### Функция преобразования матрицы признаков"
   ]
  },
  {
   "cell_type": "code",
   "execution_count": 18,
   "metadata": {},
   "outputs": [],
   "source": [
    "def obfuscation(features):\n",
    "    j = features.shape[1]\n",
    "    np.random.seed(12345)\n",
    "    z = np.random.randint(1, 40, size=(j, j))\n",
    "    print('Сгенерированная матрица Z')\n",
    "    display(z)\n",
    "    flag = 1\n",
    "    while flag:\n",
    "        try:\n",
    "            np.linalg.inv(z)\n",
    "            flag = 0\n",
    "        except:\n",
    "            print('reversibility test failed')\n",
    "            flag = 1\n",
    "    result = features @ z\n",
    "    print('Преобразованная матрица:')\n",
    "    display(result)\n",
    "    return result"
   ]
  },
  {
   "cell_type": "markdown",
   "metadata": {},
   "source": [
    "### Обучим модель линейной регрессии\n",
    "#### Без преобразования."
   ]
  },
  {
   "cell_type": "code",
   "execution_count": 19,
   "metadata": {},
   "outputs": [
    {
     "name": "stdout",
     "output_type": "stream",
     "text": [
      "R2 score: 0.42307727492147584\n",
      "CPU times: user 6.13 ms, sys: 610 µs, total: 6.74 ms\n",
      "Wall time: 6.31 ms\n"
     ]
    }
   ],
   "source": [
    "%%time\n",
    "model = LinearRegression()\n",
    "model.fit(features_train, target_train)\n",
    "predicted = model.predict(features_test)\n",
    "score = r2_score(target_test, predicted)\n",
    "print(f'R2 score: {score}')"
   ]
  },
  {
   "cell_type": "markdown",
   "metadata": {},
   "source": [
    "#### C преобразованием."
   ]
  },
  {
   "cell_type": "code",
   "execution_count": 20,
   "metadata": {
    "scrolled": false
   },
   "outputs": [
    {
     "name": "stdout",
     "output_type": "stream",
     "text": [
      "Сгенерированная матрица Z\n"
     ]
    },
    {
     "data": {
      "text/plain": [
       "array([[35, 38, 30,  2],\n",
       "       [37, 38, 35, 30],\n",
       "       [ 2, 15, 28, 17],\n",
       "       [10, 12, 14, 11]])"
      ]
     },
     "metadata": {},
     "output_type": "display_data"
    },
    {
     "name": "stdout",
     "output_type": "stream",
     "text": [
      "Преобразованная матрица:\n"
     ]
    },
    {
     "data": {
      "text/html": [
       "<div>\n",
       "<style scoped>\n",
       "    .dataframe tbody tr th:only-of-type {\n",
       "        vertical-align: middle;\n",
       "    }\n",
       "\n",
       "    .dataframe tbody tr th {\n",
       "        vertical-align: top;\n",
       "    }\n",
       "\n",
       "    .dataframe thead th {\n",
       "        text-align: right;\n",
       "    }\n",
       "</style>\n",
       "<table border=\"1\" class=\"dataframe\">\n",
       "  <thead>\n",
       "    <tr style=\"text-align: right;\">\n",
       "      <th></th>\n",
       "      <th>0</th>\n",
       "      <th>1</th>\n",
       "      <th>2</th>\n",
       "      <th>3</th>\n",
       "    </tr>\n",
       "  </thead>\n",
       "  <tbody>\n",
       "    <tr>\n",
       "      <th>0</th>\n",
       "      <td>100762.0</td>\n",
       "      <td>745608.0</td>\n",
       "      <td>1390279.0</td>\n",
       "      <td>844443.0</td>\n",
       "    </tr>\n",
       "    <tr>\n",
       "      <th>1</th>\n",
       "      <td>77712.0</td>\n",
       "      <td>571760.0</td>\n",
       "      <td>1065624.0</td>\n",
       "      <td>647391.0</td>\n",
       "    </tr>\n",
       "    <tr>\n",
       "      <th>2</th>\n",
       "      <td>43073.0</td>\n",
       "      <td>316102.0</td>\n",
       "      <td>589015.0</td>\n",
       "      <td>357870.0</td>\n",
       "    </tr>\n",
       "    <tr>\n",
       "      <th>3</th>\n",
       "      <td>84197.0</td>\n",
       "      <td>626322.0</td>\n",
       "      <td>1168363.0</td>\n",
       "      <td>709552.0</td>\n",
       "    </tr>\n",
       "    <tr>\n",
       "      <th>4</th>\n",
       "      <td>53271.0</td>\n",
       "      <td>392602.0</td>\n",
       "      <td>731810.0</td>\n",
       "      <td>444542.0</td>\n",
       "    </tr>\n",
       "    <tr>\n",
       "      <th>...</th>\n",
       "      <td>...</td>\n",
       "      <td>...</td>\n",
       "      <td>...</td>\n",
       "      <td>...</td>\n",
       "    </tr>\n",
       "    <tr>\n",
       "      <th>4842</th>\n",
       "      <td>72456.0</td>\n",
       "      <td>536588.0</td>\n",
       "      <td>1000608.0</td>\n",
       "      <td>607762.0</td>\n",
       "    </tr>\n",
       "    <tr>\n",
       "      <th>4843</th>\n",
       "      <td>106068.0</td>\n",
       "      <td>787304.0</td>\n",
       "      <td>1468404.0</td>\n",
       "      <td>891831.0</td>\n",
       "    </tr>\n",
       "    <tr>\n",
       "      <th>4844</th>\n",
       "      <td>68560.0</td>\n",
       "      <td>509284.0</td>\n",
       "      <td>949928.0</td>\n",
       "      <td>576922.0</td>\n",
       "    </tr>\n",
       "    <tr>\n",
       "      <th>4845</th>\n",
       "      <td>66279.0</td>\n",
       "      <td>491410.0</td>\n",
       "      <td>916442.0</td>\n",
       "      <td>556595.0</td>\n",
       "    </tr>\n",
       "    <tr>\n",
       "      <th>4846</th>\n",
       "      <td>82281.0</td>\n",
       "      <td>610114.0</td>\n",
       "      <td>1137824.0</td>\n",
       "      <td>691053.0</td>\n",
       "    </tr>\n",
       "  </tbody>\n",
       "</table>\n",
       "<p>4847 rows × 4 columns</p>\n",
       "</div>"
      ],
      "text/plain": [
       "             0         1          2         3\n",
       "0     100762.0  745608.0  1390279.0  844443.0\n",
       "1      77712.0  571760.0  1065624.0  647391.0\n",
       "2      43073.0  316102.0   589015.0  357870.0\n",
       "3      84197.0  626322.0  1168363.0  709552.0\n",
       "4      53271.0  392602.0   731810.0  444542.0\n",
       "...        ...       ...        ...       ...\n",
       "4842   72456.0  536588.0  1000608.0  607762.0\n",
       "4843  106068.0  787304.0  1468404.0  891831.0\n",
       "4844   68560.0  509284.0   949928.0  576922.0\n",
       "4845   66279.0  491410.0   916442.0  556595.0\n",
       "4846   82281.0  610114.0  1137824.0  691053.0\n",
       "\n",
       "[4847 rows x 4 columns]"
      ]
     },
     "metadata": {},
     "output_type": "display_data"
    }
   ],
   "source": [
    "obfuscated_features = obfuscation(features)"
   ]
  },
  {
   "cell_type": "markdown",
   "metadata": {},
   "source": [
    "Снова разобъём на выборки."
   ]
  },
  {
   "cell_type": "code",
   "execution_count": 21,
   "metadata": {},
   "outputs": [],
   "source": [
    "features_train, features_test, target_train, target_test = train_test_split(\n",
    "    obfuscated_features, target, test_size=0.25, random_state=12345)"
   ]
  },
  {
   "cell_type": "code",
   "execution_count": 22,
   "metadata": {
    "scrolled": true
   },
   "outputs": [
    {
     "name": "stdout",
     "output_type": "stream",
     "text": [
      "R2 score: 0.4230772749197558\n",
      "CPU times: user 11.3 ms, sys: 3.77 ms, total: 15.1 ms\n",
      "Wall time: 7.32 ms\n"
     ]
    }
   ],
   "source": [
    "%%time\n",
    "model = LinearRegression()\n",
    "model.fit(features_train, target_train)\n",
    "predicted = model.predict(features_test)\n",
    "score = r2_score(target_test, predicted)\n",
    "print(f'R2 score: {score}')"
   ]
  },
  {
   "cell_type": "markdown",
   "metadata": {},
   "source": [
    "| Случай      | R2 |\n",
    "| ----------- | ----------- |\n",
    "| Без преобразования | 0.42307727492147584 |\n",
    "| С преобразованием  | 0.4230772749197558 |\n",
    "\n",
    " До 12 знака всё совпадает. Остальное можно считать погрешностью вычислений."
   ]
  },
  {
   "cell_type": "markdown",
   "metadata": {},
   "source": [
    "### Вывод\n",
    "Теперь мы знаем отличный способ шифрования признаков без влияния на качество обучения модели."
   ]
  },
  {
   "cell_type": "markdown",
   "metadata": {},
   "source": [
    "## Чек-лист проверки"
   ]
  },
  {
   "cell_type": "markdown",
   "metadata": {},
   "source": [
    "Поставьте 'x' в выполненных пунктах. Далее нажмите Shift+Enter."
   ]
  },
  {
   "cell_type": "markdown",
   "metadata": {},
   "source": [
    "- [x]  Jupyter Notebook открыт\n",
    "- [x]  Весь код выполняется без ошибок\n",
    "- [x]  Ячейки с кодом расположены в порядке исполнения\n",
    "- [x]  Выполнен шаг 1: данные загружены\n",
    "- [x]  Выполнен шаг 2: получен ответ на вопрос об умножении матриц\n",
    "    - [x]  Указан правильный вариант ответа\n",
    "    - [x]  Вариант обоснован\n",
    "- [x]  Выполнен шаг 3: предложен алгоритм преобразования\n",
    "    - [x]  Алгоритм описан\n",
    "    - [x]  Алгоритм обоснован\n",
    "- [x]  Выполнен шаг 4: алгоритм проверен\n",
    "    - [x]  Алгоритм реализован\n",
    "    - [x]  Проведено сравнение качества моделей до и после преобразования"
   ]
  }
 ],
 "metadata": {
  "ExecuteTimeLog": [
   {
    "duration": 57,
    "start_time": "2022-09-13T12:10:21.121Z"
   },
   {
    "duration": 371,
    "start_time": "2022-09-13T12:10:23.250Z"
   },
   {
    "duration": 120,
    "start_time": "2022-09-13T12:10:23.624Z"
   },
   {
    "duration": 18,
    "start_time": "2022-09-13T12:10:23.745Z"
   },
   {
    "duration": 10,
    "start_time": "2022-09-13T12:12:50.880Z"
   },
   {
    "duration": 43,
    "start_time": "2022-09-14T08:48:13.772Z"
   },
   {
    "duration": 742,
    "start_time": "2022-09-14T08:48:18.193Z"
   },
   {
    "duration": 2,
    "start_time": "2022-09-14T08:48:18.937Z"
   },
   {
    "duration": 128,
    "start_time": "2022-09-14T08:48:18.941Z"
   },
   {
    "duration": 11,
    "start_time": "2022-09-14T08:48:19.071Z"
   },
   {
    "duration": 11,
    "start_time": "2022-09-14T08:48:19.084Z"
   },
   {
    "duration": 11,
    "start_time": "2022-09-14T08:48:20.699Z"
   },
   {
    "duration": 6,
    "start_time": "2022-09-14T08:48:21.013Z"
   },
   {
    "duration": 6,
    "start_time": "2022-09-14T08:48:39.174Z"
   },
   {
    "duration": 6,
    "start_time": "2022-09-14T08:48:44.214Z"
   },
   {
    "duration": 6,
    "start_time": "2022-09-14T08:48:54.677Z"
   },
   {
    "duration": 5,
    "start_time": "2022-09-14T08:48:57.708Z"
   },
   {
    "duration": 33,
    "start_time": "2022-09-14T08:49:16.009Z"
   },
   {
    "duration": 13,
    "start_time": "2022-09-14T08:49:33.219Z"
   },
   {
    "duration": 15,
    "start_time": "2022-09-14T08:49:54.868Z"
   },
   {
    "duration": 7,
    "start_time": "2022-09-14T08:51:58.684Z"
   },
   {
    "duration": 81,
    "start_time": "2022-09-15T08:23:40.925Z"
   },
   {
    "duration": 0,
    "start_time": "2022-09-15T08:23:41.008Z"
   },
   {
    "duration": 0,
    "start_time": "2022-09-15T08:23:41.009Z"
   },
   {
    "duration": 0,
    "start_time": "2022-09-15T08:23:41.010Z"
   },
   {
    "duration": 0,
    "start_time": "2022-09-15T08:23:41.012Z"
   },
   {
    "duration": 0,
    "start_time": "2022-09-15T08:23:41.013Z"
   },
   {
    "duration": 0,
    "start_time": "2022-09-15T08:23:41.015Z"
   },
   {
    "duration": 0,
    "start_time": "2022-09-15T08:23:41.016Z"
   },
   {
    "duration": 0,
    "start_time": "2022-09-15T08:23:41.021Z"
   },
   {
    "duration": 0,
    "start_time": "2022-09-15T08:23:41.023Z"
   },
   {
    "duration": 0,
    "start_time": "2022-09-15T08:23:41.024Z"
   },
   {
    "duration": 739,
    "start_time": "2022-09-15T08:23:57.349Z"
   },
   {
    "duration": 3,
    "start_time": "2022-09-15T08:23:58.090Z"
   },
   {
    "duration": 100,
    "start_time": "2022-09-15T08:23:58.094Z"
   },
   {
    "duration": 10,
    "start_time": "2022-09-15T08:23:58.196Z"
   },
   {
    "duration": 10,
    "start_time": "2022-09-15T08:23:58.209Z"
   },
   {
    "duration": 5,
    "start_time": "2022-09-15T08:23:58.221Z"
   },
   {
    "duration": 22,
    "start_time": "2022-09-15T08:23:58.228Z"
   },
   {
    "duration": 7,
    "start_time": "2022-09-15T08:23:58.252Z"
   },
   {
    "duration": 100,
    "start_time": "2022-09-15T08:23:58.261Z"
   },
   {
    "duration": 0,
    "start_time": "2022-09-15T08:23:58.363Z"
   },
   {
    "duration": 396,
    "start_time": "2022-09-15T08:24:19.203Z"
   },
   {
    "duration": 409,
    "start_time": "2022-09-15T08:24:50.336Z"
   },
   {
    "duration": 466,
    "start_time": "2022-09-15T08:25:28.460Z"
   },
   {
    "duration": 526,
    "start_time": "2022-09-15T08:25:55.064Z"
   },
   {
    "duration": 631,
    "start_time": "2022-09-15T08:26:04.271Z"
   },
   {
    "duration": 478,
    "start_time": "2022-09-15T08:26:29.208Z"
   },
   {
    "duration": 21,
    "start_time": "2022-09-15T08:26:41.116Z"
   },
   {
    "duration": 4,
    "start_time": "2022-09-15T08:32:35.676Z"
   },
   {
    "duration": 24,
    "start_time": "2022-09-15T08:38:13.926Z"
   },
   {
    "duration": 12,
    "start_time": "2022-09-15T08:38:23.474Z"
   },
   {
    "duration": 6,
    "start_time": "2022-09-15T08:38:46.794Z"
   },
   {
    "duration": 6,
    "start_time": "2022-09-15T08:39:06.150Z"
   },
   {
    "duration": 9,
    "start_time": "2022-09-15T08:39:13.978Z"
   },
   {
    "duration": 7,
    "start_time": "2022-09-15T08:39:18.669Z"
   },
   {
    "duration": 14,
    "start_time": "2022-09-15T08:39:25.753Z"
   },
   {
    "duration": 70,
    "start_time": "2022-09-15T08:39:45.745Z"
   },
   {
    "duration": 6,
    "start_time": "2022-09-15T08:40:04.737Z"
   },
   {
    "duration": 5,
    "start_time": "2022-09-15T08:40:16.849Z"
   },
   {
    "duration": 4,
    "start_time": "2022-09-15T08:40:21.112Z"
   },
   {
    "duration": 9,
    "start_time": "2022-09-15T08:40:31.417Z"
   },
   {
    "duration": 8,
    "start_time": "2022-09-15T08:40:34.081Z"
   },
   {
    "duration": 8,
    "start_time": "2022-09-15T08:40:49.173Z"
   },
   {
    "duration": 7,
    "start_time": "2022-09-15T08:41:21.217Z"
   },
   {
    "duration": 7,
    "start_time": "2022-09-15T08:41:50.813Z"
   },
   {
    "duration": 6,
    "start_time": "2022-09-15T08:42:09.888Z"
   },
   {
    "duration": 6,
    "start_time": "2022-09-15T08:42:35.899Z"
   },
   {
    "duration": 5,
    "start_time": "2022-09-15T08:42:46.427Z"
   },
   {
    "duration": 231,
    "start_time": "2022-09-15T08:42:52.981Z"
   },
   {
    "duration": 11,
    "start_time": "2022-09-15T08:43:04.143Z"
   },
   {
    "duration": 4,
    "start_time": "2022-09-15T08:43:06.113Z"
   },
   {
    "duration": 10,
    "start_time": "2022-09-15T08:43:09.178Z"
   },
   {
    "duration": 5,
    "start_time": "2022-09-15T08:43:48.057Z"
   },
   {
    "duration": 3,
    "start_time": "2022-09-15T08:43:57.749Z"
   },
   {
    "duration": 9,
    "start_time": "2022-09-15T08:43:59.482Z"
   },
   {
    "duration": 51,
    "start_time": "2022-09-15T08:44:32.753Z"
   },
   {
    "duration": 6,
    "start_time": "2022-09-15T08:44:41.325Z"
   },
   {
    "duration": 3,
    "start_time": "2022-09-15T08:46:53.661Z"
   },
   {
    "duration": 4,
    "start_time": "2022-09-15T08:46:54.053Z"
   },
   {
    "duration": 5,
    "start_time": "2022-09-15T08:46:55.926Z"
   },
   {
    "duration": 10,
    "start_time": "2022-09-15T08:46:58.188Z"
   },
   {
    "duration": 5,
    "start_time": "2022-09-15T08:47:29.882Z"
   },
   {
    "duration": 3,
    "start_time": "2022-09-15T09:08:51.776Z"
   },
   {
    "duration": 7,
    "start_time": "2022-09-15T09:10:53.390Z"
   },
   {
    "duration": 8,
    "start_time": "2022-09-15T09:11:43.305Z"
   },
   {
    "duration": 7,
    "start_time": "2022-09-15T09:11:48.352Z"
   },
   {
    "duration": 9,
    "start_time": "2022-09-15T09:12:08.739Z"
   },
   {
    "duration": 4,
    "start_time": "2022-09-15T09:12:13.798Z"
   },
   {
    "duration": 4,
    "start_time": "2022-09-15T09:12:23.754Z"
   },
   {
    "duration": 5,
    "start_time": "2022-09-15T09:12:24.464Z"
   },
   {
    "duration": 60,
    "start_time": "2022-09-15T09:39:46.607Z"
   },
   {
    "duration": 74,
    "start_time": "2022-09-15T09:44:35.739Z"
   },
   {
    "duration": 4,
    "start_time": "2022-09-15T09:44:38.945Z"
   },
   {
    "duration": 66,
    "start_time": "2022-09-15T10:01:36.509Z"
   },
   {
    "duration": 100,
    "start_time": "2022-09-15T10:02:43.619Z"
   },
   {
    "duration": 64,
    "start_time": "2022-09-15T10:45:52.095Z"
   },
   {
    "duration": 341,
    "start_time": "2022-09-15T12:25:36.973Z"
   },
   {
    "duration": 4,
    "start_time": "2022-09-15T14:12:07.291Z"
   },
   {
    "duration": 10,
    "start_time": "2022-09-15T14:12:22.651Z"
   },
   {
    "duration": 5,
    "start_time": "2022-09-15T14:12:25.481Z"
   },
   {
    "duration": 7,
    "start_time": "2022-09-15T14:12:55.634Z"
   },
   {
    "duration": 51,
    "start_time": "2022-09-15T14:13:14.934Z"
   },
   {
    "duration": 0,
    "start_time": "2022-09-15T14:13:14.988Z"
   },
   {
    "duration": 0,
    "start_time": "2022-09-15T14:13:14.989Z"
   },
   {
    "duration": 0,
    "start_time": "2022-09-15T14:13:14.990Z"
   },
   {
    "duration": 0,
    "start_time": "2022-09-15T14:13:14.992Z"
   },
   {
    "duration": 0,
    "start_time": "2022-09-15T14:13:14.993Z"
   },
   {
    "duration": 0,
    "start_time": "2022-09-15T14:13:14.994Z"
   },
   {
    "duration": 0,
    "start_time": "2022-09-15T14:13:14.996Z"
   },
   {
    "duration": 0,
    "start_time": "2022-09-15T14:13:14.997Z"
   },
   {
    "duration": 0,
    "start_time": "2022-09-15T14:13:14.998Z"
   },
   {
    "duration": 0,
    "start_time": "2022-09-15T14:13:14.999Z"
   },
   {
    "duration": 0,
    "start_time": "2022-09-15T14:13:15.000Z"
   },
   {
    "duration": 0,
    "start_time": "2022-09-15T14:13:15.002Z"
   },
   {
    "duration": 0,
    "start_time": "2022-09-15T14:13:15.003Z"
   },
   {
    "duration": 0,
    "start_time": "2022-09-15T14:13:15.004Z"
   },
   {
    "duration": 0,
    "start_time": "2022-09-15T14:13:15.005Z"
   },
   {
    "duration": 0,
    "start_time": "2022-09-15T14:13:15.006Z"
   },
   {
    "duration": 0,
    "start_time": "2022-09-15T14:13:15.008Z"
   },
   {
    "duration": 3,
    "start_time": "2022-09-15T14:13:21.431Z"
   },
   {
    "duration": 7,
    "start_time": "2022-09-15T14:13:22.162Z"
   },
   {
    "duration": 675,
    "start_time": "2022-09-15T14:14:01.532Z"
   },
   {
    "duration": 3,
    "start_time": "2022-09-15T14:14:02.208Z"
   },
   {
    "duration": 32,
    "start_time": "2022-09-15T14:14:02.212Z"
   },
   {
    "duration": 8,
    "start_time": "2022-09-15T14:14:02.245Z"
   },
   {
    "duration": 528,
    "start_time": "2022-09-15T14:14:02.255Z"
   },
   {
    "duration": 25,
    "start_time": "2022-09-15T14:14:02.785Z"
   },
   {
    "duration": 9,
    "start_time": "2022-09-15T14:14:02.811Z"
   },
   {
    "duration": 6,
    "start_time": "2022-09-15T14:14:02.821Z"
   },
   {
    "duration": 5,
    "start_time": "2022-09-15T14:14:02.829Z"
   },
   {
    "duration": 6,
    "start_time": "2022-09-15T14:14:02.835Z"
   },
   {
    "duration": 36,
    "start_time": "2022-09-15T14:14:02.842Z"
   },
   {
    "duration": 6,
    "start_time": "2022-09-15T14:14:02.880Z"
   },
   {
    "duration": 8,
    "start_time": "2022-09-15T14:14:02.888Z"
   },
   {
    "duration": 11,
    "start_time": "2022-09-15T14:14:02.898Z"
   },
   {
    "duration": 2,
    "start_time": "2022-09-15T14:14:02.911Z"
   },
   {
    "duration": 8,
    "start_time": "2022-09-15T14:14:02.914Z"
   },
   {
    "duration": 5,
    "start_time": "2022-09-15T14:14:02.923Z"
   },
   {
    "duration": 5,
    "start_time": "2022-09-15T14:14:02.929Z"
   },
   {
    "duration": 10,
    "start_time": "2022-09-15T14:14:02.935Z"
   },
   {
    "duration": 1197,
    "start_time": "2022-09-15T14:17:03.840Z"
   },
   {
    "duration": 3,
    "start_time": "2022-09-15T14:17:46.332Z"
   },
   {
    "duration": 4,
    "start_time": "2022-09-15T14:17:46.337Z"
   },
   {
    "duration": 30,
    "start_time": "2022-09-15T14:17:46.343Z"
   },
   {
    "duration": 7,
    "start_time": "2022-09-15T14:17:46.375Z"
   },
   {
    "duration": 505,
    "start_time": "2022-09-15T14:17:46.384Z"
   },
   {
    "duration": 30,
    "start_time": "2022-09-15T14:17:46.891Z"
   },
   {
    "duration": 11,
    "start_time": "2022-09-15T14:17:46.922Z"
   },
   {
    "duration": 7,
    "start_time": "2022-09-15T14:17:46.934Z"
   },
   {
    "duration": 7,
    "start_time": "2022-09-15T14:17:46.942Z"
   },
   {
    "duration": 5,
    "start_time": "2022-09-15T14:17:46.950Z"
   },
   {
    "duration": 10,
    "start_time": "2022-09-15T14:17:46.956Z"
   },
   {
    "duration": 5,
    "start_time": "2022-09-15T14:17:46.967Z"
   },
   {
    "duration": 37,
    "start_time": "2022-09-15T14:17:46.974Z"
   },
   {
    "duration": 6,
    "start_time": "2022-09-15T14:17:47.013Z"
   },
   {
    "duration": 3,
    "start_time": "2022-09-15T14:17:47.020Z"
   },
   {
    "duration": 9,
    "start_time": "2022-09-15T14:17:47.024Z"
   },
   {
    "duration": 6,
    "start_time": "2022-09-15T14:17:47.035Z"
   },
   {
    "duration": 5,
    "start_time": "2022-09-15T14:17:47.043Z"
   },
   {
    "duration": 6,
    "start_time": "2022-09-15T14:17:47.049Z"
   },
   {
    "duration": 132,
    "start_time": "2022-09-15T14:17:47.056Z"
   },
   {
    "duration": 10,
    "start_time": "2022-09-15T14:21:59.941Z"
   },
   {
    "duration": 4,
    "start_time": "2022-09-15T14:27:22.855Z"
   },
   {
    "duration": 3,
    "start_time": "2022-09-15T14:35:25.234Z"
   },
   {
    "duration": 8,
    "start_time": "2022-09-15T14:38:33.957Z"
   },
   {
    "duration": 1283,
    "start_time": "2022-09-15T14:38:39.596Z"
   },
   {
    "duration": 3,
    "start_time": "2022-09-15T14:38:40.880Z"
   },
   {
    "duration": 31,
    "start_time": "2022-09-15T14:38:40.884Z"
   },
   {
    "duration": 11,
    "start_time": "2022-09-15T14:38:40.916Z"
   },
   {
    "duration": 483,
    "start_time": "2022-09-15T14:38:40.929Z"
   },
   {
    "duration": 19,
    "start_time": "2022-09-15T14:38:41.413Z"
   },
   {
    "duration": 11,
    "start_time": "2022-09-15T14:38:41.434Z"
   },
   {
    "duration": 11,
    "start_time": "2022-09-15T14:38:41.446Z"
   },
   {
    "duration": 5,
    "start_time": "2022-09-15T14:38:41.459Z"
   },
   {
    "duration": 5,
    "start_time": "2022-09-15T14:38:41.466Z"
   },
   {
    "duration": 45,
    "start_time": "2022-09-15T14:38:41.472Z"
   },
   {
    "duration": 11,
    "start_time": "2022-09-15T14:38:41.518Z"
   },
   {
    "duration": 6,
    "start_time": "2022-09-15T14:38:41.530Z"
   },
   {
    "duration": 6,
    "start_time": "2022-09-15T14:38:41.538Z"
   },
   {
    "duration": 3,
    "start_time": "2022-09-15T14:38:41.546Z"
   },
   {
    "duration": 13,
    "start_time": "2022-09-15T14:38:41.550Z"
   },
   {
    "duration": 5,
    "start_time": "2022-09-15T14:38:41.565Z"
   },
   {
    "duration": 6,
    "start_time": "2022-09-15T14:38:41.572Z"
   },
   {
    "duration": 30,
    "start_time": "2022-09-15T14:38:41.579Z"
   },
   {
    "duration": 4,
    "start_time": "2022-09-15T14:38:41.612Z"
   },
   {
    "duration": 10,
    "start_time": "2022-09-15T14:38:42.689Z"
   },
   {
    "duration": 17,
    "start_time": "2022-09-15T14:38:45.558Z"
   },
   {
    "duration": 4,
    "start_time": "2022-09-15T14:39:11.619Z"
   },
   {
    "duration": 115,
    "start_time": "2022-09-15T14:39:14.195Z"
   },
   {
    "duration": 3,
    "start_time": "2022-09-15T14:39:30.052Z"
   },
   {
    "duration": 22,
    "start_time": "2022-09-15T14:39:32.040Z"
   },
   {
    "duration": 3,
    "start_time": "2022-09-15T14:40:22.011Z"
   },
   {
    "duration": 3,
    "start_time": "2022-09-15T14:40:22.029Z"
   },
   {
    "duration": 29,
    "start_time": "2022-09-15T14:40:22.033Z"
   },
   {
    "duration": 8,
    "start_time": "2022-09-15T14:40:22.063Z"
   },
   {
    "duration": 483,
    "start_time": "2022-09-15T14:40:22.072Z"
   },
   {
    "duration": 19,
    "start_time": "2022-09-15T14:40:22.557Z"
   },
   {
    "duration": 8,
    "start_time": "2022-09-15T14:40:22.578Z"
   },
   {
    "duration": 24,
    "start_time": "2022-09-15T14:40:22.587Z"
   },
   {
    "duration": 4,
    "start_time": "2022-09-15T14:40:22.613Z"
   },
   {
    "duration": 11,
    "start_time": "2022-09-15T14:40:22.619Z"
   },
   {
    "duration": 5,
    "start_time": "2022-09-15T14:40:22.632Z"
   },
   {
    "duration": 6,
    "start_time": "2022-09-15T14:40:22.638Z"
   },
   {
    "duration": 11,
    "start_time": "2022-09-15T14:40:22.645Z"
   },
   {
    "duration": 9,
    "start_time": "2022-09-15T14:40:22.658Z"
   },
   {
    "duration": 3,
    "start_time": "2022-09-15T14:40:22.670Z"
   },
   {
    "duration": 6,
    "start_time": "2022-09-15T14:40:22.675Z"
   },
   {
    "duration": 6,
    "start_time": "2022-09-15T14:40:22.682Z"
   },
   {
    "duration": 21,
    "start_time": "2022-09-15T14:40:22.689Z"
   },
   {
    "duration": 9,
    "start_time": "2022-09-15T14:40:22.712Z"
   },
   {
    "duration": 19,
    "start_time": "2022-09-15T14:40:24.713Z"
   },
   {
    "duration": 3,
    "start_time": "2022-09-15T14:40:45.100Z"
   },
   {
    "duration": 12,
    "start_time": "2022-09-15T14:40:47.449Z"
   },
   {
    "duration": 4,
    "start_time": "2022-09-15T14:41:34.690Z"
   },
   {
    "duration": 15,
    "start_time": "2022-09-15T14:41:41.744Z"
   },
   {
    "duration": 3,
    "start_time": "2022-09-15T14:43:36.843Z"
   },
   {
    "duration": 8,
    "start_time": "2022-09-15T14:43:39.004Z"
   },
   {
    "duration": 14,
    "start_time": "2022-09-15T14:43:41.385Z"
   },
   {
    "duration": 4,
    "start_time": "2022-09-15T14:44:07.411Z"
   },
   {
    "duration": 17,
    "start_time": "2022-09-15T14:44:09.251Z"
   },
   {
    "duration": 4,
    "start_time": "2022-09-15T14:44:46.710Z"
   },
   {
    "duration": 16,
    "start_time": "2022-09-15T14:44:51.344Z"
   },
   {
    "duration": 399,
    "start_time": "2022-09-15T14:45:18.344Z"
   },
   {
    "duration": 15,
    "start_time": "2022-09-15T14:45:23.047Z"
   },
   {
    "duration": 9,
    "start_time": "2022-09-15T14:45:23.248Z"
   },
   {
    "duration": 227,
    "start_time": "2022-09-15T14:46:14.325Z"
   },
   {
    "duration": 11,
    "start_time": "2022-09-15T14:46:22.124Z"
   },
   {
    "duration": 4,
    "start_time": "2022-09-15T14:46:39.736Z"
   },
   {
    "duration": 175,
    "start_time": "2022-09-15T14:46:40.642Z"
   },
   {
    "duration": 5,
    "start_time": "2022-09-15T14:46:54.641Z"
   },
   {
    "duration": 83,
    "start_time": "2022-09-15T14:46:57.378Z"
   },
   {
    "duration": 15,
    "start_time": "2022-09-15T14:47:00.114Z"
   },
   {
    "duration": 6,
    "start_time": "2022-09-15T14:47:00.440Z"
   },
   {
    "duration": 115,
    "start_time": "2022-09-15T14:47:00.747Z"
   },
   {
    "duration": 11,
    "start_time": "2022-09-15T14:47:21.657Z"
   },
   {
    "duration": 13,
    "start_time": "2022-09-15T14:47:34.370Z"
   },
   {
    "duration": 11,
    "start_time": "2022-09-15T14:47:42.886Z"
   },
   {
    "duration": 10,
    "start_time": "2022-09-15T14:47:48.883Z"
   },
   {
    "duration": 11,
    "start_time": "2022-09-15T14:47:53.708Z"
   },
   {
    "duration": 8,
    "start_time": "2022-09-15T14:48:01.869Z"
   },
   {
    "duration": 3,
    "start_time": "2022-09-15T14:56:53.031Z"
   },
   {
    "duration": 11,
    "start_time": "2022-09-15T14:56:53.036Z"
   },
   {
    "duration": 34,
    "start_time": "2022-09-15T14:56:53.048Z"
   },
   {
    "duration": 7,
    "start_time": "2022-09-15T14:56:53.084Z"
   },
   {
    "duration": 483,
    "start_time": "2022-09-15T14:56:53.092Z"
   },
   {
    "duration": 19,
    "start_time": "2022-09-15T14:56:53.576Z"
   },
   {
    "duration": 16,
    "start_time": "2022-09-15T14:56:53.596Z"
   },
   {
    "duration": 17,
    "start_time": "2022-09-15T14:56:53.613Z"
   },
   {
    "duration": 11,
    "start_time": "2022-09-15T14:56:53.631Z"
   },
   {
    "duration": 30,
    "start_time": "2022-09-15T14:56:53.644Z"
   },
   {
    "duration": 22,
    "start_time": "2022-09-15T14:56:53.675Z"
   },
   {
    "duration": 19,
    "start_time": "2022-09-15T14:56:53.698Z"
   },
   {
    "duration": 23,
    "start_time": "2022-09-15T14:56:53.719Z"
   },
   {
    "duration": 27,
    "start_time": "2022-09-15T14:56:53.744Z"
   },
   {
    "duration": 19,
    "start_time": "2022-09-15T14:56:53.773Z"
   },
   {
    "duration": 17,
    "start_time": "2022-09-15T14:56:53.794Z"
   },
   {
    "duration": 19,
    "start_time": "2022-09-15T14:56:53.812Z"
   },
   {
    "duration": 22,
    "start_time": "2022-09-15T14:56:53.832Z"
   },
   {
    "duration": 28,
    "start_time": "2022-09-15T14:56:53.855Z"
   },
   {
    "duration": 25,
    "start_time": "2022-09-15T14:56:53.884Z"
   },
   {
    "duration": 24,
    "start_time": "2022-09-15T14:56:53.911Z"
   },
   {
    "duration": 78,
    "start_time": "2022-09-15T14:56:53.936Z"
   },
   {
    "duration": 249,
    "start_time": "2022-09-16T09:50:33.191Z"
   },
   {
    "duration": 75,
    "start_time": "2022-09-16T09:54:18.842Z"
   },
   {
    "duration": 87,
    "start_time": "2022-09-16T09:58:30.990Z"
   },
   {
    "duration": 4,
    "start_time": "2022-09-16T10:14:24.110Z"
   },
   {
    "duration": 1522,
    "start_time": "2022-09-16T10:14:34.581Z"
   },
   {
    "duration": 3,
    "start_time": "2022-09-16T10:14:36.105Z"
   },
   {
    "duration": 95,
    "start_time": "2022-09-16T10:14:36.110Z"
   },
   {
    "duration": 14,
    "start_time": "2022-09-16T10:14:36.206Z"
   },
   {
    "duration": 580,
    "start_time": "2022-09-16T10:14:36.224Z"
   },
   {
    "duration": 26,
    "start_time": "2022-09-16T10:14:36.806Z"
   },
   {
    "duration": 25,
    "start_time": "2022-09-16T10:14:36.836Z"
   },
   {
    "duration": 12,
    "start_time": "2022-09-16T10:14:36.863Z"
   },
   {
    "duration": 7,
    "start_time": "2022-09-16T10:14:36.877Z"
   },
   {
    "duration": 9,
    "start_time": "2022-09-16T10:14:36.905Z"
   },
   {
    "duration": 10,
    "start_time": "2022-09-16T10:14:36.916Z"
   },
   {
    "duration": 15,
    "start_time": "2022-09-16T10:14:36.927Z"
   },
   {
    "duration": 4,
    "start_time": "2022-09-16T10:14:36.944Z"
   },
   {
    "duration": 7,
    "start_time": "2022-09-16T10:14:36.951Z"
   },
   {
    "duration": 9,
    "start_time": "2022-09-16T10:14:36.961Z"
   },
   {
    "duration": 16,
    "start_time": "2022-09-16T10:14:36.972Z"
   },
   {
    "duration": 24,
    "start_time": "2022-09-16T10:14:36.990Z"
   },
   {
    "duration": 9,
    "start_time": "2022-09-16T10:14:37.016Z"
   },
   {
    "duration": 13,
    "start_time": "2022-09-16T10:14:37.027Z"
   },
   {
    "duration": 73,
    "start_time": "2022-09-16T10:14:37.042Z"
   },
   {
    "duration": 94,
    "start_time": "2022-09-16T10:14:37.118Z"
   },
   {
    "duration": 16,
    "start_time": "2022-09-16T10:14:37.214Z"
   },
   {
    "duration": 97,
    "start_time": "2022-09-16T10:16:57.158Z"
   },
   {
    "duration": 92,
    "start_time": "2022-09-16T10:17:51.546Z"
   }
  ],
  "kernelspec": {
   "display_name": "Python 3 (ipykernel)",
   "language": "python",
   "name": "python3"
  },
  "language_info": {
   "codemirror_mode": {
    "name": "ipython",
    "version": 3
   },
   "file_extension": ".py",
   "mimetype": "text/x-python",
   "name": "python",
   "nbconvert_exporter": "python",
   "pygments_lexer": "ipython3",
   "version": "3.9.13"
  },
  "toc": {
   "base_numbering": 1,
   "nav_menu": {},
   "number_sections": true,
   "sideBar": true,
   "skip_h1_title": true,
   "title_cell": "Содержание",
   "title_sidebar": "Contents",
   "toc_cell": true,
   "toc_position": {},
   "toc_section_display": true,
   "toc_window_display": true
  }
 },
 "nbformat": 4,
 "nbformat_minor": 2
}
