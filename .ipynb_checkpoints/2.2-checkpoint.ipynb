{
 "cells": [
  {
   "cell_type": "markdown",
   "id": "62340bbb",
   "metadata": {},
   "source": [
    "<div class=\"alert alert-success\">\n",
    "<b>Комментарий ревьюера v 2.0 ✔️:</b> Отлично, Иван! Ты исправил единственный значительный недостаток и теперь твой проект конечно же принят. \n",
    "    \n",
    "Спасибо за работу и успехов в следующих проектах!) </div>"
   ]
  },
  {
   "cell_type": "markdown",
   "id": "62eea78e",
   "metadata": {},
   "source": [
    "<div style=\"border:solid green 2px; padding: 20px\">\n",
    "<b>Привет!</b>\n",
    "\n",
    "Меня зовут Михаленко Дмитрий, и я буду проверять твой проект. Предлагаю общаться на «ты» :) Но если это не удобно - дай знать, и мы перейдем на \"вы\". \n",
    "\n",
    "Моя основная цель — не указать на совершенные тобою ошибки, а поделиться своим опытом и помочь тебе стать аналитиком данных. Ты уже проделал большую работу над проектом, но давай сделаем его еще лучше. Ниже ты найдешь мои комментарии - **пожалуйста, не перемещай, не изменяй и не удаляй их**. Увидев у тебя ошибку, в первый раз я лишь укажу на ее наличие и дам тебе возможность самому найти и исправить ее. На реальной работе твой начальник будет поступать так же, а я пытаюсь подготовить тебя именно к работе аналитиком. Но если ты пока не справишься с такой задачей - при следующей проверке я дам более точную подсказку. Я буду использовать цветовую разметку:\n",
    "\n",
    "<div class=\"alert alert-danger\">\n",
    "<b>Комментарий ревьюера ❌:</b> Так выделены самые важные замечания. Без их отработки проект не будет принят. </div>\n",
    "\n",
    "<div class=\"alert alert-warning\">\n",
    "<b>Комментарий ревьюера ⚠️:</b> Так выделены небольшие замечания. Я надеюсь, что их ты тоже учтешь - твой проект от этого станет только лучше. Но настаивать на их отработке не буду.\n",
    "\n",
    "</div>\n",
    "\n",
    "<div class=\"alert alert-success\">\n",
    "<b>Комментарий ревьюера ✔️:</b> Так я выделяю все остальные комментарии.</div>\n",
    "\n",
    "Давай работать над проектом в диалоге: **если ты что-то меняешь в проекте или отвечаешь на мои комментарии — пиши об этом.** Мне будет легче отследить изменения, если ты выделишь свои комментарии:\n",
    "<div class=\"alert alert-info\"> <b>Комментарий студента:</b> Например, вот так.</div>\n",
    "\n",
    "Всё это поможет выполнить повторную проверку твоего проекта оперативнее."
   ]
  },
  {
   "cell_type": "markdown",
   "id": "c81daeeb",
   "metadata": {
    "deletable": false,
    "id": "c81daeeb"
   },
   "source": [
    "# Исследование надежности заемщиков\n"
   ]
  },
  {
   "cell_type": "markdown",
   "id": "827c20bf",
   "metadata": {
    "id": "827c20bf"
   },
   "source": [
    "Во второй части проекта вы выполните шаги 3 и 4. Их вручную проверит ревьюер.\n",
    "Чтобы вам не пришлось писать код заново для шагов 1 и 2, мы добавили авторские решения в ячейки с кодом. \n",
    "\n"
   ]
  },
  {
   "cell_type": "markdown",
   "id": "744d7639",
   "metadata": {
    "deletable": false,
    "id": "744d7639"
   },
   "source": [
    "## Откройте таблицу и изучите общую информацию о данных"
   ]
  },
  {
   "cell_type": "markdown",
   "id": "e7a14c31",
   "metadata": {
    "deletable": false,
    "id": "e7a14c31"
   },
   "source": [
    "**Задание 1. Импортируйте библиотеку pandas. Считайте данные из csv-файла в датафрейм и сохраните в переменную `data`. Путь к файлу:**\n",
    "\n",
    "`/datasets/data.csv`"
   ]
  },
  {
   "cell_type": "code",
   "execution_count": 2,
   "id": "7bcf75c9",
   "metadata": {
    "deletable": false,
    "id": "7bcf75c9"
   },
   "outputs": [],
   "source": [
    "import pandas as pd\n",
    "\n",
    "try:\n",
    "    data = pd.read_csv('/datasets/data.csv')\n",
    "except:\n",
    "    data = pd.read_csv('https://code.s3.yandex.net/datasets/data.csv')"
   ]
  },
  {
   "cell_type": "markdown",
   "id": "b8038fe3",
   "metadata": {
    "deletable": false,
    "id": "b8038fe3"
   },
   "source": [
    "**Задание 2. Выведите первые 20 строчек датафрейма `data` на экран.**"
   ]
  },
  {
   "cell_type": "code",
   "execution_count": 3,
   "id": "2a7cab99",
   "metadata": {
    "deletable": false,
    "id": "2a7cab99",
    "outputId": "1a8f3ef2-d323-4ec2-ddf7-89670b5944c4"
   },
   "outputs": [
    {
     "data": {
      "text/html": [
       "<div>\n",
       "<style scoped>\n",
       "    .dataframe tbody tr th:only-of-type {\n",
       "        vertical-align: middle;\n",
       "    }\n",
       "\n",
       "    .dataframe tbody tr th {\n",
       "        vertical-align: top;\n",
       "    }\n",
       "\n",
       "    .dataframe thead th {\n",
       "        text-align: right;\n",
       "    }\n",
       "</style>\n",
       "<table border=\"1\" class=\"dataframe\">\n",
       "  <thead>\n",
       "    <tr style=\"text-align: right;\">\n",
       "      <th></th>\n",
       "      <th>children</th>\n",
       "      <th>days_employed</th>\n",
       "      <th>dob_years</th>\n",
       "      <th>education</th>\n",
       "      <th>education_id</th>\n",
       "      <th>family_status</th>\n",
       "      <th>family_status_id</th>\n",
       "      <th>gender</th>\n",
       "      <th>income_type</th>\n",
       "      <th>debt</th>\n",
       "      <th>total_income</th>\n",
       "      <th>purpose</th>\n",
       "    </tr>\n",
       "  </thead>\n",
       "  <tbody>\n",
       "    <tr>\n",
       "      <th>0</th>\n",
       "      <td>1</td>\n",
       "      <td>-8437.673028</td>\n",
       "      <td>42</td>\n",
       "      <td>высшее</td>\n",
       "      <td>0</td>\n",
       "      <td>женат / замужем</td>\n",
       "      <td>0</td>\n",
       "      <td>F</td>\n",
       "      <td>сотрудник</td>\n",
       "      <td>0</td>\n",
       "      <td>253875.639453</td>\n",
       "      <td>покупка жилья</td>\n",
       "    </tr>\n",
       "    <tr>\n",
       "      <th>1</th>\n",
       "      <td>1</td>\n",
       "      <td>-4024.803754</td>\n",
       "      <td>36</td>\n",
       "      <td>среднее</td>\n",
       "      <td>1</td>\n",
       "      <td>женат / замужем</td>\n",
       "      <td>0</td>\n",
       "      <td>F</td>\n",
       "      <td>сотрудник</td>\n",
       "      <td>0</td>\n",
       "      <td>112080.014102</td>\n",
       "      <td>приобретение автомобиля</td>\n",
       "    </tr>\n",
       "    <tr>\n",
       "      <th>2</th>\n",
       "      <td>0</td>\n",
       "      <td>-5623.422610</td>\n",
       "      <td>33</td>\n",
       "      <td>Среднее</td>\n",
       "      <td>1</td>\n",
       "      <td>женат / замужем</td>\n",
       "      <td>0</td>\n",
       "      <td>M</td>\n",
       "      <td>сотрудник</td>\n",
       "      <td>0</td>\n",
       "      <td>145885.952297</td>\n",
       "      <td>покупка жилья</td>\n",
       "    </tr>\n",
       "    <tr>\n",
       "      <th>3</th>\n",
       "      <td>3</td>\n",
       "      <td>-4124.747207</td>\n",
       "      <td>32</td>\n",
       "      <td>среднее</td>\n",
       "      <td>1</td>\n",
       "      <td>женат / замужем</td>\n",
       "      <td>0</td>\n",
       "      <td>M</td>\n",
       "      <td>сотрудник</td>\n",
       "      <td>0</td>\n",
       "      <td>267628.550329</td>\n",
       "      <td>дополнительное образование</td>\n",
       "    </tr>\n",
       "    <tr>\n",
       "      <th>4</th>\n",
       "      <td>0</td>\n",
       "      <td>340266.072047</td>\n",
       "      <td>53</td>\n",
       "      <td>среднее</td>\n",
       "      <td>1</td>\n",
       "      <td>гражданский брак</td>\n",
       "      <td>1</td>\n",
       "      <td>F</td>\n",
       "      <td>пенсионер</td>\n",
       "      <td>0</td>\n",
       "      <td>158616.077870</td>\n",
       "      <td>сыграть свадьбу</td>\n",
       "    </tr>\n",
       "    <tr>\n",
       "      <th>5</th>\n",
       "      <td>0</td>\n",
       "      <td>-926.185831</td>\n",
       "      <td>27</td>\n",
       "      <td>высшее</td>\n",
       "      <td>0</td>\n",
       "      <td>гражданский брак</td>\n",
       "      <td>1</td>\n",
       "      <td>M</td>\n",
       "      <td>компаньон</td>\n",
       "      <td>0</td>\n",
       "      <td>255763.565419</td>\n",
       "      <td>покупка жилья</td>\n",
       "    </tr>\n",
       "    <tr>\n",
       "      <th>6</th>\n",
       "      <td>0</td>\n",
       "      <td>-2879.202052</td>\n",
       "      <td>43</td>\n",
       "      <td>высшее</td>\n",
       "      <td>0</td>\n",
       "      <td>женат / замужем</td>\n",
       "      <td>0</td>\n",
       "      <td>F</td>\n",
       "      <td>компаньон</td>\n",
       "      <td>0</td>\n",
       "      <td>240525.971920</td>\n",
       "      <td>операции с жильем</td>\n",
       "    </tr>\n",
       "    <tr>\n",
       "      <th>7</th>\n",
       "      <td>0</td>\n",
       "      <td>-152.779569</td>\n",
       "      <td>50</td>\n",
       "      <td>СРЕДНЕЕ</td>\n",
       "      <td>1</td>\n",
       "      <td>женат / замужем</td>\n",
       "      <td>0</td>\n",
       "      <td>M</td>\n",
       "      <td>сотрудник</td>\n",
       "      <td>0</td>\n",
       "      <td>135823.934197</td>\n",
       "      <td>образование</td>\n",
       "    </tr>\n",
       "    <tr>\n",
       "      <th>8</th>\n",
       "      <td>2</td>\n",
       "      <td>-6929.865299</td>\n",
       "      <td>35</td>\n",
       "      <td>ВЫСШЕЕ</td>\n",
       "      <td>0</td>\n",
       "      <td>гражданский брак</td>\n",
       "      <td>1</td>\n",
       "      <td>F</td>\n",
       "      <td>сотрудник</td>\n",
       "      <td>0</td>\n",
       "      <td>95856.832424</td>\n",
       "      <td>на проведение свадьбы</td>\n",
       "    </tr>\n",
       "    <tr>\n",
       "      <th>9</th>\n",
       "      <td>0</td>\n",
       "      <td>-2188.756445</td>\n",
       "      <td>41</td>\n",
       "      <td>среднее</td>\n",
       "      <td>1</td>\n",
       "      <td>женат / замужем</td>\n",
       "      <td>0</td>\n",
       "      <td>M</td>\n",
       "      <td>сотрудник</td>\n",
       "      <td>0</td>\n",
       "      <td>144425.938277</td>\n",
       "      <td>покупка жилья для семьи</td>\n",
       "    </tr>\n",
       "    <tr>\n",
       "      <th>10</th>\n",
       "      <td>2</td>\n",
       "      <td>-4171.483647</td>\n",
       "      <td>36</td>\n",
       "      <td>высшее</td>\n",
       "      <td>0</td>\n",
       "      <td>женат / замужем</td>\n",
       "      <td>0</td>\n",
       "      <td>M</td>\n",
       "      <td>компаньон</td>\n",
       "      <td>0</td>\n",
       "      <td>113943.491460</td>\n",
       "      <td>покупка недвижимости</td>\n",
       "    </tr>\n",
       "    <tr>\n",
       "      <th>11</th>\n",
       "      <td>0</td>\n",
       "      <td>-792.701887</td>\n",
       "      <td>40</td>\n",
       "      <td>среднее</td>\n",
       "      <td>1</td>\n",
       "      <td>женат / замужем</td>\n",
       "      <td>0</td>\n",
       "      <td>F</td>\n",
       "      <td>сотрудник</td>\n",
       "      <td>0</td>\n",
       "      <td>77069.234271</td>\n",
       "      <td>покупка коммерческой недвижимости</td>\n",
       "    </tr>\n",
       "    <tr>\n",
       "      <th>12</th>\n",
       "      <td>0</td>\n",
       "      <td>NaN</td>\n",
       "      <td>65</td>\n",
       "      <td>среднее</td>\n",
       "      <td>1</td>\n",
       "      <td>гражданский брак</td>\n",
       "      <td>1</td>\n",
       "      <td>M</td>\n",
       "      <td>пенсионер</td>\n",
       "      <td>0</td>\n",
       "      <td>NaN</td>\n",
       "      <td>сыграть свадьбу</td>\n",
       "    </tr>\n",
       "    <tr>\n",
       "      <th>13</th>\n",
       "      <td>0</td>\n",
       "      <td>-1846.641941</td>\n",
       "      <td>54</td>\n",
       "      <td>неоконченное высшее</td>\n",
       "      <td>2</td>\n",
       "      <td>женат / замужем</td>\n",
       "      <td>0</td>\n",
       "      <td>F</td>\n",
       "      <td>сотрудник</td>\n",
       "      <td>0</td>\n",
       "      <td>130458.228857</td>\n",
       "      <td>приобретение автомобиля</td>\n",
       "    </tr>\n",
       "    <tr>\n",
       "      <th>14</th>\n",
       "      <td>0</td>\n",
       "      <td>-1844.956182</td>\n",
       "      <td>56</td>\n",
       "      <td>высшее</td>\n",
       "      <td>0</td>\n",
       "      <td>гражданский брак</td>\n",
       "      <td>1</td>\n",
       "      <td>F</td>\n",
       "      <td>компаньон</td>\n",
       "      <td>1</td>\n",
       "      <td>165127.911772</td>\n",
       "      <td>покупка жилой недвижимости</td>\n",
       "    </tr>\n",
       "    <tr>\n",
       "      <th>15</th>\n",
       "      <td>1</td>\n",
       "      <td>-972.364419</td>\n",
       "      <td>26</td>\n",
       "      <td>среднее</td>\n",
       "      <td>1</td>\n",
       "      <td>женат / замужем</td>\n",
       "      <td>0</td>\n",
       "      <td>F</td>\n",
       "      <td>сотрудник</td>\n",
       "      <td>0</td>\n",
       "      <td>116820.904450</td>\n",
       "      <td>строительство собственной недвижимости</td>\n",
       "    </tr>\n",
       "    <tr>\n",
       "      <th>16</th>\n",
       "      <td>0</td>\n",
       "      <td>-1719.934226</td>\n",
       "      <td>35</td>\n",
       "      <td>среднее</td>\n",
       "      <td>1</td>\n",
       "      <td>женат / замужем</td>\n",
       "      <td>0</td>\n",
       "      <td>F</td>\n",
       "      <td>сотрудник</td>\n",
       "      <td>0</td>\n",
       "      <td>289202.704229</td>\n",
       "      <td>недвижимость</td>\n",
       "    </tr>\n",
       "    <tr>\n",
       "      <th>17</th>\n",
       "      <td>0</td>\n",
       "      <td>-2369.999720</td>\n",
       "      <td>33</td>\n",
       "      <td>высшее</td>\n",
       "      <td>0</td>\n",
       "      <td>гражданский брак</td>\n",
       "      <td>1</td>\n",
       "      <td>M</td>\n",
       "      <td>сотрудник</td>\n",
       "      <td>0</td>\n",
       "      <td>90410.586745</td>\n",
       "      <td>строительство недвижимости</td>\n",
       "    </tr>\n",
       "    <tr>\n",
       "      <th>18</th>\n",
       "      <td>0</td>\n",
       "      <td>400281.136913</td>\n",
       "      <td>53</td>\n",
       "      <td>среднее</td>\n",
       "      <td>1</td>\n",
       "      <td>вдовец / вдова</td>\n",
       "      <td>2</td>\n",
       "      <td>F</td>\n",
       "      <td>пенсионер</td>\n",
       "      <td>0</td>\n",
       "      <td>56823.777243</td>\n",
       "      <td>на покупку подержанного автомобиля</td>\n",
       "    </tr>\n",
       "    <tr>\n",
       "      <th>19</th>\n",
       "      <td>0</td>\n",
       "      <td>-10038.818549</td>\n",
       "      <td>48</td>\n",
       "      <td>СРЕДНЕЕ</td>\n",
       "      <td>1</td>\n",
       "      <td>в разводе</td>\n",
       "      <td>3</td>\n",
       "      <td>F</td>\n",
       "      <td>сотрудник</td>\n",
       "      <td>0</td>\n",
       "      <td>242831.107982</td>\n",
       "      <td>на покупку своего автомобиля</td>\n",
       "    </tr>\n",
       "  </tbody>\n",
       "</table>\n",
       "</div>"
      ],
      "text/plain": [
       "    children  days_employed  dob_years            education  education_id  \\\n",
       "0          1   -8437.673028         42               высшее             0   \n",
       "1          1   -4024.803754         36              среднее             1   \n",
       "2          0   -5623.422610         33              Среднее             1   \n",
       "3          3   -4124.747207         32              среднее             1   \n",
       "4          0  340266.072047         53              среднее             1   \n",
       "5          0    -926.185831         27               высшее             0   \n",
       "6          0   -2879.202052         43               высшее             0   \n",
       "7          0    -152.779569         50              СРЕДНЕЕ             1   \n",
       "8          2   -6929.865299         35               ВЫСШЕЕ             0   \n",
       "9          0   -2188.756445         41              среднее             1   \n",
       "10         2   -4171.483647         36               высшее             0   \n",
       "11         0    -792.701887         40              среднее             1   \n",
       "12         0            NaN         65              среднее             1   \n",
       "13         0   -1846.641941         54  неоконченное высшее             2   \n",
       "14         0   -1844.956182         56               высшее             0   \n",
       "15         1    -972.364419         26              среднее             1   \n",
       "16         0   -1719.934226         35              среднее             1   \n",
       "17         0   -2369.999720         33               высшее             0   \n",
       "18         0  400281.136913         53              среднее             1   \n",
       "19         0  -10038.818549         48              СРЕДНЕЕ             1   \n",
       "\n",
       "       family_status  family_status_id gender income_type  debt  \\\n",
       "0    женат / замужем                 0      F   сотрудник     0   \n",
       "1    женат / замужем                 0      F   сотрудник     0   \n",
       "2    женат / замужем                 0      M   сотрудник     0   \n",
       "3    женат / замужем                 0      M   сотрудник     0   \n",
       "4   гражданский брак                 1      F   пенсионер     0   \n",
       "5   гражданский брак                 1      M   компаньон     0   \n",
       "6    женат / замужем                 0      F   компаньон     0   \n",
       "7    женат / замужем                 0      M   сотрудник     0   \n",
       "8   гражданский брак                 1      F   сотрудник     0   \n",
       "9    женат / замужем                 0      M   сотрудник     0   \n",
       "10   женат / замужем                 0      M   компаньон     0   \n",
       "11   женат / замужем                 0      F   сотрудник     0   \n",
       "12  гражданский брак                 1      M   пенсионер     0   \n",
       "13   женат / замужем                 0      F   сотрудник     0   \n",
       "14  гражданский брак                 1      F   компаньон     1   \n",
       "15   женат / замужем                 0      F   сотрудник     0   \n",
       "16   женат / замужем                 0      F   сотрудник     0   \n",
       "17  гражданский брак                 1      M   сотрудник     0   \n",
       "18    вдовец / вдова                 2      F   пенсионер     0   \n",
       "19         в разводе                 3      F   сотрудник     0   \n",
       "\n",
       "     total_income                                 purpose  \n",
       "0   253875.639453                           покупка жилья  \n",
       "1   112080.014102                 приобретение автомобиля  \n",
       "2   145885.952297                           покупка жилья  \n",
       "3   267628.550329              дополнительное образование  \n",
       "4   158616.077870                         сыграть свадьбу  \n",
       "5   255763.565419                           покупка жилья  \n",
       "6   240525.971920                       операции с жильем  \n",
       "7   135823.934197                             образование  \n",
       "8    95856.832424                   на проведение свадьбы  \n",
       "9   144425.938277                 покупка жилья для семьи  \n",
       "10  113943.491460                    покупка недвижимости  \n",
       "11   77069.234271       покупка коммерческой недвижимости  \n",
       "12            NaN                         сыграть свадьбу  \n",
       "13  130458.228857                 приобретение автомобиля  \n",
       "14  165127.911772              покупка жилой недвижимости  \n",
       "15  116820.904450  строительство собственной недвижимости  \n",
       "16  289202.704229                            недвижимость  \n",
       "17   90410.586745              строительство недвижимости  \n",
       "18   56823.777243      на покупку подержанного автомобиля  \n",
       "19  242831.107982            на покупку своего автомобиля  "
      ]
     },
     "execution_count": 3,
     "metadata": {},
     "output_type": "execute_result"
    }
   ],
   "source": [
    "data.head(20)"
   ]
  },
  {
   "cell_type": "markdown",
   "id": "1c12e233",
   "metadata": {
    "deletable": false,
    "id": "1c12e233"
   },
   "source": [
    "**Задание 3. Выведите основную информацию о датафрейме с помощью метода `info()`.**"
   ]
  },
  {
   "cell_type": "code",
   "execution_count": 4,
   "id": "2b757bca",
   "metadata": {
    "deletable": false,
    "id": "2b757bca",
    "outputId": "15376089-8dad-46c9-b520-c05248d43158"
   },
   "outputs": [
    {
     "name": "stdout",
     "output_type": "stream",
     "text": [
      "<class 'pandas.core.frame.DataFrame'>\n",
      "RangeIndex: 21525 entries, 0 to 21524\n",
      "Data columns (total 12 columns):\n",
      " #   Column            Non-Null Count  Dtype  \n",
      "---  ------            --------------  -----  \n",
      " 0   children          21525 non-null  int64  \n",
      " 1   days_employed     19351 non-null  float64\n",
      " 2   dob_years         21525 non-null  int64  \n",
      " 3   education         21525 non-null  object \n",
      " 4   education_id      21525 non-null  int64  \n",
      " 5   family_status     21525 non-null  object \n",
      " 6   family_status_id  21525 non-null  int64  \n",
      " 7   gender            21525 non-null  object \n",
      " 8   income_type       21525 non-null  object \n",
      " 9   debt              21525 non-null  int64  \n",
      " 10  total_income      19351 non-null  float64\n",
      " 11  purpose           21525 non-null  object \n",
      "dtypes: float64(2), int64(5), object(5)\n",
      "memory usage: 2.0+ MB\n"
     ]
    }
   ],
   "source": [
    "data.info()"
   ]
  },
  {
   "cell_type": "markdown",
   "id": "333ec665",
   "metadata": {
    "deletable": false,
    "id": "333ec665"
   },
   "source": [
    "## Предобработка данных"
   ]
  },
  {
   "cell_type": "markdown",
   "id": "02d92d53",
   "metadata": {
    "deletable": false,
    "id": "02d92d53"
   },
   "source": [
    "### Удаление пропусков"
   ]
  },
  {
   "cell_type": "markdown",
   "id": "cd84967c",
   "metadata": {
    "deletable": false,
    "id": "cd84967c"
   },
   "source": [
    "**Задание 4. Выведите количество пропущенных значений для каждого столбца. Используйте комбинацию двух методов.**"
   ]
  },
  {
   "cell_type": "code",
   "execution_count": 5,
   "id": "7f9b2309",
   "metadata": {
    "deletable": false,
    "id": "7f9b2309",
    "outputId": "81f4d817-781c-465c-ed15-91ce4446810d"
   },
   "outputs": [
    {
     "data": {
      "text/plain": [
       "children               0\n",
       "days_employed       2174\n",
       "dob_years              0\n",
       "education              0\n",
       "education_id           0\n",
       "family_status          0\n",
       "family_status_id       0\n",
       "gender                 0\n",
       "income_type            0\n",
       "debt                   0\n",
       "total_income        2174\n",
       "purpose                0\n",
       "dtype: int64"
      ]
     },
     "execution_count": 5,
     "metadata": {},
     "output_type": "execute_result"
    }
   ],
   "source": [
    "data.isna().sum()"
   ]
  },
  {
   "cell_type": "markdown",
   "id": "db86e27b",
   "metadata": {
    "deletable": false,
    "id": "db86e27b"
   },
   "source": [
    "**Задание 5. В двух столбцах есть пропущенные значения. Один из них — `days_employed`. Пропуски в этом столбце вы обработаете на следующем этапе. Другой столбец с пропущенными значениями — `total_income` — хранит данные о доходах. На сумму дохода сильнее всего влияет тип занятости, поэтому заполнить пропуски в этом столбце нужно медианным значением по каждому типу из столбца `income_type`. Например, у человека с типом занятости `сотрудник` пропуск в столбце `total_income` должен быть заполнен медианным доходом среди всех записей с тем же типом.**"
   ]
  },
  {
   "cell_type": "code",
   "execution_count": 6,
   "id": "42006a93",
   "metadata": {
    "deletable": false,
    "id": "42006a93"
   },
   "outputs": [],
   "source": [
    "for t in data['income_type'].unique():\n",
    "    data.loc[(data['income_type'] == t) & (data['total_income'].isna()), 'total_income'] = \\\n",
    "    data.loc[(data['income_type'] == t), 'total_income'].median()"
   ]
  },
  {
   "cell_type": "markdown",
   "id": "89da5ece",
   "metadata": {
    "deletable": false,
    "id": "89da5ece"
   },
   "source": [
    "### Обработка аномальных значений"
   ]
  },
  {
   "cell_type": "markdown",
   "id": "57964554",
   "metadata": {
    "deletable": false,
    "id": "57964554"
   },
   "source": [
    "**Задание 6. В данных могут встречаться артефакты (аномалии) — значения, которые не отражают действительность и появились по какой-то ошибке. таким артефактом будет отрицательное количество дней трудового стажа в столбце `days_employed`. Для реальных данных это нормально. Обработайте значения в этом столбце: замените все отрицательные значения положительными с помощью метода `abs()`.**"
   ]
  },
  {
   "cell_type": "code",
   "execution_count": 7,
   "id": "f6f055bf",
   "metadata": {
    "deletable": false,
    "id": "f6f055bf"
   },
   "outputs": [],
   "source": [
    "data['days_employed'] = data['days_employed'].abs()"
   ]
  },
  {
   "cell_type": "markdown",
   "id": "6107dd2f",
   "metadata": {
    "deletable": false,
    "id": "6107dd2f"
   },
   "source": [
    "**Задание 7. Для каждого типа занятости выведите медианное значение трудового стажа `days_employed` в днях.**"
   ]
  },
  {
   "cell_type": "code",
   "execution_count": 8,
   "id": "85a5faf6",
   "metadata": {
    "deletable": false,
    "id": "85a5faf6",
    "outputId": "801ef80e-522b-4668-f34e-565af7432bcf"
   },
   "outputs": [
    {
     "data": {
      "text/plain": [
       "income_type\n",
       "безработный        366413.652744\n",
       "в декрете            3296.759962\n",
       "госслужащий          2689.368353\n",
       "компаньон            1547.382223\n",
       "пенсионер          365213.306266\n",
       "предприниматель       520.848083\n",
       "сотрудник            1574.202821\n",
       "студент               578.751554\n",
       "Name: days_employed, dtype: float64"
      ]
     },
     "execution_count": 8,
     "metadata": {},
     "output_type": "execute_result"
    }
   ],
   "source": [
    "data.groupby('income_type')['days_employed'].agg('median')"
   ]
  },
  {
   "cell_type": "markdown",
   "id": "38d1a030",
   "metadata": {
    "deletable": false,
    "id": "38d1a030"
   },
   "source": [
    "У двух типов (безработные и пенсионеры) получатся аномально большие значения. Исправить такие значения сложно, поэтому оставьте их как есть. Тем более этот столбец не понадобится вам для исследования."
   ]
  },
  {
   "cell_type": "markdown",
   "id": "d8a9f147",
   "metadata": {
    "deletable": false,
    "id": "d8a9f147"
   },
   "source": [
    "**Задание 8. Выведите перечень уникальных значений столбца `children`.**"
   ]
  },
  {
   "cell_type": "code",
   "execution_count": 9,
   "id": "ef5056eb",
   "metadata": {
    "deletable": false,
    "id": "ef5056eb",
    "outputId": "6975b15c-7f95-4697-d16d-a0c79b657b03"
   },
   "outputs": [
    {
     "data": {
      "text/plain": [
       "array([ 1,  0,  3,  2, -1,  4, 20,  5])"
      ]
     },
     "execution_count": 9,
     "metadata": {},
     "output_type": "execute_result"
    }
   ],
   "source": [
    "data['children'].unique()"
   ]
  },
  {
   "cell_type": "markdown",
   "id": "40b9ebf2",
   "metadata": {
    "deletable": false,
    "id": "40b9ebf2"
   },
   "source": [
    "**Задание 9. В столбце `children` есть два аномальных значения. Удалите строки, в которых встречаются такие аномальные значения из датафрейма `data`.**"
   ]
  },
  {
   "cell_type": "code",
   "execution_count": 10,
   "id": "3ff9801d",
   "metadata": {
    "deletable": false,
    "id": "3ff9801d"
   },
   "outputs": [],
   "source": [
    "data = data[(data['children'] != -1) & (data['children'] != 20)]"
   ]
  },
  {
   "cell_type": "markdown",
   "id": "bbc4d0ce",
   "metadata": {
    "deletable": false,
    "id": "bbc4d0ce"
   },
   "source": [
    "**Задание 10. Ещё раз выведите перечень уникальных значений столбца `children`, чтобы убедиться, что артефакты удалены.**"
   ]
  },
  {
   "cell_type": "code",
   "execution_count": 11,
   "id": "ad4fa8b7",
   "metadata": {
    "deletable": false,
    "id": "ad4fa8b7",
    "outputId": "b2097101-d49d-44d9-901b-32a65c9463d1"
   },
   "outputs": [
    {
     "data": {
      "text/plain": [
       "array([1, 0, 3, 2, 4, 5])"
      ]
     },
     "execution_count": 11,
     "metadata": {},
     "output_type": "execute_result"
    }
   ],
   "source": [
    "data['children'].unique()"
   ]
  },
  {
   "cell_type": "markdown",
   "id": "75440b63",
   "metadata": {
    "deletable": false,
    "id": "75440b63"
   },
   "source": [
    "### Удаление пропусков (продолжение)"
   ]
  },
  {
   "cell_type": "markdown",
   "id": "f4ea573f",
   "metadata": {
    "deletable": false,
    "id": "f4ea573f"
   },
   "source": [
    "**Задание 11. Заполните пропуски в столбце `days_employed` медианными значениями по каждого типа занятости `income_type`.**"
   ]
  },
  {
   "cell_type": "code",
   "execution_count": 12,
   "id": "af6b1a7e",
   "metadata": {
    "deletable": false,
    "id": "af6b1a7e"
   },
   "outputs": [],
   "source": [
    "for t in data['income_type'].unique():\n",
    "    data.loc[(data['income_type'] == t) & (data['days_employed'].isna()), 'days_employed'] = \\\n",
    "    data.loc[(data['income_type'] == t), 'days_employed'].median()"
   ]
  },
  {
   "cell_type": "markdown",
   "id": "2753f40d",
   "metadata": {
    "deletable": false,
    "id": "2753f40d"
   },
   "source": [
    "**Задание 12. Убедитесь, что все пропуски заполнены. Проверьте себя и ещё раз выведите количество пропущенных значений для каждого столбца с помощью двух методов.**"
   ]
  },
  {
   "cell_type": "code",
   "execution_count": 13,
   "id": "55f78bc2",
   "metadata": {
    "deletable": false,
    "id": "55f78bc2",
    "outputId": "8da1e4e1-358e-4e87-98c9-f261bce0a7b2"
   },
   "outputs": [
    {
     "data": {
      "text/plain": [
       "children            0\n",
       "days_employed       0\n",
       "dob_years           0\n",
       "education           0\n",
       "education_id        0\n",
       "family_status       0\n",
       "family_status_id    0\n",
       "gender              0\n",
       "income_type         0\n",
       "debt                0\n",
       "total_income        0\n",
       "purpose             0\n",
       "dtype: int64"
      ]
     },
     "execution_count": 13,
     "metadata": {},
     "output_type": "execute_result"
    }
   ],
   "source": [
    "data.isna().sum()"
   ]
  },
  {
   "cell_type": "markdown",
   "id": "ddc81e43",
   "metadata": {
    "deletable": false,
    "id": "ddc81e43"
   },
   "source": [
    "### Изменение типов данных"
   ]
  },
  {
   "cell_type": "markdown",
   "id": "42d19d24",
   "metadata": {
    "deletable": false,
    "id": "42d19d24"
   },
   "source": [
    "**Задание 13. Замените вещественный тип данных в столбце `total_income` на целочисленный с помощью метода `astype()`.**"
   ]
  },
  {
   "cell_type": "code",
   "execution_count": 14,
   "id": "920b65ad",
   "metadata": {
    "deletable": false,
    "id": "920b65ad"
   },
   "outputs": [],
   "source": [
    "data['total_income'] = data['total_income'].astype(int)"
   ]
  },
  {
   "cell_type": "markdown",
   "id": "80c420ba",
   "metadata": {
    "deletable": false,
    "id": "80c420ba"
   },
   "source": [
    "### Обработка дубликатов"
   ]
  },
  {
   "cell_type": "markdown",
   "id": "dc587695",
   "metadata": {
    "deletable": false,
    "id": "dc587695"
   },
   "source": [
    "**Задание 14. Выведите на экран количество строк-дубликатов в данных. Если такие строки присутствуют, удалите их.**"
   ]
  },
  {
   "cell_type": "code",
   "execution_count": 15,
   "id": "3ee445e4",
   "metadata": {
    "deletable": false,
    "id": "3ee445e4",
    "outputId": "9684deba-1934-42d1-99e1-cda61740f822"
   },
   "outputs": [
    {
     "data": {
      "text/plain": [
       "54"
      ]
     },
     "execution_count": 15,
     "metadata": {},
     "output_type": "execute_result"
    }
   ],
   "source": [
    "data.duplicated().sum()"
   ]
  },
  {
   "cell_type": "code",
   "execution_count": 16,
   "id": "8575fe05",
   "metadata": {
    "deletable": false,
    "id": "8575fe05"
   },
   "outputs": [],
   "source": [
    "data = data.drop_duplicates()"
   ]
  },
  {
   "cell_type": "markdown",
   "id": "9771a76c",
   "metadata": {
    "deletable": false,
    "id": "9771a76c"
   },
   "source": [
    "**Задание 15. Обработайте неявные дубликаты в столбце `education`. В этом столбце есть одни и те же значения, но записанные по-разному: с использованием заглавных и строчных букв. Приведите их к нижнему регистру. Проверьте остальные столбцы.**"
   ]
  },
  {
   "cell_type": "code",
   "execution_count": 17,
   "id": "a9f8e2bf",
   "metadata": {
    "deletable": false,
    "id": "a9f8e2bf"
   },
   "outputs": [],
   "source": [
    "data['education'] = data['education'].str.lower()"
   ]
  },
  {
   "cell_type": "markdown",
   "id": "9904cf55",
   "metadata": {
    "deletable": false,
    "id": "9904cf55"
   },
   "source": [
    "### Категоризация данных"
   ]
  },
  {
   "cell_type": "markdown",
   "id": "72fcc8a2",
   "metadata": {
    "deletable": false,
    "id": "72fcc8a2"
   },
   "source": [
    "**Задание 16. На основании диапазонов, указанных ниже, создайте в датафрейме `data` столбец `total_income_category` с категориями:**\n",
    "\n",
    "- 0–30000 — `'E'`;\n",
    "- 30001–50000 — `'D'`;\n",
    "- 50001–200000 — `'C'`;\n",
    "- 200001–1000000 — `'B'`;\n",
    "- 1000001 и выше — `'A'`.\n",
    "\n",
    "\n",
    "**Например, кредитополучателю с доходом 25000 нужно назначить категорию `'E'`, а клиенту, получающему 235000, — `'B'`. Используйте собственную функцию с именем `categorize_income()` и метод `apply()`.**"
   ]
  },
  {
   "cell_type": "code",
   "execution_count": 18,
   "id": "e1771346",
   "metadata": {
    "deletable": false,
    "id": "e1771346"
   },
   "outputs": [],
   "source": [
    "def categorize_income(income):\n",
    "    try:\n",
    "        if 0 <= income <= 30000:\n",
    "            return 'E'\n",
    "        elif 30001 <= income <= 50000:\n",
    "            return 'D'\n",
    "        elif 50001 <= income <= 200000:\n",
    "            return 'C'\n",
    "        elif 200001 <= income <= 1000000:\n",
    "            return 'B'\n",
    "        elif income >= 1000001:\n",
    "            return 'A'\n",
    "    except:\n",
    "        pass"
   ]
  },
  {
   "cell_type": "code",
   "execution_count": 19,
   "id": "d5f3586d",
   "metadata": {
    "deletable": false,
    "id": "d5f3586d"
   },
   "outputs": [],
   "source": [
    "data['total_income_category'] = data['total_income'].apply(categorize_income)"
   ]
  },
  {
   "cell_type": "markdown",
   "id": "dde49b5c",
   "metadata": {
    "deletable": false,
    "id": "dde49b5c"
   },
   "source": [
    "**Задание 17. Выведите на экран перечень уникальных целей взятия кредита из столбца `purpose`.**"
   ]
  },
  {
   "cell_type": "code",
   "execution_count": 20,
   "id": "f67ce9b3",
   "metadata": {
    "deletable": false,
    "id": "f67ce9b3",
    "outputId": "673c12d9-7d7e-4ae0-9812-c622c89dd244"
   },
   "outputs": [
    {
     "data": {
      "text/plain": [
       "array(['покупка жилья', 'приобретение автомобиля',\n",
       "       'дополнительное образование', 'сыграть свадьбу',\n",
       "       'операции с жильем', 'образование', 'на проведение свадьбы',\n",
       "       'покупка жилья для семьи', 'покупка недвижимости',\n",
       "       'покупка коммерческой недвижимости', 'покупка жилой недвижимости',\n",
       "       'строительство собственной недвижимости', 'недвижимость',\n",
       "       'строительство недвижимости', 'на покупку подержанного автомобиля',\n",
       "       'на покупку своего автомобиля',\n",
       "       'операции с коммерческой недвижимостью',\n",
       "       'строительство жилой недвижимости', 'жилье',\n",
       "       'операции со своей недвижимостью', 'автомобили',\n",
       "       'заняться образованием', 'сделка с подержанным автомобилем',\n",
       "       'получение образования', 'автомобиль', 'свадьба',\n",
       "       'получение дополнительного образования', 'покупка своего жилья',\n",
       "       'операции с недвижимостью', 'получение высшего образования',\n",
       "       'свой автомобиль', 'сделка с автомобилем',\n",
       "       'профильное образование', 'высшее образование',\n",
       "       'покупка жилья для сдачи', 'на покупку автомобиля', 'ремонт жилью',\n",
       "       'заняться высшим образованием'], dtype=object)"
      ]
     },
     "execution_count": 20,
     "metadata": {},
     "output_type": "execute_result"
    }
   ],
   "source": [
    "data['purpose'].unique()"
   ]
  },
  {
   "cell_type": "markdown",
   "id": "85d0aef0",
   "metadata": {
    "deletable": false,
    "id": "85d0aef0"
   },
   "source": [
    "**Задание 18. Создайте функцию, которая на основании данных из столбца `purpose` сформирует новый столбец `purpose_category`, в который войдут следующие категории:**\n",
    "\n",
    "- `'операции с автомобилем'`,\n",
    "- `'операции с недвижимостью'`,\n",
    "- `'проведение свадьбы'`,\n",
    "- `'получение образования'`.\n",
    "\n",
    "**Например, если в столбце `purpose` находится подстрока `'на покупку автомобиля'`, то в столбце `purpose_category` должна появиться строка `'операции с автомобилем'`.**\n",
    "\n",
    "**Используйте собственную функцию с именем `categorize_purpose()` и метод `apply()`. Изучите данные в столбце `purpose` и определите, какие подстроки помогут вам правильно определить категорию.**"
   ]
  },
  {
   "cell_type": "code",
   "execution_count": 21,
   "id": "e149fab4",
   "metadata": {
    "deletable": false,
    "id": "e149fab4"
   },
   "outputs": [],
   "source": [
    "def categorize_purpose(row):\n",
    "    try:\n",
    "        if 'автом' in row:\n",
    "            return 'операции с автомобилем'\n",
    "        elif 'жил' in row or 'недвиж' in row:\n",
    "            return 'операции с недвижимостью'\n",
    "        elif 'свад' in row:\n",
    "            return 'проведение свадьбы'\n",
    "        elif 'образов' in row:\n",
    "            return 'получение образования'\n",
    "    except:\n",
    "        return 'нет категории'"
   ]
  },
  {
   "cell_type": "code",
   "execution_count": 22,
   "id": "bf36e69b",
   "metadata": {
    "deletable": false,
    "id": "bf36e69b"
   },
   "outputs": [],
   "source": [
    "data['purpose_category'] = data['purpose'].apply(categorize_purpose)"
   ]
  },
  {
   "cell_type": "markdown",
   "id": "09b242bf",
   "metadata": {
    "deletable": false,
    "editable": false,
    "id": "09b242bf"
   },
   "source": [
    "## Исследуйте данные и ответьте на вопросы"
   ]
  },
  {
   "cell_type": "markdown",
   "id": "c5d66278",
   "metadata": {
    "deletable": false,
    "editable": false,
    "id": "c5d66278"
   },
   "source": [
    "**Задание 19. Есть ли зависимость между количеством детей и возвратом кредита в срок?**"
   ]
  },
  {
   "cell_type": "markdown",
   "id": "d3bd9758",
   "metadata": {},
   "source": [
    "<div class=\"alert alert-danger\">\n",
    "<b>Комментарий ревьюера ❌:</b> Замечание по всему разделу ответов на вопросы\n",
    "    \n",
    "****\n",
    "У тебя хорошие навыки написания кода, в частности groupby, но все же в данном случае не обязательно усложнять код и писать его в несколько строк, достаточно в пивот воспользоваться встроенными функциями. Выведи пожалуйста в каждом из ответов похожую таблицу, в которой будет количество кредитополучателей, количество должников и долю должников, сделать все это можно в одну строку. Немного подскажу, воспользуйся sum,count и mean\n",
    "    \n",
    "******\n",
    "    \n",
    "Дополни пожалуйста этот раздел работы)"
   ]
  },
  {
   "cell_type": "markdown",
   "id": "692d0e1a",
   "metadata": {},
   "source": [
    "<div class=\"alert alert-success\">\n",
    "<b>Комментарий ревьюера v 2.0 ✔️:</b> Классно поработал над пивот, очень наглядно и локанично </div>"
   ]
  },
  {
   "cell_type": "code",
   "execution_count": 48,
   "id": "2cacfc4a",
   "metadata": {
    "id": "2cacfc4a"
   },
   "outputs": [
    {
     "data": {
      "text/html": [
       "<div>\n",
       "<style scoped>\n",
       "    .dataframe tbody tr th:only-of-type {\n",
       "        vertical-align: middle;\n",
       "    }\n",
       "\n",
       "    .dataframe tbody tr th {\n",
       "        vertical-align: top;\n",
       "    }\n",
       "\n",
       "    .dataframe thead tr th {\n",
       "        text-align: left;\n",
       "    }\n",
       "\n",
       "    .dataframe thead tr:last-of-type th {\n",
       "        text-align: right;\n",
       "    }\n",
       "</style>\n",
       "<table border=\"1\" class=\"dataframe\">\n",
       "  <thead>\n",
       "    <tr>\n",
       "      <th></th>\n",
       "      <th>sum</th>\n",
       "      <th>len</th>\n",
       "      <th>mean_percent</th>\n",
       "    </tr>\n",
       "    <tr>\n",
       "      <th></th>\n",
       "      <th>debt</th>\n",
       "      <th>debt</th>\n",
       "      <th>debt</th>\n",
       "    </tr>\n",
       "    <tr>\n",
       "      <th>children</th>\n",
       "      <th></th>\n",
       "      <th></th>\n",
       "      <th></th>\n",
       "    </tr>\n",
       "  </thead>\n",
       "  <tbody>\n",
       "    <tr>\n",
       "      <th>0</th>\n",
       "      <td>1063</td>\n",
       "      <td>14107</td>\n",
       "      <td>7.535266</td>\n",
       "    </tr>\n",
       "    <tr>\n",
       "      <th>1</th>\n",
       "      <td>444</td>\n",
       "      <td>4809</td>\n",
       "      <td>9.232689</td>\n",
       "    </tr>\n",
       "    <tr>\n",
       "      <th>2</th>\n",
       "      <td>194</td>\n",
       "      <td>2052</td>\n",
       "      <td>9.454191</td>\n",
       "    </tr>\n",
       "    <tr>\n",
       "      <th>3</th>\n",
       "      <td>27</td>\n",
       "      <td>330</td>\n",
       "      <td>8.181818</td>\n",
       "    </tr>\n",
       "    <tr>\n",
       "      <th>4</th>\n",
       "      <td>4</td>\n",
       "      <td>41</td>\n",
       "      <td>9.756098</td>\n",
       "    </tr>\n",
       "    <tr>\n",
       "      <th>5</th>\n",
       "      <td>0</td>\n",
       "      <td>9</td>\n",
       "      <td>0.000000</td>\n",
       "    </tr>\n",
       "    <tr>\n",
       "      <th>All</th>\n",
       "      <td>1732</td>\n",
       "      <td>21348</td>\n",
       "      <td>8.113172</td>\n",
       "    </tr>\n",
       "  </tbody>\n",
       "</table>\n",
       "</div>"
      ],
      "text/plain": [
       "           sum    len mean_percent\n",
       "          debt   debt         debt\n",
       "children                          \n",
       "0         1063  14107     7.535266\n",
       "1          444   4809     9.232689\n",
       "2          194   2052     9.454191\n",
       "3           27    330     8.181818\n",
       "4            4     41     9.756098\n",
       "5            0      9     0.000000\n",
       "All       1732  21348     8.113172"
      ]
     },
     "execution_count": 48,
     "metadata": {},
     "output_type": "execute_result"
    }
   ],
   "source": [
    "#захотелось выводить в %, а не в сотых долях\n",
    "def mean_percent(data):\n",
    "    return data.mean()*100\n",
    "\n",
    "pd.pivot_table(data,\n",
    "               index=['children'],\n",
    "               values=['debt'],\n",
    "               aggfunc=[sum,len,mean_percent],\n",
    "               margins=True)\n",
    "\n",
    "###---------------------OLD---------------------###\n",
    "\n",
    "# import seaborn as sb\n",
    "\n",
    "# debt_child_rel = pd.DataFrame()\n",
    "\n",
    "# # кол-во должников(data['debt']==1) сгруппировано по кол-ву детей\n",
    "# debt_child_rel['debt_sum'] = data.groupby(data['children'])['debt'].sum() \n",
    "\n",
    "# # общее кол-во людей, взявшик кредит сгруппировано по кол-ву детей\n",
    "# debt_child_rel['debt_count'] = data.groupby(data['children'])['debt'].count()\n",
    "\n",
    "# # Процент невыплат кредита, зависящий от количества детей\n",
    "# debt_child_rel['debt_percent'] = debt_child_rel['debt_sum'] / debt_child_rel['debt_count'] * 100\n",
    "\n",
    "# # Выводим датасет\n",
    "# display(debt_child_rel)\n",
    "\n",
    "# # Рассчёт среднего значения невыплаты среди групп\n",
    "# mean_percent = debt_child_rel['debt_percent'].mean()\n",
    "\n",
    "# print(f'Среднее значиение невыплаты у всех: {mean_percent:.2f}%')\n",
    "\n",
    "# # Строим график\n",
    "# sb.barplot(x=debt_child_rel.index, y=debt_child_rel['debt_percent'])"
   ]
  },
  {
   "cell_type": "markdown",
   "id": "3a6b99ec",
   "metadata": {
    "deletable": false,
    "id": "3a6b99ec"
   },
   "source": [
    "**Вывод:** \n",
    "Средний процент невыплаты слабо зависит от количества детей. Возрастающий процент невозвратов не наблюдается у семей с `3 детьми`. Что можно объяснить на порядок меньшей выборкой таких семей в датасете по сравнению с семьями у которых `1-2 ребёнка`.\n",
    "\n",
    "**Отсутсвие невыплаченных кредитов у семей с 5 детьми объяснение:**\n",
    "\n",
    "Количество семей с бОльшим количеством детей тем меньше в датасете, чем больше у них детей.\n",
    "Здесь видно, что все семьи с `5 детьми` выплатили кредит вовремя, но это нельзя считать отличием, поскольку таких семей в исследовании всего `9` и это слишком маленькая выборка.\n"
   ]
  },
  {
   "cell_type": "markdown",
   "id": "b48853f7",
   "metadata": {},
   "source": [
    "<div class=\"alert alert-success\">\n",
    "<b>Комментарий ревьюера ✔️:</b> А сам вывод хороший. Также здорово дополнил про 5 детей"
   ]
  },
  {
   "cell_type": "markdown",
   "id": "97be82ca",
   "metadata": {
    "deletable": false,
    "editable": false,
    "id": "97be82ca"
   },
   "source": [
    "**Задание 20. Есть ли зависимость между семейным положением и возвратом кредита в срок?**"
   ]
  },
  {
   "cell_type": "code",
   "execution_count": 49,
   "id": "dc3f7ee8",
   "metadata": {
    "id": "dc3f7ee8",
    "scrolled": true
   },
   "outputs": [
    {
     "data": {
      "text/html": [
       "<div>\n",
       "<style scoped>\n",
       "    .dataframe tbody tr th:only-of-type {\n",
       "        vertical-align: middle;\n",
       "    }\n",
       "\n",
       "    .dataframe tbody tr th {\n",
       "        vertical-align: top;\n",
       "    }\n",
       "\n",
       "    .dataframe thead tr th {\n",
       "        text-align: left;\n",
       "    }\n",
       "\n",
       "    .dataframe thead tr:last-of-type th {\n",
       "        text-align: right;\n",
       "    }\n",
       "</style>\n",
       "<table border=\"1\" class=\"dataframe\">\n",
       "  <thead>\n",
       "    <tr>\n",
       "      <th></th>\n",
       "      <th>sum</th>\n",
       "      <th>len</th>\n",
       "      <th>mean_percent</th>\n",
       "    </tr>\n",
       "    <tr>\n",
       "      <th></th>\n",
       "      <th>debt</th>\n",
       "      <th>debt</th>\n",
       "      <th>debt</th>\n",
       "    </tr>\n",
       "    <tr>\n",
       "      <th>family_status</th>\n",
       "      <th></th>\n",
       "      <th></th>\n",
       "      <th></th>\n",
       "    </tr>\n",
       "  </thead>\n",
       "  <tbody>\n",
       "    <tr>\n",
       "      <th>Не женат / не замужем</th>\n",
       "      <td>273</td>\n",
       "      <td>2796</td>\n",
       "      <td>9.763948</td>\n",
       "    </tr>\n",
       "    <tr>\n",
       "      <th>в разводе</th>\n",
       "      <td>84</td>\n",
       "      <td>1189</td>\n",
       "      <td>7.064760</td>\n",
       "    </tr>\n",
       "    <tr>\n",
       "      <th>вдовец / вдова</th>\n",
       "      <td>63</td>\n",
       "      <td>951</td>\n",
       "      <td>6.624606</td>\n",
       "    </tr>\n",
       "    <tr>\n",
       "      <th>гражданский брак</th>\n",
       "      <td>385</td>\n",
       "      <td>4146</td>\n",
       "      <td>9.286059</td>\n",
       "    </tr>\n",
       "    <tr>\n",
       "      <th>женат / замужем</th>\n",
       "      <td>927</td>\n",
       "      <td>12266</td>\n",
       "      <td>7.557476</td>\n",
       "    </tr>\n",
       "    <tr>\n",
       "      <th>All</th>\n",
       "      <td>1732</td>\n",
       "      <td>21348</td>\n",
       "      <td>8.113172</td>\n",
       "    </tr>\n",
       "  </tbody>\n",
       "</table>\n",
       "</div>"
      ],
      "text/plain": [
       "                        sum    len mean_percent\n",
       "                       debt   debt         debt\n",
       "family_status                                  \n",
       "Не женат / не замужем   273   2796     9.763948\n",
       "в разводе                84   1189     7.064760\n",
       "вдовец / вдова           63    951     6.624606\n",
       "гражданский брак        385   4146     9.286059\n",
       "женат / замужем         927  12266     7.557476\n",
       "All                    1732  21348     8.113172"
      ]
     },
     "execution_count": 49,
     "metadata": {},
     "output_type": "execute_result"
    }
   ],
   "source": [
    "pd.pivot_table(data,\n",
    "               index=['family_status'],\n",
    "               values=['debt'],\n",
    "               aggfunc=[sum,len,mean_percent],\n",
    "               margins=True)\n",
    "\n",
    "###---------------------OLD---------------------###\n",
    "\n",
    "# debt_family = pd.DataFrame()\n",
    "\n",
    "# #кол-во должников(data['debt']==1) сгруппировано по семейному положению\n",
    "# debt_family['debt_sum'] = data.groupby(data['family_status'])['debt'].sum() \n",
    "\n",
    "# #общее кол-во людей, взявшик кредит сгруппировано по кол-ву детей\n",
    "# debt_family['debt_count'] = data.groupby(data['family_status'])['debt'].count()\n",
    "\n",
    "# #Процент невыплат кредита, зависящий от количества детей\n",
    "# debt_family['debt_percent'] = debt_family['debt_sum'] / debt_family['debt_count'] * 100\n",
    "\n",
    "# #Сортировка по возрастанию значений\n",
    "# debt_family = debt_family.sort_values(by='debt_percent')\n",
    "\n",
    "# #Рассчёт среднего значения невыплаты среди групп\n",
    "# mean_percent_family = debt_family['debt_percent'].mean()\n",
    "\n",
    "# print(f'Среднее значиение невыплаты: {mean_percent_family:.2f}%')\n",
    "\n",
    "# #Выводим датасет\n",
    "# display(debt_family)\n",
    "\n",
    "#Строим график\n",
    "# sb.barplot(x=debt_family['debt_percent'], y=debt_family.index)"
   ]
  },
  {
   "cell_type": "markdown",
   "id": "1cef7837",
   "metadata": {
    "deletable": false,
    "id": "1cef7837"
   },
   "source": [
    "**Вывод:** Слабая зависимость наблюдается. \n",
    "\n",
    "Наибольший процент невыплат у не женатых, далее он снижается по логике прохождения ~~пути самурая~~ жизненного пути: в браке процент ниже и самы низкий у категории 'вдовец / вдова'.\n",
    " \n",
    "P.S. Больше похоже на зависимость от возраста, чем от семейного положения. Я бы проверил."
   ]
  },
  {
   "cell_type": "markdown",
   "id": "64910a27",
   "metadata": {},
   "source": [
    "<div class=\"alert alert-success\">\n",
    "<b>Комментарий ревьюера ✔️:</b> Да, в принципе зависимость здесь прослеживается довольно явно"
   ]
  },
  {
   "cell_type": "markdown",
   "id": "1e8b2fca",
   "metadata": {
    "deletable": false,
    "editable": false,
    "id": "1e8b2fca"
   },
   "source": [
    "**Задание 21. Есть ли зависимость между уровнем дохода и возвратом кредита в срок?**"
   ]
  },
  {
   "cell_type": "code",
   "execution_count": 44,
   "id": "cd7e3720",
   "metadata": {
    "id": "cd7e3720"
   },
   "outputs": [
    {
     "data": {
      "text/html": [
       "<div>\n",
       "<style scoped>\n",
       "    .dataframe tbody tr th:only-of-type {\n",
       "        vertical-align: middle;\n",
       "    }\n",
       "\n",
       "    .dataframe tbody tr th {\n",
       "        vertical-align: top;\n",
       "    }\n",
       "\n",
       "    .dataframe thead tr th {\n",
       "        text-align: left;\n",
       "    }\n",
       "\n",
       "    .dataframe thead tr:last-of-type th {\n",
       "        text-align: right;\n",
       "    }\n",
       "</style>\n",
       "<table border=\"1\" class=\"dataframe\">\n",
       "  <thead>\n",
       "    <tr>\n",
       "      <th></th>\n",
       "      <th>sum</th>\n",
       "      <th>len</th>\n",
       "      <th>mean_percent</th>\n",
       "    </tr>\n",
       "    <tr>\n",
       "      <th></th>\n",
       "      <th>debt</th>\n",
       "      <th>debt</th>\n",
       "      <th>debt</th>\n",
       "    </tr>\n",
       "    <tr>\n",
       "      <th>total_income_category</th>\n",
       "      <th></th>\n",
       "      <th></th>\n",
       "      <th></th>\n",
       "    </tr>\n",
       "  </thead>\n",
       "  <tbody>\n",
       "    <tr>\n",
       "      <th>A</th>\n",
       "      <td>2</td>\n",
       "      <td>25</td>\n",
       "      <td>8.000000</td>\n",
       "    </tr>\n",
       "    <tr>\n",
       "      <th>B</th>\n",
       "      <td>354</td>\n",
       "      <td>5014</td>\n",
       "      <td>7.060231</td>\n",
       "    </tr>\n",
       "    <tr>\n",
       "      <th>C</th>\n",
       "      <td>1353</td>\n",
       "      <td>15938</td>\n",
       "      <td>8.489145</td>\n",
       "    </tr>\n",
       "    <tr>\n",
       "      <th>D</th>\n",
       "      <td>21</td>\n",
       "      <td>349</td>\n",
       "      <td>6.017192</td>\n",
       "    </tr>\n",
       "    <tr>\n",
       "      <th>E</th>\n",
       "      <td>2</td>\n",
       "      <td>22</td>\n",
       "      <td>9.090909</td>\n",
       "    </tr>\n",
       "  </tbody>\n",
       "</table>\n",
       "</div>"
      ],
      "text/plain": [
       "                        sum    len mean_percent\n",
       "                       debt   debt         debt\n",
       "total_income_category                          \n",
       "A                         2     25     8.000000\n",
       "B                       354   5014     7.060231\n",
       "C                      1353  15938     8.489145\n",
       "D                        21    349     6.017192\n",
       "E                         2     22     9.090909"
      ]
     },
     "execution_count": 44,
     "metadata": {},
     "output_type": "execute_result"
    }
   ],
   "source": [
    "pd.pivot_table(data,\n",
    "               index=['total_income_category'],\n",
    "               values=['debt'],\n",
    "               aggfunc=[sum,len,mean_percent],\n",
    "               margins=True)\n",
    "\n",
    "###---------------------OLD---------------------###\n",
    "\n",
    "# debt_income = pd.DataFrame()\n",
    "\n",
    "# #кол-во должников(data['debt']==1) сгруппировано по семейному положению\n",
    "# debt_income['debt_sum'] = data.groupby(data['total_income_category'])['debt'].sum() \n",
    "\n",
    "# #общее кол-во людей, взявшик кредит сгруппировано по кол-ву детей\n",
    "# debt_income['debt_count'] = data.groupby(data['total_income_category'])['debt'].count()\n",
    "\n",
    "# #Процент невыплат кредита, зависящий от количества детей\n",
    "# debt_income['debt_percent'] = debt_income['debt_sum'] / debt_income['debt_count'] * 100\n",
    "\n",
    "# #Рассчёт среднего значения невыплаты среди групп\n",
    "# mean_percent_income = debt_income['debt_percent'].mean()\n",
    "\n",
    "# print(f'Среднее значиение невыплаты: {mean_percent_income:.2f}%')\n",
    "\n",
    "# #Выводим датасет\n",
    "# display(debt_income)\n",
    "\n",
    "# #Сортировка по возрастанию значений\n",
    "# # debt_income = debt_income.sort_values(by='debt_percent')\n",
    "\n",
    "# #Строим график\n",
    "# sb.barplot(x=debt_income['debt_percent'], y=debt_income.index)"
   ]
  },
  {
   "cell_type": "markdown",
   "id": "e8593def",
   "metadata": {
    "deletable": false,
    "id": "e8593def"
   },
   "source": [
    "**Вывод:** Количество заёмщиков в группах `A` и `E` очень малое `25` и `22` соответсвенно, данные могут быть нерепрезетативны. \n",
    "Если оставить в выборке только категории `B,C,D`, то распределение похоже на нормальное."
   ]
  },
  {
   "cell_type": "markdown",
   "id": "f8e62e40",
   "metadata": {},
   "source": [
    "<div class=\"alert alert-success\">\n",
    "<b>Комментарий ревьюера ✔️:</b> Здорово, что также заметил про нерепрезентативность части данных"
   ]
  },
  {
   "cell_type": "markdown",
   "id": "99ecbd1f",
   "metadata": {
    "deletable": false,
    "editable": false,
    "id": "99ecbd1f"
   },
   "source": [
    "**Задание 22. Как разные цели кредита влияют на его возврат в срок?**"
   ]
  },
  {
   "cell_type": "code",
   "execution_count": 50,
   "id": "2b687290",
   "metadata": {
    "id": "2b687290"
   },
   "outputs": [
    {
     "data": {
      "text/html": [
       "<div>\n",
       "<style scoped>\n",
       "    .dataframe tbody tr th:only-of-type {\n",
       "        vertical-align: middle;\n",
       "    }\n",
       "\n",
       "    .dataframe tbody tr th {\n",
       "        vertical-align: top;\n",
       "    }\n",
       "\n",
       "    .dataframe thead tr th {\n",
       "        text-align: left;\n",
       "    }\n",
       "\n",
       "    .dataframe thead tr:last-of-type th {\n",
       "        text-align: right;\n",
       "    }\n",
       "</style>\n",
       "<table border=\"1\" class=\"dataframe\">\n",
       "  <thead>\n",
       "    <tr>\n",
       "      <th></th>\n",
       "      <th>sum</th>\n",
       "      <th>len</th>\n",
       "      <th>mean_percent</th>\n",
       "    </tr>\n",
       "    <tr>\n",
       "      <th></th>\n",
       "      <th>debt</th>\n",
       "      <th>debt</th>\n",
       "      <th>debt</th>\n",
       "    </tr>\n",
       "    <tr>\n",
       "      <th>purpose_category</th>\n",
       "      <th></th>\n",
       "      <th></th>\n",
       "      <th></th>\n",
       "    </tr>\n",
       "  </thead>\n",
       "  <tbody>\n",
       "    <tr>\n",
       "      <th>операции с автомобилем</th>\n",
       "      <td>400</td>\n",
       "      <td>4281</td>\n",
       "      <td>9.343611</td>\n",
       "    </tr>\n",
       "    <tr>\n",
       "      <th>операции с недвижимостью</th>\n",
       "      <td>780</td>\n",
       "      <td>10754</td>\n",
       "      <td>7.253115</td>\n",
       "    </tr>\n",
       "    <tr>\n",
       "      <th>получение образования</th>\n",
       "      <td>369</td>\n",
       "      <td>3989</td>\n",
       "      <td>9.250439</td>\n",
       "    </tr>\n",
       "    <tr>\n",
       "      <th>проведение свадьбы</th>\n",
       "      <td>183</td>\n",
       "      <td>2324</td>\n",
       "      <td>7.874355</td>\n",
       "    </tr>\n",
       "    <tr>\n",
       "      <th>All</th>\n",
       "      <td>1732</td>\n",
       "      <td>21348</td>\n",
       "      <td>8.113172</td>\n",
       "    </tr>\n",
       "  </tbody>\n",
       "</table>\n",
       "</div>"
      ],
      "text/plain": [
       "                           sum    len mean_percent\n",
       "                          debt   debt         debt\n",
       "purpose_category                                  \n",
       "операции с автомобилем     400   4281     9.343611\n",
       "операции с недвижимостью   780  10754     7.253115\n",
       "получение образования      369   3989     9.250439\n",
       "проведение свадьбы         183   2324     7.874355\n",
       "All                       1732  21348     8.113172"
      ]
     },
     "execution_count": 50,
     "metadata": {},
     "output_type": "execute_result"
    }
   ],
   "source": [
    "pd.pivot_table(data,\n",
    "               index=['purpose_category'],\n",
    "               values=['debt'],\n",
    "               aggfunc=[sum,len,mean_percent],\n",
    "               margins=True)\n",
    "\n",
    "###---------------------OLD---------------------###\n",
    "\n",
    "# debt_purpose = pd.DataFrame()\n",
    "\n",
    "# #кол-во должников(data['debt']==1) сгруппировано по семейному положению\n",
    "# debt_purpose['debt_sum'] = data.groupby(data['purpose_category'])['debt'].sum() \n",
    "\n",
    "# #общее кол-во людей, взявшик кредит сгруппировано по кол-ву детей\n",
    "# debt_purpose['debt_count'] = data.groupby(data['purpose_category'])['debt'].count()\n",
    "\n",
    "# #Процент невыплат кредита, зависящий от количества детей\n",
    "# debt_purpose['debt_percent'] = debt_purpose['debt_sum'] / debt_purpose['debt_count'] * 100\n",
    "\n",
    "# #Сортировка по возрастанию значений\n",
    "# debt_purpose = debt_purpose.sort_values(by='debt_percent')\n",
    "\n",
    "# #Рассчёт среднего значения невыплаты среди групп\n",
    "# mean_percent_purpose = debt_purpose['debt_percent'].mean()\n",
    "\n",
    "# print(f'Среднее значиение невыплаты: {mean_percent_purpose:.2f}%')\n",
    "\n",
    "# #Выводим датасет\n",
    "# display(debt_purpose)\n",
    "\n",
    "# #Строим график\n",
    "# sb.barplot(x=debt_purpose['debt_percent'], y=debt_purpose.index)"
   ]
  },
  {
   "cell_type": "markdown",
   "id": "b4bb2ce6",
   "metadata": {
    "deletable": false,
    "id": "b4bb2ce6"
   },
   "source": [
    "**Вывод:** Есть зависимость.\n",
    "- Самые надёжнае заёмщики берут кредит на `операции с недвижимостью`.  \n",
    "- Чуть хуже кредиты возвращает категория `проведение свадьбы`.\n",
    "- Хуже всех кредиты возващают группы `получение образорвания` и `операции с автомобилем`"
   ]
  },
  {
   "cell_type": "markdown",
   "id": "7610e3b2",
   "metadata": {},
   "source": [
    "<div class=\"alert alert-success\">\n",
    "<b>Комментарий ревьюера ✔️:</b> Верно, подробно исследовал зависимости в этих данных"
   ]
  },
  {
   "cell_type": "markdown",
   "id": "09c3ac4c",
   "metadata": {
    "deletable": false,
    "editable": false,
    "id": "09c3ac4c"
   },
   "source": [
    "**Задание 23. Приведите возможные причины появления пропусков в исходных данных.**"
   ]
  },
  {
   "cell_type": "markdown",
   "id": "9da2ceda",
   "metadata": {
    "deletable": false,
    "id": "9da2ceda"
   },
   "source": [
    "*Ответ:* `days_employed` и `income_type` содержит пропуски скорее всего по причине того, что\n",
    "- человек не работает и не имеет дохода \n",
    "- работает с допуском секретности\n",
    "- техническая ошибка"
   ]
  },
  {
   "cell_type": "markdown",
   "id": "d80ce7dc",
   "metadata": {},
   "source": [
    "<div class=\"alert alert-success\">\n",
    "<b>Комментарий ревьюера ✔️:</b> Хорошие предположения о пропусках данных"
   ]
  },
  {
   "cell_type": "markdown",
   "id": "7b0487d6",
   "metadata": {
    "deletable": false,
    "editable": false,
    "id": "7b0487d6"
   },
   "source": [
    "**Задание 24. Объясните, почему заполнить пропуски медианным значением — лучшее решение для количественных переменных.**"
   ]
  },
  {
   "cell_type": "markdown",
   "id": "7ecf2b8e",
   "metadata": {
    "deletable": false,
    "id": "7ecf2b8e"
   },
   "source": [
    "*Ответ:* Потому что медианное значение лучше описывает выборку, где возможно появление значений в несколько раз больше, чем у бОльшего количества респондентов в выборке. \n",
    "\n",
    "Пример где среднее значение плохо описывает выборку: <br> `У пети 10 яблок, у остальных(Маши, Паши, Саши, Даши) 0 яблок. В среднем у каждого по 2 яблока.`"
   ]
  },
  {
   "cell_type": "markdown",
   "id": "a23a031b",
   "metadata": {},
   "source": [
    "<div class=\"alert alert-success\">\n",
    "<b>Комментарий ревьюера ✔️:</b> Совершенно верно!"
   ]
  },
  {
   "cell_type": "markdown",
   "id": "6db5255a",
   "metadata": {
    "deletable": false,
    "editable": false,
    "id": "6db5255a"
   },
   "source": [
    "## Общий вывод."
   ]
  },
  {
   "cell_type": "markdown",
   "id": "bad65432",
   "metadata": {
    "id": "bad65432"
   },
   "source": [
    "Возврат кредита в срок сильнее всего зависит от `цели кредита` и `семейного положения`, слабо зависит от `количества детей` и неоднозначно зависит от `уровня дохода`. \n",
    "\n",
    "**Рекомендации для банка** \n",
    "\n",
    "Учитывать в модели кредитного скоринга:\n",
    "- `цель кредита`\n",
    "- `семейное положение` *-  может коррелировать с возрастом, требуется дополнительно исследовать!*\n",
    "\n",
    "Не учитывать в модели кредитного скоринга:\n",
    "- `уровень дохода`\n",
    "- `количество детей`"
   ]
  },
  {
   "cell_type": "markdown",
   "id": "583c039d",
   "metadata": {},
   "source": [
    "<div class=\"alert alert-warning\">\n",
    "<b>Комментарий ревьюера ⚠️:</b> Хорошо бы указать тут еще какие-то рекомендации для банка"
   ]
  },
  {
   "cell_type": "markdown",
   "id": "dfebbdc8",
   "metadata": {},
   "source": [
    "<div class=\"alert alert-success\">\n",
    "<b>Комментарий ревьюера ✔️:</b> Иван, проект отличный! У тебя сильные аналитические навыки и владение инструментами для проведения исследования. Но всё же в проекте есть буквально одно критическое замечание и я попрошу тебя исправить его, чтобы проект стал еще лучше! </div>"
   ]
  },
  {
   "cell_type": "markdown",
   "id": "9c6cb7ff",
   "metadata": {},
   "source": [
    "<div class=\"alert alert-info\"> Спасибо за правки! =) </div>"
   ]
  },
  {
   "cell_type": "code",
   "execution_count": null,
   "id": "39ff0941",
   "metadata": {},
   "outputs": [],
   "source": []
  }
 ],
 "metadata": {
  "ExecuteTimeLog": [
   {
    "duration": 14,
    "start_time": "2022-07-07T19:54:19.647Z"
   },
   {
    "duration": 35,
    "start_time": "2022-07-07T19:54:46.239Z"
   },
   {
    "duration": 70,
    "start_time": "2022-07-07T19:54:50.797Z"
   },
   {
    "duration": 17,
    "start_time": "2022-07-07T19:54:50.869Z"
   },
   {
    "duration": 35,
    "start_time": "2022-07-07T19:54:50.888Z"
   },
   {
    "duration": 13,
    "start_time": "2022-07-07T19:54:50.926Z"
   },
   {
    "duration": 52,
    "start_time": "2022-07-07T19:54:50.943Z"
   },
   {
    "duration": 4,
    "start_time": "2022-07-07T19:54:50.997Z"
   },
   {
    "duration": 29,
    "start_time": "2022-07-07T19:54:51.003Z"
   },
   {
    "duration": 17,
    "start_time": "2022-07-07T19:54:51.034Z"
   },
   {
    "duration": 9,
    "start_time": "2022-07-07T19:54:51.053Z"
   },
   {
    "duration": 7,
    "start_time": "2022-07-07T19:54:51.064Z"
   },
   {
    "duration": 42,
    "start_time": "2022-07-07T19:54:51.073Z"
   },
   {
    "duration": 17,
    "start_time": "2022-07-07T19:54:51.116Z"
   },
   {
    "duration": 15,
    "start_time": "2022-07-07T19:54:51.135Z"
   },
   {
    "duration": 22,
    "start_time": "2022-07-07T19:54:51.153Z"
   },
   {
    "duration": 18,
    "start_time": "2022-07-07T19:54:51.177Z"
   },
   {
    "duration": 33,
    "start_time": "2022-07-07T19:54:51.197Z"
   },
   {
    "duration": 21,
    "start_time": "2022-07-07T19:54:51.232Z"
   },
   {
    "duration": 14,
    "start_time": "2022-07-07T19:54:51.255Z"
   },
   {
    "duration": 10,
    "start_time": "2022-07-07T19:54:51.270Z"
   },
   {
    "duration": 4,
    "start_time": "2022-07-07T19:54:51.282Z"
   },
   {
    "duration": 19,
    "start_time": "2022-07-07T19:54:51.288Z"
   },
   {
    "duration": 13,
    "start_time": "2022-07-07T19:54:55.221Z"
   },
   {
    "duration": 886,
    "start_time": "2022-07-07T19:55:08.233Z"
   },
   {
    "duration": 6,
    "start_time": "2022-07-07T19:55:20.413Z"
   },
   {
    "duration": 6,
    "start_time": "2022-07-07T19:55:27.453Z"
   },
   {
    "duration": 5,
    "start_time": "2022-07-07T19:55:46.430Z"
   },
   {
    "duration": 3,
    "start_time": "2022-07-07T19:55:55.134Z"
   },
   {
    "duration": 4,
    "start_time": "2022-07-07T19:56:01.214Z"
   },
   {
    "duration": 7,
    "start_time": "2022-07-07T19:56:11.150Z"
   },
   {
    "duration": 7,
    "start_time": "2022-07-07T19:56:21.390Z"
   },
   {
    "duration": 5,
    "start_time": "2022-07-07T19:57:50.288Z"
   },
   {
    "duration": 8,
    "start_time": "2022-07-07T19:58:09.360Z"
   },
   {
    "duration": 7,
    "start_time": "2022-07-07T19:58:12.250Z"
   },
   {
    "duration": 8,
    "start_time": "2022-07-07T19:58:22.624Z"
   },
   {
    "duration": 9,
    "start_time": "2022-07-07T19:58:30.756Z"
   },
   {
    "duration": 10,
    "start_time": "2022-07-07T19:58:46.171Z"
   },
   {
    "duration": 47,
    "start_time": "2022-07-07T19:59:07.586Z"
   },
   {
    "duration": 46,
    "start_time": "2022-07-07T19:59:21.397Z"
   },
   {
    "duration": 43,
    "start_time": "2022-07-07T19:59:27.083Z"
   },
   {
    "duration": 13,
    "start_time": "2022-07-07T19:59:29.875Z"
   },
   {
    "duration": 13,
    "start_time": "2022-07-07T19:59:46.646Z"
   },
   {
    "duration": 9,
    "start_time": "2022-07-07T19:59:51.491Z"
   },
   {
    "duration": 16,
    "start_time": "2022-07-07T20:00:02.326Z"
   },
   {
    "duration": 13,
    "start_time": "2022-07-07T20:00:08.532Z"
   },
   {
    "duration": 13,
    "start_time": "2022-07-07T20:00:11.331Z"
   },
   {
    "duration": 16,
    "start_time": "2022-07-07T20:00:37.284Z"
   },
   {
    "duration": 10,
    "start_time": "2022-07-07T20:00:42.020Z"
   },
   {
    "duration": 10,
    "start_time": "2022-07-07T20:00:54.959Z"
   },
   {
    "duration": 11,
    "start_time": "2022-07-07T20:02:30.322Z"
   },
   {
    "duration": 12,
    "start_time": "2022-07-07T20:03:50.261Z"
   },
   {
    "duration": 12,
    "start_time": "2022-07-07T20:04:01.105Z"
   },
   {
    "duration": 455,
    "start_time": "2022-07-07T20:04:25.447Z"
   },
   {
    "duration": 32,
    "start_time": "2022-07-07T20:04:25.904Z"
   },
   {
    "duration": 17,
    "start_time": "2022-07-07T20:04:25.938Z"
   },
   {
    "duration": 12,
    "start_time": "2022-07-07T20:04:25.957Z"
   },
   {
    "duration": 36,
    "start_time": "2022-07-07T20:04:25.971Z"
   },
   {
    "duration": 8,
    "start_time": "2022-07-07T20:04:26.026Z"
   },
   {
    "duration": 14,
    "start_time": "2022-07-07T20:04:26.041Z"
   },
   {
    "duration": 5,
    "start_time": "2022-07-07T20:04:26.056Z"
   },
   {
    "duration": 10,
    "start_time": "2022-07-07T20:04:26.062Z"
   },
   {
    "duration": 5,
    "start_time": "2022-07-07T20:04:26.073Z"
   },
   {
    "duration": 58,
    "start_time": "2022-07-07T20:04:26.079Z"
   },
   {
    "duration": 12,
    "start_time": "2022-07-07T20:04:26.138Z"
   },
   {
    "duration": 4,
    "start_time": "2022-07-07T20:04:26.151Z"
   },
   {
    "duration": 20,
    "start_time": "2022-07-07T20:04:26.158Z"
   },
   {
    "duration": 19,
    "start_time": "2022-07-07T20:04:26.180Z"
   },
   {
    "duration": 15,
    "start_time": "2022-07-07T20:04:26.232Z"
   },
   {
    "duration": 3,
    "start_time": "2022-07-07T20:04:26.249Z"
   },
   {
    "duration": 13,
    "start_time": "2022-07-07T20:04:26.254Z"
   },
   {
    "duration": 8,
    "start_time": "2022-07-07T20:04:26.269Z"
   },
   {
    "duration": 3,
    "start_time": "2022-07-07T20:04:26.279Z"
   },
   {
    "duration": 11,
    "start_time": "2022-07-07T20:04:26.284Z"
   },
   {
    "duration": 86,
    "start_time": "2022-07-07T20:04:26.297Z"
   },
   {
    "duration": 0,
    "start_time": "2022-07-07T20:04:26.384Z"
   },
   {
    "duration": 0,
    "start_time": "2022-07-07T20:04:26.386Z"
   },
   {
    "duration": 0,
    "start_time": "2022-07-07T20:04:26.387Z"
   },
   {
    "duration": 12,
    "start_time": "2022-07-07T20:04:49.897Z"
   },
   {
    "duration": 972,
    "start_time": "2022-07-07T20:06:07.290Z"
   },
   {
    "duration": 12,
    "start_time": "2022-07-07T20:06:20.865Z"
   },
   {
    "duration": 971,
    "start_time": "2022-07-07T20:09:59.227Z"
   },
   {
    "duration": 378,
    "start_time": "2022-07-07T20:10:04.085Z"
   },
   {
    "duration": 65,
    "start_time": "2022-07-07T20:10:18.652Z"
   },
   {
    "duration": 14,
    "start_time": "2022-07-07T20:13:17.658Z"
   },
   {
    "duration": 14,
    "start_time": "2022-07-07T20:16:02.103Z"
   },
   {
    "duration": 21,
    "start_time": "2022-07-07T20:16:57.979Z"
   },
   {
    "duration": 872,
    "start_time": "2022-07-07T20:17:08.559Z"
   },
   {
    "duration": 142,
    "start_time": "2022-07-07T20:17:17.110Z"
   },
   {
    "duration": 165,
    "start_time": "2022-07-07T20:17:29.402Z"
   },
   {
    "duration": 30,
    "start_time": "2022-07-07T20:17:33.429Z"
   },
   {
    "duration": 173,
    "start_time": "2022-07-07T20:17:36.902Z"
   },
   {
    "duration": 133,
    "start_time": "2022-07-07T20:19:57.256Z"
   },
   {
    "duration": 157,
    "start_time": "2022-07-07T20:20:20.520Z"
   },
   {
    "duration": 149,
    "start_time": "2022-07-07T20:24:37.145Z"
   },
   {
    "duration": 159,
    "start_time": "2022-07-07T20:24:49.285Z"
   },
   {
    "duration": 138,
    "start_time": "2022-07-07T20:25:28.628Z"
   },
   {
    "duration": 209,
    "start_time": "2022-07-07T20:25:36.444Z"
   },
   {
    "duration": 147,
    "start_time": "2022-07-07T20:25:51.526Z"
   },
   {
    "duration": 147,
    "start_time": "2022-07-07T20:27:00.068Z"
   },
   {
    "duration": 162,
    "start_time": "2022-07-07T20:29:19.622Z"
   },
   {
    "duration": 48,
    "start_time": "2022-07-07T20:29:39.722Z"
   },
   {
    "duration": 48,
    "start_time": "2022-07-07T20:29:48.099Z"
   },
   {
    "duration": 59,
    "start_time": "2022-07-07T20:29:53.005Z"
   },
   {
    "duration": 169,
    "start_time": "2022-07-07T20:30:02.266Z"
   },
   {
    "duration": 66,
    "start_time": "2022-07-07T20:30:58.920Z"
   },
   {
    "duration": 51,
    "start_time": "2022-07-07T20:31:09.751Z"
   },
   {
    "duration": 145,
    "start_time": "2022-07-07T20:31:29.670Z"
   },
   {
    "duration": 197,
    "start_time": "2022-07-07T20:31:38.904Z"
   },
   {
    "duration": 161,
    "start_time": "2022-07-07T20:31:44.125Z"
   },
   {
    "duration": 21,
    "start_time": "2022-07-07T20:32:02.231Z"
   },
   {
    "duration": 152,
    "start_time": "2022-07-07T20:32:06.275Z"
   },
   {
    "duration": 153,
    "start_time": "2022-07-07T20:32:11.629Z"
   },
   {
    "duration": 151,
    "start_time": "2022-07-07T20:32:18.157Z"
   },
   {
    "duration": 145,
    "start_time": "2022-07-07T20:33:02.507Z"
   },
   {
    "duration": 239,
    "start_time": "2022-07-07T20:33:08.486Z"
   },
   {
    "duration": 8,
    "start_time": "2022-07-07T20:43:18.735Z"
   },
   {
    "duration": 13,
    "start_time": "2022-07-07T20:44:02.115Z"
   },
   {
    "duration": 12,
    "start_time": "2022-07-07T20:44:10.966Z"
   },
   {
    "duration": 155,
    "start_time": "2022-07-07T20:46:44.841Z"
   },
   {
    "duration": 43,
    "start_time": "2022-07-07T20:47:44.185Z"
   },
   {
    "duration": 38,
    "start_time": "2022-07-07T20:47:54.734Z"
   },
   {
    "duration": 43,
    "start_time": "2022-07-07T20:48:27.288Z"
   },
   {
    "duration": 40,
    "start_time": "2022-07-07T20:48:44.879Z"
   },
   {
    "duration": 154,
    "start_time": "2022-07-07T20:49:08.039Z"
   },
   {
    "duration": 162,
    "start_time": "2022-07-07T20:49:37.976Z"
   },
   {
    "duration": 228,
    "start_time": "2022-07-07T20:50:19.045Z"
   },
   {
    "duration": 160,
    "start_time": "2022-07-07T20:50:42.666Z"
   },
   {
    "duration": 155,
    "start_time": "2022-07-07T20:51:13.401Z"
   },
   {
    "duration": 20,
    "start_time": "2022-07-07T20:51:27.018Z"
   },
   {
    "duration": 20,
    "start_time": "2022-07-07T20:51:46.664Z"
   },
   {
    "duration": 138,
    "start_time": "2022-07-07T20:51:51.735Z"
   },
   {
    "duration": 50,
    "start_time": "2022-07-08T09:52:02.821Z"
   },
   {
    "duration": 559,
    "start_time": "2022-07-08T09:52:15.618Z"
   },
   {
    "duration": 22,
    "start_time": "2022-07-08T09:52:16.179Z"
   },
   {
    "duration": 15,
    "start_time": "2022-07-08T09:52:16.202Z"
   },
   {
    "duration": 14,
    "start_time": "2022-07-08T09:52:16.219Z"
   },
   {
    "duration": 37,
    "start_time": "2022-07-08T09:52:16.234Z"
   },
   {
    "duration": 4,
    "start_time": "2022-07-08T09:52:16.272Z"
   },
   {
    "duration": 14,
    "start_time": "2022-07-08T09:52:16.277Z"
   },
   {
    "duration": 9,
    "start_time": "2022-07-08T09:52:16.292Z"
   },
   {
    "duration": 26,
    "start_time": "2022-07-08T09:52:16.303Z"
   },
   {
    "duration": 11,
    "start_time": "2022-07-08T09:52:16.333Z"
   },
   {
    "duration": 41,
    "start_time": "2022-07-08T09:52:16.345Z"
   },
   {
    "duration": 10,
    "start_time": "2022-07-08T09:52:16.388Z"
   },
   {
    "duration": 20,
    "start_time": "2022-07-08T09:52:16.400Z"
   },
   {
    "duration": 27,
    "start_time": "2022-07-08T09:52:16.421Z"
   },
   {
    "duration": 16,
    "start_time": "2022-07-08T09:52:16.450Z"
   },
   {
    "duration": 39,
    "start_time": "2022-07-08T09:52:16.468Z"
   },
   {
    "duration": 19,
    "start_time": "2022-07-08T09:52:16.509Z"
   },
   {
    "duration": 24,
    "start_time": "2022-07-08T09:52:16.529Z"
   },
   {
    "duration": 6,
    "start_time": "2022-07-08T09:52:16.555Z"
   },
   {
    "duration": 8,
    "start_time": "2022-07-08T09:52:16.563Z"
   },
   {
    "duration": 15,
    "start_time": "2022-07-08T09:52:16.572Z"
   },
   {
    "duration": 1116,
    "start_time": "2022-07-08T09:52:16.588Z"
   },
   {
    "duration": 28,
    "start_time": "2022-07-08T09:52:17.705Z"
   },
   {
    "duration": 138,
    "start_time": "2022-07-08T09:52:17.735Z"
   },
   {
    "duration": 17,
    "start_time": "2022-07-08T09:52:19.455Z"
   },
   {
    "duration": 125,
    "start_time": "2022-07-08T09:53:02.441Z"
   },
   {
    "duration": 139,
    "start_time": "2022-07-08T09:53:10.800Z"
   },
   {
    "duration": 130,
    "start_time": "2022-07-08T09:55:53.453Z"
   },
   {
    "duration": 177,
    "start_time": "2022-07-08T09:56:04.387Z"
   },
   {
    "duration": 176,
    "start_time": "2022-07-08T09:56:08.872Z"
   },
   {
    "duration": 130,
    "start_time": "2022-07-08T09:56:16.284Z"
   },
   {
    "duration": 128,
    "start_time": "2022-07-08T09:56:20.297Z"
   },
   {
    "duration": 208,
    "start_time": "2022-07-08T09:56:29.187Z"
   },
   {
    "duration": 130,
    "start_time": "2022-07-08T10:06:23.768Z"
   },
   {
    "duration": 155,
    "start_time": "2022-07-08T10:06:50.212Z"
   },
   {
    "duration": 136,
    "start_time": "2022-07-08T10:13:35.807Z"
   },
   {
    "duration": 26,
    "start_time": "2022-07-08T10:18:55.785Z"
   },
   {
    "duration": 14,
    "start_time": "2022-07-08T10:19:03.529Z"
   },
   {
    "duration": 67,
    "start_time": "2022-07-08T10:19:27.581Z"
   },
   {
    "duration": 17,
    "start_time": "2022-07-08T10:19:27.650Z"
   },
   {
    "duration": 17,
    "start_time": "2022-07-08T10:19:27.669Z"
   },
   {
    "duration": 52,
    "start_time": "2022-07-08T10:19:27.688Z"
   },
   {
    "duration": 34,
    "start_time": "2022-07-08T10:19:27.743Z"
   },
   {
    "duration": 4,
    "start_time": "2022-07-08T10:19:27.778Z"
   },
   {
    "duration": 17,
    "start_time": "2022-07-08T10:19:27.784Z"
   },
   {
    "duration": 22,
    "start_time": "2022-07-08T10:19:27.803Z"
   },
   {
    "duration": 10,
    "start_time": "2022-07-08T10:19:27.826Z"
   },
   {
    "duration": 5,
    "start_time": "2022-07-08T10:19:27.838Z"
   },
   {
    "duration": 50,
    "start_time": "2022-07-08T10:19:27.845Z"
   },
   {
    "duration": 27,
    "start_time": "2022-07-08T10:19:27.897Z"
   },
   {
    "duration": 6,
    "start_time": "2022-07-08T10:19:27.926Z"
   },
   {
    "duration": 23,
    "start_time": "2022-07-08T10:19:27.935Z"
   },
   {
    "duration": 33,
    "start_time": "2022-07-08T10:19:27.960Z"
   },
   {
    "duration": 34,
    "start_time": "2022-07-08T10:19:27.996Z"
   },
   {
    "duration": 4,
    "start_time": "2022-07-08T10:19:28.032Z"
   },
   {
    "duration": 25,
    "start_time": "2022-07-08T10:19:28.038Z"
   },
   {
    "duration": 10,
    "start_time": "2022-07-08T10:19:28.065Z"
   },
   {
    "duration": 5,
    "start_time": "2022-07-08T10:19:28.077Z"
   },
   {
    "duration": 15,
    "start_time": "2022-07-08T10:19:28.084Z"
   },
   {
    "duration": 179,
    "start_time": "2022-07-08T10:19:28.100Z"
   },
   {
    "duration": 21,
    "start_time": "2022-07-08T10:19:28.281Z"
   },
   {
    "duration": 160,
    "start_time": "2022-07-08T10:19:28.304Z"
   },
   {
    "duration": 149,
    "start_time": "2022-07-08T10:19:28.466Z"
   },
   {
    "duration": 157,
    "start_time": "2022-07-08T10:19:28.622Z"
   },
   {
    "duration": 485,
    "start_time": "2022-07-08T10:20:01.535Z"
   },
   {
    "duration": 28,
    "start_time": "2022-07-08T10:20:02.023Z"
   },
   {
    "duration": 27,
    "start_time": "2022-07-08T10:20:02.053Z"
   },
   {
    "duration": 11,
    "start_time": "2022-07-08T10:20:02.083Z"
   },
   {
    "duration": 55,
    "start_time": "2022-07-08T10:20:02.096Z"
   },
   {
    "duration": 23,
    "start_time": "2022-07-08T10:20:02.153Z"
   },
   {
    "duration": 45,
    "start_time": "2022-07-08T10:20:02.177Z"
   },
   {
    "duration": 39,
    "start_time": "2022-07-08T10:20:02.223Z"
   },
   {
    "duration": 15,
    "start_time": "2022-07-08T10:20:02.264Z"
   },
   {
    "duration": 21,
    "start_time": "2022-07-08T10:20:02.281Z"
   },
   {
    "duration": 100,
    "start_time": "2022-07-08T10:20:02.304Z"
   },
   {
    "duration": 17,
    "start_time": "2022-07-08T10:20:02.406Z"
   },
   {
    "duration": 30,
    "start_time": "2022-07-08T10:20:02.425Z"
   },
   {
    "duration": 33,
    "start_time": "2022-07-08T10:20:02.459Z"
   },
   {
    "duration": 24,
    "start_time": "2022-07-08T10:20:02.494Z"
   },
   {
    "duration": 18,
    "start_time": "2022-07-08T10:20:02.520Z"
   },
   {
    "duration": 14,
    "start_time": "2022-07-08T10:20:02.541Z"
   },
   {
    "duration": 32,
    "start_time": "2022-07-08T10:20:02.557Z"
   },
   {
    "duration": 37,
    "start_time": "2022-07-08T10:20:02.591Z"
   },
   {
    "duration": 21,
    "start_time": "2022-07-08T10:20:02.630Z"
   },
   {
    "duration": 43,
    "start_time": "2022-07-08T10:20:02.654Z"
   },
   {
    "duration": 1023,
    "start_time": "2022-07-08T10:20:02.700Z"
   },
   {
    "duration": 20,
    "start_time": "2022-07-08T10:20:03.725Z"
   },
   {
    "duration": 147,
    "start_time": "2022-07-08T10:20:03.746Z"
   },
   {
    "duration": 147,
    "start_time": "2022-07-08T10:20:03.895Z"
   },
   {
    "duration": 152,
    "start_time": "2022-07-08T10:20:04.043Z"
   },
   {
    "duration": 136,
    "start_time": "2022-07-08T10:29:21.636Z"
   },
   {
    "duration": 461,
    "start_time": "2022-07-08T10:34:21.256Z"
   },
   {
    "duration": 29,
    "start_time": "2022-07-08T10:34:21.719Z"
   },
   {
    "duration": 14,
    "start_time": "2022-07-08T10:34:21.750Z"
   },
   {
    "duration": 9,
    "start_time": "2022-07-08T10:34:21.766Z"
   },
   {
    "duration": 66,
    "start_time": "2022-07-08T10:34:21.777Z"
   },
   {
    "duration": 3,
    "start_time": "2022-07-08T10:34:21.845Z"
   },
   {
    "duration": 14,
    "start_time": "2022-07-08T10:34:21.850Z"
   },
   {
    "duration": 8,
    "start_time": "2022-07-08T10:34:21.866Z"
   },
   {
    "duration": 23,
    "start_time": "2022-07-08T10:34:21.875Z"
   },
   {
    "duration": 16,
    "start_time": "2022-07-08T10:34:21.899Z"
   },
   {
    "duration": 45,
    "start_time": "2022-07-08T10:34:21.917Z"
   },
   {
    "duration": 11,
    "start_time": "2022-07-08T10:34:21.964Z"
   },
   {
    "duration": 13,
    "start_time": "2022-07-08T10:34:21.977Z"
   },
   {
    "duration": 42,
    "start_time": "2022-07-08T10:34:21.994Z"
   },
   {
    "duration": 19,
    "start_time": "2022-07-08T10:34:22.038Z"
   },
   {
    "duration": 12,
    "start_time": "2022-07-08T10:34:22.059Z"
   },
   {
    "duration": 6,
    "start_time": "2022-07-08T10:34:22.073Z"
   },
   {
    "duration": 16,
    "start_time": "2022-07-08T10:34:22.080Z"
   },
   {
    "duration": 26,
    "start_time": "2022-07-08T10:34:22.098Z"
   },
   {
    "duration": 5,
    "start_time": "2022-07-08T10:34:22.127Z"
   },
   {
    "duration": 14,
    "start_time": "2022-07-08T10:34:22.135Z"
   },
   {
    "duration": 997,
    "start_time": "2022-07-08T10:34:22.151Z"
   },
   {
    "duration": 19,
    "start_time": "2022-07-08T10:34:23.150Z"
   },
   {
    "duration": 171,
    "start_time": "2022-07-08T10:34:23.171Z"
   },
   {
    "duration": 148,
    "start_time": "2022-07-08T10:34:23.344Z"
   },
   {
    "duration": 163,
    "start_time": "2022-07-08T10:34:23.494Z"
   },
   {
    "duration": 1506,
    "start_time": "2022-07-08T15:58:49.094Z"
   },
   {
    "duration": 336,
    "start_time": "2022-07-08T15:58:57.314Z"
   },
   {
    "duration": 21,
    "start_time": "2022-07-08T15:58:57.653Z"
   },
   {
    "duration": 17,
    "start_time": "2022-07-08T15:58:57.676Z"
   },
   {
    "duration": 10,
    "start_time": "2022-07-08T15:58:57.695Z"
   },
   {
    "duration": 39,
    "start_time": "2022-07-08T15:58:57.708Z"
   },
   {
    "duration": 4,
    "start_time": "2022-07-08T15:58:57.748Z"
   },
   {
    "duration": 14,
    "start_time": "2022-07-08T15:58:57.754Z"
   },
   {
    "duration": 5,
    "start_time": "2022-07-08T15:58:57.770Z"
   },
   {
    "duration": 8,
    "start_time": "2022-07-08T15:58:57.797Z"
   },
   {
    "duration": 5,
    "start_time": "2022-07-08T15:58:57.807Z"
   },
   {
    "duration": 40,
    "start_time": "2022-07-08T15:58:57.814Z"
   },
   {
    "duration": 11,
    "start_time": "2022-07-08T15:58:57.856Z"
   },
   {
    "duration": 5,
    "start_time": "2022-07-08T15:58:57.897Z"
   },
   {
    "duration": 23,
    "start_time": "2022-07-08T15:58:57.906Z"
   },
   {
    "duration": 21,
    "start_time": "2022-07-08T15:58:57.931Z"
   },
   {
    "duration": 13,
    "start_time": "2022-07-08T15:58:57.954Z"
   },
   {
    "duration": 29,
    "start_time": "2022-07-08T15:58:57.969Z"
   },
   {
    "duration": 12,
    "start_time": "2022-07-08T15:58:58.000Z"
   },
   {
    "duration": 9,
    "start_time": "2022-07-08T15:58:58.014Z"
   },
   {
    "duration": 4,
    "start_time": "2022-07-08T15:58:58.025Z"
   },
   {
    "duration": 14,
    "start_time": "2022-07-08T15:58:58.031Z"
   },
   {
    "duration": 35,
    "start_time": "2022-07-08T15:59:13.238Z"
   },
   {
    "duration": 15,
    "start_time": "2022-07-08T16:01:09.359Z"
   },
   {
    "duration": 19,
    "start_time": "2022-07-08T16:01:36.177Z"
   },
   {
    "duration": 13,
    "start_time": "2022-07-08T16:02:07.101Z"
   },
   {
    "duration": 9,
    "start_time": "2022-07-08T16:02:14.418Z"
   },
   {
    "duration": 26,
    "start_time": "2022-07-08T16:02:19.479Z"
   },
   {
    "duration": 10,
    "start_time": "2022-07-08T16:03:02.558Z"
   },
   {
    "duration": 9,
    "start_time": "2022-07-08T16:03:12.888Z"
   },
   {
    "duration": 44,
    "start_time": "2022-07-08T16:03:35.336Z"
   },
   {
    "duration": 76,
    "start_time": "2022-07-08T16:04:38.484Z"
   },
   {
    "duration": 169,
    "start_time": "2022-07-08T16:05:04.023Z"
   },
   {
    "duration": 34,
    "start_time": "2022-07-08T16:05:51.464Z"
   },
   {
    "duration": 12,
    "start_time": "2022-07-08T16:06:04.755Z"
   },
   {
    "duration": 15,
    "start_time": "2022-07-08T16:06:12.753Z"
   },
   {
    "duration": 15,
    "start_time": "2022-07-08T16:06:16.843Z"
   },
   {
    "duration": 34,
    "start_time": "2022-07-08T16:06:25.844Z"
   },
   {
    "duration": 33,
    "start_time": "2022-07-08T16:07:28.500Z"
   },
   {
    "duration": 34,
    "start_time": "2022-07-08T16:08:48.080Z"
   },
   {
    "duration": 20,
    "start_time": "2022-07-08T16:09:06.580Z"
   },
   {
    "duration": 52,
    "start_time": "2022-07-08T16:09:26.653Z"
   },
   {
    "duration": 2,
    "start_time": "2022-07-08T16:09:39.059Z"
   },
   {
    "duration": 38,
    "start_time": "2022-07-08T16:10:32.120Z"
   },
   {
    "duration": 43,
    "start_time": "2022-07-08T16:11:32.386Z"
   },
   {
    "duration": 61,
    "start_time": "2022-07-08T16:12:40.887Z"
   },
   {
    "duration": 11,
    "start_time": "2022-07-08T16:14:00.307Z"
   },
   {
    "duration": 50,
    "start_time": "2022-07-08T16:15:39.410Z"
   },
   {
    "duration": 60,
    "start_time": "2022-07-08T16:15:47.845Z"
   },
   {
    "duration": 73,
    "start_time": "2022-07-08T16:25:57.581Z"
   },
   {
    "duration": 77,
    "start_time": "2022-07-08T16:33:35.689Z"
   }
  ],
  "colab": {
   "name": "dpp_template_part2.ipynb",
   "provenance": []
  },
  "kernelspec": {
   "display_name": "Python 3 (ipykernel)",
   "language": "python",
   "name": "python3"
  },
  "language_info": {
   "codemirror_mode": {
    "name": "ipython",
    "version": 3
   },
   "file_extension": ".py",
   "mimetype": "text/x-python",
   "name": "python",
   "nbconvert_exporter": "python",
   "pygments_lexer": "ipython3",
   "version": "3.9.13"
  },
  "toc": {
   "base_numbering": 1,
   "nav_menu": {},
   "number_sections": true,
   "sideBar": true,
   "skip_h1_title": true,
   "title_cell": "Table of Contents",
   "title_sidebar": "Contents",
   "toc_cell": false,
   "toc_position": {},
   "toc_section_display": true,
   "toc_window_display": false
  }
 },
 "nbformat": 4,
 "nbformat_minor": 5
}
