{
 "cells": [
  {
   "cell_type": "markdown",
   "metadata": {
    "toc": true
   },
   "source": [
    "<h1>Содержание<span class=\"tocSkip\"></span></h1>\n",
    "<div class=\"toc\"><ul class=\"toc-item\"><li><span><a href=\"#Подготовка\" data-toc-modified-id=\"Подготовка-1\"><span class=\"toc-item-num\">1&nbsp;&nbsp;</span>Подготовка</a></span></li><li><span><a href=\"#Анализ\" data-toc-modified-id=\"Анализ-2\"><span class=\"toc-item-num\">2&nbsp;&nbsp;</span>Анализ</a></span><ul class=\"toc-item\"><li><span><a href=\"#Декомпозируем:-тренд,-сезонность,-остатки\" data-toc-modified-id=\"Декомпозируем:-тренд,-сезонность,-остатки-2.1\"><span class=\"toc-item-num\">2.1&nbsp;&nbsp;</span>Декомпозируем: тренд, сезонность, остатки</a></span></li></ul></li><li><span><a href=\"#Обучение\" data-toc-modified-id=\"Обучение-3\"><span class=\"toc-item-num\">3&nbsp;&nbsp;</span>Обучение</a></span><ul class=\"toc-item\"><li><span><a href=\"#Функция-создания-признаков\" data-toc-modified-id=\"Функция-создания-признаков-3.1\"><span class=\"toc-item-num\">3.1&nbsp;&nbsp;</span>Функция создания признаков</a></span></li><li><span><a href=\"#Функция-тестирования-модели\" data-toc-modified-id=\"Функция-тестирования-модели-3.2\"><span class=\"toc-item-num\">3.2&nbsp;&nbsp;</span>Функция тестирования модели</a></span></li><li><span><a href=\"#Подготовим-признаки\" data-toc-modified-id=\"Подготовим-признаки-3.3\"><span class=\"toc-item-num\">3.3&nbsp;&nbsp;</span>Подготовим признаки</a></span></li><li><span><a href=\"#Разбиваем-на-тренировочную-и-тестовую-выборки\" data-toc-modified-id=\"Разбиваем-на-тренировочную-и-тестовую-выборки-3.4\"><span class=\"toc-item-num\">3.4&nbsp;&nbsp;</span>Разбиваем на тренировочную и тестовую выборки</a></span></li><li><span><a href=\"#Тренируем-модели\" data-toc-modified-id=\"Тренируем-модели-3.5\"><span class=\"toc-item-num\">3.5&nbsp;&nbsp;</span>Тренируем модели</a></span><ul class=\"toc-item\"><li><span><a href=\"#RandomForest\" data-toc-modified-id=\"RandomForest-3.5.1\"><span class=\"toc-item-num\">3.5.1&nbsp;&nbsp;</span>RandomForest</a></span></li><li><span><a href=\"#CatBoost\" data-toc-modified-id=\"CatBoost-3.5.2\"><span class=\"toc-item-num\">3.5.2&nbsp;&nbsp;</span>CatBoost</a></span></li><li><span><a href=\"#LGBM\" data-toc-modified-id=\"LGBM-3.5.3\"><span class=\"toc-item-num\">3.5.3&nbsp;&nbsp;</span>LGBM</a></span></li></ul></li></ul></li><li><span><a href=\"#Тестирование\" data-toc-modified-id=\"Тестирование-4\"><span class=\"toc-item-num\">4&nbsp;&nbsp;</span>Тестирование</a></span><ul class=\"toc-item\"><li><span><a href=\"#Вывод\" data-toc-modified-id=\"Вывод-4.1\"><span class=\"toc-item-num\">4.1&nbsp;&nbsp;</span>Вывод</a></span></li></ul></li><li><span><a href=\"#Чек-лист-проверки\" data-toc-modified-id=\"Чек-лист-проверки-5\"><span class=\"toc-item-num\">5&nbsp;&nbsp;</span>Чек-лист проверки</a></span></li></ul></div>"
   ]
  },
  {
   "cell_type": "markdown",
   "metadata": {},
   "source": [
    "#  Прогнозирование заказов такси"
   ]
  },
  {
   "cell_type": "markdown",
   "metadata": {},
   "source": [
    "Компания «Чётенькое такси» собрала исторические данные о заказах такси в аэропортах. Чтобы привлекать больше водителей в период пиковой нагрузки, нужно спрогнозировать количество заказов такси на следующий час. Постройте модель для такого предсказания.\n",
    "\n",
    "Значение метрики *RMSE* на тестовой выборке должно быть не больше 48.\n",
    "\n",
    "Вам нужно:\n",
    "\n",
    "1. Загрузить данные и выполнить их ресемплирование по одному часу.\n",
    "2. Проанализировать данные.\n",
    "3. Обучить разные модели с различными гиперпараметрами. Сделать тестовую выборку размером 10% от исходных данных.\n",
    "4. Проверить данные на тестовой выборке и сделать выводы.\n",
    "\n",
    "\n",
    "Данные лежат в файле `taxi.csv`. Количество заказов находится в столбце `num_orders` (от англ. *number of orders*, «число заказов»)."
   ]
  },
  {
   "cell_type": "markdown",
   "metadata": {},
   "source": [
    "## Подготовка"
   ]
  },
  {
   "cell_type": "code",
   "execution_count": 206,
   "metadata": {},
   "outputs": [],
   "source": [
    "import time\n",
    "import warnings\n",
    "\n",
    "import matplotlib.pyplot as plt\n",
    "import numpy as np\n",
    "import pandas as pd\n",
    "import matplotlib.pyplot as plt\n",
    "\n",
    "from catboost import CatBoostRegressor\n",
    "from lightgbm import LGBMRegressor\n",
    "from statsmodels.tsa.seasonal import seasonal_decompose\n",
    "\n",
    "from sklearn.metrics import mean_squared_error\n",
    "from sklearn.model_selection import GridSearchCV\n",
    "from sklearn.model_selection import TimeSeriesSplit\n",
    "\n",
    "from sklearn.model_selection import cross_val_score\n",
    "\n",
    "from sklearn.linear_model import LinearRegression\n",
    "from sklearn.tree import DecisionTreeRegressor\n",
    "from sklearn.ensemble import RandomForestRegressor"
   ]
  },
  {
   "cell_type": "code",
   "execution_count": 207,
   "metadata": {},
   "outputs": [],
   "source": [
    "warnings.filterwarnings('ignore')"
   ]
  },
  {
   "cell_type": "code",
   "execution_count": 208,
   "metadata": {},
   "outputs": [],
   "source": [
    "df = pd.read_csv('/datasets/taxi.csv',index_col=[0], parse_dates=[0])"
   ]
  },
  {
   "cell_type": "code",
   "execution_count": 209,
   "metadata": {},
   "outputs": [
    {
     "name": "stdout",
     "output_type": "stream",
     "text": [
      "<class 'pandas.core.frame.DataFrame'>\n",
      "DatetimeIndex: 26496 entries, 2018-03-01 00:00:00 to 2018-08-31 23:50:00\n",
      "Data columns (total 1 columns):\n",
      " #   Column      Non-Null Count  Dtype\n",
      "---  ------      --------------  -----\n",
      " 0   num_orders  26496 non-null  int64\n",
      "dtypes: int64(1)\n",
      "memory usage: 414.0 KB\n"
     ]
    }
   ],
   "source": [
    "df.info()"
   ]
  },
  {
   "cell_type": "code",
   "execution_count": 210,
   "metadata": {},
   "outputs": [
    {
     "data": {
      "text/plain": [
       "True"
      ]
     },
     "execution_count": 210,
     "metadata": {},
     "output_type": "execute_result"
    }
   ],
   "source": [
    "df.index.is_monotonic"
   ]
  },
  {
   "cell_type": "code",
   "execution_count": 211,
   "metadata": {},
   "outputs": [
    {
     "data": {
      "text/html": [
       "<div>\n",
       "<style scoped>\n",
       "    .dataframe tbody tr th:only-of-type {\n",
       "        vertical-align: middle;\n",
       "    }\n",
       "\n",
       "    .dataframe tbody tr th {\n",
       "        vertical-align: top;\n",
       "    }\n",
       "\n",
       "    .dataframe thead th {\n",
       "        text-align: right;\n",
       "    }\n",
       "</style>\n",
       "<table border=\"1\" class=\"dataframe\">\n",
       "  <thead>\n",
       "    <tr style=\"text-align: right;\">\n",
       "      <th></th>\n",
       "      <th>num_orders</th>\n",
       "    </tr>\n",
       "  </thead>\n",
       "  <tbody>\n",
       "    <tr>\n",
       "      <th>count</th>\n",
       "      <td>26496.000000</td>\n",
       "    </tr>\n",
       "    <tr>\n",
       "      <th>mean</th>\n",
       "      <td>14.070463</td>\n",
       "    </tr>\n",
       "    <tr>\n",
       "      <th>std</th>\n",
       "      <td>9.211330</td>\n",
       "    </tr>\n",
       "    <tr>\n",
       "      <th>min</th>\n",
       "      <td>0.000000</td>\n",
       "    </tr>\n",
       "    <tr>\n",
       "      <th>25%</th>\n",
       "      <td>8.000000</td>\n",
       "    </tr>\n",
       "    <tr>\n",
       "      <th>50%</th>\n",
       "      <td>13.000000</td>\n",
       "    </tr>\n",
       "    <tr>\n",
       "      <th>75%</th>\n",
       "      <td>19.000000</td>\n",
       "    </tr>\n",
       "    <tr>\n",
       "      <th>max</th>\n",
       "      <td>119.000000</td>\n",
       "    </tr>\n",
       "  </tbody>\n",
       "</table>\n",
       "</div>"
      ],
      "text/plain": [
       "         num_orders\n",
       "count  26496.000000\n",
       "mean      14.070463\n",
       "std        9.211330\n",
       "min        0.000000\n",
       "25%        8.000000\n",
       "50%       13.000000\n",
       "75%       19.000000\n",
       "max      119.000000"
      ]
     },
     "execution_count": 211,
     "metadata": {},
     "output_type": "execute_result"
    }
   ],
   "source": [
    "df.describe()"
   ]
  },
  {
   "cell_type": "code",
   "execution_count": 212,
   "metadata": {},
   "outputs": [
    {
     "data": {
      "image/png": "[encoded data removed]",
      "text/plain": [
       "<Figure size 432x288 with 1 Axes>"
      ]
     },
     "metadata": {
      "needs_background": "light"
     },
     "output_type": "display_data"
    }
   ],
   "source": [
    "df.hist(bins=100);"
   ]
  },
  {
   "cell_type": "code",
   "execution_count": 213,
   "metadata": {},
   "outputs": [],
   "source": [
    "df.sort_index(inplace=True)"
   ]
  },
  {
   "cell_type": "code",
   "execution_count": 214,
   "metadata": {},
   "outputs": [],
   "source": [
    "df = df.resample('1H').sum()"
   ]
  },
  {
   "cell_type": "code",
   "execution_count": 215,
   "metadata": {},
   "outputs": [
    {
     "data": {
      "text/plain": [
       "(4416, 1)"
      ]
     },
     "execution_count": 215,
     "metadata": {},
     "output_type": "execute_result"
    }
   ],
   "source": [
    "df.shape"
   ]
  },
  {
   "cell_type": "markdown",
   "metadata": {},
   "source": [
    "## Анализ"
   ]
  },
  {
   "cell_type": "markdown",
   "metadata": {},
   "source": [
    "### Декомпозируем: тренд, сезонность, остатки"
   ]
  },
  {
   "cell_type": "code",
   "execution_count": 217,
   "metadata": {
    "scrolled": false
   },
   "outputs": [
    {
     "data": {
      "image/png": "[encoded data removed]",
      "text/plain": [
       "<Figure size 720x576 with 3 Axes>"
      ]
     },
     "metadata": {
      "needs_background": "light"
     },
     "output_type": "display_data"
    }
   ],
   "source": [
    "decomposed = seasonal_decompose(df) \n",
    "\n",
    "plt.figure(figsize=(10, 8))\n",
    "plt.subplot(311)\n",
    "decomposed.trend.plot(ax=plt.gca())\n",
    "plt.title('Trend')\n",
    "plt.subplot(312)\n",
    "decomposed.seasonal.head(24*7).plot(ax=plt.gca())\n",
    "plt.title('Seasonality 7 days')\n",
    "plt.subplot(313)\n",
    "decomposed.resid.plot(ax=plt.gca())\n",
    "plt.title('Residuals')\n",
    "plt.tight_layout()"
   ]
  },
  {
   "cell_type": "markdown",
   "metadata": {},
   "source": [
    "Видим тренд на рост количества заказов.\\\n",
    "Есть сезонная составляющая - период 1 день."
   ]
  },
  {
   "cell_type": "markdown",
   "metadata": {},
   "source": [
    "## Обучение"
   ]
  },
  {
   "cell_type": "markdown",
   "metadata": {},
   "source": [
    "### Функция создания признаков"
   ]
  },
  {
   "cell_type": "code",
   "execution_count": 218,
   "metadata": {},
   "outputs": [],
   "source": [
    "def make_features(data, max_lag, rolling_mean_size):\n",
    "    df['year'] = df.index.year\n",
    "    df['month'] = df.index.month\n",
    "    df['day'] = df.index.day\n",
    "    df['dayofweek'] = df.index.dayofweek\n",
    "    \n",
    "    for lag in range(1, max_lag + 1):\n",
    "        df['lag_{}'.format(lag)] = df['num_orders'].shift(lag)\n",
    "\n",
    "    df['rolling_mean'] = df['num_orders'].shift().rolling(rolling_mean_size).mean()"
   ]
  },
  {
   "cell_type": "markdown",
   "metadata": {},
   "source": [
    "### Функция тестирования модели"
   ]
  },
  {
   "cell_type": "code",
   "execution_count": 219,
   "metadata": {},
   "outputs": [],
   "source": [
    "def model_test(model, features_train, target_train, features_test, target_test):\n",
    "    t = time.time()\n",
    "    model.best_estimator_.fit(features_train, target_train)\n",
    "    training_time = time.time() - t\n",
    "    \n",
    "    t = time.time()\n",
    "    prediction = model.best_estimator_.predict(features_test)\n",
    "    prediction_time = time.time() - t\n",
    "    \n",
    "    rmse_test = mean_squared_error(target_test, prediction, squared=False)\n",
    "    \n",
    "    return training_time, prediction_time, rmse_test, model.best_score_"
   ]
  },
  {
   "cell_type": "markdown",
   "metadata": {},
   "source": [
    "### Подготовим признаки"
   ]
  },
  {
   "cell_type": "code",
   "execution_count": 220,
   "metadata": {},
   "outputs": [],
   "source": [
    "make_features(df, 24, 20)"
   ]
  },
  {
   "cell_type": "markdown",
   "metadata": {},
   "source": [
    "P.S. Здесь пробовал сперва меньшие значения max_lag, rolling_mean_size, затем понял, что лучше их увеличить.\\\n",
    "Поэтому созврел вопрос: стоит ли сделать свою функцию наподобие RandomizedSearch только для подбора max_lag, rolling_mean_size?\n",
    "Или уже существуют готовые решения? "
   ]
  },
  {
   "cell_type": "code",
   "execution_count": 221,
   "metadata": {},
   "outputs": [
    {
     "data": {
      "text/html": [
       "<div>\n",
       "<style scoped>\n",
       "    .dataframe tbody tr th:only-of-type {\n",
       "        vertical-align: middle;\n",
       "    }\n",
       "\n",
       "    .dataframe tbody tr th {\n",
       "        vertical-align: top;\n",
       "    }\n",
       "\n",
       "    .dataframe thead th {\n",
       "        text-align: right;\n",
       "    }\n",
       "</style>\n",
       "<table border=\"1\" class=\"dataframe\">\n",
       "  <thead>\n",
       "    <tr style=\"text-align: right;\">\n",
       "      <th></th>\n",
       "      <th>num_orders</th>\n",
       "      <th>year</th>\n",
       "      <th>month</th>\n",
       "      <th>day</th>\n",
       "      <th>dayofweek</th>\n",
       "      <th>lag_1</th>\n",
       "      <th>lag_2</th>\n",
       "      <th>lag_3</th>\n",
       "      <th>lag_4</th>\n",
       "      <th>lag_5</th>\n",
       "      <th>...</th>\n",
       "      <th>lag_16</th>\n",
       "      <th>lag_17</th>\n",
       "      <th>lag_18</th>\n",
       "      <th>lag_19</th>\n",
       "      <th>lag_20</th>\n",
       "      <th>lag_21</th>\n",
       "      <th>lag_22</th>\n",
       "      <th>lag_23</th>\n",
       "      <th>lag_24</th>\n",
       "      <th>rolling_mean</th>\n",
       "    </tr>\n",
       "    <tr>\n",
       "      <th>datetime</th>\n",
       "      <th></th>\n",
       "      <th></th>\n",
       "      <th></th>\n",
       "      <th></th>\n",
       "      <th></th>\n",
       "      <th></th>\n",
       "      <th></th>\n",
       "      <th></th>\n",
       "      <th></th>\n",
       "      <th></th>\n",
       "      <th></th>\n",
       "      <th></th>\n",
       "      <th></th>\n",
       "      <th></th>\n",
       "      <th></th>\n",
       "      <th></th>\n",
       "      <th></th>\n",
       "      <th></th>\n",
       "      <th></th>\n",
       "      <th></th>\n",
       "      <th></th>\n",
       "    </tr>\n",
       "  </thead>\n",
       "  <tbody>\n",
       "    <tr>\n",
       "      <th>2018-03-01 00:00:00</th>\n",
       "      <td>124</td>\n",
       "      <td>2018</td>\n",
       "      <td>3</td>\n",
       "      <td>1</td>\n",
       "      <td>3</td>\n",
       "      <td>NaN</td>\n",
       "      <td>NaN</td>\n",
       "      <td>NaN</td>\n",
       "      <td>NaN</td>\n",
       "      <td>NaN</td>\n",
       "      <td>...</td>\n",
       "      <td>NaN</td>\n",
       "      <td>NaN</td>\n",
       "      <td>NaN</td>\n",
       "      <td>NaN</td>\n",
       "      <td>NaN</td>\n",
       "      <td>NaN</td>\n",
       "      <td>NaN</td>\n",
       "      <td>NaN</td>\n",
       "      <td>NaN</td>\n",
       "      <td>NaN</td>\n",
       "    </tr>\n",
       "    <tr>\n",
       "      <th>2018-03-01 01:00:00</th>\n",
       "      <td>85</td>\n",
       "      <td>2018</td>\n",
       "      <td>3</td>\n",
       "      <td>1</td>\n",
       "      <td>3</td>\n",
       "      <td>124.0</td>\n",
       "      <td>NaN</td>\n",
       "      <td>NaN</td>\n",
       "      <td>NaN</td>\n",
       "      <td>NaN</td>\n",
       "      <td>...</td>\n",
       "      <td>NaN</td>\n",
       "      <td>NaN</td>\n",
       "      <td>NaN</td>\n",
       "      <td>NaN</td>\n",
       "      <td>NaN</td>\n",
       "      <td>NaN</td>\n",
       "      <td>NaN</td>\n",
       "      <td>NaN</td>\n",
       "      <td>NaN</td>\n",
       "      <td>NaN</td>\n",
       "    </tr>\n",
       "    <tr>\n",
       "      <th>2018-03-01 02:00:00</th>\n",
       "      <td>71</td>\n",
       "      <td>2018</td>\n",
       "      <td>3</td>\n",
       "      <td>1</td>\n",
       "      <td>3</td>\n",
       "      <td>85.0</td>\n",
       "      <td>124.0</td>\n",
       "      <td>NaN</td>\n",
       "      <td>NaN</td>\n",
       "      <td>NaN</td>\n",
       "      <td>...</td>\n",
       "      <td>NaN</td>\n",
       "      <td>NaN</td>\n",
       "      <td>NaN</td>\n",
       "      <td>NaN</td>\n",
       "      <td>NaN</td>\n",
       "      <td>NaN</td>\n",
       "      <td>NaN</td>\n",
       "      <td>NaN</td>\n",
       "      <td>NaN</td>\n",
       "      <td>NaN</td>\n",
       "    </tr>\n",
       "    <tr>\n",
       "      <th>2018-03-01 03:00:00</th>\n",
       "      <td>66</td>\n",
       "      <td>2018</td>\n",
       "      <td>3</td>\n",
       "      <td>1</td>\n",
       "      <td>3</td>\n",
       "      <td>71.0</td>\n",
       "      <td>85.0</td>\n",
       "      <td>124.0</td>\n",
       "      <td>NaN</td>\n",
       "      <td>NaN</td>\n",
       "      <td>...</td>\n",
       "      <td>NaN</td>\n",
       "      <td>NaN</td>\n",
       "      <td>NaN</td>\n",
       "      <td>NaN</td>\n",
       "      <td>NaN</td>\n",
       "      <td>NaN</td>\n",
       "      <td>NaN</td>\n",
       "      <td>NaN</td>\n",
       "      <td>NaN</td>\n",
       "      <td>NaN</td>\n",
       "    </tr>\n",
       "    <tr>\n",
       "      <th>2018-03-01 04:00:00</th>\n",
       "      <td>43</td>\n",
       "      <td>2018</td>\n",
       "      <td>3</td>\n",
       "      <td>1</td>\n",
       "      <td>3</td>\n",
       "      <td>66.0</td>\n",
       "      <td>71.0</td>\n",
       "      <td>85.0</td>\n",
       "      <td>124.0</td>\n",
       "      <td>NaN</td>\n",
       "      <td>...</td>\n",
       "      <td>NaN</td>\n",
       "      <td>NaN</td>\n",
       "      <td>NaN</td>\n",
       "      <td>NaN</td>\n",
       "      <td>NaN</td>\n",
       "      <td>NaN</td>\n",
       "      <td>NaN</td>\n",
       "      <td>NaN</td>\n",
       "      <td>NaN</td>\n",
       "      <td>NaN</td>\n",
       "    </tr>\n",
       "  </tbody>\n",
       "</table>\n",
       "<p>5 rows × 30 columns</p>\n",
       "</div>"
      ],
      "text/plain": [
       "                     num_orders  year  month  day  dayofweek  lag_1  lag_2  \\\n",
       "datetime                                                                     \n",
       "2018-03-01 00:00:00         124  2018      3    1          3    NaN    NaN   \n",
       "2018-03-01 01:00:00          85  2018      3    1          3  124.0    NaN   \n",
       "2018-03-01 02:00:00          71  2018      3    1          3   85.0  124.0   \n",
       "2018-03-01 03:00:00          66  2018      3    1          3   71.0   85.0   \n",
       "2018-03-01 04:00:00          43  2018      3    1          3   66.0   71.0   \n",
       "\n",
       "                     lag_3  lag_4  lag_5  ...  lag_16  lag_17  lag_18  lag_19  \\\n",
       "datetime                                  ...                                   \n",
       "2018-03-01 00:00:00    NaN    NaN    NaN  ...     NaN     NaN     NaN     NaN   \n",
       "2018-03-01 01:00:00    NaN    NaN    NaN  ...     NaN     NaN     NaN     NaN   \n",
       "2018-03-01 02:00:00    NaN    NaN    NaN  ...     NaN     NaN     NaN     NaN   \n",
       "2018-03-01 03:00:00  124.0    NaN    NaN  ...     NaN     NaN     NaN     NaN   \n",
       "2018-03-01 04:00:00   85.0  124.0    NaN  ...     NaN     NaN     NaN     NaN   \n",
       "\n",
       "                     lag_20  lag_21  lag_22  lag_23  lag_24  rolling_mean  \n",
       "datetime                                                                   \n",
       "2018-03-01 00:00:00     NaN     NaN     NaN     NaN     NaN           NaN  \n",
       "2018-03-01 01:00:00     NaN     NaN     NaN     NaN     NaN           NaN  \n",
       "2018-03-01 02:00:00     NaN     NaN     NaN     NaN     NaN           NaN  \n",
       "2018-03-01 03:00:00     NaN     NaN     NaN     NaN     NaN           NaN  \n",
       "2018-03-01 04:00:00     NaN     NaN     NaN     NaN     NaN           NaN  \n",
       "\n",
       "[5 rows x 30 columns]"
      ]
     },
     "execution_count": 221,
     "metadata": {},
     "output_type": "execute_result"
    }
   ],
   "source": [
    "df.head()"
   ]
  },
  {
   "cell_type": "markdown",
   "metadata": {},
   "source": [
    "### Разбиваем на тренировочную и тестовую выборки"
   ]
  },
  {
   "cell_type": "code",
   "execution_count": 222,
   "metadata": {},
   "outputs": [],
   "source": [
    "train, test = train_test_split(df\n",
    "                               , shuffle=False\n",
    "                               , test_size=0.1\n",
    "                               , random_state = 12345)\n",
    "train = train.dropna()\n",
    "\n",
    "train_features = train.drop(columns='num_orders') \n",
    "train_target = train['num_orders']\n",
    "\n",
    "test_features = test.drop(columns='num_orders') \n",
    "test_target = test['num_orders']"
   ]
  },
  {
   "cell_type": "code",
   "execution_count": 223,
   "metadata": {},
   "outputs": [
    {
     "data": {
      "text/plain": [
       "(3950, 29)"
      ]
     },
     "execution_count": 223,
     "metadata": {},
     "output_type": "execute_result"
    }
   ],
   "source": [
    "train_features.shape"
   ]
  },
  {
   "cell_type": "code",
   "execution_count": 224,
   "metadata": {},
   "outputs": [
    {
     "data": {
      "text/plain": [
       "(442, 29)"
      ]
     },
     "execution_count": 224,
     "metadata": {},
     "output_type": "execute_result"
    }
   ],
   "source": [
    "test_features.shape"
   ]
  },
  {
   "cell_type": "code",
   "execution_count": 225,
   "metadata": {},
   "outputs": [],
   "source": [
    "cv = TimeSeriesSplit(n_splits=3)"
   ]
  },
  {
   "cell_type": "markdown",
   "metadata": {},
   "source": [
    "### Тренируем модели\n",
    "#### RandomForest"
   ]
  },
  {
   "cell_type": "code",
   "execution_count": 226,
   "metadata": {},
   "outputs": [],
   "source": [
    "model_rf = RandomForestRegressor(random_state=12345)\n",
    "parametrs = {\"max_depth\": [3,6]\n",
    "             ,\"n_estimators\":[2,5,50]}\n",
    "\n",
    "gridsearch_rf = GridSearchCV(model_rf\n",
    "                             , parametrs\n",
    "                             , cv = cv\n",
    "                             , verbose=1\n",
    "                             , n_jobs=-1)"
   ]
  },
  {
   "cell_type": "code",
   "execution_count": 227,
   "metadata": {},
   "outputs": [
    {
     "name": "stdout",
     "output_type": "stream",
     "text": [
      "Fitting 3 folds for each of 6 candidates, totalling 18 fits\n",
      "CPU times: user 4 s, sys: 2.09 ms, total: 4 s\n",
      "Wall time: 4.01 s\n"
     ]
    },
    {
     "data": {
      "text/plain": [
       "GridSearchCV(cv=TimeSeriesSplit(gap=0, max_train_size=None, n_splits=3, test_size=None),\n",
       "             estimator=RandomForestRegressor(random_state=12345), n_jobs=-1,\n",
       "             param_grid={'max_depth': [3, 6], 'n_estimators': [2, 5, 50]},\n",
       "             verbose=1)"
      ]
     },
     "execution_count": 227,
     "metadata": {},
     "output_type": "execute_result"
    }
   ],
   "source": [
    "%%time\n",
    "gridsearch_rf.fit(train_features,train_target);"
   ]
  },
  {
   "cell_type": "markdown",
   "metadata": {},
   "source": [
    "#### CatBoost"
   ]
  },
  {
   "cell_type": "code",
   "execution_count": 228,
   "metadata": {
    "scrolled": false
   },
   "outputs": [],
   "source": [
    "model_cb = CatBoostRegressor(loss_function='RMSE'\n",
    "                             ,random_state = 42\n",
    "                             , silent=True)\n",
    "\n",
    "param_catboost = {'depth':[5,10]\n",
    "                  , 'learning_rate':np.arange(0.1,1,0.2)}\n",
    "\n",
    "gridsearch_catboost = GridSearchCV(model_cb,\n",
    "                        param_catboost,\n",
    "                        cv=cv,\n",
    "                        scoring='neg_root_mean_squared_error',\n",
    "                        verbose=False)"
   ]
  },
  {
   "cell_type": "code",
   "execution_count": 229,
   "metadata": {},
   "outputs": [
    {
     "name": "stdout",
     "output_type": "stream",
     "text": [
      "CPU times: user 10min 39s, sys: 3.39 s, total: 10min 43s\n",
      "Wall time: 11min 17s\n"
     ]
    },
    {
     "data": {
      "text/plain": [
       "GridSearchCV(cv=TimeSeriesSplit(gap=0, max_train_size=None, n_splits=3, test_size=None),\n",
       "             estimator=<catboost.core.CatBoostRegressor object at 0x7fc0b0fb7c10>,\n",
       "             param_grid={'depth': [5, 10],\n",
       "                         'learning_rate': array([0.1, 0.3, 0.5, 0.7, 0.9])},\n",
       "             scoring='neg_root_mean_squared_error', verbose=False)"
      ]
     },
     "execution_count": 229,
     "metadata": {},
     "output_type": "execute_result"
    }
   ],
   "source": [
    "%%time\n",
    "gridsearch_catboost.fit(train_features, train_target);"
   ]
  },
  {
   "cell_type": "markdown",
   "metadata": {},
   "source": [
    "#### LGBM"
   ]
  },
  {
   "cell_type": "code",
   "execution_count": 230,
   "metadata": {},
   "outputs": [],
   "source": [
    "model_lgbm = LGBMRegressor(random_state=12345)\n",
    "params = {\n",
    "    'learning_rate': [0.1, 0.4],\n",
    "    'max_depth':[10, 20]\n",
    "}\n",
    "\n",
    "gridsearch_lgbm = GridSearchCV(model_lgbm\n",
    "                          , params\n",
    "                          , cv=cv\n",
    "                          , scoring='neg_root_mean_squared_error'\n",
    "                          , verbose=1)"
   ]
  },
  {
   "cell_type": "code",
   "execution_count": 231,
   "metadata": {},
   "outputs": [
    {
     "name": "stdout",
     "output_type": "stream",
     "text": [
      "Fitting 3 folds for each of 4 candidates, totalling 12 fits\n",
      "CPU times: user 5min 13s, sys: 2.29 s, total: 5min 15s\n",
      "Wall time: 5min 17s\n"
     ]
    },
    {
     "data": {
      "text/plain": [
       "GridSearchCV(cv=TimeSeriesSplit(gap=0, max_train_size=None, n_splits=3, test_size=None),\n",
       "             estimator=LGBMRegressor(random_state=12345),\n",
       "             param_grid={'learning_rate': [0.1, 0.4], 'max_depth': [10, 20]},\n",
       "             scoring='neg_root_mean_squared_error', verbose=1)"
      ]
     },
     "execution_count": 231,
     "metadata": {},
     "output_type": "execute_result"
    }
   ],
   "source": [
    "%%time\n",
    "gridsearch_lgbm.fit(train_features, train_target)"
   ]
  },
  {
   "cell_type": "markdown",
   "metadata": {},
   "source": [
    "## Тестирование"
   ]
  },
  {
   "cell_type": "code",
   "execution_count": 232,
   "metadata": {},
   "outputs": [],
   "source": [
    "models_prediction = []"
   ]
  },
  {
   "cell_type": "code",
   "execution_count": 233,
   "metadata": {},
   "outputs": [],
   "source": [
    "models_prediction.append(\n",
    "    model_test(gridsearch_rf\n",
    "               , train_features\n",
    "               , train_target\n",
    "               , test_features\n",
    "               , test_target)\n",
    ")\n",
    "\n",
    "models_prediction.append(\n",
    "    model_test(gridsearch_catboost\n",
    "               , train_features\n",
    "               , train_target\n",
    "               , test_features\n",
    "               , test_target)\n",
    ")\n",
    "\n",
    "models_prediction.append(\n",
    "    model_test(gridsearch_lgbm\n",
    "               , train_features\n",
    "               , train_target\n",
    "               , test_features\n",
    "               , test_target)\n",
    ")"
   ]
  },
  {
   "cell_type": "markdown",
   "metadata": {},
   "source": [
    "Создадим DataFrame с результатами тестирования"
   ]
  },
  {
   "cell_type": "code",
   "execution_count": 234,
   "metadata": {},
   "outputs": [],
   "source": [
    "models_result_table = pd.DataFrame(data=models_prediction\n",
    "                                   , index=['RandomForest' ,'CatBoost', 'LGBM']\n",
    "                                   , columns=['trainig time', 'predict time', 'RMSE test', 'RMSE train (CV)'])"
   ]
  },
  {
   "cell_type": "code",
   "execution_count": 235,
   "metadata": {},
   "outputs": [
    {
     "data": {
      "text/html": [
       "<div>\n",
       "<style scoped>\n",
       "    .dataframe tbody tr th:only-of-type {\n",
       "        vertical-align: middle;\n",
       "    }\n",
       "\n",
       "    .dataframe tbody tr th {\n",
       "        vertical-align: top;\n",
       "    }\n",
       "\n",
       "    .dataframe thead th {\n",
       "        text-align: right;\n",
       "    }\n",
       "</style>\n",
       "<table border=\"1\" class=\"dataframe\">\n",
       "  <thead>\n",
       "    <tr style=\"text-align: right;\">\n",
       "      <th></th>\n",
       "      <th>trainig time</th>\n",
       "      <th>predict time</th>\n",
       "      <th>RMSE test</th>\n",
       "      <th>RMSE train (CV)</th>\n",
       "    </tr>\n",
       "  </thead>\n",
       "  <tbody>\n",
       "    <tr>\n",
       "      <th>RandomForest</th>\n",
       "      <td>1.094179</td>\n",
       "      <td>0.006623</td>\n",
       "      <td>47.362997</td>\n",
       "      <td>0.363979</td>\n",
       "    </tr>\n",
       "    <tr>\n",
       "      <th>CatBoost</th>\n",
       "      <td>4.571933</td>\n",
       "      <td>0.002939</td>\n",
       "      <td>41.098590</td>\n",
       "      <td>-26.505301</td>\n",
       "    </tr>\n",
       "    <tr>\n",
       "      <th>LGBM</th>\n",
       "      <td>1.109566</td>\n",
       "      <td>0.002987</td>\n",
       "      <td>42.178021</td>\n",
       "      <td>-27.193753</td>\n",
       "    </tr>\n",
       "  </tbody>\n",
       "</table>\n",
       "</div>"
      ],
      "text/plain": [
       "              trainig time  predict time  RMSE test  RMSE train (CV)\n",
       "RandomForest      1.094179      0.006623  47.362997         0.363979\n",
       "CatBoost          4.571933      0.002939  41.098590       -26.505301\n",
       "LGBM              1.109566      0.002987  42.178021       -27.193753"
      ]
     },
     "execution_count": 235,
     "metadata": {},
     "output_type": "execute_result"
    }
   ],
   "source": [
    "models_result_table"
   ]
  },
  {
   "cell_type": "markdown",
   "metadata": {},
   "source": [
    "### Вывод\n",
    "Все модели показали результат RMSE меньше 48 на тестовой выборке.\\\n",
    "Лучшее значение RMSE показала модель CatBoost, однако trainig_time для LGBM в 4 раза меньше.\\\n",
    "Поэтому следует предоставить заказчику обе модели на выбор."
   ]
  },
  {
   "cell_type": "markdown",
   "metadata": {},
   "source": [
    "## Чек-лист проверки"
   ]
  },
  {
   "cell_type": "markdown",
   "metadata": {},
   "source": [
    "- [x]  Jupyter Notebook открыт\n",
    "- [x]  Весь код выполняется без ошибок\n",
    "- [x]  Ячейки с кодом расположены в порядке исполнения\n",
    "- [x]  Данные загружены и подготовлены\n",
    "- [x]  Данные проанализированы\n",
    "- [x]  Модель обучена, гиперпараметры подобраны\n",
    "- [x]  Качество моделей проверено, выводы сделаны\n",
    "- [x]  Значение *RMSE* на тестовой выборке не больше 48"
   ]
  }
 ],
 "metadata": {
  "ExecuteTimeLog": [
   {
    "duration": 1702,
    "start_time": "2022-10-05T09:32:06.440Z"
   },
   {
    "duration": 4,
    "start_time": "2022-10-05T09:32:08.144Z"
   },
   {
    "duration": 150,
    "start_time": "2022-10-05T09:32:09.189Z"
   },
   {
    "duration": 109,
    "start_time": "2022-10-05T09:32:31.085Z"
   },
   {
    "duration": 10,
    "start_time": "2022-10-05T09:32:38.077Z"
   },
   {
    "duration": 13,
    "start_time": "2022-10-05T09:32:45.520Z"
   },
   {
    "duration": 47,
    "start_time": "2022-10-05T09:39:32.315Z"
   },
   {
    "duration": 11,
    "start_time": "2022-10-05T09:39:32.635Z"
   },
   {
    "duration": 7,
    "start_time": "2022-10-05T09:39:43.102Z"
   },
   {
    "duration": 161,
    "start_time": "2022-10-05T09:39:50.698Z"
   },
   {
    "duration": 280,
    "start_time": "2022-10-05T09:39:58.465Z"
   },
   {
    "duration": 12,
    "start_time": "2022-10-05T09:46:58.160Z"
   },
   {
    "duration": 694,
    "start_time": "2022-10-05T09:47:16.139Z"
   },
   {
    "duration": 4,
    "start_time": "2022-10-05T09:51:01.285Z"
   },
   {
    "duration": 11,
    "start_time": "2022-10-05T10:13:06.103Z"
   },
   {
    "duration": 2,
    "start_time": "2022-10-05T10:13:09.439Z"
   },
   {
    "duration": 9,
    "start_time": "2022-10-05T10:13:09.658Z"
   },
   {
    "duration": 612,
    "start_time": "2022-10-05T10:13:16.662Z"
   },
   {
    "duration": 4,
    "start_time": "2022-10-05T10:13:19.909Z"
   },
   {
    "duration": 8,
    "start_time": "2022-10-05T10:13:20.113Z"
   },
   {
    "duration": 221,
    "start_time": "2022-10-05T10:13:21.029Z"
   },
   {
    "duration": 218,
    "start_time": "2022-10-05T10:14:10.069Z"
   },
   {
    "duration": 415,
    "start_time": "2022-10-05T10:14:14.825Z"
   },
   {
    "duration": 512,
    "start_time": "2022-10-05T10:14:28.465Z"
   },
   {
    "duration": 26,
    "start_time": "2022-10-05T10:15:28.749Z"
   },
   {
    "duration": 6,
    "start_time": "2022-10-05T10:16:42.622Z"
   },
   {
    "duration": 738,
    "start_time": "2022-10-05T10:16:55.170Z"
   },
   {
    "duration": 382,
    "start_time": "2022-10-05T10:21:29.599Z"
   },
   {
    "duration": 251,
    "start_time": "2022-10-05T10:21:39.322Z"
   },
   {
    "duration": 283,
    "start_time": "2022-10-05T10:21:46.737Z"
   },
   {
    "duration": 383,
    "start_time": "2022-10-05T10:21:56.878Z"
   },
   {
    "duration": 44,
    "start_time": "2022-10-05T13:07:33.710Z"
   },
   {
    "duration": 8,
    "start_time": "2022-10-05T13:07:36.650Z"
   },
   {
    "duration": 1435,
    "start_time": "2022-10-05T13:07:40.814Z"
   },
   {
    "duration": 3,
    "start_time": "2022-10-05T13:07:42.251Z"
   },
   {
    "duration": 117,
    "start_time": "2022-10-05T13:07:42.255Z"
   },
   {
    "duration": 11,
    "start_time": "2022-10-05T13:07:42.373Z"
   },
   {
    "duration": 19,
    "start_time": "2022-10-05T13:07:42.386Z"
   },
   {
    "duration": 247,
    "start_time": "2022-10-05T13:07:42.407Z"
   },
   {
    "duration": 3,
    "start_time": "2022-10-05T13:07:42.656Z"
   },
   {
    "duration": 12,
    "start_time": "2022-10-05T13:07:42.660Z"
   },
   {
    "duration": 675,
    "start_time": "2022-10-05T13:07:45.748Z"
   },
   {
    "duration": 675,
    "start_time": "2022-10-05T13:07:51.329Z"
   },
   {
    "duration": 641,
    "start_time": "2022-10-05T13:07:59.642Z"
   },
   {
    "duration": 1167,
    "start_time": "2022-10-05T13:16:08.221Z"
   },
   {
    "duration": 32,
    "start_time": "2022-10-05T13:16:40.982Z"
   },
   {
    "duration": 3,
    "start_time": "2022-10-05T13:17:05.012Z"
   },
   {
    "duration": 25,
    "start_time": "2022-10-05T13:17:11.434Z"
   },
   {
    "duration": 20,
    "start_time": "2022-10-05T13:17:48.568Z"
   },
   {
    "duration": 5,
    "start_time": "2022-10-05T13:23:50.609Z"
   },
   {
    "duration": 11,
    "start_time": "2022-10-05T13:23:50.956Z"
   },
   {
    "duration": 10,
    "start_time": "2022-10-05T13:23:51.549Z"
   },
   {
    "duration": 11,
    "start_time": "2022-10-05T13:25:19.929Z"
   },
   {
    "duration": 1559,
    "start_time": "2022-10-06T06:59:56.374Z"
   },
   {
    "duration": 3,
    "start_time": "2022-10-06T06:59:57.935Z"
   },
   {
    "duration": 146,
    "start_time": "2022-10-06T06:59:57.940Z"
   },
   {
    "duration": 12,
    "start_time": "2022-10-06T06:59:58.087Z"
   },
   {
    "duration": 15,
    "start_time": "2022-10-06T06:59:58.101Z"
   },
   {
    "duration": 254,
    "start_time": "2022-10-06T06:59:58.117Z"
   },
   {
    "duration": 3,
    "start_time": "2022-10-06T06:59:58.373Z"
   },
   {
    "duration": 18,
    "start_time": "2022-10-06T06:59:58.377Z"
   },
   {
    "duration": 626,
    "start_time": "2022-10-06T07:00:04.338Z"
   },
   {
    "duration": 557,
    "start_time": "2022-10-06T07:05:19.406Z"
   },
   {
    "duration": 682,
    "start_time": "2022-10-06T07:06:05.257Z"
   },
   {
    "duration": 634,
    "start_time": "2022-10-06T07:06:29.646Z"
   },
   {
    "duration": 620,
    "start_time": "2022-10-06T07:06:40.272Z"
   },
   {
    "duration": 699,
    "start_time": "2022-10-06T07:06:51.276Z"
   },
   {
    "duration": 657,
    "start_time": "2022-10-06T07:07:58.814Z"
   },
   {
    "duration": 690,
    "start_time": "2022-10-06T07:08:10.432Z"
   },
   {
    "duration": 720,
    "start_time": "2022-10-06T07:08:15.019Z"
   },
   {
    "duration": 7,
    "start_time": "2022-10-06T07:09:10.685Z"
   },
   {
    "duration": 674,
    "start_time": "2022-10-06T07:09:14.378Z"
   },
   {
    "duration": 5,
    "start_time": "2022-10-06T07:09:24.392Z"
   },
   {
    "duration": 6,
    "start_time": "2022-10-06T07:09:24.398Z"
   },
   {
    "duration": 45,
    "start_time": "2022-10-06T07:09:24.405Z"
   },
   {
    "duration": 9,
    "start_time": "2022-10-06T07:09:24.452Z"
   },
   {
    "duration": 12,
    "start_time": "2022-10-06T07:09:24.463Z"
   },
   {
    "duration": 225,
    "start_time": "2022-10-06T07:09:24.476Z"
   },
   {
    "duration": 2,
    "start_time": "2022-10-06T07:09:24.703Z"
   },
   {
    "duration": 12,
    "start_time": "2022-10-06T07:09:24.706Z"
   },
   {
    "duration": 624,
    "start_time": "2022-10-06T07:09:31.508Z"
   },
   {
    "duration": 625,
    "start_time": "2022-10-06T07:09:44.322Z"
   },
   {
    "duration": 689,
    "start_time": "2022-10-06T07:12:21.576Z"
   },
   {
    "duration": 577,
    "start_time": "2022-10-06T07:12:35.664Z"
   },
   {
    "duration": 4,
    "start_time": "2022-10-06T07:14:17.399Z"
   },
   {
    "duration": 23,
    "start_time": "2022-10-06T07:14:18.020Z"
   },
   {
    "duration": 35,
    "start_time": "2022-10-06T07:14:19.163Z"
   },
   {
    "duration": 42,
    "start_time": "2022-10-06T07:14:36.344Z"
   },
   {
    "duration": 40,
    "start_time": "2022-10-06T07:14:43.584Z"
   },
   {
    "duration": 12,
    "start_time": "2022-10-06T07:29:13.367Z"
   },
   {
    "duration": 110,
    "start_time": "2022-10-06T07:29:13.788Z"
   },
   {
    "duration": 4,
    "start_time": "2022-10-06T07:29:50.284Z"
   },
   {
    "duration": 12,
    "start_time": "2022-10-06T07:29:50.850Z"
   },
   {
    "duration": 14,
    "start_time": "2022-10-06T07:29:53.323Z"
   },
   {
    "duration": 15,
    "start_time": "2022-10-06T07:31:14.925Z"
   },
   {
    "duration": 15,
    "start_time": "2022-10-06T07:31:33.788Z"
   },
   {
    "duration": 15,
    "start_time": "2022-10-06T07:31:38.157Z"
   },
   {
    "duration": 19,
    "start_time": "2022-10-06T07:32:10.961Z"
   },
   {
    "duration": 5,
    "start_time": "2022-10-06T07:32:28.406Z"
   },
   {
    "duration": 7,
    "start_time": "2022-10-06T07:33:52.659Z"
   },
   {
    "duration": 13,
    "start_time": "2022-10-06T07:33:55.277Z"
   },
   {
    "duration": 9,
    "start_time": "2022-10-06T07:34:00.508Z"
   },
   {
    "duration": 16,
    "start_time": "2022-10-06T07:34:01.516Z"
   },
   {
    "duration": 4,
    "start_time": "2022-10-06T07:34:10.968Z"
   },
   {
    "duration": 8,
    "start_time": "2022-10-06T07:34:10.974Z"
   },
   {
    "duration": 46,
    "start_time": "2022-10-06T07:34:10.983Z"
   },
   {
    "duration": 9,
    "start_time": "2022-10-06T07:34:11.030Z"
   },
   {
    "duration": 12,
    "start_time": "2022-10-06T07:34:11.041Z"
   },
   {
    "duration": 221,
    "start_time": "2022-10-06T07:34:11.054Z"
   },
   {
    "duration": 3,
    "start_time": "2022-10-06T07:34:11.276Z"
   },
   {
    "duration": 18,
    "start_time": "2022-10-06T07:34:11.280Z"
   },
   {
    "duration": 606,
    "start_time": "2022-10-06T07:34:11.299Z"
   },
   {
    "duration": 4,
    "start_time": "2022-10-06T07:34:11.906Z"
   },
   {
    "duration": 14,
    "start_time": "2022-10-06T07:34:11.911Z"
   },
   {
    "duration": 10,
    "start_time": "2022-10-06T07:34:11.926Z"
   },
   {
    "duration": 10,
    "start_time": "2022-10-06T07:34:11.937Z"
   },
   {
    "duration": 13,
    "start_time": "2022-10-06T07:34:15.167Z"
   },
   {
    "duration": 4,
    "start_time": "2022-10-06T07:38:24.434Z"
   },
   {
    "duration": 5,
    "start_time": "2022-10-06T07:38:28.487Z"
   },
   {
    "duration": 6,
    "start_time": "2022-10-06T07:38:28.494Z"
   },
   {
    "duration": 48,
    "start_time": "2022-10-06T07:38:28.501Z"
   },
   {
    "duration": 10,
    "start_time": "2022-10-06T07:38:28.550Z"
   },
   {
    "duration": 3,
    "start_time": "2022-10-06T07:38:28.562Z"
   },
   {
    "duration": 4,
    "start_time": "2022-10-06T07:38:32.359Z"
   },
   {
    "duration": 8,
    "start_time": "2022-10-06T07:50:11.356Z"
   },
   {
    "duration": 180,
    "start_time": "2022-10-06T07:50:13.025Z"
   },
   {
    "duration": 5,
    "start_time": "2022-10-06T07:50:25.203Z"
   },
   {
    "duration": 26,
    "start_time": "2022-10-06T07:50:25.209Z"
   },
   {
    "duration": 79,
    "start_time": "2022-10-06T07:50:25.237Z"
   },
   {
    "duration": 10,
    "start_time": "2022-10-06T07:50:25.318Z"
   },
   {
    "duration": 15,
    "start_time": "2022-10-06T07:50:25.330Z"
   },
   {
    "duration": 34,
    "start_time": "2022-10-06T07:50:25.346Z"
   },
   {
    "duration": 354,
    "start_time": "2022-10-06T07:50:25.382Z"
   },
   {
    "duration": 7,
    "start_time": "2022-10-06T07:50:25.738Z"
   },
   {
    "duration": 643,
    "start_time": "2022-10-06T07:50:25.746Z"
   },
   {
    "duration": 6,
    "start_time": "2022-10-06T07:50:26.390Z"
   },
   {
    "duration": 14,
    "start_time": "2022-10-06T07:50:26.397Z"
   },
   {
    "duration": 11,
    "start_time": "2022-10-06T07:50:26.412Z"
   },
   {
    "duration": 11,
    "start_time": "2022-10-06T07:50:26.425Z"
   },
   {
    "duration": 13,
    "start_time": "2022-10-06T07:50:29.814Z"
   },
   {
    "duration": 39,
    "start_time": "2022-10-06T07:52:36.601Z"
   },
   {
    "duration": 9,
    "start_time": "2022-10-06T07:54:00.563Z"
   },
   {
    "duration": 6,
    "start_time": "2022-10-06T07:56:17.619Z"
   },
   {
    "duration": 3,
    "start_time": "2022-10-06T07:56:27.766Z"
   },
   {
    "duration": 11,
    "start_time": "2022-10-06T07:58:19.966Z"
   },
   {
    "duration": 12,
    "start_time": "2022-10-06T07:58:51.765Z"
   },
   {
    "duration": 3,
    "start_time": "2022-10-06T07:59:20.331Z"
   },
   {
    "duration": 12,
    "start_time": "2022-10-06T07:59:30.182Z"
   },
   {
    "duration": 6849,
    "start_time": "2022-10-06T07:59:37.214Z"
   },
   {
    "duration": 11,
    "start_time": "2022-10-06T08:05:51.831Z"
   },
   {
    "duration": 67,
    "start_time": "2022-10-06T08:06:16.822Z"
   },
   {
    "duration": 13,
    "start_time": "2022-10-06T08:06:28.178Z"
   },
   {
    "duration": 4,
    "start_time": "2022-10-06T08:16:44.578Z"
   },
   {
    "duration": 75024,
    "start_time": "2022-10-06T08:16:58.333Z"
   },
   {
    "duration": 75118,
    "start_time": "2022-10-06T08:18:38.904Z"
   },
   {
    "duration": 77807,
    "start_time": "2022-10-06T08:20:03.120Z"
   },
   {
    "duration": 11,
    "start_time": "2022-10-06T08:22:13.233Z"
   },
   {
    "duration": 10,
    "start_time": "2022-10-06T08:23:11.543Z"
   },
   {
    "duration": 70505,
    "start_time": "2022-10-06T08:23:59.709Z"
   },
   {
    "duration": 70050,
    "start_time": "2022-10-06T08:30:23.587Z"
   },
   {
    "duration": 3,
    "start_time": "2022-10-06T08:31:33.639Z"
   },
   {
    "duration": 7,
    "start_time": "2022-10-06T08:52:20.218Z"
   },
   {
    "duration": 14,
    "start_time": "2022-10-06T08:52:21.019Z"
   },
   {
    "duration": 4,
    "start_time": "2022-10-06T08:58:31.057Z"
   },
   {
    "duration": 6729,
    "start_time": "2022-10-06T08:58:31.479Z"
   },
   {
    "duration": 3,
    "start_time": "2022-10-06T08:59:09.549Z"
   },
   {
    "duration": 6654,
    "start_time": "2022-10-06T08:59:10.811Z"
   },
   {
    "duration": 4,
    "start_time": "2022-10-06T08:59:19.100Z"
   },
   {
    "duration": 4,
    "start_time": "2022-10-06T08:59:40.336Z"
   },
   {
    "duration": 6681,
    "start_time": "2022-10-06T08:59:41.033Z"
   },
   {
    "duration": 12,
    "start_time": "2022-10-06T09:03:06.616Z"
   },
   {
    "duration": 31,
    "start_time": "2022-10-06T09:03:22.792Z"
   },
   {
    "duration": 7,
    "start_time": "2022-10-06T09:03:27.673Z"
   },
   {
    "duration": 8,
    "start_time": "2022-10-06T09:04:31.441Z"
   },
   {
    "duration": 8,
    "start_time": "2022-10-06T09:05:01.479Z"
   },
   {
    "duration": 68,
    "start_time": "2022-10-06T09:05:09.602Z"
   },
   {
    "duration": 3,
    "start_time": "2022-10-06T09:05:13.212Z"
   },
   {
    "duration": 5,
    "start_time": "2022-10-06T09:05:19.663Z"
   },
   {
    "duration": 3,
    "start_time": "2022-10-06T09:05:36.879Z"
   },
   {
    "duration": 6615,
    "start_time": "2022-10-06T09:05:45.443Z"
   },
   {
    "duration": 9,
    "start_time": "2022-10-06T09:25:20.061Z"
   },
   {
    "duration": 3,
    "start_time": "2022-10-06T09:25:25.611Z"
   },
   {
    "duration": 9,
    "start_time": "2022-10-06T09:25:28.146Z"
   },
   {
    "duration": 9,
    "start_time": "2022-10-06T09:26:01.208Z"
   },
   {
    "duration": 5,
    "start_time": "2022-10-06T09:26:06.029Z"
   },
   {
    "duration": 9,
    "start_time": "2022-10-06T09:26:07.187Z"
   },
   {
    "duration": 6515,
    "start_time": "2022-10-06T09:27:10.123Z"
   },
   {
    "duration": 11,
    "start_time": "2022-10-06T09:27:18.038Z"
   },
   {
    "duration": 1474,
    "start_time": "2022-10-06T09:27:45.466Z"
   },
   {
    "duration": 10,
    "start_time": "2022-10-06T09:27:47.866Z"
   },
   {
    "duration": 306,
    "start_time": "2022-10-06T09:28:58.134Z"
   },
   {
    "duration": 4,
    "start_time": "2022-10-06T09:30:00.527Z"
   },
   {
    "duration": 4,
    "start_time": "2022-10-06T09:32:27.092Z"
   },
   {
    "duration": 293,
    "start_time": "2022-10-06T09:32:33.722Z"
   },
   {
    "duration": 3,
    "start_time": "2022-10-06T09:33:45.644Z"
   },
   {
    "duration": 291,
    "start_time": "2022-10-06T09:34:00.309Z"
   },
   {
    "duration": 64,
    "start_time": "2022-10-06T09:34:59.541Z"
   },
   {
    "duration": 6,
    "start_time": "2022-10-06T09:35:00.408Z"
   },
   {
    "duration": 9,
    "start_time": "2022-10-06T09:37:45.241Z"
   },
   {
    "duration": 301,
    "start_time": "2022-10-06T09:37:52.704Z"
   },
   {
    "duration": 4,
    "start_time": "2022-10-06T09:37:56.193Z"
   },
   {
    "duration": 8,
    "start_time": "2022-10-06T09:38:00.555Z"
   },
   {
    "duration": 69636,
    "start_time": "2022-10-06T09:38:41.633Z"
   },
   {
    "duration": 18,
    "start_time": "2022-10-06T09:41:54.615Z"
   },
   {
    "duration": 71067,
    "start_time": "2022-10-06T09:42:02.637Z"
   },
   {
    "duration": 79,
    "start_time": "2022-10-06T09:43:13.785Z"
   },
   {
    "duration": 80,
    "start_time": "2022-10-06T09:43:28.668Z"
   },
   {
    "duration": 103,
    "start_time": "2022-10-06T09:43:51.200Z"
   },
   {
    "duration": 81,
    "start_time": "2022-10-06T09:44:07.850Z"
   },
   {
    "duration": 83,
    "start_time": "2022-10-06T09:48:49.272Z"
   },
   {
    "duration": 39,
    "start_time": "2022-10-06T09:48:58.375Z"
   },
   {
    "duration": 766,
    "start_time": "2022-10-06T09:49:14.964Z"
   },
   {
    "duration": 14,
    "start_time": "2022-10-06T09:50:01.331Z"
   },
   {
    "duration": 3,
    "start_time": "2022-10-06T09:50:54.967Z"
   },
   {
    "duration": 189531,
    "start_time": "2022-10-06T09:50:58.222Z"
   },
   {
    "duration": 2023,
    "start_time": "2022-10-06T09:54:54.841Z"
   },
   {
    "duration": 4,
    "start_time": "2022-10-06T09:55:11.996Z"
   },
   {
    "duration": 9,
    "start_time": "2022-10-06T09:55:12.355Z"
   },
   {
    "duration": 186914,
    "start_time": "2022-10-06T09:56:29.261Z"
   },
   {
    "duration": 1460,
    "start_time": "2022-10-06T09:59:36.177Z"
   },
   {
    "duration": 3,
    "start_time": "2022-10-06T11:12:56.469Z"
   },
   {
    "duration": 3,
    "start_time": "2022-10-06T11:27:30.354Z"
   },
   {
    "duration": 16,
    "start_time": "2022-10-06T11:27:41.672Z"
   },
   {
    "duration": 11,
    "start_time": "2022-10-06T11:29:33.071Z"
   },
   {
    "duration": 25,
    "start_time": "2022-10-06T11:30:39.933Z"
   },
   {
    "duration": 3,
    "start_time": "2022-10-06T11:30:43.502Z"
   },
   {
    "duration": 5,
    "start_time": "2022-10-06T11:30:59.910Z"
   },
   {
    "duration": 102,
    "start_time": "2022-10-06T11:31:01.426Z"
   },
   {
    "duration": 1334409,
    "start_time": "2022-10-06T11:31:21.595Z"
   },
   {
    "duration": 9,
    "start_time": "2022-10-06T11:53:36.005Z"
   },
   {
    "duration": 10,
    "start_time": "2022-10-06T11:54:33.260Z"
   },
   {
    "duration": 134,
    "start_time": "2022-10-06T11:54:51.068Z"
   },
   {
    "duration": 4,
    "start_time": "2022-10-06T11:54:57.183Z"
   },
   {
    "duration": 9,
    "start_time": "2022-10-06T11:54:57.995Z"
   },
   {
    "duration": 2,
    "start_time": "2022-10-06T11:55:15.430Z"
   },
   {
    "duration": 319,
    "start_time": "2022-10-06T11:55:22.125Z"
   },
   {
    "duration": 2054,
    "start_time": "2022-10-06T11:55:28.908Z"
   },
   {
    "duration": 177,
    "start_time": "2022-10-06T11:55:35.925Z"
   },
   {
    "duration": 4,
    "start_time": "2022-10-06T11:55:40.474Z"
   },
   {
    "duration": 11,
    "start_time": "2022-10-06T11:55:40.480Z"
   },
   {
    "duration": 4,
    "start_time": "2022-10-06T11:56:49.968Z"
   },
   {
    "duration": 8,
    "start_time": "2022-10-06T11:56:50.560Z"
   },
   {
    "duration": 4,
    "start_time": "2022-10-06T11:56:57.488Z"
   },
   {
    "duration": 9,
    "start_time": "2022-10-06T11:56:58.646Z"
   },
   {
    "duration": 3,
    "start_time": "2022-10-06T12:01:54.733Z"
   },
   {
    "duration": 8929,
    "start_time": "2022-10-06T12:01:56.079Z"
   },
   {
    "duration": 3,
    "start_time": "2022-10-06T12:04:06.325Z"
   },
   {
    "duration": 3026,
    "start_time": "2022-10-06T12:04:06.669Z"
   },
   {
    "duration": 5,
    "start_time": "2022-10-06T12:04:09.697Z"
   },
   {
    "duration": 15,
    "start_time": "2022-10-06T12:04:09.703Z"
   },
   {
    "duration": 117,
    "start_time": "2022-10-06T12:15:12.966Z"
   },
   {
    "duration": 4,
    "start_time": "2022-10-06T12:15:15.216Z"
   },
   {
    "duration": 4,
    "start_time": "2022-10-06T12:15:23.073Z"
   },
   {
    "duration": 3,
    "start_time": "2022-10-06T12:15:49.475Z"
   },
   {
    "duration": 8,
    "start_time": "2022-10-06T12:15:53.598Z"
   },
   {
    "duration": 4,
    "start_time": "2022-10-06T12:15:54.204Z"
   },
   {
    "duration": 4,
    "start_time": "2022-10-06T12:16:09.970Z"
   },
   {
    "duration": 3,
    "start_time": "2022-10-06T12:16:10.709Z"
   },
   {
    "duration": 46,
    "start_time": "2022-10-06T12:16:11.025Z"
   },
   {
    "duration": 11,
    "start_time": "2022-10-06T12:16:11.341Z"
   },
   {
    "duration": 4,
    "start_time": "2022-10-06T12:16:11.781Z"
   },
   {
    "duration": 13,
    "start_time": "2022-10-06T12:16:12.784Z"
   },
   {
    "duration": 222,
    "start_time": "2022-10-06T12:16:16.126Z"
   },
   {
    "duration": 3,
    "start_time": "2022-10-06T12:16:17.036Z"
   },
   {
    "duration": 6,
    "start_time": "2022-10-06T12:16:17.651Z"
   },
   {
    "duration": 3,
    "start_time": "2022-10-06T12:16:18.356Z"
   },
   {
    "duration": 588,
    "start_time": "2022-10-06T12:16:20.977Z"
   },
   {
    "duration": 614,
    "start_time": "2022-10-06T12:16:31.867Z"
   },
   {
    "duration": 4,
    "start_time": "2022-10-06T12:16:40.185Z"
   },
   {
    "duration": 4,
    "start_time": "2022-10-06T12:16:51.885Z"
   },
   {
    "duration": 23,
    "start_time": "2022-10-06T12:17:24.005Z"
   },
   {
    "duration": 20,
    "start_time": "2022-10-06T12:17:24.792Z"
   },
   {
    "duration": 12,
    "start_time": "2022-10-06T12:17:28.229Z"
   },
   {
    "duration": 4,
    "start_time": "2022-10-06T12:17:28.850Z"
   },
   {
    "duration": 3,
    "start_time": "2022-10-06T12:17:29.374Z"
   },
   {
    "duration": 3,
    "start_time": "2022-10-06T12:17:30.048Z"
   },
   {
    "duration": 4,
    "start_time": "2022-10-06T12:17:31.594Z"
   },
   {
    "duration": 4015,
    "start_time": "2022-10-06T12:17:32.257Z"
   },
   {
    "duration": 3,
    "start_time": "2022-10-06T12:17:36.274Z"
   },
   {
    "duration": 677629,
    "start_time": "2022-10-06T12:17:36.279Z"
   },
   {
    "duration": 3,
    "start_time": "2022-10-06T12:28:53.910Z"
   },
   {
    "duration": 317588,
    "start_time": "2022-10-06T12:28:53.915Z"
   },
   {
    "duration": 2,
    "start_time": "2022-10-06T12:34:11.505Z"
   },
   {
    "duration": 6796,
    "start_time": "2022-10-06T12:34:11.508Z"
   },
   {
    "duration": 4,
    "start_time": "2022-10-06T12:34:18.306Z"
   },
   {
    "duration": 13,
    "start_time": "2022-10-06T12:34:18.312Z"
   }
  ],
  "kernelspec": {
   "display_name": "Python 3 (ipykernel)",
   "language": "python",
   "name": "python3"
  },
  "language_info": {
   "codemirror_mode": {
    "name": "ipython",
    "version": 3
   },
   "file_extension": ".py",
   "mimetype": "text/x-python",
   "name": "python",
   "nbconvert_exporter": "python",
   "pygments_lexer": "ipython3",
   "version": "3.9.13"
  },
  "toc": {
   "base_numbering": 1,
   "nav_menu": {},
   "number_sections": true,
   "sideBar": true,
   "skip_h1_title": true,
   "title_cell": "Содержание",
   "title_sidebar": "Contents",
   "toc_cell": true,
   "toc_position": {
    "height": "calc(100% - 180px)",
    "left": "10px",
    "top": "150px",
    "width": "270.195px"
   },
   "toc_section_display": true,
   "toc_window_display": false
  }
 },
 "nbformat": 4,
 "nbformat_minor": 2
}
