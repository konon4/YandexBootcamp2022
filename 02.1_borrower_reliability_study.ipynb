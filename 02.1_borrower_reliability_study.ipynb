{
 "cells": [
  {
   "cell_type": "markdown",
   "id": "5783d93a",
   "metadata": {
    "deletable": false,
    "editable": false,
    "id": "c81daeeb"
   },
   "source": [
    "# Исследование надежности заемщиков"
   ]
  },
  {
   "cell_type": "markdown",
   "id": "78b96e64",
   "metadata": {
    "deletable": false,
    "editable": false,
    "id": "-G3EJWzf62s6"
   },
   "source": [
    "Это первая часть проекта, она будет проверена автоматически. Вторую часть проверит ревьюер. "
   ]
  },
  {
   "cell_type": "markdown",
   "id": "d4a6b9c2",
   "metadata": {
    "deletable": false,
    "editable": false,
    "id": "744d7639"
   },
   "source": [
    "## Откройте таблицу и изучите общую информацию о данных"
   ]
  },
  {
   "cell_type": "markdown",
   "id": "27b21778",
   "metadata": {
    "deletable": false,
    "editable": false,
    "id": "e7a14c31",
    "tags": [
     "start_task"
    ]
   },
   "source": [
    "**Задание 1. Импортируйте библиотеку pandas. Считайте данные из csv-файла в датафрейм и сохраните в переменную `data`. Путь к файлу:**\n",
    "\n",
    "`/datasets/data.csv`"
   ]
  },
  {
   "cell_type": "code",
   "execution_count": 54,
   "id": "55be406c",
   "metadata": {
    "id": "7bcf75c9"
   },
   "outputs": [],
   "source": [
    "import pandas as pd"
   ]
  },
  {
   "cell_type": "code",
   "execution_count": 55,
   "id": "30fe8988",
   "metadata": {
    "id": "4d240ee2"
   },
   "outputs": [],
   "source": [
    "data = pd.read_csv('/datasets/data.csv')"
   ]
  },
  {
   "cell_type": "markdown",
   "id": "9a492733",
   "metadata": {
    "deletable": false,
    "editable": false,
    "id": "b8038fe3",
    "tags": [
     "start_task"
    ]
   },
   "source": [
    "**Задание 2. Выведите первые 20 строчек датафрейма `data` на экран.**"
   ]
  },
  {
   "cell_type": "code",
   "execution_count": 56,
   "id": "4fd3666d",
   "metadata": {
    "id": "2a7cab99"
   },
   "outputs": [
    {
     "data": {
      "text/html": [
       "<div>\n",
       "<style scoped>\n",
       "    .dataframe tbody tr th:only-of-type {\n",
       "        vertical-align: middle;\n",
       "    }\n",
       "\n",
       "    .dataframe tbody tr th {\n",
       "        vertical-align: top;\n",
       "    }\n",
       "\n",
       "    .dataframe thead th {\n",
       "        text-align: right;\n",
       "    }\n",
       "</style>\n",
       "<table border=\"1\" class=\"dataframe\">\n",
       "  <thead>\n",
       "    <tr style=\"text-align: right;\">\n",
       "      <th></th>\n",
       "      <th>children</th>\n",
       "      <th>days_employed</th>\n",
       "      <th>dob_years</th>\n",
       "      <th>education</th>\n",
       "      <th>education_id</th>\n",
       "      <th>family_status</th>\n",
       "      <th>family_status_id</th>\n",
       "      <th>gender</th>\n",
       "      <th>income_type</th>\n",
       "      <th>debt</th>\n",
       "      <th>total_income</th>\n",
       "      <th>purpose</th>\n",
       "    </tr>\n",
       "  </thead>\n",
       "  <tbody>\n",
       "    <tr>\n",
       "      <th>0</th>\n",
       "      <td>1</td>\n",
       "      <td>-8437.673028</td>\n",
       "      <td>42</td>\n",
       "      <td>высшее</td>\n",
       "      <td>0</td>\n",
       "      <td>женат / замужем</td>\n",
       "      <td>0</td>\n",
       "      <td>F</td>\n",
       "      <td>сотрудник</td>\n",
       "      <td>0</td>\n",
       "      <td>253875.639453</td>\n",
       "      <td>покупка жилья</td>\n",
       "    </tr>\n",
       "    <tr>\n",
       "      <th>1</th>\n",
       "      <td>1</td>\n",
       "      <td>-4024.803754</td>\n",
       "      <td>36</td>\n",
       "      <td>среднее</td>\n",
       "      <td>1</td>\n",
       "      <td>женат / замужем</td>\n",
       "      <td>0</td>\n",
       "      <td>F</td>\n",
       "      <td>сотрудник</td>\n",
       "      <td>0</td>\n",
       "      <td>112080.014102</td>\n",
       "      <td>приобретение автомобиля</td>\n",
       "    </tr>\n",
       "    <tr>\n",
       "      <th>2</th>\n",
       "      <td>0</td>\n",
       "      <td>-5623.422610</td>\n",
       "      <td>33</td>\n",
       "      <td>Среднее</td>\n",
       "      <td>1</td>\n",
       "      <td>женат / замужем</td>\n",
       "      <td>0</td>\n",
       "      <td>M</td>\n",
       "      <td>сотрудник</td>\n",
       "      <td>0</td>\n",
       "      <td>145885.952297</td>\n",
       "      <td>покупка жилья</td>\n",
       "    </tr>\n",
       "    <tr>\n",
       "      <th>3</th>\n",
       "      <td>3</td>\n",
       "      <td>-4124.747207</td>\n",
       "      <td>32</td>\n",
       "      <td>среднее</td>\n",
       "      <td>1</td>\n",
       "      <td>женат / замужем</td>\n",
       "      <td>0</td>\n",
       "      <td>M</td>\n",
       "      <td>сотрудник</td>\n",
       "      <td>0</td>\n",
       "      <td>267628.550329</td>\n",
       "      <td>дополнительное образование</td>\n",
       "    </tr>\n",
       "    <tr>\n",
       "      <th>4</th>\n",
       "      <td>0</td>\n",
       "      <td>340266.072047</td>\n",
       "      <td>53</td>\n",
       "      <td>среднее</td>\n",
       "      <td>1</td>\n",
       "      <td>гражданский брак</td>\n",
       "      <td>1</td>\n",
       "      <td>F</td>\n",
       "      <td>пенсионер</td>\n",
       "      <td>0</td>\n",
       "      <td>158616.077870</td>\n",
       "      <td>сыграть свадьбу</td>\n",
       "    </tr>\n",
       "    <tr>\n",
       "      <th>5</th>\n",
       "      <td>0</td>\n",
       "      <td>-926.185831</td>\n",
       "      <td>27</td>\n",
       "      <td>высшее</td>\n",
       "      <td>0</td>\n",
       "      <td>гражданский брак</td>\n",
       "      <td>1</td>\n",
       "      <td>M</td>\n",
       "      <td>компаньон</td>\n",
       "      <td>0</td>\n",
       "      <td>255763.565419</td>\n",
       "      <td>покупка жилья</td>\n",
       "    </tr>\n",
       "    <tr>\n",
       "      <th>6</th>\n",
       "      <td>0</td>\n",
       "      <td>-2879.202052</td>\n",
       "      <td>43</td>\n",
       "      <td>высшее</td>\n",
       "      <td>0</td>\n",
       "      <td>женат / замужем</td>\n",
       "      <td>0</td>\n",
       "      <td>F</td>\n",
       "      <td>компаньон</td>\n",
       "      <td>0</td>\n",
       "      <td>240525.971920</td>\n",
       "      <td>операции с жильем</td>\n",
       "    </tr>\n",
       "    <tr>\n",
       "      <th>7</th>\n",
       "      <td>0</td>\n",
       "      <td>-152.779569</td>\n",
       "      <td>50</td>\n",
       "      <td>СРЕДНЕЕ</td>\n",
       "      <td>1</td>\n",
       "      <td>женат / замужем</td>\n",
       "      <td>0</td>\n",
       "      <td>M</td>\n",
       "      <td>сотрудник</td>\n",
       "      <td>0</td>\n",
       "      <td>135823.934197</td>\n",
       "      <td>образование</td>\n",
       "    </tr>\n",
       "    <tr>\n",
       "      <th>8</th>\n",
       "      <td>2</td>\n",
       "      <td>-6929.865299</td>\n",
       "      <td>35</td>\n",
       "      <td>ВЫСШЕЕ</td>\n",
       "      <td>0</td>\n",
       "      <td>гражданский брак</td>\n",
       "      <td>1</td>\n",
       "      <td>F</td>\n",
       "      <td>сотрудник</td>\n",
       "      <td>0</td>\n",
       "      <td>95856.832424</td>\n",
       "      <td>на проведение свадьбы</td>\n",
       "    </tr>\n",
       "    <tr>\n",
       "      <th>9</th>\n",
       "      <td>0</td>\n",
       "      <td>-2188.756445</td>\n",
       "      <td>41</td>\n",
       "      <td>среднее</td>\n",
       "      <td>1</td>\n",
       "      <td>женат / замужем</td>\n",
       "      <td>0</td>\n",
       "      <td>M</td>\n",
       "      <td>сотрудник</td>\n",
       "      <td>0</td>\n",
       "      <td>144425.938277</td>\n",
       "      <td>покупка жилья для семьи</td>\n",
       "    </tr>\n",
       "    <tr>\n",
       "      <th>10</th>\n",
       "      <td>2</td>\n",
       "      <td>-4171.483647</td>\n",
       "      <td>36</td>\n",
       "      <td>высшее</td>\n",
       "      <td>0</td>\n",
       "      <td>женат / замужем</td>\n",
       "      <td>0</td>\n",
       "      <td>M</td>\n",
       "      <td>компаньон</td>\n",
       "      <td>0</td>\n",
       "      <td>113943.491460</td>\n",
       "      <td>покупка недвижимости</td>\n",
       "    </tr>\n",
       "    <tr>\n",
       "      <th>11</th>\n",
       "      <td>0</td>\n",
       "      <td>-792.701887</td>\n",
       "      <td>40</td>\n",
       "      <td>среднее</td>\n",
       "      <td>1</td>\n",
       "      <td>женат / замужем</td>\n",
       "      <td>0</td>\n",
       "      <td>F</td>\n",
       "      <td>сотрудник</td>\n",
       "      <td>0</td>\n",
       "      <td>77069.234271</td>\n",
       "      <td>покупка коммерческой недвижимости</td>\n",
       "    </tr>\n",
       "    <tr>\n",
       "      <th>12</th>\n",
       "      <td>0</td>\n",
       "      <td>NaN</td>\n",
       "      <td>65</td>\n",
       "      <td>среднее</td>\n",
       "      <td>1</td>\n",
       "      <td>гражданский брак</td>\n",
       "      <td>1</td>\n",
       "      <td>M</td>\n",
       "      <td>пенсионер</td>\n",
       "      <td>0</td>\n",
       "      <td>NaN</td>\n",
       "      <td>сыграть свадьбу</td>\n",
       "    </tr>\n",
       "    <tr>\n",
       "      <th>13</th>\n",
       "      <td>0</td>\n",
       "      <td>-1846.641941</td>\n",
       "      <td>54</td>\n",
       "      <td>неоконченное высшее</td>\n",
       "      <td>2</td>\n",
       "      <td>женат / замужем</td>\n",
       "      <td>0</td>\n",
       "      <td>F</td>\n",
       "      <td>сотрудник</td>\n",
       "      <td>0</td>\n",
       "      <td>130458.228857</td>\n",
       "      <td>приобретение автомобиля</td>\n",
       "    </tr>\n",
       "    <tr>\n",
       "      <th>14</th>\n",
       "      <td>0</td>\n",
       "      <td>-1844.956182</td>\n",
       "      <td>56</td>\n",
       "      <td>высшее</td>\n",
       "      <td>0</td>\n",
       "      <td>гражданский брак</td>\n",
       "      <td>1</td>\n",
       "      <td>F</td>\n",
       "      <td>компаньон</td>\n",
       "      <td>1</td>\n",
       "      <td>165127.911772</td>\n",
       "      <td>покупка жилой недвижимости</td>\n",
       "    </tr>\n",
       "    <tr>\n",
       "      <th>15</th>\n",
       "      <td>1</td>\n",
       "      <td>-972.364419</td>\n",
       "      <td>26</td>\n",
       "      <td>среднее</td>\n",
       "      <td>1</td>\n",
       "      <td>женат / замужем</td>\n",
       "      <td>0</td>\n",
       "      <td>F</td>\n",
       "      <td>сотрудник</td>\n",
       "      <td>0</td>\n",
       "      <td>116820.904450</td>\n",
       "      <td>строительство собственной недвижимости</td>\n",
       "    </tr>\n",
       "    <tr>\n",
       "      <th>16</th>\n",
       "      <td>0</td>\n",
       "      <td>-1719.934226</td>\n",
       "      <td>35</td>\n",
       "      <td>среднее</td>\n",
       "      <td>1</td>\n",
       "      <td>женат / замужем</td>\n",
       "      <td>0</td>\n",
       "      <td>F</td>\n",
       "      <td>сотрудник</td>\n",
       "      <td>0</td>\n",
       "      <td>289202.704229</td>\n",
       "      <td>недвижимость</td>\n",
       "    </tr>\n",
       "    <tr>\n",
       "      <th>17</th>\n",
       "      <td>0</td>\n",
       "      <td>-2369.999720</td>\n",
       "      <td>33</td>\n",
       "      <td>высшее</td>\n",
       "      <td>0</td>\n",
       "      <td>гражданский брак</td>\n",
       "      <td>1</td>\n",
       "      <td>M</td>\n",
       "      <td>сотрудник</td>\n",
       "      <td>0</td>\n",
       "      <td>90410.586745</td>\n",
       "      <td>строительство недвижимости</td>\n",
       "    </tr>\n",
       "    <tr>\n",
       "      <th>18</th>\n",
       "      <td>0</td>\n",
       "      <td>400281.136913</td>\n",
       "      <td>53</td>\n",
       "      <td>среднее</td>\n",
       "      <td>1</td>\n",
       "      <td>вдовец / вдова</td>\n",
       "      <td>2</td>\n",
       "      <td>F</td>\n",
       "      <td>пенсионер</td>\n",
       "      <td>0</td>\n",
       "      <td>56823.777243</td>\n",
       "      <td>на покупку подержанного автомобиля</td>\n",
       "    </tr>\n",
       "    <tr>\n",
       "      <th>19</th>\n",
       "      <td>0</td>\n",
       "      <td>-10038.818549</td>\n",
       "      <td>48</td>\n",
       "      <td>СРЕДНЕЕ</td>\n",
       "      <td>1</td>\n",
       "      <td>в разводе</td>\n",
       "      <td>3</td>\n",
       "      <td>F</td>\n",
       "      <td>сотрудник</td>\n",
       "      <td>0</td>\n",
       "      <td>242831.107982</td>\n",
       "      <td>на покупку своего автомобиля</td>\n",
       "    </tr>\n",
       "  </tbody>\n",
       "</table>\n",
       "</div>"
      ],
      "text/plain": [
       "    children  days_employed  dob_years            education  education_id  \\\n",
       "0          1   -8437.673028         42               высшее             0   \n",
       "1          1   -4024.803754         36              среднее             1   \n",
       "2          0   -5623.422610         33              Среднее             1   \n",
       "3          3   -4124.747207         32              среднее             1   \n",
       "4          0  340266.072047         53              среднее             1   \n",
       "5          0    -926.185831         27               высшее             0   \n",
       "6          0   -2879.202052         43               высшее             0   \n",
       "7          0    -152.779569         50              СРЕДНЕЕ             1   \n",
       "8          2   -6929.865299         35               ВЫСШЕЕ             0   \n",
       "9          0   -2188.756445         41              среднее             1   \n",
       "10         2   -4171.483647         36               высшее             0   \n",
       "11         0    -792.701887         40              среднее             1   \n",
       "12         0            NaN         65              среднее             1   \n",
       "13         0   -1846.641941         54  неоконченное высшее             2   \n",
       "14         0   -1844.956182         56               высшее             0   \n",
       "15         1    -972.364419         26              среднее             1   \n",
       "16         0   -1719.934226         35              среднее             1   \n",
       "17         0   -2369.999720         33               высшее             0   \n",
       "18         0  400281.136913         53              среднее             1   \n",
       "19         0  -10038.818549         48              СРЕДНЕЕ             1   \n",
       "\n",
       "       family_status  family_status_id gender income_type  debt  \\\n",
       "0    женат / замужем                 0      F   сотрудник     0   \n",
       "1    женат / замужем                 0      F   сотрудник     0   \n",
       "2    женат / замужем                 0      M   сотрудник     0   \n",
       "3    женат / замужем                 0      M   сотрудник     0   \n",
       "4   гражданский брак                 1      F   пенсионер     0   \n",
       "5   гражданский брак                 1      M   компаньон     0   \n",
       "6    женат / замужем                 0      F   компаньон     0   \n",
       "7    женат / замужем                 0      M   сотрудник     0   \n",
       "8   гражданский брак                 1      F   сотрудник     0   \n",
       "9    женат / замужем                 0      M   сотрудник     0   \n",
       "10   женат / замужем                 0      M   компаньон     0   \n",
       "11   женат / замужем                 0      F   сотрудник     0   \n",
       "12  гражданский брак                 1      M   пенсионер     0   \n",
       "13   женат / замужем                 0      F   сотрудник     0   \n",
       "14  гражданский брак                 1      F   компаньон     1   \n",
       "15   женат / замужем                 0      F   сотрудник     0   \n",
       "16   женат / замужем                 0      F   сотрудник     0   \n",
       "17  гражданский брак                 1      M   сотрудник     0   \n",
       "18    вдовец / вдова                 2      F   пенсионер     0   \n",
       "19         в разводе                 3      F   сотрудник     0   \n",
       "\n",
       "     total_income                                 purpose  \n",
       "0   253875.639453                           покупка жилья  \n",
       "1   112080.014102                 приобретение автомобиля  \n",
       "2   145885.952297                           покупка жилья  \n",
       "3   267628.550329              дополнительное образование  \n",
       "4   158616.077870                         сыграть свадьбу  \n",
       "5   255763.565419                           покупка жилья  \n",
       "6   240525.971920                       операции с жильем  \n",
       "7   135823.934197                             образование  \n",
       "8    95856.832424                   на проведение свадьбы  \n",
       "9   144425.938277                 покупка жилья для семьи  \n",
       "10  113943.491460                    покупка недвижимости  \n",
       "11   77069.234271       покупка коммерческой недвижимости  \n",
       "12            NaN                         сыграть свадьбу  \n",
       "13  130458.228857                 приобретение автомобиля  \n",
       "14  165127.911772              покупка жилой недвижимости  \n",
       "15  116820.904450  строительство собственной недвижимости  \n",
       "16  289202.704229                            недвижимость  \n",
       "17   90410.586745              строительство недвижимости  \n",
       "18   56823.777243      на покупку подержанного автомобиля  \n",
       "19  242831.107982            на покупку своего автомобиля  "
      ]
     },
     "execution_count": 56,
     "metadata": {},
     "output_type": "execute_result"
    }
   ],
   "source": [
    "data.head(20)"
   ]
  },
  {
   "cell_type": "code",
   "execution_count": 57,
   "id": "2dfe3b24",
   "metadata": {},
   "outputs": [
    {
     "data": {
      "text/html": [
       "<div>\n",
       "<style scoped>\n",
       "    .dataframe tbody tr th:only-of-type {\n",
       "        vertical-align: middle;\n",
       "    }\n",
       "\n",
       "    .dataframe tbody tr th {\n",
       "        vertical-align: top;\n",
       "    }\n",
       "\n",
       "    .dataframe thead th {\n",
       "        text-align: right;\n",
       "    }\n",
       "</style>\n",
       "<table border=\"1\" class=\"dataframe\">\n",
       "  <thead>\n",
       "    <tr style=\"text-align: right;\">\n",
       "      <th></th>\n",
       "      <th>children</th>\n",
       "      <th>days_employed</th>\n",
       "      <th>dob_years</th>\n",
       "      <th>education_id</th>\n",
       "      <th>family_status_id</th>\n",
       "      <th>debt</th>\n",
       "      <th>total_income</th>\n",
       "    </tr>\n",
       "  </thead>\n",
       "  <tbody>\n",
       "    <tr>\n",
       "      <th>count</th>\n",
       "      <td>21525.000000</td>\n",
       "      <td>19351.000000</td>\n",
       "      <td>21525.000000</td>\n",
       "      <td>21525.000000</td>\n",
       "      <td>21525.000000</td>\n",
       "      <td>21525.000000</td>\n",
       "      <td>1.935100e+04</td>\n",
       "    </tr>\n",
       "    <tr>\n",
       "      <th>mean</th>\n",
       "      <td>0.538908</td>\n",
       "      <td>63046.497661</td>\n",
       "      <td>43.293380</td>\n",
       "      <td>0.817236</td>\n",
       "      <td>0.972544</td>\n",
       "      <td>0.080883</td>\n",
       "      <td>1.674223e+05</td>\n",
       "    </tr>\n",
       "    <tr>\n",
       "      <th>std</th>\n",
       "      <td>1.381587</td>\n",
       "      <td>140827.311974</td>\n",
       "      <td>12.574584</td>\n",
       "      <td>0.548138</td>\n",
       "      <td>1.420324</td>\n",
       "      <td>0.272661</td>\n",
       "      <td>1.029716e+05</td>\n",
       "    </tr>\n",
       "    <tr>\n",
       "      <th>min</th>\n",
       "      <td>-1.000000</td>\n",
       "      <td>-18388.949901</td>\n",
       "      <td>0.000000</td>\n",
       "      <td>0.000000</td>\n",
       "      <td>0.000000</td>\n",
       "      <td>0.000000</td>\n",
       "      <td>2.066726e+04</td>\n",
       "    </tr>\n",
       "    <tr>\n",
       "      <th>25%</th>\n",
       "      <td>0.000000</td>\n",
       "      <td>-2747.423625</td>\n",
       "      <td>33.000000</td>\n",
       "      <td>1.000000</td>\n",
       "      <td>0.000000</td>\n",
       "      <td>0.000000</td>\n",
       "      <td>1.030532e+05</td>\n",
       "    </tr>\n",
       "    <tr>\n",
       "      <th>50%</th>\n",
       "      <td>0.000000</td>\n",
       "      <td>-1203.369529</td>\n",
       "      <td>42.000000</td>\n",
       "      <td>1.000000</td>\n",
       "      <td>0.000000</td>\n",
       "      <td>0.000000</td>\n",
       "      <td>1.450179e+05</td>\n",
       "    </tr>\n",
       "    <tr>\n",
       "      <th>75%</th>\n",
       "      <td>1.000000</td>\n",
       "      <td>-291.095954</td>\n",
       "      <td>53.000000</td>\n",
       "      <td>1.000000</td>\n",
       "      <td>1.000000</td>\n",
       "      <td>0.000000</td>\n",
       "      <td>2.034351e+05</td>\n",
       "    </tr>\n",
       "    <tr>\n",
       "      <th>max</th>\n",
       "      <td>20.000000</td>\n",
       "      <td>401755.400475</td>\n",
       "      <td>75.000000</td>\n",
       "      <td>4.000000</td>\n",
       "      <td>4.000000</td>\n",
       "      <td>1.000000</td>\n",
       "      <td>2.265604e+06</td>\n",
       "    </tr>\n",
       "  </tbody>\n",
       "</table>\n",
       "</div>"
      ],
      "text/plain": [
       "           children  days_employed     dob_years  education_id  \\\n",
       "count  21525.000000   19351.000000  21525.000000  21525.000000   \n",
       "mean       0.538908   63046.497661     43.293380      0.817236   \n",
       "std        1.381587  140827.311974     12.574584      0.548138   \n",
       "min       -1.000000  -18388.949901      0.000000      0.000000   \n",
       "25%        0.000000   -2747.423625     33.000000      1.000000   \n",
       "50%        0.000000   -1203.369529     42.000000      1.000000   \n",
       "75%        1.000000    -291.095954     53.000000      1.000000   \n",
       "max       20.000000  401755.400475     75.000000      4.000000   \n",
       "\n",
       "       family_status_id          debt  total_income  \n",
       "count      21525.000000  21525.000000  1.935100e+04  \n",
       "mean           0.972544      0.080883  1.674223e+05  \n",
       "std            1.420324      0.272661  1.029716e+05  \n",
       "min            0.000000      0.000000  2.066726e+04  \n",
       "25%            0.000000      0.000000  1.030532e+05  \n",
       "50%            0.000000      0.000000  1.450179e+05  \n",
       "75%            1.000000      0.000000  2.034351e+05  \n",
       "max            4.000000      1.000000  2.265604e+06  "
      ]
     },
     "execution_count": 57,
     "metadata": {},
     "output_type": "execute_result"
    }
   ],
   "source": [
    "data.describe()"
   ]
  },
  {
   "cell_type": "markdown",
   "id": "20ded17b",
   "metadata": {
    "deletable": false,
    "editable": false,
    "id": "1c12e233",
    "tags": [
     "start_task"
    ]
   },
   "source": [
    "**Задание 3. Выведите основную информацию о датафрейме с помощью метода `info()`.**"
   ]
  },
  {
   "cell_type": "code",
   "execution_count": 58,
   "id": "168c4409",
   "metadata": {
    "id": "2b757bca"
   },
   "outputs": [
    {
     "name": "stdout",
     "output_type": "stream",
     "text": [
      "<class 'pandas.core.frame.DataFrame'>\n",
      "RangeIndex: 21525 entries, 0 to 21524\n",
      "Data columns (total 12 columns):\n",
      " #   Column            Non-Null Count  Dtype  \n",
      "---  ------            --------------  -----  \n",
      " 0   children          21525 non-null  int64  \n",
      " 1   days_employed     19351 non-null  float64\n",
      " 2   dob_years         21525 non-null  int64  \n",
      " 3   education         21525 non-null  object \n",
      " 4   education_id      21525 non-null  int64  \n",
      " 5   family_status     21525 non-null  object \n",
      " 6   family_status_id  21525 non-null  int64  \n",
      " 7   gender            21525 non-null  object \n",
      " 8   income_type       21525 non-null  object \n",
      " 9   debt              21525 non-null  int64  \n",
      " 10  total_income      19351 non-null  float64\n",
      " 11  purpose           21525 non-null  object \n",
      "dtypes: float64(2), int64(5), object(5)\n",
      "memory usage: 2.0+ MB\n"
     ]
    }
   ],
   "source": [
    "data.info()"
   ]
  },
  {
   "cell_type": "markdown",
   "id": "412dac53",
   "metadata": {
    "deletable": false,
    "editable": false,
    "id": "333ec665"
   },
   "source": [
    "## Предобработка данных"
   ]
  },
  {
   "cell_type": "markdown",
   "id": "f04b0123",
   "metadata": {
    "deletable": false,
    "editable": false,
    "id": "02d92d53"
   },
   "source": [
    "### Удаление пропусков"
   ]
  },
  {
   "cell_type": "markdown",
   "id": "b99b5f40",
   "metadata": {
    "deletable": false,
    "editable": false,
    "id": "cd84967c",
    "tags": [
     "start_task"
    ]
   },
   "source": [
    "**Задание 4. Выведите количество пропущенных значений для каждого столбца. Используйте комбинацию двух методов.**"
   ]
  },
  {
   "cell_type": "code",
   "execution_count": 59,
   "id": "55ed52ce",
   "metadata": {
    "id": "7f9b2309"
   },
   "outputs": [
    {
     "data": {
      "text/plain": [
       "children               0\n",
       "days_employed       2174\n",
       "dob_years              0\n",
       "education              0\n",
       "education_id           0\n",
       "family_status          0\n",
       "family_status_id       0\n",
       "gender                 0\n",
       "income_type            0\n",
       "debt                   0\n",
       "total_income        2174\n",
       "purpose                0\n",
       "dtype: int64"
      ]
     },
     "execution_count": 59,
     "metadata": {},
     "output_type": "execute_result"
    }
   ],
   "source": [
    "data.isna().sum()"
   ]
  },
  {
   "cell_type": "markdown",
   "id": "90a1d713",
   "metadata": {
    "deletable": false,
    "editable": false,
    "id": "db86e27b",
    "tags": [
     "start_task"
    ]
   },
   "source": [
    "**Задание 5. В двух столбцах есть пропущенные значения. Один из них — `days_employed`. Пропуски в этом столбце вы обработаете на следующем этапе. Другой столбец с пропущенными значениями — `total_income` — хранит данные о доходах. На сумму дохода сильнее всего влияет тип занятости, поэтому заполнить пропуски в этом столбце нужно медианным значением по каждому типу из столбца `income_type`. Например, у человека с типом занятости `сотрудник` пропуск в столбце `total_income` должен быть заполнен медианным доходом среди всех записей с тем же типом.**"
   ]
  },
  {
   "cell_type": "code",
   "execution_count": 60,
   "id": "b2ffa2b0",
   "metadata": {
    "id": "42006a93"
   },
   "outputs": [
    {
     "data": {
      "text/plain": [
       "children               0\n",
       "days_employed       2174\n",
       "dob_years              0\n",
       "education              0\n",
       "education_id           0\n",
       "family_status          0\n",
       "family_status_id       0\n",
       "gender                 0\n",
       "income_type            0\n",
       "debt                   0\n",
       "total_income           0\n",
       "purpose                0\n",
       "dtype: int64"
      ]
     },
     "execution_count": 60,
     "metadata": {},
     "output_type": "execute_result"
    }
   ],
   "source": [
    "income_median = data.groupby('income_type')['total_income'].median()\n",
    "\n",
    "income_types_list = {\n",
    "    'безработный',\n",
    "    'в декрете',\n",
    "    'госслужащий',\n",
    "    'компаньон',\n",
    "    'пенсионер',\n",
    "    'предприниматель',\n",
    "    'сотрудник',\n",
    "    'студент'\n",
    "}\n",
    "\n",
    "for income_types in income_types_list:\n",
    "    data.loc[(data['income_type']==income_types)&(data['total_income'].isna()),'total_income'] = data.loc[(data['income_type']==income_types)&(data['total_income'].isna())].fillna(income_median[income_types])\n",
    "\n",
    "data.isna().sum()"
   ]
  },
  {
   "cell_type": "markdown",
   "id": "73ad7ea9",
   "metadata": {
    "deletable": false,
    "editable": false,
    "id": "89da5ece"
   },
   "source": [
    "### Обработка аномальных значений"
   ]
  },
  {
   "cell_type": "markdown",
   "id": "b83ed237",
   "metadata": {
    "deletable": false,
    "editable": false,
    "id": "57964554",
    "tags": [
     "start_task"
    ]
   },
   "source": [
    "**Задание 6. В данных могут встречаться артефакты (аномалии) — значения, которые не отражают действительность и появились по какой-то ошибке. Таким артефактом будет отрицательное количество дней трудового стажа в столбце `days_employed`. Для реальных данных это нормально. Обработайте значения в этом столбце: замените все отрицательные значения положительными с помощью метода `abs()`.**"
   ]
  },
  {
   "cell_type": "code",
   "execution_count": 61,
   "id": "3752a747",
   "metadata": {
    "id": "f6f055bf"
   },
   "outputs": [],
   "source": [
    "data['days_employed'] = data['days_employed'].abs()"
   ]
  },
  {
   "cell_type": "markdown",
   "id": "f10e4aaa",
   "metadata": {
    "deletable": false,
    "editable": false,
    "id": "6107dd2f",
    "tags": [
     "start_task"
    ]
   },
   "source": [
    "**Задание 7. Для каждого типа занятости выведите медианное значение трудового стажа `days_employed` в днях.**"
   ]
  },
  {
   "cell_type": "code",
   "execution_count": 62,
   "id": "bbf6dc81",
   "metadata": {
    "id": "85a5faf6"
   },
   "outputs": [
    {
     "data": {
      "text/plain": [
       "income_type\n",
       "безработный        366413.652744\n",
       "в декрете            3296.759962\n",
       "госслужащий          2689.368353\n",
       "компаньон            1547.382223\n",
       "пенсионер          365213.306266\n",
       "предприниматель       520.848083\n",
       "сотрудник            1574.202821\n",
       "студент               578.751554\n",
       "Name: days_employed, dtype: float64"
      ]
     },
     "execution_count": 62,
     "metadata": {},
     "output_type": "execute_result"
    }
   ],
   "source": [
    "data.groupby('income_type')['days_employed'].median()"
   ]
  },
  {
   "cell_type": "markdown",
   "id": "daeadbf9",
   "metadata": {
    "deletable": false,
    "editable": false,
    "id": "38d1a030"
   },
   "source": [
    "У двух типов (безработные и пенсионеры) получатся аномально большие значения. Исправить такие значения сложно, поэтому оставьте их как есть. Тем более этот столбец не понадобится вам для исследования."
   ]
  },
  {
   "cell_type": "markdown",
   "id": "7235d11b",
   "metadata": {
    "deletable": false,
    "editable": false,
    "id": "d8a9f147",
    "tags": [
     "start_task"
    ]
   },
   "source": [
    "**Задание 8. Выведите перечень уникальных значений столбца `children`.**"
   ]
  },
  {
   "cell_type": "code",
   "execution_count": 78,
   "id": "808d5f1c",
   "metadata": {
    "id": "ef5056eb"
   },
   "outputs": [
    {
     "data": {
      "text/plain": [
       "array([1, 0, 3, 2, 4, 5])"
      ]
     },
     "execution_count": 78,
     "metadata": {},
     "output_type": "execute_result"
    }
   ],
   "source": [
    "data['children'].unique()"
   ]
  },
  {
   "cell_type": "markdown",
   "id": "0a4434e5",
   "metadata": {
    "deletable": false,
    "editable": false,
    "id": "40b9ebf2",
    "tags": [
     "start_task"
    ]
   },
   "source": [
    "**Задание 9. В столбце `children` есть два аномальных значения. Удалите строки, в которых встречаются такие аномальные значения из датафрейма `data`.**"
   ]
  },
  {
   "cell_type": "code",
   "execution_count": 64,
   "id": "207fca68",
   "metadata": {
    "id": "3ff9801d"
   },
   "outputs": [],
   "source": [
    "data = data.drop(data[data['children']==-1].index)\n",
    "data = data.drop(data[data['children']==20].index)"
   ]
  },
  {
   "cell_type": "markdown",
   "id": "924049ba",
   "metadata": {
    "deletable": false,
    "editable": false,
    "id": "bbc4d0ce",
    "tags": [
     "start_task"
    ]
   },
   "source": [
    "**Задание 10. Ещё раз выведите перечень уникальных значений столбца `children`, чтобы убедиться, что артефакты удалены.**"
   ]
  },
  {
   "cell_type": "code",
   "execution_count": 65,
   "id": "a6704e32",
   "metadata": {
    "id": "ad4fa8b7"
   },
   "outputs": [
    {
     "data": {
      "text/plain": [
       "array([1, 0, 3, 2, 4, 5])"
      ]
     },
     "execution_count": 65,
     "metadata": {},
     "output_type": "execute_result"
    }
   ],
   "source": [
    "data['children'].unique()"
   ]
  },
  {
   "cell_type": "markdown",
   "id": "31915f3a",
   "metadata": {
    "deletable": false,
    "editable": false,
    "id": "75440b63"
   },
   "source": [
    "### Удаление пропусков (продолжение)"
   ]
  },
  {
   "cell_type": "markdown",
   "id": "6b778c24",
   "metadata": {
    "deletable": false,
    "editable": false,
    "id": "f4ea573f",
    "tags": [
     "start_task"
    ]
   },
   "source": [
    "**Задание 11. Заполните пропуски в столбце `days_employed` медианными значениями по каждому типу занятости `income_type`.**"
   ]
  },
  {
   "cell_type": "code",
   "execution_count": 66,
   "id": "df9d8f76",
   "metadata": {
    "id": "af6b1a7e"
   },
   "outputs": [],
   "source": [
    "days_employed_median = data.groupby('income_type')['days_employed'].median()\n",
    "\n",
    "for income_types in income_types_list:\n",
    "    data.loc[(data['income_type']==income_types)&(data['days_employed'].isna()),'days_employed'] = data.loc[(data['income_type']==income_types)&(data['days_employed'].isna())].fillna(days_employed_median[income_types])\n"
   ]
  },
  {
   "cell_type": "markdown",
   "id": "9f08e72a",
   "metadata": {
    "deletable": false,
    "editable": false,
    "id": "2753f40d",
    "tags": [
     "start_task"
    ]
   },
   "source": [
    "**Задание 12. Убедитесь, что все пропуски заполнены. Проверьте себя и ещё раз выведите количество пропущенных значений для каждого столбца с помощью двух методов.**"
   ]
  },
  {
   "cell_type": "code",
   "execution_count": 67,
   "id": "5f34686d",
   "metadata": {
    "id": "55f78bc2"
   },
   "outputs": [
    {
     "data": {
      "text/plain": [
       "children            0\n",
       "days_employed       0\n",
       "dob_years           0\n",
       "education           0\n",
       "education_id        0\n",
       "family_status       0\n",
       "family_status_id    0\n",
       "gender              0\n",
       "income_type         0\n",
       "debt                0\n",
       "total_income        0\n",
       "purpose             0\n",
       "dtype: int64"
      ]
     },
     "execution_count": 67,
     "metadata": {},
     "output_type": "execute_result"
    }
   ],
   "source": [
    "data.isna().sum()"
   ]
  },
  {
   "cell_type": "markdown",
   "id": "27e32c9f",
   "metadata": {
    "deletable": false,
    "editable": false,
    "id": "ddc81e43"
   },
   "source": [
    "### Изменение типов данных"
   ]
  },
  {
   "cell_type": "markdown",
   "id": "a82edf71",
   "metadata": {
    "deletable": false,
    "editable": false,
    "id": "42d19d24",
    "tags": [
     "start_task"
    ]
   },
   "source": [
    "**Задание 13. Замените вещественный тип данных в столбце `total_income` на целочисленный с помощью метода `astype()`.**"
   ]
  },
  {
   "cell_type": "code",
   "execution_count": 68,
   "id": "7f3a94af",
   "metadata": {
    "id": "920b65ad"
   },
   "outputs": [],
   "source": [
    "data['total_income'] = data['total_income'].astype('int')"
   ]
  },
  {
   "cell_type": "markdown",
   "id": "464a6bae",
   "metadata": {
    "deletable": false,
    "editable": false,
    "id": "80c420ba"
   },
   "source": [
    "### Обработка дубликатов"
   ]
  },
  {
   "cell_type": "markdown",
   "id": "00f7b73e",
   "metadata": {
    "deletable": false,
    "editable": false,
    "id": "dc587695",
    "tags": [
     "start_task"
    ]
   },
   "source": [
    "**Задание 14. Выведите на экран количество строк-дубликатов в данных. Если такие строки присутствуют, удалите их.**"
   ]
  },
  {
   "cell_type": "code",
   "execution_count": 69,
   "id": "be2f6e8b",
   "metadata": {
    "id": "3ee445e4"
   },
   "outputs": [
    {
     "data": {
      "text/plain": [
       "54"
      ]
     },
     "execution_count": 69,
     "metadata": {},
     "output_type": "execute_result"
    }
   ],
   "source": [
    "data.duplicated().sum()"
   ]
  },
  {
   "cell_type": "code",
   "execution_count": 70,
   "id": "7324a998",
   "metadata": {
    "id": "8575fe05"
   },
   "outputs": [],
   "source": [
    "data = data.drop_duplicates().reset_index(drop=True)"
   ]
  },
  {
   "cell_type": "markdown",
   "id": "a7fabd75",
   "metadata": {
    "deletable": false,
    "editable": false,
    "id": "9771a76c",
    "tags": [
     "start_task"
    ]
   },
   "source": [
    "**Задание 15. Обработайте неявные дубликаты в столбце `education`. В этом столбце есть одни и те же значения, но записанные по-разному: с использованием заглавных и строчных букв. Приведите их к нижнему регистру. Проверьте остальные столбцы.**"
   ]
  },
  {
   "cell_type": "code",
   "execution_count": 71,
   "id": "a0a8916b",
   "metadata": {
    "id": "a9f8e2bf"
   },
   "outputs": [
    {
     "name": "stdout",
     "output_type": "stream",
     "text": [
      "0\n",
      "['женат / замужем' 'гражданский брак' 'вдовец / вдова' 'в разводе'\n",
      " 'Не женат / не замужем']\n",
      "['покупка жилья' 'приобретение автомобиля' 'дополнительное образование'\n",
      " 'сыграть свадьбу' 'операции с жильем' 'образование'\n",
      " 'на проведение свадьбы' 'покупка жилья для семьи' 'покупка недвижимости'\n",
      " 'покупка коммерческой недвижимости' 'покупка жилой недвижимости'\n",
      " 'строительство собственной недвижимости' 'недвижимость'\n",
      " 'строительство недвижимости' 'на покупку подержанного автомобиля'\n",
      " 'на покупку своего автомобиля' 'операции с коммерческой недвижимостью'\n",
      " 'строительство жилой недвижимости' 'жилье'\n",
      " 'операции со своей недвижимостью' 'автомобили' 'заняться образованием'\n",
      " 'сделка с подержанным автомобилем' 'получение образования' 'автомобиль'\n",
      " 'свадьба' 'получение дополнительного образования' 'покупка своего жилья'\n",
      " 'операции с недвижимостью' 'получение высшего образования'\n",
      " 'свой автомобиль' 'сделка с автомобилем' 'профильное образование'\n",
      " 'высшее образование' 'покупка жилья для сдачи' 'на покупку автомобиля'\n",
      " 'ремонт жилью' 'заняться высшим образованием']\n"
     ]
    }
   ],
   "source": [
    "data['education'] = data['education'].str.lower()\n",
    "data = data.drop_duplicates().reset_index(drop=True)\n",
    "print(data.duplicated().sum())\n",
    "\n",
    "print(data['family_status'].unique())\n",
    "print(data['purpose'].unique())"
   ]
  },
  {
   "cell_type": "markdown",
   "id": "68addc16",
   "metadata": {
    "deletable": false,
    "editable": false,
    "id": "9904cf55"
   },
   "source": [
    "### Категоризация данных"
   ]
  },
  {
   "cell_type": "markdown",
   "id": "d3d5035c",
   "metadata": {
    "deletable": false,
    "editable": false,
    "id": "72fcc8a2",
    "tags": [
     "start_task"
    ]
   },
   "source": [
    "**Задание 16. На основании диапазонов, указанных ниже, создайте в датафрейме `data` столбец `total_income_category` с категориями:**\n",
    "\n",
    "- 0–30000 — `'E'`;\n",
    "- 30001–50000 — `'D'`;\n",
    "- 50001–200000 — `'C'`;\n",
    "- 200001–1000000 — `'B'`;\n",
    "- 1000001 и выше — `'A'`.\n",
    "\n",
    "\n",
    "**Например, кредитополучателю с доходом 25000 нужно назначить категорию `'E'`, а клиенту, получающему 235000, — `'B'`. Используйте собственную функцию с именем `categorize_income()` и метод `apply()`.**"
   ]
  },
  {
   "cell_type": "code",
   "execution_count": 72,
   "id": "c6aed65d",
   "metadata": {
    "id": "e1771346"
   },
   "outputs": [],
   "source": [
    "def categorize_income(row):\n",
    "    income = row['total_income']\n",
    "    if income <= 30000:\n",
    "        return 'E'\n",
    "    elif 30000 < income <= 50000:\n",
    "        return 'D'\n",
    "    elif 50000 < income <= 200000:\n",
    "        return 'C'\n",
    "    elif 200000 < income <= 1000000:\n",
    "        return 'B'\n",
    "    elif 1000000 < income:\n",
    "        return 'A'"
   ]
  },
  {
   "cell_type": "code",
   "execution_count": 73,
   "id": "68c89d3f",
   "metadata": {
    "id": "d5f3586d"
   },
   "outputs": [],
   "source": [
    "data['total_income_category'] = data.apply(categorize_income, axis=1)"
   ]
  },
  {
   "cell_type": "markdown",
   "id": "636b19f2",
   "metadata": {
    "deletable": false,
    "editable": false,
    "id": "dde49b5c",
    "tags": [
     "start_task"
    ]
   },
   "source": [
    "**Задание 17. Выведите на экран перечень уникальных целей взятия кредита из столбца `purpose`.**"
   ]
  },
  {
   "cell_type": "code",
   "execution_count": 74,
   "id": "d467768f",
   "metadata": {
    "id": "f67ce9b3"
   },
   "outputs": [
    {
     "data": {
      "text/plain": [
       "array(['покупка жилья', 'приобретение автомобиля',\n",
       "       'дополнительное образование', 'сыграть свадьбу',\n",
       "       'операции с жильем', 'образование', 'на проведение свадьбы',\n",
       "       'покупка жилья для семьи', 'покупка недвижимости',\n",
       "       'покупка коммерческой недвижимости', 'покупка жилой недвижимости',\n",
       "       'строительство собственной недвижимости', 'недвижимость',\n",
       "       'строительство недвижимости', 'на покупку подержанного автомобиля',\n",
       "       'на покупку своего автомобиля',\n",
       "       'операции с коммерческой недвижимостью',\n",
       "       'строительство жилой недвижимости', 'жилье',\n",
       "       'операции со своей недвижимостью', 'автомобили',\n",
       "       'заняться образованием', 'сделка с подержанным автомобилем',\n",
       "       'получение образования', 'автомобиль', 'свадьба',\n",
       "       'получение дополнительного образования', 'покупка своего жилья',\n",
       "       'операции с недвижимостью', 'получение высшего образования',\n",
       "       'свой автомобиль', 'сделка с автомобилем',\n",
       "       'профильное образование', 'высшее образование',\n",
       "       'покупка жилья для сдачи', 'на покупку автомобиля', 'ремонт жилью',\n",
       "       'заняться высшим образованием'], dtype=object)"
      ]
     },
     "execution_count": 74,
     "metadata": {},
     "output_type": "execute_result"
    }
   ],
   "source": [
    "data['purpose'].unique()"
   ]
  },
  {
   "cell_type": "markdown",
   "id": "effcfc4c",
   "metadata": {
    "deletable": false,
    "editable": false,
    "id": "85d0aef0",
    "tags": [
     "start_task"
    ]
   },
   "source": [
    "**Задание 18. Создайте функцию, которая на основании данных из столбца `purpose` сформирует новый столбец `purpose_category`, в который войдут следующие категории:**\n",
    "\n",
    "- `'операции с автомобилем'`,\n",
    "- `'операции с недвижимостью'`,\n",
    "- `'проведение свадьбы'`,\n",
    "- `'получение образования'`.\n",
    "\n",
    "**Например, если в столбце `purpose` находится подстрока `'на покупку автомобиля'`, то в столбце `purpose_category` должна появиться строка `'операции с автомобилем'`.**\n",
    "\n",
    "**Используйте собственную функцию с именем `categorize_purpose()` и метод `apply()`. Изучите данные в столбце `purpose` и определите, какие подстроки помогут вам правильно определить категорию.**"
   ]
  },
  {
   "cell_type": "code",
   "execution_count": 75,
   "id": "8d4e9509",
   "metadata": {
    "id": "e149fab4"
   },
   "outputs": [],
   "source": [
    "def categorize_purpose(row):\n",
    "    if 'авто' in row['purpose']:\n",
    "        return 'операции с автомобилем'\n",
    "    elif 'жиль' in row['purpose'] or 'недвижимост' in row['purpose']:\n",
    "        return 'операции с недвижимостью'\n",
    "    elif 'свадьб' in row['purpose']:\n",
    "        return 'проведение свадьбы'\n",
    "    elif 'образовани' in row['purpose']:\n",
    "        return 'получение образования'"
   ]
  },
  {
   "cell_type": "code",
   "execution_count": 76,
   "id": "28e05b15",
   "metadata": {
    "id": "bf36e69b"
   },
   "outputs": [],
   "source": [
    "data['purpose_category'] = data.apply(categorize_purpose, axis=1)"
   ]
  },
  {
   "cell_type": "code",
   "execution_count": 77,
   "id": "6d8b2367",
   "metadata": {},
   "outputs": [
    {
     "data": {
      "text/html": [
       "<div>\n",
       "<style scoped>\n",
       "    .dataframe tbody tr th:only-of-type {\n",
       "        vertical-align: middle;\n",
       "    }\n",
       "\n",
       "    .dataframe tbody tr th {\n",
       "        vertical-align: top;\n",
       "    }\n",
       "\n",
       "    .dataframe thead th {\n",
       "        text-align: right;\n",
       "    }\n",
       "</style>\n",
       "<table border=\"1\" class=\"dataframe\">\n",
       "  <thead>\n",
       "    <tr style=\"text-align: right;\">\n",
       "      <th></th>\n",
       "      <th>children</th>\n",
       "      <th>days_employed</th>\n",
       "      <th>dob_years</th>\n",
       "      <th>education</th>\n",
       "      <th>education_id</th>\n",
       "      <th>family_status</th>\n",
       "      <th>family_status_id</th>\n",
       "      <th>gender</th>\n",
       "      <th>income_type</th>\n",
       "      <th>debt</th>\n",
       "      <th>total_income</th>\n",
       "      <th>purpose</th>\n",
       "      <th>total_income_category</th>\n",
       "      <th>purpose_category</th>\n",
       "    </tr>\n",
       "  </thead>\n",
       "  <tbody>\n",
       "    <tr>\n",
       "      <th>0</th>\n",
       "      <td>1</td>\n",
       "      <td>8437.673028</td>\n",
       "      <td>42</td>\n",
       "      <td>высшее</td>\n",
       "      <td>0</td>\n",
       "      <td>женат / замужем</td>\n",
       "      <td>0</td>\n",
       "      <td>F</td>\n",
       "      <td>сотрудник</td>\n",
       "      <td>0</td>\n",
       "      <td>253875</td>\n",
       "      <td>покупка жилья</td>\n",
       "      <td>B</td>\n",
       "      <td>операции с недвижимостью</td>\n",
       "    </tr>\n",
       "    <tr>\n",
       "      <th>1</th>\n",
       "      <td>1</td>\n",
       "      <td>4024.803754</td>\n",
       "      <td>36</td>\n",
       "      <td>среднее</td>\n",
       "      <td>1</td>\n",
       "      <td>женат / замужем</td>\n",
       "      <td>0</td>\n",
       "      <td>F</td>\n",
       "      <td>сотрудник</td>\n",
       "      <td>0</td>\n",
       "      <td>112080</td>\n",
       "      <td>приобретение автомобиля</td>\n",
       "      <td>C</td>\n",
       "      <td>операции с автомобилем</td>\n",
       "    </tr>\n",
       "    <tr>\n",
       "      <th>2</th>\n",
       "      <td>0</td>\n",
       "      <td>5623.422610</td>\n",
       "      <td>33</td>\n",
       "      <td>среднее</td>\n",
       "      <td>1</td>\n",
       "      <td>женат / замужем</td>\n",
       "      <td>0</td>\n",
       "      <td>M</td>\n",
       "      <td>сотрудник</td>\n",
       "      <td>0</td>\n",
       "      <td>145885</td>\n",
       "      <td>покупка жилья</td>\n",
       "      <td>C</td>\n",
       "      <td>операции с недвижимостью</td>\n",
       "    </tr>\n",
       "    <tr>\n",
       "      <th>3</th>\n",
       "      <td>3</td>\n",
       "      <td>4124.747207</td>\n",
       "      <td>32</td>\n",
       "      <td>среднее</td>\n",
       "      <td>1</td>\n",
       "      <td>женат / замужем</td>\n",
       "      <td>0</td>\n",
       "      <td>M</td>\n",
       "      <td>сотрудник</td>\n",
       "      <td>0</td>\n",
       "      <td>267628</td>\n",
       "      <td>дополнительное образование</td>\n",
       "      <td>B</td>\n",
       "      <td>получение образования</td>\n",
       "    </tr>\n",
       "    <tr>\n",
       "      <th>4</th>\n",
       "      <td>0</td>\n",
       "      <td>340266.072047</td>\n",
       "      <td>53</td>\n",
       "      <td>среднее</td>\n",
       "      <td>1</td>\n",
       "      <td>гражданский брак</td>\n",
       "      <td>1</td>\n",
       "      <td>F</td>\n",
       "      <td>пенсионер</td>\n",
       "      <td>0</td>\n",
       "      <td>158616</td>\n",
       "      <td>сыграть свадьбу</td>\n",
       "      <td>C</td>\n",
       "      <td>проведение свадьбы</td>\n",
       "    </tr>\n",
       "    <tr>\n",
       "      <th>5</th>\n",
       "      <td>0</td>\n",
       "      <td>926.185831</td>\n",
       "      <td>27</td>\n",
       "      <td>высшее</td>\n",
       "      <td>0</td>\n",
       "      <td>гражданский брак</td>\n",
       "      <td>1</td>\n",
       "      <td>M</td>\n",
       "      <td>компаньон</td>\n",
       "      <td>0</td>\n",
       "      <td>255763</td>\n",
       "      <td>покупка жилья</td>\n",
       "      <td>B</td>\n",
       "      <td>операции с недвижимостью</td>\n",
       "    </tr>\n",
       "    <tr>\n",
       "      <th>6</th>\n",
       "      <td>0</td>\n",
       "      <td>2879.202052</td>\n",
       "      <td>43</td>\n",
       "      <td>высшее</td>\n",
       "      <td>0</td>\n",
       "      <td>женат / замужем</td>\n",
       "      <td>0</td>\n",
       "      <td>F</td>\n",
       "      <td>компаньон</td>\n",
       "      <td>0</td>\n",
       "      <td>240525</td>\n",
       "      <td>операции с жильем</td>\n",
       "      <td>B</td>\n",
       "      <td>операции с недвижимостью</td>\n",
       "    </tr>\n",
       "    <tr>\n",
       "      <th>7</th>\n",
       "      <td>0</td>\n",
       "      <td>152.779569</td>\n",
       "      <td>50</td>\n",
       "      <td>среднее</td>\n",
       "      <td>1</td>\n",
       "      <td>женат / замужем</td>\n",
       "      <td>0</td>\n",
       "      <td>M</td>\n",
       "      <td>сотрудник</td>\n",
       "      <td>0</td>\n",
       "      <td>135823</td>\n",
       "      <td>образование</td>\n",
       "      <td>C</td>\n",
       "      <td>получение образования</td>\n",
       "    </tr>\n",
       "    <tr>\n",
       "      <th>8</th>\n",
       "      <td>2</td>\n",
       "      <td>6929.865299</td>\n",
       "      <td>35</td>\n",
       "      <td>высшее</td>\n",
       "      <td>0</td>\n",
       "      <td>гражданский брак</td>\n",
       "      <td>1</td>\n",
       "      <td>F</td>\n",
       "      <td>сотрудник</td>\n",
       "      <td>0</td>\n",
       "      <td>95856</td>\n",
       "      <td>на проведение свадьбы</td>\n",
       "      <td>C</td>\n",
       "      <td>проведение свадьбы</td>\n",
       "    </tr>\n",
       "    <tr>\n",
       "      <th>9</th>\n",
       "      <td>0</td>\n",
       "      <td>2188.756445</td>\n",
       "      <td>41</td>\n",
       "      <td>среднее</td>\n",
       "      <td>1</td>\n",
       "      <td>женат / замужем</td>\n",
       "      <td>0</td>\n",
       "      <td>M</td>\n",
       "      <td>сотрудник</td>\n",
       "      <td>0</td>\n",
       "      <td>144425</td>\n",
       "      <td>покупка жилья для семьи</td>\n",
       "      <td>C</td>\n",
       "      <td>операции с недвижимостью</td>\n",
       "    </tr>\n",
       "    <tr>\n",
       "      <th>10</th>\n",
       "      <td>2</td>\n",
       "      <td>4171.483647</td>\n",
       "      <td>36</td>\n",
       "      <td>высшее</td>\n",
       "      <td>0</td>\n",
       "      <td>женат / замужем</td>\n",
       "      <td>0</td>\n",
       "      <td>M</td>\n",
       "      <td>компаньон</td>\n",
       "      <td>0</td>\n",
       "      <td>113943</td>\n",
       "      <td>покупка недвижимости</td>\n",
       "      <td>C</td>\n",
       "      <td>операции с недвижимостью</td>\n",
       "    </tr>\n",
       "    <tr>\n",
       "      <th>11</th>\n",
       "      <td>0</td>\n",
       "      <td>792.701887</td>\n",
       "      <td>40</td>\n",
       "      <td>среднее</td>\n",
       "      <td>1</td>\n",
       "      <td>женат / замужем</td>\n",
       "      <td>0</td>\n",
       "      <td>F</td>\n",
       "      <td>сотрудник</td>\n",
       "      <td>0</td>\n",
       "      <td>77069</td>\n",
       "      <td>покупка коммерческой недвижимости</td>\n",
       "      <td>C</td>\n",
       "      <td>операции с недвижимостью</td>\n",
       "    </tr>\n",
       "    <tr>\n",
       "      <th>12</th>\n",
       "      <td>0</td>\n",
       "      <td>365286.622650</td>\n",
       "      <td>65</td>\n",
       "      <td>среднее</td>\n",
       "      <td>1</td>\n",
       "      <td>гражданский брак</td>\n",
       "      <td>1</td>\n",
       "      <td>M</td>\n",
       "      <td>пенсионер</td>\n",
       "      <td>0</td>\n",
       "      <td>118514</td>\n",
       "      <td>сыграть свадьбу</td>\n",
       "      <td>C</td>\n",
       "      <td>проведение свадьбы</td>\n",
       "    </tr>\n",
       "    <tr>\n",
       "      <th>13</th>\n",
       "      <td>0</td>\n",
       "      <td>1846.641941</td>\n",
       "      <td>54</td>\n",
       "      <td>неоконченное высшее</td>\n",
       "      <td>2</td>\n",
       "      <td>женат / замужем</td>\n",
       "      <td>0</td>\n",
       "      <td>F</td>\n",
       "      <td>сотрудник</td>\n",
       "      <td>0</td>\n",
       "      <td>130458</td>\n",
       "      <td>приобретение автомобиля</td>\n",
       "      <td>C</td>\n",
       "      <td>операции с автомобилем</td>\n",
       "    </tr>\n",
       "    <tr>\n",
       "      <th>14</th>\n",
       "      <td>0</td>\n",
       "      <td>1844.956182</td>\n",
       "      <td>56</td>\n",
       "      <td>высшее</td>\n",
       "      <td>0</td>\n",
       "      <td>гражданский брак</td>\n",
       "      <td>1</td>\n",
       "      <td>F</td>\n",
       "      <td>компаньон</td>\n",
       "      <td>1</td>\n",
       "      <td>165127</td>\n",
       "      <td>покупка жилой недвижимости</td>\n",
       "      <td>C</td>\n",
       "      <td>операции с недвижимостью</td>\n",
       "    </tr>\n",
       "    <tr>\n",
       "      <th>15</th>\n",
       "      <td>1</td>\n",
       "      <td>972.364419</td>\n",
       "      <td>26</td>\n",
       "      <td>среднее</td>\n",
       "      <td>1</td>\n",
       "      <td>женат / замужем</td>\n",
       "      <td>0</td>\n",
       "      <td>F</td>\n",
       "      <td>сотрудник</td>\n",
       "      <td>0</td>\n",
       "      <td>116820</td>\n",
       "      <td>строительство собственной недвижимости</td>\n",
       "      <td>C</td>\n",
       "      <td>операции с недвижимостью</td>\n",
       "    </tr>\n",
       "    <tr>\n",
       "      <th>16</th>\n",
       "      <td>0</td>\n",
       "      <td>1719.934226</td>\n",
       "      <td>35</td>\n",
       "      <td>среднее</td>\n",
       "      <td>1</td>\n",
       "      <td>женат / замужем</td>\n",
       "      <td>0</td>\n",
       "      <td>F</td>\n",
       "      <td>сотрудник</td>\n",
       "      <td>0</td>\n",
       "      <td>289202</td>\n",
       "      <td>недвижимость</td>\n",
       "      <td>B</td>\n",
       "      <td>операции с недвижимостью</td>\n",
       "    </tr>\n",
       "    <tr>\n",
       "      <th>17</th>\n",
       "      <td>0</td>\n",
       "      <td>2369.999720</td>\n",
       "      <td>33</td>\n",
       "      <td>высшее</td>\n",
       "      <td>0</td>\n",
       "      <td>гражданский брак</td>\n",
       "      <td>1</td>\n",
       "      <td>M</td>\n",
       "      <td>сотрудник</td>\n",
       "      <td>0</td>\n",
       "      <td>90410</td>\n",
       "      <td>строительство недвижимости</td>\n",
       "      <td>C</td>\n",
       "      <td>операции с недвижимостью</td>\n",
       "    </tr>\n",
       "    <tr>\n",
       "      <th>18</th>\n",
       "      <td>0</td>\n",
       "      <td>400281.136913</td>\n",
       "      <td>53</td>\n",
       "      <td>среднее</td>\n",
       "      <td>1</td>\n",
       "      <td>вдовец / вдова</td>\n",
       "      <td>2</td>\n",
       "      <td>F</td>\n",
       "      <td>пенсионер</td>\n",
       "      <td>0</td>\n",
       "      <td>56823</td>\n",
       "      <td>на покупку подержанного автомобиля</td>\n",
       "      <td>C</td>\n",
       "      <td>операции с автомобилем</td>\n",
       "    </tr>\n",
       "    <tr>\n",
       "      <th>19</th>\n",
       "      <td>0</td>\n",
       "      <td>10038.818549</td>\n",
       "      <td>48</td>\n",
       "      <td>среднее</td>\n",
       "      <td>1</td>\n",
       "      <td>в разводе</td>\n",
       "      <td>3</td>\n",
       "      <td>F</td>\n",
       "      <td>сотрудник</td>\n",
       "      <td>0</td>\n",
       "      <td>242831</td>\n",
       "      <td>на покупку своего автомобиля</td>\n",
       "      <td>B</td>\n",
       "      <td>операции с автомобилем</td>\n",
       "    </tr>\n",
       "  </tbody>\n",
       "</table>\n",
       "</div>"
      ],
      "text/plain": [
       "    children  days_employed  dob_years            education  education_id  \\\n",
       "0          1    8437.673028         42               высшее             0   \n",
       "1          1    4024.803754         36              среднее             1   \n",
       "2          0    5623.422610         33              среднее             1   \n",
       "3          3    4124.747207         32              среднее             1   \n",
       "4          0  340266.072047         53              среднее             1   \n",
       "5          0     926.185831         27               высшее             0   \n",
       "6          0    2879.202052         43               высшее             0   \n",
       "7          0     152.779569         50              среднее             1   \n",
       "8          2    6929.865299         35               высшее             0   \n",
       "9          0    2188.756445         41              среднее             1   \n",
       "10         2    4171.483647         36               высшее             0   \n",
       "11         0     792.701887         40              среднее             1   \n",
       "12         0  365286.622650         65              среднее             1   \n",
       "13         0    1846.641941         54  неоконченное высшее             2   \n",
       "14         0    1844.956182         56               высшее             0   \n",
       "15         1     972.364419         26              среднее             1   \n",
       "16         0    1719.934226         35              среднее             1   \n",
       "17         0    2369.999720         33               высшее             0   \n",
       "18         0  400281.136913         53              среднее             1   \n",
       "19         0   10038.818549         48              среднее             1   \n",
       "\n",
       "       family_status  family_status_id gender income_type  debt  total_income  \\\n",
       "0    женат / замужем                 0      F   сотрудник     0        253875   \n",
       "1    женат / замужем                 0      F   сотрудник     0        112080   \n",
       "2    женат / замужем                 0      M   сотрудник     0        145885   \n",
       "3    женат / замужем                 0      M   сотрудник     0        267628   \n",
       "4   гражданский брак                 1      F   пенсионер     0        158616   \n",
       "5   гражданский брак                 1      M   компаньон     0        255763   \n",
       "6    женат / замужем                 0      F   компаньон     0        240525   \n",
       "7    женат / замужем                 0      M   сотрудник     0        135823   \n",
       "8   гражданский брак                 1      F   сотрудник     0         95856   \n",
       "9    женат / замужем                 0      M   сотрудник     0        144425   \n",
       "10   женат / замужем                 0      M   компаньон     0        113943   \n",
       "11   женат / замужем                 0      F   сотрудник     0         77069   \n",
       "12  гражданский брак                 1      M   пенсионер     0        118514   \n",
       "13   женат / замужем                 0      F   сотрудник     0        130458   \n",
       "14  гражданский брак                 1      F   компаньон     1        165127   \n",
       "15   женат / замужем                 0      F   сотрудник     0        116820   \n",
       "16   женат / замужем                 0      F   сотрудник     0        289202   \n",
       "17  гражданский брак                 1      M   сотрудник     0         90410   \n",
       "18    вдовец / вдова                 2      F   пенсионер     0         56823   \n",
       "19         в разводе                 3      F   сотрудник     0        242831   \n",
       "\n",
       "                                   purpose total_income_category  \\\n",
       "0                            покупка жилья                     B   \n",
       "1                  приобретение автомобиля                     C   \n",
       "2                            покупка жилья                     C   \n",
       "3               дополнительное образование                     B   \n",
       "4                          сыграть свадьбу                     C   \n",
       "5                            покупка жилья                     B   \n",
       "6                        операции с жильем                     B   \n",
       "7                              образование                     C   \n",
       "8                    на проведение свадьбы                     C   \n",
       "9                  покупка жилья для семьи                     C   \n",
       "10                    покупка недвижимости                     C   \n",
       "11       покупка коммерческой недвижимости                     C   \n",
       "12                         сыграть свадьбу                     C   \n",
       "13                 приобретение автомобиля                     C   \n",
       "14              покупка жилой недвижимости                     C   \n",
       "15  строительство собственной недвижимости                     C   \n",
       "16                            недвижимость                     B   \n",
       "17              строительство недвижимости                     C   \n",
       "18      на покупку подержанного автомобиля                     C   \n",
       "19            на покупку своего автомобиля                     B   \n",
       "\n",
       "            purpose_category  \n",
       "0   операции с недвижимостью  \n",
       "1     операции с автомобилем  \n",
       "2   операции с недвижимостью  \n",
       "3      получение образования  \n",
       "4         проведение свадьбы  \n",
       "5   операции с недвижимостью  \n",
       "6   операции с недвижимостью  \n",
       "7      получение образования  \n",
       "8         проведение свадьбы  \n",
       "9   операции с недвижимостью  \n",
       "10  операции с недвижимостью  \n",
       "11  операции с недвижимостью  \n",
       "12        проведение свадьбы  \n",
       "13    операции с автомобилем  \n",
       "14  операции с недвижимостью  \n",
       "15  операции с недвижимостью  \n",
       "16  операции с недвижимостью  \n",
       "17  операции с недвижимостью  \n",
       "18    операции с автомобилем  \n",
       "19    операции с автомобилем  "
      ]
     },
     "execution_count": 77,
     "metadata": {},
     "output_type": "execute_result"
    }
   ],
   "source": [
    "data.head(20)"
   ]
  },
  {
   "cell_type": "code",
   "execution_count": null,
   "id": "e97d4494",
   "metadata": {},
   "outputs": [],
   "source": []
  }
 ],
 "metadata": {
  "ExecuteTimeLog": [
   {
    "duration": 444,
    "start_time": "2022-07-06T16:30:33.150Z"
   },
   {
    "duration": 50,
    "start_time": "2022-07-06T16:30:33.847Z"
   },
   {
    "duration": 115,
    "start_time": "2022-07-06T16:30:41.044Z"
   },
   {
    "duration": 22,
    "start_time": "2022-07-06T16:30:55.679Z"
   },
   {
    "duration": 16,
    "start_time": "2022-07-06T16:31:01.627Z"
   },
   {
    "duration": 23,
    "start_time": "2022-07-06T16:34:33.171Z"
   },
   {
    "duration": 99,
    "start_time": "2022-07-06T16:34:56.927Z"
   },
   {
    "duration": 11,
    "start_time": "2022-07-06T16:35:17.047Z"
   },
   {
    "duration": 11,
    "start_time": "2022-07-06T16:35:23.901Z"
   },
   {
    "duration": 11,
    "start_time": "2022-07-06T16:41:28.824Z"
   },
   {
    "duration": 2,
    "start_time": "2022-07-06T16:41:33.842Z"
   },
   {
    "duration": 9,
    "start_time": "2022-07-06T16:42:45.043Z"
   },
   {
    "duration": 11,
    "start_time": "2022-07-06T16:43:24.202Z"
   },
   {
    "duration": 20,
    "start_time": "2022-07-06T16:43:30.206Z"
   },
   {
    "duration": 8,
    "start_time": "2022-07-06T16:43:45.266Z"
   },
   {
    "duration": 10,
    "start_time": "2022-07-06T16:44:35.942Z"
   },
   {
    "duration": 889,
    "start_time": "2022-07-06T16:44:46.029Z"
   },
   {
    "duration": 984,
    "start_time": "2022-07-06T16:44:56.638Z"
   },
   {
    "duration": 27,
    "start_time": "2022-07-06T16:45:06.244Z"
   },
   {
    "duration": 12,
    "start_time": "2022-07-06T16:45:14.340Z"
   },
   {
    "duration": 9,
    "start_time": "2022-07-06T16:45:38.900Z"
   },
   {
    "duration": 9,
    "start_time": "2022-07-06T16:46:02.448Z"
   },
   {
    "duration": 8,
    "start_time": "2022-07-06T16:46:41.855Z"
   },
   {
    "duration": 7,
    "start_time": "2022-07-06T16:46:47.840Z"
   },
   {
    "duration": 5,
    "start_time": "2022-07-06T16:47:06.489Z"
   },
   {
    "duration": 13,
    "start_time": "2022-07-06T16:47:38.872Z"
   },
   {
    "duration": 52,
    "start_time": "2022-07-06T16:48:53.459Z"
   },
   {
    "duration": 14,
    "start_time": "2022-07-06T16:49:03.474Z"
   },
   {
    "duration": 11,
    "start_time": "2022-07-06T16:49:48.837Z"
   },
   {
    "duration": 9,
    "start_time": "2022-07-06T16:49:54.115Z"
   },
   {
    "duration": 16,
    "start_time": "2022-07-06T16:50:02.243Z"
   },
   {
    "duration": 14,
    "start_time": "2022-07-06T16:50:15.884Z"
   },
   {
    "duration": 17,
    "start_time": "2022-07-06T16:50:19.618Z"
   },
   {
    "duration": 11,
    "start_time": "2022-07-06T16:50:25.852Z"
   },
   {
    "duration": 10,
    "start_time": "2022-07-06T16:51:07.202Z"
   },
   {
    "duration": 18,
    "start_time": "2022-07-06T17:59:53.236Z"
   },
   {
    "duration": 19,
    "start_time": "2022-07-06T18:00:04.486Z"
   },
   {
    "duration": 33,
    "start_time": "2022-07-06T18:54:36.367Z"
   },
   {
    "duration": 29,
    "start_time": "2022-07-06T18:54:45.349Z"
   },
   {
    "duration": 12,
    "start_time": "2022-07-06T18:56:03.251Z"
   },
   {
    "duration": 13,
    "start_time": "2022-07-06T18:56:07.720Z"
   },
   {
    "duration": 12,
    "start_time": "2022-07-06T18:56:17.290Z"
   },
   {
    "duration": 49,
    "start_time": "2022-07-06T19:10:20.866Z"
   },
   {
    "duration": 50,
    "start_time": "2022-07-06T19:10:24.668Z"
   },
   {
    "duration": 50,
    "start_time": "2022-07-06T19:10:46.336Z"
   },
   {
    "duration": 48,
    "start_time": "2022-07-06T19:20:36.165Z"
   },
   {
    "duration": 10,
    "start_time": "2022-07-06T19:20:55.461Z"
   },
   {
    "duration": 14,
    "start_time": "2022-07-06T19:21:26.000Z"
   },
   {
    "duration": 17,
    "start_time": "2022-07-06T19:21:37.654Z"
   },
   {
    "duration": 21,
    "start_time": "2022-07-06T19:23:22.187Z"
   },
   {
    "duration": 10,
    "start_time": "2022-07-06T19:27:23.282Z"
   },
   {
    "duration": 10,
    "start_time": "2022-07-06T19:27:35.400Z"
   },
   {
    "duration": 45,
    "start_time": "2022-07-06T19:29:27.369Z"
   },
   {
    "duration": 49,
    "start_time": "2022-07-06T19:29:53.619Z"
   },
   {
    "duration": 25,
    "start_time": "2022-07-06T19:31:00.660Z"
   },
   {
    "duration": 56,
    "start_time": "2022-07-06T19:31:28.968Z"
   },
   {
    "duration": 34,
    "start_time": "2022-07-06T19:31:49.344Z"
   },
   {
    "duration": 26,
    "start_time": "2022-07-06T19:32:22.467Z"
   },
   {
    "duration": 44,
    "start_time": "2022-07-06T19:32:29.362Z"
   },
   {
    "duration": 38,
    "start_time": "2022-07-06T19:32:36.445Z"
   },
   {
    "duration": 43,
    "start_time": "2022-07-06T19:32:40.684Z"
   },
   {
    "duration": 808,
    "start_time": "2022-07-06T19:32:57.963Z"
   },
   {
    "duration": 25,
    "start_time": "2022-07-06T19:33:19.282Z"
   },
   {
    "duration": 34,
    "start_time": "2022-07-06T19:34:05.212Z"
   },
   {
    "duration": 46,
    "start_time": "2022-07-06T19:34:40.574Z"
   },
   {
    "duration": 17,
    "start_time": "2022-07-06T19:35:44.357Z"
   },
   {
    "duration": 43,
    "start_time": "2022-07-06T19:35:52.413Z"
   },
   {
    "duration": 43,
    "start_time": "2022-07-06T19:36:37.847Z"
   },
   {
    "duration": 13,
    "start_time": "2022-07-06T19:36:58.964Z"
   },
   {
    "duration": 9,
    "start_time": "2022-07-06T19:37:21.297Z"
   },
   {
    "duration": 21,
    "start_time": "2022-07-06T19:37:33.511Z"
   },
   {
    "duration": 17,
    "start_time": "2022-07-06T19:44:30.178Z"
   },
   {
    "duration": 16,
    "start_time": "2022-07-06T19:46:52.119Z"
   },
   {
    "duration": 13,
    "start_time": "2022-07-06T19:47:02.888Z"
   },
   {
    "duration": 13,
    "start_time": "2022-07-06T19:47:11.006Z"
   },
   {
    "duration": 12,
    "start_time": "2022-07-06T19:47:31.790Z"
   },
   {
    "duration": 16,
    "start_time": "2022-07-06T19:49:59.838Z"
   },
   {
    "duration": 17,
    "start_time": "2022-07-06T19:50:14.453Z"
   },
   {
    "duration": 14,
    "start_time": "2022-07-06T19:50:20.673Z"
   },
   {
    "duration": 13,
    "start_time": "2022-07-06T19:50:38.037Z"
   },
   {
    "duration": 12,
    "start_time": "2022-07-06T19:50:58.594Z"
   },
   {
    "duration": 12,
    "start_time": "2022-07-06T19:51:11.140Z"
   },
   {
    "duration": 7,
    "start_time": "2022-07-06T19:51:42.804Z"
   },
   {
    "duration": 12,
    "start_time": "2022-07-06T19:52:14.970Z"
   },
   {
    "duration": 9,
    "start_time": "2022-07-06T19:52:25.818Z"
   },
   {
    "duration": 10,
    "start_time": "2022-07-06T19:53:18.714Z"
   },
   {
    "duration": 3,
    "start_time": "2022-07-06T19:53:25.816Z"
   },
   {
    "duration": 11,
    "start_time": "2022-07-06T19:53:28.691Z"
   },
   {
    "duration": 11,
    "start_time": "2022-07-06T19:53:33.438Z"
   },
   {
    "duration": 10,
    "start_time": "2022-07-06T19:53:54.198Z"
   },
   {
    "duration": 5,
    "start_time": "2022-07-06T19:54:05.789Z"
   },
   {
    "duration": 9,
    "start_time": "2022-07-06T19:54:10.004Z"
   },
   {
    "duration": 12,
    "start_time": "2022-07-06T19:54:17.213Z"
   },
   {
    "duration": 8,
    "start_time": "2022-07-06T19:54:21.411Z"
   },
   {
    "duration": 7,
    "start_time": "2022-07-06T19:54:42.424Z"
   },
   {
    "duration": 12,
    "start_time": "2022-07-06T19:54:50.603Z"
   },
   {
    "duration": 9,
    "start_time": "2022-07-06T19:54:57.760Z"
   },
   {
    "duration": 9,
    "start_time": "2022-07-06T19:55:09.678Z"
   },
   {
    "duration": 24,
    "start_time": "2022-07-06T19:56:38.701Z"
   },
   {
    "duration": 30,
    "start_time": "2022-07-06T19:57:53.492Z"
   },
   {
    "duration": 41,
    "start_time": "2022-07-06T19:58:02.212Z"
   },
   {
    "duration": 33,
    "start_time": "2022-07-06T19:58:56.235Z"
   },
   {
    "duration": 30,
    "start_time": "2022-07-06T19:59:02.562Z"
   },
   {
    "duration": 55,
    "start_time": "2022-07-06T19:59:36.212Z"
   },
   {
    "duration": 797,
    "start_time": "2022-07-06T19:59:54.515Z"
   },
   {
    "duration": 30,
    "start_time": "2022-07-06T20:00:11.822Z"
   },
   {
    "duration": 31,
    "start_time": "2022-07-06T20:00:22.777Z"
   },
   {
    "duration": 41,
    "start_time": "2022-07-06T20:00:31.812Z"
   },
   {
    "duration": 44,
    "start_time": "2022-07-06T20:00:39.588Z"
   },
   {
    "duration": 41,
    "start_time": "2022-07-06T20:00:44.387Z"
   },
   {
    "duration": 7,
    "start_time": "2022-07-06T20:03:36.718Z"
   },
   {
    "duration": 9,
    "start_time": "2022-07-06T20:03:40.199Z"
   },
   {
    "duration": 9,
    "start_time": "2022-07-06T20:03:45.747Z"
   },
   {
    "duration": 32,
    "start_time": "2022-07-06T20:04:37.235Z"
   },
   {
    "duration": 748,
    "start_time": "2022-07-06T20:06:10.391Z"
   },
   {
    "duration": 36,
    "start_time": "2022-07-06T20:06:15.063Z"
   },
   {
    "duration": 10,
    "start_time": "2022-07-06T20:07:39.201Z"
   },
   {
    "duration": 26,
    "start_time": "2022-07-06T20:08:04.755Z"
   },
   {
    "duration": 24,
    "start_time": "2022-07-06T20:08:11.880Z"
   },
   {
    "duration": 46,
    "start_time": "2022-07-06T20:08:39.152Z"
   },
   {
    "duration": 17,
    "start_time": "2022-07-06T20:08:43.381Z"
   },
   {
    "duration": 16,
    "start_time": "2022-07-06T20:08:48.360Z"
   },
   {
    "duration": 34,
    "start_time": "2022-07-06T20:09:26.147Z"
   },
   {
    "duration": 17,
    "start_time": "2022-07-06T20:10:56.165Z"
   },
   {
    "duration": 15,
    "start_time": "2022-07-06T20:11:23.262Z"
   },
   {
    "duration": 8,
    "start_time": "2022-07-06T20:11:32.242Z"
   },
   {
    "duration": 7,
    "start_time": "2022-07-06T20:11:46.229Z"
   },
   {
    "duration": 9,
    "start_time": "2022-07-06T20:11:49.031Z"
   },
   {
    "duration": 7,
    "start_time": "2022-07-06T20:11:54.556Z"
   },
   {
    "duration": 9,
    "start_time": "2022-07-06T20:11:58.006Z"
   },
   {
    "duration": 9,
    "start_time": "2022-07-06T20:12:24.662Z"
   },
   {
    "duration": 32,
    "start_time": "2022-07-06T20:12:29.469Z"
   },
   {
    "duration": 715,
    "start_time": "2022-07-06T20:12:33.905Z"
   },
   {
    "duration": 13,
    "start_time": "2022-07-06T20:12:42.684Z"
   },
   {
    "duration": 17,
    "start_time": "2022-07-06T20:12:53.574Z"
   },
   {
    "duration": 19,
    "start_time": "2022-07-06T20:13:08.120Z"
   },
   {
    "duration": 11,
    "start_time": "2022-07-06T20:13:31.250Z"
   },
   {
    "duration": 13,
    "start_time": "2022-07-06T20:14:48.949Z"
   },
   {
    "duration": 7,
    "start_time": "2022-07-06T20:14:54.793Z"
   },
   {
    "duration": 11,
    "start_time": "2022-07-06T20:15:02.916Z"
   },
   {
    "duration": 14,
    "start_time": "2022-07-06T20:15:07.971Z"
   },
   {
    "duration": 27,
    "start_time": "2022-07-06T20:17:23.143Z"
   },
   {
    "duration": 19,
    "start_time": "2022-07-06T20:17:39.072Z"
   },
   {
    "duration": 11,
    "start_time": "2022-07-06T20:20:45.687Z"
   },
   {
    "duration": 8,
    "start_time": "2022-07-06T20:20:51.233Z"
   },
   {
    "duration": 7,
    "start_time": "2022-07-06T20:20:58.599Z"
   },
   {
    "duration": 7,
    "start_time": "2022-07-06T20:21:02.503Z"
   },
   {
    "duration": 11,
    "start_time": "2022-07-06T20:21:08.318Z"
   },
   {
    "duration": 11,
    "start_time": "2022-07-06T20:21:10.808Z"
   },
   {
    "duration": 8,
    "start_time": "2022-07-06T20:21:17.059Z"
   },
   {
    "duration": 26,
    "start_time": "2022-07-06T20:26:03.045Z"
   },
   {
    "duration": 34,
    "start_time": "2022-07-06T20:27:02.077Z"
   },
   {
    "duration": 149,
    "start_time": "2022-07-06T20:27:09.222Z"
   },
   {
    "duration": 16,
    "start_time": "2022-07-06T20:27:28.300Z"
   },
   {
    "duration": 15,
    "start_time": "2022-07-06T20:27:32.240Z"
   },
   {
    "duration": 16,
    "start_time": "2022-07-06T20:27:34.812Z"
   },
   {
    "duration": 14,
    "start_time": "2022-07-06T20:27:39.014Z"
   },
   {
    "duration": 16,
    "start_time": "2022-07-06T20:27:42.806Z"
   },
   {
    "duration": 13,
    "start_time": "2022-07-06T20:28:08.763Z"
   },
   {
    "duration": 15,
    "start_time": "2022-07-06T20:29:40.969Z"
   },
   {
    "duration": 12,
    "start_time": "2022-07-06T20:29:56.140Z"
   },
   {
    "duration": 11,
    "start_time": "2022-07-06T20:30:02.952Z"
   },
   {
    "duration": 14,
    "start_time": "2022-07-06T20:30:44.953Z"
   },
   {
    "duration": 12,
    "start_time": "2022-07-06T20:30:55.453Z"
   },
   {
    "duration": 2,
    "start_time": "2022-07-06T20:31:06.856Z"
   },
   {
    "duration": 105,
    "start_time": "2022-07-06T20:31:07.456Z"
   },
   {
    "duration": 22,
    "start_time": "2022-07-06T20:31:11.257Z"
   },
   {
    "duration": 23,
    "start_time": "2022-07-06T20:31:14.391Z"
   },
   {
    "duration": 23,
    "start_time": "2022-07-06T20:31:17.272Z"
   },
   {
    "duration": 16,
    "start_time": "2022-07-06T20:31:19.816Z"
   },
   {
    "duration": 3471,
    "start_time": "2022-07-06T20:31:21.807Z"
   },
   {
    "duration": 11,
    "start_time": "2022-07-06T20:31:49.157Z"
   },
   {
    "duration": 11,
    "start_time": "2022-07-06T20:32:06.756Z"
   },
   {
    "duration": 12,
    "start_time": "2022-07-06T20:32:20.673Z"
   },
   {
    "duration": 3,
    "start_time": "2022-07-06T20:32:27.663Z"
   },
   {
    "duration": 69,
    "start_time": "2022-07-06T20:32:28.160Z"
   },
   {
    "duration": 11,
    "start_time": "2022-07-06T20:32:36.809Z"
   },
   {
    "duration": 21,
    "start_time": "2022-07-06T20:32:50.202Z"
   },
   {
    "duration": 12,
    "start_time": "2022-07-06T20:33:12.248Z"
   },
   {
    "duration": 16,
    "start_time": "2022-07-06T20:34:15.924Z"
   },
   {
    "duration": 29,
    "start_time": "2022-07-06T20:34:32.356Z"
   },
   {
    "duration": 25,
    "start_time": "2022-07-06T20:54:44.342Z"
   },
   {
    "duration": 29,
    "start_time": "2022-07-06T20:55:10.424Z"
   },
   {
    "duration": 139,
    "start_time": "2022-07-06T20:55:40.385Z"
   },
   {
    "duration": 20,
    "start_time": "2022-07-06T20:55:46.884Z"
   },
   {
    "duration": 381,
    "start_time": "2022-07-06T20:57:56.006Z"
   },
   {
    "duration": 65,
    "start_time": "2022-07-06T20:57:56.389Z"
   },
   {
    "duration": 25,
    "start_time": "2022-07-06T20:57:56.455Z"
   },
   {
    "duration": 15,
    "start_time": "2022-07-06T20:57:56.482Z"
   },
   {
    "duration": 9,
    "start_time": "2022-07-06T20:57:56.499Z"
   },
   {
    "duration": 84,
    "start_time": "2022-07-06T20:57:58.544Z"
   },
   {
    "duration": 51,
    "start_time": "2022-07-06T20:58:01.682Z"
   },
   {
    "duration": 16,
    "start_time": "2022-07-06T20:58:11.785Z"
   },
   {
    "duration": 18,
    "start_time": "2022-07-06T20:59:13.579Z"
   },
   {
    "duration": 17,
    "start_time": "2022-07-06T20:59:52.109Z"
   },
   {
    "duration": 24,
    "start_time": "2022-07-06T20:59:58.892Z"
   },
   {
    "duration": 19,
    "start_time": "2022-07-06T21:00:34.847Z"
   },
   {
    "duration": 16,
    "start_time": "2022-07-06T21:00:43.379Z"
   },
   {
    "duration": 16,
    "start_time": "2022-07-06T21:01:13.613Z"
   },
   {
    "duration": 3,
    "start_time": "2022-07-06T21:01:50.429Z"
   },
   {
    "duration": 69,
    "start_time": "2022-07-06T21:01:50.434Z"
   },
   {
    "duration": 18,
    "start_time": "2022-07-06T21:01:50.505Z"
   },
   {
    "duration": 18,
    "start_time": "2022-07-06T21:01:50.525Z"
   },
   {
    "duration": 10,
    "start_time": "2022-07-06T21:01:50.545Z"
   },
   {
    "duration": 15,
    "start_time": "2022-07-06T21:01:53.294Z"
   },
   {
    "duration": 15,
    "start_time": "2022-07-06T21:03:24.710Z"
   },
   {
    "duration": 25,
    "start_time": "2022-07-06T21:03:38.503Z"
   },
   {
    "duration": 46,
    "start_time": "2022-07-06T21:04:38.200Z"
   },
   {
    "duration": 111,
    "start_time": "2022-07-06T21:05:03.425Z"
   },
   {
    "duration": 15,
    "start_time": "2022-07-06T21:08:02.975Z"
   },
   {
    "duration": 15,
    "start_time": "2022-07-06T21:08:10.118Z"
   },
   {
    "duration": 66,
    "start_time": "2022-07-06T21:08:35.999Z"
   },
   {
    "duration": 18,
    "start_time": "2022-07-06T21:08:48.399Z"
   },
   {
    "duration": 17,
    "start_time": "2022-07-06T21:09:07.120Z"
   },
   {
    "duration": 17,
    "start_time": "2022-07-06T21:09:12.823Z"
   },
   {
    "duration": 20,
    "start_time": "2022-07-06T21:09:36.656Z"
   },
   {
    "duration": 17,
    "start_time": "2022-07-06T21:09:43.425Z"
   },
   {
    "duration": 24,
    "start_time": "2022-07-06T21:09:52.281Z"
   },
   {
    "duration": 3,
    "start_time": "2022-07-06T21:13:05.851Z"
   },
   {
    "duration": 66,
    "start_time": "2022-07-06T21:13:05.856Z"
   },
   {
    "duration": 16,
    "start_time": "2022-07-06T21:13:05.924Z"
   },
   {
    "duration": 17,
    "start_time": "2022-07-06T21:13:05.942Z"
   },
   {
    "duration": 11,
    "start_time": "2022-07-06T21:13:05.961Z"
   },
   {
    "duration": 24,
    "start_time": "2022-07-06T21:13:07.986Z"
   },
   {
    "duration": 36,
    "start_time": "2022-07-06T21:15:15.613Z"
   },
   {
    "duration": 32,
    "start_time": "2022-07-06T21:16:33.289Z"
   },
   {
    "duration": 32,
    "start_time": "2022-07-06T21:16:46.707Z"
   },
   {
    "duration": 36,
    "start_time": "2022-07-06T21:17:21.308Z"
   },
   {
    "duration": 3,
    "start_time": "2022-07-06T21:17:32.027Z"
   },
   {
    "duration": 72,
    "start_time": "2022-07-06T21:17:32.032Z"
   },
   {
    "duration": 16,
    "start_time": "2022-07-06T21:17:32.106Z"
   },
   {
    "duration": 23,
    "start_time": "2022-07-06T21:17:32.124Z"
   },
   {
    "duration": 10,
    "start_time": "2022-07-06T21:17:32.150Z"
   },
   {
    "duration": 46,
    "start_time": "2022-07-06T21:17:33.494Z"
   },
   {
    "duration": 4,
    "start_time": "2022-07-06T21:18:08.213Z"
   },
   {
    "duration": 66,
    "start_time": "2022-07-06T21:18:08.219Z"
   },
   {
    "duration": 16,
    "start_time": "2022-07-06T21:18:08.287Z"
   },
   {
    "duration": 17,
    "start_time": "2022-07-06T21:18:08.305Z"
   },
   {
    "duration": 26,
    "start_time": "2022-07-06T21:18:08.324Z"
   },
   {
    "duration": 28,
    "start_time": "2022-07-06T21:18:10.166Z"
   },
   {
    "duration": 398,
    "start_time": "2022-07-07T09:04:33.820Z"
   },
   {
    "duration": 878,
    "start_time": "2022-07-07T09:04:34.220Z"
   },
   {
    "duration": 21,
    "start_time": "2022-07-07T09:04:35.100Z"
   },
   {
    "duration": 15,
    "start_time": "2022-07-07T09:04:35.122Z"
   },
   {
    "duration": 9,
    "start_time": "2022-07-07T09:04:35.138Z"
   },
   {
    "duration": 24,
    "start_time": "2022-07-07T09:04:36.572Z"
   },
   {
    "duration": 22,
    "start_time": "2022-07-07T09:07:35.148Z"
   },
   {
    "duration": 59,
    "start_time": "2022-07-07T09:09:22.452Z"
   },
   {
    "duration": 56,
    "start_time": "2022-07-07T09:09:31.265Z"
   },
   {
    "duration": 64,
    "start_time": "2022-07-07T09:09:44.750Z"
   },
   {
    "duration": 62,
    "start_time": "2022-07-07T09:10:26.079Z"
   },
   {
    "duration": 49,
    "start_time": "2022-07-07T10:55:50.569Z"
   },
   {
    "duration": 80,
    "start_time": "2022-07-07T10:56:13.966Z"
   },
   {
    "duration": 15,
    "start_time": "2022-07-07T10:56:26.367Z"
   },
   {
    "duration": 15,
    "start_time": "2022-07-07T10:56:42.373Z"
   },
   {
    "duration": 27,
    "start_time": "2022-07-07T10:56:46.420Z"
   },
   {
    "duration": 4,
    "start_time": "2022-07-07T10:57:07.632Z"
   },
   {
    "duration": 11,
    "start_time": "2022-07-07T10:57:24.176Z"
   },
   {
    "duration": 8,
    "start_time": "2022-07-07T11:05:25.611Z"
   },
   {
    "duration": 4,
    "start_time": "2022-07-07T11:07:11.709Z"
   },
   {
    "duration": 395,
    "start_time": "2022-07-07T11:07:49.118Z"
   },
   {
    "duration": 75,
    "start_time": "2022-07-07T11:07:49.658Z"
   },
   {
    "duration": 24,
    "start_time": "2022-07-07T11:07:53.876Z"
   },
   {
    "duration": 15,
    "start_time": "2022-07-07T11:08:00.307Z"
   },
   {
    "duration": 15,
    "start_time": "2022-07-07T11:08:03.753Z"
   },
   {
    "duration": 21,
    "start_time": "2022-07-07T11:08:07.998Z"
   },
   {
    "duration": 25,
    "start_time": "2022-07-07T11:08:19.274Z"
   },
   {
    "duration": 9,
    "start_time": "2022-07-07T11:08:22.649Z"
   },
   {
    "duration": 59,
    "start_time": "2022-07-07T11:08:24.462Z"
   },
   {
    "duration": 4,
    "start_time": "2022-07-07T11:08:27.254Z"
   },
   {
    "duration": 7,
    "start_time": "2022-07-07T11:08:28.964Z"
   },
   {
    "duration": 5,
    "start_time": "2022-07-07T11:08:32.179Z"
   },
   {
    "duration": 23,
    "start_time": "2022-07-07T11:16:50.061Z"
   },
   {
    "duration": 24,
    "start_time": "2022-07-07T11:16:58.673Z"
   },
   {
    "duration": 22,
    "start_time": "2022-07-07T11:17:09.854Z"
   },
   {
    "duration": 12,
    "start_time": "2022-07-07T11:17:20.456Z"
   },
   {
    "duration": 28,
    "start_time": "2022-07-07T11:17:39.902Z"
   },
   {
    "duration": 20,
    "start_time": "2022-07-07T11:17:56.174Z"
   },
   {
    "duration": 71,
    "start_time": "2022-07-07T11:18:03.676Z"
   },
   {
    "duration": 8,
    "start_time": "2022-07-07T11:19:00.957Z"
   },
   {
    "duration": 10,
    "start_time": "2022-07-07T11:19:11.584Z"
   },
   {
    "duration": 30,
    "start_time": "2022-07-07T11:19:21.397Z"
   },
   {
    "duration": 11,
    "start_time": "2022-07-07T11:19:53.553Z"
   },
   {
    "duration": 5,
    "start_time": "2022-07-07T11:19:58.577Z"
   },
   {
    "duration": 45,
    "start_time": "2022-07-07T11:22:23.824Z"
   },
   {
    "duration": 9,
    "start_time": "2022-07-07T11:22:26.756Z"
   },
   {
    "duration": 9,
    "start_time": "2022-07-07T11:23:46.796Z"
   },
   {
    "duration": 4,
    "start_time": "2022-07-07T11:23:56.557Z"
   },
   {
    "duration": 16,
    "start_time": "2022-07-07T11:25:30.969Z"
   },
   {
    "duration": 30,
    "start_time": "2022-07-07T11:27:40.263Z"
   },
   {
    "duration": 38,
    "start_time": "2022-07-07T11:29:30.412Z"
   },
   {
    "duration": 3,
    "start_time": "2022-07-07T11:29:49.211Z"
   },
   {
    "duration": 6,
    "start_time": "2022-07-07T11:30:05.612Z"
   },
   {
    "duration": 15,
    "start_time": "2022-07-07T11:31:06.209Z"
   },
   {
    "duration": 11,
    "start_time": "2022-07-07T11:31:13.114Z"
   },
   {
    "duration": 14,
    "start_time": "2022-07-07T11:31:23.868Z"
   },
   {
    "duration": 28,
    "start_time": "2022-07-07T11:31:36.596Z"
   },
   {
    "duration": 22,
    "start_time": "2022-07-07T11:32:09.819Z"
   },
   {
    "duration": 24,
    "start_time": "2022-07-07T11:32:27.834Z"
   },
   {
    "duration": 22,
    "start_time": "2022-07-07T11:32:30.379Z"
   },
   {
    "duration": 3,
    "start_time": "2022-07-07T11:32:57.091Z"
   },
   {
    "duration": 96,
    "start_time": "2022-07-07T13:18:29.386Z"
   },
   {
    "duration": 457,
    "start_time": "2022-07-07T13:18:36.077Z"
   },
   {
    "duration": 224,
    "start_time": "2022-07-07T13:18:36.538Z"
   },
   {
    "duration": 26,
    "start_time": "2022-07-07T13:18:36.769Z"
   },
   {
    "duration": 17,
    "start_time": "2022-07-07T13:18:36.798Z"
   },
   {
    "duration": 14,
    "start_time": "2022-07-07T13:18:36.817Z"
   },
   {
    "duration": 145,
    "start_time": "2022-07-07T13:18:36.833Z"
   },
   {
    "duration": 9,
    "start_time": "2022-07-07T13:18:36.981Z"
   },
   {
    "duration": 18,
    "start_time": "2022-07-07T13:18:36.992Z"
   },
   {
    "duration": 6,
    "start_time": "2022-07-07T13:18:37.013Z"
   },
   {
    "duration": 63,
    "start_time": "2022-07-07T13:18:37.022Z"
   },
   {
    "duration": 5,
    "start_time": "2022-07-07T13:18:37.087Z"
   },
   {
    "duration": 83,
    "start_time": "2022-07-07T13:18:37.094Z"
   },
   {
    "duration": 12,
    "start_time": "2022-07-07T13:18:37.180Z"
   },
   {
    "duration": 7,
    "start_time": "2022-07-07T13:18:37.194Z"
   },
   {
    "duration": 32,
    "start_time": "2022-07-07T13:18:37.203Z"
   },
   {
    "duration": 38,
    "start_time": "2022-07-07T13:18:37.237Z"
   },
   {
    "duration": 64,
    "start_time": "2022-07-07T13:18:39.718Z"
   },
   {
    "duration": 35,
    "start_time": "2022-07-07T13:18:54.797Z"
   },
   {
    "duration": 117,
    "start_time": "2022-07-07T13:19:08.366Z"
   },
   {
    "duration": 6,
    "start_time": "2022-07-07T13:21:30.669Z"
   },
   {
    "duration": 11,
    "start_time": "2022-07-07T13:21:53.056Z"
   },
   {
    "duration": 9,
    "start_time": "2022-07-07T13:22:08.915Z"
   },
   {
    "duration": 66,
    "start_time": "2022-07-07T13:22:34.568Z"
   },
   {
    "duration": 5,
    "start_time": "2022-07-07T13:28:21.122Z"
   },
   {
    "duration": 5,
    "start_time": "2022-07-07T13:32:04.684Z"
   },
   {
    "duration": 44,
    "start_time": "2022-07-07T13:32:08.970Z"
   },
   {
    "duration": 200,
    "start_time": "2022-07-07T13:32:22.007Z"
   },
   {
    "duration": 26,
    "start_time": "2022-07-07T13:32:44.314Z"
   },
   {
    "duration": 8,
    "start_time": "2022-07-07T13:33:10.301Z"
   },
   {
    "duration": 3,
    "start_time": "2022-07-07T13:33:30.210Z"
   },
   {
    "duration": 5,
    "start_time": "2022-07-07T13:43:41.580Z"
   },
   {
    "duration": 179,
    "start_time": "2022-07-07T13:44:01.683Z"
   },
   {
    "duration": 40,
    "start_time": "2022-07-07T13:44:09.820Z"
   },
   {
    "duration": 11,
    "start_time": "2022-07-07T13:44:39.825Z"
   },
   {
    "duration": 332,
    "start_time": "2022-07-07T13:44:40.410Z"
   },
   {
    "duration": 19,
    "start_time": "2022-07-07T13:44:41.452Z"
   },
   {
    "duration": 17,
    "start_time": "2022-07-07T13:47:48.275Z"
   },
   {
    "duration": 49,
    "start_time": "2022-07-08T17:09:09.901Z"
   },
   {
    "duration": 427,
    "start_time": "2022-07-08T17:09:14.543Z"
   },
   {
    "duration": 76,
    "start_time": "2022-07-08T17:09:14.973Z"
   },
   {
    "duration": 32,
    "start_time": "2022-07-08T17:09:15.051Z"
   },
   {
    "duration": 28,
    "start_time": "2022-07-08T17:09:15.085Z"
   },
   {
    "duration": 10,
    "start_time": "2022-07-08T17:09:15.116Z"
   },
   {
    "duration": 75,
    "start_time": "2022-07-08T17:09:15.127Z"
   },
   {
    "duration": 4,
    "start_time": "2022-07-08T17:09:15.204Z"
   },
   {
    "duration": 12,
    "start_time": "2022-07-08T17:09:15.209Z"
   },
   {
    "duration": 4,
    "start_time": "2022-07-08T17:09:15.223Z"
   },
   {
    "duration": 15,
    "start_time": "2022-07-08T17:09:15.229Z"
   },
   {
    "duration": 5,
    "start_time": "2022-07-08T17:09:15.246Z"
   },
   {
    "duration": 83,
    "start_time": "2022-07-08T17:09:15.252Z"
   },
   {
    "duration": 10,
    "start_time": "2022-07-08T17:09:15.337Z"
   },
   {
    "duration": 4,
    "start_time": "2022-07-08T17:09:15.349Z"
   },
   {
    "duration": 45,
    "start_time": "2022-07-08T17:09:15.354Z"
   },
   {
    "duration": 21,
    "start_time": "2022-07-08T17:09:15.401Z"
   },
   {
    "duration": 48,
    "start_time": "2022-07-08T17:09:15.424Z"
   },
   {
    "duration": 4,
    "start_time": "2022-07-08T17:09:15.474Z"
   },
   {
    "duration": 160,
    "start_time": "2022-07-08T17:09:15.498Z"
   },
   {
    "duration": 6,
    "start_time": "2022-07-08T17:09:15.660Z"
   },
   {
    "duration": 5,
    "start_time": "2022-07-08T17:09:15.668Z"
   },
   {
    "duration": 291,
    "start_time": "2022-07-08T17:09:15.674Z"
   },
   {
    "duration": 19,
    "start_time": "2022-07-08T17:09:15.966Z"
   },
   {
    "duration": 412,
    "start_time": "2022-07-08T17:09:25.358Z"
   },
   {
    "duration": 78,
    "start_time": "2022-07-08T17:09:25.772Z"
   },
   {
    "duration": 24,
    "start_time": "2022-07-08T17:09:25.852Z"
   },
   {
    "duration": 27,
    "start_time": "2022-07-08T17:09:25.878Z"
   },
   {
    "duration": 10,
    "start_time": "2022-07-08T17:09:25.907Z"
   },
   {
    "duration": 62,
    "start_time": "2022-07-08T17:09:25.919Z"
   },
   {
    "duration": 4,
    "start_time": "2022-07-08T17:09:25.998Z"
   },
   {
    "duration": 16,
    "start_time": "2022-07-08T17:09:26.004Z"
   },
   {
    "duration": 5,
    "start_time": "2022-07-08T17:09:26.022Z"
   },
   {
    "duration": 20,
    "start_time": "2022-07-08T17:09:26.029Z"
   },
   {
    "duration": 4,
    "start_time": "2022-07-08T17:09:26.051Z"
   },
   {
    "duration": 72,
    "start_time": "2022-07-08T17:09:26.057Z"
   },
   {
    "duration": 10,
    "start_time": "2022-07-08T17:09:26.131Z"
   },
   {
    "duration": 8,
    "start_time": "2022-07-08T17:09:26.143Z"
   },
   {
    "duration": 23,
    "start_time": "2022-07-08T17:09:26.153Z"
   },
   {
    "duration": 38,
    "start_time": "2022-07-08T17:09:26.178Z"
   },
   {
    "duration": 50,
    "start_time": "2022-07-08T17:09:26.218Z"
   },
   {
    "duration": 4,
    "start_time": "2022-07-08T17:09:26.269Z"
   },
   {
    "duration": 169,
    "start_time": "2022-07-08T17:09:26.274Z"
   },
   {
    "duration": 6,
    "start_time": "2022-07-08T17:09:26.445Z"
   },
   {
    "duration": 4,
    "start_time": "2022-07-08T17:09:26.453Z"
   },
   {
    "duration": 619,
    "start_time": "2022-07-08T17:09:26.459Z"
   },
   {
    "duration": 32,
    "start_time": "2022-07-08T17:09:27.080Z"
   },
   {
    "duration": 35,
    "start_time": "2022-07-08T17:14:41.377Z"
   },
   {
    "duration": 3,
    "start_time": "2022-07-08T17:15:16.824Z"
   },
   {
    "duration": 89,
    "start_time": "2022-07-08T17:15:16.830Z"
   },
   {
    "duration": 23,
    "start_time": "2022-07-08T17:15:16.922Z"
   },
   {
    "duration": 54,
    "start_time": "2022-07-08T17:15:16.947Z"
   },
   {
    "duration": 15,
    "start_time": "2022-07-08T17:15:17.003Z"
   },
   {
    "duration": 10,
    "start_time": "2022-07-08T17:15:17.020Z"
   },
   {
    "duration": 72,
    "start_time": "2022-07-08T17:15:17.031Z"
   },
   {
    "duration": 4,
    "start_time": "2022-07-08T17:15:17.105Z"
   },
   {
    "duration": 14,
    "start_time": "2022-07-08T17:15:17.111Z"
   },
   {
    "duration": 10,
    "start_time": "2022-07-08T17:15:17.127Z"
   },
   {
    "duration": 14,
    "start_time": "2022-07-08T17:15:17.139Z"
   },
   {
    "duration": 5,
    "start_time": "2022-07-08T17:15:17.154Z"
   },
   {
    "duration": 72,
    "start_time": "2022-07-08T17:15:17.161Z"
   },
   {
    "duration": 9,
    "start_time": "2022-07-08T17:15:17.236Z"
   },
   {
    "duration": 4,
    "start_time": "2022-07-08T17:15:17.247Z"
   },
   {
    "duration": 20,
    "start_time": "2022-07-08T17:15:17.253Z"
   },
   {
    "duration": 38,
    "start_time": "2022-07-08T17:15:17.274Z"
   },
   {
    "duration": 46,
    "start_time": "2022-07-08T17:15:17.314Z"
   },
   {
    "duration": 3,
    "start_time": "2022-07-08T17:15:17.362Z"
   },
   {
    "duration": 167,
    "start_time": "2022-07-08T17:15:17.367Z"
   },
   {
    "duration": 6,
    "start_time": "2022-07-08T17:15:17.536Z"
   },
   {
    "duration": 3,
    "start_time": "2022-07-08T17:15:17.544Z"
   },
   {
    "duration": 278,
    "start_time": "2022-07-08T17:15:17.549Z"
   },
   {
    "duration": 17,
    "start_time": "2022-07-08T17:15:17.829Z"
   },
   {
    "duration": 10,
    "start_time": "2022-07-08T17:16:17.162Z"
   },
   {
    "duration": 8,
    "start_time": "2022-07-08T17:19:28.340Z"
   },
   {
    "duration": 8,
    "start_time": "2022-07-08T17:19:45.141Z"
   },
   {
    "duration": 10,
    "start_time": "2022-07-08T17:21:33.594Z"
   },
   {
    "duration": 4,
    "start_time": "2022-07-08T17:21:40.906Z"
   },
   {
    "duration": 2,
    "start_time": "2022-07-08T17:21:48.457Z"
   },
   {
    "duration": 90,
    "start_time": "2022-07-08T17:21:48.461Z"
   },
   {
    "duration": 17,
    "start_time": "2022-07-08T17:21:48.553Z"
   },
   {
    "duration": 55,
    "start_time": "2022-07-08T17:21:48.572Z"
   },
   {
    "duration": 15,
    "start_time": "2022-07-08T17:21:48.629Z"
   },
   {
    "duration": 10,
    "start_time": "2022-07-08T17:21:48.646Z"
   },
   {
    "duration": 95,
    "start_time": "2022-07-08T17:21:48.658Z"
   },
   {
    "duration": 5,
    "start_time": "2022-07-08T17:21:48.756Z"
   },
   {
    "duration": 13,
    "start_time": "2022-07-08T17:21:48.763Z"
   },
   {
    "duration": 8,
    "start_time": "2022-07-08T17:21:48.778Z"
   },
   {
    "duration": 12,
    "start_time": "2022-07-08T17:21:48.798Z"
   },
   {
    "duration": 8,
    "start_time": "2022-07-08T17:21:48.812Z"
   },
   {
    "duration": 54,
    "start_time": "2022-07-08T17:21:48.822Z"
   },
   {
    "duration": 24,
    "start_time": "2022-07-08T17:21:48.878Z"
   },
   {
    "duration": 4,
    "start_time": "2022-07-08T17:21:48.904Z"
   },
   {
    "duration": 24,
    "start_time": "2022-07-08T17:21:48.910Z"
   },
   {
    "duration": 20,
    "start_time": "2022-07-08T17:21:48.936Z"
   },
   {
    "duration": 71,
    "start_time": "2022-07-08T17:21:48.958Z"
   },
   {
    "duration": 4,
    "start_time": "2022-07-08T17:21:49.031Z"
   },
   {
    "duration": 157,
    "start_time": "2022-07-08T17:21:49.036Z"
   },
   {
    "duration": 8,
    "start_time": "2022-07-08T17:21:49.195Z"
   },
   {
    "duration": 4,
    "start_time": "2022-07-08T17:21:49.205Z"
   },
   {
    "duration": 269,
    "start_time": "2022-07-08T17:21:49.211Z"
   },
   {
    "duration": 19,
    "start_time": "2022-07-08T17:21:49.482Z"
   },
   {
    "duration": 6,
    "start_time": "2022-07-08T17:22:02.931Z"
   }
  ],
  "colab": {
   "name": "dpp_template_part1.ipynb",
   "provenance": []
  },
  "kernelspec": {
   "display_name": "Python 3 (ipykernel)",
   "language": "python",
   "name": "python3"
  },
  "language_info": {
   "codemirror_mode": {
    "name": "ipython",
    "version": 3
   },
   "file_extension": ".py",
   "mimetype": "text/x-python",
   "name": "python",
   "nbconvert_exporter": "python",
   "pygments_lexer": "ipython3",
   "version": "3.9.13"
  },
  "toc": {
   "base_numbering": 1,
   "nav_menu": {},
   "number_sections": true,
   "sideBar": true,
   "skip_h1_title": true,
   "title_cell": "Table of Contents",
   "title_sidebar": "Contents",
   "toc_cell": false,
   "toc_position": {},
   "toc_section_display": true,
   "toc_window_display": false
  }
 },
 "nbformat": 4,
 "nbformat_minor": 5
}
