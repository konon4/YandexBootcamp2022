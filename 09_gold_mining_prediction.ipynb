{
 "cells": [
  {
   "cell_type": "markdown",
   "metadata": {
    "toc": true
   },
   "source": [
    "<h1>Содержание<span class=\"tocSkip\"></span></h1>\n",
    "<div class=\"toc\"><ul class=\"toc-item\"><li><span><a href=\"#Подготовка-данных\" data-toc-modified-id=\"Подготовка-данных-1\"><span class=\"toc-item-num\">1&nbsp;&nbsp;</span>Подготовка данных</a></span><ul class=\"toc-item\"><li><span><a href=\"#Константы\" data-toc-modified-id=\"Константы-1.1\"><span class=\"toc-item-num\">1.1&nbsp;&nbsp;</span>Константы</a></span></li><li><span><a href=\"#Откройте-файлы-и-изучите-их.\" data-toc-modified-id=\"Откройте-файлы-и-изучите-их.-1.2\"><span class=\"toc-item-num\">1.2&nbsp;&nbsp;</span>Откройте файлы и изучите их.</a></span></li><li><span><a href=\"#Проверяем-рассчёт-эффективности-обогащения\" data-toc-modified-id=\"Проверяем-рассчёт-эффективности-обогащения-1.3\"><span class=\"toc-item-num\">1.3&nbsp;&nbsp;</span>Проверяем рассчёт эффективности обогащения</a></span></li><li><span><a href=\"#Признаки,-недоступные-в-тестовой-выборке\" data-toc-modified-id=\"Признаки,-недоступные-в-тестовой-выборке-1.4\"><span class=\"toc-item-num\">1.4&nbsp;&nbsp;</span>Признаки, недоступные в тестовой выборке</a></span><ul class=\"toc-item\"><li><span><a href=\"#В-тестовой-выборки-недоступна-группа-колонок-содержащая-информацию-о:\" data-toc-modified-id=\"В-тестовой-выборки-недоступна-группа-колонок-содержащая-информацию-о:-1.4.1\"><span class=\"toc-item-num\">1.4.1&nbsp;&nbsp;</span>В тестовой выборки недоступна группа колонок содержащая информацию о:</a></span></li></ul></li><li><span><a href=\"#Предобработка-данных\" data-toc-modified-id=\"Предобработка-данных-1.5\"><span class=\"toc-item-num\">1.5&nbsp;&nbsp;</span>Предобработка данных</a></span><ul class=\"toc-item\"><li><span><a href=\"#Предобработка-тренировочной-выборки\" data-toc-modified-id=\"Предобработка-тренировочной-выборки-1.5.1\"><span class=\"toc-item-num\">1.5.1&nbsp;&nbsp;</span>Предобработка тренировочной выборки</a></span></li><li><span><a href=\"#Предобработка-тестовой-выборки\" data-toc-modified-id=\"Предобработка-тестовой-выборки-1.5.2\"><span class=\"toc-item-num\">1.5.2&nbsp;&nbsp;</span>Предобработка тестовой выборки</a></span></li></ul></li></ul></li><li><span><a href=\"#Анализ-данных\" data-toc-modified-id=\"Анализ-данных-2\"><span class=\"toc-item-num\">2&nbsp;&nbsp;</span>Анализ данных</a></span><ul class=\"toc-item\"><li><span><a href=\"#Посмотрите,-как-меняется-концентрация-металлов-(Au,-Ag,-Pb)-на-различных-этапах-очистки.-Опишите-выводы.\" data-toc-modified-id=\"Посмотрите,-как-меняется-концентрация-металлов-(Au,-Ag,-Pb)-на-различных-этапах-очистки.-Опишите-выводы.-2.1\"><span class=\"toc-item-num\">2.1&nbsp;&nbsp;</span>Посмотрите, как меняется концентрация металлов (Au, Ag, Pb) на различных этапах очистки. Опишите выводы.</a></span></li><li><span><a href=\"#Сравните-распределения-размеров-гранул-сырья-на-обучающей-и-тестовой-выборках.-Если-распределения-сильно-отличаются-друг-от-друга,-оценка-модели-будет-неправильной.\" data-toc-modified-id=\"Сравните-распределения-размеров-гранул-сырья-на-обучающей-и-тестовой-выборках.-Если-распределения-сильно-отличаются-друг-от-друга,-оценка-модели-будет-неправильной.-2.2\"><span class=\"toc-item-num\">2.2&nbsp;&nbsp;</span>Сравните распределения размеров гранул сырья на обучающей и тестовой выборках. Если распределения сильно отличаются друг от друга, оценка модели будет неправильной.</a></span></li><li><span><a href=\"#Исследуйте-суммарную-концентрацию-всех-веществ-на-разных-стадиях:-в-сырье,-в-черновом-и-финальном-концентратах.\" data-toc-modified-id=\"Исследуйте-суммарную-концентрацию-всех-веществ-на-разных-стадиях:-в-сырье,-в-черновом-и-финальном-концентратах.-2.3\"><span class=\"toc-item-num\">2.3&nbsp;&nbsp;</span>Исследуйте суммарную концентрацию всех веществ на разных стадиях: в сырье, в черновом и финальном концентратах.</a></span></li></ul></li><li><span><a href=\"#Модель\" data-toc-modified-id=\"Модель-3\"><span class=\"toc-item-num\">3&nbsp;&nbsp;</span>Модель</a></span><ul class=\"toc-item\"><li><span><a href=\"#Напишите-функцию-для-вычисления-итоговой-sMAPE.\" data-toc-modified-id=\"Напишите-функцию-для-вычисления-итоговой-sMAPE.-3.1\"><span class=\"toc-item-num\">3.1&nbsp;&nbsp;</span>Напишите функцию для вычисления итоговой sMAPE.</a></span></li><li><span><a href=\"#Обучите-разные-модели-и-оцените-их-качество-кросс-валидацией.\" data-toc-modified-id=\"Обучите-разные-модели-и-оцените-их-качество-кросс-валидацией.-3.2\"><span class=\"toc-item-num\">3.2&nbsp;&nbsp;</span>Обучите разные модели и оцените их качество кросс-валидацией.</a></span><ul class=\"toc-item\"><li><span><a href=\"#Разбиваем-тренировочную-выборку\" data-toc-modified-id=\"Разбиваем-тренировочную-выборку-3.2.1\"><span class=\"toc-item-num\">3.2.1&nbsp;&nbsp;</span>Разбиваем тренировочную выборку</a></span></li><li><span><a href=\"#Разбиваем-тестовую-выборку\" data-toc-modified-id=\"Разбиваем-тестовую-выборку-3.2.2\"><span class=\"toc-item-num\">3.2.2&nbsp;&nbsp;</span>Разбиваем тестовую выборку</a></span></li><li><span><a href=\"#Дерево-решений\" data-toc-modified-id=\"Дерево-решений-3.2.3\"><span class=\"toc-item-num\">3.2.3&nbsp;&nbsp;</span>Дерево решений</a></span><ul class=\"toc-item\"><li><span><a href=\"#Предсказываем-обогащение-в-черновом-концентрате\" data-toc-modified-id=\"Предсказываем-обогащение-в-черновом-концентрате-3.2.3.1\"><span class=\"toc-item-num\">3.2.3.1&nbsp;&nbsp;</span>Предсказываем обогащение в черновом концентрате</a></span></li><li><span><a href=\"#Предсказываем-обогащение-в-финальном-концентрате\" data-toc-modified-id=\"Предсказываем-обогащение-в-финальном-концентрате-3.2.3.2\"><span class=\"toc-item-num\">3.2.3.2&nbsp;&nbsp;</span>Предсказываем обогащение в финальном концентрате</a></span></li></ul></li><li><span><a href=\"#Случайный-лес\" data-toc-modified-id=\"Случайный-лес-3.2.4\"><span class=\"toc-item-num\">3.2.4&nbsp;&nbsp;</span>Случайный лес</a></span><ul class=\"toc-item\"><li><span><a href=\"#Предсказываем-обогащение-в-черновом-концентрате\" data-toc-modified-id=\"Предсказываем-обогащение-в-черновом-концентрате-3.2.4.1\"><span class=\"toc-item-num\">3.2.4.1&nbsp;&nbsp;</span>Предсказываем обогащение в черновом концентрате</a></span></li><li><span><a href=\"#Предсказываем-обогащение-в-финальном-концентрате\" data-toc-modified-id=\"Предсказываем-обогащение-в-финальном-концентрате-3.2.4.2\"><span class=\"toc-item-num\">3.2.4.2&nbsp;&nbsp;</span>Предсказываем обогащение в финальном концентрате</a></span></li></ul></li><li><span><a href=\"#Линейная-регрессия\" data-toc-modified-id=\"Линейная-регрессия-3.2.5\"><span class=\"toc-item-num\">3.2.5&nbsp;&nbsp;</span>Линейная регрессия</a></span><ul class=\"toc-item\"><li><span><a href=\"#Предсказываем-обогащение-в-черновом-концентрате\" data-toc-modified-id=\"Предсказываем-обогащение-в-черновом-концентрате-3.2.5.1\"><span class=\"toc-item-num\">3.2.5.1&nbsp;&nbsp;</span>Предсказываем обогащение в черновом концентрате</a></span></li><li><span><a href=\"#Предсказываем-обогащение-в-финальном-концентрате\" data-toc-modified-id=\"Предсказываем-обогащение-в-финальном-концентрате-3.2.5.2\"><span class=\"toc-item-num\">3.2.5.2&nbsp;&nbsp;</span>Предсказываем обогащение в финальном концентрате</a></span></li></ul></li><li><span><a href=\"#DummyRegressor\" data-toc-modified-id=\"DummyRegressor-3.2.6\"><span class=\"toc-item-num\">3.2.6&nbsp;&nbsp;</span>DummyRegressor</a></span></li></ul></li><li><span><a href=\"#Выберите-лучшую-модель-и-проверьте-её-на-тестовой-выборке.\" data-toc-modified-id=\"Выберите-лучшую-модель-и-проверьте-её-на-тестовой-выборке.-3.3\"><span class=\"toc-item-num\">3.3&nbsp;&nbsp;</span>Выберите лучшую модель и проверьте её на тестовой выборке.</a></span><ul class=\"toc-item\"><li><span><a href=\"#Случайный-лес.\" data-toc-modified-id=\"Случайный-лес.-3.3.1\"><span class=\"toc-item-num\">3.3.1&nbsp;&nbsp;</span>Случайный лес.</a></span></li><li><span><a href=\"#Линейная-регрессия\" data-toc-modified-id=\"Линейная-регрессия-3.3.2\"><span class=\"toc-item-num\">3.3.2&nbsp;&nbsp;</span>Линейная регрессия</a></span></li><li><span><a href=\"#Dummy\" data-toc-modified-id=\"Dummy-3.3.3\"><span class=\"toc-item-num\">3.3.3&nbsp;&nbsp;</span>Dummy</a></span></li></ul></li><li><span><a href=\"#Опишите-выводы.\" data-toc-modified-id=\"Опишите-выводы.-3.4\"><span class=\"toc-item-num\">3.4&nbsp;&nbsp;</span>Опишите выводы.</a></span></li></ul></li><li><span><a href=\"#Чек-лист-готовности-проекта\" data-toc-modified-id=\"Чек-лист-готовности-проекта-4\"><span class=\"toc-item-num\">4&nbsp;&nbsp;</span>Чек-лист готовности проекта</a></span></li></ul></div>"
   ]
  },
  {
   "cell_type": "markdown",
   "metadata": {},
   "source": [
    "# Восстановление золота из руды"
   ]
  },
  {
   "cell_type": "markdown",
   "metadata": {},
   "source": [
    "Подготовьте прототип модели машинного обучения для «Цифры». Компания разрабатывает решения для эффективной работы промышленных предприятий.\n",
    "\n",
    "Модель должна предсказать коэффициент восстановления золота из золотосодержащей руды. Используйте данные с параметрами добычи и очистки. \n",
    "\n",
    "Модель поможет оптимизировать производство, чтобы не запускать предприятие с убыточными характеристиками.\n",
    "\n",
    "Вам нужно:\n",
    "\n",
    "1. Подготовить данные;\n",
    "2. Провести исследовательский анализ данных;\n",
    "3. Построить и обучить модель.\n",
    "\n",
    "Чтобы выполнить проект, обращайтесь к библиотекам *pandas*, *matplotlib* и *sklearn.* Вам поможет их документация."
   ]
  },
  {
   "cell_type": "markdown",
   "metadata": {},
   "source": [
    "## Подготовка данных"
   ]
  },
  {
   "cell_type": "code",
   "execution_count": 1,
   "metadata": {},
   "outputs": [],
   "source": [
    "import warnings\n",
    "\n",
    "import matplotlib.pyplot as plt\n",
    "import numpy as np\n",
    "import pandas as pd\n",
    "\n",
    "from scipy.stats import randint, uniform\n",
    "from sklearn.metrics import make_scorer\n",
    "from sklearn.metrics import mean_absolute_error\n",
    "\n",
    "from sklearn.dummy import DummyRegressor\n",
    "from sklearn.ensemble import RandomForestRegressor\n",
    "from sklearn.linear_model import LinearRegression\n",
    "from sklearn.tree import DecisionTreeRegressor\n",
    "\n",
    "\n",
    "from sklearn.model_selection import cross_val_score\n",
    "from sklearn.model_selection import GridSearchCV \n",
    "from sklearn.model_selection import RandomizedSearchCV\n",
    "from sklearn.model_selection import StratifiedKFold"
   ]
  },
  {
   "cell_type": "markdown",
   "metadata": {},
   "source": [
    "### Константы"
   ]
  },
  {
   "cell_type": "code",
   "execution_count": 2,
   "metadata": {},
   "outputs": [],
   "source": [
    "N_FOLDS=20"
   ]
  },
  {
   "cell_type": "code",
   "execution_count": 3,
   "metadata": {},
   "outputs": [],
   "source": [
    "warnings.filterwarnings('ignore')"
   ]
  },
  {
   "cell_type": "markdown",
   "metadata": {},
   "source": [
    "### Откройте файлы и изучите их."
   ]
  },
  {
   "cell_type": "code",
   "execution_count": 6,
   "metadata": {},
   "outputs": [],
   "source": [
    "gold_recovery_train_new = pd.read_csv('/datasets/gold_recovery_train_new.csv')\n",
    "gold_recovery_test_new = pd.read_csv('/datasets/gold_recovery_test_new.csv')\n",
    "gold_recovery_full_new = pd.read_csv('/datasets/gold_recovery_full_new.csv')"
   ]
  },
  {
   "cell_type": "code",
   "execution_count": 7,
   "metadata": {
    "scrolled": false
   },
   "outputs": [
    {
     "data": {
      "text/plain": [
       "(14149, 87)"
      ]
     },
     "metadata": {},
     "output_type": "display_data"
    },
    {
     "data": {
      "text/plain": [
       "(5290, 53)"
      ]
     },
     "metadata": {},
     "output_type": "display_data"
    },
    {
     "data": {
      "text/plain": [
       "(19439, 87)"
      ]
     },
     "metadata": {},
     "output_type": "display_data"
    }
   ],
   "source": [
    "display(gold_recovery_train_new.shape)\n",
    "display(gold_recovery_test_new.shape)\n",
    "display(gold_recovery_full_new.shape)"
   ]
  },
  {
   "cell_type": "code",
   "execution_count": 8,
   "metadata": {
    "scrolled": false
   },
   "outputs": [
    {
     "name": "stdout",
     "output_type": "stream",
     "text": [
      "<class 'pandas.core.frame.DataFrame'>\n",
      "RangeIndex: 14149 entries, 0 to 14148\n",
      "Data columns (total 87 columns):\n",
      " #   Column                                              Non-Null Count  Dtype  \n",
      "---  ------                                              --------------  -----  \n",
      " 0   date                                                14149 non-null  object \n",
      " 1   final.output.concentrate_ag                         14148 non-null  float64\n",
      " 2   final.output.concentrate_pb                         14148 non-null  float64\n",
      " 3   final.output.concentrate_sol                        13938 non-null  float64\n",
      " 4   final.output.concentrate_au                         14149 non-null  float64\n",
      " 5   final.output.recovery                               14149 non-null  float64\n",
      " 6   final.output.tail_ag                                14149 non-null  float64\n",
      " 7   final.output.tail_pb                                14049 non-null  float64\n",
      " 8   final.output.tail_sol                               14144 non-null  float64\n",
      " 9   final.output.tail_au                                14149 non-null  float64\n",
      " 10  primary_cleaner.input.sulfate                       14129 non-null  float64\n",
      " 11  primary_cleaner.input.depressant                    14117 non-null  float64\n",
      " 12  primary_cleaner.input.feed_size                     14149 non-null  float64\n",
      " 13  primary_cleaner.input.xanthate                      14049 non-null  float64\n",
      " 14  primary_cleaner.output.concentrate_ag               14149 non-null  float64\n",
      " 15  primary_cleaner.output.concentrate_pb               14063 non-null  float64\n",
      " 16  primary_cleaner.output.concentrate_sol              13863 non-null  float64\n",
      " 17  primary_cleaner.output.concentrate_au               14149 non-null  float64\n",
      " 18  primary_cleaner.output.tail_ag                      14148 non-null  float64\n",
      " 19  primary_cleaner.output.tail_pb                      14134 non-null  float64\n",
      " 20  primary_cleaner.output.tail_sol                     14103 non-null  float64\n",
      " 21  primary_cleaner.output.tail_au                      14149 non-null  float64\n",
      " 22  primary_cleaner.state.floatbank8_a_air              14145 non-null  float64\n",
      " 23  primary_cleaner.state.floatbank8_a_level            14148 non-null  float64\n",
      " 24  primary_cleaner.state.floatbank8_b_air              14145 non-null  float64\n",
      " 25  primary_cleaner.state.floatbank8_b_level            14148 non-null  float64\n",
      " 26  primary_cleaner.state.floatbank8_c_air              14147 non-null  float64\n",
      " 27  primary_cleaner.state.floatbank8_c_level            14148 non-null  float64\n",
      " 28  primary_cleaner.state.floatbank8_d_air              14146 non-null  float64\n",
      " 29  primary_cleaner.state.floatbank8_d_level            14148 non-null  float64\n",
      " 30  rougher.calculation.sulfate_to_au_concentrate       14148 non-null  float64\n",
      " 31  rougher.calculation.floatbank10_sulfate_to_au_feed  14148 non-null  float64\n",
      " 32  rougher.calculation.floatbank11_sulfate_to_au_feed  14148 non-null  float64\n",
      " 33  rougher.calculation.au_pb_ratio                     14149 non-null  float64\n",
      " 34  rougher.input.feed_ag                               14149 non-null  float64\n",
      " 35  rougher.input.feed_pb                               14049 non-null  float64\n",
      " 36  rougher.input.feed_rate                             14141 non-null  float64\n",
      " 37  rougher.input.feed_size                             14005 non-null  float64\n",
      " 38  rougher.input.feed_sol                              14071 non-null  float64\n",
      " 39  rougher.input.feed_au                               14149 non-null  float64\n",
      " 40  rougher.input.floatbank10_sulfate                   14120 non-null  float64\n",
      " 41  rougher.input.floatbank10_xanthate                  14141 non-null  float64\n",
      " 42  rougher.input.floatbank11_sulfate                   14113 non-null  float64\n",
      " 43  rougher.input.floatbank11_xanthate                  13721 non-null  float64\n",
      " 44  rougher.output.concentrate_ag                       14149 non-null  float64\n",
      " 45  rougher.output.concentrate_pb                       14149 non-null  float64\n",
      " 46  rougher.output.concentrate_sol                      14127 non-null  float64\n",
      " 47  rougher.output.concentrate_au                       14149 non-null  float64\n",
      " 48  rougher.output.recovery                             14149 non-null  float64\n",
      " 49  rougher.output.tail_ag                              14148 non-null  float64\n",
      " 50  rougher.output.tail_pb                              14149 non-null  float64\n",
      " 51  rougher.output.tail_sol                             14149 non-null  float64\n",
      " 52  rougher.output.tail_au                              14149 non-null  float64\n",
      " 53  rougher.state.floatbank10_a_air                     14148 non-null  float64\n",
      " 54  rougher.state.floatbank10_a_level                   14148 non-null  float64\n",
      " 55  rougher.state.floatbank10_b_air                     14148 non-null  float64\n",
      " 56  rougher.state.floatbank10_b_level                   14148 non-null  float64\n",
      " 57  rougher.state.floatbank10_c_air                     14148 non-null  float64\n",
      " 58  rougher.state.floatbank10_c_level                   14148 non-null  float64\n",
      " 59  rougher.state.floatbank10_d_air                     14149 non-null  float64\n",
      " 60  rougher.state.floatbank10_d_level                   14149 non-null  float64\n",
      " 61  rougher.state.floatbank10_e_air                     13713 non-null  float64\n",
      " 62  rougher.state.floatbank10_e_level                   14149 non-null  float64\n",
      " 63  rougher.state.floatbank10_f_air                     14149 non-null  float64\n",
      " 64  rougher.state.floatbank10_f_level                   14149 non-null  float64\n",
      " 65  secondary_cleaner.output.tail_ag                    14147 non-null  float64\n",
      " 66  secondary_cleaner.output.tail_pb                    14139 non-null  float64\n",
      " 67  secondary_cleaner.output.tail_sol                   12544 non-null  float64\n",
      " 68  secondary_cleaner.output.tail_au                    14149 non-null  float64\n",
      " 69  secondary_cleaner.state.floatbank2_a_air            13932 non-null  float64\n",
      " 70  secondary_cleaner.state.floatbank2_a_level          14148 non-null  float64\n",
      " 71  secondary_cleaner.state.floatbank2_b_air            14128 non-null  float64\n",
      " 72  secondary_cleaner.state.floatbank2_b_level          14148 non-null  float64\n",
      " 73  secondary_cleaner.state.floatbank3_a_air            14145 non-null  float64\n",
      " 74  secondary_cleaner.state.floatbank3_a_level          14148 non-null  float64\n",
      " 75  secondary_cleaner.state.floatbank3_b_air            14148 non-null  float64\n",
      " 76  secondary_cleaner.state.floatbank3_b_level          14148 non-null  float64\n",
      " 77  secondary_cleaner.state.floatbank4_a_air            14143 non-null  float64\n",
      " 78  secondary_cleaner.state.floatbank4_a_level          14148 non-null  float64\n",
      " 79  secondary_cleaner.state.floatbank4_b_air            14148 non-null  float64\n",
      " 80  secondary_cleaner.state.floatbank4_b_level          14148 non-null  float64\n",
      " 81  secondary_cleaner.state.floatbank5_a_air            14148 non-null  float64\n",
      " 82  secondary_cleaner.state.floatbank5_a_level          14148 non-null  float64\n",
      " 83  secondary_cleaner.state.floatbank5_b_air            14148 non-null  float64\n",
      " 84  secondary_cleaner.state.floatbank5_b_level          14148 non-null  float64\n",
      " 85  secondary_cleaner.state.floatbank6_a_air            14147 non-null  float64\n",
      " 86  secondary_cleaner.state.floatbank6_a_level          14148 non-null  float64\n",
      "dtypes: float64(86), object(1)\n",
      "memory usage: 9.4+ MB\n",
      "<class 'pandas.core.frame.DataFrame'>\n",
      "RangeIndex: 5290 entries, 0 to 5289\n",
      "Data columns (total 53 columns):\n",
      " #   Column                                      Non-Null Count  Dtype  \n",
      "---  ------                                      --------------  -----  \n",
      " 0   date                                        5290 non-null   object \n",
      " 1   primary_cleaner.input.sulfate               5286 non-null   float64\n",
      " 2   primary_cleaner.input.depressant            5285 non-null   float64\n",
      " 3   primary_cleaner.input.feed_size             5290 non-null   float64\n",
      " 4   primary_cleaner.input.xanthate              5286 non-null   float64\n",
      " 5   primary_cleaner.state.floatbank8_a_air      5290 non-null   float64\n",
      " 6   primary_cleaner.state.floatbank8_a_level    5290 non-null   float64\n",
      " 7   primary_cleaner.state.floatbank8_b_air      5290 non-null   float64\n",
      " 8   primary_cleaner.state.floatbank8_b_level    5290 non-null   float64\n",
      " 9   primary_cleaner.state.floatbank8_c_air      5290 non-null   float64\n",
      " 10  primary_cleaner.state.floatbank8_c_level    5290 non-null   float64\n",
      " 11  primary_cleaner.state.floatbank8_d_air      5290 non-null   float64\n",
      " 12  primary_cleaner.state.floatbank8_d_level    5290 non-null   float64\n",
      " 13  rougher.input.feed_ag                       5290 non-null   float64\n",
      " 14  rougher.input.feed_pb                       5290 non-null   float64\n",
      " 15  rougher.input.feed_rate                     5287 non-null   float64\n",
      " 16  rougher.input.feed_size                     5289 non-null   float64\n",
      " 17  rougher.input.feed_sol                      5269 non-null   float64\n",
      " 18  rougher.input.feed_au                       5290 non-null   float64\n",
      " 19  rougher.input.floatbank10_sulfate           5285 non-null   float64\n",
      " 20  rougher.input.floatbank10_xanthate          5290 non-null   float64\n",
      " 21  rougher.input.floatbank11_sulfate           5282 non-null   float64\n",
      " 22  rougher.input.floatbank11_xanthate          5265 non-null   float64\n",
      " 23  rougher.state.floatbank10_a_air             5290 non-null   float64\n",
      " 24  rougher.state.floatbank10_a_level           5290 non-null   float64\n",
      " 25  rougher.state.floatbank10_b_air             5290 non-null   float64\n",
      " 26  rougher.state.floatbank10_b_level           5290 non-null   float64\n",
      " 27  rougher.state.floatbank10_c_air             5290 non-null   float64\n",
      " 28  rougher.state.floatbank10_c_level           5290 non-null   float64\n",
      " 29  rougher.state.floatbank10_d_air             5290 non-null   float64\n",
      " 30  rougher.state.floatbank10_d_level           5290 non-null   float64\n",
      " 31  rougher.state.floatbank10_e_air             5290 non-null   float64\n",
      " 32  rougher.state.floatbank10_e_level           5290 non-null   float64\n",
      " 33  rougher.state.floatbank10_f_air             5290 non-null   float64\n",
      " 34  rougher.state.floatbank10_f_level           5290 non-null   float64\n",
      " 35  secondary_cleaner.state.floatbank2_a_air    5287 non-null   float64\n",
      " 36  secondary_cleaner.state.floatbank2_a_level  5290 non-null   float64\n",
      " 37  secondary_cleaner.state.floatbank2_b_air    5288 non-null   float64\n",
      " 38  secondary_cleaner.state.floatbank2_b_level  5290 non-null   float64\n",
      " 39  secondary_cleaner.state.floatbank3_a_air    5281 non-null   float64\n",
      " 40  secondary_cleaner.state.floatbank3_a_level  5290 non-null   float64\n",
      " 41  secondary_cleaner.state.floatbank3_b_air    5290 non-null   float64\n",
      " 42  secondary_cleaner.state.floatbank3_b_level  5290 non-null   float64\n",
      " 43  secondary_cleaner.state.floatbank4_a_air    5290 non-null   float64\n",
      " 44  secondary_cleaner.state.floatbank4_a_level  5290 non-null   float64\n",
      " 45  secondary_cleaner.state.floatbank4_b_air    5290 non-null   float64\n",
      " 46  secondary_cleaner.state.floatbank4_b_level  5290 non-null   float64\n",
      " 47  secondary_cleaner.state.floatbank5_a_air    5290 non-null   float64\n",
      " 48  secondary_cleaner.state.floatbank5_a_level  5290 non-null   float64\n",
      " 49  secondary_cleaner.state.floatbank5_b_air    5290 non-null   float64\n",
      " 50  secondary_cleaner.state.floatbank5_b_level  5290 non-null   float64\n",
      " 51  secondary_cleaner.state.floatbank6_a_air    5290 non-null   float64\n",
      " 52  secondary_cleaner.state.floatbank6_a_level  5290 non-null   float64\n",
      "dtypes: float64(52), object(1)\n",
      "memory usage: 2.1+ MB\n",
      "<class 'pandas.core.frame.DataFrame'>\n",
      "RangeIndex: 19439 entries, 0 to 19438\n",
      "Data columns (total 87 columns):\n",
      " #   Column                                              Non-Null Count  Dtype  \n",
      "---  ------                                              --------------  -----  \n",
      " 0   date                                                19439 non-null  object \n",
      " 1   final.output.concentrate_ag                         19438 non-null  float64\n",
      " 2   final.output.concentrate_pb                         19438 non-null  float64\n",
      " 3   final.output.concentrate_sol                        19228 non-null  float64\n",
      " 4   final.output.concentrate_au                         19439 non-null  float64\n",
      " 5   final.output.recovery                               19439 non-null  float64\n",
      " 6   final.output.tail_ag                                19438 non-null  float64\n",
      " 7   final.output.tail_pb                                19338 non-null  float64\n",
      " 8   final.output.tail_sol                               19433 non-null  float64\n",
      " 9   final.output.tail_au                                19439 non-null  float64\n",
      " 10  primary_cleaner.input.sulfate                       19415 non-null  float64\n",
      " 11  primary_cleaner.input.depressant                    19402 non-null  float64\n",
      " 12  primary_cleaner.input.feed_size                     19439 non-null  float64\n",
      " 13  primary_cleaner.input.xanthate                      19335 non-null  float64\n",
      " 14  primary_cleaner.output.concentrate_ag               19439 non-null  float64\n",
      " 15  primary_cleaner.output.concentrate_pb               19323 non-null  float64\n",
      " 16  primary_cleaner.output.concentrate_sol              19069 non-null  float64\n",
      " 17  primary_cleaner.output.concentrate_au               19439 non-null  float64\n",
      " 18  primary_cleaner.output.tail_ag                      19435 non-null  float64\n",
      " 19  primary_cleaner.output.tail_pb                      19418 non-null  float64\n",
      " 20  primary_cleaner.output.tail_sol                     19377 non-null  float64\n",
      " 21  primary_cleaner.output.tail_au                      19439 non-null  float64\n",
      " 22  primary_cleaner.state.floatbank8_a_air              19435 non-null  float64\n",
      " 23  primary_cleaner.state.floatbank8_a_level            19438 non-null  float64\n",
      " 24  primary_cleaner.state.floatbank8_b_air              19435 non-null  float64\n",
      " 25  primary_cleaner.state.floatbank8_b_level            19438 non-null  float64\n",
      " 26  primary_cleaner.state.floatbank8_c_air              19437 non-null  float64\n",
      " 27  primary_cleaner.state.floatbank8_c_level            19438 non-null  float64\n",
      " 28  primary_cleaner.state.floatbank8_d_air              19436 non-null  float64\n",
      " 29  primary_cleaner.state.floatbank8_d_level            19438 non-null  float64\n",
      " 30  rougher.calculation.sulfate_to_au_concentrate       19437 non-null  float64\n",
      " 31  rougher.calculation.floatbank10_sulfate_to_au_feed  19437 non-null  float64\n",
      " 32  rougher.calculation.floatbank11_sulfate_to_au_feed  19437 non-null  float64\n",
      " 33  rougher.calculation.au_pb_ratio                     19439 non-null  float64\n",
      " 34  rougher.input.feed_ag                               19439 non-null  float64\n",
      " 35  rougher.input.feed_pb                               19339 non-null  float64\n",
      " 36  rougher.input.feed_rate                             19428 non-null  float64\n",
      " 37  rougher.input.feed_size                             19294 non-null  float64\n",
      " 38  rougher.input.feed_sol                              19340 non-null  float64\n",
      " 39  rougher.input.feed_au                               19439 non-null  float64\n",
      " 40  rougher.input.floatbank10_sulfate                   19405 non-null  float64\n",
      " 41  rougher.input.floatbank10_xanthate                  19431 non-null  float64\n",
      " 42  rougher.input.floatbank11_sulfate                   19395 non-null  float64\n",
      " 43  rougher.input.floatbank11_xanthate                  18986 non-null  float64\n",
      " 44  rougher.output.concentrate_ag                       19439 non-null  float64\n",
      " 45  rougher.output.concentrate_pb                       19439 non-null  float64\n",
      " 46  rougher.output.concentrate_sol                      19416 non-null  float64\n",
      " 47  rougher.output.concentrate_au                       19439 non-null  float64\n",
      " 48  rougher.output.recovery                             19439 non-null  float64\n",
      " 49  rougher.output.tail_ag                              19438 non-null  float64\n",
      " 50  rougher.output.tail_pb                              19439 non-null  float64\n",
      " 51  rougher.output.tail_sol                             19439 non-null  float64\n",
      " 52  rougher.output.tail_au                              19439 non-null  float64\n",
      " 53  rougher.state.floatbank10_a_air                     19438 non-null  float64\n",
      " 54  rougher.state.floatbank10_a_level                   19438 non-null  float64\n",
      " 55  rougher.state.floatbank10_b_air                     19438 non-null  float64\n",
      " 56  rougher.state.floatbank10_b_level                   19438 non-null  float64\n",
      " 57  rougher.state.floatbank10_c_air                     19438 non-null  float64\n",
      " 58  rougher.state.floatbank10_c_level                   19438 non-null  float64\n",
      " 59  rougher.state.floatbank10_d_air                     19439 non-null  float64\n",
      " 60  rougher.state.floatbank10_d_level                   19439 non-null  float64\n",
      " 61  rougher.state.floatbank10_e_air                     19003 non-null  float64\n",
      " 62  rougher.state.floatbank10_e_level                   19439 non-null  float64\n",
      " 63  rougher.state.floatbank10_f_air                     19439 non-null  float64\n",
      " 64  rougher.state.floatbank10_f_level                   19439 non-null  float64\n",
      " 65  secondary_cleaner.output.tail_ag                    19437 non-null  float64\n",
      " 66  secondary_cleaner.output.tail_pb                    19427 non-null  float64\n",
      " 67  secondary_cleaner.output.tail_sol                   17691 non-null  float64\n",
      " 68  secondary_cleaner.output.tail_au                    19439 non-null  float64\n",
      " 69  secondary_cleaner.state.floatbank2_a_air            19219 non-null  float64\n",
      " 70  secondary_cleaner.state.floatbank2_a_level          19438 non-null  float64\n",
      " 71  secondary_cleaner.state.floatbank2_b_air            19416 non-null  float64\n",
      " 72  secondary_cleaner.state.floatbank2_b_level          19438 non-null  float64\n",
      " 73  secondary_cleaner.state.floatbank3_a_air            19426 non-null  float64\n",
      " 74  secondary_cleaner.state.floatbank3_a_level          19438 non-null  float64\n",
      " 75  secondary_cleaner.state.floatbank3_b_air            19438 non-null  float64\n",
      " 76  secondary_cleaner.state.floatbank3_b_level          19438 non-null  float64\n",
      " 77  secondary_cleaner.state.floatbank4_a_air            19433 non-null  float64\n",
      " 78  secondary_cleaner.state.floatbank4_a_level          19438 non-null  float64\n",
      " 79  secondary_cleaner.state.floatbank4_b_air            19438 non-null  float64\n",
      " 80  secondary_cleaner.state.floatbank4_b_level          19438 non-null  float64\n",
      " 81  secondary_cleaner.state.floatbank5_a_air            19438 non-null  float64\n",
      " 82  secondary_cleaner.state.floatbank5_a_level          19438 non-null  float64\n",
      " 83  secondary_cleaner.state.floatbank5_b_air            19438 non-null  float64\n",
      " 84  secondary_cleaner.state.floatbank5_b_level          19438 non-null  float64\n",
      " 85  secondary_cleaner.state.floatbank6_a_air            19437 non-null  float64\n",
      " 86  secondary_cleaner.state.floatbank6_a_level          19438 non-null  float64\n",
      "dtypes: float64(86), object(1)\n",
      "memory usage: 12.9+ MB\n"
     ]
    }
   ],
   "source": [
    "gold_recovery_train_new.info()\n",
    "gold_recovery_test_new.info()\n",
    "gold_recovery_full_new.info()"
   ]
  },
  {
   "cell_type": "markdown",
   "metadata": {},
   "source": [
    "### Проверяем рассчёт эффективности обогащения"
   ]
  },
  {
   "cell_type": "code",
   "execution_count": 9,
   "metadata": {},
   "outputs": [],
   "source": [
    "c = gold_recovery_train_new['rougher.output.concentrate_au']\n",
    "f = gold_recovery_train_new['rougher.input.feed_au']\n",
    "t = gold_recovery_train_new['rougher.output.tail_au']\n",
    "recovery = (c*(f-t))/(f*(c-t))*100\n",
    "\n",
    "recovery_df = gold_recovery_train_new['rougher.output.recovery']"
   ]
  },
  {
   "cell_type": "code",
   "execution_count": 10,
   "metadata": {
    "scrolled": true
   },
   "outputs": [
    {
     "data": {
      "text/plain": [
       "0    87.107763\n",
       "1    86.843261\n",
       "2    86.842308\n",
       "3    87.226430\n",
       "4    86.688794\n",
       "dtype: float64"
      ]
     },
     "metadata": {},
     "output_type": "display_data"
    },
    {
     "data": {
      "text/plain": [
       "0    87.107763\n",
       "1    86.843261\n",
       "2    86.842308\n",
       "3    87.226430\n",
       "4    86.688794\n",
       "Name: rougher.output.recovery, dtype: float64"
      ]
     },
     "metadata": {},
     "output_type": "display_data"
    }
   ],
   "source": [
    "display(recovery.head())\n",
    "display(recovery_df.head())"
   ]
  },
  {
   "cell_type": "code",
   "execution_count": 11,
   "metadata": {
    "scrolled": true
   },
   "outputs": [
    {
     "name": "stdout",
     "output_type": "stream",
     "text": [
      "Delta 1 1.4210854715202004e-14\n",
      "Delta 2 1.4210854715202004e-14\n",
      "Delta 5 1.4210854715202004e-14\n",
      "Delta 6 -1.4210854715202004e-14\n",
      "Delta 8 1.4210854715202004e-14\n",
      "Delta 9 1.4210854715202004e-14\n"
     ]
    }
   ],
   "source": [
    "for i in range(10):\n",
    "    if recovery[i] !=  recovery_df[i]:\n",
    "        print('Delta',i,recovery[i]-recovery_df[i])"
   ]
  },
  {
   "cell_type": "code",
   "execution_count": 12,
   "metadata": {},
   "outputs": [
    {
     "name": "stdout",
     "output_type": "stream",
     "text": [
      "MAE:9.73512347450521e-15\n"
     ]
    }
   ],
   "source": [
    "print(f'MAE:{mean_absolute_error(recovery,recovery_df)}')"
   ]
  },
  {
   "cell_type": "markdown",
   "metadata": {},
   "source": [
    "Вывод: ошибка крайне маленькая. Похоже на ошибку вычислений, округлений и так далее.\\\n",
    "Пора бы вспомнить бы вычислительную математику...\n",
    "Тут как вариант - не считать с такой космической точностью и округлять до какого-то разряда, но до какого - можно узнять только у заказчика."
   ]
  },
  {
   "cell_type": "markdown",
   "metadata": {},
   "source": [
    "### Признаки, недоступные в тестовой выборке"
   ]
  },
  {
   "cell_type": "code",
   "execution_count": 13,
   "metadata": {
    "scrolled": false
   },
   "outputs": [
    {
     "name": "stdout",
     "output_type": "stream",
     "text": [
      "Columns not available in the test sample:\n",
      "\n",
      "final.output.concentrate_ag\n",
      "final.output.concentrate_pb\n",
      "final.output.concentrate_sol\n",
      "final.output.concentrate_au\n",
      "final.output.recovery\n",
      "final.output.tail_ag\n",
      "final.output.tail_pb\n",
      "final.output.tail_sol\n",
      "final.output.tail_au\n",
      "primary_cleaner.output.concentrate_ag\n",
      "primary_cleaner.output.concentrate_pb\n",
      "primary_cleaner.output.concentrate_sol\n",
      "primary_cleaner.output.concentrate_au\n",
      "primary_cleaner.output.tail_ag\n",
      "primary_cleaner.output.tail_pb\n",
      "primary_cleaner.output.tail_sol\n",
      "primary_cleaner.output.tail_au\n",
      "rougher.calculation.sulfate_to_au_concentrate\n",
      "rougher.calculation.floatbank10_sulfate_to_au_feed\n",
      "rougher.calculation.floatbank11_sulfate_to_au_feed\n",
      "rougher.calculation.au_pb_ratio\n",
      "rougher.output.concentrate_ag\n",
      "rougher.output.concentrate_pb\n",
      "rougher.output.concentrate_sol\n",
      "rougher.output.concentrate_au\n",
      "rougher.output.recovery\n",
      "rougher.output.tail_ag\n",
      "rougher.output.tail_pb\n",
      "rougher.output.tail_sol\n",
      "rougher.output.tail_au\n",
      "secondary_cleaner.output.tail_ag\n",
      "secondary_cleaner.output.tail_pb\n",
      "secondary_cleaner.output.tail_sol\n",
      "secondary_cleaner.output.tail_au\n",
      "\n",
      "Columns count 34\n"
     ]
    }
   ],
   "source": [
    "test_columns = gold_recovery_test_new.columns\n",
    "full_columns = gold_recovery_full_new.columns\n",
    "count = 0\n",
    "print('Columns not available in the test sample:\\n')\n",
    "for i in range(len(full_columns)):\n",
    "    if full_columns[i] not in test_columns:\n",
    "        print(full_columns[i])\n",
    "        count += 1\n",
    "        \n",
    "print('\\nColumns count',count)"
   ]
  },
  {
   "cell_type": "code",
   "execution_count": 14,
   "metadata": {},
   "outputs": [
    {
     "data": {
      "text/plain": [
       "Index(['final.output.concentrate_ag', 'final.output.concentrate_au',\n",
       "       'final.output.concentrate_pb', 'final.output.concentrate_sol',\n",
       "       'final.output.recovery', 'final.output.tail_ag', 'final.output.tail_au',\n",
       "       'final.output.tail_pb', 'final.output.tail_sol',\n",
       "       'primary_cleaner.output.concentrate_ag',\n",
       "       'primary_cleaner.output.concentrate_au',\n",
       "       'primary_cleaner.output.concentrate_pb',\n",
       "       'primary_cleaner.output.concentrate_sol',\n",
       "       'primary_cleaner.output.tail_ag', 'primary_cleaner.output.tail_au',\n",
       "       'primary_cleaner.output.tail_pb', 'primary_cleaner.output.tail_sol',\n",
       "       'rougher.calculation.au_pb_ratio',\n",
       "       'rougher.calculation.floatbank10_sulfate_to_au_feed',\n",
       "       'rougher.calculation.floatbank11_sulfate_to_au_feed',\n",
       "       'rougher.calculation.sulfate_to_au_concentrate',\n",
       "       'rougher.output.concentrate_ag', 'rougher.output.concentrate_au',\n",
       "       'rougher.output.concentrate_pb', 'rougher.output.concentrate_sol',\n",
       "       'rougher.output.recovery', 'rougher.output.tail_ag',\n",
       "       'rougher.output.tail_au', 'rougher.output.tail_pb',\n",
       "       'rougher.output.tail_sol', 'secondary_cleaner.output.tail_ag',\n",
       "       'secondary_cleaner.output.tail_au', 'secondary_cleaner.output.tail_pb',\n",
       "       'secondary_cleaner.output.tail_sol'],\n",
       "      dtype='object')"
      ]
     },
     "metadata": {},
     "output_type": "display_data"
    }
   ],
   "source": [
    "display(gold_recovery_train_new.columns.difference(gold_recovery_test_new.columns))"
   ]
  },
  {
   "cell_type": "markdown",
   "metadata": {},
   "source": [
    "#### В тестовой выборки недоступна группа колонок содержащая информацию о:\n",
    "\n",
    "- `rougher` - этап Флотация\n",
    "    - `calculation` - вычисления \n",
    "        - `sulfate_to_au_concentrate`\n",
    "        - `floatbank10_sulfate_to_au_feed`\n",
    "        - `floatbank11_sulfate_to_au_feed`\n",
    "        - `au_pb_ratio`\n",
    "    - `output`\n",
    "        - **`recovery`** - эффективность обогащения чернового концентрата\n",
    "        - `concentrate_..` (ag, pb, sol, au)\n",
    "        - `tail_..` (ag, pb, sol, au)\n",
    "- `primary_cleaner` - первый этап очистки\n",
    "    - `output` - параметры продукта\n",
    "        - `concentrate_..` - все концентраты (ag, pb, sol, au)\n",
    "        - `tail_..` - все концентрации в отвальных хвостах (ag, pb, sol, au)\n",
    "- `secondary_cleaner` - второй этап очистки\n",
    "    - `output` - параметры продукта\n",
    "        - `tail_..` (ag, pb, sol, au)\n",
    "- `final` - финальный концентрат\n",
    "    - `output` - параметры продукта\n",
    "        - **`recovery`** - эффективность обогащения финального концентрата\n",
    "        - `concentrate_..` (ag, pb, sol, au)\n",
    "        - `tail_..` (ag, pb, sol, au)"
   ]
  },
  {
   "cell_type": "markdown",
   "metadata": {},
   "source": [
    "**В тестовой выборке нет колонок с целевыми признаками**"
   ]
  },
  {
   "attachments": {
    "image_2022-09-02_16-50-52.png": {
     "image/png": "[encoded data removed]"
    }
   },
   "cell_type": "markdown",
   "metadata": {},
   "source": [
    "![image_2022-09-02_16-50-52.png](attachment:image_2022-09-02_16-50-52.png)"
   ]
  },
  {
   "cell_type": "markdown",
   "metadata": {},
   "source": [
    "### Предобработка данных"
   ]
  },
  {
   "cell_type": "markdown",
   "metadata": {},
   "source": [
    "- [x] понять смысл датасетов с которыми предстоит работать.\n",
    "- [x] Обработать NaN.\n",
    "- [x] Поискать дубликаты"
   ]
  },
  {
   "cell_type": "markdown",
   "metadata": {},
   "source": [
    "#### Предобработка тренировочной выборки"
   ]
  },
  {
   "cell_type": "markdown",
   "metadata": {},
   "source": [
    "Возьмём для тренировочной выборки только колонки, которые есть в тестовой + признаки для удобства обработки NaN."
   ]
  },
  {
   "cell_type": "code",
   "execution_count": 15,
   "metadata": {},
   "outputs": [],
   "source": [
    "df_train = gold_recovery_train_new.copy()\n",
    "\n",
    "columns_for_train_df = gold_recovery_test_new.columns\n",
    "columns_for_train_df = columns_for_train_df.union(['rougher.output.recovery','final.output.recovery'])"
   ]
  },
  {
   "cell_type": "markdown",
   "metadata": {},
   "source": [
    "Проверим сколько NAN в тренировочной выборке."
   ]
  },
  {
   "cell_type": "code",
   "execution_count": 16,
   "metadata": {
    "scrolled": false
   },
   "outputs": [
    {
     "name": "stdout",
     "output_type": "stream",
     "text": [
      "Размер тренировочного датасета (14149, 87) \n",
      "\n",
      "rougher.state.floatbank10_e_air               436\n",
      "rougher.input.floatbank11_xanthate            428\n",
      "secondary_cleaner.state.floatbank2_a_air      217\n",
      "rougher.input.feed_size                       144\n",
      "rougher.input.feed_pb                         100\n",
      "primary_cleaner.input.xanthate                100\n",
      "rougher.input.feed_sol                         78\n",
      "rougher.input.floatbank11_sulfate              36\n",
      "primary_cleaner.input.depressant               32\n",
      "rougher.input.floatbank10_sulfate              29\n",
      "secondary_cleaner.state.floatbank2_b_air       21\n",
      "primary_cleaner.input.sulfate                  20\n",
      "rougher.input.floatbank10_xanthate              8\n",
      "rougher.input.feed_rate                         8\n",
      "secondary_cleaner.state.floatbank4_a_air        6\n",
      "primary_cleaner.state.floatbank8_b_air          4\n",
      "secondary_cleaner.state.floatbank3_a_air        4\n",
      "primary_cleaner.state.floatbank8_a_air          4\n",
      "primary_cleaner.state.floatbank8_d_air          3\n",
      "secondary_cleaner.state.floatbank6_a_air        2\n",
      "primary_cleaner.state.floatbank8_c_air          2\n",
      "secondary_cleaner.state.floatbank4_b_level      1\n",
      "secondary_cleaner.state.floatbank3_b_air        1\n",
      "secondary_cleaner.state.floatbank2_a_level      1\n",
      "secondary_cleaner.state.floatbank2_b_level      1\n",
      "secondary_cleaner.state.floatbank3_a_level      1\n",
      "secondary_cleaner.state.floatbank4_a_level      1\n",
      "secondary_cleaner.state.floatbank3_b_level      1\n",
      "secondary_cleaner.state.floatbank4_b_air        1\n",
      "secondary_cleaner.state.floatbank5_b_level      1\n",
      "secondary_cleaner.state.floatbank5_b_air        1\n",
      "secondary_cleaner.state.floatbank5_a_level      1\n",
      "secondary_cleaner.state.floatbank5_a_air        1\n",
      "rougher.state.floatbank10_b_air                 1\n",
      "secondary_cleaner.state.floatbank6_a_level      1\n",
      "rougher.state.floatbank10_a_air                 1\n",
      "primary_cleaner.state.floatbank8_a_level        1\n",
      "primary_cleaner.state.floatbank8_b_level        1\n",
      "rougher.state.floatbank10_c_level               1\n",
      "rougher.state.floatbank10_c_air                 1\n",
      "rougher.state.floatbank10_b_level               1\n",
      "primary_cleaner.state.floatbank8_c_level        1\n",
      "rougher.state.floatbank10_a_level               1\n",
      "primary_cleaner.state.floatbank8_d_level        1\n",
      "rougher.input.feed_au                           0\n",
      "primary_cleaner.input.feed_size                 0\n",
      "rougher.input.feed_ag                           0\n",
      "rougher.state.floatbank10_f_air                 0\n",
      "rougher.output.recovery                         0\n",
      "rougher.state.floatbank10_f_level               0\n",
      "dtype: int64\n"
     ]
    }
   ],
   "source": [
    "print('Размер тренировочного датасета', gold_recovery_train_new.shape,'\\n')\n",
    "print(df_train[columns_for_train_df].isna().sum().sort_values(ascending=False).head(50))"
   ]
  },
  {
   "cell_type": "markdown",
   "metadata": {},
   "source": [
    "Довольно много NaN, но думаю мужно их удалить.\\\n",
    "Плюс нам нужно удалить столбец `date`, чтобы он не мешал обучать модель."
   ]
  },
  {
   "cell_type": "code",
   "execution_count": 17,
   "metadata": {},
   "outputs": [],
   "source": [
    "df_train[columns_for_train_df] = df_train[columns_for_train_df].ffill()"
   ]
  },
  {
   "cell_type": "code",
   "execution_count": 18,
   "metadata": {},
   "outputs": [
    {
     "data": {
      "text/plain": [
       "(14149, 87)"
      ]
     },
     "execution_count": 18,
     "metadata": {},
     "output_type": "execute_result"
    }
   ],
   "source": [
    "df_train.shape"
   ]
  },
  {
   "cell_type": "code",
   "execution_count": 19,
   "metadata": {},
   "outputs": [
    {
     "data": {
      "text/plain": [
       "(14149, 87)"
      ]
     },
     "execution_count": 19,
     "metadata": {},
     "output_type": "execute_result"
    }
   ],
   "source": [
    "df_train.shape"
   ]
  },
  {
   "cell_type": "code",
   "execution_count": 20,
   "metadata": {
    "scrolled": false
   },
   "outputs": [
    {
     "data": {
      "text/plain": [
       "0.10389426814615874"
      ]
     },
     "execution_count": 20,
     "metadata": {},
     "output_type": "execute_result"
    }
   ],
   "source": [
    "(14149-12679)/14149"
   ]
  },
  {
   "cell_type": "markdown",
   "metadata": {},
   "source": [
    "Теряем 10% тренировочной выборки, что не есть хорошо."
   ]
  },
  {
   "cell_type": "code",
   "execution_count": 21,
   "metadata": {},
   "outputs": [
    {
     "name": "stdout",
     "output_type": "stream",
     "text": [
      "Количетво явных дубликатов: 0\n"
     ]
    }
   ],
   "source": [
    "print('Количетво явных дубликатов:', df_train.duplicated().sum())"
   ]
  },
  {
   "cell_type": "markdown",
   "metadata": {},
   "source": [
    "Разбиваем на `features` и два `target`\n",
    "Почему два - в пункте 3.2."
   ]
  },
  {
   "cell_type": "markdown",
   "metadata": {},
   "source": [
    "#### Предобработка тестовой выборки"
   ]
  },
  {
   "cell_type": "code",
   "execution_count": 22,
   "metadata": {},
   "outputs": [],
   "source": [
    "df_test = gold_recovery_test_new.merge(gold_recovery_full_new[['date','rougher.output.recovery','final.output.recovery']], on='date', how='left').copy()"
   ]
  },
  {
   "cell_type": "markdown",
   "metadata": {},
   "source": [
    "Проверим сколько NAN в тренировочной выборке."
   ]
  },
  {
   "cell_type": "code",
   "execution_count": 23,
   "metadata": {},
   "outputs": [
    {
     "name": "stdout",
     "output_type": "stream",
     "text": [
      "<class 'pandas.core.frame.DataFrame'>\n",
      "Int64Index: 5290 entries, 0 to 5289\n",
      "Data columns (total 55 columns):\n",
      " #   Column                                      Non-Null Count  Dtype  \n",
      "---  ------                                      --------------  -----  \n",
      " 0   date                                        5290 non-null   object \n",
      " 1   primary_cleaner.input.sulfate               5286 non-null   float64\n",
      " 2   primary_cleaner.input.depressant            5285 non-null   float64\n",
      " 3   primary_cleaner.input.feed_size             5290 non-null   float64\n",
      " 4   primary_cleaner.input.xanthate              5286 non-null   float64\n",
      " 5   primary_cleaner.state.floatbank8_a_air      5290 non-null   float64\n",
      " 6   primary_cleaner.state.floatbank8_a_level    5290 non-null   float64\n",
      " 7   primary_cleaner.state.floatbank8_b_air      5290 non-null   float64\n",
      " 8   primary_cleaner.state.floatbank8_b_level    5290 non-null   float64\n",
      " 9   primary_cleaner.state.floatbank8_c_air      5290 non-null   float64\n",
      " 10  primary_cleaner.state.floatbank8_c_level    5290 non-null   float64\n",
      " 11  primary_cleaner.state.floatbank8_d_air      5290 non-null   float64\n",
      " 12  primary_cleaner.state.floatbank8_d_level    5290 non-null   float64\n",
      " 13  rougher.input.feed_ag                       5290 non-null   float64\n",
      " 14  rougher.input.feed_pb                       5290 non-null   float64\n",
      " 15  rougher.input.feed_rate                     5287 non-null   float64\n",
      " 16  rougher.input.feed_size                     5289 non-null   float64\n",
      " 17  rougher.input.feed_sol                      5269 non-null   float64\n",
      " 18  rougher.input.feed_au                       5290 non-null   float64\n",
      " 19  rougher.input.floatbank10_sulfate           5285 non-null   float64\n",
      " 20  rougher.input.floatbank10_xanthate          5290 non-null   float64\n",
      " 21  rougher.input.floatbank11_sulfate           5282 non-null   float64\n",
      " 22  rougher.input.floatbank11_xanthate          5265 non-null   float64\n",
      " 23  rougher.state.floatbank10_a_air             5290 non-null   float64\n",
      " 24  rougher.state.floatbank10_a_level           5290 non-null   float64\n",
      " 25  rougher.state.floatbank10_b_air             5290 non-null   float64\n",
      " 26  rougher.state.floatbank10_b_level           5290 non-null   float64\n",
      " 27  rougher.state.floatbank10_c_air             5290 non-null   float64\n",
      " 28  rougher.state.floatbank10_c_level           5290 non-null   float64\n",
      " 29  rougher.state.floatbank10_d_air             5290 non-null   float64\n",
      " 30  rougher.state.floatbank10_d_level           5290 non-null   float64\n",
      " 31  rougher.state.floatbank10_e_air             5290 non-null   float64\n",
      " 32  rougher.state.floatbank10_e_level           5290 non-null   float64\n",
      " 33  rougher.state.floatbank10_f_air             5290 non-null   float64\n",
      " 34  rougher.state.floatbank10_f_level           5290 non-null   float64\n",
      " 35  secondary_cleaner.state.floatbank2_a_air    5287 non-null   float64\n",
      " 36  secondary_cleaner.state.floatbank2_a_level  5290 non-null   float64\n",
      " 37  secondary_cleaner.state.floatbank2_b_air    5288 non-null   float64\n",
      " 38  secondary_cleaner.state.floatbank2_b_level  5290 non-null   float64\n",
      " 39  secondary_cleaner.state.floatbank3_a_air    5281 non-null   float64\n",
      " 40  secondary_cleaner.state.floatbank3_a_level  5290 non-null   float64\n",
      " 41  secondary_cleaner.state.floatbank3_b_air    5290 non-null   float64\n",
      " 42  secondary_cleaner.state.floatbank3_b_level  5290 non-null   float64\n",
      " 43  secondary_cleaner.state.floatbank4_a_air    5290 non-null   float64\n",
      " 44  secondary_cleaner.state.floatbank4_a_level  5290 non-null   float64\n",
      " 45  secondary_cleaner.state.floatbank4_b_air    5290 non-null   float64\n",
      " 46  secondary_cleaner.state.floatbank4_b_level  5290 non-null   float64\n",
      " 47  secondary_cleaner.state.floatbank5_a_air    5290 non-null   float64\n",
      " 48  secondary_cleaner.state.floatbank5_a_level  5290 non-null   float64\n",
      " 49  secondary_cleaner.state.floatbank5_b_air    5290 non-null   float64\n",
      " 50  secondary_cleaner.state.floatbank5_b_level  5290 non-null   float64\n",
      " 51  secondary_cleaner.state.floatbank6_a_air    5290 non-null   float64\n",
      " 52  secondary_cleaner.state.floatbank6_a_level  5290 non-null   float64\n",
      " 53  rougher.output.recovery                     5290 non-null   float64\n",
      " 54  final.output.recovery                       5290 non-null   float64\n",
      "dtypes: float64(54), object(1)\n",
      "memory usage: 2.3+ MB\n"
     ]
    }
   ],
   "source": [
    "df_test.info()"
   ]
  },
  {
   "cell_type": "code",
   "execution_count": 24,
   "metadata": {},
   "outputs": [
    {
     "name": "stdout",
     "output_type": "stream",
     "text": [
      "Размер тестового датасета (5290, 55) \n",
      "\n",
      "rougher.input.floatbank11_xanthate            25\n",
      "rougher.input.feed_sol                        21\n",
      "secondary_cleaner.state.floatbank3_a_air       9\n",
      "rougher.input.floatbank11_sulfate              8\n",
      "primary_cleaner.input.depressant               5\n",
      "rougher.input.floatbank10_sulfate              5\n",
      "primary_cleaner.input.xanthate                 4\n",
      "primary_cleaner.input.sulfate                  4\n",
      "secondary_cleaner.state.floatbank2_a_air       3\n",
      "rougher.input.feed_rate                        3\n",
      "secondary_cleaner.state.floatbank2_b_air       2\n",
      "rougher.input.feed_size                        1\n",
      "secondary_cleaner.state.floatbank3_a_level     0\n",
      "secondary_cleaner.state.floatbank3_b_level     0\n",
      "secondary_cleaner.state.floatbank3_b_air       0\n",
      "dtype: int64\n"
     ]
    }
   ],
   "source": [
    "print('Размер тестового датасета', df_test.shape,'\\n')\n",
    "print(df_test.isna().sum().sort_values(ascending=False).head(15))"
   ]
  },
  {
   "cell_type": "markdown",
   "metadata": {},
   "source": [
    "Значительно меньше NaN. Удаляем их из тестовой выборки."
   ]
  },
  {
   "cell_type": "code",
   "execution_count": 25,
   "metadata": {},
   "outputs": [
    {
     "data": {
      "text/plain": [
       "(5229, 54)"
      ]
     },
     "execution_count": 25,
     "metadata": {},
     "output_type": "execute_result"
    }
   ],
   "source": [
    "df_test = df_test.dropna()\n",
    "df_test = df_test.drop(columns='date')\n",
    "df_test.reset_index(drop=True, inplace=True)\n",
    "df_test.shape"
   ]
  },
  {
   "cell_type": "code",
   "execution_count": 26,
   "metadata": {},
   "outputs": [
    {
     "name": "stdout",
     "output_type": "stream",
     "text": [
      "Количетво явных дубликатов: 0\n"
     ]
    }
   ],
   "source": [
    "print('Количетво явных дубликатов:', df_test.duplicated().sum())"
   ]
  },
  {
   "cell_type": "markdown",
   "metadata": {},
   "source": [
    "## Анализ данных"
   ]
  },
  {
   "cell_type": "markdown",
   "metadata": {},
   "source": [
    "### Посмотрите, как меняется концентрация металлов (Au, Ag, Pb) на различных этапах очистки. Опишите выводы."
   ]
  },
  {
   "cell_type": "markdown",
   "metadata": {},
   "source": [
    "на какой выборке смотреть будем?\n",
    "- [x] тренировочной\n",
    "- [ ] тестовой\n",
    "- [ ] полной\n",
    "\n",
    "концентрация металлов в чём?\n",
    "- [x] на входе/выходе\n",
    "- [ ] в отвальных хвостах?\n",
    "\n",
    "P.S. Что такое SOL?"
   ]
  },
  {
   "cell_type": "code",
   "execution_count": 27,
   "metadata": {
    "scrolled": false
   },
   "outputs": [
    {
     "data": {
      "image/png": "[encoded data removed]",
      "text/plain": [
       "<Figure size 1000x600 with 1 Axes>"
      ]
     },
     "metadata": {},
     "output_type": "display_data"
    },
    {
     "data": {
      "image/png": "[encoded data removed]",
      "text/plain": [
       "<Figure size 1000x600 with 1 Axes>"
      ]
     },
     "metadata": {},
     "output_type": "display_data"
    },
    {
     "data": {
      "image/png": "[encoded data removed]",
      "text/plain": [
       "<Figure size 1000x600 with 1 Axes>"
      ]
     },
     "metadata": {},
     "output_type": "display_data"
    },
    {
     "data": {
      "image/png": "[encoded data removed]",
      "text/plain": [
       "<Figure size 1000x600 with 1 Axes>"
      ]
     },
     "metadata": {},
     "output_type": "display_data"
    }
   ],
   "source": [
    "def display_metal_hist(df, metal, zeros=False):\n",
    "    fig = plt.figure(figsize=(10, 6))\n",
    "    ax = fig.add_subplot(111)\n",
    "    if zeros:\n",
    "        print(df[df['rougher.input.feed_'+metal]==0]['rougher.input.feed_'+metal].count())\n",
    "        print(df[df['rougher.output.concentrate_'+metal]==0]['rougher.output.concentrate_'+metal].count())\n",
    "        print(df[df['primary_cleaner.output.concentrate_'+metal]==0]['primary_cleaner.output.concentrate_'+metal].count())\n",
    "        print(df[df['final.output.concentrate_'+metal]==0]['final.output.concentrate_'+metal].count())\n",
    "    df['rougher.input.feed_'+metal].hist(legend=True, bins=30, fc=(0, 0, 1, 0.5))\n",
    "    df['rougher.output.concentrate_'+metal].hist(legend=True, bins=30, fc=(0, 1, 0, 0.5))\n",
    "    df['primary_cleaner.output.concentrate_'+metal].hist(legend=True, bins=30, fc=(1, 0, 0, 0.5))\n",
    "    df['final.output.concentrate_'+metal].hist(legend=True, bins=30, fc=(0, 0, 0, 0.5))\n",
    "    ax.set_title('Концентрация '+metal)\n",
    "    ax.set_xlabel('Концентрация, %')\n",
    "    ax.set_ylabel('Количество')\n",
    "    plt.plot()\n",
    "    \n",
    "display_metal_hist(df_train, 'au')\n",
    "display_metal_hist(df_train, 'ag')\n",
    "display_metal_hist(df_train, 'pb')\n",
    "display_metal_hist(df_train, 'sol')"
   ]
  },
  {
   "cell_type": "markdown",
   "metadata": {},
   "source": [
    "Концентрация золота растёт, что нормально.\\\n",
    "Концентрация серебра сперва растёт, затем падает.\\\n",
    "Концентрация свинца растёт.\\\n",
    "Концентрация SOL падает. "
   ]
  },
  {
   "cell_type": "code",
   "execution_count": 28,
   "metadata": {},
   "outputs": [
    {
     "name": "stdout",
     "output_type": "stream",
     "text": [
      "Mean for au\n",
      "rougher.input   7.866576841919407\n",
      "rougher.output  19.43995785143646\n",
      "primary_cleaner 32.386835978391346\n",
      "final.output    44.00379162105571\n",
      "\n",
      "Mean for ag\n",
      "rougher.input   8.579195196596277\n",
      "rougher.output  11.775812314356036\n",
      "primary_cleaner 8.200915815165981\n",
      "final.output    5.142033646303436\n",
      "\n",
      "Mean for pb\n",
      "rougher.input   3.5054646776095564\n",
      "rougher.output  7.664554751481546\n",
      "primary_cleaner 9.588861968192514\n",
      "final.output    10.132959663997577\n",
      "\n",
      "Mean for sol\n",
      "rougher.input   36.29093285216108\n",
      "rougher.output  28.302715158560577\n",
      "primary_cleaner 10.114744843356814\n",
      "final.output    9.202849245150011\n",
      "\n"
     ]
    }
   ],
   "source": [
    "def display_metal_mean(df, metal):\n",
    "    print('Mean for', metal)\n",
    "    print('rougher.input  ', df['rougher.input.feed_'+metal].mean())\n",
    "    print('rougher.output ', df['rougher.output.concentrate_'+metal].mean())\n",
    "    print('primary_cleaner', df['primary_cleaner.output.concentrate_'+metal].mean())\n",
    "    print('final.output   ', df['final.output.concentrate_'+metal].mean())\n",
    "    print()\n",
    "\n",
    "display_metal_mean(df_train, 'au')\n",
    "display_metal_mean(df_train, 'ag')\n",
    "display_metal_mean(df_train, 'pb')\n",
    "display_metal_mean(df_train, 'sol')"
   ]
  },
  {
   "cell_type": "markdown",
   "metadata": {},
   "source": [
    "### Сравните распределения размеров гранул сырья на обучающей и тестовой выборках. Если распределения сильно отличаются друг от друга, оценка модели будет неправильной."
   ]
  },
  {
   "cell_type": "markdown",
   "metadata": {},
   "source": [
    "Как сравниваем:\n",
    "- [x] Гистограммы\n",
    "- [x] Среднее "
   ]
  },
  {
   "cell_type": "code",
   "execution_count": 29,
   "metadata": {
    "scrolled": false
   },
   "outputs": [
    {
     "data": {
      "text/plain": [
       "[]"
      ]
     },
     "execution_count": 29,
     "metadata": {},
     "output_type": "execute_result"
    },
    {
     "data": {
      "image/png": "[encoded data removed]",
      "text/plain": [
       "<Figure size 1200x1000 with 1 Axes>"
      ]
     },
     "metadata": {},
     "output_type": "display_data"
    },
    {
     "data": {
      "image/png": "[encoded data removed]",
      "text/plain": [
       "<Figure size 1200x1000 with 1 Axes>"
      ]
     },
     "metadata": {},
     "output_type": "display_data"
    }
   ],
   "source": [
    "fig = plt.figure(figsize=(12, 10))\n",
    "ax = fig.add_subplot(111)\n",
    "ax.hist(df_train['rougher.input.feed_size'],bins=100,label='train',density=True)\n",
    "ax.hist(df_test['rougher.input.feed_size'],bins=100,label='test',density=True, fc=(1, 0, 0, 0.5))\n",
    "ax.set_title('Распределения размеров гранул сырья на обучающей и тестовой выборках\\nСтадия: rougher')\n",
    "ax.set_xlabel('Размер гранул')\n",
    "ax.set_ylabel('Количество')\n",
    "ax.legend(fontsize=16)\n",
    "plt.plot()\n",
    "\n",
    "fig = plt.figure(figsize=(12, 10))\n",
    "ax = fig.add_subplot(111)\n",
    "ax.hist(df_train['primary_cleaner.input.feed_size'],bins=100,label='train',density=True)\n",
    "ax.hist(df_test['primary_cleaner.input.feed_size'],bins=100,label='test',density=True, fc=(1, 0, 0, 0.5))\n",
    "ax.set_title('Распределения размеров гранул сырья на обучающей и тестовой выборках\\nСтадия: primary_cleaner')\n",
    "ax.set_xlabel('Размер гранул')\n",
    "ax.set_ylabel('Количество')\n",
    "ax.legend(fontsize=16)\n",
    "plt.plot()"
   ]
  },
  {
   "cell_type": "code",
   "execution_count": 30,
   "metadata": {
    "scrolled": false
   },
   "outputs": [
    {
     "name": "stdout",
     "output_type": "stream",
     "text": [
      "feed_size mean\n",
      "\n",
      "rougher.input:\n",
      "Train: 60.23985599255732\n",
      "Test: 55.86397810255099\n",
      "train/test 1.0783309395183676\n",
      "\n",
      "primary_cleaner.input\n",
      "Train: 7.322309906901314\n",
      "Test: 7.271545576079371\n",
      "train/test 1.0069812298212004\n"
     ]
    }
   ],
   "source": [
    "print('feed_size mean\\n')\n",
    "\n",
    "print('rougher.input:')\n",
    "print('Train:',df_train['rougher.input.feed_size'].mean())\n",
    "print('Test:',df_test['rougher.input.feed_size'].mean())\n",
    "print('train/test',df_train['rougher.input.feed_size'].mean()/df_test['rougher.input.feed_size'].mean())\n",
    "\n",
    "print()\n",
    "\n",
    "print('primary_cleaner.input')\n",
    "print('Train:',df_train['primary_cleaner.input.feed_size'].mean())\n",
    "print('Test:',df_test['primary_cleaner.input.feed_size'].mean())\n",
    "print('train/test', df_train['primary_cleaner.input.feed_size'].mean()/df_test['primary_cleaner.input.feed_size'].mean())"
   ]
  },
  {
   "cell_type": "markdown",
   "metadata": {},
   "source": [
    "На гистограмме видно, что на этапе флотации у нас очень \"длинный хвост\" вправо.\\\n",
    "Возможно стоит удалить значения в которых размер гранул > 150.\n",
    "\n",
    "В среднем у нас есть отличие по размеру гранул на этапе флотации у тренировочной выборки на 7% по сравнению с тестовой.\n",
    "Это значимый процент.\n",
    "\n",
    "На первом этапе очистки разница всего 0.7%. "
   ]
  },
  {
   "cell_type": "code",
   "execution_count": 31,
   "metadata": {},
   "outputs": [
    {
     "name": "stdout",
     "output_type": "stream",
     "text": [
      "(14149, 87)\n",
      "(5229, 54)\n",
      "177\n",
      "45\n"
     ]
    }
   ],
   "source": [
    "print(df_train.shape)\n",
    "print(df_test.shape)\n",
    "\n",
    "print(df_train[df_train['rougher.input.feed_size']>120]['rougher.input.feed_size'].count())\n",
    "print(df_test[df_test['rougher.input.feed_size']>120]['rougher.input.feed_size'].count())"
   ]
  },
  {
   "cell_type": "code",
   "execution_count": 32,
   "metadata": {},
   "outputs": [
    {
     "name": "stdout",
     "output_type": "stream",
     "text": [
      "14149\n",
      "5229\n"
     ]
    }
   ],
   "source": [
    "print(df_train[(df_train['rougher.input.feed_size']>1) \n",
    "               | (df_train['rougher.input.feed_size']<120)]['rougher.input.feed_size'].count())\n",
    "\n",
    "print(df_test[(df_test['rougher.input.feed_size']>1) \n",
    "              | (df_test['rougher.input.feed_size']<120)]['rougher.input.feed_size'].count())"
   ]
  },
  {
   "cell_type": "code",
   "execution_count": 33,
   "metadata": {},
   "outputs": [],
   "source": [
    "df_train = df_train.drop(\n",
    "    df_train[(df_train['rougher.input.feed_size']<1) \n",
    "             | (df_train['rougher.input.feed_size']>120)].index)\n",
    "df_train.reset_index(drop=True, inplace=True)\n",
    "\n",
    "df_test = df_test.drop(\n",
    "    df_test[(df_test['rougher.input.feed_size']<1) \n",
    "            | (df_test['rougher.input.feed_size']>120)].index)\n",
    "df_test.reset_index(drop=True, inplace=True)"
   ]
  },
  {
   "cell_type": "code",
   "execution_count": 34,
   "metadata": {
    "scrolled": false
   },
   "outputs": [
    {
     "data": {
      "text/plain": [
       "[]"
      ]
     },
     "execution_count": 34,
     "metadata": {},
     "output_type": "execute_result"
    },
    {
     "data": {
      "image/png": "[encoded data removed]",
      "text/plain": [
       "<Figure size 1200x1000 with 1 Axes>"
      ]
     },
     "metadata": {},
     "output_type": "display_data"
    }
   ],
   "source": [
    "fig = plt.figure(figsize=(12, 10))\n",
    "ax = fig.add_subplot(111)\n",
    "ax.hist(df_train['rougher.input.feed_size'],bins=100,label='train',density=True)\n",
    "ax.hist(df_test['rougher.input.feed_size'],bins=100,label='test',density=True, fc=(1, 0, 0, 0.5))\n",
    "ax.set_title('Распределения размеров гранул сырья на обучающей и тестовой выборках\\nСтадия: rougher')\n",
    "ax.set_xlabel('Размер гранул')\n",
    "ax.set_ylabel('Количество')\n",
    "ax.legend(fontsize=16)\n",
    "plt.plot()"
   ]
  },
  {
   "cell_type": "markdown",
   "metadata": {},
   "source": [
    "Характер распределения размера гранул на тестовой выборке мне не нравится. Это два колокольчика.\n",
    "С такими данными обучать модель я бы не стал, а пошёл узнавать у знающих людей из индустрии почему такое могло получится и пересобрал бы тренировочную и тестовую выборку из полной с нуля."
   ]
  },
  {
   "cell_type": "markdown",
   "metadata": {},
   "source": [
    "### Исследуйте суммарную концентрацию всех веществ на разных стадиях: в сырье, в черновом и финальном концентратах."
   ]
  },
  {
   "cell_type": "markdown",
   "metadata": {},
   "source": [
    "Смотрим на тренировочной выборке.\n",
    "\n",
    "Всех веществ - это включая SOL?"
   ]
  },
  {
   "cell_type": "code",
   "execution_count": 35,
   "metadata": {
    "scrolled": false
   },
   "outputs": [
    {
     "data": {
      "image/png": "[encoded data removed]",
      "text/plain": [
       "<Figure size 1200x1000 with 1 Axes>"
      ]
     },
     "metadata": {},
     "output_type": "display_data"
    }
   ],
   "source": [
    "fig = plt.figure(figsize=(12, 10))\n",
    "ax = fig.add_subplot(111)\n",
    "def display_metal_hist_sum(df, stage, fc):\n",
    "    df[stage+'summary'] = (df[stage+'_au']+ df[stage+'_ag']+ df[stage+'_pb'])\n",
    "    df[stage+'summary'].hist(legend=True,bins=30, fc=fc)\n",
    "    ax.set_title('Суммарная концентрация металлов на разных стадиях')\n",
    "    ax.set_xlabel('Концентрация, %')\n",
    "    ax.set_ylabel('Количество')\n",
    "    plt.plot()\n",
    "\n",
    "display_metal_hist_sum(df_train, 'rougher.input.feed', fc=(0, 0, 1, 0.5))  \n",
    "display_metal_hist_sum(df_train, 'rougher.output.concentrate', fc=(0, 1, 0, 0.5))\n",
    "display_metal_hist_sum(df_train, 'primary_cleaner.output.concentrate', fc=(1, 0, 0, 0.5))\n",
    "display_metal_hist_sum(df_train, 'final.output.concentrate', fc=(0, 0, 0, 0.5))"
   ]
  },
  {
   "cell_type": "markdown",
   "metadata": {},
   "source": [
    "Суммаркая концентрация металлов на разных стадиях заметно растёт"
   ]
  },
  {
   "cell_type": "code",
   "execution_count": 36,
   "metadata": {
    "scrolled": false
   },
   "outputs": [
    {
     "data": {
      "image/png": "[encoded data removed]",
      "text/plain": [
       "<Figure size 1200x1000 with 1 Axes>"
      ]
     },
     "metadata": {},
     "output_type": "display_data"
    }
   ],
   "source": [
    "fig = plt.figure(figsize=(12, 10))\n",
    "ax = fig.add_subplot(111)\n",
    "def display_metal_hist_sum(df, stage, fc):\n",
    "    df[stage+'summary'] = (df[stage+'_au']+ df[stage+'_ag']+ df[stage+'_pb']+ df[stage+'_sol'])\n",
    "    df[stage+'summary'].hist(legend=True,bins=30, fc=fc)\n",
    "    ax.set_title('Суммарная концентрация всех веществ на разных стадиях')\n",
    "    ax.set_xlabel('Концентрация, %')\n",
    "    ax.set_ylabel('Количество')\n",
    "    plt.plot()\n",
    "\n",
    "display_metal_hist_sum(df_train, 'rougher.input.feed', fc=(0, 0, 1, 0.5))  \n",
    "display_metal_hist_sum(df_train, 'rougher.output.concentrate', fc=(0, 1, 0, 0.5))\n",
    "display_metal_hist_sum(df_train, 'primary_cleaner.output.concentrate', fc=(1, 0, 0, 0.5))\n",
    "display_metal_hist_sum(df_train, 'final.output.concentrate', fc=(0, 0, 0, 0.5))"
   ]
  },
  {
   "cell_type": "code",
   "execution_count": 37,
   "metadata": {
    "scrolled": false
   },
   "outputs": [
    {
     "name": "stdout",
     "output_type": "stream",
     "text": [
      "Mean for rougher.input.feed\n",
      "56.28114286384415\n",
      "\n",
      "Mean for rougher.output.concentrate\n",
      "67.18304007583463\n",
      "\n",
      "Mean for primary_cleaner.output.concentrate\n",
      "60.291358605106666\n",
      "\n",
      "Mean for final.output.concentrate\n",
      "68.48163417650673\n",
      "\n"
     ]
    }
   ],
   "source": [
    "def display_metal_sum(df, stage):\n",
    "    print('Mean for', stage)\n",
    "    print(df[stage+'_au'].mean()\n",
    "      + df[stage+'_ag'].mean()\n",
    "      + df[stage+'_pb'].mean()\n",
    "      + df[stage+'_sol'].mean()\n",
    "    )\n",
    "    print()\n",
    "\n",
    "    \n",
    "display_metal_sum(gold_recovery_train_new, 'rougher.input.feed')  \n",
    "display_metal_sum(gold_recovery_train_new, 'rougher.output.concentrate')\n",
    "display_metal_sum(gold_recovery_train_new, 'primary_cleaner.output.concentrate')\n",
    "display_metal_sum(gold_recovery_train_new, 'final.output.concentrate')"
   ]
  },
  {
   "cell_type": "markdown",
   "metadata": {},
   "source": [
    "Суммарная концентрация всех металлов, включая SOL тоже растёт, но уже не так значительно и имеет не большой разброс."
   ]
  },
  {
   "cell_type": "code",
   "execution_count": 38,
   "metadata": {},
   "outputs": [],
   "source": [
    "stages = ['rougher.input.feed'\n",
    "         ,'rougher.output.concentrate'\n",
    "         ,'primary_cleaner.output.concentrate'\n",
    "         ,'final.output.concentrate']\n",
    "\n",
    "components = ['_au'\n",
    "             ,'_ag'\n",
    "             ,'_pb'\n",
    "             ,'_sol']\n",
    "\n",
    "for stage in stages:\n",
    "    for component in components:\n",
    "        df_train = df_train.drop(df_train[df_train[stage+component]<1].index)\n",
    "\n",
    "df_train.reset_index(drop=True, inplace=True)"
   ]
  },
  {
   "cell_type": "code",
   "execution_count": 39,
   "metadata": {
    "scrolled": false
   },
   "outputs": [
    {
     "data": {
      "image/png": "[encoded data removed]",
      "text/plain": [
       "<Figure size 1200x1000 with 1 Axes>"
      ]
     },
     "metadata": {},
     "output_type": "display_data"
    }
   ],
   "source": [
    "fig = plt.figure(figsize=(12, 10))\n",
    "ax = fig.add_subplot(111)\n",
    "def display_metal_hist_sum(df, stage, fc):\n",
    "    df[stage+'summary'] = (df[stage+'_au']+ df[stage+'_ag']+ df[stage+'_pb']+ df[stage+'_sol'])\n",
    "    df[stage+'summary'].hist(legend=True,bins=30, fc=fc)\n",
    "    ax.set_title('Суммарная концентрация всех веществ на разных стадиях')\n",
    "    ax.set_xlabel('Концентрация, %')\n",
    "    ax.set_ylabel('Количество')\n",
    "    plt.plot()\n",
    "\n",
    "display_metal_hist_sum(df_train, 'rougher.input.feed', fc=(0, 0, 1, 0.5))  \n",
    "display_metal_hist_sum(df_train, 'rougher.output.concentrate', fc=(0, 1, 0, 0.5))\n",
    "display_metal_hist_sum(df_train, 'primary_cleaner.output.concentrate', fc=(1, 0, 0, 0.5))\n",
    "display_metal_hist_sum(df_train, 'final.output.concentrate', fc=(0, 0, 0, 0.5))"
   ]
  },
  {
   "cell_type": "markdown",
   "metadata": {},
   "source": [
    "## Модель"
   ]
  },
  {
   "cell_type": "markdown",
   "metadata": {},
   "source": [
    "### Напишите функцию для вычисления итоговой sMAPE."
   ]
  },
  {
   "cell_type": "code",
   "execution_count": 40,
   "metadata": {},
   "outputs": [],
   "source": [
    "def smape(A, F): #attribute, forecast\n",
    "    return 100/len(A) * np.sum(2 * np.abs(F - A) / (np.abs(A) + np.abs(F)))"
   ]
  },
  {
   "cell_type": "code",
   "execution_count": 41,
   "metadata": {},
   "outputs": [],
   "source": [
    "def total_smape(smape_r,smape_f):\n",
    "    return np.abs(0.25*smape_r+0.75*smape_f)"
   ]
  },
  {
   "cell_type": "code",
   "execution_count": 42,
   "metadata": {},
   "outputs": [],
   "source": [
    "smape_scorer = make_scorer(smape, greater_is_better=False)"
   ]
  },
  {
   "cell_type": "markdown",
   "metadata": {},
   "source": [
    "### Обучите разные модели и оцените их качество кросс-валидацией."
   ]
  },
  {
   "cell_type": "markdown",
   "metadata": {},
   "source": [
    "У нас два признака.\n",
    "Поскольку мы пока не изучали, как тренировать модель с двумя выходами(multi target), то будем обучать по две модели с одним выходом.\n",
    "Сперва для этапа `rougher`, затем `final`."
   ]
  },
  {
   "cell_type": "markdown",
   "metadata": {},
   "source": [
    "#### Разбиваем тренировочную выборку"
   ]
  },
  {
   "cell_type": "code",
   "execution_count": 43,
   "metadata": {},
   "outputs": [
    {
     "name": "stdout",
     "output_type": "stream",
     "text": [
      "(13225, 52)\n",
      "(13225,)\n",
      "(13225,)\n"
     ]
    }
   ],
   "source": [
    "df_train_features = df_train[columns_for_train_df]\n",
    "df_train_features = df_train_features.drop(['date', 'rougher.output.recovery','final.output.recovery'], axis=1)\n",
    "\n",
    "df_train_target_rougher = df_train['rougher.output.recovery']\n",
    "df_train_target_final = df_train['final.output.recovery']\n",
    "\n",
    "print(df_train_features.shape)\n",
    "print(df_train_target_rougher.shape)\n",
    "print(df_train_target_final.shape)"
   ]
  },
  {
   "cell_type": "markdown",
   "metadata": {},
   "source": [
    "#### Разбиваем тестовую выборку"
   ]
  },
  {
   "cell_type": "code",
   "execution_count": 44,
   "metadata": {
    "scrolled": true
   },
   "outputs": [
    {
     "name": "stdout",
     "output_type": "stream",
     "text": [
      "(5180, 52)\n",
      "(5180,)\n",
      "(5180,)\n"
     ]
    }
   ],
   "source": [
    "df_test_features = df_test.drop(['rougher.output.recovery','final.output.recovery'], axis=1)\n",
    "df_test_target_rougher = df_test['rougher.output.recovery']\n",
    "df_test_target_final = df_test['final.output.recovery']\n",
    "print(df_test_features.shape)\n",
    "print(df_test_target_rougher.shape)\n",
    "print(df_test_target_final.shape)"
   ]
  },
  {
   "cell_type": "code",
   "execution_count": 45,
   "metadata": {},
   "outputs": [
    {
     "data": {
      "text/html": [
       "<div>\n",
       "<style scoped>\n",
       "    .dataframe tbody tr th:only-of-type {\n",
       "        vertical-align: middle;\n",
       "    }\n",
       "\n",
       "    .dataframe tbody tr th {\n",
       "        vertical-align: top;\n",
       "    }\n",
       "\n",
       "    .dataframe thead th {\n",
       "        text-align: right;\n",
       "    }\n",
       "</style>\n",
       "<table border=\"1\" class=\"dataframe\">\n",
       "  <thead>\n",
       "    <tr style=\"text-align: right;\">\n",
       "      <th></th>\n",
       "      <th>primary_cleaner.input.depressant</th>\n",
       "      <th>primary_cleaner.input.feed_size</th>\n",
       "      <th>primary_cleaner.input.sulfate</th>\n",
       "      <th>primary_cleaner.input.xanthate</th>\n",
       "      <th>primary_cleaner.state.floatbank8_a_air</th>\n",
       "      <th>primary_cleaner.state.floatbank8_a_level</th>\n",
       "      <th>primary_cleaner.state.floatbank8_b_air</th>\n",
       "      <th>primary_cleaner.state.floatbank8_b_level</th>\n",
       "      <th>primary_cleaner.state.floatbank8_c_air</th>\n",
       "      <th>primary_cleaner.state.floatbank8_c_level</th>\n",
       "      <th>...</th>\n",
       "      <th>secondary_cleaner.state.floatbank4_a_air</th>\n",
       "      <th>secondary_cleaner.state.floatbank4_a_level</th>\n",
       "      <th>secondary_cleaner.state.floatbank4_b_air</th>\n",
       "      <th>secondary_cleaner.state.floatbank4_b_level</th>\n",
       "      <th>secondary_cleaner.state.floatbank5_a_air</th>\n",
       "      <th>secondary_cleaner.state.floatbank5_a_level</th>\n",
       "      <th>secondary_cleaner.state.floatbank5_b_air</th>\n",
       "      <th>secondary_cleaner.state.floatbank5_b_level</th>\n",
       "      <th>secondary_cleaner.state.floatbank6_a_air</th>\n",
       "      <th>secondary_cleaner.state.floatbank6_a_level</th>\n",
       "    </tr>\n",
       "  </thead>\n",
       "  <tbody>\n",
       "  </tbody>\n",
       "</table>\n",
       "<p>0 rows × 52 columns</p>\n",
       "</div>"
      ],
      "text/plain": [
       "Empty DataFrame\n",
       "Columns: [primary_cleaner.input.depressant, primary_cleaner.input.feed_size, primary_cleaner.input.sulfate, primary_cleaner.input.xanthate, primary_cleaner.state.floatbank8_a_air, primary_cleaner.state.floatbank8_a_level, primary_cleaner.state.floatbank8_b_air, primary_cleaner.state.floatbank8_b_level, primary_cleaner.state.floatbank8_c_air, primary_cleaner.state.floatbank8_c_level, primary_cleaner.state.floatbank8_d_air, primary_cleaner.state.floatbank8_d_level, rougher.input.feed_ag, rougher.input.feed_au, rougher.input.feed_pb, rougher.input.feed_rate, rougher.input.feed_size, rougher.input.feed_sol, rougher.input.floatbank10_sulfate, rougher.input.floatbank10_xanthate, rougher.input.floatbank11_sulfate, rougher.input.floatbank11_xanthate, rougher.state.floatbank10_a_air, rougher.state.floatbank10_a_level, rougher.state.floatbank10_b_air, rougher.state.floatbank10_b_level, rougher.state.floatbank10_c_air, rougher.state.floatbank10_c_level, rougher.state.floatbank10_d_air, rougher.state.floatbank10_d_level, rougher.state.floatbank10_e_air, rougher.state.floatbank10_e_level, rougher.state.floatbank10_f_air, rougher.state.floatbank10_f_level, secondary_cleaner.state.floatbank2_a_air, secondary_cleaner.state.floatbank2_a_level, secondary_cleaner.state.floatbank2_b_air, secondary_cleaner.state.floatbank2_b_level, secondary_cleaner.state.floatbank3_a_air, secondary_cleaner.state.floatbank3_a_level, secondary_cleaner.state.floatbank3_b_air, secondary_cleaner.state.floatbank3_b_level, secondary_cleaner.state.floatbank4_a_air, secondary_cleaner.state.floatbank4_a_level, secondary_cleaner.state.floatbank4_b_air, secondary_cleaner.state.floatbank4_b_level, secondary_cleaner.state.floatbank5_a_air, secondary_cleaner.state.floatbank5_a_level, secondary_cleaner.state.floatbank5_b_air, secondary_cleaner.state.floatbank5_b_level, secondary_cleaner.state.floatbank6_a_air, secondary_cleaner.state.floatbank6_a_level]\n",
       "Index: []\n",
       "\n",
       "[0 rows x 52 columns]"
      ]
     },
     "execution_count": 45,
     "metadata": {},
     "output_type": "execute_result"
    }
   ],
   "source": [
    "df_train_features.head(0)"
   ]
  },
  {
   "cell_type": "code",
   "execution_count": 46,
   "metadata": {
    "scrolled": true
   },
   "outputs": [
    {
     "data": {
      "text/html": [
       "<div>\n",
       "<style scoped>\n",
       "    .dataframe tbody tr th:only-of-type {\n",
       "        vertical-align: middle;\n",
       "    }\n",
       "\n",
       "    .dataframe tbody tr th {\n",
       "        vertical-align: top;\n",
       "    }\n",
       "\n",
       "    .dataframe thead th {\n",
       "        text-align: right;\n",
       "    }\n",
       "</style>\n",
       "<table border=\"1\" class=\"dataframe\">\n",
       "  <thead>\n",
       "    <tr style=\"text-align: right;\">\n",
       "      <th></th>\n",
       "      <th>primary_cleaner.input.sulfate</th>\n",
       "      <th>primary_cleaner.input.depressant</th>\n",
       "      <th>primary_cleaner.input.feed_size</th>\n",
       "      <th>primary_cleaner.input.xanthate</th>\n",
       "      <th>primary_cleaner.state.floatbank8_a_air</th>\n",
       "      <th>primary_cleaner.state.floatbank8_a_level</th>\n",
       "      <th>primary_cleaner.state.floatbank8_b_air</th>\n",
       "      <th>primary_cleaner.state.floatbank8_b_level</th>\n",
       "      <th>primary_cleaner.state.floatbank8_c_air</th>\n",
       "      <th>primary_cleaner.state.floatbank8_c_level</th>\n",
       "      <th>...</th>\n",
       "      <th>secondary_cleaner.state.floatbank4_a_air</th>\n",
       "      <th>secondary_cleaner.state.floatbank4_a_level</th>\n",
       "      <th>secondary_cleaner.state.floatbank4_b_air</th>\n",
       "      <th>secondary_cleaner.state.floatbank4_b_level</th>\n",
       "      <th>secondary_cleaner.state.floatbank5_a_air</th>\n",
       "      <th>secondary_cleaner.state.floatbank5_a_level</th>\n",
       "      <th>secondary_cleaner.state.floatbank5_b_air</th>\n",
       "      <th>secondary_cleaner.state.floatbank5_b_level</th>\n",
       "      <th>secondary_cleaner.state.floatbank6_a_air</th>\n",
       "      <th>secondary_cleaner.state.floatbank6_a_level</th>\n",
       "    </tr>\n",
       "  </thead>\n",
       "  <tbody>\n",
       "  </tbody>\n",
       "</table>\n",
       "<p>0 rows × 52 columns</p>\n",
       "</div>"
      ],
      "text/plain": [
       "Empty DataFrame\n",
       "Columns: [primary_cleaner.input.sulfate, primary_cleaner.input.depressant, primary_cleaner.input.feed_size, primary_cleaner.input.xanthate, primary_cleaner.state.floatbank8_a_air, primary_cleaner.state.floatbank8_a_level, primary_cleaner.state.floatbank8_b_air, primary_cleaner.state.floatbank8_b_level, primary_cleaner.state.floatbank8_c_air, primary_cleaner.state.floatbank8_c_level, primary_cleaner.state.floatbank8_d_air, primary_cleaner.state.floatbank8_d_level, rougher.input.feed_ag, rougher.input.feed_pb, rougher.input.feed_rate, rougher.input.feed_size, rougher.input.feed_sol, rougher.input.feed_au, rougher.input.floatbank10_sulfate, rougher.input.floatbank10_xanthate, rougher.input.floatbank11_sulfate, rougher.input.floatbank11_xanthate, rougher.state.floatbank10_a_air, rougher.state.floatbank10_a_level, rougher.state.floatbank10_b_air, rougher.state.floatbank10_b_level, rougher.state.floatbank10_c_air, rougher.state.floatbank10_c_level, rougher.state.floatbank10_d_air, rougher.state.floatbank10_d_level, rougher.state.floatbank10_e_air, rougher.state.floatbank10_e_level, rougher.state.floatbank10_f_air, rougher.state.floatbank10_f_level, secondary_cleaner.state.floatbank2_a_air, secondary_cleaner.state.floatbank2_a_level, secondary_cleaner.state.floatbank2_b_air, secondary_cleaner.state.floatbank2_b_level, secondary_cleaner.state.floatbank3_a_air, secondary_cleaner.state.floatbank3_a_level, secondary_cleaner.state.floatbank3_b_air, secondary_cleaner.state.floatbank3_b_level, secondary_cleaner.state.floatbank4_a_air, secondary_cleaner.state.floatbank4_a_level, secondary_cleaner.state.floatbank4_b_air, secondary_cleaner.state.floatbank4_b_level, secondary_cleaner.state.floatbank5_a_air, secondary_cleaner.state.floatbank5_a_level, secondary_cleaner.state.floatbank5_b_air, secondary_cleaner.state.floatbank5_b_level, secondary_cleaner.state.floatbank6_a_air, secondary_cleaner.state.floatbank6_a_level]\n",
       "Index: []\n",
       "\n",
       "[0 rows x 52 columns]"
      ]
     },
     "execution_count": 46,
     "metadata": {},
     "output_type": "execute_result"
    }
   ],
   "source": [
    "df_test_features.head(0)"
   ]
  },
  {
   "cell_type": "code",
   "execution_count": 47,
   "metadata": {},
   "outputs": [],
   "source": [
    "df_test_features = df_test_features[df_train_features.columns]"
   ]
  },
  {
   "cell_type": "code",
   "execution_count": 48,
   "metadata": {
    "scrolled": true
   },
   "outputs": [],
   "source": [
    "from catboost import CatBoostRegressor"
   ]
  },
  {
   "cell_type": "code",
   "execution_count": 49,
   "metadata": {},
   "outputs": [],
   "source": [
    "cat = CatBoostRegressor()"
   ]
  },
  {
   "cell_type": "code",
   "execution_count": 50,
   "metadata": {},
   "outputs": [
    {
     "data": {
      "application/vnd.jupyter.widget-view+json": {
       "model_id": "41d0960e75d844d39215828833f41070",
       "version_major": 2,
       "version_minor": 0
      },
      "text/plain": [
       "MetricVisualizer(layout=Layout(align_self='stretch', height='500px'))"
      ]
     },
     "metadata": {},
     "output_type": "display_data"
    },
    {
     "data": {
      "text/plain": [
       "<catboost.core.CatBoostRegressor at 0x17768ad60>"
      ]
     },
     "execution_count": 50,
     "metadata": {},
     "output_type": "execute_result"
    }
   ],
   "source": [
    "cat.fit(df_train_features\n",
    "        ,df_train_target_rougher\n",
    "        ,verbose=False\n",
    "        ,plot=True )"
   ]
  },
  {
   "cell_type": "code",
   "execution_count": 51,
   "metadata": {},
   "outputs": [
    {
     "data": {
      "application/vnd.jupyter.widget-view+json": {
       "model_id": "668299e708cf4ee7b951e3059603a59c",
       "version_major": 2,
       "version_minor": 0
      },
      "text/plain": [
       "MetricVisualizer(layout=Layout(align_self='stretch', height='500px'))"
      ]
     },
     "metadata": {},
     "output_type": "display_data"
    },
    {
     "name": "stdout",
     "output_type": "stream",
     "text": [
      "Training on fold [0/2]\n",
      "\n",
      "bestTest = 7.182145873\n",
      "bestIteration = 99\n",
      "\n",
      "Training on fold [1/2]\n",
      "\n",
      "bestTest = 7.29190513\n",
      "bestIteration = 99\n",
      "\n"
     ]
    }
   ],
   "source": [
    "from catboost import Pool, cv\n",
    "params = {\"iterations\": 100,\n",
    "          \"depth\": 2,\n",
    "          \"loss_function\": \"RMSE\",\n",
    "          \"verbose\": False}\n",
    "cv_dataset = Pool(data=df_train_features,\n",
    "                  label=df_train_target_rougher)\n",
    "scores = cv(cv_dataset,\n",
    "            params,\n",
    "            fold_count=2, \n",
    "            plot=\"True\")"
   ]
  },
  {
   "cell_type": "markdown",
   "metadata": {},
   "source": [
    "#### Дерево решений"
   ]
  },
  {
   "cell_type": "markdown",
   "metadata": {},
   "source": [
    "##### Предсказываем обогащение в черновом концентрате"
   ]
  },
  {
   "cell_type": "code",
   "execution_count": 52,
   "metadata": {
    "scrolled": false
   },
   "outputs": [
    {
     "name": "stdout",
     "output_type": "stream",
     "text": [
      "Best score: -6.3961268021138356\n",
      "Best params: {'max_depth': 12, 'min_samples_leaf': 99, 'min_samples_split': 7}\n",
      "CPU times: user 1.6 s, sys: 259 ms, total: 1.86 s\n",
      "Wall time: 28.6 s\n"
     ]
    }
   ],
   "source": [
    "%%time\n",
    "\n",
    "param = {\n",
    "    'max_depth': randint(1, 30)\n",
    "    , 'min_samples_leaf': randint(1, 100)\n",
    "    , 'min_samples_split': randint(2, 100)\n",
    "}\n",
    "\n",
    "model = DecisionTreeRegressor(random_state=12345)\n",
    "\n",
    "randomsearch = RandomizedSearchCV(model\n",
    "                                  , param_distributions=param\n",
    "                                  , n_iter=100\n",
    "                                  , cv=5\n",
    "                                  , n_jobs=-1\n",
    "                                  , scoring = smape_scorer\n",
    "                                  , return_train_score=True\n",
    "                                  , random_state=12345)\n",
    "\n",
    "randomsearch.fit(df_train_features, df_train_target_rougher)\n",
    "print('Best score:', randomsearch.best_score_)\n",
    "print('Best params:', randomsearch.best_params_)"
   ]
  },
  {
   "cell_type": "code",
   "execution_count": 53,
   "metadata": {
    "scrolled": true
   },
   "outputs": [
    {
     "name": "stdout",
     "output_type": "stream",
     "text": [
      "Rougher sMAPE: -5.990398452975329%\n",
      "CPU times: user 6.13 s, sys: 32.6 ms, total: 6.16 s\n",
      "Wall time: 6.17 s\n"
     ]
    }
   ],
   "source": [
    "%%time\n",
    "\n",
    "model = DecisionTreeRegressor(random_state=12345\n",
    "                      , max_depth=12\n",
    "                      , min_samples_leaf=99\n",
    "                      , min_samples_split=7)\n",
    "\n",
    "scores = cross_val_score(model\n",
    "                , df_train_features\n",
    "                , df_train_target_rougher\n",
    "                , scoring = smape_scorer\n",
    "                , cv=N_FOLDS)\n",
    "\n",
    "smape_r = scores.mean()\n",
    "\n",
    "print(f'Rougher sMAPE: {smape_r}%')"
   ]
  },
  {
   "cell_type": "markdown",
   "metadata": {},
   "source": [
    "##### Предсказываем обогащение в финальном концентрате"
   ]
  },
  {
   "cell_type": "code",
   "execution_count": 54,
   "metadata": {},
   "outputs": [
    {
     "name": "stdout",
     "output_type": "stream",
     "text": [
      "Best score: -9.048609375674818\n",
      "Best params: {'max_depth': 2, 'min_samples_leaf': 60, 'min_samples_split': 16}\n",
      "CPU times: user 1.26 s, sys: 181 ms, total: 1.44 s\n",
      "Wall time: 31.5 s\n"
     ]
    }
   ],
   "source": [
    "%%time\n",
    "\n",
    "param = {\n",
    "    'max_depth': randint(1, 30)\n",
    "    , 'min_samples_leaf': randint(1, 100)\n",
    "    , 'min_samples_split': randint(2, 100)\n",
    "}\n",
    "\n",
    "model = DecisionTreeRegressor(random_state=12345)\n",
    "\n",
    "randomsearch = RandomizedSearchCV(model\n",
    "                                  , param_distributions=param\n",
    "                                  , n_iter=100\n",
    "                                  , cv=5\n",
    "                                  , n_jobs=-1\n",
    "                                  , scoring = smape_scorer\n",
    "                                  , return_train_score=True\n",
    "                                  , random_state=12345)\n",
    "\n",
    "randomsearch.fit(df_train_features, df_train_target_final)\n",
    "print('Best score:', randomsearch.best_score_)\n",
    "print('Best params:', randomsearch.best_params_)"
   ]
  },
  {
   "cell_type": "code",
   "execution_count": 55,
   "metadata": {},
   "outputs": [
    {
     "name": "stdout",
     "output_type": "stream",
     "text": [
      "Final sMAPE: 9.026637342185975%\n",
      "CPU times: user 1.98 s, sys: 12.5 ms, total: 1.99 s\n",
      "Wall time: 2 s\n"
     ]
    }
   ],
   "source": [
    "%%time\n",
    "\n",
    "model = DecisionTreeRegressor(random_state=12345\n",
    "                      , max_depth=2\n",
    "                      , min_samples_leaf=60\n",
    "                      , min_samples_split=16)\n",
    "\n",
    "scores = cross_val_score(model\n",
    "                , df_train_features\n",
    "                , df_train_target_final\n",
    "                , scoring = smape_scorer\n",
    "                , cv=N_FOLDS)\n",
    "\n",
    "smape_f = scores.mean()\n",
    "\n",
    "print(f'Final sMAPE: {np.abs(smape_f)}%')"
   ]
  },
  {
   "cell_type": "code",
   "execution_count": 56,
   "metadata": {},
   "outputs": [
    {
     "name": "stdout",
     "output_type": "stream",
     "text": [
      "Итоговое sMAPE: 8.267577619883314\n"
     ]
    }
   ],
   "source": [
    "print('Итоговое sMAPE:', total_smape(smape_r,smape_f))"
   ]
  },
  {
   "cell_type": "markdown",
   "metadata": {},
   "source": [
    "#### Случайный лес"
   ]
  },
  {
   "cell_type": "markdown",
   "metadata": {},
   "source": [
    "##### Предсказываем обогащение в черновом концентрате"
   ]
  },
  {
   "cell_type": "code",
   "execution_count": 57,
   "metadata": {},
   "outputs": [
    {
     "name": "stdout",
     "output_type": "stream",
     "text": [
      "Best score: -7.3537795456615385\n",
      "Best params: {'max_depth': 13, 'min_samples_leaf': 90, 'min_samples_split': 27, 'n_estimators': 1}\n",
      "CPU times: user 677 ms, sys: 90.1 ms, total: 767 ms\n",
      "Wall time: 1min 7s\n"
     ]
    }
   ],
   "source": [
    "%%time\n",
    "\n",
    "param = {\n",
    "    'n_estimators': randint(1, 30)\n",
    "    , 'max_depth': randint(1, 30)\n",
    "    , 'min_samples_leaf': randint(1, 100)\n",
    "    , 'min_samples_split': randint(2, 100)\n",
    "}\n",
    "\n",
    "\n",
    "model = RandomForestRegressor(random_state=12345)\n",
    "\n",
    "randomsearch = RandomizedSearchCV(model\n",
    "                                  , param_distributions=param\n",
    "                                  , n_iter=60\n",
    "                                  , cv=3\n",
    "                                  , n_jobs=-1\n",
    "                                  , scoring = smape_scorer\n",
    "                                  , return_train_score=True\n",
    "                                  , random_state=12345)\n",
    "\n",
    "randomsearch.fit(df_train_features, df_train_target_rougher)\n",
    "print('Best score:', randomsearch.best_score_)\n",
    "print('Best params:', randomsearch.best_params_)"
   ]
  },
  {
   "cell_type": "code",
   "execution_count": 58,
   "metadata": {},
   "outputs": [
    {
     "name": "stdout",
     "output_type": "stream",
     "text": [
      "Rougher sMAPE: -6.320264874379754%\n",
      "CPU times: user 3.46 s, sys: 23.3 ms, total: 3.49 s\n",
      "Wall time: 3.49 s\n"
     ]
    }
   ],
   "source": [
    "%%time\n",
    "\n",
    "model = RandomForestRegressor(random_state=12345\n",
    "                      , max_depth=13\n",
    "                      , min_samples_leaf=90\n",
    "                      , min_samples_split=27\n",
    "                      , n_estimators=1)\n",
    "\n",
    "scores = cross_val_score(model\n",
    "                , df_train_features\n",
    "                , df_train_target_rougher\n",
    "                , scoring = smape_scorer\n",
    "                , cv=N_FOLDS)\n",
    "\n",
    "smape_r = scores.mean()\n",
    "\n",
    "print(f'Rougher sMAPE: {smape_r}%')"
   ]
  },
  {
   "cell_type": "markdown",
   "metadata": {},
   "source": [
    "##### Предсказываем обогащение в финальном концентрате"
   ]
  },
  {
   "cell_type": "code",
   "execution_count": 59,
   "metadata": {
    "scrolled": true
   },
   "outputs": [
    {
     "name": "stdout",
     "output_type": "stream",
     "text": [
      "Best score: -9.654843380450192\n",
      "Best params: {'max_depth': 1, 'min_samples_leaf': 4, 'min_samples_split': 7, 'n_estimators': 16}\n",
      "CPU times: user 981 ms, sys: 82 ms, total: 1.06 s\n",
      "Wall time: 1min 12s\n"
     ]
    }
   ],
   "source": [
    "%%time\n",
    "\n",
    "param = {\n",
    "    'n_estimators': randint(1, 30)\n",
    "    , 'max_depth': randint(1, 30)\n",
    "    , 'min_samples_leaf': randint(1, 100)\n",
    "    , 'min_samples_split': randint(2, 100)\n",
    "}\n",
    "\n",
    "\n",
    "model = RandomForestRegressor(random_state=12345)\n",
    "\n",
    "randomsearch = RandomizedSearchCV(model\n",
    "                                  , param_distributions=param\n",
    "                                  , n_iter=60\n",
    "                                  , cv=3\n",
    "                                  , n_jobs=-1\n",
    "                                  , scoring = smape_scorer\n",
    "                                  , return_train_score=True\n",
    "                                  , random_state=12345)\n",
    "\n",
    "randomsearch.fit(df_train_features, df_train_target_final)\n",
    "print('Best score:', randomsearch.best_score_)\n",
    "print('Best params:', randomsearch.best_params_)"
   ]
  },
  {
   "cell_type": "code",
   "execution_count": 60,
   "metadata": {},
   "outputs": [
    {
     "name": "stdout",
     "output_type": "stream",
     "text": [
      "Final sMAPE: 9.072747181649627%\n",
      "CPU times: user 34.7 s, sys: 154 ms, total: 34.9 s\n",
      "Wall time: 34.9 s\n"
     ]
    }
   ],
   "source": [
    "%%time\n",
    "\n",
    "model = RandomForestRegressor(random_state=12345\n",
    "                      , max_depth=1\n",
    "                      , min_samples_leaf=91\n",
    "                      , min_samples_split=46\n",
    "                      , n_estimators=58)\n",
    "\n",
    "scores = cross_val_score(model\n",
    "                , df_train_features\n",
    "                , df_train_target_final\n",
    "                , scoring = smape_scorer\n",
    "                , cv=N_FOLDS)\n",
    "\n",
    "smape_f = scores.mean()\n",
    "\n",
    "print(f'Final sMAPE: {np.abs(smape_f)}%')"
   ]
  },
  {
   "cell_type": "code",
   "execution_count": 61,
   "metadata": {},
   "outputs": [
    {
     "name": "stdout",
     "output_type": "stream",
     "text": [
      "Итоговое sMAPE: 8.384626604832158\n"
     ]
    }
   ],
   "source": [
    "print('Итоговое sMAPE:', total_smape(smape_r,smape_f))"
   ]
  },
  {
   "cell_type": "markdown",
   "metadata": {},
   "source": [
    "#### Линейная регрессия"
   ]
  },
  {
   "cell_type": "markdown",
   "metadata": {},
   "source": [
    "##### Предсказываем обогащение в черновом концентрате"
   ]
  },
  {
   "cell_type": "code",
   "execution_count": 62,
   "metadata": {
    "scrolled": true
   },
   "outputs": [
    {
     "name": "stdout",
     "output_type": "stream",
     "text": [
      "Rougth sMAPE: 5.505360935703282%\n",
      "CPU times: user 23.9 s, sys: 19.8 s, total: 43.7 s\n",
      "Wall time: 5.85 s\n"
     ]
    }
   ],
   "source": [
    "%%time\n",
    "model = LinearRegression()\n",
    "\n",
    "scores = cross_val_score(model\n",
    "                , df_train_features\n",
    "                , df_train_target_rougher\n",
    "                , scoring = smape_scorer\n",
    "                , cv=N_FOLDS)\n",
    "\n",
    "smape_r = scores.mean()\n",
    "\n",
    "print(f'Rougth sMAPE: {np.abs(smape_r)}%')"
   ]
  },
  {
   "cell_type": "markdown",
   "metadata": {},
   "source": [
    "##### Предсказываем обогащение в финальном концентрате"
   ]
  },
  {
   "cell_type": "code",
   "execution_count": 63,
   "metadata": {
    "scrolled": true
   },
   "outputs": [
    {
     "name": "stdout",
     "output_type": "stream",
     "text": [
      "Final sMAPE: 9.020958388125102%\n",
      "CPU times: user 24.2 s, sys: 21.1 s, total: 45.3 s\n",
      "Wall time: 5.97 s\n"
     ]
    }
   ],
   "source": [
    "%%time\n",
    "model = LinearRegression()\n",
    "\n",
    "scores = cross_val_score(model\n",
    "                , df_train_features\n",
    "                , df_train_target_final\n",
    "                , scoring = smape_scorer\n",
    "                , cv=N_FOLDS)\n",
    "\n",
    "smape_f = scores.mean()\n",
    "\n",
    "print(f'Final sMAPE: {np.abs(smape_f)}%')"
   ]
  },
  {
   "cell_type": "code",
   "execution_count": 64,
   "metadata": {},
   "outputs": [
    {
     "name": "stdout",
     "output_type": "stream",
     "text": [
      "Итоговое sMAPE: 8.142059025019647\n"
     ]
    }
   ],
   "source": [
    "print('Итоговое sMAPE:', total_smape(smape_r,smape_f))"
   ]
  },
  {
   "cell_type": "markdown",
   "metadata": {},
   "source": [
    "#### DummyRegressor"
   ]
  },
  {
   "cell_type": "code",
   "execution_count": 66,
   "metadata": {},
   "outputs": [
    {
     "name": "stdout",
     "output_type": "stream",
     "text": [
      "linear_smape_r: -5.505360935703282%\n",
      "dummy_smape_r: -7.368897569666956%\n",
      "\n",
      "linear_smape_f: -9.020958388125102%\n",
      "dummy_smape_f: -10.016293341575425%\n",
      "\n",
      "Итоговое sMAPE LinearRegression: 8.142059025019647%\n",
      "Итоговое Dummy sMAPE: 9.354444398598307%\n"
     ]
    }
   ],
   "source": [
    "model = DummyRegressor()\n",
    "\n",
    "scores = cross_val_score(model\n",
    "                , df_train_features\n",
    "                , df_train_target_rougher\n",
    "                , scoring = smape_scorer\n",
    "                , cv=N_FOLDS)\n",
    "\n",
    "dummy_smape_f = scores.mean()\n",
    "\n",
    "print(f'linear_smape_r: {smape_r}%')\n",
    "print(f'dummy_smape_r: {dummy_smape_f}%')\n",
    "\n",
    "model = DummyRegressor()\n",
    "\n",
    "scores = cross_val_score(model\n",
    "                , df_train_features\n",
    "                , df_train_target_final\n",
    "                , scoring = smape_scorer\n",
    "                , cv=N_FOLDS)\n",
    "\n",
    "dummy_smape_f = scores.mean()\n",
    "print()\n",
    "\n",
    "print(f'linear_smape_f: {smape_f}%')\n",
    "print(f'dummy_smape_f: {dummy_smape_f}%')\n",
    "\n",
    "print()\n",
    "print(f'Итоговое sMAPE LinearRegression: {total_smape(smape_r,smape_f)}%')\n",
    "print(f'Итоговое Dummy sMAPE: {total_smape(dummy_smape_r,dummy_smape_f)}%')"
   ]
  },
  {
   "cell_type": "markdown",
   "metadata": {},
   "source": [
    "### Выберите лучшую модель и проверьте её на тестовой выборке."
   ]
  },
  {
   "cell_type": "markdown",
   "metadata": {},
   "source": [
    "#### Случайный лес."
   ]
  },
  {
   "cell_type": "code",
   "execution_count": 67,
   "metadata": {},
   "outputs": [
    {
     "name": "stdout",
     "output_type": "stream",
     "text": [
      "sMAPE: 8.707391840461142%\n"
     ]
    }
   ],
   "source": [
    "model = RandomForestRegressor(random_state=12345\n",
    "                      , max_depth=13\n",
    "                      , min_samples_leaf=90\n",
    "                      , min_samples_split=27\n",
    "                      , n_estimators=1)\n",
    "\n",
    "model.fit(df_train_features, df_train_target_rougher)\n",
    "predictions = model.predict(df_test_features)\n",
    "smape_r = smape(predictions,df_test_target_rougher)\n",
    "print(f'sMAPE: {smape_r}%')"
   ]
  },
  {
   "cell_type": "code",
   "execution_count": 68,
   "metadata": {},
   "outputs": [
    {
     "name": "stdout",
     "output_type": "stream",
     "text": [
      "sMAPE: 8.962754964316055%\n"
     ]
    }
   ],
   "source": [
    "model = RandomForestRegressor(random_state=12345\n",
    "                      , max_depth=1\n",
    "                      , min_samples_leaf=91\n",
    "                      , min_samples_split=46\n",
    "                      , n_estimators=58)\n",
    "\n",
    "model.fit(df_train_features, df_train_target_final)\n",
    "predictions = model.predict(df_test_features)\n",
    "smape_f = smape(predictions,df_test_target_final)\n",
    "print(f'sMAPE: {smape_f}%')"
   ]
  },
  {
   "cell_type": "code",
   "execution_count": 69,
   "metadata": {},
   "outputs": [
    {
     "name": "stdout",
     "output_type": "stream",
     "text": [
      "RandomForestRegressor Итоговое sMAPE: 8.898914183352327%\n"
     ]
    }
   ],
   "source": [
    "print(f'RandomForestRegressor Итоговое sMAPE: {total_smape(smape_r,smape_f)}%')"
   ]
  },
  {
   "cell_type": "markdown",
   "metadata": {},
   "source": [
    "#### Линейная регрессия"
   ]
  },
  {
   "cell_type": "code",
   "execution_count": 70,
   "metadata": {},
   "outputs": [
    {
     "name": "stdout",
     "output_type": "stream",
     "text": [
      "sMAPE: 8.594064334603253%\n",
      "sMAPE: 8.918940698029939%\n",
      "LinearRegression Итоговое sMAPE: 8.837721607173268%\n"
     ]
    }
   ],
   "source": [
    "model = LinearRegression()\n",
    "model.fit(df_train_features, df_train_target_rougher)\n",
    "predictions = model.predict(df_test_features)\n",
    "smape_r = smape(predictions,df_test_target_rougher)\n",
    "\n",
    "\n",
    "model.fit(df_train_features, df_train_target_final)\n",
    "predictions = model.predict(df_test_features)\n",
    "smape_f = smape(predictions,df_test_target_final)\n",
    "\n",
    "\n",
    "print(f'sMAPE: {smape_r}%')\n",
    "print(f'sMAPE: {smape_f}%')\n",
    "\n",
    "print(f'LinearRegression Итоговое sMAPE: {total_smape(smape_r,smape_f)}%')"
   ]
  },
  {
   "cell_type": "markdown",
   "metadata": {},
   "source": [
    "#### Dummy"
   ]
  },
  {
   "cell_type": "code",
   "execution_count": 71,
   "metadata": {},
   "outputs": [
    {
     "name": "stdout",
     "output_type": "stream",
     "text": [
      "dummy_smape_r: 8.82%\n",
      "Linear_smape_r: 8.59%\n",
      "dummy_smape_f: 9.43%\n",
      "Linear_smape_r: 8.92%\n",
      "\n",
      "LinearRegression Итоговое sMAPE : 8.84%\n",
      "Dummy Итоговое  sMAPE: 9.27%\n",
      "\n",
      "Дельта Итогового sMAPE: -0.44\n"
     ]
    }
   ],
   "source": [
    "model = DummyRegressor()\n",
    "model.fit(df_train_features, df_train_target_rougher)\n",
    "predictions = model.predict(df_test_features)\n",
    "dummy_smape_r = smape(predictions,df_test_target_rougher)\n",
    "\n",
    "print(f'dummy_smape_r: {dummy_smape_r:.2f}%')\n",
    "print(f'Linear_smape_r: {smape_r:.2f}%')\n",
    "\n",
    "model.fit(df_train_features, df_train_target_final)\n",
    "predictions = model.predict(df_test_features)\n",
    "dummy_smape_f = smape(predictions,df_test_target_final)\n",
    "\n",
    "print(f'dummy_smape_f: {dummy_smape_f:.2f}%')\n",
    "print(f'Linear_smape_r: {smape_f:.2f}%')\n",
    "\n",
    "print()\n",
    "print(f'LinearRegression Итоговое sMAPE : {total_smape(smape_r,smape_f):.2f}%')\n",
    "print(f'Dummy Итоговое  sMAPE: {total_smape(dummy_smape_r,dummy_smape_f):.2f}%')\n",
    "\n",
    "print()\n",
    "print(f'Дельта Итогового sMAPE: {total_smape(smape_r,smape_f)-total_smape(dummy_smape_r,dummy_smape_f):.2f}')"
   ]
  },
  {
   "cell_type": "markdown",
   "metadata": {},
   "source": [
    "### Опишите выводы."
   ]
  },
  {
   "cell_type": "markdown",
   "metadata": {},
   "source": [
    "<div class=\"alert alert-info\">\n",
    "    <b>Вывод:</b> \n",
    "    Мы не далеко ушли от Dummy модели с моделью линейной регрессии:<br \\> \n",
    "    Итоговое значение sMAPE на 0.44% меньше, чем DummyRegressor.<br \\>\n",
    "    Возможно стоит: <br \\>\n",
    "        - попробовать выявить несущественные признаки<br \\>\n",
    "        - подойти к вопросу выбора признаков для обучения по-другому, например разделить признаки разных этапов обогащения для наших двух моделей(для флотации и финального концентрата).\n",
    "</div>"
   ]
  },
  {
   "cell_type": "markdown",
   "metadata": {},
   "source": [
    "## Чек-лист готовности проекта"
   ]
  },
  {
   "cell_type": "markdown",
   "metadata": {},
   "source": [
    "- [x]  Jupyter Notebook открыт\n",
    "- [x]  Весь код выполняется без ошибок\n",
    "- [x]  Ячейки с кодом расположены в порядке выполнения\n",
    "- [x]  Выполнен шаг 1: данные подготовлены\n",
    "    - [x]  Проверена формула вычисления эффективности обогащения\n",
    "    - [x]  Проанализированы признаки, недоступные в тестовой выборке\n",
    "    - [x]  Проведена предобработка данных\n",
    "- [x]  Выполнен шаг 2: данные проанализированы\n",
    "    - [x]  Исследовано изменение концентрации элементов на каждом этапе\n",
    "    - [x]  Проанализированы распределения размеров гранул на обучающей и тестовой выборках\n",
    "    - [x]  Исследованы суммарные концентрации\n",
    "- [x]  Выполнен шаг 3: построена модель прогнозирования\n",
    "    - [x]  Написана функция для вычисления итогового *sMAPE*\n",
    "    - [x]  Обучено и проверено несколько моделей\n",
    "    - [x]  Выбрана лучшая модель, её качество проверено на тестовой выборке"
   ]
  }
 ],
 "metadata": {
  "ExecuteTimeLog": [
   {
    "duration": 430,
    "start_time": "2022-08-30T18:43:58.311Z"
   },
   {
    "duration": 56,
    "start_time": "2022-08-30T18:45:24.742Z"
   },
   {
    "duration": 2181,
    "start_time": "2022-08-30T18:45:26.528Z"
   },
   {
    "duration": 61,
    "start_time": "2022-08-30T18:45:28.710Z"
   },
   {
    "duration": 42,
    "start_time": "2022-08-30T18:46:15.793Z"
   },
   {
    "duration": 8,
    "start_time": "2022-08-30T19:43:04.903Z"
   },
   {
    "duration": 10,
    "start_time": "2022-08-30T19:43:16.925Z"
   },
   {
    "duration": 6,
    "start_time": "2022-08-30T19:43:27.008Z"
   },
   {
    "duration": 7,
    "start_time": "2022-08-30T19:43:58.163Z"
   },
   {
    "duration": 104,
    "start_time": "2022-08-30T19:44:15.252Z"
   },
   {
    "duration": 8,
    "start_time": "2022-08-30T19:44:19.324Z"
   },
   {
    "duration": 9,
    "start_time": "2022-08-30T19:44:35.841Z"
   },
   {
    "duration": 7,
    "start_time": "2022-08-30T19:45:22.059Z"
   },
   {
    "duration": 8,
    "start_time": "2022-08-30T19:50:37.082Z"
   },
   {
    "duration": 6,
    "start_time": "2022-08-30T19:50:43.441Z"
   },
   {
    "duration": 7,
    "start_time": "2022-08-30T19:50:54.485Z"
   },
   {
    "duration": 49,
    "start_time": "2022-08-30T19:50:57.483Z"
   },
   {
    "duration": 38,
    "start_time": "2022-08-30T19:51:05.659Z"
   },
   {
    "duration": 53,
    "start_time": "2022-08-30T19:51:55.898Z"
   },
   {
    "duration": 48,
    "start_time": "2022-08-31T09:47:45.631Z"
   },
   {
    "duration": 363,
    "start_time": "2022-08-31T09:47:49.359Z"
   },
   {
    "duration": 3112,
    "start_time": "2022-08-31T09:47:49.724Z"
   },
   {
    "duration": 6,
    "start_time": "2022-08-31T09:47:52.838Z"
   },
   {
    "duration": 17,
    "start_time": "2022-08-31T09:47:52.848Z"
   },
   {
    "duration": 61,
    "start_time": "2022-08-31T09:47:52.867Z"
   },
   {
    "duration": 86,
    "start_time": "2022-08-31T09:47:52.930Z"
   },
   {
    "duration": 24,
    "start_time": "2022-08-31T09:47:56.440Z"
   },
   {
    "duration": 9,
    "start_time": "2022-08-31T09:48:04.370Z"
   },
   {
    "duration": 9,
    "start_time": "2022-08-31T09:48:16.137Z"
   },
   {
    "duration": 8,
    "start_time": "2022-08-31T09:48:25.695Z"
   },
   {
    "duration": 8,
    "start_time": "2022-08-31T09:48:52.291Z"
   },
   {
    "duration": 10,
    "start_time": "2022-08-31T09:48:57.082Z"
   },
   {
    "duration": 8,
    "start_time": "2022-08-31T09:49:26.823Z"
   },
   {
    "duration": 8,
    "start_time": "2022-08-31T09:49:29.758Z"
   },
   {
    "duration": 9,
    "start_time": "2022-08-31T09:49:41.730Z"
   },
   {
    "duration": 9,
    "start_time": "2022-08-31T09:49:44.731Z"
   },
   {
    "duration": 10,
    "start_time": "2022-08-31T09:49:47.069Z"
   },
   {
    "duration": 45,
    "start_time": "2022-08-31T10:15:33.502Z"
   },
   {
    "duration": 9,
    "start_time": "2022-08-31T10:15:53.192Z"
   },
   {
    "duration": 8,
    "start_time": "2022-08-31T10:15:56.963Z"
   },
   {
    "duration": 8,
    "start_time": "2022-08-31T10:16:07.299Z"
   },
   {
    "duration": 5,
    "start_time": "2022-08-31T10:16:20.123Z"
   },
   {
    "duration": 4,
    "start_time": "2022-08-31T10:16:25.081Z"
   },
   {
    "duration": 10,
    "start_time": "2022-08-31T10:16:46.018Z"
   },
   {
    "duration": 7,
    "start_time": "2022-08-31T10:16:54.063Z"
   },
   {
    "duration": 5,
    "start_time": "2022-08-31T10:17:04.483Z"
   },
   {
    "duration": 7,
    "start_time": "2022-08-31T10:17:05.229Z"
   },
   {
    "duration": 6,
    "start_time": "2022-08-31T10:17:26.570Z"
   },
   {
    "duration": 8,
    "start_time": "2022-08-31T10:17:27.385Z"
   },
   {
    "duration": 0,
    "start_time": "2022-08-31T10:18:59.129Z"
   },
   {
    "duration": 0,
    "start_time": "2022-08-31T10:18:59.130Z"
   },
   {
    "duration": 6,
    "start_time": "2022-08-31T10:19:01.762Z"
   },
   {
    "duration": 9,
    "start_time": "2022-08-31T10:19:02.422Z"
   },
   {
    "duration": 6,
    "start_time": "2022-08-31T10:19:16.184Z"
   },
   {
    "duration": 6,
    "start_time": "2022-08-31T10:19:20.579Z"
   },
   {
    "duration": 14,
    "start_time": "2022-08-31T10:19:27.202Z"
   },
   {
    "duration": 1200,
    "start_time": "2022-08-31T10:21:03.853Z"
   },
   {
    "duration": 3270,
    "start_time": "2022-08-31T10:21:35.080Z"
   },
   {
    "duration": 731,
    "start_time": "2022-08-31T10:30:30.337Z"
   },
   {
    "duration": 5,
    "start_time": "2022-08-31T10:33:52.734Z"
   },
   {
    "duration": 58,
    "start_time": "2022-08-31T10:34:09.260Z"
   },
   {
    "duration": 4,
    "start_time": "2022-08-31T10:36:23.740Z"
   },
   {
    "duration": 3,
    "start_time": "2022-08-31T10:36:44.568Z"
   },
   {
    "duration": 6,
    "start_time": "2022-08-31T10:36:52.699Z"
   },
   {
    "duration": 44,
    "start_time": "2022-08-31T10:36:55.921Z"
   },
   {
    "duration": 4,
    "start_time": "2022-08-31T10:37:03.970Z"
   },
   {
    "duration": 9,
    "start_time": "2022-08-31T10:48:44.050Z"
   },
   {
    "duration": 4,
    "start_time": "2022-08-31T10:48:59.202Z"
   },
   {
    "duration": 11,
    "start_time": "2022-08-31T10:50:13.800Z"
   },
   {
    "duration": 9,
    "start_time": "2022-08-31T10:50:41.258Z"
   },
   {
    "duration": 11,
    "start_time": "2022-08-31T10:51:03.278Z"
   },
   {
    "duration": 11,
    "start_time": "2022-08-31T10:52:19.824Z"
   },
   {
    "duration": 7,
    "start_time": "2022-08-31T10:52:49.513Z"
   },
   {
    "duration": 7,
    "start_time": "2022-08-31T10:53:58.125Z"
   },
   {
    "duration": 8,
    "start_time": "2022-08-31T10:54:07.435Z"
   },
   {
    "duration": 8,
    "start_time": "2022-08-31T10:54:20.093Z"
   },
   {
    "duration": 7,
    "start_time": "2022-08-31T10:55:03.723Z"
   },
   {
    "duration": 7,
    "start_time": "2022-08-31T11:23:01.219Z"
   },
   {
    "duration": 7,
    "start_time": "2022-08-31T11:36:40.537Z"
   },
   {
    "duration": 3,
    "start_time": "2022-08-31T13:42:47.266Z"
   },
   {
    "duration": 4,
    "start_time": "2022-08-31T13:42:58.899Z"
   },
   {
    "duration": 2955,
    "start_time": "2022-08-31T13:43:10.949Z"
   },
   {
    "duration": 5,
    "start_time": "2022-08-31T13:43:31.749Z"
   },
   {
    "duration": 4,
    "start_time": "2022-08-31T13:43:59.273Z"
   },
   {
    "duration": 4,
    "start_time": "2022-08-31T13:44:02.966Z"
   },
   {
    "duration": 4,
    "start_time": "2022-08-31T13:44:10.847Z"
   },
   {
    "duration": 6,
    "start_time": "2022-08-31T13:44:40.445Z"
   },
   {
    "duration": 5,
    "start_time": "2022-08-31T13:44:44.022Z"
   },
   {
    "duration": 5,
    "start_time": "2022-08-31T13:44:47.226Z"
   },
   {
    "duration": 10,
    "start_time": "2022-08-31T13:45:20.596Z"
   },
   {
    "duration": 6,
    "start_time": "2022-08-31T13:46:34.998Z"
   },
   {
    "duration": 6,
    "start_time": "2022-08-31T13:46:42.610Z"
   },
   {
    "duration": 2,
    "start_time": "2022-08-31T13:47:33.146Z"
   },
   {
    "duration": 2,
    "start_time": "2022-08-31T13:54:35.523Z"
   },
   {
    "duration": 8,
    "start_time": "2022-08-31T14:08:26.703Z"
   },
   {
    "duration": 10,
    "start_time": "2022-08-31T14:11:03.576Z"
   },
   {
    "duration": 20,
    "start_time": "2022-08-31T14:11:31.181Z"
   },
   {
    "duration": 12,
    "start_time": "2022-08-31T14:12:16.279Z"
   },
   {
    "duration": 13,
    "start_time": "2022-08-31T14:12:54.950Z"
   },
   {
    "duration": 14,
    "start_time": "2022-08-31T14:13:49.446Z"
   },
   {
    "duration": 12,
    "start_time": "2022-08-31T14:14:06.038Z"
   },
   {
    "duration": 15,
    "start_time": "2022-08-31T14:14:39.408Z"
   },
   {
    "duration": 8,
    "start_time": "2022-08-31T14:21:31.221Z"
   },
   {
    "duration": 8,
    "start_time": "2022-08-31T14:21:49.025Z"
   },
   {
    "duration": 9,
    "start_time": "2022-08-31T14:21:54.031Z"
   },
   {
    "duration": 7,
    "start_time": "2022-08-31T14:22:03.759Z"
   },
   {
    "duration": 7,
    "start_time": "2022-08-31T14:22:07.248Z"
   },
   {
    "duration": 18,
    "start_time": "2022-08-31T14:29:03.451Z"
   },
   {
    "duration": 10,
    "start_time": "2022-08-31T14:40:15.039Z"
   },
   {
    "duration": 7,
    "start_time": "2022-08-31T14:42:14.895Z"
   },
   {
    "duration": 11,
    "start_time": "2022-08-31T14:43:56.760Z"
   },
   {
    "duration": 10,
    "start_time": "2022-08-31T14:44:30.216Z"
   },
   {
    "duration": 12,
    "start_time": "2022-08-31T14:54:13.137Z"
   },
   {
    "duration": 10,
    "start_time": "2022-08-31T14:54:16.273Z"
   },
   {
    "duration": 8,
    "start_time": "2022-08-31T14:56:13.974Z"
   },
   {
    "duration": 11,
    "start_time": "2022-08-31T14:56:59.621Z"
   },
   {
    "duration": 16,
    "start_time": "2022-08-31T14:57:18.926Z"
   },
   {
    "duration": 17,
    "start_time": "2022-08-31T14:57:24.000Z"
   },
   {
    "duration": 19,
    "start_time": "2022-08-31T14:57:28.831Z"
   },
   {
    "duration": 11,
    "start_time": "2022-08-31T14:57:43.711Z"
   },
   {
    "duration": 58,
    "start_time": "2022-08-31T14:58:10.765Z"
   },
   {
    "duration": 11,
    "start_time": "2022-08-31T14:58:13.763Z"
   },
   {
    "duration": 104,
    "start_time": "2022-08-31T14:59:54.194Z"
   },
   {
    "duration": 8,
    "start_time": "2022-08-31T17:32:36.862Z"
   },
   {
    "duration": 576,
    "start_time": "2022-09-01T13:25:05.316Z"
   },
   {
    "duration": 1013,
    "start_time": "2022-09-01T13:25:16.153Z"
   },
   {
    "duration": 1865,
    "start_time": "2022-09-01T13:25:17.168Z"
   },
   {
    "duration": 10,
    "start_time": "2022-09-01T13:25:19.035Z"
   },
   {
    "duration": 48,
    "start_time": "2022-09-01T13:25:19.047Z"
   },
   {
    "duration": 2,
    "start_time": "2022-09-01T13:25:19.107Z"
   },
   {
    "duration": 11,
    "start_time": "2022-09-01T13:25:19.110Z"
   },
   {
    "duration": 8,
    "start_time": "2022-09-01T13:25:19.122Z"
   },
   {
    "duration": 5,
    "start_time": "2022-09-01T13:25:19.131Z"
   },
   {
    "duration": 11,
    "start_time": "2022-09-01T13:25:19.137Z"
   },
   {
    "duration": 7,
    "start_time": "2022-09-01T13:25:19.150Z"
   },
   {
    "duration": 8,
    "start_time": "2022-09-01T13:25:19.159Z"
   },
   {
    "duration": 80,
    "start_time": "2022-09-01T13:25:19.169Z"
   },
   {
    "duration": 91,
    "start_time": "2022-09-01T13:25:21.315Z"
   },
   {
    "duration": 533,
    "start_time": "2022-09-01T13:25:30.642Z"
   },
   {
    "duration": 141,
    "start_time": "2022-09-01T13:26:06.787Z"
   },
   {
    "duration": 160,
    "start_time": "2022-09-01T13:27:00.273Z"
   },
   {
    "duration": 185,
    "start_time": "2022-09-01T13:27:32.347Z"
   },
   {
    "duration": 264,
    "start_time": "2022-09-01T13:27:38.109Z"
   },
   {
    "duration": 381,
    "start_time": "2022-09-01T13:28:07.282Z"
   },
   {
    "duration": 963,
    "start_time": "2022-09-01T13:33:27.372Z"
   },
   {
    "duration": 2,
    "start_time": "2022-09-01T13:34:26.582Z"
   },
   {
    "duration": 1063,
    "start_time": "2022-09-01T13:34:44.397Z"
   },
   {
    "duration": 1079,
    "start_time": "2022-09-01T13:34:48.080Z"
   },
   {
    "duration": 307,
    "start_time": "2022-09-01T13:35:19.090Z"
   },
   {
    "duration": 323,
    "start_time": "2022-09-01T13:35:23.937Z"
   },
   {
    "duration": 24,
    "start_time": "2022-09-01T13:37:51.905Z"
   },
   {
    "duration": 322,
    "start_time": "2022-09-01T13:38:08.967Z"
   },
   {
    "duration": 425,
    "start_time": "2022-09-01T13:38:15.124Z"
   },
   {
    "duration": 358,
    "start_time": "2022-09-01T13:40:05.805Z"
   },
   {
    "duration": 360,
    "start_time": "2022-09-01T13:40:33.849Z"
   },
   {
    "duration": 327,
    "start_time": "2022-09-01T13:40:53.357Z"
   },
   {
    "duration": 372,
    "start_time": "2022-09-01T13:40:57.627Z"
   },
   {
    "duration": 322,
    "start_time": "2022-09-01T13:41:04.697Z"
   },
   {
    "duration": 416,
    "start_time": "2022-09-01T13:41:13.540Z"
   },
   {
    "duration": 323,
    "start_time": "2022-09-01T13:41:18.695Z"
   },
   {
    "duration": 111,
    "start_time": "2022-09-01T13:42:18.885Z"
   },
   {
    "duration": 537,
    "start_time": "2022-09-01T13:42:23.248Z"
   },
   {
    "duration": 450,
    "start_time": "2022-09-01T13:42:30.403Z"
   },
   {
    "duration": 807,
    "start_time": "2022-09-01T13:42:40.312Z"
   },
   {
    "duration": 572,
    "start_time": "2022-09-01T13:42:51.929Z"
   },
   {
    "duration": 636,
    "start_time": "2022-09-01T13:43:25.164Z"
   },
   {
    "duration": 1424,
    "start_time": "2022-09-01T13:43:31.702Z"
   },
   {
    "duration": 1390,
    "start_time": "2022-09-01T13:44:27.058Z"
   },
   {
    "duration": 310,
    "start_time": "2022-09-01T13:47:03.140Z"
   },
   {
    "duration": 1592,
    "start_time": "2022-09-01T13:47:28.530Z"
   },
   {
    "duration": 1378,
    "start_time": "2022-09-01T13:48:03.352Z"
   },
   {
    "duration": 1388,
    "start_time": "2022-09-01T13:48:23.009Z"
   },
   {
    "duration": 495,
    "start_time": "2022-09-01T13:50:49.851Z"
   },
   {
    "duration": 309,
    "start_time": "2022-09-01T13:50:57.260Z"
   },
   {
    "duration": 1458,
    "start_time": "2022-09-01T13:51:12.005Z"
   },
   {
    "duration": 1342,
    "start_time": "2022-09-01T13:51:47.875Z"
   },
   {
    "duration": 1505,
    "start_time": "2022-09-01T13:53:56.479Z"
   },
   {
    "duration": 1421,
    "start_time": "2022-09-01T13:56:23.115Z"
   },
   {
    "duration": 1317,
    "start_time": "2022-09-01T13:56:27.966Z"
   },
   {
    "duration": 11,
    "start_time": "2022-09-01T14:04:54.695Z"
   },
   {
    "duration": 387,
    "start_time": "2022-09-01T14:05:25.085Z"
   },
   {
    "duration": 962,
    "start_time": "2022-09-01T14:05:39.593Z"
   },
   {
    "duration": 769,
    "start_time": "2022-09-01T14:05:49.901Z"
   },
   {
    "duration": 172,
    "start_time": "2022-09-01T14:06:03.526Z"
   },
   {
    "duration": 385,
    "start_time": "2022-09-01T14:06:14.357Z"
   },
   {
    "duration": 337,
    "start_time": "2022-09-01T14:06:25.913Z"
   },
   {
    "duration": 669,
    "start_time": "2022-09-01T14:09:22.230Z"
   },
   {
    "duration": 709,
    "start_time": "2022-09-01T14:09:42.724Z"
   },
   {
    "duration": 108,
    "start_time": "2022-09-01T14:11:45.872Z"
   },
   {
    "duration": 232,
    "start_time": "2022-09-01T14:12:02.332Z"
   },
   {
    "duration": 111,
    "start_time": "2022-09-01T14:12:43.233Z"
   },
   {
    "duration": 102,
    "start_time": "2022-09-01T14:12:53.280Z"
   },
   {
    "duration": 178,
    "start_time": "2022-09-01T14:16:42.689Z"
   },
   {
    "duration": 655,
    "start_time": "2022-09-01T14:16:58.917Z"
   },
   {
    "duration": 146,
    "start_time": "2022-09-01T14:17:14.738Z"
   },
   {
    "duration": 359,
    "start_time": "2022-09-01T14:17:29.665Z"
   },
   {
    "duration": 719,
    "start_time": "2022-09-01T14:18:01.073Z"
   },
   {
    "duration": 665,
    "start_time": "2022-09-01T14:18:07.068Z"
   },
   {
    "duration": 327,
    "start_time": "2022-09-01T14:20:01.307Z"
   },
   {
    "duration": 97,
    "start_time": "2022-09-01T14:21:34.327Z"
   },
   {
    "duration": 102,
    "start_time": "2022-09-01T14:21:44.016Z"
   },
   {
    "duration": 183,
    "start_time": "2022-09-01T14:22:01.576Z"
   },
   {
    "duration": 334,
    "start_time": "2022-09-01T14:26:14.222Z"
   },
   {
    "duration": 487,
    "start_time": "2022-09-01T14:26:21.896Z"
   },
   {
    "duration": 351,
    "start_time": "2022-09-01T14:26:27.285Z"
   },
   {
    "duration": 366,
    "start_time": "2022-09-01T14:26:42.168Z"
   },
   {
    "duration": 372,
    "start_time": "2022-09-01T14:27:04.606Z"
   },
   {
    "duration": 360,
    "start_time": "2022-09-01T14:27:12.828Z"
   },
   {
    "duration": 534,
    "start_time": "2022-09-01T14:27:36.309Z"
   },
   {
    "duration": 368,
    "start_time": "2022-09-01T14:28:15.473Z"
   },
   {
    "duration": 432,
    "start_time": "2022-09-01T14:28:41.236Z"
   },
   {
    "duration": 1501,
    "start_time": "2022-09-01T14:29:20.388Z"
   },
   {
    "duration": 264,
    "start_time": "2022-09-01T14:35:52.281Z"
   },
   {
    "duration": 123,
    "start_time": "2022-09-01T14:37:08.369Z"
   },
   {
    "duration": 252,
    "start_time": "2022-09-01T14:37:22.929Z"
   },
   {
    "duration": 92,
    "start_time": "2022-09-01T14:38:33.929Z"
   },
   {
    "duration": 265,
    "start_time": "2022-09-01T14:38:40.911Z"
   },
   {
    "duration": 206,
    "start_time": "2022-09-01T14:39:39.066Z"
   },
   {
    "duration": 242,
    "start_time": "2022-09-01T14:39:45.905Z"
   },
   {
    "duration": 406,
    "start_time": "2022-09-01T14:40:05.975Z"
   },
   {
    "duration": 248,
    "start_time": "2022-09-01T14:40:36.226Z"
   },
   {
    "duration": 253,
    "start_time": "2022-09-01T14:40:56.297Z"
   },
   {
    "duration": 276,
    "start_time": "2022-09-01T14:41:14.875Z"
   },
   {
    "duration": 245,
    "start_time": "2022-09-01T14:41:21.033Z"
   },
   {
    "duration": 247,
    "start_time": "2022-09-01T14:41:55.670Z"
   },
   {
    "duration": 672,
    "start_time": "2022-09-01T14:42:42.952Z"
   },
   {
    "duration": 510,
    "start_time": "2022-09-01T14:42:55.237Z"
   },
   {
    "duration": 524,
    "start_time": "2022-09-01T14:43:26.505Z"
   },
   {
    "duration": 89,
    "start_time": "2022-09-01T14:45:23.058Z"
   },
   {
    "duration": 98,
    "start_time": "2022-09-01T14:45:26.456Z"
   },
   {
    "duration": 1533,
    "start_time": "2022-09-01T14:45:29.217Z"
   },
   {
    "duration": 1467,
    "start_time": "2022-09-01T14:45:52.453Z"
   },
   {
    "duration": 1466,
    "start_time": "2022-09-01T14:45:58.096Z"
   },
   {
    "duration": 515,
    "start_time": "2022-09-01T14:46:52.045Z"
   },
   {
    "duration": 362,
    "start_time": "2022-09-01T14:47:01.193Z"
   },
   {
    "duration": 149,
    "start_time": "2022-09-01T14:47:41.701Z"
   },
   {
    "duration": 354,
    "start_time": "2022-09-01T14:48:18.310Z"
   },
   {
    "duration": 391,
    "start_time": "2022-09-01T14:48:58.513Z"
   },
   {
    "duration": 811,
    "start_time": "2022-09-01T14:49:37.805Z"
   },
   {
    "duration": 635,
    "start_time": "2022-09-01T14:49:49.805Z"
   },
   {
    "duration": 560,
    "start_time": "2022-09-01T14:49:58.104Z"
   },
   {
    "duration": 1754,
    "start_time": "2022-09-01T15:27:15.347Z"
   },
   {
    "duration": 1493,
    "start_time": "2022-09-01T15:28:10.173Z"
   },
   {
    "duration": 3,
    "start_time": "2022-09-01T15:59:16.479Z"
   },
   {
    "duration": 4,
    "start_time": "2022-09-01T16:05:35.220Z"
   },
   {
    "duration": 8,
    "start_time": "2022-09-01T16:07:51.222Z"
   },
   {
    "duration": 8,
    "start_time": "2022-09-01T16:08:24.756Z"
   },
   {
    "duration": 9,
    "start_time": "2022-09-01T16:09:07.077Z"
   },
   {
    "duration": 7,
    "start_time": "2022-09-01T16:09:11.276Z"
   },
   {
    "duration": 7,
    "start_time": "2022-09-01T16:09:18.074Z"
   },
   {
    "duration": 11,
    "start_time": "2022-09-01T16:13:55.725Z"
   },
   {
    "duration": 10,
    "start_time": "2022-09-01T16:14:04.141Z"
   },
   {
    "duration": 8,
    "start_time": "2022-09-01T16:17:17.201Z"
   },
   {
    "duration": 9,
    "start_time": "2022-09-01T16:20:47.324Z"
   },
   {
    "duration": 11,
    "start_time": "2022-09-01T16:21:10.537Z"
   },
   {
    "duration": 10,
    "start_time": "2022-09-01T16:21:30.749Z"
   },
   {
    "duration": 12,
    "start_time": "2022-09-01T16:21:37.436Z"
   },
   {
    "duration": 15,
    "start_time": "2022-09-01T16:27:38.515Z"
   },
   {
    "duration": 9,
    "start_time": "2022-09-01T16:28:15.132Z"
   },
   {
    "duration": 9,
    "start_time": "2022-09-01T16:28:37.756Z"
   },
   {
    "duration": 75,
    "start_time": "2022-09-01T16:28:54.780Z"
   },
   {
    "duration": 10,
    "start_time": "2022-09-01T16:28:57.477Z"
   },
   {
    "duration": 5,
    "start_time": "2022-09-01T16:31:19.457Z"
   },
   {
    "duration": 10,
    "start_time": "2022-09-01T16:31:20.555Z"
   },
   {
    "duration": 151,
    "start_time": "2022-09-01T16:31:25.162Z"
   },
   {
    "duration": 4,
    "start_time": "2022-09-01T16:31:28.872Z"
   },
   {
    "duration": 5,
    "start_time": "2022-09-01T16:31:40.597Z"
   },
   {
    "duration": 6,
    "start_time": "2022-09-01T16:35:29.069Z"
   },
   {
    "duration": 358,
    "start_time": "2022-09-01T16:35:29.671Z"
   },
   {
    "duration": 9,
    "start_time": "2022-09-01T16:35:32.963Z"
   },
   {
    "duration": 27,
    "start_time": "2022-09-01T16:35:35.347Z"
   },
   {
    "duration": 9,
    "start_time": "2022-09-01T16:35:44.730Z"
   },
   {
    "duration": 3,
    "start_time": "2022-09-01T16:36:16.372Z"
   },
   {
    "duration": 3,
    "start_time": "2022-09-01T16:36:44.388Z"
   },
   {
    "duration": 3,
    "start_time": "2022-09-01T16:36:47.202Z"
   },
   {
    "duration": 4,
    "start_time": "2022-09-01T16:36:59.230Z"
   },
   {
    "duration": 59,
    "start_time": "2022-09-01T16:46:52.216Z"
   },
   {
    "duration": 30,
    "start_time": "2022-09-01T16:47:09.788Z"
   },
   {
    "duration": 13,
    "start_time": "2022-09-01T16:51:16.225Z"
   },
   {
    "duration": 24,
    "start_time": "2022-09-01T16:51:27.015Z"
   },
   {
    "duration": 11,
    "start_time": "2022-09-01T16:51:45.696Z"
   },
   {
    "duration": 22,
    "start_time": "2022-09-01T16:52:02.171Z"
   },
   {
    "duration": 1275,
    "start_time": "2022-09-01T16:52:30.403Z"
   },
   {
    "duration": 612,
    "start_time": "2022-09-01T16:52:31.680Z"
   },
   {
    "duration": 12,
    "start_time": "2022-09-01T16:52:32.294Z"
   },
   {
    "duration": 40,
    "start_time": "2022-09-01T16:52:32.307Z"
   },
   {
    "duration": 2,
    "start_time": "2022-09-01T16:52:32.348Z"
   },
   {
    "duration": 11,
    "start_time": "2022-09-01T16:52:32.351Z"
   },
   {
    "duration": 10,
    "start_time": "2022-09-01T16:52:32.363Z"
   },
   {
    "duration": 8,
    "start_time": "2022-09-01T16:52:32.375Z"
   },
   {
    "duration": 23,
    "start_time": "2022-09-01T16:52:32.384Z"
   },
   {
    "duration": 6,
    "start_time": "2022-09-01T16:52:32.409Z"
   },
   {
    "duration": 14,
    "start_time": "2022-09-01T16:52:32.417Z"
   },
   {
    "duration": 7,
    "start_time": "2022-09-01T16:52:32.433Z"
   },
   {
    "duration": 14,
    "start_time": "2022-09-01T16:52:32.442Z"
   },
   {
    "duration": 4,
    "start_time": "2022-09-01T16:52:32.457Z"
   },
   {
    "duration": 1456,
    "start_time": "2022-09-01T16:52:32.462Z"
   },
   {
    "duration": 12,
    "start_time": "2022-09-01T16:52:33.920Z"
   },
   {
    "duration": 577,
    "start_time": "2022-09-01T16:52:33.933Z"
   },
   {
    "duration": 8,
    "start_time": "2022-09-01T16:52:34.512Z"
   },
   {
    "duration": 376,
    "start_time": "2022-09-01T16:52:34.521Z"
   },
   {
    "duration": 362,
    "start_time": "2022-09-01T16:52:34.898Z"
   },
   {
    "duration": 9,
    "start_time": "2022-09-01T16:52:35.261Z"
   },
   {
    "duration": 12,
    "start_time": "2022-09-01T16:52:35.272Z"
   },
   {
    "duration": 33,
    "start_time": "2022-09-01T16:52:35.285Z"
   },
   {
    "duration": 11,
    "start_time": "2022-09-01T16:52:35.319Z"
   },
   {
    "duration": 48,
    "start_time": "2022-09-02T09:12:11.164Z"
   },
   {
    "duration": 1480,
    "start_time": "2022-09-02T09:12:14.330Z"
   },
   {
    "duration": 5,
    "start_time": "2022-09-02T09:12:24.163Z"
   },
   {
    "duration": 3,
    "start_time": "2022-09-02T09:18:55.411Z"
   },
   {
    "duration": 1259,
    "start_time": "2022-09-02T09:52:28.728Z"
   },
   {
    "duration": 3110,
    "start_time": "2022-09-02T09:52:29.989Z"
   },
   {
    "duration": 7,
    "start_time": "2022-09-02T09:52:33.101Z"
   },
   {
    "duration": 66,
    "start_time": "2022-09-02T09:52:33.109Z"
   },
   {
    "duration": 2,
    "start_time": "2022-09-02T09:52:33.177Z"
   },
   {
    "duration": 22,
    "start_time": "2022-09-02T09:52:33.181Z"
   },
   {
    "duration": 37,
    "start_time": "2022-09-02T09:52:33.205Z"
   },
   {
    "duration": 21,
    "start_time": "2022-09-02T09:52:33.243Z"
   },
   {
    "duration": 25,
    "start_time": "2022-09-02T09:52:33.266Z"
   },
   {
    "duration": 25,
    "start_time": "2022-09-02T09:52:33.293Z"
   },
   {
    "duration": 15,
    "start_time": "2022-09-02T09:52:33.319Z"
   },
   {
    "duration": 7,
    "start_time": "2022-09-02T09:52:33.336Z"
   },
   {
    "duration": 25,
    "start_time": "2022-09-02T09:52:33.345Z"
   },
   {
    "duration": 4,
    "start_time": "2022-09-02T09:52:33.373Z"
   },
   {
    "duration": 121,
    "start_time": "2022-09-02T09:52:33.378Z"
   },
   {
    "duration": 0,
    "start_time": "2022-09-02T09:52:33.500Z"
   },
   {
    "duration": 0,
    "start_time": "2022-09-02T09:52:33.501Z"
   },
   {
    "duration": 0,
    "start_time": "2022-09-02T09:52:33.502Z"
   },
   {
    "duration": 0,
    "start_time": "2022-09-02T09:52:33.504Z"
   },
   {
    "duration": 0,
    "start_time": "2022-09-02T09:52:33.504Z"
   },
   {
    "duration": 0,
    "start_time": "2022-09-02T09:52:33.509Z"
   },
   {
    "duration": 0,
    "start_time": "2022-09-02T09:52:33.510Z"
   },
   {
    "duration": 0,
    "start_time": "2022-09-02T09:52:33.512Z"
   },
   {
    "duration": 0,
    "start_time": "2022-09-02T09:52:33.512Z"
   },
   {
    "duration": 0,
    "start_time": "2022-09-02T09:52:33.514Z"
   },
   {
    "duration": 0,
    "start_time": "2022-09-02T09:52:33.515Z"
   },
   {
    "duration": 0,
    "start_time": "2022-09-02T09:52:33.516Z"
   },
   {
    "duration": 10,
    "start_time": "2022-09-02T09:57:41.021Z"
   },
   {
    "duration": 5,
    "start_time": "2022-09-02T09:57:47.629Z"
   },
   {
    "duration": 4,
    "start_time": "2022-09-02T09:57:52.804Z"
   },
   {
    "duration": 10,
    "start_time": "2022-09-02T09:58:28.426Z"
   },
   {
    "duration": 10,
    "start_time": "2022-09-02T09:59:19.158Z"
   },
   {
    "duration": 7,
    "start_time": "2022-09-02T09:59:27.497Z"
   },
   {
    "duration": 18,
    "start_time": "2022-09-02T09:59:53.763Z"
   },
   {
    "duration": 6,
    "start_time": "2022-09-02T10:01:06.510Z"
   },
   {
    "duration": 5,
    "start_time": "2022-09-02T10:01:41.387Z"
   },
   {
    "duration": 10,
    "start_time": "2022-09-02T10:02:06.187Z"
   },
   {
    "duration": 7,
    "start_time": "2022-09-02T10:02:13.803Z"
   },
   {
    "duration": 7,
    "start_time": "2022-09-02T10:03:48.202Z"
   },
   {
    "duration": 12,
    "start_time": "2022-09-02T10:34:57.527Z"
   },
   {
    "duration": 4,
    "start_time": "2022-09-02T11:00:28.113Z"
   },
   {
    "duration": 640,
    "start_time": "2022-09-02T11:00:28.118Z"
   },
   {
    "duration": 6,
    "start_time": "2022-09-02T11:00:28.759Z"
   },
   {
    "duration": 61,
    "start_time": "2022-09-02T11:00:28.766Z"
   },
   {
    "duration": 2,
    "start_time": "2022-09-02T11:00:28.830Z"
   },
   {
    "duration": 10,
    "start_time": "2022-09-02T11:00:28.834Z"
   },
   {
    "duration": 8,
    "start_time": "2022-09-02T11:00:28.846Z"
   },
   {
    "duration": 8,
    "start_time": "2022-09-02T11:00:28.855Z"
   },
   {
    "duration": 6,
    "start_time": "2022-09-02T11:00:28.865Z"
   },
   {
    "duration": 37,
    "start_time": "2022-09-02T11:00:28.873Z"
   },
   {
    "duration": 241,
    "start_time": "2022-09-02T11:00:28.913Z"
   },
   {
    "duration": 0,
    "start_time": "2022-09-02T11:00:29.156Z"
   },
   {
    "duration": 0,
    "start_time": "2022-09-02T11:00:29.157Z"
   },
   {
    "duration": 0,
    "start_time": "2022-09-02T11:00:29.158Z"
   },
   {
    "duration": 0,
    "start_time": "2022-09-02T11:00:29.159Z"
   },
   {
    "duration": 0,
    "start_time": "2022-09-02T11:00:29.159Z"
   },
   {
    "duration": 0,
    "start_time": "2022-09-02T11:00:29.160Z"
   },
   {
    "duration": 0,
    "start_time": "2022-09-02T11:00:29.161Z"
   },
   {
    "duration": 0,
    "start_time": "2022-09-02T11:00:29.162Z"
   },
   {
    "duration": 0,
    "start_time": "2022-09-02T11:00:29.163Z"
   },
   {
    "duration": 0,
    "start_time": "2022-09-02T11:00:29.164Z"
   },
   {
    "duration": 0,
    "start_time": "2022-09-02T11:00:29.165Z"
   },
   {
    "duration": 0,
    "start_time": "2022-09-02T11:00:29.166Z"
   },
   {
    "duration": 0,
    "start_time": "2022-09-02T11:00:29.167Z"
   },
   {
    "duration": 0,
    "start_time": "2022-09-02T11:00:29.168Z"
   },
   {
    "duration": 0,
    "start_time": "2022-09-02T11:00:29.169Z"
   },
   {
    "duration": 0,
    "start_time": "2022-09-02T11:00:29.170Z"
   },
   {
    "duration": 0,
    "start_time": "2022-09-02T11:00:29.171Z"
   },
   {
    "duration": 3,
    "start_time": "2022-09-02T11:00:48.372Z"
   },
   {
    "duration": 638,
    "start_time": "2022-09-02T11:00:48.377Z"
   },
   {
    "duration": 6,
    "start_time": "2022-09-02T11:00:49.017Z"
   },
   {
    "duration": 43,
    "start_time": "2022-09-02T11:00:49.025Z"
   },
   {
    "duration": 2,
    "start_time": "2022-09-02T11:00:49.069Z"
   },
   {
    "duration": 8,
    "start_time": "2022-09-02T11:00:49.073Z"
   },
   {
    "duration": 35,
    "start_time": "2022-09-02T11:00:49.082Z"
   },
   {
    "duration": 5,
    "start_time": "2022-09-02T11:00:49.119Z"
   },
   {
    "duration": 6,
    "start_time": "2022-09-02T11:00:49.126Z"
   },
   {
    "duration": 9,
    "start_time": "2022-09-02T11:00:49.134Z"
   },
   {
    "duration": 7,
    "start_time": "2022-09-02T11:00:49.144Z"
   },
   {
    "duration": 8,
    "start_time": "2022-09-02T11:00:49.152Z"
   },
   {
    "duration": 11,
    "start_time": "2022-09-02T11:00:49.161Z"
   },
   {
    "duration": 3,
    "start_time": "2022-09-02T11:00:49.209Z"
   },
   {
    "duration": 4,
    "start_time": "2022-09-02T11:00:49.214Z"
   },
   {
    "duration": 1472,
    "start_time": "2022-09-02T11:00:49.220Z"
   },
   {
    "duration": 21,
    "start_time": "2022-09-02T11:00:50.694Z"
   },
   {
    "duration": 521,
    "start_time": "2022-09-02T11:00:50.716Z"
   },
   {
    "duration": 8,
    "start_time": "2022-09-02T11:00:51.239Z"
   },
   {
    "duration": 374,
    "start_time": "2022-09-02T11:00:51.248Z"
   },
   {
    "duration": 373,
    "start_time": "2022-09-02T11:00:51.623Z"
   },
   {
    "duration": 18,
    "start_time": "2022-09-02T11:00:51.998Z"
   },
   {
    "duration": 8,
    "start_time": "2022-09-02T11:00:52.017Z"
   },
   {
    "duration": 6,
    "start_time": "2022-09-02T11:00:52.027Z"
   },
   {
    "duration": 6,
    "start_time": "2022-09-02T11:00:52.034Z"
   },
   {
    "duration": 26,
    "start_time": "2022-09-02T11:00:56.929Z"
   },
   {
    "duration": 5,
    "start_time": "2022-09-02T12:00:23.025Z"
   },
   {
    "duration": 5,
    "start_time": "2022-09-02T12:00:36.591Z"
   },
   {
    "duration": 6,
    "start_time": "2022-09-02T12:00:47.302Z"
   },
   {
    "duration": 7,
    "start_time": "2022-09-02T12:00:53.007Z"
   },
   {
    "duration": 5,
    "start_time": "2022-09-02T12:02:00.753Z"
   },
   {
    "duration": 5,
    "start_time": "2022-09-02T12:02:06.564Z"
   },
   {
    "duration": 5,
    "start_time": "2022-09-02T12:02:41.989Z"
   },
   {
    "duration": 6,
    "start_time": "2022-09-02T12:03:28.221Z"
   },
   {
    "duration": 6,
    "start_time": "2022-09-02T12:03:52.976Z"
   },
   {
    "duration": 13,
    "start_time": "2022-09-02T12:04:23.979Z"
   },
   {
    "duration": 12,
    "start_time": "2022-09-02T12:04:38.119Z"
   },
   {
    "duration": 6,
    "start_time": "2022-09-02T12:05:09.619Z"
   },
   {
    "duration": 11,
    "start_time": "2022-09-02T12:05:30.327Z"
   },
   {
    "duration": 7,
    "start_time": "2022-09-02T12:06:28.407Z"
   },
   {
    "duration": 11,
    "start_time": "2022-09-02T12:07:19.230Z"
   },
   {
    "duration": 11,
    "start_time": "2022-09-02T12:07:41.634Z"
   },
   {
    "duration": 7,
    "start_time": "2022-09-02T12:07:49.348Z"
   },
   {
    "duration": 7,
    "start_time": "2022-09-02T12:08:00.777Z"
   },
   {
    "duration": 3,
    "start_time": "2022-09-02T12:10:06.849Z"
   },
   {
    "duration": 896,
    "start_time": "2022-09-02T12:10:06.856Z"
   },
   {
    "duration": 7,
    "start_time": "2022-09-02T12:10:07.754Z"
   },
   {
    "duration": 59,
    "start_time": "2022-09-02T12:10:07.762Z"
   },
   {
    "duration": 3,
    "start_time": "2022-09-02T12:10:07.822Z"
   },
   {
    "duration": 10,
    "start_time": "2022-09-02T12:10:07.827Z"
   },
   {
    "duration": 10,
    "start_time": "2022-09-02T12:10:07.838Z"
   },
   {
    "duration": 11,
    "start_time": "2022-09-02T12:10:07.850Z"
   },
   {
    "duration": 5,
    "start_time": "2022-09-02T12:10:07.862Z"
   },
   {
    "duration": 12,
    "start_time": "2022-09-02T12:10:07.868Z"
   },
   {
    "duration": 95,
    "start_time": "2022-09-02T12:10:07.909Z"
   },
   {
    "duration": 0,
    "start_time": "2022-09-02T12:10:08.006Z"
   },
   {
    "duration": 0,
    "start_time": "2022-09-02T12:10:08.007Z"
   },
   {
    "duration": 0,
    "start_time": "2022-09-02T12:10:08.008Z"
   },
   {
    "duration": 0,
    "start_time": "2022-09-02T12:10:08.009Z"
   },
   {
    "duration": 6,
    "start_time": "2022-09-02T12:10:14.248Z"
   },
   {
    "duration": 3,
    "start_time": "2022-09-02T12:10:32.156Z"
   },
   {
    "duration": 6,
    "start_time": "2022-09-02T12:10:52.892Z"
   },
   {
    "duration": 9,
    "start_time": "2022-09-02T12:10:58.502Z"
   },
   {
    "duration": 8,
    "start_time": "2022-09-02T12:11:04.240Z"
   },
   {
    "duration": 8,
    "start_time": "2022-09-02T12:11:04.882Z"
   },
   {
    "duration": 12,
    "start_time": "2022-09-02T12:11:08.237Z"
   },
   {
    "duration": 4,
    "start_time": "2022-09-02T12:11:08.838Z"
   },
   {
    "duration": 6,
    "start_time": "2022-09-02T12:11:10.271Z"
   },
   {
    "duration": 4,
    "start_time": "2022-09-02T12:11:10.675Z"
   },
   {
    "duration": 15,
    "start_time": "2022-09-02T12:15:49.448Z"
   },
   {
    "duration": 3,
    "start_time": "2022-09-02T12:16:06.946Z"
   },
   {
    "duration": 59,
    "start_time": "2022-09-02T12:17:44.307Z"
   },
   {
    "duration": 6,
    "start_time": "2022-09-02T12:18:16.258Z"
   },
   {
    "duration": 6,
    "start_time": "2022-09-02T12:18:25.403Z"
   },
   {
    "duration": 7,
    "start_time": "2022-09-02T12:18:28.054Z"
   },
   {
    "duration": 82,
    "start_time": "2022-09-02T12:18:47.477Z"
   },
   {
    "duration": 47,
    "start_time": "2022-09-02T12:18:51.631Z"
   },
   {
    "duration": 1213,
    "start_time": "2022-09-02T12:40:46.754Z"
   },
   {
    "duration": 12,
    "start_time": "2022-09-02T12:41:00.182Z"
   },
   {
    "duration": 36,
    "start_time": "2022-09-02T12:41:42.235Z"
   },
   {
    "duration": 15,
    "start_time": "2022-09-02T12:41:51.749Z"
   },
   {
    "duration": 4,
    "start_time": "2022-09-02T12:43:13.295Z"
   },
   {
    "duration": 12,
    "start_time": "2022-09-02T12:43:23.387Z"
   },
   {
    "duration": 6,
    "start_time": "2022-09-02T12:43:41.635Z"
   },
   {
    "duration": 8,
    "start_time": "2022-09-02T12:53:19.147Z"
   },
   {
    "duration": 16,
    "start_time": "2022-09-02T12:53:21.680Z"
   },
   {
    "duration": 7,
    "start_time": "2022-09-02T12:53:22.118Z"
   },
   {
    "duration": 17,
    "start_time": "2022-09-02T12:53:34.776Z"
   },
   {
    "duration": 16,
    "start_time": "2022-09-02T12:53:54.075Z"
   },
   {
    "duration": 761,
    "start_time": "2022-09-02T12:54:22.757Z"
   },
   {
    "duration": 862,
    "start_time": "2022-09-02T12:54:28.779Z"
   },
   {
    "duration": 12,
    "start_time": "2022-09-02T12:54:34.524Z"
   },
   {
    "duration": 14,
    "start_time": "2022-09-02T12:55:05.632Z"
   },
   {
    "duration": 13,
    "start_time": "2022-09-02T12:55:06.238Z"
   },
   {
    "duration": 7,
    "start_time": "2022-09-02T12:55:11.802Z"
   },
   {
    "duration": 85,
    "start_time": "2022-09-02T12:55:13.010Z"
   },
   {
    "duration": 11,
    "start_time": "2022-09-02T12:55:18.951Z"
   },
   {
    "duration": 60,
    "start_time": "2022-09-02T12:56:22.087Z"
   },
   {
    "duration": 4,
    "start_time": "2022-09-02T12:57:53.913Z"
   },
   {
    "duration": 4,
    "start_time": "2022-09-02T12:58:13.466Z"
   },
   {
    "duration": 68,
    "start_time": "2022-09-02T13:56:55.441Z"
   },
   {
    "duration": 65,
    "start_time": "2022-09-02T13:57:14.829Z"
   },
   {
    "duration": 21,
    "start_time": "2022-09-02T13:57:42.102Z"
   },
   {
    "duration": 19,
    "start_time": "2022-09-02T13:57:53.829Z"
   },
   {
    "duration": 1369,
    "start_time": "2022-09-02T13:59:37.998Z"
   },
   {
    "duration": 78,
    "start_time": "2022-09-02T14:10:30.215Z"
   },
   {
    "duration": 3,
    "start_time": "2022-09-02T14:14:11.046Z"
   },
   {
    "duration": 145,
    "start_time": "2022-09-02T14:14:15.990Z"
   },
   {
    "duration": 3,
    "start_time": "2022-09-02T14:14:48.074Z"
   },
   {
    "duration": 1302,
    "start_time": "2022-09-02T14:16:08.208Z"
   },
   {
    "duration": 0,
    "start_time": "2022-09-02T14:16:09.514Z"
   },
   {
    "duration": 0,
    "start_time": "2022-09-02T14:16:09.515Z"
   },
   {
    "duration": 0,
    "start_time": "2022-09-02T14:16:09.517Z"
   },
   {
    "duration": 0,
    "start_time": "2022-09-02T14:16:09.518Z"
   },
   {
    "duration": 0,
    "start_time": "2022-09-02T14:16:09.519Z"
   },
   {
    "duration": 0,
    "start_time": "2022-09-02T14:16:09.521Z"
   },
   {
    "duration": 0,
    "start_time": "2022-09-02T14:16:09.522Z"
   },
   {
    "duration": 0,
    "start_time": "2022-09-02T14:16:09.524Z"
   },
   {
    "duration": 0,
    "start_time": "2022-09-02T14:16:09.525Z"
   },
   {
    "duration": 0,
    "start_time": "2022-09-02T14:16:09.527Z"
   },
   {
    "duration": 0,
    "start_time": "2022-09-02T14:16:09.528Z"
   },
   {
    "duration": 0,
    "start_time": "2022-09-02T14:16:09.530Z"
   },
   {
    "duration": 0,
    "start_time": "2022-09-02T14:16:09.531Z"
   },
   {
    "duration": 0,
    "start_time": "2022-09-02T14:16:09.532Z"
   },
   {
    "duration": 0,
    "start_time": "2022-09-02T14:16:09.533Z"
   },
   {
    "duration": 0,
    "start_time": "2022-09-02T14:16:09.534Z"
   },
   {
    "duration": 0,
    "start_time": "2022-09-02T14:16:09.535Z"
   },
   {
    "duration": 0,
    "start_time": "2022-09-02T14:16:09.537Z"
   },
   {
    "duration": 0,
    "start_time": "2022-09-02T14:16:09.538Z"
   },
   {
    "duration": 0,
    "start_time": "2022-09-02T14:16:09.540Z"
   },
   {
    "duration": 0,
    "start_time": "2022-09-02T14:16:09.541Z"
   },
   {
    "duration": 0,
    "start_time": "2022-09-02T14:16:09.542Z"
   },
   {
    "duration": 0,
    "start_time": "2022-09-02T14:16:09.543Z"
   },
   {
    "duration": 0,
    "start_time": "2022-09-02T14:16:09.544Z"
   },
   {
    "duration": 0,
    "start_time": "2022-09-02T14:16:09.545Z"
   },
   {
    "duration": 0,
    "start_time": "2022-09-02T14:16:09.546Z"
   },
   {
    "duration": 0,
    "start_time": "2022-09-02T14:16:09.547Z"
   },
   {
    "duration": 0,
    "start_time": "2022-09-02T14:16:09.548Z"
   },
   {
    "duration": 1,
    "start_time": "2022-09-02T14:16:09.549Z"
   },
   {
    "duration": 0,
    "start_time": "2022-09-02T14:16:09.550Z"
   },
   {
    "duration": 0,
    "start_time": "2022-09-02T14:16:09.608Z"
   },
   {
    "duration": 0,
    "start_time": "2022-09-02T14:16:09.610Z"
   },
   {
    "duration": 0,
    "start_time": "2022-09-02T14:16:09.611Z"
   },
   {
    "duration": 0,
    "start_time": "2022-09-02T14:16:09.612Z"
   },
   {
    "duration": 0,
    "start_time": "2022-09-02T14:16:09.613Z"
   },
   {
    "duration": 39,
    "start_time": "2022-09-02T14:16:44.727Z"
   },
   {
    "duration": 186,
    "start_time": "2022-09-02T14:16:57.675Z"
   },
   {
    "duration": 3,
    "start_time": "2022-09-02T14:17:01.352Z"
   },
   {
    "duration": 4,
    "start_time": "2022-09-02T14:17:10.219Z"
   },
   {
    "duration": 60,
    "start_time": "2022-09-02T14:17:18.574Z"
   },
   {
    "duration": 4,
    "start_time": "2022-09-02T14:17:31.279Z"
   },
   {
    "duration": 67,
    "start_time": "2022-09-02T14:17:39.374Z"
   },
   {
    "duration": 4,
    "start_time": "2022-09-02T14:17:43.749Z"
   },
   {
    "duration": 15,
    "start_time": "2022-09-02T14:17:43.755Z"
   },
   {
    "duration": 662,
    "start_time": "2022-09-02T14:17:43.773Z"
   },
   {
    "duration": 8,
    "start_time": "2022-09-02T14:17:44.438Z"
   },
   {
    "duration": 45,
    "start_time": "2022-09-02T14:17:44.449Z"
   },
   {
    "duration": 15,
    "start_time": "2022-09-02T14:17:44.495Z"
   },
   {
    "duration": 9,
    "start_time": "2022-09-02T14:17:44.512Z"
   },
   {
    "duration": 7,
    "start_time": "2022-09-02T14:17:44.523Z"
   },
   {
    "duration": 6,
    "start_time": "2022-09-02T14:17:44.531Z"
   },
   {
    "duration": 6,
    "start_time": "2022-09-02T14:17:44.538Z"
   },
   {
    "duration": 17,
    "start_time": "2022-09-02T14:17:44.546Z"
   },
   {
    "duration": 0,
    "start_time": "2022-09-02T14:17:44.564Z"
   },
   {
    "duration": 0,
    "start_time": "2022-09-02T14:17:44.565Z"
   },
   {
    "duration": 0,
    "start_time": "2022-09-02T14:17:44.566Z"
   },
   {
    "duration": 0,
    "start_time": "2022-09-02T14:17:44.567Z"
   },
   {
    "duration": 0,
    "start_time": "2022-09-02T14:17:44.568Z"
   },
   {
    "duration": 0,
    "start_time": "2022-09-02T14:17:44.569Z"
   },
   {
    "duration": 0,
    "start_time": "2022-09-02T14:17:44.609Z"
   },
   {
    "duration": 0,
    "start_time": "2022-09-02T14:17:44.610Z"
   },
   {
    "duration": 0,
    "start_time": "2022-09-02T14:17:44.611Z"
   },
   {
    "duration": 0,
    "start_time": "2022-09-02T14:17:44.612Z"
   },
   {
    "duration": 0,
    "start_time": "2022-09-02T14:17:44.613Z"
   },
   {
    "duration": 0,
    "start_time": "2022-09-02T14:17:44.614Z"
   },
   {
    "duration": 0,
    "start_time": "2022-09-02T14:17:44.615Z"
   },
   {
    "duration": 0,
    "start_time": "2022-09-02T14:17:44.616Z"
   },
   {
    "duration": 0,
    "start_time": "2022-09-02T14:17:44.617Z"
   },
   {
    "duration": 0,
    "start_time": "2022-09-02T14:17:44.618Z"
   },
   {
    "duration": 0,
    "start_time": "2022-09-02T14:17:44.619Z"
   },
   {
    "duration": 0,
    "start_time": "2022-09-02T14:17:44.620Z"
   },
   {
    "duration": 0,
    "start_time": "2022-09-02T14:17:44.621Z"
   },
   {
    "duration": 0,
    "start_time": "2022-09-02T14:17:44.621Z"
   },
   {
    "duration": 0,
    "start_time": "2022-09-02T14:17:44.623Z"
   },
   {
    "duration": 0,
    "start_time": "2022-09-02T14:17:44.623Z"
   },
   {
    "duration": 0,
    "start_time": "2022-09-02T14:17:44.624Z"
   },
   {
    "duration": 0,
    "start_time": "2022-09-02T14:17:44.626Z"
   },
   {
    "duration": 0,
    "start_time": "2022-09-02T14:17:44.626Z"
   },
   {
    "duration": 0,
    "start_time": "2022-09-02T14:17:44.628Z"
   },
   {
    "duration": 105,
    "start_time": "2022-09-02T14:17:47.133Z"
   },
   {
    "duration": 7,
    "start_time": "2022-09-02T14:18:01.875Z"
   },
   {
    "duration": 4,
    "start_time": "2022-09-02T14:18:07.327Z"
   },
   {
    "duration": 7,
    "start_time": "2022-09-02T14:18:07.334Z"
   },
   {
    "duration": 708,
    "start_time": "2022-09-02T14:18:07.343Z"
   },
   {
    "duration": 7,
    "start_time": "2022-09-02T14:18:08.053Z"
   },
   {
    "duration": 63,
    "start_time": "2022-09-02T14:18:08.061Z"
   },
   {
    "duration": 2,
    "start_time": "2022-09-02T14:18:08.126Z"
   },
   {
    "duration": 12,
    "start_time": "2022-09-02T14:18:08.129Z"
   },
   {
    "duration": 17,
    "start_time": "2022-09-02T14:18:08.142Z"
   },
   {
    "duration": 7,
    "start_time": "2022-09-02T14:18:08.161Z"
   },
   {
    "duration": 5,
    "start_time": "2022-09-02T14:18:08.171Z"
   },
   {
    "duration": 10,
    "start_time": "2022-09-02T14:18:08.177Z"
   },
   {
    "duration": 28,
    "start_time": "2022-09-02T14:18:08.189Z"
   },
   {
    "duration": 13,
    "start_time": "2022-09-02T14:18:08.219Z"
   },
   {
    "duration": 12,
    "start_time": "2022-09-02T14:18:08.233Z"
   },
   {
    "duration": 5,
    "start_time": "2022-09-02T14:18:08.247Z"
   },
   {
    "duration": 85,
    "start_time": "2022-09-02T14:18:08.253Z"
   },
   {
    "duration": 4,
    "start_time": "2022-09-02T14:18:08.340Z"
   },
   {
    "duration": 13,
    "start_time": "2022-09-02T14:18:08.346Z"
   },
   {
    "duration": 29,
    "start_time": "2022-09-02T14:18:08.361Z"
   },
   {
    "duration": 26,
    "start_time": "2022-09-02T14:18:08.391Z"
   },
   {
    "duration": 6,
    "start_time": "2022-09-02T14:18:08.419Z"
   },
   {
    "duration": 21,
    "start_time": "2022-09-02T14:18:08.427Z"
   },
   {
    "duration": 32,
    "start_time": "2022-09-02T14:18:08.450Z"
   },
   {
    "duration": 4,
    "start_time": "2022-09-02T14:18:08.484Z"
   },
   {
    "duration": 11,
    "start_time": "2022-09-02T14:18:08.489Z"
   },
   {
    "duration": 1461,
    "start_time": "2022-09-02T14:18:08.502Z"
   },
   {
    "duration": 12,
    "start_time": "2022-09-02T14:18:09.965Z"
   },
   {
    "duration": 570,
    "start_time": "2022-09-02T14:18:09.980Z"
   },
   {
    "duration": 8,
    "start_time": "2022-09-02T14:18:10.551Z"
   },
   {
    "duration": 369,
    "start_time": "2022-09-02T14:18:10.561Z"
   },
   {
    "duration": 487,
    "start_time": "2022-09-02T14:18:10.932Z"
   },
   {
    "duration": 10,
    "start_time": "2022-09-02T14:18:11.421Z"
   },
   {
    "duration": 7,
    "start_time": "2022-09-02T14:18:11.433Z"
   },
   {
    "duration": 9,
    "start_time": "2022-09-02T14:18:11.441Z"
   },
   {
    "duration": 6,
    "start_time": "2022-09-02T14:18:11.451Z"
   },
   {
    "duration": 5,
    "start_time": "2022-09-02T14:18:11.459Z"
   },
   {
    "duration": 11946,
    "start_time": "2022-09-02T14:18:13.194Z"
   },
   {
    "duration": 11790,
    "start_time": "2022-09-02T14:18:43.706Z"
   },
   {
    "duration": 102489,
    "start_time": "2022-09-02T14:19:18.004Z"
   },
   {
    "duration": 93,
    "start_time": "2022-09-03T09:15:09.316Z"
   },
   {
    "duration": 1456,
    "start_time": "2022-09-03T09:15:14.980Z"
   },
   {
    "duration": 3,
    "start_time": "2022-09-03T09:15:16.438Z"
   },
   {
    "duration": 2977,
    "start_time": "2022-09-03T09:15:16.442Z"
   },
   {
    "duration": 7,
    "start_time": "2022-09-03T09:15:19.421Z"
   },
   {
    "duration": 55,
    "start_time": "2022-09-03T09:15:19.429Z"
   },
   {
    "duration": 2,
    "start_time": "2022-09-03T09:15:19.485Z"
   },
   {
    "duration": 12,
    "start_time": "2022-09-03T09:15:19.489Z"
   },
   {
    "duration": 14,
    "start_time": "2022-09-03T09:15:19.502Z"
   },
   {
    "duration": 10,
    "start_time": "2022-09-03T09:15:19.517Z"
   },
   {
    "duration": 4,
    "start_time": "2022-09-03T09:15:19.529Z"
   },
   {
    "duration": 29,
    "start_time": "2022-09-03T09:15:19.535Z"
   },
   {
    "duration": 19,
    "start_time": "2022-09-03T09:15:19.565Z"
   },
   {
    "duration": 7,
    "start_time": "2022-09-03T09:15:19.586Z"
   },
   {
    "duration": 14,
    "start_time": "2022-09-03T09:15:19.594Z"
   },
   {
    "duration": 4,
    "start_time": "2022-09-03T09:15:19.609Z"
   },
   {
    "duration": 96,
    "start_time": "2022-09-03T09:15:19.614Z"
   },
   {
    "duration": 5,
    "start_time": "2022-09-03T09:15:19.712Z"
   },
   {
    "duration": 17,
    "start_time": "2022-09-03T09:15:19.718Z"
   },
   {
    "duration": 23,
    "start_time": "2022-09-03T09:15:19.736Z"
   },
   {
    "duration": 14,
    "start_time": "2022-09-03T09:15:19.760Z"
   },
   {
    "duration": 6,
    "start_time": "2022-09-03T09:15:19.776Z"
   },
   {
    "duration": 14,
    "start_time": "2022-09-03T09:15:19.783Z"
   },
   {
    "duration": 21,
    "start_time": "2022-09-03T09:15:19.799Z"
   },
   {
    "duration": 4,
    "start_time": "2022-09-03T09:15:19.822Z"
   },
   {
    "duration": 32,
    "start_time": "2022-09-03T09:15:19.827Z"
   },
   {
    "duration": 1495,
    "start_time": "2022-09-03T09:15:19.860Z"
   },
   {
    "duration": 11,
    "start_time": "2022-09-03T09:15:21.358Z"
   },
   {
    "duration": 539,
    "start_time": "2022-09-03T09:15:21.372Z"
   },
   {
    "duration": 9,
    "start_time": "2022-09-03T09:15:21.912Z"
   },
   {
    "duration": 407,
    "start_time": "2022-09-03T09:15:21.922Z"
   },
   {
    "duration": 380,
    "start_time": "2022-09-03T09:15:22.330Z"
   },
   {
    "duration": 10,
    "start_time": "2022-09-03T09:15:22.712Z"
   },
   {
    "duration": 4,
    "start_time": "2022-09-03T09:15:22.723Z"
   },
   {
    "duration": 5,
    "start_time": "2022-09-03T09:15:22.728Z"
   },
   {
    "duration": 22,
    "start_time": "2022-09-03T09:15:22.735Z"
   },
   {
    "duration": 45,
    "start_time": "2022-09-03T09:15:22.759Z"
   },
   {
    "duration": 0,
    "start_time": "2022-09-03T09:15:22.806Z"
   },
   {
    "duration": 0,
    "start_time": "2022-09-03T09:15:22.807Z"
   },
   {
    "duration": 102167,
    "start_time": "2022-09-03T09:18:56.955Z"
   },
   {
    "duration": 179,
    "start_time": "2022-09-03T09:20:39.125Z"
   },
   {
    "duration": 94024,
    "start_time": "2022-09-03T09:34:52.915Z"
   },
   {
    "duration": 101791,
    "start_time": "2022-09-03T09:38:15.508Z"
   },
   {
    "duration": 100044,
    "start_time": "2022-09-03T09:42:23.894Z"
   },
   {
    "duration": 95664,
    "start_time": "2022-09-03T09:50:33.260Z"
   },
   {
    "duration": 14,
    "start_time": "2022-09-03T10:06:24.382Z"
   },
   {
    "duration": 3,
    "start_time": "2022-09-03T10:06:30.806Z"
   },
   {
    "duration": 12,
    "start_time": "2022-09-03T10:06:51.008Z"
   },
   {
    "duration": 10,
    "start_time": "2022-09-03T10:07:07.729Z"
   },
   {
    "duration": 1310,
    "start_time": "2022-09-03T10:07:15.850Z"
   },
   {
    "duration": 11,
    "start_time": "2022-09-03T10:08:50.655Z"
   },
   {
    "duration": 1097,
    "start_time": "2022-09-03T10:08:52.963Z"
   },
   {
    "duration": 941,
    "start_time": "2022-09-03T10:08:57.421Z"
   },
   {
    "duration": 1420,
    "start_time": "2022-09-03T10:09:01.238Z"
   },
   {
    "duration": 1132,
    "start_time": "2022-09-03T10:11:03.628Z"
   },
   {
    "duration": 10,
    "start_time": "2022-09-03T10:12:05.056Z"
   },
   {
    "duration": 11,
    "start_time": "2022-09-03T10:14:29.327Z"
   },
   {
    "duration": 4,
    "start_time": "2022-09-03T10:14:32.888Z"
   },
   {
    "duration": 15,
    "start_time": "2022-09-03T10:14:35.783Z"
   },
   {
    "duration": 15,
    "start_time": "2022-09-03T10:19:59.115Z"
   },
   {
    "duration": 19,
    "start_time": "2022-09-03T10:22:15.314Z"
   },
   {
    "duration": 16,
    "start_time": "2022-09-03T10:22:24.113Z"
   },
   {
    "duration": 13,
    "start_time": "2022-09-03T10:22:28.145Z"
   },
   {
    "duration": 30,
    "start_time": "2022-09-03T10:22:43.077Z"
   },
   {
    "duration": 1400,
    "start_time": "2022-09-03T10:23:07.761Z"
   },
   {
    "duration": 1193,
    "start_time": "2022-09-03T10:24:06.570Z"
   },
   {
    "duration": 1178,
    "start_time": "2022-09-03T10:24:10.283Z"
   },
   {
    "duration": 1296,
    "start_time": "2022-09-03T10:42:54.991Z"
   },
   {
    "duration": 0,
    "start_time": "2022-09-03T10:42:56.290Z"
   },
   {
    "duration": 0,
    "start_time": "2022-09-03T10:42:56.292Z"
   },
   {
    "duration": 0,
    "start_time": "2022-09-03T10:42:56.293Z"
   },
   {
    "duration": 0,
    "start_time": "2022-09-03T10:42:56.294Z"
   },
   {
    "duration": 0,
    "start_time": "2022-09-03T10:42:56.295Z"
   },
   {
    "duration": 0,
    "start_time": "2022-09-03T10:42:56.297Z"
   },
   {
    "duration": 0,
    "start_time": "2022-09-03T10:42:56.298Z"
   },
   {
    "duration": 0,
    "start_time": "2022-09-03T10:42:56.299Z"
   },
   {
    "duration": 0,
    "start_time": "2022-09-03T10:42:56.300Z"
   },
   {
    "duration": 0,
    "start_time": "2022-09-03T10:42:56.302Z"
   },
   {
    "duration": 0,
    "start_time": "2022-09-03T10:42:56.303Z"
   },
   {
    "duration": 0,
    "start_time": "2022-09-03T10:42:56.304Z"
   },
   {
    "duration": 0,
    "start_time": "2022-09-03T10:42:56.306Z"
   },
   {
    "duration": 0,
    "start_time": "2022-09-03T10:42:56.307Z"
   },
   {
    "duration": 0,
    "start_time": "2022-09-03T10:42:56.308Z"
   },
   {
    "duration": 0,
    "start_time": "2022-09-03T10:42:56.309Z"
   },
   {
    "duration": 0,
    "start_time": "2022-09-03T10:42:56.311Z"
   },
   {
    "duration": 0,
    "start_time": "2022-09-03T10:42:56.313Z"
   },
   {
    "duration": 0,
    "start_time": "2022-09-03T10:42:56.314Z"
   },
   {
    "duration": 0,
    "start_time": "2022-09-03T10:42:56.315Z"
   },
   {
    "duration": 0,
    "start_time": "2022-09-03T10:42:56.315Z"
   },
   {
    "duration": 0,
    "start_time": "2022-09-03T10:42:56.317Z"
   },
   {
    "duration": 0,
    "start_time": "2022-09-03T10:42:56.318Z"
   },
   {
    "duration": 0,
    "start_time": "2022-09-03T10:42:56.357Z"
   },
   {
    "duration": 0,
    "start_time": "2022-09-03T10:42:56.358Z"
   },
   {
    "duration": 0,
    "start_time": "2022-09-03T10:42:56.359Z"
   },
   {
    "duration": 0,
    "start_time": "2022-09-03T10:42:56.360Z"
   },
   {
    "duration": 0,
    "start_time": "2022-09-03T10:42:56.361Z"
   },
   {
    "duration": 0,
    "start_time": "2022-09-03T10:42:56.362Z"
   },
   {
    "duration": 0,
    "start_time": "2022-09-03T10:42:56.363Z"
   },
   {
    "duration": 0,
    "start_time": "2022-09-03T10:42:56.364Z"
   },
   {
    "duration": 0,
    "start_time": "2022-09-03T10:42:56.365Z"
   },
   {
    "duration": 0,
    "start_time": "2022-09-03T10:42:56.367Z"
   },
   {
    "duration": 0,
    "start_time": "2022-09-03T10:42:56.368Z"
   },
   {
    "duration": 0,
    "start_time": "2022-09-03T10:42:56.370Z"
   },
   {
    "duration": 0,
    "start_time": "2022-09-03T10:42:56.371Z"
   },
   {
    "duration": 0,
    "start_time": "2022-09-03T10:42:56.372Z"
   },
   {
    "duration": 0,
    "start_time": "2022-09-03T10:42:56.374Z"
   },
   {
    "duration": 0,
    "start_time": "2022-09-03T10:42:56.375Z"
   },
   {
    "duration": 0,
    "start_time": "2022-09-03T10:42:56.377Z"
   },
   {
    "duration": 0,
    "start_time": "2022-09-03T10:42:56.378Z"
   },
   {
    "duration": 306,
    "start_time": "2022-09-03T10:46:11.764Z"
   },
   {
    "duration": 3,
    "start_time": "2022-09-03T10:46:12.072Z"
   },
   {
    "duration": 754,
    "start_time": "2022-09-03T10:46:12.076Z"
   },
   {
    "duration": 8,
    "start_time": "2022-09-03T10:46:12.831Z"
   },
   {
    "duration": 54,
    "start_time": "2022-09-03T10:46:12.841Z"
   },
   {
    "duration": 2,
    "start_time": "2022-09-03T10:46:12.897Z"
   },
   {
    "duration": 8,
    "start_time": "2022-09-03T10:46:12.900Z"
   },
   {
    "duration": 7,
    "start_time": "2022-09-03T10:46:12.909Z"
   },
   {
    "duration": 6,
    "start_time": "2022-09-03T10:46:12.918Z"
   },
   {
    "duration": 33,
    "start_time": "2022-09-03T10:46:12.925Z"
   },
   {
    "duration": 6,
    "start_time": "2022-09-03T10:46:12.959Z"
   },
   {
    "duration": 18,
    "start_time": "2022-09-03T10:46:12.967Z"
   },
   {
    "duration": 7,
    "start_time": "2022-09-03T10:46:12.986Z"
   },
   {
    "duration": 14,
    "start_time": "2022-09-03T10:46:12.995Z"
   },
   {
    "duration": 4,
    "start_time": "2022-09-03T10:46:13.010Z"
   },
   {
    "duration": 91,
    "start_time": "2022-09-03T10:46:13.015Z"
   },
   {
    "duration": 4,
    "start_time": "2022-09-03T10:46:13.108Z"
   },
   {
    "duration": 29,
    "start_time": "2022-09-03T10:46:13.113Z"
   },
   {
    "duration": 17,
    "start_time": "2022-09-03T10:46:13.143Z"
   },
   {
    "duration": 12,
    "start_time": "2022-09-03T10:46:13.161Z"
   },
   {
    "duration": 6,
    "start_time": "2022-09-03T10:46:13.175Z"
   },
   {
    "duration": 11,
    "start_time": "2022-09-03T10:46:13.184Z"
   },
   {
    "duration": 21,
    "start_time": "2022-09-03T10:46:13.197Z"
   },
   {
    "duration": 4,
    "start_time": "2022-09-03T10:46:13.220Z"
   },
   {
    "duration": 34,
    "start_time": "2022-09-03T10:46:13.225Z"
   },
   {
    "duration": 1428,
    "start_time": "2022-09-03T10:46:13.261Z"
   },
   {
    "duration": 16,
    "start_time": "2022-09-03T10:46:14.690Z"
   },
   {
    "duration": 543,
    "start_time": "2022-09-03T10:46:14.708Z"
   },
   {
    "duration": 10,
    "start_time": "2022-09-03T10:46:15.257Z"
   },
   {
    "duration": 452,
    "start_time": "2022-09-03T10:46:15.269Z"
   },
   {
    "duration": 373,
    "start_time": "2022-09-03T10:46:15.723Z"
   },
   {
    "duration": 10,
    "start_time": "2022-09-03T10:46:16.098Z"
   },
   {
    "duration": 7,
    "start_time": "2022-09-03T10:46:16.110Z"
   },
   {
    "duration": 6,
    "start_time": "2022-09-03T10:46:16.119Z"
   },
   {
    "duration": 10,
    "start_time": "2022-09-03T10:46:16.127Z"
   },
   {
    "duration": 200,
    "start_time": "2022-09-03T10:46:16.139Z"
   },
   {
    "duration": 17601,
    "start_time": "2022-09-03T10:48:35.058Z"
   },
   {
    "duration": 20,
    "start_time": "2022-09-03T10:49:40.124Z"
   },
   {
    "duration": 2951,
    "start_time": "2022-09-03T10:49:51.588Z"
   },
   {
    "duration": 18106,
    "start_time": "2022-09-03T11:02:30.096Z"
   },
   {
    "duration": 102704,
    "start_time": "2022-09-03T11:05:27.515Z"
   },
   {
    "duration": 1629104,
    "start_time": "2022-09-03T11:07:10.222Z"
   },
   {
    "duration": 1738183,
    "start_time": "2022-09-03T11:34:19.328Z"
   },
   {
    "duration": 2167,
    "start_time": "2022-09-03T12:03:17.513Z"
   },
   {
    "duration": 2482,
    "start_time": "2022-09-03T12:03:19.693Z"
   },
   {
    "duration": 116907,
    "start_time": "2022-09-03T12:03:22.268Z"
   },
   {
    "duration": 103,
    "start_time": "2022-09-03T20:46:52.826Z"
   },
   {
    "duration": 1665,
    "start_time": "2022-09-03T20:47:04.077Z"
   },
   {
    "duration": 3,
    "start_time": "2022-09-03T20:47:05.744Z"
   },
   {
    "duration": 3284,
    "start_time": "2022-09-03T20:47:05.749Z"
   },
   {
    "duration": 7,
    "start_time": "2022-09-03T20:47:09.034Z"
   },
   {
    "duration": 51,
    "start_time": "2022-09-03T20:47:09.043Z"
   },
   {
    "duration": 2,
    "start_time": "2022-09-03T20:47:09.096Z"
   },
   {
    "duration": 10,
    "start_time": "2022-09-03T20:47:09.100Z"
   },
   {
    "duration": 20,
    "start_time": "2022-09-03T20:47:09.112Z"
   },
   {
    "duration": 24,
    "start_time": "2022-09-03T20:47:09.134Z"
   },
   {
    "duration": 6,
    "start_time": "2022-09-03T20:47:09.160Z"
   },
   {
    "duration": 9,
    "start_time": "2022-09-03T20:47:09.168Z"
   },
   {
    "duration": 13,
    "start_time": "2022-09-03T20:47:09.186Z"
   },
   {
    "duration": 7,
    "start_time": "2022-09-03T20:47:09.201Z"
   },
   {
    "duration": 16,
    "start_time": "2022-09-03T20:47:09.211Z"
   },
   {
    "duration": 3,
    "start_time": "2022-09-03T20:47:09.229Z"
   },
   {
    "duration": 100,
    "start_time": "2022-09-03T20:47:09.233Z"
   },
   {
    "duration": 5,
    "start_time": "2022-09-03T20:47:09.334Z"
   },
   {
    "duration": 11,
    "start_time": "2022-09-03T20:47:09.340Z"
   },
   {
    "duration": 18,
    "start_time": "2022-09-03T20:47:09.353Z"
   },
   {
    "duration": 22,
    "start_time": "2022-09-03T20:47:09.373Z"
   },
   {
    "duration": 6,
    "start_time": "2022-09-03T20:47:09.397Z"
   },
   {
    "duration": 13,
    "start_time": "2022-09-03T20:47:09.405Z"
   },
   {
    "duration": 23,
    "start_time": "2022-09-03T20:47:09.420Z"
   },
   {
    "duration": 5,
    "start_time": "2022-09-03T20:47:09.444Z"
   },
   {
    "duration": 7,
    "start_time": "2022-09-03T20:47:09.450Z"
   },
   {
    "duration": 1588,
    "start_time": "2022-09-03T20:47:09.458Z"
   },
   {
    "duration": 14,
    "start_time": "2022-09-03T20:47:11.047Z"
   },
   {
    "duration": 561,
    "start_time": "2022-09-03T20:47:11.062Z"
   },
   {
    "duration": 9,
    "start_time": "2022-09-03T20:47:11.625Z"
   },
   {
    "duration": 409,
    "start_time": "2022-09-03T20:47:11.635Z"
   },
   {
    "duration": 401,
    "start_time": "2022-09-03T20:47:12.046Z"
   },
   {
    "duration": 10,
    "start_time": "2022-09-03T20:47:12.448Z"
   },
   {
    "duration": 4,
    "start_time": "2022-09-03T20:47:12.460Z"
   },
   {
    "duration": 25,
    "start_time": "2022-09-03T20:47:12.465Z"
   },
   {
    "duration": 5,
    "start_time": "2022-09-03T20:47:12.492Z"
   },
   {
    "duration": 1569204,
    "start_time": "2022-09-03T20:47:23.971Z"
   },
   {
    "duration": 135,
    "start_time": "2022-09-04T13:49:28.409Z"
   },
   {
    "duration": 1342,
    "start_time": "2022-09-04T13:49:32.067Z"
   },
   {
    "duration": 3,
    "start_time": "2022-09-04T13:49:33.411Z"
   },
   {
    "duration": 1775,
    "start_time": "2022-09-04T13:49:33.415Z"
   },
   {
    "duration": 6,
    "start_time": "2022-09-04T13:49:35.192Z"
   },
   {
    "duration": 41,
    "start_time": "2022-09-04T13:49:35.199Z"
   },
   {
    "duration": 2,
    "start_time": "2022-09-04T13:49:35.242Z"
   },
   {
    "duration": 24,
    "start_time": "2022-09-04T13:49:35.245Z"
   },
   {
    "duration": 14,
    "start_time": "2022-09-04T13:49:35.270Z"
   },
   {
    "duration": 10,
    "start_time": "2022-09-04T13:49:35.286Z"
   },
   {
    "duration": 13,
    "start_time": "2022-09-04T13:49:35.298Z"
   },
   {
    "duration": 17,
    "start_time": "2022-09-04T13:49:35.312Z"
   },
   {
    "duration": 15,
    "start_time": "2022-09-04T13:49:35.330Z"
   },
   {
    "duration": 6,
    "start_time": "2022-09-04T13:49:35.347Z"
   },
   {
    "duration": 13,
    "start_time": "2022-09-04T13:49:35.355Z"
   },
   {
    "duration": 3,
    "start_time": "2022-09-04T13:49:35.369Z"
   },
   {
    "duration": 75,
    "start_time": "2022-09-04T13:49:35.373Z"
   },
   {
    "duration": 4,
    "start_time": "2022-09-04T13:49:35.450Z"
   },
   {
    "duration": 7,
    "start_time": "2022-09-04T13:49:35.455Z"
   },
   {
    "duration": 18,
    "start_time": "2022-09-04T13:49:35.463Z"
   },
   {
    "duration": 25,
    "start_time": "2022-09-04T13:49:35.483Z"
   },
   {
    "duration": 7,
    "start_time": "2022-09-04T13:49:35.509Z"
   },
   {
    "duration": 13,
    "start_time": "2022-09-04T13:49:35.517Z"
   },
   {
    "duration": 28,
    "start_time": "2022-09-04T13:49:35.532Z"
   },
   {
    "duration": 4,
    "start_time": "2022-09-04T13:49:35.562Z"
   },
   {
    "duration": 17,
    "start_time": "2022-09-04T13:49:35.568Z"
   },
   {
    "duration": 1508,
    "start_time": "2022-09-04T13:49:35.586Z"
   },
   {
    "duration": 16,
    "start_time": "2022-09-04T13:49:37.096Z"
   },
   {
    "duration": 525,
    "start_time": "2022-09-04T13:49:37.116Z"
   },
   {
    "duration": 9,
    "start_time": "2022-09-04T13:49:37.643Z"
   },
   {
    "duration": 424,
    "start_time": "2022-09-04T13:49:37.654Z"
   },
   {
    "duration": 418,
    "start_time": "2022-09-04T13:49:38.080Z"
   },
   {
    "duration": 13,
    "start_time": "2022-09-04T13:49:38.500Z"
   },
   {
    "duration": 4,
    "start_time": "2022-09-04T13:49:38.514Z"
   },
   {
    "duration": 8,
    "start_time": "2022-09-04T13:49:38.520Z"
   },
   {
    "duration": 5,
    "start_time": "2022-09-04T13:49:38.530Z"
   },
   {
    "duration": 5,
    "start_time": "2022-09-04T13:49:38.537Z"
   },
   {
    "duration": 16426,
    "start_time": "2022-09-04T13:49:38.544Z"
   },
   {
    "duration": 2141,
    "start_time": "2022-09-04T13:49:54.972Z"
   },
   {
    "duration": 94155,
    "start_time": "2022-09-04T13:49:57.115Z"
   },
   {
    "duration": 472,
    "start_time": "2022-09-04T13:54:33.631Z"
   },
   {
    "duration": 479,
    "start_time": "2022-09-04T13:54:52.285Z"
   },
   {
    "duration": 455,
    "start_time": "2022-09-04T13:55:01.548Z"
   },
   {
    "duration": 301,
    "start_time": "2022-09-04T13:56:15.314Z"
   },
   {
    "duration": 454,
    "start_time": "2022-09-04T13:58:07.008Z"
   },
   {
    "duration": 299,
    "start_time": "2022-09-04T13:58:22.627Z"
   },
   {
    "duration": 4,
    "start_time": "2022-09-04T13:59:37.732Z"
   },
   {
    "duration": 3,
    "start_time": "2022-09-04T13:59:41.253Z"
   },
   {
    "duration": 9986,
    "start_time": "2022-09-04T14:00:46.914Z"
   },
   {
    "duration": 22216,
    "start_time": "2022-09-04T14:02:24.669Z"
   },
   {
    "duration": 3,
    "start_time": "2022-09-04T14:02:46.887Z"
   },
   {
    "duration": 147,
    "start_time": "2022-09-04T14:03:31.960Z"
   },
   {
    "duration": 118,
    "start_time": "2022-09-04T14:03:45.297Z"
   },
   {
    "duration": 196,
    "start_time": "2022-09-04T14:04:00.011Z"
   },
   {
    "duration": 300,
    "start_time": "2022-09-04T14:27:43.881Z"
   },
   {
    "duration": 446,
    "start_time": "2022-09-04T14:28:12.639Z"
   },
   {
    "duration": 3,
    "start_time": "2022-09-04T14:28:19.032Z"
   },
   {
    "duration": 10073,
    "start_time": "2022-09-04T14:28:33.229Z"
   },
   {
    "duration": 22922,
    "start_time": "2022-09-04T14:28:46.540Z"
   },
   {
    "duration": 3,
    "start_time": "2022-09-04T14:29:09.464Z"
   },
   {
    "duration": 193,
    "start_time": "2022-09-04T14:29:22.316Z"
   },
   {
    "duration": 206,
    "start_time": "2022-09-04T14:29:36.301Z"
   },
   {
    "duration": 3,
    "start_time": "2022-09-04T14:29:45.291Z"
   },
   {
    "duration": 3,
    "start_time": "2022-09-04T14:30:21.937Z"
   },
   {
    "duration": 3,
    "start_time": "2022-09-04T14:30:32.115Z"
   },
   {
    "duration": 10054,
    "start_time": "2022-09-04T14:31:47.926Z"
   },
   {
    "duration": 22015,
    "start_time": "2022-09-04T14:31:57.982Z"
   },
   {
    "duration": 7,
    "start_time": "2022-09-04T14:32:19.999Z"
   },
   {
    "duration": 144,
    "start_time": "2022-09-04T14:35:47.658Z"
   },
   {
    "duration": 5,
    "start_time": "2022-09-04T14:47:40.941Z"
   },
   {
    "duration": 6,
    "start_time": "2022-09-04T14:47:45.949Z"
   },
   {
    "duration": 5,
    "start_time": "2022-09-04T14:47:50.298Z"
   },
   {
    "duration": 6,
    "start_time": "2022-09-04T14:48:02.702Z"
   },
   {
    "duration": 6,
    "start_time": "2022-09-04T14:48:23.051Z"
   },
   {
    "duration": 7,
    "start_time": "2022-09-04T14:48:27.545Z"
   },
   {
    "duration": 6,
    "start_time": "2022-09-04T14:48:30.208Z"
   },
   {
    "duration": 6,
    "start_time": "2022-09-04T14:49:11.407Z"
   },
   {
    "duration": 6,
    "start_time": "2022-09-04T14:49:19.842Z"
   },
   {
    "duration": 5,
    "start_time": "2022-09-04T14:49:33.065Z"
   },
   {
    "duration": 6,
    "start_time": "2022-09-04T14:49:40.450Z"
   },
   {
    "duration": 7,
    "start_time": "2022-09-04T14:50:51.466Z"
   },
   {
    "duration": 385,
    "start_time": "2022-09-04T14:51:53.597Z"
   },
   {
    "duration": 50,
    "start_time": "2022-09-05T08:24:40.164Z"
   },
   {
    "duration": 1574,
    "start_time": "2022-09-05T08:24:43.422Z"
   },
   {
    "duration": 4,
    "start_time": "2022-09-05T08:24:44.998Z"
   },
   {
    "duration": 2101,
    "start_time": "2022-09-05T08:24:45.003Z"
   },
   {
    "duration": 7,
    "start_time": "2022-09-05T08:24:47.106Z"
   },
   {
    "duration": 41,
    "start_time": "2022-09-05T08:24:47.114Z"
   },
   {
    "duration": 120,
    "start_time": "2022-09-05T08:26:07.794Z"
   },
   {
    "duration": 7,
    "start_time": "2022-09-05T08:26:21.969Z"
   },
   {
    "duration": 7,
    "start_time": "2022-09-05T08:26:21.979Z"
   },
   {
    "duration": 691,
    "start_time": "2022-09-05T08:26:21.988Z"
   },
   {
    "duration": 6,
    "start_time": "2022-09-05T08:26:22.681Z"
   },
   {
    "duration": 40,
    "start_time": "2022-09-05T08:26:22.689Z"
   },
   {
    "duration": 5,
    "start_time": "2022-09-05T08:26:22.731Z"
   },
   {
    "duration": 31,
    "start_time": "2022-09-05T08:26:22.738Z"
   },
   {
    "duration": 7,
    "start_time": "2022-09-05T08:26:22.771Z"
   },
   {
    "duration": 12,
    "start_time": "2022-09-05T08:26:22.780Z"
   },
   {
    "duration": 67,
    "start_time": "2022-09-05T08:26:55.301Z"
   },
   {
    "duration": 5,
    "start_time": "2022-09-05T08:29:07.914Z"
   },
   {
    "duration": 5,
    "start_time": "2022-09-05T08:29:21.022Z"
   },
   {
    "duration": 7,
    "start_time": "2022-09-05T08:30:50.382Z"
   },
   {
    "duration": 77,
    "start_time": "2022-09-05T08:31:56.457Z"
   },
   {
    "duration": 96,
    "start_time": "2022-09-05T08:33:01.953Z"
   },
   {
    "duration": 73,
    "start_time": "2022-09-05T08:33:27.458Z"
   },
   {
    "duration": 4,
    "start_time": "2022-09-05T08:35:36.421Z"
   },
   {
    "duration": 6,
    "start_time": "2022-09-05T08:35:36.429Z"
   },
   {
    "duration": 672,
    "start_time": "2022-09-05T08:35:36.437Z"
   },
   {
    "duration": 6,
    "start_time": "2022-09-05T08:35:37.110Z"
   },
   {
    "duration": 50,
    "start_time": "2022-09-05T08:35:37.118Z"
   },
   {
    "duration": 6,
    "start_time": "2022-09-05T08:35:37.169Z"
   },
   {
    "duration": 7,
    "start_time": "2022-09-05T08:35:37.176Z"
   },
   {
    "duration": 6,
    "start_time": "2022-09-05T08:35:37.185Z"
   },
   {
    "duration": 5,
    "start_time": "2022-09-05T08:35:37.193Z"
   },
   {
    "duration": 9,
    "start_time": "2022-09-05T08:35:37.199Z"
   },
   {
    "duration": 11,
    "start_time": "2022-09-05T08:35:37.210Z"
   },
   {
    "duration": 7,
    "start_time": "2022-09-05T08:35:37.223Z"
   },
   {
    "duration": 47,
    "start_time": "2022-09-05T08:35:37.232Z"
   },
   {
    "duration": 4,
    "start_time": "2022-09-05T08:35:37.280Z"
   },
   {
    "duration": 68,
    "start_time": "2022-09-05T08:35:37.285Z"
   },
   {
    "duration": 4,
    "start_time": "2022-09-05T08:35:37.368Z"
   },
   {
    "duration": 14,
    "start_time": "2022-09-05T08:35:37.374Z"
   },
   {
    "duration": 18,
    "start_time": "2022-09-05T08:35:37.389Z"
   },
   {
    "duration": 12,
    "start_time": "2022-09-05T08:35:37.408Z"
   },
   {
    "duration": 6,
    "start_time": "2022-09-05T08:35:37.421Z"
   },
   {
    "duration": 11,
    "start_time": "2022-09-05T08:35:37.429Z"
   },
   {
    "duration": 41,
    "start_time": "2022-09-05T08:35:37.441Z"
   },
   {
    "duration": 4,
    "start_time": "2022-09-05T08:35:37.483Z"
   },
   {
    "duration": 17,
    "start_time": "2022-09-05T08:35:37.489Z"
   },
   {
    "duration": 1448,
    "start_time": "2022-09-05T08:35:37.508Z"
   },
   {
    "duration": 18,
    "start_time": "2022-09-05T08:35:38.958Z"
   },
   {
    "duration": 514,
    "start_time": "2022-09-05T08:35:38.978Z"
   },
   {
    "duration": 9,
    "start_time": "2022-09-05T08:35:39.494Z"
   },
   {
    "duration": 7,
    "start_time": "2022-09-05T08:35:39.506Z"
   },
   {
    "duration": 364,
    "start_time": "2022-09-05T08:35:39.515Z"
   },
   {
    "duration": 387,
    "start_time": "2022-09-05T08:35:39.881Z"
   },
   {
    "duration": 11,
    "start_time": "2022-09-05T08:35:40.270Z"
   },
   {
    "duration": 3,
    "start_time": "2022-09-05T08:35:40.283Z"
   },
   {
    "duration": 26,
    "start_time": "2022-09-05T08:35:40.287Z"
   },
   {
    "duration": 4,
    "start_time": "2022-09-05T08:36:08.304Z"
   },
   {
    "duration": 10,
    "start_time": "2022-09-05T08:36:14.162Z"
   },
   {
    "duration": 4,
    "start_time": "2022-09-05T08:36:18.031Z"
   },
   {
    "duration": 10,
    "start_time": "2022-09-05T08:36:21.106Z"
   },
   {
    "duration": 2,
    "start_time": "2022-09-05T08:36:31.679Z"
   },
   {
    "duration": 103175,
    "start_time": "2022-09-05T08:36:39.133Z"
   },
   {
    "duration": 669,
    "start_time": "2022-09-05T08:49:15.405Z"
   },
   {
    "duration": 105061,
    "start_time": "2022-09-05T08:49:41.321Z"
   },
   {
    "duration": 542,
    "start_time": "2022-09-05T08:51:26.385Z"
   },
   {
    "duration": 607,
    "start_time": "2022-09-05T08:52:01.253Z"
   },
   {
    "duration": 724,
    "start_time": "2022-09-05T08:52:19.343Z"
   },
   {
    "duration": 1059,
    "start_time": "2022-09-05T08:52:29.925Z"
   },
   {
    "duration": 831,
    "start_time": "2022-09-05T08:52:59.328Z"
   },
   {
    "duration": 990,
    "start_time": "2022-09-05T08:53:04.371Z"
   },
   {
    "duration": 1073,
    "start_time": "2022-09-05T08:53:10.982Z"
   },
   {
    "duration": 1099,
    "start_time": "2022-09-05T08:53:28.804Z"
   },
   {
    "duration": 87,
    "start_time": "2022-09-05T08:54:12.116Z"
   },
   {
    "duration": 82,
    "start_time": "2022-09-05T08:54:15.748Z"
   },
   {
    "duration": 297,
    "start_time": "2022-09-05T08:55:33.241Z"
   },
   {
    "duration": 5,
    "start_time": "2022-09-05T08:56:04.953Z"
   },
   {
    "duration": 4,
    "start_time": "2022-09-05T08:56:30.816Z"
   },
   {
    "duration": 22,
    "start_time": "2022-09-05T08:57:25.826Z"
   },
   {
    "duration": 1589,
    "start_time": "2022-09-05T08:58:36.352Z"
   },
   {
    "duration": 1406,
    "start_time": "2022-09-05T08:58:54.134Z"
   },
   {
    "duration": 1596,
    "start_time": "2022-09-05T08:59:06.816Z"
   },
   {
    "duration": 10,
    "start_time": "2022-09-05T09:05:18.848Z"
   },
   {
    "duration": 11,
    "start_time": "2022-09-05T09:07:17.807Z"
   },
   {
    "duration": 7,
    "start_time": "2022-09-05T09:07:19.920Z"
   },
   {
    "duration": 1206,
    "start_time": "2022-09-05T09:07:21.607Z"
   },
   {
    "duration": 10,
    "start_time": "2022-09-05T09:08:25.809Z"
   },
   {
    "duration": 11,
    "start_time": "2022-09-05T09:08:38.052Z"
   },
   {
    "duration": 10,
    "start_time": "2022-09-05T09:08:42.436Z"
   },
   {
    "duration": 1000,
    "start_time": "2022-09-05T09:11:12.239Z"
   },
   {
    "duration": 1138,
    "start_time": "2022-09-05T09:11:37.051Z"
   },
   {
    "duration": 9,
    "start_time": "2022-09-05T09:12:30.509Z"
   },
   {
    "duration": 7,
    "start_time": "2022-09-05T09:12:59.646Z"
   },
   {
    "duration": 9,
    "start_time": "2022-09-05T09:13:01.435Z"
   },
   {
    "duration": 8,
    "start_time": "2022-09-05T09:13:32.923Z"
   },
   {
    "duration": 1341,
    "start_time": "2022-09-05T09:13:58.175Z"
   },
   {
    "duration": 1312,
    "start_time": "2022-09-05T09:14:25.014Z"
   },
   {
    "duration": 1628,
    "start_time": "2022-09-05T09:14:39.242Z"
   },
   {
    "duration": 1814,
    "start_time": "2022-09-05T09:14:48.854Z"
   },
   {
    "duration": 6,
    "start_time": "2022-09-05T09:15:26.615Z"
   },
   {
    "duration": 10,
    "start_time": "2022-09-05T09:15:26.624Z"
   },
   {
    "duration": 703,
    "start_time": "2022-09-05T09:15:26.637Z"
   },
   {
    "duration": 8,
    "start_time": "2022-09-05T09:15:27.342Z"
   },
   {
    "duration": 54,
    "start_time": "2022-09-05T09:15:27.351Z"
   },
   {
    "duration": 5,
    "start_time": "2022-09-05T09:15:27.406Z"
   },
   {
    "duration": 9,
    "start_time": "2022-09-05T09:15:27.413Z"
   },
   {
    "duration": 9,
    "start_time": "2022-09-05T09:15:27.424Z"
   },
   {
    "duration": 9,
    "start_time": "2022-09-05T09:15:27.434Z"
   },
   {
    "duration": 26,
    "start_time": "2022-09-05T09:15:27.445Z"
   },
   {
    "duration": 8,
    "start_time": "2022-09-05T09:15:27.473Z"
   },
   {
    "duration": 8,
    "start_time": "2022-09-05T09:15:27.483Z"
   },
   {
    "duration": 15,
    "start_time": "2022-09-05T09:15:27.493Z"
   },
   {
    "duration": 4,
    "start_time": "2022-09-05T09:15:27.510Z"
   },
   {
    "duration": 106,
    "start_time": "2022-09-05T09:15:27.516Z"
   },
   {
    "duration": 6,
    "start_time": "2022-09-05T09:15:27.624Z"
   },
   {
    "duration": 17,
    "start_time": "2022-09-05T09:15:27.633Z"
   },
   {
    "duration": 29,
    "start_time": "2022-09-05T09:15:27.651Z"
   },
   {
    "duration": 8,
    "start_time": "2022-09-05T09:15:27.682Z"
   },
   {
    "duration": 15,
    "start_time": "2022-09-05T09:15:27.692Z"
   },
   {
    "duration": 26,
    "start_time": "2022-09-05T09:15:27.709Z"
   },
   {
    "duration": 5,
    "start_time": "2022-09-05T09:15:27.768Z"
   },
   {
    "duration": 8,
    "start_time": "2022-09-05T09:15:27.775Z"
   },
   {
    "duration": 1635,
    "start_time": "2022-09-05T09:15:29.495Z"
   },
   {
    "duration": 1618,
    "start_time": "2022-09-05T09:15:58.056Z"
   },
   {
    "duration": 13,
    "start_time": "2022-09-05T09:16:04.026Z"
   },
   {
    "duration": 1093,
    "start_time": "2022-09-05T09:16:06.171Z"
   },
   {
    "duration": 9,
    "start_time": "2022-09-05T09:16:17.983Z"
   },
   {
    "duration": 8,
    "start_time": "2022-09-05T09:16:41.240Z"
   },
   {
    "duration": 1125,
    "start_time": "2022-09-05T09:16:54.315Z"
   },
   {
    "duration": 7,
    "start_time": "2022-09-05T09:17:32.836Z"
   },
   {
    "duration": 1022,
    "start_time": "2022-09-05T09:17:34.085Z"
   },
   {
    "duration": 9,
    "start_time": "2022-09-05T09:18:00.390Z"
   },
   {
    "duration": 9,
    "start_time": "2022-09-05T09:18:07.623Z"
   },
   {
    "duration": 10,
    "start_time": "2022-09-05T09:18:16.829Z"
   },
   {
    "duration": 10,
    "start_time": "2022-09-05T09:18:58.400Z"
   },
   {
    "duration": 1133,
    "start_time": "2022-09-05T09:18:58.914Z"
   },
   {
    "duration": 1989,
    "start_time": "2022-09-05T09:21:36.571Z"
   },
   {
    "duration": 415,
    "start_time": "2022-09-05T09:22:12.021Z"
   },
   {
    "duration": 1627,
    "start_time": "2022-09-05T09:22:15.544Z"
   },
   {
    "duration": 412,
    "start_time": "2022-09-05T09:22:20.578Z"
   },
   {
    "duration": 1244,
    "start_time": "2022-09-05T09:22:33.369Z"
   },
   {
    "duration": 11,
    "start_time": "2022-09-05T09:22:48.270Z"
   },
   {
    "duration": 11,
    "start_time": "2022-09-05T09:23:01.526Z"
   },
   {
    "duration": 21,
    "start_time": "2022-09-05T09:23:08.905Z"
   },
   {
    "duration": 6,
    "start_time": "2022-09-05T09:29:51.407Z"
   },
   {
    "duration": 4,
    "start_time": "2022-09-05T09:58:15.064Z"
   },
   {
    "duration": 10,
    "start_time": "2022-09-05T09:58:15.070Z"
   },
   {
    "duration": 698,
    "start_time": "2022-09-05T09:58:15.081Z"
   },
   {
    "duration": 11,
    "start_time": "2022-09-05T09:58:15.782Z"
   },
   {
    "duration": 49,
    "start_time": "2022-09-05T09:58:15.795Z"
   },
   {
    "duration": 23,
    "start_time": "2022-09-05T09:58:15.846Z"
   },
   {
    "duration": 11,
    "start_time": "2022-09-05T09:58:15.872Z"
   },
   {
    "duration": 13,
    "start_time": "2022-09-05T09:58:15.884Z"
   },
   {
    "duration": 5,
    "start_time": "2022-09-05T09:58:15.900Z"
   },
   {
    "duration": 11,
    "start_time": "2022-09-05T09:58:15.907Z"
   },
   {
    "duration": 8,
    "start_time": "2022-09-05T09:58:27.838Z"
   },
   {
    "duration": 8,
    "start_time": "2022-09-05T09:58:28.648Z"
   },
   {
    "duration": 13,
    "start_time": "2022-09-05T09:58:31.897Z"
   },
   {
    "duration": 4,
    "start_time": "2022-09-05T09:58:32.748Z"
   },
   {
    "duration": 68,
    "start_time": "2022-09-05T09:58:34.274Z"
   },
   {
    "duration": 8,
    "start_time": "2022-09-05T09:58:36.495Z"
   },
   {
    "duration": 15,
    "start_time": "2022-09-05T09:58:38.379Z"
   },
   {
    "duration": 18,
    "start_time": "2022-09-05T09:58:40.037Z"
   },
   {
    "duration": 7,
    "start_time": "2022-09-05T09:58:41.327Z"
   },
   {
    "duration": 13,
    "start_time": "2022-09-05T09:58:47.049Z"
   },
   {
    "duration": 25,
    "start_time": "2022-09-05T09:58:48.019Z"
   },
   {
    "duration": 7,
    "start_time": "2022-09-05T09:58:49.019Z"
   },
   {
    "duration": 6,
    "start_time": "2022-09-05T09:59:07.645Z"
   },
   {
    "duration": 11,
    "start_time": "2022-09-05T09:59:09.091Z"
   },
   {
    "duration": 11,
    "start_time": "2022-09-05T09:59:17.692Z"
   },
   {
    "duration": 10,
    "start_time": "2022-09-05T09:59:18.664Z"
   },
   {
    "duration": 5,
    "start_time": "2022-09-05T10:01:19.945Z"
   },
   {
    "duration": 11,
    "start_time": "2022-09-05T10:01:21.405Z"
   },
   {
    "duration": 17,
    "start_time": "2022-09-05T10:01:44.838Z"
   },
   {
    "duration": 5,
    "start_time": "2022-09-05T10:01:46.578Z"
   },
   {
    "duration": 70,
    "start_time": "2022-09-05T10:01:51.597Z"
   },
   {
    "duration": 14,
    "start_time": "2022-09-05T10:02:07.677Z"
   },
   {
    "duration": 12,
    "start_time": "2022-09-05T10:02:44.145Z"
   },
   {
    "duration": 6,
    "start_time": "2022-09-05T10:02:54.590Z"
   },
   {
    "duration": 12,
    "start_time": "2022-09-05T10:03:17.534Z"
   },
   {
    "duration": 4,
    "start_time": "2022-09-05T10:03:22.781Z"
   },
   {
    "duration": 5,
    "start_time": "2022-09-05T10:03:22.787Z"
   },
   {
    "duration": 684,
    "start_time": "2022-09-05T10:03:22.794Z"
   },
   {
    "duration": 6,
    "start_time": "2022-09-05T10:03:23.480Z"
   },
   {
    "duration": 178,
    "start_time": "2022-09-05T10:03:23.489Z"
   },
   {
    "duration": 5,
    "start_time": "2022-09-05T10:03:23.669Z"
   },
   {
    "duration": 9,
    "start_time": "2022-09-05T10:03:23.676Z"
   },
   {
    "duration": 6,
    "start_time": "2022-09-05T10:03:23.687Z"
   },
   {
    "duration": 7,
    "start_time": "2022-09-05T10:03:23.694Z"
   },
   {
    "duration": 10,
    "start_time": "2022-09-05T10:03:23.703Z"
   },
   {
    "duration": 6,
    "start_time": "2022-09-05T10:03:23.715Z"
   },
   {
    "duration": 47,
    "start_time": "2022-09-05T10:03:23.722Z"
   },
   {
    "duration": 16,
    "start_time": "2022-09-05T10:03:23.771Z"
   },
   {
    "duration": 4,
    "start_time": "2022-09-05T10:03:23.790Z"
   },
   {
    "duration": 88,
    "start_time": "2022-09-05T10:03:23.795Z"
   },
   {
    "duration": 12,
    "start_time": "2022-09-05T10:03:26.213Z"
   },
   {
    "duration": 15,
    "start_time": "2022-09-05T10:06:36.527Z"
   },
   {
    "duration": 4,
    "start_time": "2022-09-05T10:06:36.968Z"
   },
   {
    "duration": 4,
    "start_time": "2022-09-05T10:06:44.752Z"
   },
   {
    "duration": 11,
    "start_time": "2022-09-05T10:06:44.758Z"
   },
   {
    "duration": 650,
    "start_time": "2022-09-05T10:06:44.771Z"
   },
   {
    "duration": 6,
    "start_time": "2022-09-05T10:06:45.423Z"
   },
   {
    "duration": 53,
    "start_time": "2022-09-05T10:06:45.431Z"
   },
   {
    "duration": 6,
    "start_time": "2022-09-05T10:06:45.486Z"
   },
   {
    "duration": 12,
    "start_time": "2022-09-05T10:06:45.493Z"
   },
   {
    "duration": 9,
    "start_time": "2022-09-05T10:06:45.507Z"
   },
   {
    "duration": 6,
    "start_time": "2022-09-05T10:06:45.518Z"
   },
   {
    "duration": 14,
    "start_time": "2022-09-05T10:06:45.526Z"
   },
   {
    "duration": 6,
    "start_time": "2022-09-05T10:06:45.568Z"
   },
   {
    "duration": 12,
    "start_time": "2022-09-05T10:06:45.575Z"
   },
   {
    "duration": 16,
    "start_time": "2022-09-05T10:06:45.588Z"
   },
   {
    "duration": 13,
    "start_time": "2022-09-05T10:06:48.780Z"
   },
   {
    "duration": 4,
    "start_time": "2022-09-05T10:06:49.414Z"
   },
   {
    "duration": 79,
    "start_time": "2022-09-05T10:06:50.717Z"
   },
   {
    "duration": 12,
    "start_time": "2022-09-05T10:06:53.104Z"
   },
   {
    "duration": 1522,
    "start_time": "2022-09-05T10:07:09.766Z"
   },
   {
    "duration": 4,
    "start_time": "2022-09-05T10:07:53.044Z"
   },
   {
    "duration": 4,
    "start_time": "2022-09-05T10:07:53.053Z"
   },
   {
    "duration": 655,
    "start_time": "2022-09-05T10:07:53.059Z"
   },
   {
    "duration": 8,
    "start_time": "2022-09-05T10:07:53.715Z"
   },
   {
    "duration": 62,
    "start_time": "2022-09-05T10:07:53.725Z"
   },
   {
    "duration": 6,
    "start_time": "2022-09-05T10:07:53.790Z"
   },
   {
    "duration": 12,
    "start_time": "2022-09-05T10:07:53.798Z"
   },
   {
    "duration": 7,
    "start_time": "2022-09-05T10:07:53.812Z"
   },
   {
    "duration": 5,
    "start_time": "2022-09-05T10:07:53.821Z"
   },
   {
    "duration": 41,
    "start_time": "2022-09-05T10:07:53.828Z"
   },
   {
    "duration": 9,
    "start_time": "2022-09-05T10:07:53.871Z"
   },
   {
    "duration": 11,
    "start_time": "2022-09-05T10:07:53.882Z"
   },
   {
    "duration": 39,
    "start_time": "2022-09-05T10:07:56.169Z"
   },
   {
    "duration": 4,
    "start_time": "2022-09-05T10:07:56.858Z"
   },
   {
    "duration": 120,
    "start_time": "2022-09-05T10:07:57.705Z"
   },
   {
    "duration": 14,
    "start_time": "2022-09-05T10:08:00.225Z"
   },
   {
    "duration": 14,
    "start_time": "2022-09-05T10:08:04.017Z"
   },
   {
    "duration": 13,
    "start_time": "2022-09-05T10:08:04.911Z"
   },
   {
    "duration": 7,
    "start_time": "2022-09-05T10:08:05.277Z"
   },
   {
    "duration": 11,
    "start_time": "2022-09-05T10:08:05.675Z"
   },
   {
    "duration": 23,
    "start_time": "2022-09-05T10:08:05.873Z"
   },
   {
    "duration": 6,
    "start_time": "2022-09-05T10:08:06.085Z"
   },
   {
    "duration": 7,
    "start_time": "2022-09-05T10:08:08.628Z"
   },
   {
    "duration": 4,
    "start_time": "2022-09-05T10:08:47.173Z"
   },
   {
    "duration": 22,
    "start_time": "2022-09-05T10:08:47.179Z"
   },
   {
    "duration": 625,
    "start_time": "2022-09-05T10:08:47.203Z"
   },
   {
    "duration": 5,
    "start_time": "2022-09-05T10:08:47.830Z"
   },
   {
    "duration": 53,
    "start_time": "2022-09-05T10:08:47.837Z"
   },
   {
    "duration": 6,
    "start_time": "2022-09-05T10:08:47.892Z"
   },
   {
    "duration": 9,
    "start_time": "2022-09-05T10:08:47.899Z"
   },
   {
    "duration": 5,
    "start_time": "2022-09-05T10:08:47.910Z"
   },
   {
    "duration": 10,
    "start_time": "2022-09-05T10:08:47.916Z"
   },
   {
    "duration": 12,
    "start_time": "2022-09-05T10:08:47.928Z"
   },
   {
    "duration": 26,
    "start_time": "2022-09-05T10:08:47.943Z"
   },
   {
    "duration": 11,
    "start_time": "2022-09-05T10:08:47.970Z"
   },
   {
    "duration": 40,
    "start_time": "2022-09-05T10:08:47.983Z"
   },
   {
    "duration": 4,
    "start_time": "2022-09-05T10:08:48.024Z"
   },
   {
    "duration": 141,
    "start_time": "2022-09-05T10:08:48.029Z"
   },
   {
    "duration": 14,
    "start_time": "2022-09-05T10:08:48.171Z"
   },
   {
    "duration": 15,
    "start_time": "2022-09-05T10:08:48.186Z"
   },
   {
    "duration": 13,
    "start_time": "2022-09-05T10:08:48.202Z"
   },
   {
    "duration": 8,
    "start_time": "2022-09-05T10:08:48.216Z"
   },
   {
    "duration": 45,
    "start_time": "2022-09-05T10:08:48.226Z"
   },
   {
    "duration": 25,
    "start_time": "2022-09-05T10:08:48.273Z"
   },
   {
    "duration": 6,
    "start_time": "2022-09-05T10:08:48.300Z"
   },
   {
    "duration": 1433,
    "start_time": "2022-09-05T10:08:49.454Z"
   },
   {
    "duration": 18,
    "start_time": "2022-09-05T10:09:14.158Z"
   },
   {
    "duration": 15,
    "start_time": "2022-09-05T10:11:38.440Z"
   },
   {
    "duration": 1135,
    "start_time": "2022-09-05T10:12:01.964Z"
   },
   {
    "duration": 9,
    "start_time": "2022-09-05T10:12:07.858Z"
   },
   {
    "duration": 6,
    "start_time": "2022-09-05T10:12:11.933Z"
   },
   {
    "duration": 11,
    "start_time": "2022-09-05T10:12:24.738Z"
   },
   {
    "duration": 11,
    "start_time": "2022-09-05T10:12:53.820Z"
   },
   {
    "duration": 1082,
    "start_time": "2022-09-05T10:12:59.021Z"
   },
   {
    "duration": 491,
    "start_time": "2022-09-05T10:13:21.530Z"
   },
   {
    "duration": 409,
    "start_time": "2022-09-05T10:13:32.830Z"
   },
   {
    "duration": 67,
    "start_time": "2022-09-05T10:18:48.668Z"
   },
   {
    "duration": 4,
    "start_time": "2022-09-05T10:18:56.803Z"
   },
   {
    "duration": 700,
    "start_time": "2022-09-05T10:19:20.960Z"
   },
   {
    "duration": 440,
    "start_time": "2022-09-05T10:19:42.065Z"
   },
   {
    "duration": 4,
    "start_time": "2022-09-05T10:20:27.296Z"
   },
   {
    "duration": 8,
    "start_time": "2022-09-05T10:20:27.302Z"
   },
   {
    "duration": 639,
    "start_time": "2022-09-05T10:20:27.312Z"
   },
   {
    "duration": 15,
    "start_time": "2022-09-05T10:20:27.953Z"
   },
   {
    "duration": 47,
    "start_time": "2022-09-05T10:20:27.972Z"
   },
   {
    "duration": 6,
    "start_time": "2022-09-05T10:20:28.020Z"
   },
   {
    "duration": 7,
    "start_time": "2022-09-05T10:20:28.028Z"
   },
   {
    "duration": 32,
    "start_time": "2022-09-05T10:20:28.037Z"
   },
   {
    "duration": 8,
    "start_time": "2022-09-05T10:20:28.071Z"
   },
   {
    "duration": 8,
    "start_time": "2022-09-05T10:20:28.080Z"
   },
   {
    "duration": 11,
    "start_time": "2022-09-05T10:20:28.092Z"
   },
   {
    "duration": 11,
    "start_time": "2022-09-05T10:20:28.104Z"
   },
   {
    "duration": 68,
    "start_time": "2022-09-05T10:20:28.116Z"
   },
   {
    "duration": 3,
    "start_time": "2022-09-05T10:20:28.186Z"
   },
   {
    "duration": 133,
    "start_time": "2022-09-05T10:20:28.191Z"
   },
   {
    "duration": 14,
    "start_time": "2022-09-05T10:20:28.326Z"
   },
   {
    "duration": 34,
    "start_time": "2022-09-05T10:20:28.342Z"
   },
   {
    "duration": 7,
    "start_time": "2022-09-05T10:20:28.378Z"
   },
   {
    "duration": 13,
    "start_time": "2022-09-05T10:20:28.386Z"
   },
   {
    "duration": 26,
    "start_time": "2022-09-05T10:20:28.401Z"
   },
   {
    "duration": 39,
    "start_time": "2022-09-05T10:20:28.429Z"
   },
   {
    "duration": 1600,
    "start_time": "2022-09-05T10:20:28.470Z"
   },
   {
    "duration": 15,
    "start_time": "2022-09-05T10:20:30.073Z"
   },
   {
    "duration": 1388,
    "start_time": "2022-09-05T10:20:30.090Z"
   },
   {
    "duration": 11,
    "start_time": "2022-09-05T10:20:31.480Z"
   },
   {
    "duration": 40,
    "start_time": "2022-09-05T10:20:31.495Z"
   },
   {
    "duration": 32,
    "start_time": "2022-09-05T10:20:31.537Z"
   },
   {
    "duration": 19,
    "start_time": "2022-09-05T10:20:31.571Z"
   },
   {
    "duration": 1002,
    "start_time": "2022-09-05T10:20:31.594Z"
   },
   {
    "duration": 432,
    "start_time": "2022-09-05T10:20:32.597Z"
   },
   {
    "duration": 395,
    "start_time": "2022-09-05T10:20:33.032Z"
   },
   {
    "duration": 11,
    "start_time": "2022-09-05T10:20:33.429Z"
   },
   {
    "duration": 93,
    "start_time": "2022-09-05T10:20:33.442Z"
   },
   {
    "duration": 728,
    "start_time": "2022-09-05T10:20:33.536Z"
   },
   {
    "duration": 3,
    "start_time": "2022-09-05T10:20:34.267Z"
   },
   {
    "duration": 14,
    "start_time": "2022-09-05T10:20:37.618Z"
   },
   {
    "duration": 12,
    "start_time": "2022-09-05T10:21:17.837Z"
   },
   {
    "duration": 976,
    "start_time": "2022-09-05T10:21:18.333Z"
   },
   {
    "duration": 4,
    "start_time": "2022-09-05T10:21:29.862Z"
   },
   {
    "duration": 11,
    "start_time": "2022-09-05T10:21:29.868Z"
   },
   {
    "duration": 628,
    "start_time": "2022-09-05T10:21:29.881Z"
   },
   {
    "duration": 8,
    "start_time": "2022-09-05T10:21:30.512Z"
   },
   {
    "duration": 62,
    "start_time": "2022-09-05T10:21:30.521Z"
   },
   {
    "duration": 6,
    "start_time": "2022-09-05T10:21:30.585Z"
   },
   {
    "duration": 31,
    "start_time": "2022-09-05T10:21:30.593Z"
   },
   {
    "duration": 21,
    "start_time": "2022-09-05T10:21:30.626Z"
   },
   {
    "duration": 21,
    "start_time": "2022-09-05T10:21:30.650Z"
   },
   {
    "duration": 29,
    "start_time": "2022-09-05T10:21:30.673Z"
   },
   {
    "duration": 20,
    "start_time": "2022-09-05T10:21:30.704Z"
   },
   {
    "duration": 17,
    "start_time": "2022-09-05T10:21:30.726Z"
   },
   {
    "duration": 57,
    "start_time": "2022-09-05T10:21:30.745Z"
   },
   {
    "duration": 3,
    "start_time": "2022-09-05T10:21:30.804Z"
   },
   {
    "duration": 141,
    "start_time": "2022-09-05T10:21:30.809Z"
   },
   {
    "duration": 24,
    "start_time": "2022-09-05T10:21:30.953Z"
   },
   {
    "duration": 19,
    "start_time": "2022-09-05T10:21:30.979Z"
   },
   {
    "duration": 49,
    "start_time": "2022-09-05T10:21:30.999Z"
   },
   {
    "duration": 28,
    "start_time": "2022-09-05T10:21:31.049Z"
   },
   {
    "duration": 37,
    "start_time": "2022-09-05T10:21:31.079Z"
   },
   {
    "duration": 6,
    "start_time": "2022-09-05T10:21:31.118Z"
   },
   {
    "duration": 1818,
    "start_time": "2022-09-05T10:21:31.126Z"
   },
   {
    "duration": 33,
    "start_time": "2022-09-05T10:21:32.946Z"
   },
   {
    "duration": 1086,
    "start_time": "2022-09-05T10:21:32.984Z"
   },
   {
    "duration": 9,
    "start_time": "2022-09-05T10:21:34.072Z"
   },
   {
    "duration": 7,
    "start_time": "2022-09-05T10:21:34.082Z"
   },
   {
    "duration": 12,
    "start_time": "2022-09-05T10:21:34.091Z"
   },
   {
    "duration": 8,
    "start_time": "2022-09-05T10:21:34.105Z"
   },
   {
    "duration": 1031,
    "start_time": "2022-09-05T10:21:34.115Z"
   },
   {
    "duration": 12,
    "start_time": "2022-09-05T10:21:59.680Z"
   },
   {
    "duration": 1388,
    "start_time": "2022-09-05T10:22:00.106Z"
   },
   {
    "duration": 542,
    "start_time": "2022-09-05T10:23:01.406Z"
   },
   {
    "duration": 13,
    "start_time": "2022-09-05T10:27:13.821Z"
   },
   {
    "duration": 74,
    "start_time": "2022-09-05T10:28:07.665Z"
   },
   {
    "duration": 4,
    "start_time": "2022-09-05T10:30:00.681Z"
   },
   {
    "duration": 7,
    "start_time": "2022-09-05T10:30:00.686Z"
   },
   {
    "duration": 643,
    "start_time": "2022-09-05T10:30:00.695Z"
   },
   {
    "duration": 7,
    "start_time": "2022-09-05T10:30:01.340Z"
   },
   {
    "duration": 57,
    "start_time": "2022-09-05T10:30:01.350Z"
   },
   {
    "duration": 8,
    "start_time": "2022-09-05T10:30:01.409Z"
   },
   {
    "duration": 15,
    "start_time": "2022-09-05T10:30:01.419Z"
   },
   {
    "duration": 14,
    "start_time": "2022-09-05T10:30:01.437Z"
   },
   {
    "duration": 5,
    "start_time": "2022-09-05T10:30:01.471Z"
   },
   {
    "duration": 16,
    "start_time": "2022-09-05T10:30:01.478Z"
   },
   {
    "duration": 47,
    "start_time": "2022-09-05T10:30:01.499Z"
   },
   {
    "duration": 22,
    "start_time": "2022-09-05T10:30:01.548Z"
   },
   {
    "duration": 55,
    "start_time": "2022-09-05T10:30:01.572Z"
   },
   {
    "duration": 4,
    "start_time": "2022-09-05T10:30:01.629Z"
   },
   {
    "duration": 145,
    "start_time": "2022-09-05T10:30:01.635Z"
   },
   {
    "duration": 18,
    "start_time": "2022-09-05T10:30:01.782Z"
   },
   {
    "duration": 15,
    "start_time": "2022-09-05T10:30:01.802Z"
   },
   {
    "duration": 11,
    "start_time": "2022-09-05T10:30:01.819Z"
   },
   {
    "duration": 43,
    "start_time": "2022-09-05T10:30:01.832Z"
   },
   {
    "duration": 26,
    "start_time": "2022-09-05T10:30:01.877Z"
   },
   {
    "duration": 183,
    "start_time": "2022-09-05T10:30:01.905Z"
   },
   {
    "duration": 0,
    "start_time": "2022-09-05T10:30:02.090Z"
   },
   {
    "duration": 0,
    "start_time": "2022-09-05T10:30:02.091Z"
   },
   {
    "duration": 0,
    "start_time": "2022-09-05T10:30:02.092Z"
   },
   {
    "duration": 0,
    "start_time": "2022-09-05T10:30:02.093Z"
   },
   {
    "duration": 0,
    "start_time": "2022-09-05T10:30:02.095Z"
   },
   {
    "duration": 0,
    "start_time": "2022-09-05T10:30:02.096Z"
   },
   {
    "duration": 0,
    "start_time": "2022-09-05T10:30:02.098Z"
   },
   {
    "duration": 1,
    "start_time": "2022-09-05T10:30:02.098Z"
   },
   {
    "duration": 0,
    "start_time": "2022-09-05T10:30:02.100Z"
   },
   {
    "duration": 0,
    "start_time": "2022-09-05T10:30:02.101Z"
   },
   {
    "duration": 0,
    "start_time": "2022-09-05T10:30:02.102Z"
   },
   {
    "duration": 0,
    "start_time": "2022-09-05T10:30:02.103Z"
   },
   {
    "duration": 0,
    "start_time": "2022-09-05T10:30:02.104Z"
   },
   {
    "duration": 0,
    "start_time": "2022-09-05T10:30:02.105Z"
   },
   {
    "duration": 0,
    "start_time": "2022-09-05T10:30:02.107Z"
   },
   {
    "duration": 15,
    "start_time": "2022-09-05T10:30:05.251Z"
   },
   {
    "duration": 8,
    "start_time": "2022-09-05T10:30:06.493Z"
   },
   {
    "duration": 5,
    "start_time": "2022-09-05T10:30:27.923Z"
   },
   {
    "duration": 15,
    "start_time": "2022-09-05T10:30:27.931Z"
   },
   {
    "duration": 721,
    "start_time": "2022-09-05T10:30:27.949Z"
   },
   {
    "duration": 7,
    "start_time": "2022-09-05T10:30:28.673Z"
   },
   {
    "duration": 48,
    "start_time": "2022-09-05T10:30:28.682Z"
   },
   {
    "duration": 6,
    "start_time": "2022-09-05T10:30:28.732Z"
   },
   {
    "duration": 35,
    "start_time": "2022-09-05T10:30:28.740Z"
   },
   {
    "duration": 13,
    "start_time": "2022-09-05T10:30:28.778Z"
   },
   {
    "duration": 18,
    "start_time": "2022-09-05T10:30:28.795Z"
   },
   {
    "duration": 12,
    "start_time": "2022-09-05T10:30:28.815Z"
   },
   {
    "duration": 26,
    "start_time": "2022-09-05T10:30:28.829Z"
   },
   {
    "duration": 19,
    "start_time": "2022-09-05T10:30:28.858Z"
   },
   {
    "duration": 56,
    "start_time": "2022-09-05T10:30:28.879Z"
   },
   {
    "duration": 5,
    "start_time": "2022-09-05T10:30:28.937Z"
   },
   {
    "duration": 159,
    "start_time": "2022-09-05T10:30:28.943Z"
   },
   {
    "duration": 21,
    "start_time": "2022-09-05T10:30:29.104Z"
   },
   {
    "duration": 24,
    "start_time": "2022-09-05T10:30:29.128Z"
   },
   {
    "duration": 8,
    "start_time": "2022-09-05T10:30:29.168Z"
   },
   {
    "duration": 23,
    "start_time": "2022-09-05T10:30:29.177Z"
   },
   {
    "duration": 31,
    "start_time": "2022-09-05T10:30:29.202Z"
   },
   {
    "duration": 1971,
    "start_time": "2022-09-05T10:30:29.235Z"
   },
   {
    "duration": 14,
    "start_time": "2022-09-05T10:30:31.207Z"
   },
   {
    "duration": 1064,
    "start_time": "2022-09-05T10:30:31.223Z"
   },
   {
    "duration": 11,
    "start_time": "2022-09-05T10:30:32.290Z"
   },
   {
    "duration": 9,
    "start_time": "2022-09-05T10:30:32.302Z"
   },
   {
    "duration": 17,
    "start_time": "2022-09-05T10:30:32.313Z"
   },
   {
    "duration": 37,
    "start_time": "2022-09-05T10:30:32.332Z"
   },
   {
    "duration": 535,
    "start_time": "2022-09-05T10:30:32.371Z"
   },
   {
    "duration": 440,
    "start_time": "2022-09-05T10:30:32.908Z"
   },
   {
    "duration": 430,
    "start_time": "2022-09-05T10:30:33.350Z"
   },
   {
    "duration": 11,
    "start_time": "2022-09-05T10:30:33.782Z"
   },
   {
    "duration": 91,
    "start_time": "2022-09-05T10:30:33.795Z"
   },
   {
    "duration": 824,
    "start_time": "2022-09-05T10:30:33.888Z"
   },
   {
    "duration": 4,
    "start_time": "2022-09-05T10:30:34.714Z"
   },
   {
    "duration": 22,
    "start_time": "2022-09-05T10:30:34.720Z"
   },
   {
    "duration": 25,
    "start_time": "2022-09-05T10:30:34.745Z"
   },
   {
    "duration": 8,
    "start_time": "2022-09-05T10:30:55.304Z"
   },
   {
    "duration": 5,
    "start_time": "2022-09-05T10:30:56.610Z"
   },
   {
    "duration": 9723,
    "start_time": "2022-09-05T10:31:06.703Z"
   },
   {
    "duration": 4,
    "start_time": "2022-09-05T10:32:55.104Z"
   },
   {
    "duration": 10,
    "start_time": "2022-09-05T10:33:06.627Z"
   },
   {
    "duration": 4,
    "start_time": "2022-09-05T10:33:10.212Z"
   },
   {
    "duration": 7,
    "start_time": "2022-09-05T10:33:15.290Z"
   },
   {
    "duration": 11,
    "start_time": "2022-09-05T10:33:51.202Z"
   },
   {
    "duration": 1573,
    "start_time": "2022-09-05T10:34:02.169Z"
   },
   {
    "duration": 11,
    "start_time": "2022-09-05T10:34:08.447Z"
   },
   {
    "duration": 6,
    "start_time": "2022-09-05T10:34:08.661Z"
   },
   {
    "duration": 2,
    "start_time": "2022-09-05T10:34:09.976Z"
   },
   {
    "duration": 1624,
    "start_time": "2022-09-05T10:34:10.339Z"
   },
   {
    "duration": 14,
    "start_time": "2022-09-05T10:34:43.776Z"
   },
   {
    "duration": 8,
    "start_time": "2022-09-05T10:34:44.677Z"
   },
   {
    "duration": 3,
    "start_time": "2022-09-05T10:34:45.853Z"
   },
   {
    "duration": 1653,
    "start_time": "2022-09-05T10:34:46.038Z"
   },
   {
    "duration": 7,
    "start_time": "2022-09-05T10:35:25.308Z"
   },
   {
    "duration": 8,
    "start_time": "2022-09-05T10:35:28.570Z"
   },
   {
    "duration": 40,
    "start_time": "2022-09-05T10:36:27.305Z"
   },
   {
    "duration": 4,
    "start_time": "2022-09-05T10:36:39.029Z"
   },
   {
    "duration": 10,
    "start_time": "2022-09-05T10:37:27.204Z"
   },
   {
    "duration": 13,
    "start_time": "2022-09-05T10:37:38.380Z"
   },
   {
    "duration": 108,
    "start_time": "2022-09-05T10:37:45.970Z"
   },
   {
    "duration": 13,
    "start_time": "2022-09-05T10:37:56.573Z"
   },
   {
    "duration": 4,
    "start_time": "2022-09-05T10:38:09.600Z"
   },
   {
    "duration": 8,
    "start_time": "2022-09-05T10:38:09.606Z"
   },
   {
    "duration": 653,
    "start_time": "2022-09-05T10:38:09.616Z"
   },
   {
    "duration": 7,
    "start_time": "2022-09-05T10:38:10.271Z"
   },
   {
    "duration": 54,
    "start_time": "2022-09-05T10:38:10.280Z"
   },
   {
    "duration": 31,
    "start_time": "2022-09-05T10:38:10.337Z"
   },
   {
    "duration": 8,
    "start_time": "2022-09-05T10:38:10.370Z"
   },
   {
    "duration": 10,
    "start_time": "2022-09-05T10:38:10.380Z"
   },
   {
    "duration": 12,
    "start_time": "2022-09-05T10:38:10.392Z"
   },
   {
    "duration": 16,
    "start_time": "2022-09-05T10:38:10.407Z"
   },
   {
    "duration": 14,
    "start_time": "2022-09-05T10:38:10.425Z"
   },
   {
    "duration": 11,
    "start_time": "2022-09-05T10:38:15.206Z"
   },
   {
    "duration": 17,
    "start_time": "2022-09-05T10:38:37.453Z"
   },
   {
    "duration": 4,
    "start_time": "2022-09-05T10:38:49.003Z"
   },
   {
    "duration": 81,
    "start_time": "2022-09-05T10:38:51.568Z"
   },
   {
    "duration": 5,
    "start_time": "2022-09-05T10:39:11.146Z"
   },
   {
    "duration": 6,
    "start_time": "2022-09-05T10:39:11.155Z"
   },
   {
    "duration": 663,
    "start_time": "2022-09-05T10:39:11.163Z"
   },
   {
    "duration": 7,
    "start_time": "2022-09-05T10:39:11.827Z"
   },
   {
    "duration": 76,
    "start_time": "2022-09-05T10:39:11.837Z"
   },
   {
    "duration": 7,
    "start_time": "2022-09-05T10:39:11.915Z"
   },
   {
    "duration": 9,
    "start_time": "2022-09-05T10:39:11.923Z"
   },
   {
    "duration": 6,
    "start_time": "2022-09-05T10:39:11.934Z"
   },
   {
    "duration": 5,
    "start_time": "2022-09-05T10:39:11.968Z"
   },
   {
    "duration": 11,
    "start_time": "2022-09-05T10:39:11.974Z"
   },
   {
    "duration": 6,
    "start_time": "2022-09-05T10:39:11.988Z"
   },
   {
    "duration": 29,
    "start_time": "2022-09-05T10:39:11.996Z"
   },
   {
    "duration": 13,
    "start_time": "2022-09-05T10:39:12.027Z"
   },
   {
    "duration": 27,
    "start_time": "2022-09-05T10:39:12.042Z"
   },
   {
    "duration": 79,
    "start_time": "2022-09-05T10:39:12.071Z"
   },
   {
    "duration": 29,
    "start_time": "2022-09-05T10:39:12.151Z"
   },
   {
    "duration": 18,
    "start_time": "2022-09-05T10:39:12.182Z"
   },
   {
    "duration": 8,
    "start_time": "2022-09-05T10:39:12.201Z"
   },
   {
    "duration": 16,
    "start_time": "2022-09-05T10:39:12.211Z"
   },
   {
    "duration": 54,
    "start_time": "2022-09-05T10:39:12.229Z"
   },
   {
    "duration": 1531,
    "start_time": "2022-09-05T10:39:12.285Z"
   },
   {
    "duration": 0,
    "start_time": "2022-09-05T10:39:13.819Z"
   },
   {
    "duration": 0,
    "start_time": "2022-09-05T10:39:13.820Z"
   },
   {
    "duration": 0,
    "start_time": "2022-09-05T10:39:13.821Z"
   },
   {
    "duration": 0,
    "start_time": "2022-09-05T10:39:13.822Z"
   },
   {
    "duration": 0,
    "start_time": "2022-09-05T10:39:13.824Z"
   },
   {
    "duration": 0,
    "start_time": "2022-09-05T10:39:13.825Z"
   },
   {
    "duration": 0,
    "start_time": "2022-09-05T10:39:13.826Z"
   },
   {
    "duration": 0,
    "start_time": "2022-09-05T10:39:13.827Z"
   },
   {
    "duration": 0,
    "start_time": "2022-09-05T10:39:13.828Z"
   },
   {
    "duration": 0,
    "start_time": "2022-09-05T10:39:13.829Z"
   },
   {
    "duration": 0,
    "start_time": "2022-09-05T10:39:13.830Z"
   },
   {
    "duration": 0,
    "start_time": "2022-09-05T10:39:13.831Z"
   },
   {
    "duration": 0,
    "start_time": "2022-09-05T10:39:13.831Z"
   },
   {
    "duration": 4,
    "start_time": "2022-09-05T10:40:32.060Z"
   },
   {
    "duration": 7,
    "start_time": "2022-09-05T10:40:32.070Z"
   },
   {
    "duration": 635,
    "start_time": "2022-09-05T10:40:32.079Z"
   },
   {
    "duration": 9,
    "start_time": "2022-09-05T10:40:32.716Z"
   },
   {
    "duration": 61,
    "start_time": "2022-09-05T10:40:32.727Z"
   },
   {
    "duration": 6,
    "start_time": "2022-09-05T10:40:32.790Z"
   },
   {
    "duration": 11,
    "start_time": "2022-09-05T10:40:32.797Z"
   },
   {
    "duration": 7,
    "start_time": "2022-09-05T10:40:32.809Z"
   },
   {
    "duration": 5,
    "start_time": "2022-09-05T10:40:32.818Z"
   },
   {
    "duration": 46,
    "start_time": "2022-09-05T10:40:32.825Z"
   },
   {
    "duration": 11,
    "start_time": "2022-09-05T10:40:32.873Z"
   },
   {
    "duration": 12,
    "start_time": "2022-09-05T10:40:32.886Z"
   },
   {
    "duration": 2,
    "start_time": "2022-09-05T10:40:32.900Z"
   },
   {
    "duration": 6,
    "start_time": "2022-09-05T10:40:32.904Z"
   },
   {
    "duration": 163,
    "start_time": "2022-09-05T10:40:32.913Z"
   },
   {
    "duration": 16,
    "start_time": "2022-09-05T10:40:33.078Z"
   },
   {
    "duration": 13,
    "start_time": "2022-09-05T10:40:33.096Z"
   },
   {
    "duration": 7,
    "start_time": "2022-09-05T10:40:33.111Z"
   },
   {
    "duration": 11,
    "start_time": "2022-09-05T10:40:33.120Z"
   },
   {
    "duration": 58,
    "start_time": "2022-09-05T10:40:33.132Z"
   },
   {
    "duration": 1616,
    "start_time": "2022-09-05T10:40:33.192Z"
   },
   {
    "duration": 17,
    "start_time": "2022-09-05T10:40:34.810Z"
   },
   {
    "duration": 1347,
    "start_time": "2022-09-05T10:40:34.829Z"
   },
   {
    "duration": 10,
    "start_time": "2022-09-05T10:40:36.178Z"
   },
   {
    "duration": 6,
    "start_time": "2022-09-05T10:40:36.190Z"
   },
   {
    "duration": 18,
    "start_time": "2022-09-05T10:40:36.198Z"
   },
   {
    "duration": 15,
    "start_time": "2022-09-05T10:40:36.218Z"
   },
   {
    "duration": 644,
    "start_time": "2022-09-05T10:40:36.235Z"
   },
   {
    "duration": 460,
    "start_time": "2022-09-05T10:40:36.881Z"
   },
   {
    "duration": 440,
    "start_time": "2022-09-05T10:40:37.342Z"
   },
   {
    "duration": 14,
    "start_time": "2022-09-05T10:40:37.784Z"
   },
   {
    "duration": 87,
    "start_time": "2022-09-05T10:40:37.800Z"
   },
   {
    "duration": 455,
    "start_time": "2022-09-05T10:40:37.888Z"
   },
   {
    "duration": 15,
    "start_time": "2022-09-05T10:41:07.562Z"
   },
   {
    "duration": 17,
    "start_time": "2022-09-05T10:42:02.912Z"
   },
   {
    "duration": 17,
    "start_time": "2022-09-05T10:44:29.952Z"
   },
   {
    "duration": 12,
    "start_time": "2022-09-05T10:45:07.461Z"
   },
   {
    "duration": 5,
    "start_time": "2022-09-05T10:45:11.511Z"
   },
   {
    "duration": 12,
    "start_time": "2022-09-05T10:45:11.521Z"
   },
   {
    "duration": 674,
    "start_time": "2022-09-05T10:45:11.535Z"
   },
   {
    "duration": 6,
    "start_time": "2022-09-05T10:45:12.211Z"
   },
   {
    "duration": 63,
    "start_time": "2022-09-05T10:45:12.219Z"
   },
   {
    "duration": 5,
    "start_time": "2022-09-05T10:45:12.285Z"
   },
   {
    "duration": 11,
    "start_time": "2022-09-05T10:45:12.292Z"
   },
   {
    "duration": 6,
    "start_time": "2022-09-05T10:45:12.305Z"
   },
   {
    "duration": 9,
    "start_time": "2022-09-05T10:45:12.312Z"
   },
   {
    "duration": 11,
    "start_time": "2022-09-05T10:45:12.323Z"
   },
   {
    "duration": 37,
    "start_time": "2022-09-05T10:45:12.336Z"
   },
   {
    "duration": 13,
    "start_time": "2022-09-05T10:45:12.375Z"
   },
   {
    "duration": 22,
    "start_time": "2022-09-05T10:45:14.510Z"
   },
   {
    "duration": 5,
    "start_time": "2022-09-05T10:45:38.538Z"
   },
   {
    "duration": 6,
    "start_time": "2022-09-05T10:45:49.935Z"
   },
   {
    "duration": 33,
    "start_time": "2022-09-05T10:45:54.869Z"
   },
   {
    "duration": 14,
    "start_time": "2022-09-05T10:46:14.633Z"
   },
   {
    "duration": 25,
    "start_time": "2022-09-05T10:46:22.681Z"
   },
   {
    "duration": 39,
    "start_time": "2022-09-05T10:46:57.979Z"
   },
   {
    "duration": 22,
    "start_time": "2022-09-05T10:48:26.850Z"
   },
   {
    "duration": 5,
    "start_time": "2022-09-05T10:48:41.277Z"
   },
   {
    "duration": 5,
    "start_time": "2022-09-05T10:48:41.285Z"
   },
   {
    "duration": 693,
    "start_time": "2022-09-05T10:48:41.293Z"
   },
   {
    "duration": 7,
    "start_time": "2022-09-05T10:48:41.988Z"
   },
   {
    "duration": 41,
    "start_time": "2022-09-05T10:48:41.998Z"
   },
   {
    "duration": 5,
    "start_time": "2022-09-05T10:48:42.068Z"
   },
   {
    "duration": 14,
    "start_time": "2022-09-05T10:48:42.075Z"
   },
   {
    "duration": 10,
    "start_time": "2022-09-05T10:48:42.091Z"
   },
   {
    "duration": 10,
    "start_time": "2022-09-05T10:48:42.103Z"
   },
   {
    "duration": 13,
    "start_time": "2022-09-05T10:48:42.116Z"
   },
   {
    "duration": 39,
    "start_time": "2022-09-05T10:48:42.131Z"
   },
   {
    "duration": 11,
    "start_time": "2022-09-05T10:48:42.172Z"
   },
   {
    "duration": 14,
    "start_time": "2022-09-05T10:48:42.185Z"
   },
   {
    "duration": 3,
    "start_time": "2022-09-05T10:48:42.202Z"
   },
   {
    "duration": 153,
    "start_time": "2022-09-05T10:48:42.207Z"
   },
   {
    "duration": 23,
    "start_time": "2022-09-05T10:48:42.362Z"
   },
   {
    "duration": 16,
    "start_time": "2022-09-05T10:48:42.387Z"
   },
   {
    "duration": 7,
    "start_time": "2022-09-05T10:48:42.405Z"
   },
   {
    "duration": 12,
    "start_time": "2022-09-05T10:48:42.413Z"
   },
   {
    "duration": 78,
    "start_time": "2022-09-05T10:48:42.427Z"
   },
   {
    "duration": 1961,
    "start_time": "2022-09-05T10:48:42.507Z"
   },
   {
    "duration": 18,
    "start_time": "2022-09-05T10:48:44.470Z"
   },
   {
    "duration": 1036,
    "start_time": "2022-09-05T10:48:44.490Z"
   },
   {
    "duration": 10,
    "start_time": "2022-09-05T10:48:45.528Z"
   },
   {
    "duration": 13,
    "start_time": "2022-09-05T10:48:45.540Z"
   },
   {
    "duration": 11,
    "start_time": "2022-09-05T10:48:45.568Z"
   },
   {
    "duration": 11,
    "start_time": "2022-09-05T10:48:45.580Z"
   },
   {
    "duration": 899,
    "start_time": "2022-09-05T10:48:45.593Z"
   },
   {
    "duration": 576,
    "start_time": "2022-09-05T10:48:46.495Z"
   },
   {
    "duration": 453,
    "start_time": "2022-09-05T10:48:47.073Z"
   },
   {
    "duration": 12,
    "start_time": "2022-09-05T10:48:47.527Z"
   },
   {
    "duration": 93,
    "start_time": "2022-09-05T10:48:47.541Z"
   },
   {
    "duration": 449,
    "start_time": "2022-09-05T10:48:47.636Z"
   },
   {
    "duration": 16,
    "start_time": "2022-09-05T10:48:59.194Z"
   },
   {
    "duration": 6,
    "start_time": "2022-09-05T10:49:02.661Z"
   },
   {
    "duration": 4,
    "start_time": "2022-09-05T10:49:09.135Z"
   },
   {
    "duration": 88433,
    "start_time": "2022-09-05T10:49:09.414Z"
   },
   {
    "duration": 86817,
    "start_time": "2022-09-05T11:05:18.166Z"
   },
   {
    "duration": 23,
    "start_time": "2022-09-05T11:07:20.381Z"
   },
   {
    "duration": 23,
    "start_time": "2022-09-05T11:07:24.019Z"
   },
   {
    "duration": 22,
    "start_time": "2022-09-05T11:07:41.175Z"
   },
   {
    "duration": 14,
    "start_time": "2022-09-05T11:08:03.169Z"
   },
   {
    "duration": 4,
    "start_time": "2022-09-05T11:08:23.726Z"
   },
   {
    "duration": 7,
    "start_time": "2022-09-05T11:08:23.733Z"
   },
   {
    "duration": 611,
    "start_time": "2022-09-05T11:08:23.742Z"
   },
   {
    "duration": 13,
    "start_time": "2022-09-05T11:08:24.355Z"
   },
   {
    "duration": 42,
    "start_time": "2022-09-05T11:08:24.371Z"
   },
   {
    "duration": 8,
    "start_time": "2022-09-05T11:08:24.415Z"
   },
   {
    "duration": 8,
    "start_time": "2022-09-05T11:08:24.424Z"
   },
   {
    "duration": 38,
    "start_time": "2022-09-05T11:08:24.434Z"
   },
   {
    "duration": 7,
    "start_time": "2022-09-05T11:08:24.473Z"
   },
   {
    "duration": 9,
    "start_time": "2022-09-05T11:08:24.481Z"
   },
   {
    "duration": 12,
    "start_time": "2022-09-05T11:08:24.494Z"
   },
   {
    "duration": 13,
    "start_time": "2022-09-05T11:08:24.508Z"
   },
   {
    "duration": 47,
    "start_time": "2022-09-05T11:08:24.523Z"
   },
   {
    "duration": 4,
    "start_time": "2022-09-05T11:08:24.572Z"
   },
   {
    "duration": 130,
    "start_time": "2022-09-05T11:08:24.578Z"
   },
   {
    "duration": 15,
    "start_time": "2022-09-05T11:08:24.709Z"
   },
   {
    "duration": 14,
    "start_time": "2022-09-05T11:08:24.725Z"
   },
   {
    "duration": 27,
    "start_time": "2022-09-05T11:08:24.741Z"
   },
   {
    "duration": 12,
    "start_time": "2022-09-05T11:08:24.769Z"
   },
   {
    "duration": 25,
    "start_time": "2022-09-05T11:08:24.783Z"
   },
   {
    "duration": 2015,
    "start_time": "2022-09-05T11:08:24.809Z"
   },
   {
    "duration": 18,
    "start_time": "2022-09-05T11:08:26.826Z"
   },
   {
    "duration": 1036,
    "start_time": "2022-09-05T11:08:26.847Z"
   },
   {
    "duration": 9,
    "start_time": "2022-09-05T11:08:27.884Z"
   },
   {
    "duration": 6,
    "start_time": "2022-09-05T11:08:27.895Z"
   },
   {
    "duration": 10,
    "start_time": "2022-09-05T11:08:27.902Z"
   },
   {
    "duration": 10,
    "start_time": "2022-09-05T11:08:27.914Z"
   },
   {
    "duration": 523,
    "start_time": "2022-09-05T11:08:27.925Z"
   },
   {
    "duration": 416,
    "start_time": "2022-09-05T11:08:28.451Z"
   },
   {
    "duration": 392,
    "start_time": "2022-09-05T11:08:28.869Z"
   },
   {
    "duration": 11,
    "start_time": "2022-09-05T11:08:29.267Z"
   },
   {
    "duration": 64,
    "start_time": "2022-09-05T11:08:29.279Z"
   },
   {
    "duration": 819,
    "start_time": "2022-09-05T11:08:29.345Z"
   },
   {
    "duration": 4,
    "start_time": "2022-09-05T11:08:30.166Z"
   },
   {
    "duration": 7,
    "start_time": "2022-09-05T11:08:30.172Z"
   },
   {
    "duration": 13,
    "start_time": "2022-09-05T11:08:30.181Z"
   },
   {
    "duration": 22,
    "start_time": "2022-09-05T11:08:35.125Z"
   },
   {
    "duration": 6,
    "start_time": "2022-09-05T11:08:35.698Z"
   },
   {
    "duration": 3,
    "start_time": "2022-09-05T11:08:38.164Z"
   },
   {
    "duration": 89010,
    "start_time": "2022-09-05T11:08:39.726Z"
   },
   {
    "duration": 4,
    "start_time": "2022-09-05T11:31:28.883Z"
   },
   {
    "duration": 9,
    "start_time": "2022-09-05T11:31:28.889Z"
   },
   {
    "duration": 616,
    "start_time": "2022-09-05T11:31:28.899Z"
   },
   {
    "duration": 6,
    "start_time": "2022-09-05T11:31:29.517Z"
   },
   {
    "duration": 55,
    "start_time": "2022-09-05T11:31:29.525Z"
   },
   {
    "duration": 5,
    "start_time": "2022-09-05T11:31:29.582Z"
   },
   {
    "duration": 12,
    "start_time": "2022-09-05T11:31:29.588Z"
   },
   {
    "duration": 6,
    "start_time": "2022-09-05T11:31:29.601Z"
   },
   {
    "duration": 7,
    "start_time": "2022-09-05T11:31:29.609Z"
   },
   {
    "duration": 7,
    "start_time": "2022-09-05T11:31:29.619Z"
   },
   {
    "duration": 7,
    "start_time": "2022-09-05T11:31:29.628Z"
   },
   {
    "duration": 12,
    "start_time": "2022-09-05T11:31:29.667Z"
   },
   {
    "duration": 14,
    "start_time": "2022-09-05T11:31:29.681Z"
   },
   {
    "duration": 3,
    "start_time": "2022-09-05T11:31:29.697Z"
   },
   {
    "duration": 139,
    "start_time": "2022-09-05T11:31:29.702Z"
   },
   {
    "duration": 24,
    "start_time": "2022-09-05T11:31:29.843Z"
   },
   {
    "duration": 15,
    "start_time": "2022-09-05T11:31:29.869Z"
   },
   {
    "duration": 7,
    "start_time": "2022-09-05T11:31:29.885Z"
   },
   {
    "duration": 14,
    "start_time": "2022-09-05T11:31:29.893Z"
   },
   {
    "duration": 25,
    "start_time": "2022-09-05T11:31:29.909Z"
   },
   {
    "duration": 1617,
    "start_time": "2022-09-05T11:31:29.936Z"
   },
   {
    "duration": 25,
    "start_time": "2022-09-05T11:31:31.555Z"
   },
   {
    "duration": 1350,
    "start_time": "2022-09-05T11:31:31.582Z"
   },
   {
    "duration": 10,
    "start_time": "2022-09-05T11:31:32.934Z"
   },
   {
    "duration": 24,
    "start_time": "2022-09-05T11:31:32.946Z"
   },
   {
    "duration": 10,
    "start_time": "2022-09-05T11:31:32.972Z"
   },
   {
    "duration": 11,
    "start_time": "2022-09-05T11:31:32.984Z"
   },
   {
    "duration": 586,
    "start_time": "2022-09-05T11:31:32.998Z"
   },
   {
    "duration": 454,
    "start_time": "2022-09-05T11:31:33.586Z"
   },
   {
    "duration": 427,
    "start_time": "2022-09-05T11:31:34.041Z"
   },
   {
    "duration": 12,
    "start_time": "2022-09-05T11:31:34.470Z"
   },
   {
    "duration": 60,
    "start_time": "2022-09-05T11:31:34.484Z"
   },
   {
    "duration": 490,
    "start_time": "2022-09-05T11:31:34.546Z"
   },
   {
    "duration": 4,
    "start_time": "2022-09-05T11:31:35.037Z"
   },
   {
    "duration": 7,
    "start_time": "2022-09-05T11:31:35.042Z"
   },
   {
    "duration": 23,
    "start_time": "2022-09-05T11:31:35.050Z"
   },
   {
    "duration": 30,
    "start_time": "2022-09-05T11:31:35.075Z"
   },
   {
    "duration": 7,
    "start_time": "2022-09-05T11:31:35.107Z"
   },
   {
    "duration": 7,
    "start_time": "2022-09-05T11:31:35.115Z"
   },
   {
    "duration": 10042,
    "start_time": "2022-09-05T11:31:38.169Z"
   },
   {
    "duration": 569,
    "start_time": "2022-09-05T11:31:56.239Z"
   },
   {
    "duration": 4207,
    "start_time": "2022-09-05T11:34:10.149Z"
   },
   {
    "duration": 1327,
    "start_time": "2022-09-05T11:34:51.071Z"
   },
   {
    "duration": 3,
    "start_time": "2022-09-05T11:34:52.400Z"
   },
   {
    "duration": 720,
    "start_time": "2022-09-05T11:34:52.404Z"
   },
   {
    "duration": 9,
    "start_time": "2022-09-05T11:34:53.126Z"
   },
   {
    "duration": 57,
    "start_time": "2022-09-05T11:34:53.137Z"
   },
   {
    "duration": 7,
    "start_time": "2022-09-05T11:34:53.195Z"
   },
   {
    "duration": 10,
    "start_time": "2022-09-05T11:34:53.203Z"
   },
   {
    "duration": 8,
    "start_time": "2022-09-05T11:34:53.215Z"
   },
   {
    "duration": 5,
    "start_time": "2022-09-05T11:34:53.224Z"
   },
   {
    "duration": 14,
    "start_time": "2022-09-05T11:34:53.232Z"
   },
   {
    "duration": 8,
    "start_time": "2022-09-05T11:34:53.268Z"
   },
   {
    "duration": 12,
    "start_time": "2022-09-05T11:34:53.278Z"
   },
   {
    "duration": 19,
    "start_time": "2022-09-05T11:34:53.292Z"
   },
   {
    "duration": 5,
    "start_time": "2022-09-05T11:34:53.313Z"
   },
   {
    "duration": 139,
    "start_time": "2022-09-05T11:34:53.319Z"
   },
   {
    "duration": 17,
    "start_time": "2022-09-05T11:34:53.461Z"
   },
   {
    "duration": 29,
    "start_time": "2022-09-05T11:34:53.480Z"
   },
   {
    "duration": 6,
    "start_time": "2022-09-05T11:34:53.511Z"
   },
   {
    "duration": 19,
    "start_time": "2022-09-05T11:34:53.519Z"
   },
   {
    "duration": 35,
    "start_time": "2022-09-05T11:34:53.540Z"
   },
   {
    "duration": 1581,
    "start_time": "2022-09-05T11:34:53.577Z"
   },
   {
    "duration": 15,
    "start_time": "2022-09-05T11:34:55.161Z"
   },
   {
    "duration": 1002,
    "start_time": "2022-09-05T11:34:55.178Z"
   },
   {
    "duration": 7,
    "start_time": "2022-09-05T11:34:56.182Z"
   },
   {
    "duration": 21,
    "start_time": "2022-09-05T11:34:56.191Z"
   },
   {
    "duration": 13,
    "start_time": "2022-09-05T11:34:56.214Z"
   },
   {
    "duration": 10,
    "start_time": "2022-09-05T11:34:56.228Z"
   },
   {
    "duration": 746,
    "start_time": "2022-09-05T11:34:56.241Z"
   },
   {
    "duration": 431,
    "start_time": "2022-09-05T11:34:56.989Z"
   },
   {
    "duration": 450,
    "start_time": "2022-09-05T11:34:57.422Z"
   },
   {
    "duration": 11,
    "start_time": "2022-09-05T11:34:57.874Z"
   },
   {
    "duration": 62,
    "start_time": "2022-09-05T11:34:57.887Z"
   },
   {
    "duration": 453,
    "start_time": "2022-09-05T11:34:57.968Z"
   },
   {
    "duration": 3,
    "start_time": "2022-09-05T11:34:58.423Z"
   },
   {
    "duration": 8,
    "start_time": "2022-09-05T11:34:58.427Z"
   },
   {
    "duration": 12,
    "start_time": "2022-09-05T11:34:58.437Z"
   },
   {
    "duration": 39,
    "start_time": "2022-09-05T11:34:58.451Z"
   },
   {
    "duration": 6,
    "start_time": "2022-09-05T11:34:58.491Z"
   },
   {
    "duration": 7,
    "start_time": "2022-09-05T11:34:58.499Z"
   },
   {
    "duration": 10198,
    "start_time": "2022-09-05T11:35:00.451Z"
   },
   {
    "duration": 10,
    "start_time": "2022-09-05T11:36:00.253Z"
   },
   {
    "duration": 12,
    "start_time": "2022-09-05T11:36:06.522Z"
   },
   {
    "duration": 6,
    "start_time": "2022-09-05T11:36:17.621Z"
   },
   {
    "duration": 4,
    "start_time": "2022-09-05T11:36:49.534Z"
   },
   {
    "duration": 10,
    "start_time": "2022-09-05T11:36:53.332Z"
   },
   {
    "duration": 22,
    "start_time": "2022-09-05T11:36:56.073Z"
   },
   {
    "duration": 10166,
    "start_time": "2022-09-05T11:37:03.809Z"
   },
   {
    "duration": 5,
    "start_time": "2022-09-05T11:38:51.796Z"
   },
   {
    "duration": 13,
    "start_time": "2022-09-05T11:38:51.803Z"
   },
   {
    "duration": 662,
    "start_time": "2022-09-05T11:38:51.818Z"
   },
   {
    "duration": 7,
    "start_time": "2022-09-05T11:38:52.482Z"
   },
   {
    "duration": 39,
    "start_time": "2022-09-05T11:38:52.491Z"
   },
   {
    "duration": 5,
    "start_time": "2022-09-05T11:38:52.532Z"
   },
   {
    "duration": 31,
    "start_time": "2022-09-05T11:38:52.539Z"
   },
   {
    "duration": 11,
    "start_time": "2022-09-05T11:38:52.572Z"
   },
   {
    "duration": 8,
    "start_time": "2022-09-05T11:38:52.584Z"
   },
   {
    "duration": 17,
    "start_time": "2022-09-05T11:38:52.594Z"
   },
   {
    "duration": 26,
    "start_time": "2022-09-05T11:38:52.613Z"
   },
   {
    "duration": 14,
    "start_time": "2022-09-05T11:38:52.641Z"
   },
   {
    "duration": 20,
    "start_time": "2022-09-05T11:38:52.657Z"
   },
   {
    "duration": 4,
    "start_time": "2022-09-05T11:38:52.679Z"
   },
   {
    "duration": 118,
    "start_time": "2022-09-05T11:38:52.684Z"
   },
   {
    "duration": 13,
    "start_time": "2022-09-05T11:38:52.804Z"
   },
   {
    "duration": 17,
    "start_time": "2022-09-05T11:38:52.818Z"
   },
   {
    "duration": 6,
    "start_time": "2022-09-05T11:38:52.837Z"
   },
   {
    "duration": 30,
    "start_time": "2022-09-05T11:38:52.844Z"
   },
   {
    "duration": 22,
    "start_time": "2022-09-05T11:38:52.876Z"
   },
   {
    "duration": 1587,
    "start_time": "2022-09-05T11:38:52.899Z"
   },
   {
    "duration": 15,
    "start_time": "2022-09-05T11:38:54.488Z"
   },
   {
    "duration": 1126,
    "start_time": "2022-09-05T11:38:54.505Z"
   },
   {
    "duration": 10,
    "start_time": "2022-09-05T11:38:55.633Z"
   },
   {
    "duration": 24,
    "start_time": "2022-09-05T11:38:55.645Z"
   },
   {
    "duration": 14,
    "start_time": "2022-09-05T11:38:55.671Z"
   },
   {
    "duration": 16,
    "start_time": "2022-09-05T11:38:55.687Z"
   },
   {
    "duration": 501,
    "start_time": "2022-09-05T11:38:55.707Z"
   },
   {
    "duration": 445,
    "start_time": "2022-09-05T11:38:56.210Z"
   },
   {
    "duration": 488,
    "start_time": "2022-09-05T11:38:56.658Z"
   },
   {
    "duration": 19,
    "start_time": "2022-09-05T11:38:57.148Z"
   },
   {
    "duration": 5,
    "start_time": "2022-09-05T11:38:57.169Z"
   },
   {
    "duration": 414,
    "start_time": "2022-09-05T11:38:57.176Z"
   },
   {
    "duration": 3,
    "start_time": "2022-09-05T11:38:57.592Z"
   },
   {
    "duration": 11,
    "start_time": "2022-09-05T11:38:57.596Z"
   },
   {
    "duration": 28,
    "start_time": "2022-09-05T11:38:57.609Z"
   },
   {
    "duration": 9,
    "start_time": "2022-09-05T11:38:57.639Z"
   },
   {
    "duration": 7,
    "start_time": "2022-09-05T11:38:57.650Z"
   },
   {
    "duration": 12424,
    "start_time": "2022-09-05T11:38:57.659Z"
   },
   {
    "duration": 4,
    "start_time": "2022-09-05T11:40:49.077Z"
   },
   {
    "duration": 6,
    "start_time": "2022-09-05T11:40:49.083Z"
   },
   {
    "duration": 695,
    "start_time": "2022-09-05T11:40:49.091Z"
   },
   {
    "duration": 6,
    "start_time": "2022-09-05T11:40:49.788Z"
   },
   {
    "duration": 42,
    "start_time": "2022-09-05T11:40:49.796Z"
   },
   {
    "duration": 30,
    "start_time": "2022-09-05T11:40:49.840Z"
   },
   {
    "duration": 12,
    "start_time": "2022-09-05T11:40:49.871Z"
   },
   {
    "duration": 7,
    "start_time": "2022-09-05T11:40:49.885Z"
   },
   {
    "duration": 6,
    "start_time": "2022-09-05T11:40:49.893Z"
   },
   {
    "duration": 8,
    "start_time": "2022-09-05T11:40:49.900Z"
   },
   {
    "duration": 7,
    "start_time": "2022-09-05T11:40:49.909Z"
   },
   {
    "duration": 12,
    "start_time": "2022-09-05T11:40:49.917Z"
   },
   {
    "duration": 40,
    "start_time": "2022-09-05T11:40:49.930Z"
   },
   {
    "duration": 4,
    "start_time": "2022-09-05T11:40:49.975Z"
   },
   {
    "duration": 155,
    "start_time": "2022-09-05T11:40:49.981Z"
   },
   {
    "duration": 15,
    "start_time": "2022-09-05T11:40:50.139Z"
   },
   {
    "duration": 15,
    "start_time": "2022-09-05T11:40:50.167Z"
   },
   {
    "duration": 8,
    "start_time": "2022-09-05T11:40:50.184Z"
   },
   {
    "duration": 11,
    "start_time": "2022-09-05T11:40:50.194Z"
   },
   {
    "duration": 25,
    "start_time": "2022-09-05T11:40:50.207Z"
   },
   {
    "duration": 1536,
    "start_time": "2022-09-05T11:40:50.268Z"
   },
   {
    "duration": 13,
    "start_time": "2022-09-05T11:40:51.806Z"
   },
   {
    "duration": 1102,
    "start_time": "2022-09-05T11:40:51.821Z"
   },
   {
    "duration": 9,
    "start_time": "2022-09-05T11:40:52.925Z"
   },
   {
    "duration": 9,
    "start_time": "2022-09-05T11:40:52.935Z"
   },
   {
    "duration": 29,
    "start_time": "2022-09-05T11:40:52.945Z"
   },
   {
    "duration": 2,
    "start_time": "2022-09-05T11:40:52.976Z"
   },
   {
    "duration": 505,
    "start_time": "2022-09-05T11:40:52.980Z"
   },
   {
    "duration": 417,
    "start_time": "2022-09-05T11:40:53.486Z"
   },
   {
    "duration": 395,
    "start_time": "2022-09-05T11:40:53.905Z"
   },
   {
    "duration": 10,
    "start_time": "2022-09-05T11:40:54.302Z"
   },
   {
    "duration": 3,
    "start_time": "2022-09-05T11:40:54.314Z"
   },
   {
    "duration": 544,
    "start_time": "2022-09-05T11:40:54.319Z"
   },
   {
    "duration": 3,
    "start_time": "2022-09-05T11:40:54.868Z"
   },
   {
    "duration": 21,
    "start_time": "2022-09-05T11:40:54.873Z"
   },
   {
    "duration": 13,
    "start_time": "2022-09-05T11:40:54.896Z"
   },
   {
    "duration": 9,
    "start_time": "2022-09-05T11:40:54.910Z"
   },
   {
    "duration": 7,
    "start_time": "2022-09-05T11:40:54.921Z"
   },
   {
    "duration": 10093,
    "start_time": "2022-09-05T11:40:54.929Z"
   },
   {
    "duration": 180,
    "start_time": "2022-09-05T11:41:27.054Z"
   },
   {
    "duration": 10864,
    "start_time": "2022-09-05T11:41:31.351Z"
   },
   {
    "duration": 9,
    "start_time": "2022-09-05T11:42:37.109Z"
   },
   {
    "duration": 9,
    "start_time": "2022-09-05T11:46:53.553Z"
   },
   {
    "duration": 1398,
    "start_time": "2022-09-05T11:47:27.005Z"
   },
   {
    "duration": 3,
    "start_time": "2022-09-05T11:47:28.405Z"
   },
   {
    "duration": 736,
    "start_time": "2022-09-05T11:47:28.410Z"
   },
   {
    "duration": 7,
    "start_time": "2022-09-05T11:47:29.149Z"
   },
   {
    "duration": 42,
    "start_time": "2022-09-05T11:47:29.167Z"
   },
   {
    "duration": 7,
    "start_time": "2022-09-05T11:47:29.211Z"
   },
   {
    "duration": 14,
    "start_time": "2022-09-05T11:47:29.219Z"
   },
   {
    "duration": 8,
    "start_time": "2022-09-05T11:47:29.234Z"
   },
   {
    "duration": 26,
    "start_time": "2022-09-05T11:47:29.244Z"
   },
   {
    "duration": 9,
    "start_time": "2022-09-05T11:47:29.273Z"
   },
   {
    "duration": 10,
    "start_time": "2022-09-05T11:47:29.283Z"
   },
   {
    "duration": 13,
    "start_time": "2022-09-05T11:47:29.294Z"
   },
   {
    "duration": 18,
    "start_time": "2022-09-05T11:47:29.309Z"
   },
   {
    "duration": 4,
    "start_time": "2022-09-05T11:47:29.329Z"
   },
   {
    "duration": 155,
    "start_time": "2022-09-05T11:47:29.334Z"
   },
   {
    "duration": 15,
    "start_time": "2022-09-05T11:47:29.491Z"
   },
   {
    "duration": 19,
    "start_time": "2022-09-05T11:47:29.508Z"
   },
   {
    "duration": 8,
    "start_time": "2022-09-05T11:47:29.529Z"
   },
   {
    "duration": 40,
    "start_time": "2022-09-05T11:47:29.539Z"
   },
   {
    "duration": 25,
    "start_time": "2022-09-05T11:47:29.581Z"
   },
   {
    "duration": 1732,
    "start_time": "2022-09-05T11:47:29.608Z"
   },
   {
    "duration": 31,
    "start_time": "2022-09-05T11:47:31.342Z"
   },
   {
    "duration": 1033,
    "start_time": "2022-09-05T11:47:31.375Z"
   },
   {
    "duration": 9,
    "start_time": "2022-09-05T11:47:32.410Z"
   },
   {
    "duration": 6,
    "start_time": "2022-09-05T11:47:32.421Z"
   },
   {
    "duration": 15,
    "start_time": "2022-09-05T11:47:32.428Z"
   },
   {
    "duration": 31,
    "start_time": "2022-09-05T11:47:32.445Z"
   },
   {
    "duration": 661,
    "start_time": "2022-09-05T11:47:32.480Z"
   },
   {
    "duration": 423,
    "start_time": "2022-09-05T11:47:33.144Z"
   },
   {
    "duration": 429,
    "start_time": "2022-09-05T11:47:33.569Z"
   },
   {
    "duration": 11,
    "start_time": "2022-09-05T11:47:34.000Z"
   },
   {
    "duration": 77,
    "start_time": "2022-09-05T11:47:34.013Z"
   },
   {
    "duration": 452,
    "start_time": "2022-09-05T11:47:34.092Z"
   },
   {
    "duration": 3,
    "start_time": "2022-09-05T11:47:34.546Z"
   },
   {
    "duration": 6,
    "start_time": "2022-09-05T11:47:34.551Z"
   },
   {
    "duration": 13,
    "start_time": "2022-09-05T11:47:34.568Z"
   },
   {
    "duration": 8,
    "start_time": "2022-09-05T11:47:34.583Z"
   },
   {
    "duration": 6,
    "start_time": "2022-09-05T11:47:34.592Z"
   },
   {
    "duration": 10260,
    "start_time": "2022-09-05T11:47:34.600Z"
   },
   {
    "duration": 114,
    "start_time": "2022-09-05T11:48:17.484Z"
   },
   {
    "duration": 9,
    "start_time": "2022-09-05T11:48:54.238Z"
   },
   {
    "duration": 4,
    "start_time": "2022-09-05T11:50:30.175Z"
   },
   {
    "duration": 9777,
    "start_time": "2022-09-05T11:50:31.303Z"
   },
   {
    "duration": 3,
    "start_time": "2022-09-05T11:50:45.315Z"
   },
   {
    "duration": 22,
    "start_time": "2022-09-05T11:50:54.448Z"
   },
   {
    "duration": 13,
    "start_time": "2022-09-05T11:51:10.630Z"
   },
   {
    "duration": 5,
    "start_time": "2022-09-05T11:51:20.794Z"
   },
   {
    "duration": 6,
    "start_time": "2022-09-05T11:51:23.686Z"
   },
   {
    "duration": 5,
    "start_time": "2022-09-05T11:52:14.970Z"
   },
   {
    "duration": 8,
    "start_time": "2022-09-05T11:52:14.978Z"
   },
   {
    "duration": 696,
    "start_time": "2022-09-05T11:52:14.988Z"
   },
   {
    "duration": 6,
    "start_time": "2022-09-05T11:52:15.686Z"
   },
   {
    "duration": 43,
    "start_time": "2022-09-05T11:52:15.693Z"
   },
   {
    "duration": 6,
    "start_time": "2022-09-05T11:52:15.737Z"
   },
   {
    "duration": 7,
    "start_time": "2022-09-05T11:52:15.768Z"
   },
   {
    "duration": 6,
    "start_time": "2022-09-05T11:52:15.776Z"
   },
   {
    "duration": 3,
    "start_time": "2022-09-05T11:52:15.784Z"
   },
   {
    "duration": 5,
    "start_time": "2022-09-05T11:52:15.790Z"
   },
   {
    "duration": 9,
    "start_time": "2022-09-05T11:52:15.797Z"
   },
   {
    "duration": 11,
    "start_time": "2022-09-05T11:52:15.808Z"
   },
   {
    "duration": 58,
    "start_time": "2022-09-05T11:52:15.821Z"
   },
   {
    "duration": 4,
    "start_time": "2022-09-05T11:52:15.881Z"
   },
   {
    "duration": 129,
    "start_time": "2022-09-05T11:52:15.887Z"
   },
   {
    "duration": 16,
    "start_time": "2022-09-05T11:52:16.017Z"
   },
   {
    "duration": 13,
    "start_time": "2022-09-05T11:52:16.034Z"
   },
   {
    "duration": 23,
    "start_time": "2022-09-05T11:52:16.049Z"
   },
   {
    "duration": 10,
    "start_time": "2022-09-05T11:52:16.074Z"
   },
   {
    "duration": 23,
    "start_time": "2022-09-05T11:52:16.085Z"
   },
   {
    "duration": 1767,
    "start_time": "2022-09-05T11:52:16.110Z"
   },
   {
    "duration": 13,
    "start_time": "2022-09-05T11:52:17.879Z"
   },
   {
    "duration": 1136,
    "start_time": "2022-09-05T11:52:17.894Z"
   },
   {
    "duration": 9,
    "start_time": "2022-09-05T11:52:19.031Z"
   },
   {
    "duration": 7,
    "start_time": "2022-09-05T11:52:19.042Z"
   },
   {
    "duration": 11,
    "start_time": "2022-09-05T11:52:19.068Z"
   },
   {
    "duration": 6,
    "start_time": "2022-09-05T11:52:19.080Z"
   },
   {
    "duration": 509,
    "start_time": "2022-09-05T11:52:19.089Z"
   },
   {
    "duration": 449,
    "start_time": "2022-09-05T11:52:19.600Z"
   },
   {
    "duration": 404,
    "start_time": "2022-09-05T11:52:20.051Z"
   },
   {
    "duration": 18,
    "start_time": "2022-09-05T11:52:20.457Z"
   },
   {
    "duration": 58,
    "start_time": "2022-09-05T11:52:20.477Z"
   },
   {
    "duration": 434,
    "start_time": "2022-09-05T11:52:20.537Z"
   },
   {
    "duration": 3,
    "start_time": "2022-09-05T11:52:20.973Z"
   },
   {
    "duration": 6,
    "start_time": "2022-09-05T11:52:20.978Z"
   },
   {
    "duration": 12,
    "start_time": "2022-09-05T11:52:20.986Z"
   },
   {
    "duration": 13,
    "start_time": "2022-09-05T11:52:20.999Z"
   },
   {
    "duration": 7,
    "start_time": "2022-09-05T11:52:21.013Z"
   },
   {
    "duration": 10371,
    "start_time": "2022-09-05T11:52:22.025Z"
   },
   {
    "duration": 140,
    "start_time": "2022-09-05T11:52:47.401Z"
   },
   {
    "duration": 8,
    "start_time": "2022-09-05T11:58:01.665Z"
   },
   {
    "duration": 10,
    "start_time": "2022-09-05T11:58:03.021Z"
   },
   {
    "duration": 13,
    "start_time": "2022-09-05T11:58:32.375Z"
   },
   {
    "duration": 3,
    "start_time": "2022-09-05T11:58:35.963Z"
   },
   {
    "duration": 74,
    "start_time": "2022-09-05T11:58:38.069Z"
   },
   {
    "duration": 16,
    "start_time": "2022-09-05T11:59:20.873Z"
   },
   {
    "duration": 8,
    "start_time": "2022-09-05T11:59:54.117Z"
   },
   {
    "duration": 3,
    "start_time": "2022-09-05T11:59:59.456Z"
   },
   {
    "duration": 12634,
    "start_time": "2022-09-05T11:59:59.724Z"
   },
   {
    "duration": 5,
    "start_time": "2022-09-05T12:01:02.276Z"
   },
   {
    "duration": 23,
    "start_time": "2022-09-05T12:01:13.272Z"
   },
   {
    "duration": 27,
    "start_time": "2022-09-05T12:01:28.078Z"
   },
   {
    "duration": 3,
    "start_time": "2022-09-05T12:02:31.795Z"
   },
   {
    "duration": 4601,
    "start_time": "2022-09-05T12:02:36.985Z"
   },
   {
    "duration": 1812,
    "start_time": "2022-09-05T12:02:53.107Z"
   },
   {
    "duration": 1512,
    "start_time": "2022-09-05T12:04:00.471Z"
   },
   {
    "duration": 3,
    "start_time": "2022-09-05T12:04:01.986Z"
   },
   {
    "duration": 817,
    "start_time": "2022-09-05T12:04:01.990Z"
   },
   {
    "duration": 9,
    "start_time": "2022-09-05T12:04:02.809Z"
   },
   {
    "duration": 61,
    "start_time": "2022-09-05T12:04:02.819Z"
   },
   {
    "duration": 6,
    "start_time": "2022-09-05T12:04:09.909Z"
   },
   {
    "duration": 8,
    "start_time": "2022-09-05T12:04:11.099Z"
   },
   {
    "duration": 6,
    "start_time": "2022-09-05T12:04:11.649Z"
   },
   {
    "duration": 4,
    "start_time": "2022-09-05T12:04:12.862Z"
   },
   {
    "duration": 7,
    "start_time": "2022-09-05T12:04:21.619Z"
   },
   {
    "duration": 12,
    "start_time": "2022-09-05T12:04:45.961Z"
   },
   {
    "duration": 16,
    "start_time": "2022-09-05T12:04:57.212Z"
   },
   {
    "duration": 4,
    "start_time": "2022-09-05T12:04:58.976Z"
   },
   {
    "duration": 73,
    "start_time": "2022-09-05T12:05:19.459Z"
   },
   {
    "duration": 3,
    "start_time": "2022-09-05T12:05:40.835Z"
   },
   {
    "duration": 6,
    "start_time": "2022-09-05T12:05:55.070Z"
   },
   {
    "duration": 3,
    "start_time": "2022-09-05T12:06:02.244Z"
   },
   {
    "duration": 1799,
    "start_time": "2022-09-05T12:06:02.549Z"
   },
   {
    "duration": 657,
    "start_time": "2022-09-05T12:06:19.710Z"
   },
   {
    "duration": 675,
    "start_time": "2022-09-05T12:08:44.566Z"
   },
   {
    "duration": 1341,
    "start_time": "2022-09-05T12:08:56.674Z"
   },
   {
    "duration": 3,
    "start_time": "2022-09-05T12:08:58.017Z"
   },
   {
    "duration": 680,
    "start_time": "2022-09-05T12:08:58.410Z"
   },
   {
    "duration": 7,
    "start_time": "2022-09-05T12:08:59.092Z"
   },
   {
    "duration": 58,
    "start_time": "2022-09-05T12:08:59.101Z"
   },
   {
    "duration": 7,
    "start_time": "2022-09-05T12:09:07.209Z"
   },
   {
    "duration": 8,
    "start_time": "2022-09-05T12:09:13.143Z"
   },
   {
    "duration": 7,
    "start_time": "2022-09-05T12:09:14.117Z"
   },
   {
    "duration": 4,
    "start_time": "2022-09-05T12:09:15.793Z"
   },
   {
    "duration": 7,
    "start_time": "2022-09-05T12:10:00.927Z"
   },
   {
    "duration": 71,
    "start_time": "2022-09-05T12:11:23.318Z"
   },
   {
    "duration": 161,
    "start_time": "2022-09-05T12:12:37.425Z"
   },
   {
    "duration": 67,
    "start_time": "2022-09-05T12:12:41.316Z"
   },
   {
    "duration": 54,
    "start_time": "2022-09-05T12:12:50.444Z"
   },
   {
    "duration": 5,
    "start_time": "2022-09-05T12:13:07.749Z"
   },
   {
    "duration": 6,
    "start_time": "2022-09-05T12:13:17.931Z"
   },
   {
    "duration": 6,
    "start_time": "2022-09-05T12:15:06.960Z"
   },
   {
    "duration": 13,
    "start_time": "2022-09-05T12:15:48.456Z"
   },
   {
    "duration": 4,
    "start_time": "2022-09-05T12:15:56.866Z"
   },
   {
    "duration": 9,
    "start_time": "2022-09-05T12:16:12.991Z"
   },
   {
    "duration": 4,
    "start_time": "2022-09-05T12:17:24.595Z"
   },
   {
    "duration": 14,
    "start_time": "2022-09-05T12:17:26.983Z"
   },
   {
    "duration": 4,
    "start_time": "2022-09-05T12:17:38.311Z"
   },
   {
    "duration": 71,
    "start_time": "2022-09-05T12:17:40.525Z"
   },
   {
    "duration": 10,
    "start_time": "2022-09-05T12:18:16.772Z"
   },
   {
    "duration": 25,
    "start_time": "2022-09-05T12:18:20.661Z"
   },
   {
    "duration": 3,
    "start_time": "2022-09-05T12:18:37.718Z"
   },
   {
    "duration": 3,
    "start_time": "2022-09-05T12:18:48.059Z"
   },
   {
    "duration": 1778,
    "start_time": "2022-09-05T12:18:48.498Z"
   },
   {
    "duration": 3,
    "start_time": "2022-09-05T12:19:34.870Z"
   },
   {
    "duration": 1871,
    "start_time": "2022-09-05T12:19:35.670Z"
   },
   {
    "duration": 4,
    "start_time": "2022-09-05T12:24:10.005Z"
   },
   {
    "duration": 8,
    "start_time": "2022-09-05T12:24:10.011Z"
   },
   {
    "duration": 706,
    "start_time": "2022-09-05T12:24:10.021Z"
   },
   {
    "duration": 6,
    "start_time": "2022-09-05T12:24:10.729Z"
   },
   {
    "duration": 57,
    "start_time": "2022-09-05T12:24:10.736Z"
   },
   {
    "duration": 6,
    "start_time": "2022-09-05T12:24:10.795Z"
   },
   {
    "duration": 7,
    "start_time": "2022-09-05T12:24:10.803Z"
   },
   {
    "duration": 6,
    "start_time": "2022-09-05T12:24:10.812Z"
   },
   {
    "duration": 6,
    "start_time": "2022-09-05T12:24:10.819Z"
   },
   {
    "duration": 8,
    "start_time": "2022-09-05T12:24:10.827Z"
   },
   {
    "duration": 6,
    "start_time": "2022-09-05T12:24:10.868Z"
   },
   {
    "duration": 8,
    "start_time": "2022-09-05T12:24:13.061Z"
   },
   {
    "duration": 10,
    "start_time": "2022-09-05T12:24:17.797Z"
   },
   {
    "duration": 3,
    "start_time": "2022-09-05T12:24:25.168Z"
   },
   {
    "duration": 17,
    "start_time": "2022-09-05T12:24:41.014Z"
   },
   {
    "duration": 4,
    "start_time": "2022-09-05T12:24:47.346Z"
   },
   {
    "duration": 9,
    "start_time": "2022-09-05T12:25:30.504Z"
   },
   {
    "duration": 11,
    "start_time": "2022-09-05T12:25:33.225Z"
   },
   {
    "duration": 3,
    "start_time": "2022-09-05T12:26:04.110Z"
   },
   {
    "duration": 1874,
    "start_time": "2022-09-05T12:26:05.368Z"
   },
   {
    "duration": 1371,
    "start_time": "2022-09-05T12:27:30.465Z"
   },
   {
    "duration": 3,
    "start_time": "2022-09-05T12:27:31.838Z"
   },
   {
    "duration": 734,
    "start_time": "2022-09-05T12:27:31.843Z"
   },
   {
    "duration": 8,
    "start_time": "2022-09-05T12:27:32.579Z"
   },
   {
    "duration": 43,
    "start_time": "2022-09-05T12:27:32.589Z"
   },
   {
    "duration": 6,
    "start_time": "2022-09-05T12:27:32.634Z"
   },
   {
    "duration": 32,
    "start_time": "2022-09-05T12:27:32.642Z"
   },
   {
    "duration": 8,
    "start_time": "2022-09-05T12:27:32.675Z"
   },
   {
    "duration": 6,
    "start_time": "2022-09-05T12:27:32.685Z"
   },
   {
    "duration": 10,
    "start_time": "2022-09-05T12:27:32.694Z"
   },
   {
    "duration": 7,
    "start_time": "2022-09-05T12:27:32.705Z"
   },
   {
    "duration": 10,
    "start_time": "2022-09-05T12:27:32.714Z"
   },
   {
    "duration": 43,
    "start_time": "2022-09-05T12:27:32.725Z"
   },
   {
    "duration": 4,
    "start_time": "2022-09-05T12:27:32.770Z"
   },
   {
    "duration": 31,
    "start_time": "2022-09-05T12:27:32.776Z"
   },
   {
    "duration": 3,
    "start_time": "2022-09-05T12:27:32.809Z"
   },
   {
    "duration": 120,
    "start_time": "2022-09-05T12:27:32.814Z"
   },
   {
    "duration": 14,
    "start_time": "2022-09-05T12:27:32.935Z"
   },
   {
    "duration": 26,
    "start_time": "2022-09-05T12:27:32.952Z"
   },
   {
    "duration": 7,
    "start_time": "2022-09-05T12:27:32.979Z"
   },
   {
    "duration": 11,
    "start_time": "2022-09-05T12:27:32.988Z"
   },
   {
    "duration": 29,
    "start_time": "2022-09-05T12:27:33.002Z"
   },
   {
    "duration": 1572,
    "start_time": "2022-09-05T12:27:39.729Z"
   },
   {
    "duration": 16,
    "start_time": "2022-09-05T12:27:43.877Z"
   },
   {
    "duration": 980,
    "start_time": "2022-09-05T12:27:46.744Z"
   },
   {
    "duration": 9,
    "start_time": "2022-09-05T12:27:49.815Z"
   },
   {
    "duration": 6,
    "start_time": "2022-09-05T12:27:54.804Z"
   },
   {
    "duration": 15,
    "start_time": "2022-09-05T12:28:00.353Z"
   },
   {
    "duration": 11,
    "start_time": "2022-09-05T12:28:08.014Z"
   },
   {
    "duration": 624,
    "start_time": "2022-09-05T12:28:12.935Z"
   },
   {
    "duration": 394,
    "start_time": "2022-09-05T12:28:24.716Z"
   },
   {
    "duration": 405,
    "start_time": "2022-09-05T12:28:27.858Z"
   },
   {
    "duration": 12,
    "start_time": "2022-09-05T12:28:28.836Z"
   },
   {
    "duration": 65,
    "start_time": "2022-09-05T12:28:42.114Z"
   },
   {
    "duration": 429,
    "start_time": "2022-09-05T12:28:44.096Z"
   },
   {
    "duration": 3,
    "start_time": "2022-09-05T12:28:52.020Z"
   },
   {
    "duration": 10,
    "start_time": "2022-09-05T12:28:55.951Z"
   },
   {
    "duration": 6,
    "start_time": "2022-09-05T12:28:58.978Z"
   },
   {
    "duration": 3,
    "start_time": "2022-09-05T12:29:03.345Z"
   },
   {
    "duration": 1384,
    "start_time": "2022-09-05T12:29:07.631Z"
   },
   {
    "duration": 88130,
    "start_time": "2022-09-05T12:29:19.549Z"
   },
   {
    "duration": 1727,
    "start_time": "2022-09-05T12:32:34.700Z"
   },
   {
    "duration": 1543,
    "start_time": "2022-09-05T12:36:49.731Z"
   },
   {
    "duration": 3,
    "start_time": "2022-09-05T12:36:51.276Z"
   },
   {
    "duration": 901,
    "start_time": "2022-09-05T12:36:51.280Z"
   },
   {
    "duration": 8,
    "start_time": "2022-09-05T12:36:52.184Z"
   },
   {
    "duration": 79,
    "start_time": "2022-09-05T12:36:52.194Z"
   },
   {
    "duration": 6,
    "start_time": "2022-09-05T12:36:52.275Z"
   },
   {
    "duration": 10,
    "start_time": "2022-09-05T12:36:52.282Z"
   },
   {
    "duration": 13,
    "start_time": "2022-09-05T12:36:52.293Z"
   },
   {
    "duration": 8,
    "start_time": "2022-09-05T12:36:52.308Z"
   },
   {
    "duration": 8,
    "start_time": "2022-09-05T12:36:52.319Z"
   },
   {
    "duration": 7,
    "start_time": "2022-09-05T12:36:52.329Z"
   },
   {
    "duration": 37,
    "start_time": "2022-09-05T12:36:52.338Z"
   },
   {
    "duration": 14,
    "start_time": "2022-09-05T12:36:52.377Z"
   },
   {
    "duration": 49,
    "start_time": "2022-09-05T12:36:52.393Z"
   },
   {
    "duration": 26,
    "start_time": "2022-09-05T12:36:52.443Z"
   },
   {
    "duration": 4,
    "start_time": "2022-09-05T12:36:52.471Z"
   },
   {
    "duration": 6,
    "start_time": "2022-09-05T12:36:52.476Z"
   },
   {
    "duration": 154,
    "start_time": "2022-09-05T12:36:52.484Z"
   },
   {
    "duration": 15,
    "start_time": "2022-09-05T12:36:52.639Z"
   },
   {
    "duration": 14,
    "start_time": "2022-09-05T12:36:52.667Z"
   },
   {
    "duration": 7,
    "start_time": "2022-09-05T12:36:52.684Z"
   },
   {
    "duration": 10,
    "start_time": "2022-09-05T12:36:52.693Z"
   },
   {
    "duration": 24,
    "start_time": "2022-09-05T12:36:52.705Z"
   },
   {
    "duration": 1721,
    "start_time": "2022-09-05T12:36:52.731Z"
   },
   {
    "duration": 20,
    "start_time": "2022-09-05T12:36:54.454Z"
   },
   {
    "duration": 1011,
    "start_time": "2022-09-05T12:36:54.476Z"
   },
   {
    "duration": 10,
    "start_time": "2022-09-05T12:36:55.489Z"
   },
   {
    "duration": 7,
    "start_time": "2022-09-05T12:36:55.502Z"
   },
   {
    "duration": 16,
    "start_time": "2022-09-05T12:36:55.511Z"
   },
   {
    "duration": 47,
    "start_time": "2022-09-05T12:36:55.529Z"
   },
   {
    "duration": 639,
    "start_time": "2022-09-05T12:36:55.578Z"
   },
   {
    "duration": 511,
    "start_time": "2022-09-05T12:36:56.219Z"
   },
   {
    "duration": 416,
    "start_time": "2022-09-05T12:36:56.732Z"
   },
   {
    "duration": 20,
    "start_time": "2022-09-05T12:36:57.149Z"
   },
   {
    "duration": 78,
    "start_time": "2022-09-05T12:36:57.171Z"
   },
   {
    "duration": 454,
    "start_time": "2022-09-05T12:36:57.250Z"
   },
   {
    "duration": 3,
    "start_time": "2022-09-05T12:36:57.706Z"
   },
   {
    "duration": 15,
    "start_time": "2022-09-05T12:36:57.710Z"
   },
   {
    "duration": 12,
    "start_time": "2022-09-05T12:36:57.726Z"
   },
   {
    "duration": 5,
    "start_time": "2022-09-05T12:36:57.740Z"
   },
   {
    "duration": 1818,
    "start_time": "2022-09-05T12:36:57.746Z"
   },
   {
    "duration": 18,
    "start_time": "2022-09-05T12:38:02.146Z"
   },
   {
    "duration": 4,
    "start_time": "2022-09-05T12:38:10.532Z"
   },
   {
    "duration": 7,
    "start_time": "2022-09-05T12:38:10.538Z"
   },
   {
    "duration": 672,
    "start_time": "2022-09-05T12:38:10.547Z"
   },
   {
    "duration": 8,
    "start_time": "2022-09-05T12:38:11.221Z"
   },
   {
    "duration": 62,
    "start_time": "2022-09-05T12:38:11.232Z"
   },
   {
    "duration": 5,
    "start_time": "2022-09-05T12:38:11.296Z"
   },
   {
    "duration": 12,
    "start_time": "2022-09-05T12:38:11.303Z"
   },
   {
    "duration": 5,
    "start_time": "2022-09-05T12:38:11.317Z"
   },
   {
    "duration": 8,
    "start_time": "2022-09-05T12:38:11.323Z"
   },
   {
    "duration": 8,
    "start_time": "2022-09-05T12:38:11.333Z"
   },
   {
    "duration": 5,
    "start_time": "2022-09-05T12:38:11.368Z"
   },
   {
    "duration": 9,
    "start_time": "2022-09-05T12:38:11.375Z"
   },
   {
    "duration": 13,
    "start_time": "2022-09-05T12:38:11.385Z"
   },
   {
    "duration": 19,
    "start_time": "2022-09-05T12:38:11.401Z"
   },
   {
    "duration": 4,
    "start_time": "2022-09-05T12:38:11.421Z"
   },
   {
    "duration": 7,
    "start_time": "2022-09-05T12:38:11.426Z"
   },
   {
    "duration": 3,
    "start_time": "2022-09-05T12:38:11.469Z"
   },
   {
    "duration": 156,
    "start_time": "2022-09-05T12:38:11.474Z"
   },
   {
    "duration": 15,
    "start_time": "2022-09-05T12:38:11.632Z"
   },
   {
    "duration": 27,
    "start_time": "2022-09-05T12:38:11.649Z"
   },
   {
    "duration": 6,
    "start_time": "2022-09-05T12:38:11.678Z"
   },
   {
    "duration": 11,
    "start_time": "2022-09-05T12:38:11.686Z"
   },
   {
    "duration": 24,
    "start_time": "2022-09-05T12:38:11.699Z"
   },
   {
    "duration": 1637,
    "start_time": "2022-09-05T12:38:11.725Z"
   },
   {
    "duration": 14,
    "start_time": "2022-09-05T12:38:13.367Z"
   },
   {
    "duration": 1166,
    "start_time": "2022-09-05T12:38:13.383Z"
   },
   {
    "duration": 17,
    "start_time": "2022-09-05T12:38:14.551Z"
   },
   {
    "duration": 17,
    "start_time": "2022-09-05T12:38:14.569Z"
   },
   {
    "duration": 42,
    "start_time": "2022-09-05T12:38:14.588Z"
   },
   {
    "duration": 12,
    "start_time": "2022-09-05T12:38:14.632Z"
   },
   {
    "duration": 542,
    "start_time": "2022-09-05T12:38:14.646Z"
   },
   {
    "duration": 470,
    "start_time": "2022-09-05T12:38:15.190Z"
   },
   {
    "duration": 438,
    "start_time": "2022-09-05T12:38:15.661Z"
   },
   {
    "duration": 11,
    "start_time": "2022-09-05T12:38:16.101Z"
   },
   {
    "duration": 87,
    "start_time": "2022-09-05T12:38:16.114Z"
   },
   {
    "duration": 483,
    "start_time": "2022-09-05T12:38:16.202Z"
   },
   {
    "duration": 4,
    "start_time": "2022-09-05T12:38:16.687Z"
   },
   {
    "duration": 31,
    "start_time": "2022-09-05T12:38:16.694Z"
   },
   {
    "duration": 10,
    "start_time": "2022-09-05T12:38:16.727Z"
   },
   {
    "duration": 16,
    "start_time": "2022-09-05T12:38:16.740Z"
   },
   {
    "duration": 97978,
    "start_time": "2022-09-05T12:38:16.761Z"
   },
   {
    "duration": 4291,
    "start_time": "2022-09-05T12:44:29.633Z"
   },
   {
    "duration": 9435,
    "start_time": "2022-09-05T12:44:48.526Z"
   },
   {
    "duration": 9694,
    "start_time": "2022-09-05T12:45:00.968Z"
   },
   {
    "duration": 20143,
    "start_time": "2022-09-05T12:45:23.957Z"
   },
   {
    "duration": 9458,
    "start_time": "2022-09-05T12:45:50.572Z"
   },
   {
    "duration": 9635,
    "start_time": "2022-09-05T12:46:19.580Z"
   },
   {
    "duration": 579,
    "start_time": "2022-09-05T12:46:47.754Z"
   },
   {
    "duration": 5908,
    "start_time": "2022-09-05T12:47:59.913Z"
   },
   {
    "duration": 4,
    "start_time": "2022-09-05T12:48:05.912Z"
   },
   {
    "duration": 6003,
    "start_time": "2022-09-05T12:48:13.377Z"
   },
   {
    "duration": 5869,
    "start_time": "2022-09-05T12:48:56.422Z"
   },
   {
    "duration": 4,
    "start_time": "2022-09-05T12:52:47.087Z"
   },
   {
    "duration": 3,
    "start_time": "2022-09-05T12:52:52.382Z"
   },
   {
    "duration": 754,
    "start_time": "2022-09-05T12:52:54.664Z"
   },
   {
    "duration": 3,
    "start_time": "2022-09-05T12:53:27.007Z"
   },
   {
    "duration": 3,
    "start_time": "2022-09-05T12:53:29.852Z"
   },
   {
    "duration": 3,
    "start_time": "2022-09-05T12:53:32.748Z"
   },
   {
    "duration": 5637,
    "start_time": "2022-09-05T12:53:34.937Z"
   },
   {
    "duration": 1569,
    "start_time": "2022-09-05T12:55:34.735Z"
   },
   {
    "duration": 1229,
    "start_time": "2022-09-05T12:59:46.544Z"
   },
   {
    "duration": 3,
    "start_time": "2022-09-05T13:01:39.042Z"
   },
   {
    "duration": 3,
    "start_time": "2022-09-05T13:02:00.364Z"
   },
   {
    "duration": 1685,
    "start_time": "2022-09-05T13:02:03.773Z"
   },
   {
    "duration": 9193,
    "start_time": "2022-09-05T13:02:25.871Z"
   },
   {
    "duration": 99059,
    "start_time": "2022-09-05T13:03:02.010Z"
   },
   {
    "duration": 39,
    "start_time": "2022-09-05T13:05:26.494Z"
   },
   {
    "duration": 3,
    "start_time": "2022-09-05T13:08:05.917Z"
   },
   {
    "duration": 3,
    "start_time": "2022-09-05T13:08:09.734Z"
   },
   {
    "duration": 3,
    "start_time": "2022-09-05T13:08:12.839Z"
   },
   {
    "duration": 97454,
    "start_time": "2022-09-05T13:08:13.213Z"
   },
   {
    "duration": 24,
    "start_time": "2022-09-05T13:09:50.670Z"
   },
   {
    "duration": 1563,
    "start_time": "2022-09-05T13:14:39.010Z"
   },
   {
    "duration": 5,
    "start_time": "2022-09-05T13:17:11.967Z"
   },
   {
    "duration": 8,
    "start_time": "2022-09-05T13:17:11.974Z"
   },
   {
    "duration": 708,
    "start_time": "2022-09-05T13:17:11.983Z"
   },
   {
    "duration": 7,
    "start_time": "2022-09-05T13:17:12.693Z"
   },
   {
    "duration": 192,
    "start_time": "2022-09-05T13:17:12.701Z"
   },
   {
    "duration": 6,
    "start_time": "2022-09-05T13:17:12.894Z"
   },
   {
    "duration": 10,
    "start_time": "2022-09-05T13:17:12.901Z"
   },
   {
    "duration": 6,
    "start_time": "2022-09-05T13:17:12.912Z"
   },
   {
    "duration": 8,
    "start_time": "2022-09-05T13:17:12.921Z"
   },
   {
    "duration": 40,
    "start_time": "2022-09-05T13:17:12.931Z"
   },
   {
    "duration": 7,
    "start_time": "2022-09-05T13:17:12.973Z"
   },
   {
    "duration": 9,
    "start_time": "2022-09-05T13:17:12.982Z"
   },
   {
    "duration": 11,
    "start_time": "2022-09-05T13:17:12.993Z"
   },
   {
    "duration": 17,
    "start_time": "2022-09-05T13:17:13.006Z"
   },
   {
    "duration": 3,
    "start_time": "2022-09-05T13:17:13.025Z"
   },
   {
    "duration": 39,
    "start_time": "2022-09-05T13:17:13.030Z"
   },
   {
    "duration": 4,
    "start_time": "2022-09-05T13:17:13.071Z"
   },
   {
    "duration": 139,
    "start_time": "2022-09-05T13:17:13.077Z"
   },
   {
    "duration": 14,
    "start_time": "2022-09-05T13:17:13.218Z"
   },
   {
    "duration": 13,
    "start_time": "2022-09-05T13:17:13.234Z"
   },
   {
    "duration": 7,
    "start_time": "2022-09-05T13:17:13.268Z"
   },
   {
    "duration": 11,
    "start_time": "2022-09-05T13:17:13.277Z"
   },
   {
    "duration": 24,
    "start_time": "2022-09-05T13:17:13.290Z"
   },
   {
    "duration": 1649,
    "start_time": "2022-09-05T13:17:13.317Z"
   },
   {
    "duration": 15,
    "start_time": "2022-09-05T13:17:14.967Z"
   },
   {
    "duration": 1153,
    "start_time": "2022-09-05T13:17:14.984Z"
   },
   {
    "duration": 9,
    "start_time": "2022-09-05T13:17:16.138Z"
   },
   {
    "duration": 20,
    "start_time": "2022-09-05T13:17:16.149Z"
   },
   {
    "duration": 13,
    "start_time": "2022-09-05T13:17:16.171Z"
   },
   {
    "duration": 11,
    "start_time": "2022-09-05T13:17:16.185Z"
   },
   {
    "duration": 635,
    "start_time": "2022-09-05T13:17:16.198Z"
   },
   {
    "duration": 448,
    "start_time": "2022-09-05T13:17:16.836Z"
   },
   {
    "duration": 424,
    "start_time": "2022-09-05T13:17:17.286Z"
   },
   {
    "duration": 11,
    "start_time": "2022-09-05T13:17:17.711Z"
   },
   {
    "duration": 82,
    "start_time": "2022-09-05T13:17:17.723Z"
   },
   {
    "duration": 565,
    "start_time": "2022-09-05T13:17:17.807Z"
   },
   {
    "duration": 4,
    "start_time": "2022-09-05T13:17:18.375Z"
   },
   {
    "duration": 8,
    "start_time": "2022-09-05T13:17:18.382Z"
   },
   {
    "duration": 15,
    "start_time": "2022-09-05T13:17:18.392Z"
   },
   {
    "duration": 9,
    "start_time": "2022-09-05T13:17:18.409Z"
   },
   {
    "duration": 1370,
    "start_time": "2022-09-05T13:17:28.980Z"
   },
   {
    "duration": 3,
    "start_time": "2022-09-05T13:17:30.352Z"
   },
   {
    "duration": 751,
    "start_time": "2022-09-05T13:17:30.356Z"
   },
   {
    "duration": 8,
    "start_time": "2022-09-05T13:17:31.110Z"
   },
   {
    "duration": 59,
    "start_time": "2022-09-05T13:17:31.120Z"
   },
   {
    "duration": 7,
    "start_time": "2022-09-05T13:17:31.182Z"
   },
   {
    "duration": 29,
    "start_time": "2022-09-05T13:17:31.191Z"
   },
   {
    "duration": 20,
    "start_time": "2022-09-05T13:17:31.222Z"
   },
   {
    "duration": 33,
    "start_time": "2022-09-05T13:17:31.243Z"
   },
   {
    "duration": 21,
    "start_time": "2022-09-05T13:17:31.279Z"
   },
   {
    "duration": 20,
    "start_time": "2022-09-05T13:17:31.302Z"
   },
   {
    "duration": 23,
    "start_time": "2022-09-05T13:17:31.324Z"
   },
   {
    "duration": 16,
    "start_time": "2022-09-05T13:17:31.349Z"
   },
   {
    "duration": 26,
    "start_time": "2022-09-05T13:17:31.367Z"
   },
   {
    "duration": 11,
    "start_time": "2022-09-05T13:17:31.395Z"
   },
   {
    "duration": 14,
    "start_time": "2022-09-05T13:17:31.408Z"
   },
   {
    "duration": 7,
    "start_time": "2022-09-05T13:17:31.424Z"
   },
   {
    "duration": 135,
    "start_time": "2022-09-05T13:17:31.433Z"
   },
   {
    "duration": 18,
    "start_time": "2022-09-05T13:17:31.570Z"
   },
   {
    "duration": 44,
    "start_time": "2022-09-05T13:17:31.590Z"
   },
   {
    "duration": 59,
    "start_time": "2022-09-05T13:17:31.636Z"
   },
   {
    "duration": 27,
    "start_time": "2022-09-05T13:17:31.697Z"
   },
   {
    "duration": 28,
    "start_time": "2022-09-05T13:17:31.726Z"
   },
   {
    "duration": 1600,
    "start_time": "2022-09-05T13:17:31.756Z"
   },
   {
    "duration": 17,
    "start_time": "2022-09-05T13:17:33.357Z"
   },
   {
    "duration": 1035,
    "start_time": "2022-09-05T13:17:33.376Z"
   },
   {
    "duration": 9,
    "start_time": "2022-09-05T13:17:34.413Z"
   },
   {
    "duration": 7,
    "start_time": "2022-09-05T13:17:34.425Z"
   },
   {
    "duration": 36,
    "start_time": "2022-09-05T13:17:34.433Z"
   },
   {
    "duration": 15,
    "start_time": "2022-09-05T13:17:34.471Z"
   },
   {
    "duration": 642,
    "start_time": "2022-09-05T13:17:34.488Z"
   },
   {
    "duration": 450,
    "start_time": "2022-09-05T13:17:35.132Z"
   },
   {
    "duration": 433,
    "start_time": "2022-09-05T13:17:35.584Z"
   },
   {
    "duration": 12,
    "start_time": "2022-09-05T13:17:36.019Z"
   },
   {
    "duration": 102,
    "start_time": "2022-09-05T13:17:36.033Z"
   },
   {
    "duration": 475,
    "start_time": "2022-09-05T13:17:36.137Z"
   },
   {
    "duration": 4,
    "start_time": "2022-09-05T13:17:36.615Z"
   },
   {
    "duration": 17,
    "start_time": "2022-09-05T13:17:36.621Z"
   },
   {
    "duration": 19,
    "start_time": "2022-09-05T13:17:36.640Z"
   },
   {
    "duration": 24,
    "start_time": "2022-09-05T13:17:36.662Z"
   },
   {
    "duration": 213689,
    "start_time": "2022-09-05T13:18:39.776Z"
   },
   {
    "duration": 158,
    "start_time": "2022-09-05T13:22:13.468Z"
   },
   {
    "duration": 114,
    "start_time": "2022-09-05T13:22:44.503Z"
   },
   {
    "duration": 209,
    "start_time": "2022-09-05T13:23:52.290Z"
   },
   {
    "duration": 10451,
    "start_time": "2022-09-05T13:24:09.362Z"
   },
   {
    "duration": 194982,
    "start_time": "2022-09-05T13:27:44.617Z"
   },
   {
    "duration": 10274,
    "start_time": "2022-09-05T13:30:59.601Z"
   },
   {
    "duration": 9640,
    "start_time": "2022-09-05T13:32:05.214Z"
   },
   {
    "duration": 9675,
    "start_time": "2022-09-05T13:32:26.261Z"
   },
   {
    "duration": 9318,
    "start_time": "2022-09-05T13:34:22.892Z"
   },
   {
    "duration": 219935,
    "start_time": "2022-09-05T13:35:20.353Z"
   },
   {
    "duration": 9731,
    "start_time": "2022-09-05T13:39:00.290Z"
   },
   {
    "duration": 4,
    "start_time": "2022-09-05T13:39:10.022Z"
   },
   {
    "duration": 3,
    "start_time": "2022-09-05T13:40:18.813Z"
   },
   {
    "duration": 10261,
    "start_time": "2022-09-05T13:40:30.167Z"
   },
   {
    "duration": 2679,
    "start_time": "2022-09-05T13:41:01.627Z"
   },
   {
    "duration": 5,
    "start_time": "2022-09-05T13:41:21.669Z"
   },
   {
    "duration": 81,
    "start_time": "2022-09-05T13:43:01.665Z"
   },
   {
    "duration": 3,
    "start_time": "2022-09-05T13:43:07.058Z"
   },
   {
    "duration": 3,
    "start_time": "2022-09-05T13:43:35.918Z"
   },
   {
    "duration": 478947,
    "start_time": "2022-09-05T13:44:05.267Z"
   },
   {
    "duration": 2,
    "start_time": "2022-09-05T13:52:04.217Z"
   },
   {
    "duration": 1688861,
    "start_time": "2022-09-05T13:52:04.221Z"
   },
   {
    "duration": 616,
    "start_time": "2022-09-05T14:20:13.084Z"
   },
   {
    "duration": 0,
    "start_time": "2022-09-05T14:20:13.701Z"
   },
   {
    "duration": 51251,
    "start_time": "2022-09-05T14:21:41.294Z"
   },
   {
    "duration": 5163,
    "start_time": "2022-09-05T14:22:32.547Z"
   },
   {
    "duration": 4,
    "start_time": "2022-09-05T14:22:37.712Z"
   },
   {
    "duration": 6155,
    "start_time": "2022-09-05T14:23:16.513Z"
   },
   {
    "duration": 5312,
    "start_time": "2022-09-05T14:24:16.364Z"
   },
   {
    "duration": 6187,
    "start_time": "2022-09-05T14:24:54.381Z"
   },
   {
    "duration": 5110,
    "start_time": "2022-09-05T14:25:09.761Z"
   },
   {
    "duration": 4864,
    "start_time": "2022-09-05T14:25:23.809Z"
   },
   {
    "duration": 3,
    "start_time": "2022-09-05T14:25:29.728Z"
   },
   {
    "duration": 3,
    "start_time": "2022-09-05T14:25:54.846Z"
   },
   {
    "duration": 5421,
    "start_time": "2022-09-05T14:26:11.848Z"
   },
   {
    "duration": 4,
    "start_time": "2022-09-05T14:26:17.271Z"
   },
   {
    "duration": 12,
    "start_time": "2022-09-05T14:26:36.273Z"
   },
   {
    "duration": 4,
    "start_time": "2022-09-05T14:27:16.320Z"
   },
   {
    "duration": 13,
    "start_time": "2022-09-05T14:28:18.473Z"
   },
   {
    "duration": 10,
    "start_time": "2022-09-05T14:28:26.718Z"
   },
   {
    "duration": 11,
    "start_time": "2022-09-05T14:28:54.811Z"
   },
   {
    "duration": 9,
    "start_time": "2022-09-05T14:29:24.347Z"
   },
   {
    "duration": 11,
    "start_time": "2022-09-05T14:29:32.949Z"
   },
   {
    "duration": 156,
    "start_time": "2022-09-05T14:30:35.392Z"
   },
   {
    "duration": 140,
    "start_time": "2022-09-05T14:35:53.884Z"
   },
   {
    "duration": 5285,
    "start_time": "2022-09-05T14:35:59.283Z"
   },
   {
    "duration": 5801,
    "start_time": "2022-09-05T14:36:04.571Z"
   },
   {
    "duration": 5,
    "start_time": "2022-09-05T14:36:10.374Z"
   },
   {
    "duration": 249,
    "start_time": "2022-09-05T14:36:10.382Z"
   },
   {
    "duration": 154,
    "start_time": "2022-09-05T14:36:41.432Z"
   },
   {
    "duration": 149,
    "start_time": "2022-09-05T14:36:48.747Z"
   },
   {
    "duration": 382,
    "start_time": "2022-09-05T14:53:39.432Z"
   },
   {
    "duration": 273,
    "start_time": "2022-09-05T14:53:53.596Z"
   },
   {
    "duration": 218,
    "start_time": "2022-09-05T14:54:11.650Z"
   },
   {
    "duration": 152,
    "start_time": "2022-09-05T14:56:34.974Z"
   },
   {
    "duration": 87,
    "start_time": "2022-09-05T15:06:34.886Z"
   },
   {
    "duration": 211,
    "start_time": "2022-09-05T15:06:58.162Z"
   },
   {
    "duration": 423,
    "start_time": "2022-09-05T15:07:02.846Z"
   },
   {
    "duration": 404,
    "start_time": "2022-09-05T15:07:11.468Z"
   },
   {
    "duration": 152,
    "start_time": "2022-09-05T15:08:03.230Z"
   },
   {
    "duration": 8,
    "start_time": "2022-09-05T15:09:51.099Z"
   },
   {
    "duration": 7,
    "start_time": "2022-09-05T15:09:56.033Z"
   },
   {
    "duration": 146,
    "start_time": "2022-09-05T15:18:08.996Z"
   },
   {
    "duration": 5365,
    "start_time": "2022-09-05T15:18:14.713Z"
   },
   {
    "duration": 5102,
    "start_time": "2022-09-05T15:18:20.167Z"
   },
   {
    "duration": 3,
    "start_time": "2022-09-05T15:18:25.270Z"
   },
   {
    "duration": 208,
    "start_time": "2022-09-05T15:18:25.275Z"
   },
   {
    "duration": 151,
    "start_time": "2022-09-05T15:20:13.331Z"
   },
   {
    "duration": 2617,
    "start_time": "2022-09-05T15:21:31.632Z"
   },
   {
    "duration": 274,
    "start_time": "2022-09-05T15:21:54.673Z"
   },
   {
    "duration": 118,
    "start_time": "2022-09-05T15:22:59.359Z"
   },
   {
    "duration": 290,
    "start_time": "2022-09-05T15:23:01.877Z"
   },
   {
    "duration": 3,
    "start_time": "2022-09-05T15:24:27.847Z"
   },
   {
    "duration": 489,
    "start_time": "2022-09-05T15:24:46.484Z"
   },
   {
    "duration": 1203,
    "start_time": "2022-09-05T15:25:02.666Z"
   },
   {
    "duration": 1360,
    "start_time": "2022-09-05T15:25:14.612Z"
   },
   {
    "duration": 81,
    "start_time": "2022-09-05T15:25:34.684Z"
   },
   {
    "duration": 165,
    "start_time": "2022-09-05T15:26:08.834Z"
   },
   {
    "duration": 6,
    "start_time": "2022-09-05T15:27:01.543Z"
   },
   {
    "duration": 288,
    "start_time": "2022-09-05T15:27:04.052Z"
   },
   {
    "duration": 2812,
    "start_time": "2022-09-05T15:27:04.535Z"
   },
   {
    "duration": 3,
    "start_time": "2022-09-05T15:27:07.349Z"
   },
   {
    "duration": 428,
    "start_time": "2022-09-05T15:27:26.246Z"
   },
   {
    "duration": 362,
    "start_time": "2022-09-05T15:27:32.413Z"
   },
   {
    "duration": 85,
    "start_time": "2022-09-05T15:27:48.909Z"
   },
   {
    "duration": 4,
    "start_time": "2022-09-05T15:28:15.239Z"
   },
   {
    "duration": 79,
    "start_time": "2022-09-05T15:28:38.844Z"
   },
   {
    "duration": 489,
    "start_time": "2022-09-05T15:28:40.507Z"
   },
   {
    "duration": 87,
    "start_time": "2022-09-05T15:29:19.861Z"
   },
   {
    "duration": 91,
    "start_time": "2022-09-05T15:29:25.539Z"
   },
   {
    "duration": 96,
    "start_time": "2022-09-05T15:30:13.197Z"
   },
   {
    "duration": 13,
    "start_time": "2022-09-05T15:31:22.341Z"
   },
   {
    "duration": 53,
    "start_time": "2022-09-05T20:27:18.787Z"
   },
   {
    "duration": 7,
    "start_time": "2022-09-05T20:27:19.260Z"
   },
   {
    "duration": 1500,
    "start_time": "2022-09-05T20:27:42.078Z"
   },
   {
    "duration": 15,
    "start_time": "2022-09-05T20:27:43.580Z"
   },
   {
    "duration": 9,
    "start_time": "2022-09-05T20:27:43.596Z"
   },
   {
    "duration": 3516,
    "start_time": "2022-09-05T20:27:43.607Z"
   },
   {
    "duration": 7,
    "start_time": "2022-09-05T20:27:47.125Z"
   },
   {
    "duration": 92,
    "start_time": "2022-09-05T20:27:47.133Z"
   },
   {
    "duration": 5,
    "start_time": "2022-09-05T20:27:47.227Z"
   },
   {
    "duration": 59,
    "start_time": "2022-09-05T20:27:47.234Z"
   },
   {
    "duration": 8,
    "start_time": "2022-09-05T20:27:47.303Z"
   },
   {
    "duration": 5,
    "start_time": "2022-09-05T20:27:47.313Z"
   },
   {
    "duration": 9,
    "start_time": "2022-09-05T20:27:47.319Z"
   },
   {
    "duration": 4,
    "start_time": "2022-09-05T20:27:47.330Z"
   },
   {
    "duration": 60,
    "start_time": "2022-09-05T20:27:47.335Z"
   },
   {
    "duration": 11,
    "start_time": "2022-09-05T20:27:47.402Z"
   },
   {
    "duration": 17,
    "start_time": "2022-09-05T20:27:47.414Z"
   },
   {
    "duration": 4,
    "start_time": "2022-09-05T20:27:47.432Z"
   },
   {
    "duration": 16,
    "start_time": "2022-09-05T20:27:47.486Z"
   },
   {
    "duration": 9,
    "start_time": "2022-09-05T20:27:47.504Z"
   },
   {
    "duration": 185,
    "start_time": "2022-09-05T20:27:47.515Z"
   },
   {
    "duration": 13,
    "start_time": "2022-09-05T20:27:47.701Z"
   },
   {
    "duration": 13,
    "start_time": "2022-09-05T20:27:47.716Z"
   },
   {
    "duration": 7,
    "start_time": "2022-09-05T20:27:47.731Z"
   },
   {
    "duration": 10,
    "start_time": "2022-09-05T20:27:47.740Z"
   },
   {
    "duration": 54,
    "start_time": "2022-09-05T20:27:47.752Z"
   },
   {
    "duration": 1491,
    "start_time": "2022-09-05T20:27:47.808Z"
   },
   {
    "duration": 12,
    "start_time": "2022-09-05T20:27:49.302Z"
   },
   {
    "duration": 954,
    "start_time": "2022-09-05T20:27:49.316Z"
   },
   {
    "duration": 8,
    "start_time": "2022-09-05T20:27:50.271Z"
   },
   {
    "duration": 20,
    "start_time": "2022-09-05T20:27:50.286Z"
   },
   {
    "duration": 13,
    "start_time": "2022-09-05T20:27:50.307Z"
   },
   {
    "duration": 12,
    "start_time": "2022-09-05T20:27:50.321Z"
   },
   {
    "duration": 574,
    "start_time": "2022-09-05T20:27:50.334Z"
   },
   {
    "duration": 388,
    "start_time": "2022-09-05T20:27:50.910Z"
   },
   {
    "duration": 393,
    "start_time": "2022-09-05T20:27:51.300Z"
   },
   {
    "duration": 15,
    "start_time": "2022-09-05T20:27:51.695Z"
   },
   {
    "duration": 74,
    "start_time": "2022-09-05T20:27:51.711Z"
   },
   {
    "duration": 387,
    "start_time": "2022-09-05T20:27:51.790Z"
   },
   {
    "duration": 3,
    "start_time": "2022-09-05T20:27:52.179Z"
   },
   {
    "duration": 12,
    "start_time": "2022-09-05T20:27:52.190Z"
   },
   {
    "duration": 4,
    "start_time": "2022-09-05T20:27:52.203Z"
   },
   {
    "duration": 11,
    "start_time": "2022-09-05T20:27:52.211Z"
   },
   {
    "duration": 9,
    "start_time": "2022-09-05T20:27:52.223Z"
   },
   {
    "duration": 451,
    "start_time": "2022-09-05T20:27:53.074Z"
   },
   {
    "duration": 141,
    "start_time": "2022-09-05T20:27:54.913Z"
   },
   {
    "duration": 2664,
    "start_time": "2022-09-05T20:28:02.349Z"
   },
   {
    "duration": 279,
    "start_time": "2022-09-05T20:28:05.015Z"
   },
   {
    "duration": 3191,
    "start_time": "2022-09-06T08:07:53.596Z"
   },
   {
    "duration": 3,
    "start_time": "2022-09-06T08:07:56.789Z"
   },
   {
    "duration": 8,
    "start_time": "2022-09-06T08:07:56.794Z"
   },
   {
    "duration": 1889,
    "start_time": "2022-09-06T08:07:56.805Z"
   },
   {
    "duration": 8,
    "start_time": "2022-09-06T08:07:58.696Z"
   },
   {
    "duration": 44,
    "start_time": "2022-09-06T08:07:58.705Z"
   },
   {
    "duration": 7,
    "start_time": "2022-09-06T08:07:58.752Z"
   },
   {
    "duration": 32,
    "start_time": "2022-09-06T08:07:58.761Z"
   },
   {
    "duration": 6,
    "start_time": "2022-09-06T08:07:58.794Z"
   },
   {
    "duration": 15,
    "start_time": "2022-09-06T08:07:58.803Z"
   },
   {
    "duration": 12,
    "start_time": "2022-09-06T08:07:58.820Z"
   },
   {
    "duration": 19,
    "start_time": "2022-09-06T08:07:58.834Z"
   },
   {
    "duration": 9,
    "start_time": "2022-09-06T08:07:58.855Z"
   },
   {
    "duration": 25,
    "start_time": "2022-09-06T08:07:58.866Z"
   },
   {
    "duration": 21,
    "start_time": "2022-09-06T08:07:58.893Z"
   },
   {
    "duration": 4,
    "start_time": "2022-09-06T08:07:58.916Z"
   },
   {
    "duration": 16,
    "start_time": "2022-09-06T08:07:58.922Z"
   },
   {
    "duration": 7,
    "start_time": "2022-09-06T08:07:58.940Z"
   },
   {
    "duration": 152,
    "start_time": "2022-09-06T08:07:58.950Z"
   },
   {
    "duration": 15,
    "start_time": "2022-09-06T08:07:59.104Z"
   },
   {
    "duration": 16,
    "start_time": "2022-09-06T08:07:59.121Z"
   },
   {
    "duration": 12,
    "start_time": "2022-09-06T08:07:59.139Z"
   },
   {
    "duration": 39,
    "start_time": "2022-09-06T08:07:59.153Z"
   },
   {
    "duration": 28,
    "start_time": "2022-09-06T08:07:59.194Z"
   },
   {
    "duration": 1883,
    "start_time": "2022-09-06T08:07:59.224Z"
   },
   {
    "duration": 14,
    "start_time": "2022-09-06T08:08:01.109Z"
   },
   {
    "duration": 1188,
    "start_time": "2022-09-06T08:08:01.125Z"
   },
   {
    "duration": 9,
    "start_time": "2022-09-06T08:08:02.316Z"
   },
   {
    "duration": 14,
    "start_time": "2022-09-06T08:08:02.327Z"
   },
   {
    "duration": 27,
    "start_time": "2022-09-06T08:08:02.342Z"
   },
   {
    "duration": 25,
    "start_time": "2022-09-06T08:08:02.371Z"
   },
   {
    "duration": 637,
    "start_time": "2022-09-06T08:08:02.398Z"
   },
   {
    "duration": 439,
    "start_time": "2022-09-06T08:08:03.037Z"
   },
   {
    "duration": 433,
    "start_time": "2022-09-06T08:08:03.477Z"
   },
   {
    "duration": 11,
    "start_time": "2022-09-06T08:08:03.912Z"
   },
   {
    "duration": 93,
    "start_time": "2022-09-06T08:08:03.924Z"
   },
   {
    "duration": 419,
    "start_time": "2022-09-06T08:08:04.019Z"
   },
   {
    "duration": 4,
    "start_time": "2022-09-06T08:08:04.440Z"
   },
   {
    "duration": 11,
    "start_time": "2022-09-06T08:08:04.454Z"
   },
   {
    "duration": 19,
    "start_time": "2022-09-06T08:08:04.467Z"
   },
   {
    "duration": 17,
    "start_time": "2022-09-06T08:08:04.487Z"
   },
   {
    "duration": 20,
    "start_time": "2022-09-06T08:08:04.506Z"
   },
   {
    "duration": 24,
    "start_time": "2022-09-06T08:08:04.528Z"
   },
   {
    "duration": 10,
    "start_time": "2022-09-06T08:08:04.554Z"
   },
   {
    "duration": 48,
    "start_time": "2022-09-06T09:11:32.684Z"
   },
   {
    "duration": 1497,
    "start_time": "2022-09-06T09:11:36.695Z"
   },
   {
    "duration": 3,
    "start_time": "2022-09-06T09:11:38.194Z"
   },
   {
    "duration": 5,
    "start_time": "2022-09-06T09:11:38.198Z"
   },
   {
    "duration": 3295,
    "start_time": "2022-09-06T09:11:38.205Z"
   },
   {
    "duration": 7,
    "start_time": "2022-09-06T09:11:41.501Z"
   },
   {
    "duration": 50,
    "start_time": "2022-09-06T09:11:41.509Z"
   },
   {
    "duration": 5,
    "start_time": "2022-09-06T09:11:41.560Z"
   },
   {
    "duration": 12,
    "start_time": "2022-09-06T09:11:41.567Z"
   },
   {
    "duration": 12,
    "start_time": "2022-09-06T09:11:41.581Z"
   },
   {
    "duration": 23,
    "start_time": "2022-09-06T09:11:41.596Z"
   },
   {
    "duration": 21,
    "start_time": "2022-09-06T09:11:41.620Z"
   },
   {
    "duration": 24,
    "start_time": "2022-09-06T09:11:41.642Z"
   },
   {
    "duration": 24,
    "start_time": "2022-09-06T09:11:41.667Z"
   },
   {
    "duration": 17,
    "start_time": "2022-09-06T09:11:41.692Z"
   },
   {
    "duration": 28,
    "start_time": "2022-09-06T09:11:41.712Z"
   },
   {
    "duration": 3,
    "start_time": "2022-09-06T09:11:41.742Z"
   },
   {
    "duration": 17,
    "start_time": "2022-09-06T09:11:41.746Z"
   },
   {
    "duration": 26,
    "start_time": "2022-09-06T09:11:41.764Z"
   },
   {
    "duration": 133,
    "start_time": "2022-09-06T09:11:41.792Z"
   },
   {
    "duration": 13,
    "start_time": "2022-09-06T09:11:41.926Z"
   },
   {
    "duration": 22,
    "start_time": "2022-09-06T09:11:41.941Z"
   },
   {
    "duration": 6,
    "start_time": "2022-09-06T09:11:41.964Z"
   },
   {
    "duration": 28,
    "start_time": "2022-09-06T09:11:41.971Z"
   },
   {
    "duration": 23,
    "start_time": "2022-09-06T09:11:42.001Z"
   },
   {
    "duration": 1346,
    "start_time": "2022-09-06T09:11:42.026Z"
   },
   {
    "duration": 13,
    "start_time": "2022-09-06T09:11:43.374Z"
   },
   {
    "duration": 851,
    "start_time": "2022-09-06T09:11:43.399Z"
   },
   {
    "duration": 7,
    "start_time": "2022-09-06T09:11:44.253Z"
   },
   {
    "duration": 15,
    "start_time": "2022-09-06T09:11:44.261Z"
   },
   {
    "duration": 16,
    "start_time": "2022-09-06T09:11:44.277Z"
   },
   {
    "duration": 19,
    "start_time": "2022-09-06T09:11:44.297Z"
   },
   {
    "duration": 533,
    "start_time": "2022-09-06T09:11:44.318Z"
   },
   {
    "duration": 389,
    "start_time": "2022-09-06T09:11:44.853Z"
   },
   {
    "duration": 340,
    "start_time": "2022-09-06T09:11:45.244Z"
   },
   {
    "duration": 16,
    "start_time": "2022-09-06T09:11:45.586Z"
   },
   {
    "duration": 65,
    "start_time": "2022-09-06T09:11:45.604Z"
   },
   {
    "duration": 353,
    "start_time": "2022-09-06T09:11:45.671Z"
   },
   {
    "duration": 2,
    "start_time": "2022-09-06T09:11:46.026Z"
   },
   {
    "duration": 7,
    "start_time": "2022-09-06T09:11:46.030Z"
   },
   {
    "duration": 5,
    "start_time": "2022-09-06T09:11:46.038Z"
   },
   {
    "duration": 11,
    "start_time": "2022-09-06T09:11:46.044Z"
   },
   {
    "duration": 8,
    "start_time": "2022-09-06T09:11:46.056Z"
   },
   {
    "duration": 15,
    "start_time": "2022-09-06T09:11:46.066Z"
   },
   {
    "duration": 21,
    "start_time": "2022-09-06T09:11:46.082Z"
   },
   {
    "duration": 3,
    "start_time": "2022-09-06T09:11:47.784Z"
   },
   {
    "duration": 4,
    "start_time": "2022-09-06T09:11:59.622Z"
   },
   {
    "duration": 3,
    "start_time": "2022-09-06T09:12:30.197Z"
   },
   {
    "duration": 9,
    "start_time": "2022-09-06T09:12:38.819Z"
   },
   {
    "duration": 300,
    "start_time": "2022-09-06T09:13:20.850Z"
   },
   {
    "duration": 2909,
    "start_time": "2022-09-06T09:13:21.884Z"
   },
   {
    "duration": 6,
    "start_time": "2022-09-06T09:13:24.794Z"
   },
   {
    "duration": 406,
    "start_time": "2022-09-06T09:13:28.694Z"
   },
   {
    "duration": 8,
    "start_time": "2022-09-06T09:13:31.333Z"
   },
   {
    "duration": 44,
    "start_time": "2022-09-06T09:15:47.379Z"
   },
   {
    "duration": 8,
    "start_time": "2022-09-06T09:16:57.322Z"
   },
   {
    "duration": 8,
    "start_time": "2022-09-06T09:17:13.943Z"
   },
   {
    "duration": 9,
    "start_time": "2022-09-06T09:17:45.140Z"
   },
   {
    "duration": 9,
    "start_time": "2022-09-06T09:17:56.862Z"
   },
   {
    "duration": 11,
    "start_time": "2022-09-06T09:19:09.175Z"
   },
   {
    "duration": 9,
    "start_time": "2022-09-06T09:19:26.317Z"
   },
   {
    "duration": 10,
    "start_time": "2022-09-06T09:19:31.030Z"
   },
   {
    "duration": 53,
    "start_time": "2022-09-06T09:22:29.179Z"
   },
   {
    "duration": 1428,
    "start_time": "2022-09-08T16:54:58.761Z"
   },
   {
    "duration": 3,
    "start_time": "2022-09-08T16:55:00.190Z"
   },
   {
    "duration": 21,
    "start_time": "2022-09-08T16:55:00.194Z"
   },
   {
    "duration": 2919,
    "start_time": "2022-09-08T16:55:00.217Z"
   },
   {
    "duration": 7,
    "start_time": "2022-09-08T16:55:03.138Z"
   },
   {
    "duration": 44,
    "start_time": "2022-09-08T16:55:03.146Z"
   },
   {
    "duration": 6,
    "start_time": "2022-09-08T16:55:03.192Z"
   },
   {
    "duration": 10,
    "start_time": "2022-09-08T16:55:03.200Z"
   },
   {
    "duration": 12,
    "start_time": "2022-09-08T16:55:03.212Z"
   },
   {
    "duration": 4,
    "start_time": "2022-09-08T16:55:03.226Z"
   },
   {
    "duration": 9,
    "start_time": "2022-09-08T16:55:03.231Z"
   },
   {
    "duration": 10,
    "start_time": "2022-09-08T16:55:03.241Z"
   },
   {
    "duration": 7,
    "start_time": "2022-09-08T16:55:03.253Z"
   },
   {
    "duration": 10,
    "start_time": "2022-09-08T16:55:03.263Z"
   },
   {
    "duration": 41,
    "start_time": "2022-09-08T16:55:03.275Z"
   },
   {
    "duration": 5,
    "start_time": "2022-09-08T16:55:03.318Z"
   },
   {
    "duration": 7,
    "start_time": "2022-09-08T16:55:03.324Z"
   },
   {
    "duration": 24,
    "start_time": "2022-09-08T16:55:03.332Z"
   },
   {
    "duration": 121,
    "start_time": "2022-09-08T16:55:03.357Z"
   },
   {
    "duration": 12,
    "start_time": "2022-09-08T16:55:03.479Z"
   },
   {
    "duration": 21,
    "start_time": "2022-09-08T16:55:03.492Z"
   },
   {
    "duration": 6,
    "start_time": "2022-09-08T16:55:03.514Z"
   },
   {
    "duration": 15,
    "start_time": "2022-09-08T16:55:03.521Z"
   },
   {
    "duration": 20,
    "start_time": "2022-09-08T16:55:03.537Z"
   },
   {
    "duration": 1371,
    "start_time": "2022-09-08T16:55:03.558Z"
   },
   {
    "duration": 11,
    "start_time": "2022-09-08T16:55:04.931Z"
   },
   {
    "duration": 827,
    "start_time": "2022-09-08T16:55:04.943Z"
   },
   {
    "duration": 7,
    "start_time": "2022-09-08T16:55:05.772Z"
   },
   {
    "duration": 6,
    "start_time": "2022-09-08T16:55:05.781Z"
   },
   {
    "duration": 29,
    "start_time": "2022-09-08T16:55:05.789Z"
   },
   {
    "duration": 12,
    "start_time": "2022-09-08T16:55:05.819Z"
   },
   {
    "duration": 525,
    "start_time": "2022-09-08T16:55:05.832Z"
   },
   {
    "duration": 375,
    "start_time": "2022-09-08T16:55:06.359Z"
   },
   {
    "duration": 366,
    "start_time": "2022-09-08T16:55:06.735Z"
   },
   {
    "duration": 14,
    "start_time": "2022-09-08T16:55:07.102Z"
   },
   {
    "duration": 66,
    "start_time": "2022-09-08T16:55:07.118Z"
   },
   {
    "duration": 395,
    "start_time": "2022-09-08T16:55:07.185Z"
   },
   {
    "duration": 4,
    "start_time": "2022-09-08T16:55:07.582Z"
   },
   {
    "duration": 7,
    "start_time": "2022-09-08T16:55:07.587Z"
   },
   {
    "duration": 6,
    "start_time": "2022-09-08T16:55:07.595Z"
   },
   {
    "duration": 10,
    "start_time": "2022-09-08T16:55:07.610Z"
   },
   {
    "duration": 7,
    "start_time": "2022-09-08T16:55:07.622Z"
   },
   {
    "duration": 24,
    "start_time": "2022-09-08T16:55:07.631Z"
   },
   {
    "duration": 12,
    "start_time": "2022-09-08T16:55:07.657Z"
   },
   {
    "duration": 7,
    "start_time": "2022-09-08T16:55:07.671Z"
   },
   {
    "duration": 46,
    "start_time": "2022-09-08T16:55:27.140Z"
   },
   {
    "duration": 41,
    "start_time": "2022-09-08T16:55:35.947Z"
   },
   {
    "duration": 16594,
    "start_time": "2022-09-08T16:56:14.764Z"
   },
   {
    "duration": 117,
    "start_time": "2022-09-08T16:56:49.339Z"
   },
   {
    "duration": 2,
    "start_time": "2022-09-08T16:58:57.953Z"
   },
   {
    "duration": 47,
    "start_time": "2022-09-08T16:58:58.781Z"
   },
   {
    "duration": 9,
    "start_time": "2022-09-08T16:59:05.139Z"
   },
   {
    "duration": 3,
    "start_time": "2022-09-08T16:59:13.367Z"
   },
   {
    "duration": 3538,
    "start_time": "2022-09-08T16:59:18.599Z"
   },
   {
    "duration": 9,
    "start_time": "2022-09-08T16:59:58.581Z"
   },
   {
    "duration": 3,
    "start_time": "2022-09-08T17:00:33.195Z"
   },
   {
    "duration": 1140,
    "start_time": "2022-09-08T17:00:38.358Z"
   },
   {
    "duration": 2,
    "start_time": "2022-09-08T17:00:48.081Z"
   },
   {
    "duration": 831,
    "start_time": "2022-09-08T17:00:48.884Z"
   },
   {
    "duration": 3,
    "start_time": "2022-09-08T17:01:05.958Z"
   },
   {
    "duration": 3796,
    "start_time": "2022-09-08T17:01:06.658Z"
   },
   {
    "duration": 1331,
    "start_time": "2022-09-08T17:01:55.686Z"
   },
   {
    "duration": 2,
    "start_time": "2022-09-08T17:01:57.019Z"
   },
   {
    "duration": 17,
    "start_time": "2022-09-08T17:01:57.023Z"
   },
   {
    "duration": 640,
    "start_time": "2022-09-08T17:01:57.042Z"
   },
   {
    "duration": 7,
    "start_time": "2022-09-08T17:01:57.684Z"
   },
   {
    "duration": 48,
    "start_time": "2022-09-08T17:01:57.693Z"
   },
   {
    "duration": 6,
    "start_time": "2022-09-08T17:01:57.743Z"
   },
   {
    "duration": 8,
    "start_time": "2022-09-08T17:01:57.750Z"
   },
   {
    "duration": 9,
    "start_time": "2022-09-08T17:01:57.760Z"
   },
   {
    "duration": 4,
    "start_time": "2022-09-08T17:01:57.772Z"
   },
   {
    "duration": 10,
    "start_time": "2022-09-08T17:01:57.778Z"
   },
   {
    "duration": 5,
    "start_time": "2022-09-08T17:01:57.809Z"
   },
   {
    "duration": 9,
    "start_time": "2022-09-08T17:01:57.816Z"
   },
   {
    "duration": 31,
    "start_time": "2022-09-08T17:01:57.826Z"
   },
   {
    "duration": 18,
    "start_time": "2022-09-08T17:01:57.858Z"
   },
   {
    "duration": 7,
    "start_time": "2022-09-08T17:01:57.878Z"
   },
   {
    "duration": 18,
    "start_time": "2022-09-08T17:01:57.887Z"
   },
   {
    "duration": 40,
    "start_time": "2022-09-08T17:01:57.906Z"
   },
   {
    "duration": 139,
    "start_time": "2022-09-08T17:01:57.947Z"
   },
   {
    "duration": 11,
    "start_time": "2022-09-08T17:01:58.088Z"
   },
   {
    "duration": 35,
    "start_time": "2022-09-08T17:01:58.101Z"
   },
   {
    "duration": 23,
    "start_time": "2022-09-08T17:01:58.138Z"
   },
   {
    "duration": 22,
    "start_time": "2022-09-08T17:01:58.162Z"
   },
   {
    "duration": 32,
    "start_time": "2022-09-08T17:01:58.186Z"
   },
   {
    "duration": 1411,
    "start_time": "2022-09-08T17:01:58.219Z"
   },
   {
    "duration": 11,
    "start_time": "2022-09-08T17:01:59.631Z"
   },
   {
    "duration": 851,
    "start_time": "2022-09-08T17:01:59.644Z"
   },
   {
    "duration": 14,
    "start_time": "2022-09-08T17:02:00.500Z"
   },
   {
    "duration": 51,
    "start_time": "2022-09-08T17:02:00.516Z"
   },
   {
    "duration": 39,
    "start_time": "2022-09-08T17:02:00.569Z"
   },
   {
    "duration": 54,
    "start_time": "2022-09-08T17:02:00.609Z"
   },
   {
    "duration": 546,
    "start_time": "2022-09-08T17:02:00.665Z"
   },
   {
    "duration": 389,
    "start_time": "2022-09-08T17:02:01.214Z"
   },
   {
    "duration": 343,
    "start_time": "2022-09-08T17:02:01.605Z"
   },
   {
    "duration": 8,
    "start_time": "2022-09-08T17:02:01.950Z"
   },
   {
    "duration": 76,
    "start_time": "2022-09-08T17:02:01.960Z"
   },
   {
    "duration": 347,
    "start_time": "2022-09-08T17:02:02.037Z"
   },
   {
    "duration": 3,
    "start_time": "2022-09-08T17:02:02.386Z"
   },
   {
    "duration": 21,
    "start_time": "2022-09-08T17:02:02.390Z"
   },
   {
    "duration": 29,
    "start_time": "2022-09-08T17:02:02.412Z"
   },
   {
    "duration": 22,
    "start_time": "2022-09-08T17:02:02.443Z"
   },
   {
    "duration": 16,
    "start_time": "2022-09-08T17:02:02.466Z"
   },
   {
    "duration": 28,
    "start_time": "2022-09-08T17:02:02.484Z"
   },
   {
    "duration": 105,
    "start_time": "2022-09-08T17:02:02.513Z"
   },
   {
    "duration": 57,
    "start_time": "2022-09-08T17:02:02.620Z"
   },
   {
    "duration": 56,
    "start_time": "2022-09-08T17:02:02.679Z"
   },
   {
    "duration": 3,
    "start_time": "2022-09-08T17:02:02.737Z"
   },
   {
    "duration": 3673,
    "start_time": "2022-09-08T17:02:02.742Z"
   },
   {
    "duration": 3,
    "start_time": "2022-09-08T17:35:44.878Z"
   },
   {
    "duration": 16174,
    "start_time": "2022-09-08T17:35:45.497Z"
   },
   {
    "duration": 14,
    "start_time": "2022-09-19T15:24:24.000Z"
   }
  ],
  "kernelspec": {
   "display_name": "Python 3 (ipykernel)",
   "language": "python",
   "name": "python3"
  },
  "language_info": {
   "codemirror_mode": {
    "name": "ipython",
    "version": 3
   },
   "file_extension": ".py",
   "mimetype": "text/x-python",
   "name": "python",
   "nbconvert_exporter": "python",
   "pygments_lexer": "ipython3",
   "version": "3.9.13"
  },
  "toc": {
   "base_numbering": 1,
   "nav_menu": {},
   "number_sections": true,
   "sideBar": true,
   "skip_h1_title": true,
   "title_cell": "Содержание",
   "title_sidebar": "Contents",
   "toc_cell": true,
   "toc_position": {
    "height": "calc(100% - 180px)",
    "left": "10px",
    "top": "150px",
    "width": "238px"
   },
   "toc_section_display": true,
   "toc_window_display": true
  }
 },
 "nbformat": 4,
 "nbformat_minor": 2
}
