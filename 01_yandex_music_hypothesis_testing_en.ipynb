{
 "cells": [
  {
   "cell_type": "markdown",
   "metadata": {
    "id": "E0vqbgi9ay0H"
   },
   "source": [
    "# Yandex.Music"
   ]
  },
  {
   "cell_type": "markdown",
   "metadata": {
    "id": "VUC88oWjTJw2"
   },
   "source": [
    "Comparison of Moscow and St. Petersburg is surrounded by myths. For example:\n",
    "* Moscow is a metropolis subject to the rigid rhythm of the working week;\n",
    "* St. Petersburg is a cultural capital, with its own tastes.\n",
    "\n",
    "Using Yandex.Music data, you will compare the behavior of users in the two capitals.\n",
    "\n",
    "**Research Purpose** - Test three hypotheses:\n",
    "1. User activity depends on the day of the week. Moreover, in Moscow and St. Petersburg this manifests itself in different ways.\n",
    "2. On Monday morning, certain genres prevail in Moscow, while others prevail in St. Petersburg. Similarly, Friday evenings are dominated by different genres, depending on the city.\n",
    "3. Moscow and St. Petersburg prefer different genres of music. In Moscow, they listen to pop music more often, in St. Petersburg - Russian rap.\n",
    "\n",
    "**Research Progress**\n",
    "\n",
    "You will receive data on user behavior from the `yandex_music_project.csv` file. Nothing is known about the quality of the data. Therefore, before testing hypotheses, a review of the data is required.\n",
    "\n",
    "You will check the data for errors and assess their impact on the study. Then, during the pre-processing phase, you will look for opportunities to correct the most critical data errors.\n",
    "\n",
    "Thus, the study will take place in three stages:\n",
    "1. Data review.\n",
    "2. Data preprocessing.\n",
    "3. Hypothesis testing.\n",
    "\n"
   ]
  },
  {
   "cell_type": "markdown",
   "metadata": {
    "id": "Ml1hmfXC_Zcs"
   },
   "source": [
    "## Browse data\n",
    "\n",
    "Get the first idea about Yandex.Music data.\n",
    "\n",
    "\n"
   ]
  },
  {
   "cell_type": "markdown",
   "metadata": {
    "id": "57eAOGIz_Zcs"
   },
   "source": [
    "The main analytics tool is `pandas`. Import this library."
   ]
  },
  {
   "cell_type": "code",
   "execution_count": 1,
   "metadata": {
    "id": "AXN7PHPN_Zcs"
   },
   "outputs": [],
   "source": [
    "import pandas as pd "
   ]
  },
  {
   "cell_type": "markdown",
   "metadata": {
    "id": "SG23P8tt_Zcs"
   },
   "source": [
    "Read the `yandex_music_project.csv` file from the `/datasets` folder and save it in the `df` variable:"
   ]
  },
  {
   "cell_type": "code",
   "execution_count": 2,
   "metadata": {
    "id": "fFVu7vqh_Zct"
   },
   "outputs": [],
   "source": [
    "df = pd.read_csv('/datasets/yandex_music_project.csv') "
   ]
  },
  {
   "cell_type": "markdown",
   "metadata": {
    "id": "rDoOMd3uTqnZ"
   },
   "source": [
    "Display the first ten rows of the table:"
   ]
  },
  {
   "cell_type": "code",
   "execution_count": 3,
   "metadata": {
    "id": "oWTVX3gW_Zct"
   },
   "outputs": [
    {
     "data": {
      "text/html": [
       "<div>\n",
       "<style scoped>\n",
       "    .dataframe tbody tr th:only-of-type {\n",
       "        vertical-align: middle;\n",
       "    }\n",
       "\n",
       "    .dataframe tbody tr th {\n",
       "        vertical-align: top;\n",
       "    }\n",
       "\n",
       "    .dataframe thead th {\n",
       "        text-align: right;\n",
       "    }\n",
       "</style>\n",
       "<table border=\"1\" class=\"dataframe\">\n",
       "  <thead>\n",
       "    <tr style=\"text-align: right;\">\n",
       "      <th></th>\n",
       "      <th>userID</th>\n",
       "      <th>Track</th>\n",
       "      <th>artist</th>\n",
       "      <th>genre</th>\n",
       "      <th>City</th>\n",
       "      <th>time</th>\n",
       "      <th>Day</th>\n",
       "    </tr>\n",
       "  </thead>\n",
       "  <tbody>\n",
       "    <tr>\n",
       "      <th>0</th>\n",
       "      <td>FFB692EC</td>\n",
       "      <td>Kamigata To Boots</td>\n",
       "      <td>The Mass Missile</td>\n",
       "      <td>rock</td>\n",
       "      <td>Saint-Petersburg</td>\n",
       "      <td>20:28:33</td>\n",
       "      <td>Wednesday</td>\n",
       "    </tr>\n",
       "    <tr>\n",
       "      <th>1</th>\n",
       "      <td>55204538</td>\n",
       "      <td>Delayed Because of Accident</td>\n",
       "      <td>Andreas Rönnberg</td>\n",
       "      <td>rock</td>\n",
       "      <td>Moscow</td>\n",
       "      <td>14:07:09</td>\n",
       "      <td>Friday</td>\n",
       "    </tr>\n",
       "    <tr>\n",
       "      <th>2</th>\n",
       "      <td>20EC38</td>\n",
       "      <td>Funiculì funiculà</td>\n",
       "      <td>Mario Lanza</td>\n",
       "      <td>pop</td>\n",
       "      <td>Saint-Petersburg</td>\n",
       "      <td>20:58:07</td>\n",
       "      <td>Wednesday</td>\n",
       "    </tr>\n",
       "    <tr>\n",
       "      <th>3</th>\n",
       "      <td>A3DD03C9</td>\n",
       "      <td>Dragons in the Sunset</td>\n",
       "      <td>Fire + Ice</td>\n",
       "      <td>folk</td>\n",
       "      <td>Saint-Petersburg</td>\n",
       "      <td>08:37:09</td>\n",
       "      <td>Monday</td>\n",
       "    </tr>\n",
       "    <tr>\n",
       "      <th>4</th>\n",
       "      <td>E2DC1FAE</td>\n",
       "      <td>Soul People</td>\n",
       "      <td>Space Echo</td>\n",
       "      <td>dance</td>\n",
       "      <td>Moscow</td>\n",
       "      <td>08:34:34</td>\n",
       "      <td>Monday</td>\n",
       "    </tr>\n",
       "    <tr>\n",
       "      <th>5</th>\n",
       "      <td>842029A1</td>\n",
       "      <td>Преданная</td>\n",
       "      <td>IMPERVTOR</td>\n",
       "      <td>rusrap</td>\n",
       "      <td>Saint-Petersburg</td>\n",
       "      <td>13:09:41</td>\n",
       "      <td>Friday</td>\n",
       "    </tr>\n",
       "    <tr>\n",
       "      <th>6</th>\n",
       "      <td>4CB90AA5</td>\n",
       "      <td>True</td>\n",
       "      <td>Roman Messer</td>\n",
       "      <td>dance</td>\n",
       "      <td>Moscow</td>\n",
       "      <td>13:00:07</td>\n",
       "      <td>Wednesday</td>\n",
       "    </tr>\n",
       "    <tr>\n",
       "      <th>7</th>\n",
       "      <td>F03E1C1F</td>\n",
       "      <td>Feeling This Way</td>\n",
       "      <td>Polina Griffith</td>\n",
       "      <td>dance</td>\n",
       "      <td>Moscow</td>\n",
       "      <td>20:47:49</td>\n",
       "      <td>Wednesday</td>\n",
       "    </tr>\n",
       "    <tr>\n",
       "      <th>8</th>\n",
       "      <td>8FA1D3BE</td>\n",
       "      <td>И вновь продолжается бой</td>\n",
       "      <td>NaN</td>\n",
       "      <td>ruspop</td>\n",
       "      <td>Moscow</td>\n",
       "      <td>09:17:40</td>\n",
       "      <td>Friday</td>\n",
       "    </tr>\n",
       "    <tr>\n",
       "      <th>9</th>\n",
       "      <td>E772D5C0</td>\n",
       "      <td>Pessimist</td>\n",
       "      <td>NaN</td>\n",
       "      <td>dance</td>\n",
       "      <td>Saint-Petersburg</td>\n",
       "      <td>21:20:49</td>\n",
       "      <td>Wednesday</td>\n",
       "    </tr>\n",
       "  </tbody>\n",
       "</table>\n",
       "</div>"
      ],
      "text/plain": [
       "     userID                        Track            artist   genre  \\\n",
       "0  FFB692EC            Kamigata To Boots  The Mass Missile    rock   \n",
       "1  55204538  Delayed Because of Accident  Andreas Rönnberg    rock   \n",
       "2    20EC38            Funiculì funiculà       Mario Lanza     pop   \n",
       "3  A3DD03C9        Dragons in the Sunset        Fire + Ice    folk   \n",
       "4  E2DC1FAE                  Soul People        Space Echo   dance   \n",
       "5  842029A1                    Преданная         IMPERVTOR  rusrap   \n",
       "6  4CB90AA5                         True      Roman Messer   dance   \n",
       "7  F03E1C1F             Feeling This Way   Polina Griffith   dance   \n",
       "8  8FA1D3BE     И вновь продолжается бой               NaN  ruspop   \n",
       "9  E772D5C0                    Pessimist               NaN   dance   \n",
       "\n",
       "             City        time        Day  \n",
       "0  Saint-Petersburg  20:28:33  Wednesday  \n",
       "1            Moscow  14:07:09     Friday  \n",
       "2  Saint-Petersburg  20:58:07  Wednesday  \n",
       "3  Saint-Petersburg  08:37:09     Monday  \n",
       "4            Moscow  08:34:34     Monday  \n",
       "5  Saint-Petersburg  13:09:41     Friday  \n",
       "6            Moscow  13:00:07  Wednesday  \n",
       "7            Moscow  20:47:49  Wednesday  \n",
       "8            Moscow  09:17:40     Friday  \n",
       "9  Saint-Petersburg  21:20:49  Wednesday  "
      ]
     },
     "execution_count": 3,
     "metadata": {},
     "output_type": "execute_result"
    }
   ],
   "source": [
    "df.head(10)"
   ]
  },
  {
   "cell_type": "markdown",
   "metadata": {
    "id": "EO73Kwic_Zct"
   },
   "source": [
    "One command to get general information about the table:"
   ]
  },
  {
   "cell_type": "code",
   "execution_count": 4,
   "metadata": {
    "id": "DSf2kIb-_Zct"
   },
   "outputs": [
    {
     "name": "stdout",
     "output_type": "stream",
     "text": [
      "<class 'pandas.core.frame.DataFrame'>\n",
      "RangeIndex: 65079 entries, 0 to 65078\n",
      "Data columns (total 7 columns):\n",
      " #   Column    Non-Null Count  Dtype \n",
      "---  ------    --------------  ----- \n",
      " 0     userID  65079 non-null  object\n",
      " 1   Track     63848 non-null  object\n",
      " 2   artist    57876 non-null  object\n",
      " 3   genre     63881 non-null  object\n",
      " 4     City    65079 non-null  object\n",
      " 5   time      65079 non-null  object\n",
      " 6   Day       65079 non-null  object\n",
      "dtypes: object(7)\n",
      "memory usage: 3.5+ MB\n"
     ]
    }
   ],
   "source": [
    "df.info() "
   ]
  },
  {
   "cell_type": "markdown",
   "metadata": {
    "id": "TaQ2Iwbr_Zct"
   },
   "source": [
    "So the table has seven columns. The data type in all columns is `object`.\n",
    "\n",
    "According to the data documentation:\n",
    "* `userID` - user ID;\n",
    "* `Track` — track name;\n",
    "* `artist` — artist name;\n",
    "* `genre` — genre name;\n",
    "* `City` - user's city;\n",
    "* `time` - start time of listening;\n",
    "* `Day` is the day of the week.\n",
    "\n",
    "There are three style violations in the column headings:\n",
    "1. Lowercase letters are combined with uppercase.\n",
    "2. There are gaps.\n",
    "3. Not using `_` in user ID\n",
    "\n",
    "\n",
    "\n",
    "The number of values ​​in the columns varies. This means there are missing values ​​in the data.\n"
   ]
  },
  {
   "cell_type": "markdown",
   "metadata": {
    "id": "MCB6-dXG_Zct"
   },
   "source": [
    "**Conclusions**\n",
    "\n",
    "Each line of the table contains data about the track you have listened to. Some of the columns describe the composition itself: title, artist and genre. The rest of the data tells about the user: what city he is from, when he listened to music.\n",
    "\n",
    "Preliminarily, it can be argued that there is enough data to test hypotheses. But there are gaps in the data, and discrepancies in the names of the columns with good style.\n",
    "\n",
    "To move forward, you need to fix problems in the data."
   ]
  },
  {
   "cell_type": "markdown",
   "metadata": {
    "id": "SjYF6Ub9_Zct"
   },
   "source": [
    "## Data preprocessing\n",
    "Correct the style in the column headings, eliminate gaps. Then check the data for duplicates."
   ]
  },
  {
   "cell_type": "markdown",
   "metadata": {
    "id": "dIaKXr29_Zct"
   },
   "source": [
    "### Heading style\n",
    "Display the column names:"
   ]
  },
  {
   "cell_type": "code",
   "execution_count": 5,
   "metadata": {
    "id": "oKOTdF_Q_Zct"
   },
   "outputs": [
    {
     "data": {
      "text/plain": [
       "Index(['  userID', 'Track', 'artist', 'genre', '  City  ', 'time', 'Day'], dtype='object')"
      ]
     },
     "execution_count": 5,
     "metadata": {},
     "output_type": "execute_result"
    }
   ],
   "source": [
    "df.columns "
   ]
  },
  {
   "cell_type": "markdown",
   "metadata": {
    "id": "zj5534cv_Zct"
   },
   "source": [
    "Bring titles in line with good style:\n",
    "* write a few words in the title in \"snake_register\",\n",
    "* make all characters lowercase,\n",
    "* eliminate spaces.\n",
    "\n",
    "To do this, rename the columns like this:\n",
    "* `'  userID'` → `'user_id'`;\n",
    "* `'Track'` → `'track'`;\n",
    "* `'  City  '` → `'city'`;\n",
    "* `'Day'` → `'day'`."
   ]
  },
  {
   "cell_type": "code",
   "execution_count": 6,
   "metadata": {
    "id": "ISlFqs5y_Zct"
   },
   "outputs": [],
   "source": [
    "df = df.rename(columns={'  userID':'user_id','Track':'track','  City  ':'city','Day':'day'})"
   ]
  },
  {
   "cell_type": "markdown",
   "metadata": {
    "id": "1dqbh00J_Zct"
   },
   "source": [
    "Check the result. To do this, display the column names again:"
   ]
  },
  {
   "cell_type": "code",
   "execution_count": 7,
   "metadata": {
    "id": "d4NOAmTW_Zct"
   },
   "outputs": [
    {
     "data": {
      "text/plain": [
       "Index(['user_id', 'track', 'artist', 'genre', 'city', 'time', 'day'], dtype='object')"
      ]
     },
     "execution_count": 7,
     "metadata": {},
     "output_type": "execute_result"
    }
   ],
   "source": [
    " df.columns "
   ]
  },
  {
   "cell_type": "markdown",
   "metadata": {
    "id": "5ISfbcfY_Zct"
   },
   "source": [
    "### Missing values\n",
    "First, count how many missing values ​​are in the table. Two `pandas` methods are sufficient for this:"
   ]
  },
  {
   "cell_type": "code",
   "execution_count": 8,
   "metadata": {
    "id": "RskX29qr_Zct"
   },
   "outputs": [
    {
     "data": {
      "text/plain": [
       "user_id       0\n",
       "track      1231\n",
       "artist     7203\n",
       "genre      1198\n",
       "city          0\n",
       "time          0\n",
       "day           0\n",
       "dtype: int64"
      ]
     },
     "execution_count": 8,
     "metadata": {},
     "output_type": "execute_result"
    }
   ],
   "source": [
    "df.isna().sum() "
   ]
  },
  {
   "cell_type": "markdown",
   "metadata": {
    "id": "qubhgnlO_Zct"
   },
   "source": [
    "Not all missing values ​​affect the study. So in `track` and `artist` the gaps are not important for your work. It suffices to replace them with explicit notation.\n",
    "\n",
    "But omissions in `genre` can interfere with the comparison of musical tastes in Moscow and St. Petersburg. In practice, it would be correct to determine the cause of the gaps and restore the data. This option is not available in the curriculum. Have to:\n",
    "* fill in these gaps with explicit notation,\n",
    "* estimate how much they will damage the calculations."
   ]
  },
  {
   "cell_type": "markdown",
   "metadata": {
    "id": "fSv2laPA_Zct"
   },
   "source": [
    "Replace the missing values ​​in the `track`, `artist` and `genre` columns with the string `'unknown'`. To do this, create a `columns_to_replace` list, iterate through its elements with a `for` loop, and for each column, replace the missing values:"
   ]
  },
  {
   "cell_type": "code",
   "execution_count": 9,
   "metadata": {
    "id": "KplB5qWs_Zct"
   },
   "outputs": [],
   "source": [
    "columns_to_replace = ['track','artist','genre'] \n",
    "for column in columns_to_replace:\n",
    "    df[columns_to_replace] = df[columns_to_replace].fillna('unknown')"
   ]
  },
  {
   "cell_type": "markdown",
   "metadata": {
    "id": "Ilsm-MZo_Zct"
   },
   "source": [
    "Make sure there are no gaps in the table. To do this, count the missing values ​​again."
   ]
  },
  {
   "cell_type": "code",
   "execution_count": 10,
   "metadata": {
    "id": "Tq4nYRX4_Zct"
   },
   "outputs": [
    {
     "data": {
      "text/plain": [
       "user_id    0\n",
       "track      0\n",
       "artist     0\n",
       "genre      0\n",
       "city       0\n",
       "time       0\n",
       "day        0\n",
       "dtype: int64"
      ]
     },
     "execution_count": 10,
     "metadata": {},
     "output_type": "execute_result"
    }
   ],
   "source": [
    "df.isna().sum() "
   ]
  },
  {
   "cell_type": "markdown",
   "metadata": {
    "id": "BWKRtBJ3_Zct"
   },
   "source": [
    "### Duplicates\n",
    "Count explicit duplicates in a table with one command:"
   ]
  },
  {
   "cell_type": "code",
   "execution_count": 11,
   "metadata": {
    "id": "36eES_S0_Zct"
   },
   "outputs": [
    {
     "data": {
      "text/plain": [
       "3826"
      ]
     },
     "execution_count": 11,
     "metadata": {},
     "output_type": "execute_result"
    }
   ],
   "source": [
    "df.duplicated().sum()"
   ]
  },
  {
   "cell_type": "markdown",
   "metadata": {
    "id": "Ot25h6XR_Zct"
   },
   "source": [
    "Call the special `pandas` method to remove obvious duplicates:"
   ]
  },
  {
   "cell_type": "code",
   "execution_count": 12,
   "metadata": {
    "id": "exFHq6tt_Zct"
   },
   "outputs": [],
   "source": [
    "df = df.drop_duplicates().reset_index(drop=True)"
   ]
  },
  {
   "cell_type": "markdown",
   "metadata": {
    "id": "Im2YwBEG_Zct"
   },
   "source": [
    "Once again, count the obvious duplicates in the table - make sure you get rid of them completely:"
   ]
  },
  {
   "cell_type": "code",
   "execution_count": 13,
   "metadata": {
    "id": "-8PuNWQ0_Zct"
   },
   "outputs": [
    {
     "data": {
      "text/plain": [
       "0"
      ]
     },
     "execution_count": 13,
     "metadata": {},
     "output_type": "execute_result"
    }
   ],
   "source": [
    "df.duplicated().sum()"
   ]
  },
  {
   "cell_type": "markdown",
   "metadata": {
    "id": "QlFBsxAr_Zct"
   },
   "source": [
    "Now get rid of the implicit duplicates in the `genre` column. For example, the name of the same genre can be spelled slightly differently. Such errors will also affect the result of the study."
   ]
  },
  {
   "cell_type": "markdown",
   "metadata": {
    "id": "eSjWwsOh_Zct"
   },
   "source": [
    "Display a list of unique genre names sorted alphabetically. For this:\n",
    "* extract the desired dataframe column,\n",
    "* apply a sort method to it,\n",
    "* for a sorted column, call a method that will return the unique values ​​from the column."
   ]
  },
  {
   "cell_type": "code",
   "execution_count": 14,
   "metadata": {
    "id": "JIUcqzZN_Zct"
   },
   "outputs": [
    {
     "data": {
      "text/plain": [
       "array(['acid', 'acoustic', 'action', 'adult', 'africa', 'afrikaans',\n",
       "       'alternative', 'alternativepunk', 'ambient', 'americana',\n",
       "       'animated', 'anime', 'arabesk', 'arabic', 'arena',\n",
       "       'argentinetango', 'art', 'audiobook', 'author', 'avantgarde',\n",
       "       'axé', 'baile', 'balkan', 'beats', 'bigroom', 'black', 'bluegrass',\n",
       "       'blues', 'bollywood', 'bossa', 'brazilian', 'breakbeat', 'breaks',\n",
       "       'broadway', 'cantautori', 'cantopop', 'canzone', 'caribbean',\n",
       "       'caucasian', 'celtic', 'chamber', 'chanson', 'children', 'chill',\n",
       "       'chinese', 'choral', 'christian', 'christmas', 'classical',\n",
       "       'classicmetal', 'club', 'colombian', 'comedy', 'conjazz',\n",
       "       'contemporary', 'country', 'cuban', 'dance', 'dancehall',\n",
       "       'dancepop', 'dark', 'death', 'deep', 'deutschrock', 'deutschspr',\n",
       "       'dirty', 'disco', 'dnb', 'documentary', 'downbeat', 'downtempo',\n",
       "       'drum', 'dub', 'dubstep', 'eastern', 'easy', 'electronic',\n",
       "       'electropop', 'emo', 'entehno', 'epicmetal', 'estrada', 'ethnic',\n",
       "       'eurofolk', 'european', 'experimental', 'extrememetal', 'fado',\n",
       "       'fairytail', 'film', 'fitness', 'flamenco', 'folk', 'folklore',\n",
       "       'folkmetal', 'folkrock', 'folktronica', 'forró', 'frankreich',\n",
       "       'französisch', 'french', 'funk', 'future', 'gangsta', 'garage',\n",
       "       'german', 'ghazal', 'gitarre', 'glitch', 'gospel', 'gothic',\n",
       "       'grime', 'grunge', 'gypsy', 'handsup', \"hard'n'heavy\", 'hardcore',\n",
       "       'hardstyle', 'hardtechno', 'hip', 'hip-hop', 'hiphop',\n",
       "       'historisch', 'holiday', 'hop', 'horror', 'house', 'hymn', 'idm',\n",
       "       'independent', 'indian', 'indie', 'indipop', 'industrial',\n",
       "       'inspirational', 'instrumental', 'international', 'irish', 'jam',\n",
       "       'japanese', 'jazz', 'jewish', 'jpop', 'jungle', 'k-pop',\n",
       "       'karadeniz', 'karaoke', 'kayokyoku', 'korean', 'laiko', 'latin',\n",
       "       'latino', 'leftfield', 'local', 'lounge', 'loungeelectronic',\n",
       "       'lovers', 'malaysian', 'mandopop', 'marschmusik', 'meditative',\n",
       "       'mediterranean', 'melodic', 'metal', 'metalcore', 'mexican',\n",
       "       'middle', 'minimal', 'miscellaneous', 'modern', 'mood', 'mpb',\n",
       "       'muslim', 'native', 'neoklassik', 'neue', 'new', 'newage',\n",
       "       'newwave', 'nu', 'nujazz', 'numetal', 'oceania', 'old', 'opera',\n",
       "       'orchestral', 'other', 'piano', 'podcasts', 'pop', 'popdance',\n",
       "       'popelectronic', 'popeurodance', 'poprussian', 'post',\n",
       "       'posthardcore', 'postrock', 'power', 'progmetal', 'progressive',\n",
       "       'psychedelic', 'punjabi', 'punk', 'quebecois', 'ragga', 'ram',\n",
       "       'rancheras', 'rap', 'rave', 'reggae', 'reggaeton', 'regional',\n",
       "       'relax', 'religious', 'retro', 'rhythm', 'rnb', 'rnr', 'rock',\n",
       "       'rockabilly', 'rockalternative', 'rockindie', 'rockother',\n",
       "       'romance', 'roots', 'ruspop', 'rusrap', 'rusrock', 'russian',\n",
       "       'salsa', 'samba', 'scenic', 'schlager', 'self', 'sertanejo',\n",
       "       'shanson', 'shoegazing', 'showtunes', 'singer', 'ska', 'skarock',\n",
       "       'slow', 'smooth', 'soft', 'soul', 'soulful', 'sound', 'soundtrack',\n",
       "       'southern', 'specialty', 'speech', 'spiritual', 'sport',\n",
       "       'stonerrock', 'surf', 'swing', 'synthpop', 'synthrock',\n",
       "       'sängerportrait', 'tango', 'tanzorchester', 'taraftar', 'tatar',\n",
       "       'tech', 'techno', 'teen', 'thrash', 'top', 'traditional',\n",
       "       'tradjazz', 'trance', 'tribal', 'trip', 'triphop', 'tropical',\n",
       "       'türk', 'türkçe', 'ukrrock', 'unknown', 'urban', 'uzbek',\n",
       "       'variété', 'vi', 'videogame', 'vocal', 'western', 'world',\n",
       "       'worldbeat', 'ïîï', 'электроника'], dtype=object)"
      ]
     },
     "metadata": {},
     "output_type": "display_data"
    }
   ],
   "source": [
    "display(df['genre'].sort_values().unique())"
   ]
  },
  {
   "cell_type": "markdown",
   "metadata": {
    "id": "qej-Qmuo_Zct"
   },
   "source": [
    "Look through the list and look for implicit duplicates of the name `hiphop`. These may be misspelled titles or alternative titles in the same genre.\n",
    "\n",
    "You will see the following implicit duplicates:\n",
    "* *hip*,\n",
    "* *hop*,\n",
    "* *hip-hop*.\n",
    "\n",
    "To clear the table of them, write the `replace_wrong_genres()` function with two parameters:\n",
    "* `wrong_genres` - list of duplicates,\n",
    "* `correct_genre` is a string with the correct value.\n",
    "\n",
    "The function should correct the `genre` column in the `df` table: replace each value from the `wrong_genres` list with a value from `correct_genre`."
   ]
  },
  {
   "cell_type": "code",
   "execution_count": 15,
   "metadata": {
    "id": "ErNDkmns_Zct"
   },
   "outputs": [],
   "source": [
    "def replace_wrong_genres(wrong_genres,correct_genre):\n",
    "    df['genre'] = df['genre'].replace(wrong_genres,correct_genre)"
   ]
  },
  {
   "cell_type": "markdown",
   "metadata": {
    "id": "aDoBJxbA_Zct"
   },
   "source": [
    "Call `replace_wrong_genres()` and pass it arguments such that it eliminates implicit duplicates: instead of `hip`, `hop` and `hip-hop` the table should have the value `hiphop`:"
   ]
  },
  {
   "cell_type": "code",
   "execution_count": 16,
   "metadata": {
    "id": "YN5i2hpmSo09"
   },
   "outputs": [],
   "source": [
    "implicit_duplicates = ['hip','hop','hip-hop']\n",
    "replace_wrong_genres(implicit_duplicates,'hiphop')"
   ]
  },
  {
   "cell_type": "markdown",
   "metadata": {
    "id": "zQKF16_RG15m"
   },
   "source": [
    "Check that you have replaced the wrong names:\n",
    "\n",
    "*   hip\n",
    "*   hop\n",
    "*   hip-hop\n",
    "\n",
    "Print a sorted list of unique values ​​in the `genre` column:"
   ]
  },
  {
   "cell_type": "code",
   "execution_count": 17,
   "metadata": {
    "id": "wvixALnFG15m"
   },
   "outputs": [
    {
     "data": {
      "text/plain": [
       "array(['acid', 'acoustic', 'action', 'adult', 'africa', 'afrikaans',\n",
       "       'alternative', 'alternativepunk', 'ambient', 'americana',\n",
       "       'animated', 'anime', 'arabesk', 'arabic', 'arena',\n",
       "       'argentinetango', 'art', 'audiobook', 'author', 'avantgarde',\n",
       "       'axé', 'baile', 'balkan', 'beats', 'bigroom', 'black', 'bluegrass',\n",
       "       'blues', 'bollywood', 'bossa', 'brazilian', 'breakbeat', 'breaks',\n",
       "       'broadway', 'cantautori', 'cantopop', 'canzone', 'caribbean',\n",
       "       'caucasian', 'celtic', 'chamber', 'chanson', 'children', 'chill',\n",
       "       'chinese', 'choral', 'christian', 'christmas', 'classical',\n",
       "       'classicmetal', 'club', 'colombian', 'comedy', 'conjazz',\n",
       "       'contemporary', 'country', 'cuban', 'dance', 'dancehall',\n",
       "       'dancepop', 'dark', 'death', 'deep', 'deutschrock', 'deutschspr',\n",
       "       'dirty', 'disco', 'dnb', 'documentary', 'downbeat', 'downtempo',\n",
       "       'drum', 'dub', 'dubstep', 'eastern', 'easy', 'electronic',\n",
       "       'electropop', 'emo', 'entehno', 'epicmetal', 'estrada', 'ethnic',\n",
       "       'eurofolk', 'european', 'experimental', 'extrememetal', 'fado',\n",
       "       'fairytail', 'film', 'fitness', 'flamenco', 'folk', 'folklore',\n",
       "       'folkmetal', 'folkrock', 'folktronica', 'forró', 'frankreich',\n",
       "       'französisch', 'french', 'funk', 'future', 'gangsta', 'garage',\n",
       "       'german', 'ghazal', 'gitarre', 'glitch', 'gospel', 'gothic',\n",
       "       'grime', 'grunge', 'gypsy', 'handsup', \"hard'n'heavy\", 'hardcore',\n",
       "       'hardstyle', 'hardtechno', 'hiphop', 'historisch', 'holiday',\n",
       "       'horror', 'house', 'hymn', 'idm', 'independent', 'indian', 'indie',\n",
       "       'indipop', 'industrial', 'inspirational', 'instrumental',\n",
       "       'international', 'irish', 'jam', 'japanese', 'jazz', 'jewish',\n",
       "       'jpop', 'jungle', 'k-pop', 'karadeniz', 'karaoke', 'kayokyoku',\n",
       "       'korean', 'laiko', 'latin', 'latino', 'leftfield', 'local',\n",
       "       'lounge', 'loungeelectronic', 'lovers', 'malaysian', 'mandopop',\n",
       "       'marschmusik', 'meditative', 'mediterranean', 'melodic', 'metal',\n",
       "       'metalcore', 'mexican', 'middle', 'minimal', 'miscellaneous',\n",
       "       'modern', 'mood', 'mpb', 'muslim', 'native', 'neoklassik', 'neue',\n",
       "       'new', 'newage', 'newwave', 'nu', 'nujazz', 'numetal', 'oceania',\n",
       "       'old', 'opera', 'orchestral', 'other', 'piano', 'podcasts', 'pop',\n",
       "       'popdance', 'popelectronic', 'popeurodance', 'poprussian', 'post',\n",
       "       'posthardcore', 'postrock', 'power', 'progmetal', 'progressive',\n",
       "       'psychedelic', 'punjabi', 'punk', 'quebecois', 'ragga', 'ram',\n",
       "       'rancheras', 'rap', 'rave', 'reggae', 'reggaeton', 'regional',\n",
       "       'relax', 'religious', 'retro', 'rhythm', 'rnb', 'rnr', 'rock',\n",
       "       'rockabilly', 'rockalternative', 'rockindie', 'rockother',\n",
       "       'romance', 'roots', 'ruspop', 'rusrap', 'rusrock', 'russian',\n",
       "       'salsa', 'samba', 'scenic', 'schlager', 'self', 'sertanejo',\n",
       "       'shanson', 'shoegazing', 'showtunes', 'singer', 'ska', 'skarock',\n",
       "       'slow', 'smooth', 'soft', 'soul', 'soulful', 'sound', 'soundtrack',\n",
       "       'southern', 'specialty', 'speech', 'spiritual', 'sport',\n",
       "       'stonerrock', 'surf', 'swing', 'synthpop', 'synthrock',\n",
       "       'sängerportrait', 'tango', 'tanzorchester', 'taraftar', 'tatar',\n",
       "       'tech', 'techno', 'teen', 'thrash', 'top', 'traditional',\n",
       "       'tradjazz', 'trance', 'tribal', 'trip', 'triphop', 'tropical',\n",
       "       'türk', 'türkçe', 'ukrrock', 'unknown', 'urban', 'uzbek',\n",
       "       'variété', 'vi', 'videogame', 'vocal', 'western', 'world',\n",
       "       'worldbeat', 'ïîï', 'электроника'], dtype=object)"
      ]
     },
     "metadata": {},
     "output_type": "display_data"
    }
   ],
   "source": [
    "display(df['genre'].sort_values().unique())"
   ]
  },
  {
   "cell_type": "markdown",
   "metadata": {
    "id": "jz6a9-7HQUDd"
   },
   "source": [
    "**Conclusions**\n",
    "\n",
    "Preprocessing found three problems in the data:\n",
    "\n",
    "- headline style violations,\n",
    "- missing values,\n",
    "- duplicates - explicit and implicit.\n",
    "\n",
    "You've fixed the headers to make the table easier to work with. Without duplicates, the study will become more accurate.\n",
    "\n",
    "You have replaced missing values ​​with `'unknown'`. It remains to be seen whether the gaps in the `genre` column will harm the study.\n",
    "\n",
    "Now we can move on to hypothesis testing."
   ]
  },
  {
   "cell_type": "markdown",
   "metadata": {
    "id": "WttZHXH0SqKk"
   },
   "source": [
    "## Hypothesis testing"
   ]
  },
  {
   "cell_type": "markdown",
   "metadata": {
    "id": "Im936VVi_Zcu"
   },
   "source": [
    "### Comparison of user behavior of two capitals"
   ]
  },
  {
   "cell_type": "markdown",
   "metadata": {
    "id": "nwt_MuaL_Zcu"
   },
   "source": [
    "The first hypothesis states that users listen to music differently in Moscow and St. Petersburg. Check this assumption against the data on the three days of the week - Monday, Wednesday and Friday. For this:\n",
    "\n",
    "* Separate Moscow and St. Petersburg users\n",
    "* Compare how many tracks each user group listened to on Monday, Wednesday and Friday.\n"
   ]
  },
  {
   "cell_type": "markdown",
   "metadata": {
    "id": "8Dw_YMmT_Zcu"
   },
   "source": [
    "For training, first perform each of the calculations separately.\n",
    "\n",
    "Estimate user activity in each city. Group the data by city and count the plays in each group.\n",
    "\n"
   ]
  },
  {
   "cell_type": "code",
   "execution_count": 18,
   "metadata": {
    "id": "0_Qs96oh_Zcu",
    "scrolled": true
   },
   "outputs": [
    {
     "name": "stdout",
     "output_type": "stream",
     "text": [
      "Прослушиваний в Москве:  42741\n",
      "Прослушиваний в Санкт-Петербурге:  18512\n"
     ]
    }
   ],
   "source": [
    "print('Прослушиваний в Москве: ',df[df['city'] == 'Moscow']['user_id'].count())\n",
    "print('Прослушиваний в Санкт-Петербурге: ', df[df['city'] == 'Saint-Petersburg']['user_id'].count())"
   ]
  },
  {
   "cell_type": "code",
   "execution_count": 19,
   "metadata": {},
   "outputs": [
    {
     "data": {
      "text/html": [
       "<div>\n",
       "<style scoped>\n",
       "    .dataframe tbody tr th:only-of-type {\n",
       "        vertical-align: middle;\n",
       "    }\n",
       "\n",
       "    .dataframe tbody tr th {\n",
       "        vertical-align: top;\n",
       "    }\n",
       "\n",
       "    .dataframe thead th {\n",
       "        text-align: right;\n",
       "    }\n",
       "</style>\n",
       "<table border=\"1\" class=\"dataframe\">\n",
       "  <thead>\n",
       "    <tr style=\"text-align: right;\">\n",
       "      <th></th>\n",
       "      <th>genre</th>\n",
       "    </tr>\n",
       "    <tr>\n",
       "      <th>city</th>\n",
       "      <th></th>\n",
       "    </tr>\n",
       "  </thead>\n",
       "  <tbody>\n",
       "    <tr>\n",
       "      <th>Moscow</th>\n",
       "      <td>42741</td>\n",
       "    </tr>\n",
       "    <tr>\n",
       "      <th>Saint-Petersburg</th>\n",
       "      <td>18512</td>\n",
       "    </tr>\n",
       "  </tbody>\n",
       "</table>\n",
       "</div>"
      ],
      "text/plain": [
       "                  genre\n",
       "city                   \n",
       "Moscow            42741\n",
       "Saint-Petersburg  18512"
      ]
     },
     "execution_count": 19,
     "metadata": {},
     "output_type": "execute_result"
    }
   ],
   "source": [
    "df.groupby('city')['genre'].count().to_frame()"
   ]
  },
  {
   "cell_type": "markdown",
   "metadata": {
    "id": "dzli3w8o_Zcu"
   },
   "source": [
    "There are more auditions in Moscow than in St. Petersburg. It does not follow from this that Moscow users listen to music more often. There are simply more users in Moscow.\n",
    "\n",
    "Now group the data by day of the week and count the plays on Monday, Wednesday, and Friday. Please note that the data contains information about the plays for these days only.\n"
   ]
  },
  {
   "cell_type": "code",
   "execution_count": 20,
   "metadata": {
    "id": "uZMKjiJz_Zcu"
   },
   "outputs": [
    {
     "name": "stdout",
     "output_type": "stream",
     "text": [
      "Прослушиваний в понедельник:  21354\n",
      "Прослушиваний в среду:  18059\n",
      "Прослушиваний в пятницу:  21840\n"
     ]
    }
   ],
   "source": [
    "print('Прослушиваний в понедельник: ',df[df['day'] == 'Monday']['user_id'].count())\n",
    "print('Прослушиваний в среду: ',df[df['day'] == 'Wednesday']['user_id'].count())\n",
    "print('Прослушиваний в пятницу: ',df[df['day'] == 'Friday']['user_id'].count())"
   ]
  },
  {
   "cell_type": "markdown",
   "metadata": {
    "id": "cC2tNrlL_Zcu"
   },
   "source": [
    "On average, users from the two cities are less active on Wednesdays. But the picture may change if we consider each city separately."
   ]
  },
  {
   "cell_type": "markdown",
   "metadata": {
    "id": "POzs8bGa_Zcu"
   },
   "source": [
    "You have seen how grouping by city and by day of the week works. Now write a function that combines these two calculations.\n",
    "\n",
    "Create a `number_tracks()` function that will count the plays for a given day and city. She needs two parameters:\n",
    "* day of the week,\n",
    "* city name.\n",
    "\n",
    "In the function, save to a variable the rows of the source table that have the value:\n",
    "* in the `day` column is equal to the `day` parameter,\n",
    "* in the `city` column is equal to the `city` parameter.\n",
    "\n",
    "To do this, apply sequential filtering with logical indexing.\n",
    "\n",
    "Then count the values ​​in the `user_id` column of the resulting table. Save the result to a new variable. Return this variable from the function."
   ]
  },
  {
   "cell_type": "code",
   "execution_count": 21,
   "metadata": {
    "id": "Nz3GdQB1_Zcu"
   },
   "outputs": [],
   "source": [
    "def number_tracks(day, city):\n",
    "    track_list = df[df['day'] == day]\n",
    "    track_list = track_list[track_list['city'] == city]\n",
    "    track_list_count = track_list['user_id'].count()\n",
    "    return track_list_count"
   ]
  },
  {
   "cell_type": "markdown",
   "metadata": {
    "id": "ytf7xFrFJQ2r"
   },
   "source": [
    "Call `number_tracks()` six times, changing the parameters so that you get data for each city on each of the three days."
   ]
  },
  {
   "cell_type": "code",
   "execution_count": 22,
   "metadata": {
    "id": "rJcRATNQ_Zcu"
   },
   "outputs": [
    {
     "data": {
      "text/plain": [
       "15740"
      ]
     },
     "execution_count": 22,
     "metadata": {},
     "output_type": "execute_result"
    }
   ],
   "source": [
    "number_tracks('Monday','Moscow')"
   ]
  },
  {
   "cell_type": "code",
   "execution_count": 23,
   "metadata": {
    "id": "hq_ncZ5T_Zcu"
   },
   "outputs": [
    {
     "data": {
      "text/plain": [
       "5614"
      ]
     },
     "execution_count": 23,
     "metadata": {},
     "output_type": "execute_result"
    }
   ],
   "source": [
    "number_tracks('Monday','Saint-Petersburg')"
   ]
  },
  {
   "cell_type": "code",
   "execution_count": 24,
   "metadata": {
    "id": "_NTy2VPU_Zcu"
   },
   "outputs": [
    {
     "data": {
      "text/plain": [
       "11056"
      ]
     },
     "execution_count": 24,
     "metadata": {},
     "output_type": "execute_result"
    }
   ],
   "source": [
    "number_tracks('Wednesday','Moscow')"
   ]
  },
  {
   "cell_type": "code",
   "execution_count": 25,
   "metadata": {
    "id": "j2y3TAwo_Zcu"
   },
   "outputs": [
    {
     "data": {
      "text/plain": [
       "7003"
      ]
     },
     "execution_count": 25,
     "metadata": {},
     "output_type": "execute_result"
    }
   ],
   "source": [
    "number_tracks('Wednesday','Saint-Petersburg')"
   ]
  },
  {
   "cell_type": "code",
   "execution_count": 26,
   "metadata": {
    "id": "vYDw5u_K_Zcu"
   },
   "outputs": [
    {
     "data": {
      "text/plain": [
       "15945"
      ]
     },
     "execution_count": 26,
     "metadata": {},
     "output_type": "execute_result"
    }
   ],
   "source": [
    "number_tracks('Friday','Moscow')"
   ]
  },
  {
   "cell_type": "code",
   "execution_count": 27,
   "metadata": {
    "id": "8_yzFtW3_Zcu"
   },
   "outputs": [
    {
     "data": {
      "text/plain": [
       "5895"
      ]
     },
     "execution_count": 27,
     "metadata": {},
     "output_type": "execute_result"
    }
   ],
   "source": [
    "number_tracks('Friday','Saint-Petersburg')"
   ]
  },
  {
   "cell_type": "markdown",
   "metadata": {
    "id": "7QXffbO-_Zcu"
   },
   "source": [
    "Create a table using the `pd.DataFrame` constructor, where\n",
    "* column names - `['city', 'monday', 'wednesday', 'friday']`;\n",
    "* data is the results you got with `number_tracks`.\n"
   ]
  },
  {
   "cell_type": "code",
   "execution_count": 28,
   "metadata": {
    "id": "APAcLpOr_Zcu"
   },
   "outputs": [
    {
     "data": {
      "text/html": [
       "<div>\n",
       "<style scoped>\n",
       "    .dataframe tbody tr th:only-of-type {\n",
       "        vertical-align: middle;\n",
       "    }\n",
       "\n",
       "    .dataframe tbody tr th {\n",
       "        vertical-align: top;\n",
       "    }\n",
       "\n",
       "    .dataframe thead th {\n",
       "        text-align: right;\n",
       "    }\n",
       "</style>\n",
       "<table border=\"1\" class=\"dataframe\">\n",
       "  <thead>\n",
       "    <tr style=\"text-align: right;\">\n",
       "      <th></th>\n",
       "      <th>city</th>\n",
       "      <th>monday</th>\n",
       "      <th>wednesday</th>\n",
       "      <th>friday</th>\n",
       "    </tr>\n",
       "  </thead>\n",
       "  <tbody>\n",
       "    <tr>\n",
       "      <th>0</th>\n",
       "      <td>Moscow</td>\n",
       "      <td>15740</td>\n",
       "      <td>11056</td>\n",
       "      <td>15945</td>\n",
       "    </tr>\n",
       "    <tr>\n",
       "      <th>1</th>\n",
       "      <td>Saint-Petersburg</td>\n",
       "      <td>5614</td>\n",
       "      <td>7003</td>\n",
       "      <td>5895</td>\n",
       "    </tr>\n",
       "  </tbody>\n",
       "</table>\n",
       "</div>"
      ],
      "text/plain": [
       "               city  monday  wednesday  friday\n",
       "0            Moscow   15740      11056   15945\n",
       "1  Saint-Petersburg    5614       7003    5895"
      ]
     },
     "execution_count": 28,
     "metadata": {},
     "output_type": "execute_result"
    }
   ],
   "source": [
    "data = [\n",
    "    ['Moscow',15740, 11056, 15945],\n",
    "    ['Saint-Petersburg',5614, 7003, 5895]\n",
    "]\n",
    "columns = ['city', 'monday', 'wednesday', 'friday']\n",
    "pd.DataFrame(columns = columns,data = data)"
   ]
  },
  {
   "cell_type": "markdown",
   "metadata": {
    "id": "-EgPIHYu_Zcu"
   },
   "source": [
    "**Conclusions**\n",
    "\n",
    "The data shows the difference in user behavior:\n",
    "\n",
    "- In Moscow, the peak of listening falls on Monday and Friday, and on Wednesday there is a noticeable decline.\n",
    "- In St. Petersburg, on the contrary, they listen to music more on Wednesdays. Activity on Monday and Friday here is almost equally inferior to Wednesday.\n",
    "\n",
    "So the data support the first hypothesis."
   ]
  },
  {
   "cell_type": "markdown",
   "metadata": {
    "id": "atZAxtq4_Zcu"
   },
   "source": [
    "### Music at the beginning and end of the week"
   ]
  },
  {
   "cell_type": "markdown",
   "metadata": {
    "id": "eXrQqXFH_Zcu"
   },
   "source": [
    "According to the second hypothesis, on Monday morning certain genres predominate in Moscow, while others dominate in St. Petersburg. Similarly, Friday evenings are dominated by different genres, depending on the city."
   ]
  },
  {
   "cell_type": "markdown",
   "metadata": {
    "id": "S8UcW6Hw_Zcu"
   },
   "source": [
    "Save tables with data in two variables:\n",
    "* by Moscow — in `moscow_general';\n",
    "* in St. Petersburg - in `spb_general`."
   ]
  },
  {
   "cell_type": "code",
   "execution_count": 29,
   "metadata": {
    "id": "qeaFfM_P_Zcu"
   },
   "outputs": [],
   "source": [
    "moscow_general = df[df['city'] == 'Moscow']"
   ]
  },
  {
   "cell_type": "code",
   "execution_count": 30,
   "metadata": {
    "id": "ORaVRKto_Zcu"
   },
   "outputs": [],
   "source": [
    "spb_general = df[df['city'] == 'Saint-Petersburg']"
   ]
  },
  {
   "cell_type": "markdown",
   "metadata": {
    "id": "MEJV-CX2_Zcu"
   },
   "source": [
    "Create a function `genre_weekday()` with four parameters:\n",
    "* table (dataframe) with data,\n",
    "* day of the week,\n",
    "* start timestamp in 'hh:mm' format,\n",
    "* last timestamp in 'hh:mm' format.\n",
    "\n",
    "The function should return information about the top 10 genres of those tracks that were listened to on the specified day, in the interval between two timestamps."
   ]
  },
  {
   "cell_type": "code",
   "execution_count": 31,
   "metadata": {
    "id": "laJT9BYl_Zcu"
   },
   "outputs": [],
   "source": [
    "def genre_weekday(table, day, time1, time2):\n",
    "    genre_df = table[table['day'] == day]\n",
    "    genre_df = genre_df[genre_df['time'] > time1]\n",
    "    genre_df = genre_df[genre_df['time'] < time2]\n",
    "    \n",
    "    genre_df_count = genre_df.groupby('genre')['user_id'].count()\n",
    "    \n",
    "    genre_df_sorted = genre_df_count.sort_values(ascending=False)\n",
    "    \n",
    "    return genre_df_sorted.head(10)"
   ]
  },
  {
   "cell_type": "markdown",
   "metadata": {
    "id": "la2s2_PF_Zcu"
   },
   "source": [
    "Compare the results of the `genre_weekday()` function for Moscow and St. Petersburg on Monday morning (from 7:00 to 11:00) and Friday evening (from 17:00 to 23:00):"
   ]
  },
  {
   "cell_type": "code",
   "execution_count": 32,
   "metadata": {
    "id": "yz7itPUQ_Zcu"
   },
   "outputs": [
    {
     "data": {
      "text/plain": [
       "genre\n",
       "pop            781\n",
       "dance          549\n",
       "electronic     480\n",
       "rock           474\n",
       "hiphop         286\n",
       "ruspop         186\n",
       "world          181\n",
       "rusrap         175\n",
       "alternative    164\n",
       "unknown        161\n",
       "Name: user_id, dtype: int64"
      ]
     },
     "execution_count": 32,
     "metadata": {},
     "output_type": "execute_result"
    }
   ],
   "source": [
    "genre_weekday(moscow_general, 'Monday', '07:00', '11:00')"
   ]
  },
  {
   "cell_type": "markdown",
   "metadata": {},
   "source": [
    "Function call for Monday morning in St. Petersburg (instead of df - table spb_general)"
   ]
  },
  {
   "cell_type": "code",
   "execution_count": 33,
   "metadata": {
    "id": "kwUcHPdy_Zcu",
    "scrolled": true
   },
   "outputs": [
    {
     "data": {
      "text/plain": [
       "genre\n",
       "pop            218\n",
       "dance          182\n",
       "rock           162\n",
       "electronic     147\n",
       "hiphop          80\n",
       "ruspop          64\n",
       "alternative     58\n",
       "rusrap          55\n",
       "jazz            44\n",
       "classical       40\n",
       "Name: user_id, dtype: int64"
      ]
     },
     "execution_count": 33,
     "metadata": {},
     "output_type": "execute_result"
    }
   ],
   "source": [
    "genre_weekday(spb_general, 'Monday', '07:00', '11:00')"
   ]
  },
  {
   "cell_type": "markdown",
   "metadata": {},
   "source": [
    "Function call for Friday evening in Moscow"
   ]
  },
  {
   "cell_type": "code",
   "execution_count": 34,
   "metadata": {
    "id": "EzXVRE1o_Zcu"
   },
   "outputs": [
    {
     "data": {
      "text/plain": [
       "genre\n",
       "pop            713\n",
       "rock           517\n",
       "dance          495\n",
       "electronic     482\n",
       "hiphop         273\n",
       "world          208\n",
       "ruspop         170\n",
       "alternative    163\n",
       "classical      163\n",
       "rusrap         142\n",
       "Name: user_id, dtype: int64"
      ]
     },
     "execution_count": 34,
     "metadata": {},
     "output_type": "execute_result"
    }
   ],
   "source": [
    "genre_weekday(moscow_general, 'Friday', '17:00', '23:00')"
   ]
  },
  {
   "cell_type": "markdown",
   "metadata": {},
   "source": [
    "Calling a function for a Friday evening in St. Petersburg"
   ]
  },
  {
   "cell_type": "code",
   "execution_count": 35,
   "metadata": {
    "id": "JZaEKu5v_Zcu"
   },
   "outputs": [
    {
     "data": {
      "text/plain": [
       "genre\n",
       "pop            256\n",
       "electronic     216\n",
       "rock           216\n",
       "dance          210\n",
       "hiphop          97\n",
       "alternative     63\n",
       "jazz            61\n",
       "classical       60\n",
       "rusrap          59\n",
       "world           54\n",
       "Name: user_id, dtype: int64"
      ]
     },
     "execution_count": 35,
     "metadata": {},
     "output_type": "execute_result"
    }
   ],
   "source": [
    "genre_weekday(spb_general, 'Friday', '17:00', '23:00')"
   ]
  },
  {
   "cell_type": "markdown",
   "metadata": {
    "id": "wrCe4MNX_Zcu"
   },
   "source": [
    "**Conclusions**\n",
    "\n",
    "If we compare the top 10 genres on Monday morning, we can draw the following conclusions:\n",
    "\n",
    "1. In Moscow and St. Petersburg they listen to similar music. The only difference is that the Moscow rating includes the “world” genre, while the St. Petersburg rating includes jazz and classical.\n",
    "\n",
    "2. There were so many missing values ​​in Moscow that the value `'unknown'` took tenth place among the most popular genres. This means that missing values ​​occupy a significant share in the data and threaten the reliability of the study.\n",
    "\n",
    "Friday night does not change this picture. Some genres rise a little higher, others go down, but overall the top 10 stays the same.\n",
    "\n",
    "Thus, the second hypothesis was only partially confirmed:\n",
    "* Users listen to similar music at the beginning of the week and at the end.\n",
    "* The difference between Moscow and St. Petersburg is not very pronounced. In Moscow, they listen to Russian popular music more often, in St. Petersburg - jazz.\n",
    "\n",
    "However, gaps in the data cast doubt on this result. There are so many of them in Moscow that the top 10 ranking could look different if it were not for the lost genre data."
   ]
  },
  {
   "cell_type": "markdown",
   "metadata": {
    "id": "JolODAqr_Zcu"
   },
   "source": [
    "### Genre preferences in Moscow and St. Petersburg\n",
    "\n",
    "Hypothesis: St. Petersburg is the capital of rap, the music of this genre is listened to more often than in Moscow. And Moscow is a city of contrasts, which, nevertheless, is dominated by pop music."
   ]
  },
  {
   "cell_type": "markdown",
   "metadata": {
    "id": "DlegSvaT_Zcu"
   },
   "source": [
    "Group the `moscow_general` table by genre and count the plays of each genre's tracks using the `count()` method. Then sort the result in descending order and store it in the `moscow_genres` table."
   ]
  },
  {
   "cell_type": "code",
   "execution_count": 36,
   "metadata": {
    "id": "r19lIPke_Zcu"
   },
   "outputs": [],
   "source": [
    "moscow_genres = moscow_general.groupby('genre')['genre'].count().sort_values(ascending=False)"
   ]
  },
  {
   "cell_type": "markdown",
   "metadata": {
    "id": "6kMuomxTiIr8"
   },
   "source": [
    "Print the first ten lines of `moscow_genres` to the screen:"
   ]
  },
  {
   "cell_type": "code",
   "execution_count": 37,
   "metadata": {
    "id": "WhCSooF8_Zcv"
   },
   "outputs": [
    {
     "data": {
      "text/plain": [
       "genre\n",
       "pop            5892\n",
       "dance          4435\n",
       "rock           3965\n",
       "electronic     3786\n",
       "hiphop         2096\n",
       "classical      1616\n",
       "world          1432\n",
       "alternative    1379\n",
       "ruspop         1372\n",
       "rusrap         1161\n",
       "Name: genre, dtype: int64"
      ]
     },
     "execution_count": 37,
     "metadata": {},
     "output_type": "execute_result"
    }
   ],
   "source": [
    "moscow_genres.head(10)"
   ]
  },
  {
   "cell_type": "markdown",
   "metadata": {
    "id": "cnPG2vnN_Zcv"
   },
   "source": [
    "Now repeat the same for Petersburg.\n",
    "\n",
    "Group the `spb_general` table by genre. Count the number of listens to tracks of each genre. Sort the result in descending order and store it in the `spb_genres` table:\n"
   ]
  },
  {
   "cell_type": "code",
   "execution_count": 38,
   "metadata": {
    "id": "gluLIpE7_Zcv"
   },
   "outputs": [],
   "source": [
    "spb_genres = spb_general.groupby('genre')['genre'].count().sort_values(ascending=False)"
   ]
  },
  {
   "cell_type": "markdown",
   "metadata": {
    "id": "5Doha_ODgyQ8"
   },
   "source": [
    "Print the first ten lines of `spb_genres` to the screen:"
   ]
  },
  {
   "cell_type": "code",
   "execution_count": 39,
   "metadata": {
    "id": "uaGJHjVU_Zcv"
   },
   "outputs": [
    {
     "data": {
      "text/plain": [
       "genre\n",
       "pop            2431\n",
       "dance          1932\n",
       "rock           1879\n",
       "electronic     1736\n",
       "hiphop          960\n",
       "alternative     649\n",
       "classical       646\n",
       "rusrap          564\n",
       "ruspop          538\n",
       "world           515\n",
       "Name: genre, dtype: int64"
      ]
     },
     "execution_count": 39,
     "metadata": {},
     "output_type": "execute_result"
    }
   ],
   "source": [
    "spb_genres.head(10)"
   ]
  },
  {
   "cell_type": "markdown",
   "metadata": {
    "id": "RY51YJYu_Zcv"
   },
   "source": [
    "**Conclusions**"
   ]
  },
  {
   "cell_type": "markdown",
   "metadata": {
    "id": "nVhnJEm__Zcv"
   },
   "source": [
    "The hypothesis was partially confirmed:\n",
    "* Pop music is the most popular genre in Moscow, as the hypothesis suggested. Moreover, in the top 10 genres there is a close genre - Russian popular music.\n",
    "* Contrary to expectations, rap is equally popular in Moscow and St. Petersburg.\n"
   ]
  },
  {
   "cell_type": "markdown",
   "metadata": {
    "id": "ykKQ0N65_Zcv"
   },
   "source": [
    "## Research results"
   ]
  },
  {
   "cell_type": "markdown",
   "metadata": {
    "id": "tjUwbHb3_Zcv"
   },
   "source": [
    "You tested three hypotheses and found:\n",
    "\n",
    "1. The day of the week has a different effect on the activity of users in Moscow and St. Petersburg.\n",
    "\n",
    "The first hypothesis was fully confirmed.\n",
    "\n",
    "2. Musical preferences do not change much during the week - be it Moscow or St. Petersburg. Small differences are noticeable at the beginning of the week, on Mondays:\n",
    "* in Moscow they listen to music of the “world” genre,\n",
    "* in St. Petersburg - jazz and classical music.\n",
    "\n",
    "Thus, the second hypothesis was only partly confirmed. This result could have been different were it not for gaps in the data.\n",
    "\n",
    "3. The tastes of users of Moscow and St. Petersburg have more in common than differences. Contrary to expectations, genre preferences in St. Petersburg resemble those in Moscow.\n",
    "\n",
    "The third hypothesis was not confirmed. If there are differences in preferences, they are invisible to the bulk of users.\n",
    "\n",
    "**In practice, studies contain tests of statistical hypotheses.**\n",
    "From the data of one service, it is not always possible to draw a conclusion about all the inhabitants of the city.\n",
    "Tests of statistical hypotheses will show how reliable they are, based on the available data.\n",
    "You will learn more about hypothesis testing methods in the following topics."
   ]
  }
 ],
 "metadata": {
  "ExecuteTimeLog": [
   {
    "duration": 429,
    "start_time": "2022-07-01T10:43:21.105Z"
   },
   {
    "duration": 69,
    "start_time": "2022-07-01T10:43:22.931Z"
   },
   {
    "duration": 7,
    "start_time": "2022-07-01T10:43:26.277Z"
   },
   {
    "duration": 7,
    "start_time": "2022-07-01T10:43:48.063Z"
   },
   {
    "duration": 7,
    "start_time": "2022-07-01T10:43:55.550Z"
   },
   {
    "duration": 7,
    "start_time": "2022-07-01T10:44:12.077Z"
   },
   {
    "duration": 194,
    "start_time": "2022-07-01T10:44:20.671Z"
   },
   {
    "duration": 18,
    "start_time": "2022-07-01T10:44:24.538Z"
   },
   {
    "duration": 11,
    "start_time": "2022-07-01T10:44:30.630Z"
   },
   {
    "duration": 9,
    "start_time": "2022-07-01T10:44:43.309Z"
   },
   {
    "duration": 8,
    "start_time": "2022-07-01T10:45:06.500Z"
   },
   {
    "duration": 8,
    "start_time": "2022-07-01T10:45:20.324Z"
   },
   {
    "duration": 8,
    "start_time": "2022-07-01T10:45:26.997Z"
   },
   {
    "duration": 30,
    "start_time": "2022-07-01T10:49:36.419Z"
   },
   {
    "duration": 5,
    "start_time": "2022-07-01T10:58:59.904Z"
   },
   {
    "duration": 11,
    "start_time": "2022-07-01T11:04:18.725Z"
   },
   {
    "duration": 4,
    "start_time": "2022-07-01T11:04:20.975Z"
   },
   {
    "duration": 27,
    "start_time": "2022-07-01T11:05:12.831Z"
   },
   {
    "duration": 25,
    "start_time": "2022-07-01T11:05:57.340Z"
   },
   {
    "duration": 26,
    "start_time": "2022-07-01T11:06:08.349Z"
   },
   {
    "duration": 34,
    "start_time": "2022-07-01T11:07:16.179Z"
   },
   {
    "duration": 58,
    "start_time": "2022-07-01T11:38:22.300Z"
   },
   {
    "duration": 27,
    "start_time": "2022-07-01T11:38:24.687Z"
   },
   {
    "duration": 74,
    "start_time": "2022-07-01T11:39:08.988Z"
   },
   {
    "duration": 66,
    "start_time": "2022-07-01T11:39:37.078Z"
   },
   {
    "duration": 2,
    "start_time": "2022-07-01T11:41:24.043Z"
   },
   {
    "duration": 2,
    "start_time": "2022-07-01T11:42:07.038Z"
   },
   {
    "duration": 2,
    "start_time": "2022-07-01T11:42:15.788Z"
   },
   {
    "duration": 13,
    "start_time": "2022-07-01T11:42:29.208Z"
   },
   {
    "duration": 11,
    "start_time": "2022-07-01T11:43:09.481Z"
   },
   {
    "duration": 10,
    "start_time": "2022-07-01T11:43:14.250Z"
   },
   {
    "duration": 65,
    "start_time": "2022-07-01T11:43:52.238Z"
   },
   {
    "duration": 86,
    "start_time": "2022-07-01T11:43:55.655Z"
   },
   {
    "duration": 67,
    "start_time": "2022-07-01T11:44:03.261Z"
   },
   {
    "duration": 66,
    "start_time": "2022-07-01T11:44:19.454Z"
   },
   {
    "duration": 70,
    "start_time": "2022-07-01T11:44:21.166Z"
   },
   {
    "duration": 2,
    "start_time": "2022-07-01T11:44:33.040Z"
   },
   {
    "duration": 3,
    "start_time": "2022-07-01T11:44:35.006Z"
   },
   {
    "duration": 8,
    "start_time": "2022-07-01T11:46:22.493Z"
   },
   {
    "duration": 8,
    "start_time": "2022-07-01T11:46:29.558Z"
   },
   {
    "duration": 8,
    "start_time": "2022-07-01T11:47:08.787Z"
   },
   {
    "duration": 20,
    "start_time": "2022-07-01T11:48:07.422Z"
   },
   {
    "duration": 10,
    "start_time": "2022-07-01T11:48:17.109Z"
   },
   {
    "duration": 48,
    "start_time": "2022-07-01T11:56:11.092Z"
   },
   {
    "duration": 39,
    "start_time": "2022-07-01T11:56:59.045Z"
   },
   {
    "duration": 4,
    "start_time": "2022-07-01T11:57:17.112Z"
   },
   {
    "duration": 3,
    "start_time": "2022-07-01T12:14:55.765Z"
   },
   {
    "duration": 61,
    "start_time": "2022-07-01T12:15:05.032Z"
   },
   {
    "duration": 2,
    "start_time": "2022-07-01T12:15:19.438Z"
   },
   {
    "duration": 52,
    "start_time": "2022-07-01T12:16:27.248Z"
   },
   {
    "duration": 3,
    "start_time": "2022-07-01T12:17:54.598Z"
   },
   {
    "duration": 11,
    "start_time": "2022-07-01T12:18:28.061Z"
   },
   {
    "duration": 38,
    "start_time": "2022-07-01T12:18:30.695Z"
   },
   {
    "duration": 28,
    "start_time": "2022-07-01T13:06:01.719Z"
   },
   {
    "duration": 11,
    "start_time": "2022-07-01T13:06:26.776Z"
   },
   {
    "duration": 9,
    "start_time": "2022-07-01T13:55:45.286Z"
   },
   {
    "duration": 5,
    "start_time": "2022-07-01T13:58:22.627Z"
   },
   {
    "duration": 5,
    "start_time": "2022-07-01T13:58:31.622Z"
   },
   {
    "duration": 4,
    "start_time": "2022-07-01T13:58:36.746Z"
   },
   {
    "duration": 42,
    "start_time": "2022-07-01T13:58:53.199Z"
   },
   {
    "duration": 13,
    "start_time": "2022-07-01T14:00:31.792Z"
   },
   {
    "duration": 13,
    "start_time": "2022-07-01T14:01:39.395Z"
   },
   {
    "duration": 3,
    "start_time": "2022-07-01T14:02:24.024Z"
   },
   {
    "duration": 13,
    "start_time": "2022-07-01T14:02:28.587Z"
   },
   {
    "duration": 16,
    "start_time": "2022-07-01T14:03:42.227Z"
   },
   {
    "duration": 8,
    "start_time": "2022-07-01T14:03:51.071Z"
   },
   {
    "duration": 12,
    "start_time": "2022-07-01T14:04:03.858Z"
   },
   {
    "duration": 20,
    "start_time": "2022-07-01T14:04:12.745Z"
   },
   {
    "duration": 27,
    "start_time": "2022-07-01T14:04:15.690Z"
   },
   {
    "duration": 18,
    "start_time": "2022-07-01T14:07:21.525Z"
   },
   {
    "duration": 11,
    "start_time": "2022-07-01T14:07:54.839Z"
   },
   {
    "duration": 22,
    "start_time": "2022-07-01T14:08:29.844Z"
   },
   {
    "duration": 23,
    "start_time": "2022-07-01T14:08:35.534Z"
   },
   {
    "duration": 23,
    "start_time": "2022-07-01T14:08:55.998Z"
   },
   {
    "duration": 23,
    "start_time": "2022-07-01T14:10:11.842Z"
   },
   {
    "duration": 23,
    "start_time": "2022-07-01T14:10:17.150Z"
   },
   {
    "duration": 67,
    "start_time": "2022-07-01T14:12:01.716Z"
   },
   {
    "duration": 21,
    "start_time": "2022-07-01T14:12:08.522Z"
   },
   {
    "duration": 12,
    "start_time": "2022-07-01T14:12:26.967Z"
   },
   {
    "duration": 22,
    "start_time": "2022-07-01T14:13:22.475Z"
   },
   {
    "duration": 3,
    "start_time": "2022-07-01T14:25:19.112Z"
   },
   {
    "duration": 12,
    "start_time": "2022-07-01T14:26:56.493Z"
   },
   {
    "duration": 22,
    "start_time": "2022-07-01T14:27:02.151Z"
   },
   {
    "duration": 20,
    "start_time": "2022-07-01T14:27:09.709Z"
   },
   {
    "duration": 20,
    "start_time": "2022-07-01T14:27:15.373Z"
   },
   {
    "duration": 29,
    "start_time": "2022-07-01T14:27:24.792Z"
   },
   {
    "duration": 27,
    "start_time": "2022-07-01T14:27:50.574Z"
   },
   {
    "duration": 21,
    "start_time": "2022-07-01T14:47:26.545Z"
   },
   {
    "duration": 28,
    "start_time": "2022-07-01T14:47:34.072Z"
   },
   {
    "duration": 36,
    "start_time": "2022-07-01T14:47:39.114Z"
   },
   {
    "duration": 4,
    "start_time": "2022-07-01T14:49:40.964Z"
   },
   {
    "duration": 7,
    "start_time": "2022-07-01T14:51:51.541Z"
   },
   {
    "duration": 8,
    "start_time": "2022-07-01T14:52:26.307Z"
   },
   {
    "duration": 4,
    "start_time": "2022-07-01T14:52:37.271Z"
   },
   {
    "duration": 14,
    "start_time": "2022-07-01T14:52:38.284Z"
   },
   {
    "duration": 4,
    "start_time": "2022-07-01T14:52:59.563Z"
   },
   {
    "duration": 3,
    "start_time": "2022-07-01T14:53:38.792Z"
   },
   {
    "duration": 22,
    "start_time": "2022-07-01T14:53:40.794Z"
   },
   {
    "duration": 15,
    "start_time": "2022-07-01T14:54:32.328Z"
   },
   {
    "duration": 6,
    "start_time": "2022-07-01T14:54:33.538Z"
   },
   {
    "duration": 14,
    "start_time": "2022-07-01T14:54:56.468Z"
   },
   {
    "duration": 16,
    "start_time": "2022-07-01T14:55:01.303Z"
   },
   {
    "duration": 19,
    "start_time": "2022-07-01T14:55:02.548Z"
   },
   {
    "duration": 16,
    "start_time": "2022-07-01T14:55:03.501Z"
   },
   {
    "duration": 15,
    "start_time": "2022-07-01T14:55:05.011Z"
   },
   {
    "duration": 8,
    "start_time": "2022-07-01T14:59:09.598Z"
   },
   {
    "duration": 9,
    "start_time": "2022-07-01T14:59:25.061Z"
   },
   {
    "duration": 16,
    "start_time": "2022-07-01T14:59:44.207Z"
   },
   {
    "duration": 9,
    "start_time": "2022-07-01T15:00:05.128Z"
   },
   {
    "duration": 9,
    "start_time": "2022-07-01T15:00:20.424Z"
   },
   {
    "duration": 9,
    "start_time": "2022-07-01T15:00:27.961Z"
   },
   {
    "duration": 10,
    "start_time": "2022-07-01T15:00:32.548Z"
   },
   {
    "duration": 10,
    "start_time": "2022-07-01T15:11:54.213Z"
   },
   {
    "duration": 10,
    "start_time": "2022-07-01T15:11:55.028Z"
   },
   {
    "duration": 2,
    "start_time": "2022-07-01T15:19:12.231Z"
   },
   {
    "duration": 2,
    "start_time": "2022-07-01T15:19:59.627Z"
   },
   {
    "duration": 4,
    "start_time": "2022-07-01T15:20:47.436Z"
   },
   {
    "duration": 26,
    "start_time": "2022-07-01T15:20:50.143Z"
   },
   {
    "duration": 4,
    "start_time": "2022-07-01T15:21:08.665Z"
   },
   {
    "duration": 23,
    "start_time": "2022-07-01T15:21:11.010Z"
   },
   {
    "duration": 4,
    "start_time": "2022-07-01T15:22:51.512Z"
   },
   {
    "duration": 4,
    "start_time": "2022-07-01T15:25:53.570Z"
   },
   {
    "duration": 20,
    "start_time": "2022-07-01T15:25:58.247Z"
   },
   {
    "duration": 4,
    "start_time": "2022-07-01T15:27:28.181Z"
   },
   {
    "duration": 21,
    "start_time": "2022-07-01T15:27:30.863Z"
   },
   {
    "duration": 4,
    "start_time": "2022-07-01T15:27:54.210Z"
   },
   {
    "duration": 22,
    "start_time": "2022-07-01T15:27:55.272Z"
   },
   {
    "duration": 5,
    "start_time": "2022-07-01T15:28:13.374Z"
   },
   {
    "duration": 26,
    "start_time": "2022-07-01T15:28:15.189Z"
   },
   {
    "duration": 5,
    "start_time": "2022-07-01T15:28:45.053Z"
   },
   {
    "duration": 18,
    "start_time": "2022-07-01T15:28:46.817Z"
   },
   {
    "duration": 7,
    "start_time": "2022-07-01T15:29:32.504Z"
   },
   {
    "duration": 18,
    "start_time": "2022-07-01T15:29:34.259Z"
   },
   {
    "duration": 5,
    "start_time": "2022-07-01T15:29:43.932Z"
   },
   {
    "duration": 18,
    "start_time": "2022-07-01T15:29:45.674Z"
   },
   {
    "duration": 18,
    "start_time": "2022-07-01T15:29:55.275Z"
   },
   {
    "duration": 12,
    "start_time": "2022-07-01T15:30:02.475Z"
   },
   {
    "duration": 17,
    "start_time": "2022-07-01T15:30:06.650Z"
   },
   {
    "duration": 17,
    "start_time": "2022-07-01T15:30:10.017Z"
   },
   {
    "duration": 11,
    "start_time": "2022-07-01T15:30:36.507Z"
   },
   {
    "duration": 28,
    "start_time": "2022-07-01T15:33:20.491Z"
   },
   {
    "duration": 22,
    "start_time": "2022-07-01T15:33:41.182Z"
   },
   {
    "duration": 10,
    "start_time": "2022-07-01T15:33:56.294Z"
   },
   {
    "duration": 7,
    "start_time": "2022-07-01T15:34:15.128Z"
   },
   {
    "duration": 8,
    "start_time": "2022-07-01T15:34:19.618Z"
   },
   {
    "duration": 21,
    "start_time": "2022-07-01T15:34:37.581Z"
   },
   {
    "duration": 20,
    "start_time": "2022-07-01T15:34:40.441Z"
   },
   {
    "duration": 22,
    "start_time": "2022-07-01T15:34:41.609Z"
   },
   {
    "duration": 8,
    "start_time": "2022-07-01T15:34:42.783Z"
   },
   {
    "duration": 8,
    "start_time": "2022-07-01T15:34:57.831Z"
   },
   {
    "duration": 5,
    "start_time": "2022-07-01T15:34:59.102Z"
   },
   {
    "duration": 2,
    "start_time": "2022-07-01T15:35:16.195Z"
   },
   {
    "duration": 5,
    "start_time": "2022-07-01T15:35:24.909Z"
   },
   {
    "duration": 7,
    "start_time": "2022-07-01T15:36:02.164Z"
   },
   {
    "duration": 6,
    "start_time": "2022-07-01T15:36:03.897Z"
   },
   {
    "duration": 5,
    "start_time": "2022-07-01T15:36:05.000Z"
   },
   {
    "duration": 3,
    "start_time": "2022-07-01T15:37:38.342Z"
   },
   {
    "duration": 153,
    "start_time": "2022-07-01T15:37:38.376Z"
   },
   {
    "duration": 10,
    "start_time": "2022-07-01T15:37:38.531Z"
   },
   {
    "duration": 33,
    "start_time": "2022-07-01T15:37:38.542Z"
   },
   {
    "duration": 4,
    "start_time": "2022-07-01T15:37:38.577Z"
   },
   {
    "duration": 13,
    "start_time": "2022-07-01T15:37:38.582Z"
   },
   {
    "duration": 31,
    "start_time": "2022-07-01T15:37:38.596Z"
   },
   {
    "duration": 31,
    "start_time": "2022-07-01T15:37:38.629Z"
   },
   {
    "duration": 52,
    "start_time": "2022-07-01T15:37:38.662Z"
   },
   {
    "duration": 24,
    "start_time": "2022-07-01T15:37:38.716Z"
   },
   {
    "duration": 63,
    "start_time": "2022-07-01T15:37:38.743Z"
   },
   {
    "duration": 81,
    "start_time": "2022-07-01T15:37:38.808Z"
   },
   {
    "duration": 71,
    "start_time": "2022-07-01T15:37:38.891Z"
   },
   {
    "duration": 42,
    "start_time": "2022-07-01T15:37:38.963Z"
   },
   {
    "duration": 2,
    "start_time": "2022-07-01T15:37:39.007Z"
   },
   {
    "duration": 20,
    "start_time": "2022-07-01T15:37:39.011Z"
   },
   {
    "duration": 39,
    "start_time": "2022-07-01T15:37:39.032Z"
   },
   {
    "duration": 23,
    "start_time": "2022-07-01T15:37:39.073Z"
   },
   {
    "duration": 48,
    "start_time": "2022-07-01T15:37:39.097Z"
   },
   {
    "duration": 3,
    "start_time": "2022-07-01T15:37:39.147Z"
   },
   {
    "duration": 20,
    "start_time": "2022-07-01T15:37:39.152Z"
   },
   {
    "duration": 14,
    "start_time": "2022-07-01T15:37:39.173Z"
   },
   {
    "duration": 37,
    "start_time": "2022-07-01T15:37:39.188Z"
   },
   {
    "duration": 24,
    "start_time": "2022-07-01T15:37:39.227Z"
   },
   {
    "duration": 22,
    "start_time": "2022-07-01T15:37:39.252Z"
   },
   {
    "duration": 18,
    "start_time": "2022-07-01T15:37:39.276Z"
   },
   {
    "duration": 34,
    "start_time": "2022-07-01T15:37:39.296Z"
   },
   {
    "duration": 15,
    "start_time": "2022-07-01T15:37:39.332Z"
   },
   {
    "duration": 12,
    "start_time": "2022-07-01T15:37:39.350Z"
   },
   {
    "duration": 8,
    "start_time": "2022-07-01T15:37:39.363Z"
   },
   {
    "duration": 23,
    "start_time": "2022-07-01T15:37:39.372Z"
   },
   {
    "duration": 34,
    "start_time": "2022-07-01T15:37:39.397Z"
   },
   {
    "duration": 17,
    "start_time": "2022-07-01T15:37:39.432Z"
   },
   {
    "duration": 11,
    "start_time": "2022-07-01T15:37:39.451Z"
   },
   {
    "duration": 8,
    "start_time": "2022-07-01T15:37:39.463Z"
   },
   {
    "duration": 13,
    "start_time": "2022-07-01T15:37:39.472Z"
   },
   {
    "duration": 8,
    "start_time": "2022-07-01T15:37:39.486Z"
   },
   {
    "duration": 30,
    "start_time": "2022-07-01T15:37:39.495Z"
   },
   {
    "duration": 391,
    "start_time": "2022-07-01T16:53:33.370Z"
   },
   {
    "duration": 194,
    "start_time": "2022-07-01T16:53:33.762Z"
   },
   {
    "duration": 16,
    "start_time": "2022-07-01T16:53:33.958Z"
   },
   {
    "duration": 28,
    "start_time": "2022-07-01T16:53:33.976Z"
   },
   {
    "duration": 4,
    "start_time": "2022-07-01T16:53:34.005Z"
   },
   {
    "duration": 17,
    "start_time": "2022-07-01T16:53:34.010Z"
   },
   {
    "duration": 11,
    "start_time": "2022-07-01T16:53:34.029Z"
   },
   {
    "duration": 33,
    "start_time": "2022-07-01T16:53:34.041Z"
   },
   {
    "duration": 50,
    "start_time": "2022-07-01T16:53:34.075Z"
   },
   {
    "duration": 34,
    "start_time": "2022-07-01T16:53:34.128Z"
   },
   {
    "duration": 63,
    "start_time": "2022-07-01T16:53:34.164Z"
   },
   {
    "duration": 97,
    "start_time": "2022-07-01T16:53:34.229Z"
   },
   {
    "duration": 66,
    "start_time": "2022-07-01T16:53:34.328Z"
   },
   {
    "duration": 33,
    "start_time": "2022-07-01T16:53:34.396Z"
   },
   {
    "duration": 4,
    "start_time": "2022-07-01T16:53:34.431Z"
   },
   {
    "duration": 23,
    "start_time": "2022-07-01T16:53:34.436Z"
   },
   {
    "duration": 34,
    "start_time": "2022-07-01T16:53:34.461Z"
   },
   {
    "duration": 21,
    "start_time": "2022-07-01T16:53:34.497Z"
   },
   {
    "duration": 11,
    "start_time": "2022-07-01T16:53:34.520Z"
   },
   {
    "duration": 28,
    "start_time": "2022-07-01T16:53:34.552Z"
   },
   {
    "duration": 3,
    "start_time": "2022-07-01T16:53:34.582Z"
   },
   {
    "duration": 23,
    "start_time": "2022-07-01T16:53:34.587Z"
   },
   {
    "duration": 13,
    "start_time": "2022-07-01T16:53:34.611Z"
   },
   {
    "duration": 33,
    "start_time": "2022-07-01T16:53:34.626Z"
   },
   {
    "duration": 14,
    "start_time": "2022-07-01T16:53:34.660Z"
   },
   {
    "duration": 16,
    "start_time": "2022-07-01T16:53:34.676Z"
   },
   {
    "duration": 14,
    "start_time": "2022-07-01T16:53:34.694Z"
   },
   {
    "duration": 9,
    "start_time": "2022-07-01T16:53:34.711Z"
   },
   {
    "duration": 10,
    "start_time": "2022-07-01T16:53:34.753Z"
   },
   {
    "duration": 10,
    "start_time": "2022-07-01T16:53:34.764Z"
   },
   {
    "duration": 8,
    "start_time": "2022-07-01T16:53:34.776Z"
   },
   {
    "duration": 29,
    "start_time": "2022-07-01T16:53:34.786Z"
   },
   {
    "duration": 10,
    "start_time": "2022-07-01T16:53:34.816Z"
   },
   {
    "duration": 32,
    "start_time": "2022-07-01T16:53:34.828Z"
   },
   {
    "duration": 11,
    "start_time": "2022-07-01T16:53:34.861Z"
   },
   {
    "duration": 8,
    "start_time": "2022-07-01T16:53:34.873Z"
   },
   {
    "duration": 9,
    "start_time": "2022-07-01T16:53:34.882Z"
   },
   {
    "duration": 10,
    "start_time": "2022-07-01T16:53:34.893Z"
   },
   {
    "duration": 11,
    "start_time": "2022-07-01T16:53:34.905Z"
   },
   {
    "duration": 49,
    "start_time": "2022-07-01T16:53:34.917Z"
   },
   {
    "duration": 407,
    "start_time": "2022-07-02T19:55:55.776Z"
   },
   {
    "duration": 237,
    "start_time": "2022-07-02T19:55:56.185Z"
   },
   {
    "duration": 28,
    "start_time": "2022-07-02T19:55:56.424Z"
   },
   {
    "duration": 55,
    "start_time": "2022-07-02T19:55:56.460Z"
   },
   {
    "duration": 4,
    "start_time": "2022-07-02T19:55:56.517Z"
   },
   {
    "duration": 15,
    "start_time": "2022-07-02T19:55:56.522Z"
   },
   {
    "duration": 20,
    "start_time": "2022-07-02T19:55:56.545Z"
   },
   {
    "duration": 28,
    "start_time": "2022-07-02T19:55:56.567Z"
   },
   {
    "duration": 85,
    "start_time": "2022-07-02T19:55:56.597Z"
   },
   {
    "duration": 25,
    "start_time": "2022-07-02T19:55:56.685Z"
   },
   {
    "duration": 86,
    "start_time": "2022-07-02T19:55:56.712Z"
   },
   {
    "duration": 91,
    "start_time": "2022-07-02T19:55:56.799Z"
   },
   {
    "duration": 83,
    "start_time": "2022-07-02T19:55:56.892Z"
   },
   {
    "duration": 38,
    "start_time": "2022-07-02T19:55:56.977Z"
   },
   {
    "duration": 16,
    "start_time": "2022-07-02T19:55:57.017Z"
   },
   {
    "duration": 40,
    "start_time": "2022-07-02T19:55:57.034Z"
   },
   {
    "duration": 43,
    "start_time": "2022-07-02T19:55:57.075Z"
   },
   {
    "duration": 36,
    "start_time": "2022-07-02T19:55:57.120Z"
   },
   {
    "duration": 22,
    "start_time": "2022-07-02T19:55:57.159Z"
   },
   {
    "duration": 26,
    "start_time": "2022-07-02T19:55:57.183Z"
   },
   {
    "duration": 4,
    "start_time": "2022-07-02T19:55:57.210Z"
   },
   {
    "duration": 60,
    "start_time": "2022-07-02T19:55:57.215Z"
   },
   {
    "duration": 13,
    "start_time": "2022-07-02T19:55:57.277Z"
   },
   {
    "duration": 16,
    "start_time": "2022-07-02T19:55:57.292Z"
   },
   {
    "duration": 13,
    "start_time": "2022-07-02T19:55:57.310Z"
   },
   {
    "duration": 24,
    "start_time": "2022-07-02T19:55:57.325Z"
   },
   {
    "duration": 29,
    "start_time": "2022-07-02T19:55:57.355Z"
   },
   {
    "duration": 11,
    "start_time": "2022-07-02T19:55:57.388Z"
   },
   {
    "duration": 20,
    "start_time": "2022-07-02T19:55:57.401Z"
   },
   {
    "duration": 25,
    "start_time": "2022-07-02T19:55:57.423Z"
   },
   {
    "duration": 24,
    "start_time": "2022-07-02T19:55:57.451Z"
   },
   {
    "duration": 37,
    "start_time": "2022-07-02T19:55:57.476Z"
   },
   {
    "duration": 22,
    "start_time": "2022-07-02T19:55:57.515Z"
   },
   {
    "duration": 34,
    "start_time": "2022-07-02T19:55:57.539Z"
   },
   {
    "duration": 11,
    "start_time": "2022-07-02T19:55:57.575Z"
   },
   {
    "duration": 8,
    "start_time": "2022-07-02T19:55:57.587Z"
   },
   {
    "duration": 6,
    "start_time": "2022-07-02T19:55:57.596Z"
   },
   {
    "duration": 10,
    "start_time": "2022-07-02T19:55:57.603Z"
   },
   {
    "duration": 14,
    "start_time": "2022-07-02T19:55:57.615Z"
   },
   {
    "duration": 65,
    "start_time": "2022-07-02T19:55:57.630Z"
   }
  ],
  "colab": {
   "collapsed_sections": [
    "E0vqbgi9ay0H",
    "VUC88oWjTJw2"
   ],
   "name": "yandex_music_project.ipynb",
   "provenance": []
  },
  "kernelspec": {
   "display_name": "Python 3 (ipykernel)",
   "language": "python",
   "name": "python3"
  },
  "language_info": {
   "codemirror_mode": {
    "name": "ipython",
    "version": 3
   },
   "file_extension": ".py",
   "mimetype": "text/x-python",
   "name": "python",
   "nbconvert_exporter": "python",
   "pygments_lexer": "ipython3",
   "version": "3.9.13"
  },
  "toc": {
   "base_numbering": 1,
   "nav_menu": {},
   "number_sections": true,
   "sideBar": true,
   "skip_h1_title": true,
   "title_cell": "Table of Contents",
   "title_sidebar": "Contents",
   "toc_cell": false,
   "toc_position": {
    "height": "calc(100% - 180px)",
    "left": "10px",
    "top": "150px",
    "width": "228px"
   },
   "toc_section_display": true,
   "toc_window_display": true
  }
 },
 "nbformat": 4,
 "nbformat_minor": 1
}
