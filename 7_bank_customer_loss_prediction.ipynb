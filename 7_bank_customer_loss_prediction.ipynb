{
 "cells": [
  {
   "cell_type": "markdown",
   "metadata": {
    "toc": true
   },
   "source": [
    "<h1>Содержание<span class=\"tocSkip\"></span></h1>\n",
    "<div class=\"toc\"><ul class=\"toc-item\"><li><ul class=\"toc-item\"><li><ul class=\"toc-item\"><li><span><a href=\"#Вывод\" data-toc-modified-id=\"Вывод-0.0.1\"><span class=\"toc-item-num\">0.0.1&nbsp;&nbsp;</span>Вывод</a></span></li></ul></li><li><span><a href=\"#Переименуем-столбцы\" data-toc-modified-id=\"Переименуем-столбцы-0.1\"><span class=\"toc-item-num\">0.1&nbsp;&nbsp;</span>Переименуем столбцы</a></span></li><li><span><a href=\"#Предобработка-данных\" data-toc-modified-id=\"Предобработка-данных-0.2\"><span class=\"toc-item-num\">0.2&nbsp;&nbsp;</span>Предобработка данных</a></span></li><li><span><a href=\"#Обработка-категориальных-признаков,-OHE\" data-toc-modified-id=\"Обработка-категориальных-признаков,-OHE-0.3\"><span class=\"toc-item-num\">0.3&nbsp;&nbsp;</span>Обработка категориальных признаков, OHE</a></span></li><li><span><a href=\"#Разбиваем-на-выборки.\" data-toc-modified-id=\"Разбиваем-на-выборки.-0.4\"><span class=\"toc-item-num\">0.4&nbsp;&nbsp;</span>Разбиваем на выборки.</a></span><ul class=\"toc-item\"><li><span><a href=\"#передавать-в-параметр-cv-Greed--Randomized--Search\" data-toc-modified-id=\"передавать-в-параметр-cv-Greed--Randomized--Search-0.4.1\"><span class=\"toc-item-num\">0.4.1&nbsp;&nbsp;</span>передавать в параметр cv Greed- Randomized- Search</a></span></li></ul></li><li><span><a href=\"#Вывод:\" data-toc-modified-id=\"Вывод:-0.5\"><span class=\"toc-item-num\">0.5&nbsp;&nbsp;</span>Вывод:</a></span></li></ul></li><li><span><a href=\"#Исследование-задачи\" data-toc-modified-id=\"Исследование-задачи-1\"><span class=\"toc-item-num\">1&nbsp;&nbsp;</span>Исследование задачи</a></span><ul class=\"toc-item\"><li><span><a href=\"#Дерево-решений\" data-toc-modified-id=\"Дерево-решений-1.1\"><span class=\"toc-item-num\">1.1&nbsp;&nbsp;</span>Дерево решений</a></span><ul class=\"toc-item\"><li><span><a href=\"#RandomizedSearchCV\" data-toc-modified-id=\"RandomizedSearchCV-1.1.1\"><span class=\"toc-item-num\">1.1.1&nbsp;&nbsp;</span>RandomizedSearchCV</a></span><ul class=\"toc-item\"><li><span><a href=\"#permutation_importance\" data-toc-modified-id=\"permutation_importance-1.1.1.1\"><span class=\"toc-item-num\">1.1.1.1&nbsp;&nbsp;</span>permutation_importance</a></span></li></ul></li><li><span><a href=\"#Уточняем-с-помощью-GridSearchCV\" data-toc-modified-id=\"Уточняем-с-помощью-GridSearchCV-1.1.2\"><span class=\"toc-item-num\">1.1.2&nbsp;&nbsp;</span>Уточняем с помощью GridSearchCV</a></span></li></ul></li><li><span><a href=\"#Случайный-лес\" data-toc-modified-id=\"Случайный-лес-1.2\"><span class=\"toc-item-num\">1.2&nbsp;&nbsp;</span>Случайный лес</a></span><ul class=\"toc-item\"><li><span><a href=\"#RandomizedSearchCV\" data-toc-modified-id=\"RandomizedSearchCV-1.2.1\"><span class=\"toc-item-num\">1.2.1&nbsp;&nbsp;</span>RandomizedSearchCV</a></span></li><li><span><a href=\"#Уточняем-с-помощью-GridSearchCV\" data-toc-modified-id=\"Уточняем-с-помощью-GridSearchCV-1.2.2\"><span class=\"toc-item-num\">1.2.2&nbsp;&nbsp;</span>Уточняем с помощью GridSearchCV</a></span></li></ul></li><li><span><a href=\"#Логистическая-регрессия\" data-toc-modified-id=\"Логистическая-регрессия-1.3\"><span class=\"toc-item-num\">1.3&nbsp;&nbsp;</span>Логистическая регрессия</a></span><ul class=\"toc-item\"><li><span><a href=\"#RandomizedSearchCV\" data-toc-modified-id=\"RandomizedSearchCV-1.3.1\"><span class=\"toc-item-num\">1.3.1&nbsp;&nbsp;</span>RandomizedSearchCV</a></span></li></ul></li><li><span><a href=\"#Вывод\" data-toc-modified-id=\"Вывод-1.4\"><span class=\"toc-item-num\">1.4&nbsp;&nbsp;</span>Вывод</a></span></li></ul></li><li><span><a href=\"#Борьба-с-дисбалансом\" data-toc-modified-id=\"Борьба-с-дисбалансом-2\"><span class=\"toc-item-num\">2&nbsp;&nbsp;</span>Борьба с дисбалансом</a></span><ul class=\"toc-item\"><li><span><a href=\"#Выясняем-какой-у-нас-дисбаланс\" data-toc-modified-id=\"Выясняем-какой-у-нас-дисбаланс-2.1\"><span class=\"toc-item-num\">2.1&nbsp;&nbsp;</span>Выясняем какой у нас дисбаланс</a></span></li><li><span><a href=\"#Заранее-один-раз-масштабируем-признаки\" data-toc-modified-id=\"Заранее-один-раз-масштабируем-признаки-2.2\"><span class=\"toc-item-num\">2.2&nbsp;&nbsp;</span>Заранее один раз масштабируем признаки</a></span><ul class=\"toc-item\"><li><span><a href=\"#Уменьшение-выборки\" data-toc-modified-id=\"Уменьшение-выборки-2.2.1\"><span class=\"toc-item-num\">2.2.1&nbsp;&nbsp;</span>Уменьшение выборки</a></span></li><li><span><a href=\"#Увеличение-выборки\" data-toc-modified-id=\"Увеличение-выборки-2.2.2\"><span class=\"toc-item-num\">2.2.2&nbsp;&nbsp;</span>Увеличение выборки</a></span></li></ul></li><li><span><a href=\"#Дерево-Решений\" data-toc-modified-id=\"Дерево-Решений-2.3\"><span class=\"toc-item-num\">2.3&nbsp;&nbsp;</span>Дерево Решений</a></span><ul class=\"toc-item\"><li><span><a href=\"#Взвешивание-классов\" data-toc-modified-id=\"Взвешивание-классов-2.3.1\"><span class=\"toc-item-num\">2.3.1&nbsp;&nbsp;</span>Взвешивание классов</a></span><ul class=\"toc-item\"><li><span><a href=\"#RandomizedSearchCV\" data-toc-modified-id=\"RandomizedSearchCV-2.3.1.1\"><span class=\"toc-item-num\">2.3.1.1&nbsp;&nbsp;</span>RandomizedSearchCV</a></span></li><li><span><a href=\"#GreedSearch\" data-toc-modified-id=\"GreedSearch-2.3.1.2\"><span class=\"toc-item-num\">2.3.1.2&nbsp;&nbsp;</span>GreedSearch</a></span></li></ul></li><li><span><a href=\"#Уменьшение-выборки---RandomizedSearchCV\" data-toc-modified-id=\"Уменьшение-выборки---RandomizedSearchCV-2.3.2\"><span class=\"toc-item-num\">2.3.2&nbsp;&nbsp;</span>Уменьшение выборки - RandomizedSearchCV</a></span></li><li><span><a href=\"#Увеличение-выборки---RandomizedSearchCV\" data-toc-modified-id=\"Увеличение-выборки---RandomizedSearchCV-2.3.3\"><span class=\"toc-item-num\">2.3.3&nbsp;&nbsp;</span>Увеличение выборки - RandomizedSearchCV</a></span></li></ul></li><li><span><a href=\"#Случайный-лес\" data-toc-modified-id=\"Случайный-лес-2.4\"><span class=\"toc-item-num\">2.4&nbsp;&nbsp;</span>Случайный лес</a></span><ul class=\"toc-item\"><li><span><a href=\"#Взвешивание-классов---RandomizedSearchCV\" data-toc-modified-id=\"Взвешивание-классов---RandomizedSearchCV-2.4.1\"><span class=\"toc-item-num\">2.4.1&nbsp;&nbsp;</span>Взвешивание классов - RandomizedSearchCV</a></span></li><li><span><a href=\"#Взвешивание-классов---GreedSearchCV\" data-toc-modified-id=\"Взвешивание-классов---GreedSearchCV-2.4.2\"><span class=\"toc-item-num\">2.4.2&nbsp;&nbsp;</span>Взвешивание классов - GreedSearchCV</a></span></li><li><span><a href=\"#Уменьшение-выборки---RandomizedSearchCV\" data-toc-modified-id=\"Уменьшение-выборки---RandomizedSearchCV-2.4.3\"><span class=\"toc-item-num\">2.4.3&nbsp;&nbsp;</span>Уменьшение выборки - RandomizedSearchCV</a></span></li><li><span><a href=\"#Увеличение-выборки---RandomizedSearchCV\" data-toc-modified-id=\"Увеличение-выборки---RandomizedSearchCV-2.4.4\"><span class=\"toc-item-num\">2.4.4&nbsp;&nbsp;</span>Увеличение выборки - RandomizedSearchCV</a></span></li></ul></li><li><span><a href=\"#Логистическая-регрессия\" data-toc-modified-id=\"Логистическая-регрессия-2.5\"><span class=\"toc-item-num\">2.5&nbsp;&nbsp;</span>Логистическая регрессия</a></span><ul class=\"toc-item\"><li><span><a href=\"#Взвешивание-классов---RandomizedSearchCV\" data-toc-modified-id=\"Взвешивание-классов---RandomizedSearchCV-2.5.1\"><span class=\"toc-item-num\">2.5.1&nbsp;&nbsp;</span>Взвешивание классов - RandomizedSearchCV</a></span></li><li><span><a href=\"#Взвешивание-классов---GreedSearch\" data-toc-modified-id=\"Взвешивание-классов---GreedSearch-2.5.2\"><span class=\"toc-item-num\">2.5.2&nbsp;&nbsp;</span>Взвешивание классов - GreedSearch</a></span></li><li><span><a href=\"#Уменьшение-выборки---RandomizedSearchCV\" data-toc-modified-id=\"Уменьшение-выборки---RandomizedSearchCV-2.5.3\"><span class=\"toc-item-num\">2.5.3&nbsp;&nbsp;</span>Уменьшение выборки - RandomizedSearchCV</a></span></li><li><span><a href=\"#Увеличение-выборки---RandomizedSearchCV\" data-toc-modified-id=\"Увеличение-выборки---RandomizedSearchCV-2.5.4\"><span class=\"toc-item-num\">2.5.4&nbsp;&nbsp;</span>Увеличение выборки - RandomizedSearchCV</a></span></li></ul></li><li><span><a href=\"#Вывод-V1\" data-toc-modified-id=\"Вывод-V1-2.6\"><span class=\"toc-item-num\">2.6&nbsp;&nbsp;</span>Вывод V1</a></span></li><li><span><a href=\"#Вывод-V3\" data-toc-modified-id=\"Вывод-V3-2.7\"><span class=\"toc-item-num\">2.7&nbsp;&nbsp;</span>Вывод V3</a></span></li></ul></li><li><span><a href=\"#Тестирование-моделей\" data-toc-modified-id=\"Тестирование-моделей-3\"><span class=\"toc-item-num\">3&nbsp;&nbsp;</span>Тестирование моделей</a></span><ul class=\"toc-item\"><li><span><a href=\"#Дерево-решений---Увеличение-выборки\" data-toc-modified-id=\"Дерево-решений---Увеличение-выборки-3.1\"><span class=\"toc-item-num\">3.1&nbsp;&nbsp;</span>Дерево решений - Увеличение выборки</a></span></li><li><span><a href=\"#Случайный-лес---Увеличение-выборки\" data-toc-modified-id=\"Случайный-лес---Увеличение-выборки-3.2\"><span class=\"toc-item-num\">3.2&nbsp;&nbsp;</span>Случайный лес - Увеличение выборки</a></span></li><li><span><a href=\"#Вывод-V2\" data-toc-modified-id=\"Вывод-V2-3.3\"><span class=\"toc-item-num\">3.3&nbsp;&nbsp;</span>Вывод V2</a></span></li><li><span><a href=\"#Вывод-V3\" data-toc-modified-id=\"Вывод-V3-3.4\"><span class=\"toc-item-num\">3.4&nbsp;&nbsp;</span>Вывод V3</a></span></li></ul></li><li><span><a href=\"#Чек-лист-готовности-проекта\" data-toc-modified-id=\"Чек-лист-готовности-проекта-4\"><span class=\"toc-item-num\">4&nbsp;&nbsp;</span>Чек-лист готовности проекта</a></span></li></ul></div>"
   ]
  },
  {
   "cell_type": "code",
   "execution_count": 2,
   "metadata": {},
   "outputs": [],
   "source": [
    "warnings.filterwarnings('ignore')"
   ]
  },
  {
   "cell_type": "code",
   "execution_count": 3,
   "metadata": {},
   "outputs": [],
   "source": [
    "df = pd.read_csv('/datasets/Churn.csv')"
   ]
  },
  {
   "cell_type": "code",
   "execution_count": 4,
   "metadata": {},
   "outputs": [
    {
     "data": {
      "text/html": [
       "<div>\n",
       "<style scoped>\n",
       "    .dataframe tbody tr th:only-of-type {\n",
       "        vertical-align: middle;\n",
       "    }\n",
       "\n",
       "    .dataframe tbody tr th {\n",
       "        vertical-align: top;\n",
       "    }\n",
       "\n",
       "    .dataframe thead th {\n",
       "        text-align: right;\n",
       "    }\n",
       "</style>\n",
       "<table border=\"1\" class=\"dataframe\">\n",
       "  <thead>\n",
       "    <tr style=\"text-align: right;\">\n",
       "      <th></th>\n",
       "      <th>RowNumber</th>\n",
       "      <th>CustomerId</th>\n",
       "      <th>Surname</th>\n",
       "      <th>CreditScore</th>\n",
       "      <th>Geography</th>\n",
       "      <th>Gender</th>\n",
       "      <th>Age</th>\n",
       "      <th>Tenure</th>\n",
       "      <th>Balance</th>\n",
       "      <th>NumOfProducts</th>\n",
       "      <th>HasCrCard</th>\n",
       "      <th>IsActiveMember</th>\n",
       "      <th>EstimatedSalary</th>\n",
       "      <th>Exited</th>\n",
       "    </tr>\n",
       "  </thead>\n",
       "  <tbody>\n",
       "    <tr>\n",
       "      <th>0</th>\n",
       "      <td>1</td>\n",
       "      <td>15634602</td>\n",
       "      <td>Hargrave</td>\n",
       "      <td>619</td>\n",
       "      <td>France</td>\n",
       "      <td>Female</td>\n",
       "      <td>42</td>\n",
       "      <td>2.0</td>\n",
       "      <td>0.00</td>\n",
       "      <td>1</td>\n",
       "      <td>1</td>\n",
       "      <td>1</td>\n",
       "      <td>101348.88</td>\n",
       "      <td>1</td>\n",
       "    </tr>\n",
       "    <tr>\n",
       "      <th>1</th>\n",
       "      <td>2</td>\n",
       "      <td>15647311</td>\n",
       "      <td>Hill</td>\n",
       "      <td>608</td>\n",
       "      <td>Spain</td>\n",
       "      <td>Female</td>\n",
       "      <td>41</td>\n",
       "      <td>1.0</td>\n",
       "      <td>83807.86</td>\n",
       "      <td>1</td>\n",
       "      <td>0</td>\n",
       "      <td>1</td>\n",
       "      <td>112542.58</td>\n",
       "      <td>0</td>\n",
       "    </tr>\n",
       "    <tr>\n",
       "      <th>2</th>\n",
       "      <td>3</td>\n",
       "      <td>15619304</td>\n",
       "      <td>Onio</td>\n",
       "      <td>502</td>\n",
       "      <td>France</td>\n",
       "      <td>Female</td>\n",
       "      <td>42</td>\n",
       "      <td>8.0</td>\n",
       "      <td>159660.80</td>\n",
       "      <td>3</td>\n",
       "      <td>1</td>\n",
       "      <td>0</td>\n",
       "      <td>113931.57</td>\n",
       "      <td>1</td>\n",
       "    </tr>\n",
       "    <tr>\n",
       "      <th>3</th>\n",
       "      <td>4</td>\n",
       "      <td>15701354</td>\n",
       "      <td>Boni</td>\n",
       "      <td>699</td>\n",
       "      <td>France</td>\n",
       "      <td>Female</td>\n",
       "      <td>39</td>\n",
       "      <td>1.0</td>\n",
       "      <td>0.00</td>\n",
       "      <td>2</td>\n",
       "      <td>0</td>\n",
       "      <td>0</td>\n",
       "      <td>93826.63</td>\n",
       "      <td>0</td>\n",
       "    </tr>\n",
       "    <tr>\n",
       "      <th>4</th>\n",
       "      <td>5</td>\n",
       "      <td>15737888</td>\n",
       "      <td>Mitchell</td>\n",
       "      <td>850</td>\n",
       "      <td>Spain</td>\n",
       "      <td>Female</td>\n",
       "      <td>43</td>\n",
       "      <td>2.0</td>\n",
       "      <td>125510.82</td>\n",
       "      <td>1</td>\n",
       "      <td>1</td>\n",
       "      <td>1</td>\n",
       "      <td>79084.10</td>\n",
       "      <td>0</td>\n",
       "    </tr>\n",
       "  </tbody>\n",
       "</table>\n",
       "</div>"
      ],
      "text/plain": [
       "   RowNumber  CustomerId   Surname  CreditScore Geography  Gender  Age  \\\n",
       "0          1    15634602  Hargrave          619    France  Female   42   \n",
       "1          2    15647311      Hill          608     Spain  Female   41   \n",
       "2          3    15619304      Onio          502    France  Female   42   \n",
       "3          4    15701354      Boni          699    France  Female   39   \n",
       "4          5    15737888  Mitchell          850     Spain  Female   43   \n",
       "\n",
       "   Tenure    Balance  NumOfProducts  HasCrCard  IsActiveMember  \\\n",
       "0     2.0       0.00              1          1               1   \n",
       "1     1.0   83807.86              1          0               1   \n",
       "2     8.0  159660.80              3          1               0   \n",
       "3     1.0       0.00              2          0               0   \n",
       "4     2.0  125510.82              1          1               1   \n",
       "\n",
       "   EstimatedSalary  Exited  \n",
       "0        101348.88       1  \n",
       "1        112542.58       0  \n",
       "2        113931.57       1  \n",
       "3         93826.63       0  \n",
       "4         79084.10       0  "
      ]
     },
     "execution_count": 4,
     "metadata": {},
     "output_type": "execute_result"
    }
   ],
   "source": [
    "df.head()"
   ]
  },
  {
   "cell_type": "code",
   "execution_count": 5,
   "metadata": {
    "scrolled": false
   },
   "outputs": [
    {
     "name": "stdout",
     "output_type": "stream",
     "text": [
      "<class 'pandas.core.frame.DataFrame'>\n",
      "RangeIndex: 10000 entries, 0 to 9999\n",
      "Data columns (total 14 columns):\n",
      " #   Column           Non-Null Count  Dtype  \n",
      "---  ------           --------------  -----  \n",
      " 0   RowNumber        10000 non-null  int64  \n",
      " 1   CustomerId       10000 non-null  int64  \n",
      " 2   Surname          10000 non-null  object \n",
      " 3   CreditScore      10000 non-null  int64  \n",
      " 4   Geography        10000 non-null  object \n",
      " 5   Gender           10000 non-null  object \n",
      " 6   Age              10000 non-null  int64  \n",
      " 7   Tenure           9091 non-null   float64\n",
      " 8   Balance          10000 non-null  float64\n",
      " 9   NumOfProducts    10000 non-null  int64  \n",
      " 10  HasCrCard        10000 non-null  int64  \n",
      " 11  IsActiveMember   10000 non-null  int64  \n",
      " 12  EstimatedSalary  10000 non-null  float64\n",
      " 13  Exited           10000 non-null  int64  \n",
      "dtypes: float64(3), int64(8), object(3)\n",
      "memory usage: 1.1+ MB\n"
     ]
    }
   ],
   "source": [
    "df.info()"
   ]
  },
  {
   "cell_type": "code",
   "execution_count": 6,
   "metadata": {
    "scrolled": false
   },
   "outputs": [
    {
     "data": {
      "image/png": "[encoded data removed]",
      "text/plain": [
       "<Figure size 1080x1080 with 12 Axes>"
      ]
     },
     "metadata": {
      "needs_background": "light"
     },
     "output_type": "display_data"
    }
   ],
   "source": [
    "df.hist(figsize=(15,15));"
   ]
  },
  {
   "cell_type": "code",
   "execution_count": 7,
   "metadata": {},
   "outputs": [
    {
     "data": {
      "text/html": [
       "<div>\n",
       "<style scoped>\n",
       "    .dataframe tbody tr th:only-of-type {\n",
       "        vertical-align: middle;\n",
       "    }\n",
       "\n",
       "    .dataframe tbody tr th {\n",
       "        vertical-align: top;\n",
       "    }\n",
       "\n",
       "    .dataframe thead th {\n",
       "        text-align: right;\n",
       "    }\n",
       "</style>\n",
       "<table border=\"1\" class=\"dataframe\">\n",
       "  <thead>\n",
       "    <tr style=\"text-align: right;\">\n",
       "      <th></th>\n",
       "      <th>RowNumber</th>\n",
       "      <th>CustomerId</th>\n",
       "      <th>CreditScore</th>\n",
       "      <th>Age</th>\n",
       "      <th>Tenure</th>\n",
       "      <th>Balance</th>\n",
       "      <th>NumOfProducts</th>\n",
       "      <th>HasCrCard</th>\n",
       "      <th>IsActiveMember</th>\n",
       "      <th>EstimatedSalary</th>\n",
       "      <th>Exited</th>\n",
       "    </tr>\n",
       "  </thead>\n",
       "  <tbody>\n",
       "    <tr>\n",
       "      <th>count</th>\n",
       "      <td>10000.00000</td>\n",
       "      <td>1.000000e+04</td>\n",
       "      <td>10000.000000</td>\n",
       "      <td>10000.000000</td>\n",
       "      <td>9091.000000</td>\n",
       "      <td>10000.000000</td>\n",
       "      <td>10000.000000</td>\n",
       "      <td>10000.00000</td>\n",
       "      <td>10000.000000</td>\n",
       "      <td>10000.000000</td>\n",
       "      <td>10000.000000</td>\n",
       "    </tr>\n",
       "    <tr>\n",
       "      <th>mean</th>\n",
       "      <td>5000.50000</td>\n",
       "      <td>1.569094e+07</td>\n",
       "      <td>650.528800</td>\n",
       "      <td>38.921800</td>\n",
       "      <td>4.997690</td>\n",
       "      <td>76485.889288</td>\n",
       "      <td>1.530200</td>\n",
       "      <td>0.70550</td>\n",
       "      <td>0.515100</td>\n",
       "      <td>100090.239881</td>\n",
       "      <td>0.203700</td>\n",
       "    </tr>\n",
       "    <tr>\n",
       "      <th>std</th>\n",
       "      <td>2886.89568</td>\n",
       "      <td>7.193619e+04</td>\n",
       "      <td>96.653299</td>\n",
       "      <td>10.487806</td>\n",
       "      <td>2.894723</td>\n",
       "      <td>62397.405202</td>\n",
       "      <td>0.581654</td>\n",
       "      <td>0.45584</td>\n",
       "      <td>0.499797</td>\n",
       "      <td>57510.492818</td>\n",
       "      <td>0.402769</td>\n",
       "    </tr>\n",
       "    <tr>\n",
       "      <th>min</th>\n",
       "      <td>1.00000</td>\n",
       "      <td>1.556570e+07</td>\n",
       "      <td>350.000000</td>\n",
       "      <td>18.000000</td>\n",
       "      <td>0.000000</td>\n",
       "      <td>0.000000</td>\n",
       "      <td>1.000000</td>\n",
       "      <td>0.00000</td>\n",
       "      <td>0.000000</td>\n",
       "      <td>11.580000</td>\n",
       "      <td>0.000000</td>\n",
       "    </tr>\n",
       "    <tr>\n",
       "      <th>25%</th>\n",
       "      <td>2500.75000</td>\n",
       "      <td>1.562853e+07</td>\n",
       "      <td>584.000000</td>\n",
       "      <td>32.000000</td>\n",
       "      <td>2.000000</td>\n",
       "      <td>0.000000</td>\n",
       "      <td>1.000000</td>\n",
       "      <td>0.00000</td>\n",
       "      <td>0.000000</td>\n",
       "      <td>51002.110000</td>\n",
       "      <td>0.000000</td>\n",
       "    </tr>\n",
       "    <tr>\n",
       "      <th>50%</th>\n",
       "      <td>5000.50000</td>\n",
       "      <td>1.569074e+07</td>\n",
       "      <td>652.000000</td>\n",
       "      <td>37.000000</td>\n",
       "      <td>5.000000</td>\n",
       "      <td>97198.540000</td>\n",
       "      <td>1.000000</td>\n",
       "      <td>1.00000</td>\n",
       "      <td>1.000000</td>\n",
       "      <td>100193.915000</td>\n",
       "      <td>0.000000</td>\n",
       "    </tr>\n",
       "    <tr>\n",
       "      <th>75%</th>\n",
       "      <td>7500.25000</td>\n",
       "      <td>1.575323e+07</td>\n",
       "      <td>718.000000</td>\n",
       "      <td>44.000000</td>\n",
       "      <td>7.000000</td>\n",
       "      <td>127644.240000</td>\n",
       "      <td>2.000000</td>\n",
       "      <td>1.00000</td>\n",
       "      <td>1.000000</td>\n",
       "      <td>149388.247500</td>\n",
       "      <td>0.000000</td>\n",
       "    </tr>\n",
       "    <tr>\n",
       "      <th>max</th>\n",
       "      <td>10000.00000</td>\n",
       "      <td>1.581569e+07</td>\n",
       "      <td>850.000000</td>\n",
       "      <td>92.000000</td>\n",
       "      <td>10.000000</td>\n",
       "      <td>250898.090000</td>\n",
       "      <td>4.000000</td>\n",
       "      <td>1.00000</td>\n",
       "      <td>1.000000</td>\n",
       "      <td>199992.480000</td>\n",
       "      <td>1.000000</td>\n",
       "    </tr>\n",
       "  </tbody>\n",
       "</table>\n",
       "</div>"
      ],
      "text/plain": [
       "         RowNumber    CustomerId   CreditScore           Age       Tenure  \\\n",
       "count  10000.00000  1.000000e+04  10000.000000  10000.000000  9091.000000   \n",
       "mean    5000.50000  1.569094e+07    650.528800     38.921800     4.997690   \n",
       "std     2886.89568  7.193619e+04     96.653299     10.487806     2.894723   \n",
       "min        1.00000  1.556570e+07    350.000000     18.000000     0.000000   \n",
       "25%     2500.75000  1.562853e+07    584.000000     32.000000     2.000000   \n",
       "50%     5000.50000  1.569074e+07    652.000000     37.000000     5.000000   \n",
       "75%     7500.25000  1.575323e+07    718.000000     44.000000     7.000000   \n",
       "max    10000.00000  1.581569e+07    850.000000     92.000000    10.000000   \n",
       "\n",
       "             Balance  NumOfProducts    HasCrCard  IsActiveMember  \\\n",
       "count   10000.000000   10000.000000  10000.00000    10000.000000   \n",
       "mean    76485.889288       1.530200      0.70550        0.515100   \n",
       "std     62397.405202       0.581654      0.45584        0.499797   \n",
       "min         0.000000       1.000000      0.00000        0.000000   \n",
       "25%         0.000000       1.000000      0.00000        0.000000   \n",
       "50%     97198.540000       1.000000      1.00000        1.000000   \n",
       "75%    127644.240000       2.000000      1.00000        1.000000   \n",
       "max    250898.090000       4.000000      1.00000        1.000000   \n",
       "\n",
       "       EstimatedSalary        Exited  \n",
       "count     10000.000000  10000.000000  \n",
       "mean     100090.239881      0.203700  \n",
       "std       57510.492818      0.402769  \n",
       "min          11.580000      0.000000  \n",
       "25%       51002.110000      0.000000  \n",
       "50%      100193.915000      0.000000  \n",
       "75%      149388.247500      0.000000  \n",
       "max      199992.480000      1.000000  "
      ]
     },
     "execution_count": 7,
     "metadata": {},
     "output_type": "execute_result"
    }
   ],
   "source": [
    "df.describe()"
   ]
  },
  {
   "cell_type": "markdown",
   "metadata": {},
   "source": [
    "#### Вывод\n",
    "Сморим на распределение данных, ищем аномалии.\n",
    "По графику Exited виден дисбаланс классов.\n",
    "Так же есть дисбаланс в данных 'HasCrCard' и 'NumOfProducts'.\n",
    "Отдельно стоит отметить наличие большого количества клиентов с нулевым балансом."
   ]
  },
  {
   "cell_type": "markdown",
   "metadata": {},
   "source": [
    "### Переименуем столбцы"
   ]
  },
  {
   "cell_type": "code",
   "execution_count": 8,
   "metadata": {},
   "outputs": [
    {
     "data": {
      "text/plain": [
       "Index(['RowNumber', 'CustomerId', 'Surname', 'CreditScore', 'Geography',\n",
       "       'Gender', 'Age', 'Tenure', 'Balance', 'NumOfProducts', 'HasCrCard',\n",
       "       'IsActiveMember', 'EstimatedSalary', 'Exited'],\n",
       "      dtype='object')"
      ]
     },
     "execution_count": 8,
     "metadata": {},
     "output_type": "execute_result"
    }
   ],
   "source": [
    "df.columns"
   ]
  },
  {
   "cell_type": "code",
   "execution_count": 9,
   "metadata": {},
   "outputs": [],
   "source": [
    "df.columns = ['Row_Number', 'Customer_Id', 'Surname', 'Credit_Score', 'Geography',\n",
    "       'Gender', 'Age', 'Tenure', 'Balance', 'Num_Of_Products', 'Has_Credit_Card',\n",
    "       'Is_Active_Member', 'Estimated_Salary', 'Exited']\n",
    "\n",
    "df.columns = df.columns.str.lower()"
   ]
  },
  {
   "cell_type": "code",
   "execution_count": 10,
   "metadata": {
    "scrolled": false
   },
   "outputs": [
    {
     "data": {
      "text/plain": [
       "Index(['row_number', 'customer_id', 'surname', 'credit_score', 'geography',\n",
       "       'gender', 'age', 'tenure', 'balance', 'num_of_products',\n",
       "       'has_credit_card', 'is_active_member', 'estimated_salary', 'exited'],\n",
       "      dtype='object')"
      ]
     },
     "execution_count": 10,
     "metadata": {},
     "output_type": "execute_result"
    }
   ],
   "source": [
    "df.columns"
   ]
  },
  {
   "cell_type": "markdown",
   "metadata": {},
   "source": [
    "### Предобработка данных"
   ]
  },
  {
   "cell_type": "markdown",
   "metadata": {},
   "source": [
    "Посмотрим что такое `row_number`:"
   ]
  },
  {
   "cell_type": "code",
   "execution_count": 11,
   "metadata": {},
   "outputs": [
    {
     "name": "stdout",
     "output_type": "stream",
     "text": [
      "[    1     2     3 ...  9998  9999 10000]\n",
      "10000\n"
     ]
    }
   ],
   "source": [
    "print(df['row_number'].unique())\n",
    "print(df['row_number'].unique().shape[0])"
   ]
  },
  {
   "cell_type": "markdown",
   "metadata": {},
   "source": [
    "`row_number` - лишний параметр, дублирует индекс."
   ]
  },
  {
   "cell_type": "code",
   "execution_count": 12,
   "metadata": {},
   "outputs": [],
   "source": [
    "df = df.drop(columns=['row_number','customer_id'])\n",
    "df.reset_index(drop=True,inplace=True)"
   ]
  },
  {
   "cell_type": "markdown",
   "metadata": {},
   "source": [
    "Посмотрим на данные колонки `tenure` c NaN:"
   ]
  },
  {
   "cell_type": "code",
   "execution_count": 13,
   "metadata": {},
   "outputs": [
    {
     "data": {
      "text/html": [
       "<div>\n",
       "<style scoped>\n",
       "    .dataframe tbody tr th:only-of-type {\n",
       "        vertical-align: middle;\n",
       "    }\n",
       "\n",
       "    .dataframe tbody tr th {\n",
       "        vertical-align: top;\n",
       "    }\n",
       "\n",
       "    .dataframe thead th {\n",
       "        text-align: right;\n",
       "    }\n",
       "</style>\n",
       "<table border=\"1\" class=\"dataframe\">\n",
       "  <thead>\n",
       "    <tr style=\"text-align: right;\">\n",
       "      <th></th>\n",
       "      <th>surname</th>\n",
       "      <th>credit_score</th>\n",
       "      <th>geography</th>\n",
       "      <th>gender</th>\n",
       "      <th>age</th>\n",
       "      <th>tenure</th>\n",
       "      <th>balance</th>\n",
       "      <th>num_of_products</th>\n",
       "      <th>has_credit_card</th>\n",
       "      <th>is_active_member</th>\n",
       "      <th>estimated_salary</th>\n",
       "      <th>exited</th>\n",
       "    </tr>\n",
       "  </thead>\n",
       "  <tbody>\n",
       "    <tr>\n",
       "      <th>30</th>\n",
       "      <td>Azikiwe</td>\n",
       "      <td>591</td>\n",
       "      <td>Spain</td>\n",
       "      <td>Female</td>\n",
       "      <td>39</td>\n",
       "      <td>NaN</td>\n",
       "      <td>0.00</td>\n",
       "      <td>3</td>\n",
       "      <td>1</td>\n",
       "      <td>0</td>\n",
       "      <td>140469.38</td>\n",
       "      <td>1</td>\n",
       "    </tr>\n",
       "    <tr>\n",
       "      <th>48</th>\n",
       "      <td>Yin</td>\n",
       "      <td>550</td>\n",
       "      <td>Germany</td>\n",
       "      <td>Male</td>\n",
       "      <td>38</td>\n",
       "      <td>NaN</td>\n",
       "      <td>103391.38</td>\n",
       "      <td>1</td>\n",
       "      <td>0</td>\n",
       "      <td>1</td>\n",
       "      <td>90878.13</td>\n",
       "      <td>0</td>\n",
       "    </tr>\n",
       "    <tr>\n",
       "      <th>51</th>\n",
       "      <td>Trevisani</td>\n",
       "      <td>585</td>\n",
       "      <td>Germany</td>\n",
       "      <td>Male</td>\n",
       "      <td>36</td>\n",
       "      <td>NaN</td>\n",
       "      <td>146050.97</td>\n",
       "      <td>2</td>\n",
       "      <td>0</td>\n",
       "      <td>0</td>\n",
       "      <td>86424.57</td>\n",
       "      <td>0</td>\n",
       "    </tr>\n",
       "    <tr>\n",
       "      <th>53</th>\n",
       "      <td>Parkhill</td>\n",
       "      <td>655</td>\n",
       "      <td>Germany</td>\n",
       "      <td>Male</td>\n",
       "      <td>41</td>\n",
       "      <td>NaN</td>\n",
       "      <td>125561.97</td>\n",
       "      <td>1</td>\n",
       "      <td>0</td>\n",
       "      <td>0</td>\n",
       "      <td>164040.94</td>\n",
       "      <td>1</td>\n",
       "    </tr>\n",
       "    <tr>\n",
       "      <th>60</th>\n",
       "      <td>Hunter</td>\n",
       "      <td>742</td>\n",
       "      <td>Germany</td>\n",
       "      <td>Male</td>\n",
       "      <td>35</td>\n",
       "      <td>NaN</td>\n",
       "      <td>136857.00</td>\n",
       "      <td>1</td>\n",
       "      <td>0</td>\n",
       "      <td>0</td>\n",
       "      <td>84509.57</td>\n",
       "      <td>0</td>\n",
       "    </tr>\n",
       "  </tbody>\n",
       "</table>\n",
       "</div>"
      ],
      "text/plain": [
       "      surname  credit_score geography  gender  age  tenure    balance  \\\n",
       "30    Azikiwe           591     Spain  Female   39     NaN       0.00   \n",
       "48        Yin           550   Germany    Male   38     NaN  103391.38   \n",
       "51  Trevisani           585   Germany    Male   36     NaN  146050.97   \n",
       "53   Parkhill           655   Germany    Male   41     NaN  125561.97   \n",
       "60     Hunter           742   Germany    Male   35     NaN  136857.00   \n",
       "\n",
       "    num_of_products  has_credit_card  is_active_member  estimated_salary  \\\n",
       "30                3                1                 0         140469.38   \n",
       "48                1                0                 1          90878.13   \n",
       "51                2                0                 0          86424.57   \n",
       "53                1                0                 0         164040.94   \n",
       "60                1                0                 0          84509.57   \n",
       "\n",
       "    exited  \n",
       "30       1  \n",
       "48       0  \n",
       "51       0  \n",
       "53       1  \n",
       "60       0  "
      ]
     },
     "execution_count": 13,
     "metadata": {},
     "output_type": "execute_result"
    }
   ],
   "source": [
    "df[df['tenure'].isna()].head()"
   ]
  },
  {
   "cell_type": "markdown",
   "metadata": {},
   "source": [
    "`Tenure` - это сколько лет человек является клиентом банка.\\\n",
    "Тут есть 909 NaN или 9%.\\\n",
    "Можно сделать One-Hot Encoding и учитывать в модели всё-равно."
   ]
  },
  {
   "cell_type": "code",
   "execution_count": 14,
   "metadata": {},
   "outputs": [],
   "source": [
    "df.dropna(subset=['tenure'], inplace=True)\n",
    "df.reset_index(drop=True, inplace=True)"
   ]
  },
  {
   "cell_type": "markdown",
   "metadata": {},
   "source": [
    "На гистограмме `Balance` видим выброс. Это клиенты у которых был нулевой баланс. проверим сколько их, потому что для банка клиенты с нулевым балансом, возможно, не особо интересны..."
   ]
  },
  {
   "cell_type": "code",
   "execution_count": 15,
   "metadata": {
    "scrolled": true
   },
   "outputs": [
    {
     "name": "stdout",
     "output_type": "stream",
     "text": [
      "Всего клиентов, которые ушли: 1854\n",
      "Клиенты с нулевым балансом: 3283\n",
      "Клиенты, которые ушли и с нулевым балансом: 452\n"
     ]
    }
   ],
   "source": [
    "print('Всего клиентов, которые ушли:',df[df['exited']==1]['balance'].count())\n",
    "print('Клиенты с нулевым балансом:', df[df['balance']==0]['balance'].count())\n",
    "print('Клиенты, которые ушли и с нулевым балансом:'\n",
    "      , df[(df['balance']==0) & (df['exited']==1)]['balance'].count())"
   ]
  },
  {
   "cell_type": "code",
   "execution_count": 16,
   "metadata": {
    "scrolled": false
   },
   "outputs": [
    {
     "data": {
      "image/png": "[encoded data removed]",
      "text/plain": [
       "<Figure size 432x288 with 1 Axes>"
      ]
     },
     "metadata": {
      "needs_background": "light"
     },
     "output_type": "display_data"
    }
   ],
   "source": [
    "df['balance'].hist();"
   ]
  },
  {
   "cell_type": "code",
   "execution_count": 17,
   "metadata": {
    "scrolled": true
   },
   "outputs": [
    {
     "name": "stdout",
     "output_type": "stream",
     "text": [
      "Количетво явных дубликатов: 0\n"
     ]
    }
   ],
   "source": [
    "print('Количетво явных дубликатов:', df.duplicated().sum())"
   ]
  },
  {
   "cell_type": "markdown",
   "metadata": {},
   "source": [
    "### Обработка категориальных признаков, OHE\n",
    "У нас три категориальных признака: `surname`, `geography`, `gender`"
   ]
  },
  {
   "cell_type": "markdown",
   "metadata": {},
   "source": [
    "Хорошо бы удалить `surname` т.к. это персональная информация. А работать лучше с обезличенной, такой как id."
   ]
  },
  {
   "cell_type": "code",
   "execution_count": 18,
   "metadata": {},
   "outputs": [],
   "source": [
    "df = df.drop(columns='surname')\n",
    "df.reset_index(drop=True,inplace=True)"
   ]
  },
  {
   "cell_type": "code",
   "execution_count": 19,
   "metadata": {
    "scrolled": true
   },
   "outputs": [
    {
     "data": {
      "text/plain": [
       "array(['France', 'Spain', 'Germany'], dtype=object)"
      ]
     },
     "execution_count": 19,
     "metadata": {},
     "output_type": "execute_result"
    }
   ],
   "source": [
    "df['geography'].unique()"
   ]
  },
  {
   "cell_type": "markdown",
   "metadata": {},
   "source": [
    "Сделаем OHE для категориальных признаков.\n",
    "Отдельно сделаем OHE для tenure, чтобы учесть NaN."
   ]
  },
  {
   "cell_type": "code",
   "execution_count": 20,
   "metadata": {},
   "outputs": [],
   "source": [
    "df_ohe = pd.get_dummies(df, drop_first=True)"
   ]
  },
  {
   "cell_type": "code",
   "execution_count": 21,
   "metadata": {
    "scrolled": false
   },
   "outputs": [
    {
     "name": "stdout",
     "output_type": "stream",
     "text": [
      "<class 'pandas.core.frame.DataFrame'>\n",
      "RangeIndex: 9091 entries, 0 to 9090\n",
      "Data columns (total 21 columns):\n",
      " #   Column             Non-Null Count  Dtype  \n",
      "---  ------             --------------  -----  \n",
      " 0   credit_score       9091 non-null   int64  \n",
      " 1   age                9091 non-null   int64  \n",
      " 2   balance            9091 non-null   float64\n",
      " 3   num_of_products    9091 non-null   int64  \n",
      " 4   has_credit_card    9091 non-null   int64  \n",
      " 5   is_active_member   9091 non-null   int64  \n",
      " 6   estimated_salary   9091 non-null   float64\n",
      " 7   exited             9091 non-null   int64  \n",
      " 8   geography_germany  9091 non-null   uint8  \n",
      " 9   geography_spain    9091 non-null   uint8  \n",
      " 10  gender_male        9091 non-null   uint8  \n",
      " 11  tenure_1.0         9091 non-null   uint8  \n",
      " 12  tenure_2.0         9091 non-null   uint8  \n",
      " 13  tenure_3.0         9091 non-null   uint8  \n",
      " 14  tenure_4.0         9091 non-null   uint8  \n",
      " 15  tenure_5.0         9091 non-null   uint8  \n",
      " 16  tenure_6.0         9091 non-null   uint8  \n",
      " 17  tenure_7.0         9091 non-null   uint8  \n",
      " 18  tenure_8.0         9091 non-null   uint8  \n",
      " 19  tenure_9.0         9091 non-null   uint8  \n",
      " 20  tenure_10.0        9091 non-null   uint8  \n",
      "dtypes: float64(2), int64(6), uint8(13)\n",
      "memory usage: 683.7 KB\n"
     ]
    }
   ],
   "source": [
    "df_ohe.columns = df_ohe.columns.str.lower()\n",
    "df_ohe.info()"
   ]
  },
  {
   "cell_type": "markdown",
   "metadata": {},
   "source": [
    "### Разбиваем на выборки."
   ]
  },
  {
   "cell_type": "markdown",
   "metadata": {},
   "source": [
    "Разбиваем на две выборки: обучающую и тестовую, потому что подбирать гиперпараметры будем с помощью RandomizedSearchCV и GridSearchCV\n",
    "\n",
    "- [x] stratify посмотреть !"
   ]
  },
  {
   "cell_type": "code",
   "execution_count": 22,
   "metadata": {},
   "outputs": [],
   "source": [
    "X = df_ohe.drop(['exited'], axis=1)\n",
    "y = df_ohe['exited']"
   ]
  },
  {
   "cell_type": "code",
   "execution_count": 23,
   "metadata": {},
   "outputs": [],
   "source": [
    "features_train, features_test, target_train, target_test = train_test_split(X, y, random_state=12345, stratify=y, test_size=0.25)"
   ]
  },
  {
   "cell_type": "markdown",
   "metadata": {},
   "source": [
    "### Вывод: \n",
    "Сделали преодобработку данных:\n",
    "- [x] Переименовать колонки в lowercase.\n",
    "- [x] Обработать NaN.\n",
    "- [x] Внимательно изучить разброс данных, есть ли выбросы, обработать.\n",
    "- [x] Разбить на выборки"
   ]
  },
  {
   "cell_type": "markdown",
   "metadata": {},
   "source": [
    "## Исследование задачи"
   ]
  },
  {
   "cell_type": "markdown",
   "metadata": {},
   "source": [
    "### Дерево решений "
   ]
  },
  {
   "cell_type": "markdown",
   "metadata": {},
   "source": [
    "#### RandomizedSearchCV"
   ]
  },
  {
   "cell_type": "code",
   "execution_count": 25,
   "metadata": {
    "scrolled": false
   },
   "outputs": [
    {
     "name": "stdout",
     "output_type": "stream",
     "text": [
      "Best f1 score of Randomized Search over 1,000 iterations: 0.5803339712469849\n",
      "Best params: {'max_depth': 67, 'min_samples_leaf': 8, 'min_samples_split': 94}\n",
      "CPU times: user 1min 5s, sys: 193 ms, total: 1min 5s\n",
      "Wall time: 1min 5s\n"
     ]
    }
   ],
   "source": [
    "%%time\n",
    "\n",
    "param = {\n",
    "    'max_depth': randint(1, 100)\n",
    "    , 'min_samples_leaf': randint(1, 100)\n",
    "    , 'min_samples_split': randint(2, 100)\n",
    "}\n",
    "\n",
    "model = DecisionTreeClassifier(random_state=12345,criterion='entropy')\n",
    "\n",
    "randomsearch = RandomizedSearchCV(model\n",
    "                                  , param_distributions=param\n",
    "                                  , n_iter=1000\n",
    "                                  , cv=3\n",
    "                                  , n_jobs=-1\n",
    "                                  , scoring='f1'\n",
    "                                  , return_train_score=True\n",
    "                                  , random_state=12345)\n",
    "\n",
    "randomsearch.fit(features_train, target_train)\n",
    "print('Best f1 score of Randomized Search over 1,000 iterations:', randomsearch.best_score_)\n",
    "print('Best params:', randomsearch.best_params_)"
   ]
  },
  {
   "cell_type": "markdown",
   "metadata": {},
   "source": [
    "##### permutation_importance"
   ]
  },
  {
   "cell_type": "code",
   "execution_count": 26,
   "metadata": {
    "scrolled": false
   },
   "outputs": [
    {
     "data": {
      "text/plain": [
       "Index(['credit_score', 'age', 'balance', 'num_of_products', 'has_credit_card',\n",
       "       'is_active_member', 'estimated_salary', 'geography_germany',\n",
       "       'geography_spain', 'gender_male', 'tenure_1.0', 'tenure_2.0',\n",
       "       'tenure_3.0', 'tenure_4.0', 'tenure_5.0', 'tenure_6.0', 'tenure_7.0',\n",
       "       'tenure_8.0', 'tenure_9.0', 'tenure_10.0'],\n",
       "      dtype='object')"
      ]
     },
     "execution_count": 26,
     "metadata": {},
     "output_type": "execute_result"
    }
   ],
   "source": [
    "features_train.columns"
   ]
  },
  {
   "cell_type": "code",
   "execution_count": 27,
   "metadata": {
    "scrolled": true
   },
   "outputs": [
    {
     "data": {
      "image/png": "[encoded data removed]",
      "text/plain": [
       "<Figure size 432x288 with 1 Axes>"
      ]
     },
     "metadata": {
      "needs_background": "light"
     },
     "output_type": "display_data"
    }
   ],
   "source": [
    "model.fit(features_train, target_train)\n",
    "\n",
    "import numpy as np\n",
    "from sklearn.inspection import permutation_importance\n",
    "from matplotlib import pyplot\n",
    "\n",
    "results = permutation_importance(model, features_train, target_train, scoring='f1')\n",
    "\n",
    "importance = results.importances_mean\n",
    "\n",
    "pyplot.bar([x for x in range(len(importance))] ,importance)\n",
    "pyplot.show()"
   ]
  },
  {
   "cell_type": "markdown",
   "metadata": {},
   "source": [
    "#### Уточняем с помощью GridSearchCV"
   ]
  },
  {
   "cell_type": "code",
   "execution_count": 28,
   "metadata": {
    "scrolled": false
   },
   "outputs": [
    {
     "name": "stdout",
     "output_type": "stream",
     "text": [
      "Best f1 score: 0.5803339712469849\n",
      "Best params: {'max_depth': 64, 'min_samples_leaf': 8, 'min_samples_split': 92}\n",
      "CPU times: user 15.5 s, sys: 15.9 ms, total: 15.5 s\n",
      "Wall time: 15.5 s\n"
     ]
    }
   ],
   "source": [
    "%%time\n",
    "param = {\n",
    "    'max_depth': [*range(64, 70)]\n",
    "    , 'min_samples_leaf': [*range(5, 11)]\n",
    "    , 'min_samples_split': [*range(91, 97)]\n",
    "}\n",
    "\n",
    "model = DecisionTreeClassifier(random_state=12345\n",
    "                               , criterion='entropy')\n",
    "\n",
    "gridsearch = GridSearchCV(model\n",
    "                          , param_grid=param\n",
    "                          , cv=3\n",
    "                          , n_jobs=-1\n",
    "                          , scoring='f1'\n",
    "                          , return_train_score=True)\n",
    "\n",
    "gridsearch.fit(features_train, target_train)\n",
    "print('Best f1 score:', gridsearch.best_score_)\n",
    "print('Best params:', gridsearch.best_params_)"
   ]
  },
  {
   "cell_type": "markdown",
   "metadata": {},
   "source": [
    "### Случайный лес "
   ]
  },
  {
   "cell_type": "markdown",
   "metadata": {},
   "source": [
    "#### RandomizedSearchCV"
   ]
  },
  {
   "cell_type": "code",
   "execution_count": 29,
   "metadata": {},
   "outputs": [
    {
     "name": "stdout",
     "output_type": "stream",
     "text": [
      "Best f1 score: 0.5442814807396054\n",
      "Best params: {'max_depth': 15, 'min_samples_leaf': 1, 'min_samples_split': 29, 'n_estimators': 40}\n",
      "CPU times: user 57.7 s, sys: 192 ms, total: 57.9 s\n",
      "Wall time: 58 s\n"
     ]
    }
   ],
   "source": [
    "%%time\n",
    "\n",
    "param = {\n",
    "    'n_estimators': randint(1, 100)\n",
    "    , 'max_depth': randint(1, 100)\n",
    "    , 'min_samples_leaf': randint(1, 100)\n",
    "    , 'min_samples_split': randint(2, 100)\n",
    "}\n",
    "\n",
    "model = RandomForestClassifier(random_state=12345, criterion='entropy')\n",
    "\n",
    "randomsearch = RandomizedSearchCV(model\n",
    "                                  , param_distributions=param\n",
    "                                  , n_iter=100\n",
    "                                  , cv=3\n",
    "                                  , n_jobs=-1\n",
    "                                  , scoring='f1'\n",
    "                                  , return_train_score=True\n",
    "                                  , random_state=12345)\n",
    "\n",
    "randomsearch.fit(features_train, target_train)\n",
    "print('Best f1 score:', randomsearch.best_score_)\n",
    "print('Best params:', randomsearch.best_params_)"
   ]
  },
  {
   "cell_type": "markdown",
   "metadata": {},
   "source": [
    "#### Уточняем с помощью GridSearchCV"
   ]
  },
  {
   "cell_type": "code",
   "execution_count": 30,
   "metadata": {},
   "outputs": [
    {
     "name": "stdout",
     "output_type": "stream",
     "text": [
      "Best f1 score: 0.5481687819277447\n",
      "Best params: {'max_depth': 15, 'min_samples_leaf': 3, 'min_samples_split': 28, 'n_estimators': 40}\n",
      "CPU times: user 2min 33s, sys: 560 ms, total: 2min 33s\n",
      "Wall time: 2min 33s\n"
     ]
    }
   ],
   "source": [
    "%%time\n",
    "param = {\n",
    "    'n_estimators': [*range(38, 42)]\n",
    "    , 'max_depth': [*range(13, 17)]\n",
    "    , 'min_samples_leaf': [*range(1, 4)]\n",
    "    , 'min_samples_split': [*range(26, 31)]\n",
    "}\n",
    "model = RandomForestClassifier(random_state=12345,criterion='entropy')\n",
    "gridsearch = GridSearchCV(model\n",
    "                          , param_grid=param\n",
    "                          , cv=3\n",
    "                          , n_jobs=-1\n",
    "                          , scoring='f1'\n",
    "                          , return_train_score=True)\n",
    "\n",
    "gridsearch.fit(features_train, target_train)\n",
    "print('Best f1 score:', gridsearch.best_score_)\n",
    "print('Best params:', gridsearch.best_params_)"
   ]
  },
  {
   "cell_type": "markdown",
   "metadata": {},
   "source": [
    "### Логистическая регрессия"
   ]
  },
  {
   "cell_type": "markdown",
   "metadata": {},
   "source": [
    "#### RandomizedSearchCV"
   ]
  },
  {
   "cell_type": "code",
   "execution_count": 31,
   "metadata": {
    "scrolled": true
   },
   "outputs": [
    {
     "name": "stdout",
     "output_type": "stream",
     "text": [
      "Best f1 score: 0.302464647216049\n",
      "Best params: {'C': 0.7356752467083778, 'max_iter': 35, 'penalty': 'l1'}\n",
      "CPU times: user 26.3 s, sys: 43.3 s, total: 1min 9s\n",
      "Wall time: 1min 11s\n"
     ]
    }
   ],
   "source": [
    "%%time\n",
    "\n",
    "param = {\n",
    "    'max_iter': randint(1, 100)\n",
    "    ,'penalty': ['l2', 'l1']\n",
    "    ,'C': uniform(loc=0, scale=4)\n",
    "}\n",
    "\n",
    "model = LogisticRegression(random_state=12345, solver='liblinear')\n",
    "\n",
    "randomsearch = RandomizedSearchCV(model\n",
    "                                  , param_distributions=param\n",
    "                                  , n_iter=120\n",
    "                                  , cv=3\n",
    "                                  , n_jobs=-1\n",
    "                                  , scoring='f1'\n",
    "                                  , return_train_score=True\n",
    "                                  , random_state=12345)\n",
    "\n",
    "randomsearch.fit(features_train, target_train)\n",
    "print('Best f1 score:', randomsearch.best_score_)\n",
    "print('Best params:', randomsearch.best_params_)"
   ]
  },
  {
   "cell_type": "markdown",
   "metadata": {},
   "source": [
    "### Вывод\n",
    "Достичь целевого значения F1-меры не получается. Лучшее значение F1 получаем на дереве решений."
   ]
  },
  {
   "cell_type": "markdown",
   "metadata": {},
   "source": [
    "## Борьба с дисбалансом"
   ]
  },
  {
   "cell_type": "markdown",
   "metadata": {},
   "source": [
    "### Выясняем какой у нас дисбаланс"
   ]
  },
  {
   "cell_type": "code",
   "execution_count": 32,
   "metadata": {
    "scrolled": true
   },
   "outputs": [
    {
     "name": "stdout",
     "output_type": "stream",
     "text": [
      "Ушли из банка 1854\n",
      "Не ушли 7237\n",
      "Соотношение: 3.90 к 1\n"
     ]
    },
    {
     "data": {
      "image/png": "[encoded data removed]",
      "text/plain": [
       "<Figure size 432x288 with 1 Axes>"
      ]
     },
     "metadata": {},
     "output_type": "display_data"
    }
   ],
   "source": [
    "print('Ушли из банка',df[df['exited']==1]['exited'].count())\n",
    "print('Не ушли',df[df['exited']==0]['exited'].count())\n",
    "ratio = df[df['exited']==0]['exited'].count()/df[df['exited']==1]['exited'].count()\n",
    "print('Соотношение: %.2f к 1' % ratio)\n",
    "df.groupby(by='exited')['exited'].count().plot(kind='pie');"
   ]
  },
  {
   "cell_type": "markdown",
   "metadata": {},
   "source": [
    "### Заранее один раз масштабируем признаки"
   ]
  },
  {
   "cell_type": "markdown",
   "metadata": {},
   "source": [
    "#### Уменьшение выборки"
   ]
  },
  {
   "cell_type": "code",
   "execution_count": 33,
   "metadata": {},
   "outputs": [],
   "source": [
    "def downsample(features, target, fraction):\n",
    "    features_zeros = features[target == 0]\n",
    "    features_ones = features[target == 1]\n",
    "    target_zeros = target[target == 0]\n",
    "    target_ones = target[target == 1]\n",
    "\n",
    "    features_downsampled = pd.concat(\n",
    "        [features_zeros.sample(frac=fraction, random_state=12345)] + [features_ones])\n",
    "    target_downsampled = pd.concat(\n",
    "        [target_zeros.sample(frac=fraction, random_state=12345)] + [target_ones])\n",
    "    \n",
    "    features_downsampled, target_downsampled = shuffle(\n",
    "        features_downsampled, target_downsampled, random_state=12345)\n",
    "    \n",
    "    return features_downsampled, target_downsampled\n",
    "\n",
    "features_downsampled, target_downsampled = downsample(features_train, target_train, 0.256)"
   ]
  },
  {
   "cell_type": "code",
   "execution_count": 34,
   "metadata": {},
   "outputs": [
    {
     "data": {
      "image/png": "[encoded data removed]",
      "text/plain": [
       "<Figure size 432x288 with 1 Axes>"
      ]
     },
     "metadata": {},
     "output_type": "display_data"
    }
   ],
   "source": [
    "target_downsampled.to_frame().groupby(by='exited')['exited'].count().plot(kind='pie');"
   ]
  },
  {
   "cell_type": "markdown",
   "metadata": {},
   "source": [
    "#### Увеличение выборки"
   ]
  },
  {
   "cell_type": "code",
   "execution_count": 35,
   "metadata": {},
   "outputs": [],
   "source": [
    "def upsample(features, target, repeat):\n",
    "    features_zeros = features[target == 0]\n",
    "    features_ones = features[target == 1]\n",
    "    target_zeros = target[target == 0]\n",
    "    target_ones = target[target == 1]\n",
    "\n",
    "    features_upsampled = pd.concat([features_zeros] + [features_ones] * repeat)\n",
    "    target_upsampled = pd.concat([target_zeros] + [target_ones] * repeat)\n",
    "    \n",
    "    features_upsampled, target_upsampled = shuffle(\n",
    "        features_upsampled, target_upsampled, random_state=12345)\n",
    "    \n",
    "    return features_upsampled, target_upsampled\n",
    "\n",
    "features_upsampled, target_upsampled = upsample(features_train, target_train, 4)"
   ]
  },
  {
   "cell_type": "code",
   "execution_count": 36,
   "metadata": {},
   "outputs": [
    {
     "data": {
      "image/png": "[encoded data removed]",
      "text/plain": [
       "<Figure size 432x288 with 1 Axes>"
      ]
     },
     "metadata": {},
     "output_type": "display_data"
    }
   ],
   "source": [
    "target_upsampled.to_frame().groupby(by='exited')['exited'].count().plot(kind='pie');"
   ]
  },
  {
   "cell_type": "markdown",
   "metadata": {},
   "source": [
    "### Дерево Решений"
   ]
  },
  {
   "cell_type": "markdown",
   "metadata": {},
   "source": [
    "#### Взвешивание классов"
   ]
  },
  {
   "cell_type": "markdown",
   "metadata": {},
   "source": [
    "##### RandomizedSearchCV"
   ]
  },
  {
   "cell_type": "code",
   "execution_count": 37,
   "metadata": {
    "scrolled": true
   },
   "outputs": [
    {
     "name": "stdout",
     "output_type": "stream",
     "text": [
      "Best score: 0.5769525610339704\n",
      "Best params: {'max_depth': 8, 'min_samples_leaf': 1, 'min_samples_split': 88}\n",
      "CPU times: user 1min 23s, sys: 277 ms, total: 1min 23s\n",
      "Wall time: 1min 24s\n"
     ]
    }
   ],
   "source": [
    "%%time\n",
    "\n",
    "param = {\n",
    "    'max_depth': randint(1, 100)\n",
    "    , 'min_samples_leaf': randint(1, 10)\n",
    "    , 'min_samples_split': randint(2, 100)\n",
    "}\n",
    "\n",
    "model = DecisionTreeClassifier(random_state=12345\n",
    "                               , criterion='entropy'\n",
    "                               , class_weight='balanced')\n",
    "\n",
    "randomsearch = RandomizedSearchCV(model\n",
    "                                  , param_distributions=param\n",
    "                                  , n_iter=1000\n",
    "                                  , cv=3\n",
    "                                  , n_jobs=-1\n",
    "                                  , scoring='f1'\n",
    "                                  , return_train_score=True\n",
    "                                  , random_state=12345)\n",
    "\n",
    "randomsearch.fit(features_train, target_train)\n",
    "print('Best score:', randomsearch.best_score_)\n",
    "print('Best params:', randomsearch.best_params_)"
   ]
  },
  {
   "cell_type": "markdown",
   "metadata": {},
   "source": [
    "##### GreedSearch "
   ]
  },
  {
   "cell_type": "code",
   "execution_count": 38,
   "metadata": {},
   "outputs": [
    {
     "name": "stdout",
     "output_type": "stream",
     "text": [
      "Best score: 0.5797071114502038\n",
      "Best params: {'max_depth': 8, 'min_samples_leaf': 4, 'min_samples_split': 87}\n",
      "CPU times: user 23.7 s, sys: 69.5 ms, total: 23.7 s\n",
      "Wall time: 23.9 s\n"
     ]
    }
   ],
   "source": [
    "%%time\n",
    "param = {\n",
    "    'max_depth': [*range(5, 11)]\n",
    "    , 'min_samples_leaf': [*range(1, 8)]\n",
    "    , 'min_samples_split': [*range(86, 90)]\n",
    "}\n",
    "\n",
    "model = DecisionTreeClassifier(random_state=12345\n",
    "                               , criterion='entropy'\n",
    "                               , class_weight='balanced')\n",
    "\n",
    "gridsearch = GridSearchCV(model\n",
    "                          , param_grid=param\n",
    "                          , cv=5\n",
    "                          , n_jobs=-1\n",
    "                          , scoring='f1'\n",
    "                          , return_train_score=True)\n",
    "\n",
    "gridsearch.fit(features_train, target_train)\n",
    "print('Best score:', gridsearch.best_score_)\n",
    "print('Best params:', gridsearch.best_params_)"
   ]
  },
  {
   "cell_type": "markdown",
   "metadata": {},
   "source": [
    "#### Уменьшение выборки - RandomizedSearchCV"
   ]
  },
  {
   "cell_type": "code",
   "execution_count": 39,
   "metadata": {
    "scrolled": true
   },
   "outputs": [
    {
     "name": "stdout",
     "output_type": "stream",
     "text": [
      "Best score: 0.7683124527673518\n",
      "Best params: {'max_depth': 5, 'min_samples_leaf': 6, 'min_samples_split': 90}\n",
      "CPU times: user 34.6 s, sys: 101 ms, total: 34.7 s\n",
      "Wall time: 34.7 s\n"
     ]
    }
   ],
   "source": [
    "%%time\n",
    "\n",
    "param = {\n",
    "    'max_depth': randint(1, 100)\n",
    "    , 'min_samples_leaf': randint(1, 100)\n",
    "    , 'min_samples_split': randint(2, 100)\n",
    "}\n",
    "\n",
    "model = DecisionTreeClassifier(random_state=12345\n",
    "                               , criterion='entropy')\n",
    "\n",
    "randomsearch = RandomizedSearchCV(model\n",
    "                                  , param_distributions=param\n",
    "                                  , n_iter=1000\n",
    "                                  , cv=3\n",
    "                                  , n_jobs=-1\n",
    "                                  , scoring='f1'\n",
    "                                  , return_train_score=True\n",
    "                                  , random_state=12345)\n",
    "\n",
    "randomsearch.fit(features_downsampled, target_downsampled)\n",
    "print('Best score:', randomsearch.best_score_)\n",
    "print('Best params:', randomsearch.best_params_)"
   ]
  },
  {
   "cell_type": "markdown",
   "metadata": {},
   "source": [
    "#### Увеличение выборки - RandomizedSearchCV"
   ]
  },
  {
   "cell_type": "code",
   "execution_count": 40,
   "metadata": {
    "scrolled": true
   },
   "outputs": [
    {
     "name": "stdout",
     "output_type": "stream",
     "text": [
      "Best score: 0.8718241044363978\n",
      "Best params: {'max_depth': 36, 'min_samples_leaf': 1, 'min_samples_split': 11}\n",
      "CPU times: user 1min 34s, sys: 214 ms, total: 1min 34s\n",
      "Wall time: 1min 34s\n"
     ]
    }
   ],
   "source": [
    "%%time\n",
    "\n",
    "param = {\n",
    "    'max_depth': randint(1, 100)\n",
    "    , 'min_samples_leaf': randint(1, 100)\n",
    "    , 'min_samples_split': randint(2, 100)\n",
    "}\n",
    "\n",
    "model = DecisionTreeClassifier(random_state=12345\n",
    "                               , criterion='entropy')\n",
    "\n",
    "randomsearch = RandomizedSearchCV(model\n",
    "                                  , param_distributions=param\n",
    "                                  , n_iter=1000\n",
    "                                  , cv=3\n",
    "                                  , n_jobs=-1\n",
    "                                  , scoring='f1'\n",
    "                                  , return_train_score=True\n",
    "                                  , random_state=12345)\n",
    "\n",
    "randomsearch.fit(features_upsampled, target_upsampled)\n",
    "print('Best score:', randomsearch.best_score_)\n",
    "print('Best params:', randomsearch.best_params_)"
   ]
  },
  {
   "cell_type": "markdown",
   "metadata": {},
   "source": [
    "### Случайный лес"
   ]
  },
  {
   "cell_type": "markdown",
   "metadata": {},
   "source": [
    "#### Взвешивание классов - RandomizedSearchCV"
   ]
  },
  {
   "cell_type": "code",
   "execution_count": 41,
   "metadata": {},
   "outputs": [
    {
     "name": "stdout",
     "output_type": "stream",
     "text": [
      "Best score: 0.6151386815450121\n",
      "Best params: {'max_depth': 15, 'min_samples_leaf': 1, 'min_samples_split': 29, 'n_estimators': 40}\n",
      "CPU times: user 57.9 s, sys: 308 ms, total: 58.2 s\n",
      "Wall time: 58.2 s\n"
     ]
    }
   ],
   "source": [
    "%%time\n",
    "\n",
    "param = {\n",
    "    'n_estimators': randint(1, 100)\n",
    "    , 'max_depth': randint(1, 100)\n",
    "    , 'min_samples_leaf': randint(1, 100)\n",
    "    , 'min_samples_split': randint(2, 100)\n",
    "}\n",
    "\n",
    "model = RandomForestClassifier(random_state=12345\n",
    "                               , criterion='entropy'\n",
    "                               , class_weight='balanced')\n",
    "\n",
    "randomsearch = RandomizedSearchCV(model\n",
    "                                  , param_distributions=param\n",
    "                                  , n_iter=100\n",
    "                                  , cv=3\n",
    "                                  , n_jobs=-1\n",
    "                                  , scoring='f1'\n",
    "                                  , return_train_score=True\n",
    "                                  , random_state=12345)\n",
    "\n",
    "randomsearch.fit(features_train, target_train)\n",
    "print('Best score:', randomsearch.best_score_)\n",
    "print('Best params:', randomsearch.best_params_)"
   ]
  },
  {
   "cell_type": "markdown",
   "metadata": {},
   "source": [
    "#### Взвешивание классов - GreedSearchCV"
   ]
  },
  {
   "cell_type": "code",
   "execution_count": 42,
   "metadata": {},
   "outputs": [
    {
     "name": "stdout",
     "output_type": "stream",
     "text": [
      "Best score of Grid Search: 0.6249763379175144\n",
      "Best params: {'max_depth': 16, 'min_samples_leaf': 1, 'min_samples_split': 27, 'n_estimators': 38}\n",
      "CPU times: user 2min 31s, sys: 590 ms, total: 2min 31s\n",
      "Wall time: 2min 33s\n"
     ]
    }
   ],
   "source": [
    "%%time\n",
    "param = {\n",
    "    'n_estimators': [*range(38, 42)]\n",
    "    , 'max_depth': [*range(12, 17)]\n",
    "    , 'min_samples_leaf': [*range(1, 4)]\n",
    "    , 'min_samples_split': [*range(27, 31)]\n",
    "}\n",
    "model = RandomForestClassifier(random_state=12345\n",
    "                               , criterion='entropy'\n",
    "                               , class_weight='balanced')\n",
    "\n",
    "gridsearch = GridSearchCV(model\n",
    "                          , param_grid=param\n",
    "                          , cv=3\n",
    "                          , n_jobs=-1\n",
    "                          , scoring='f1'\n",
    "                          , return_train_score=True)\n",
    "\n",
    "gridsearch.fit(features_train, target_train)\n",
    "print('Best score of Grid Search:', gridsearch.best_score_)\n",
    "print('Best params:', gridsearch.best_params_)"
   ]
  },
  {
   "cell_type": "markdown",
   "metadata": {},
   "source": [
    "#### Уменьшение выборки - RandomizedSearchCV"
   ]
  },
  {
   "cell_type": "code",
   "execution_count": 43,
   "metadata": {},
   "outputs": [
    {
     "name": "stdout",
     "output_type": "stream",
     "text": [
      "Best score: 0.7710983747275795\n",
      "Best params: {'max_depth': 22, 'min_samples_leaf': 8, 'min_samples_split': 83, 'n_estimators': 64}\n",
      "CPU times: user 32.2 s, sys: 270 ms, total: 32.4 s\n",
      "Wall time: 32.6 s\n"
     ]
    }
   ],
   "source": [
    "%%time\n",
    "\n",
    "param = {\n",
    "    'n_estimators': randint(1, 100)\n",
    "    , 'max_depth': randint(1, 100)\n",
    "    , 'min_samples_leaf': randint(1, 100)\n",
    "    , 'min_samples_split': randint(2, 100)\n",
    "}\n",
    "\n",
    "model = RandomForestClassifier(random_state=12345\n",
    "                               , criterion='entropy')\n",
    "\n",
    "randomsearch = RandomizedSearchCV(model\n",
    "                                  , param_distributions=param\n",
    "                                  , n_iter=100\n",
    "                                  , cv=3\n",
    "                                  , n_jobs=-1\n",
    "                                  , scoring='f1'\n",
    "                                  , return_train_score=True\n",
    "                                  , random_state=12345)\n",
    "\n",
    "randomsearch.fit(features_downsampled, target_downsampled)\n",
    "print('Best score:', randomsearch.best_score_)\n",
    "print('Best params:', randomsearch.best_params_)"
   ]
  },
  {
   "cell_type": "markdown",
   "metadata": {},
   "source": [
    "#### Увеличение выборки - RandomizedSearchCV"
   ]
  },
  {
   "cell_type": "code",
   "execution_count": 44,
   "metadata": {},
   "outputs": [
    {
     "name": "stdout",
     "output_type": "stream",
     "text": [
      "Best score: 0.8577148581562458\n",
      "Best params: {'max_depth': 94, 'min_samples_leaf': 2, 'min_samples_split': 27, 'n_estimators': 65}\n",
      "CPU times: user 1min 24s, sys: 374 ms, total: 1min 24s\n",
      "Wall time: 1min 24s\n"
     ]
    }
   ],
   "source": [
    "%%time\n",
    "\n",
    "param = {\n",
    "    'n_estimators': randint(1, 100)\n",
    "    , 'max_depth': randint(1, 100)\n",
    "    , 'min_samples_leaf': randint(1, 100)\n",
    "    , 'min_samples_split': randint(2, 100)\n",
    "}\n",
    "\n",
    "model = RandomForestClassifier(random_state=12345\n",
    "                               , criterion='entropy')\n",
    "\n",
    "randomsearch = RandomizedSearchCV(model\n",
    "                                  , param_distributions=param\n",
    "                                  , n_iter=100\n",
    "                                  , cv=3\n",
    "                                  , n_jobs=-1\n",
    "                                  , scoring='f1'\n",
    "                                  , return_train_score=True\n",
    "                                  , random_state=12345)\n",
    "\n",
    "randomsearch.fit(features_upsampled, target_upsampled)\n",
    "print('Best score:', randomsearch.best_score_)\n",
    "print('Best params:', randomsearch.best_params_)"
   ]
  },
  {
   "cell_type": "markdown",
   "metadata": {},
   "source": [
    "### Логистическая регрессия "
   ]
  },
  {
   "cell_type": "markdown",
   "metadata": {},
   "source": [
    "#### Взвешивание классов - RandomizedSearchCV"
   ]
  },
  {
   "cell_type": "code",
   "execution_count": 45,
   "metadata": {
    "scrolled": false
   },
   "outputs": [
    {
     "name": "stdout",
     "output_type": "stream",
     "text": [
      "Best score: 0.4912954863799006\n",
      "Best params: {'C': 1.6028041761649248, 'max_iter': 15, 'penalty': 'l1'}\n",
      "CPU times: user 30.5 s, sys: 44.9 s, total: 1min 15s\n",
      "Wall time: 1min 15s\n"
     ]
    }
   ],
   "source": [
    "%%time\n",
    "\n",
    "param = {\n",
    "    'max_iter': randint(1, 100)\n",
    "    ,'penalty': ['l2', 'l1']\n",
    "    ,'C': uniform(loc=0, scale=4)\n",
    "}\n",
    "\n",
    "model = LogisticRegression(random_state=12345\n",
    "                           , solver='liblinear'\n",
    "                           , class_weight='balanced')\n",
    "\n",
    "randomsearch = RandomizedSearchCV(model\n",
    "                                  , param_distributions=param\n",
    "                                  , n_iter=120\n",
    "                                  , cv=3\n",
    "                                  , n_jobs=-1\n",
    "                                  , scoring='f1'\n",
    "                                  , return_train_score=True\n",
    "                                  , random_state=12345)\n",
    "\n",
    "randomsearch.fit(features_train, target_train)\n",
    "print('Best score:', randomsearch.best_score_)\n",
    "print('Best params:', randomsearch.best_params_)"
   ]
  },
  {
   "cell_type": "markdown",
   "metadata": {},
   "source": [
    "#### Взвешивание классов - GreedSearch"
   ]
  },
  {
   "cell_type": "code",
   "execution_count": 46,
   "metadata": {},
   "outputs": [
    {
     "name": "stdout",
     "output_type": "stream",
     "text": [
      "Best score: 0.4913637446625325\n",
      "Best params: {'C': 1.58, 'max_iter': 13, 'penalty': 'l1'}\n",
      "CPU times: user 7.9 s, sys: 15.7 s, total: 23.6 s\n",
      "Wall time: 23.5 s\n"
     ]
    }
   ],
   "source": [
    "%%time\n",
    "\n",
    "param = {\n",
    "    'max_iter': [*range(13, 17)]\n",
    "    ,'penalty': ['l2', 'l1']\n",
    "    ,'C': [1.58,1.59,1.60,1.61,1.62]\n",
    "}\n",
    "\n",
    "model = LogisticRegression(random_state=12345\n",
    "                           , solver='liblinear'\n",
    "                           , class_weight='balanced')\n",
    "\n",
    "randomsearch = GridSearchCV(model\n",
    "                            , param_grid=param\n",
    "                            , cv=3\n",
    "                            , n_jobs=-1\n",
    "                            , scoring='f1'\n",
    "                            , return_train_score=True)\n",
    "\n",
    "randomsearch.fit(features_train, target_train)\n",
    "print('Best score:', randomsearch.best_score_)\n",
    "print('Best params:', randomsearch.best_params_)"
   ]
  },
  {
   "cell_type": "markdown",
   "metadata": {},
   "source": [
    "#### Уменьшение выборки - RandomizedSearchCV"
   ]
  },
  {
   "cell_type": "code",
   "execution_count": 47,
   "metadata": {},
   "outputs": [
    {
     "name": "stdout",
     "output_type": "stream",
     "text": [
      "Best score: 0.7046260696322145\n",
      "Best params: {'C': 2.9187563309874056, 'max_iter': 82, 'penalty': 'l1'}\n",
      "CPU times: user 18.9 s, sys: 38.4 s, total: 57.3 s\n",
      "Wall time: 57.5 s\n"
     ]
    }
   ],
   "source": [
    "%%time\n",
    "\n",
    "param = {\n",
    "    'max_iter': randint(1, 100)\n",
    "    ,'penalty': ['l2', 'l1']\n",
    "    ,'C': uniform(loc=0, scale=4)\n",
    "}\n",
    "\n",
    "model = LogisticRegression(random_state=12345\n",
    "                           , solver='liblinear')\n",
    "\n",
    "randomsearch = RandomizedSearchCV(model\n",
    "                                  , param_distributions=param\n",
    "                                  , n_iter=120\n",
    "                                  , cv=3\n",
    "                                  , n_jobs=1\n",
    "                                  , scoring='f1'\n",
    "                                  , return_train_score=True\n",
    "                                  , random_state=12345)\n",
    "\n",
    "randomsearch.fit(features_downsampled, target_downsampled)\n",
    "print('Best score:', randomsearch.best_score_)\n",
    "print('Best params:', randomsearch.best_params_)"
   ]
  },
  {
   "cell_type": "markdown",
   "metadata": {},
   "source": [
    "#### Увеличение выборки - RandomizedSearchCV"
   ]
  },
  {
   "cell_type": "code",
   "execution_count": 48,
   "metadata": {},
   "outputs": [
    {
     "name": "stdout",
     "output_type": "stream",
     "text": [
      "Best score: 0.710160655048616\n",
      "Best params: {'C': 1.5030417993247926, 'max_iter': 87, 'penalty': 'l1'}\n",
      "CPU times: user 37.8 s, sys: 46.5 s, total: 1min 24s\n",
      "Wall time: 1min 24s\n"
     ]
    }
   ],
   "source": [
    "%%time\n",
    "\n",
    "param = {\n",
    "    'max_iter': randint(1, 100)\n",
    "    ,'penalty': ['l2', 'l1']\n",
    "    ,'C': uniform(loc=0, scale=4)\n",
    "}\n",
    "\n",
    "model = LogisticRegression(random_state=12345\n",
    "                           , solver='liblinear')\n",
    "\n",
    "randomsearch = RandomizedSearchCV(model\n",
    "                                  , param_distributions=param\n",
    "                                  , n_iter=120\n",
    "                                  , cv=3\n",
    "                                  , n_jobs=1\n",
    "                                  , scoring='f1'\n",
    "                                  , return_train_score=True\n",
    "                                  , random_state=12345)\n",
    "\n",
    "randomsearch.fit(features_upsampled, target_upsampled)\n",
    "print('Best score:', randomsearch.best_score_)\n",
    "print('Best params:', randomsearch.best_params_)"
   ]
  },
  {
   "cell_type": "markdown",
   "metadata": {},
   "source": [
    "### Вывод V1\n",
    "\n",
    "Выполнили предобработку данных.\\\n",
    "Сделали OHE для категориальных данных.\\\n",
    "Так же отнесли к категориальным данным то, сколько лет человек является клиентом.\n",
    "\n",
    "Отдельно стоит отметить наличие большого количества клиентов с нулевым балансом, которых мы удалили из выборки потому что этот выброс очень сильно повлиял бы на наши модели.\\\n",
    "**Важно: Наши модели не умееют предсказывать, уйдёт ли клиент с нулевым балансом.**\n",
    "\n",
    "Удалось преодолеть порог f1 для двух алгоритмов из трёх.\n",
    "\n",
    "- `Логистическая регрессия`: Удалось значительно улучшить F1, но недостаточно.\\\n",
    "- `Дерево решений`: Лучше всех показал себя при `уменьшении выборки`.\\\n",
    "f1 на тестовой выборке: 0.5916473317865429\n",
    "- `Случайный лес`: Лучше всех показал себя при `увеличении выборки`.\\\n",
    "f1 на тестовой выборке 0.6210826210826211.\\\n",
    "Однако AUC-ROC лучше при `взвешивании классов`.\n",
    "\n",
    "P.S.: RandomizedSearchCV помогает прощупать диапазон гиперпараметров, при необходмости уточнить их с помощью GreedSearchCV. Однако при перезапуске RandomizedSearch выдаст уже сильно отличающиеся гиперпараметры, если только не поставить очень большое количество итераций или сильно сузить разброс гиперпараметров, что по сути будет больше и больше приближать его к GreedSearch. В этот момент задумываюсь о установке Jupiter notebook на локальную машину чтобы использовать GreedSearch по умолчанию на мощном железе."
   ]
  },
  {
   "cell_type": "markdown",
   "metadata": {},
   "source": [
    "### Вывод V3\n",
    "На тренировочной выборке порог проходят модели `дерево решений` и `случайный лес`.\\\n",
    "Из них выделяем по 2 модели: с увеличением и уменьшением выборки для проверки на тестовой выборке."
   ]
  },
  {
   "cell_type": "markdown",
   "metadata": {},
   "source": [
    "\n",
    "\n",
    "Модель | Дисбаланс | f1 \n",
    "------ | --------- | --\n",
    "Дерево решений | С дисбалансом       | 0.5803339712469849 |\n",
    "Дерево решений | Взвешивание классов | 0.5797071114502038 |\n",
    "Дерево решений | Уменьшение выборки  | 0.7683124527673518 | \n",
    "Дерево решений | Увеличение выборки  | 0.8718241044363978 | \n",
    " |  |  | \n",
    "Случайный лес | С дисбалансом       | 0.5481687819277447 |  \n",
    "Случайный лес | Взвешивание классов | 0.6249763379175144 |  \n",
    "Случайный лес | Уменьшение выборки  | 0.7710983747275795 |  \n",
    "Случайный лес | Увеличение выборки  | 0.8577148581562458 |  \n",
    " |  |  | \n",
    "Логистическая регрессия | С дисбалансом       | 0.302464647216049   |  \n",
    "Логистическая регрессия | Взвешивание классов | 0.4913637446625325  |  \n",
    "Логистическая регрессия | Уменьшение выборки  | 0.7046260696322145  |  \n",
    "Логистическая регрессия | Увеличение выборки  | 0.710160655048616   |  "
   ]
  },
  {
   "cell_type": "markdown",
   "metadata": {},
   "source": [
    "## Тестирование моделей"
   ]
  },
  {
   "cell_type": "markdown",
   "metadata": {},
   "source": [
    "### Дерево решений - Увеличение выборки"
   ]
  },
  {
   "cell_type": "code",
   "execution_count": 49,
   "metadata": {},
   "outputs": [
    {
     "name": "stdout",
     "output_type": "stream",
     "text": [
      "F1 test: 0.5333333333333333\n",
      "AUC-ROC: 0.7218106069270507\n"
     ]
    }
   ],
   "source": [
    "model = DecisionTreeClassifier(random_state=12345\n",
    "                               , max_depth = 36\n",
    "                               , min_samples_leaf = 1\n",
    "                               , min_samples_split = 11\n",
    "                               , criterion='entropy')\n",
    "\n",
    "model.fit(features_upsampled, target_upsampled)\n",
    "\n",
    "probabilities_valid = model.predict_proba(features_test)[:, 1]\n",
    "auc_roc = roc_auc_score(target_test, probabilities_valid)\n",
    "\n",
    "predicted_test = model.predict(features_test)\n",
    "\n",
    "print('F1 test:',f1_score(target_test, predicted_test))\n",
    "print('AUC-ROC:',auc_roc)"
   ]
  },
  {
   "cell_type": "markdown",
   "metadata": {},
   "source": [
    "### Случайный лес - Увеличение выборки"
   ]
  },
  {
   "cell_type": "code",
   "execution_count": 50,
   "metadata": {},
   "outputs": [
    {
     "name": "stdout",
     "output_type": "stream",
     "text": [
      "F1 test: 0.6220472440944881\n",
      "AUC-ROC: 0.866771268180172\n"
     ]
    }
   ],
   "source": [
    "model = RandomForestClassifier(random_state=12345\n",
    "                               , max_depth = 94\n",
    "                               , min_samples_leaf = 2\n",
    "                               , min_samples_split = 27\n",
    "                               , n_estimators = 65\n",
    "                               , criterion='entropy')\n",
    "\n",
    "model.fit(features_upsampled, target_upsampled)\n",
    "\n",
    "probabilities_valid = model.predict_proba(features_test)[:, 1]\n",
    "auc_roc = roc_auc_score(target_test, probabilities_valid)\n",
    "\n",
    "predicted_test = model.predict(features_test)\n",
    "\n",
    "print('F1 test:',f1_score(target_test, predicted_test))\n",
    "print('AUC-ROC:',auc_roc)"
   ]
  },
  {
   "cell_type": "markdown",
   "metadata": {},
   "source": [
    "### Вывод V2\n",
    "\n",
    "Уменьшение выборки на случайном лесу даёт лучший результат по f1 и AUC-ROC\n",
    "Увеличение выборки не даёт такого эффекта.\n",
    "\n",
    "Удалось преодолеть порог 0.59 только для 2х из 3х моделей.\n",
    "\n",
    "Модель | Дисбаланс | f1 | AUC-ROC\n",
    "------ | --------- | -- | ---------\n",
    "Дерево решений | С дисбалансом       | 0.5856079404466501 | 0.8330645887538608 |\n",
    "Дерево решений | Взвешивание классов | 0.554140127388535 | 0.8478457434509482 |\n",
    "Дерево решений | Уменьшение выборки  | 0.593625498007968 | 0.844370723918795 |\n",
    "Дерево решений | Увеличение выборки  | 0.5146198830409355 | 0.7268595705116816 |\n",
    " |  |  | \n",
    "Случайный лес | С дисбалансом       | 0.5390279823269514 | 0.8625325840125979 |\n",
    "Случайный лес | Взвешивание классов | 0.6206896551724137 | 0.863738587989612 |\n",
    "Случайный лес | Уменьшение выборки  | 0.6387995712754556 | 0.8661359924646048 |\n",
    "Случайный лес | Увеличение выборки  | 0.6248671625929861 | 0.8659814389781458 |\n",
    " |  |  | \n",
    "Логистическая регрессия | С дисбалансом       | 0.31385642737896496 | 0.7884503518221491 |  \n",
    "Логистическая регрессия | Взвешивание классов | 0.5118110236220471 | 0.787331968719348 |\n",
    "Логистическая регрессия | Уменьшение выборки  | 0.5112016293279023 | 0.787558322644398 |\n",
    "Логистическая регрессия | Увеличение выборки  | 0.5152919369786839 | 0.7875193800336365 |   "
   ]
  },
  {
   "cell_type": "markdown",
   "metadata": {},
   "source": [
    "### Вывод V3 \n",
    "\n",
    "На тестовой выборке проверим две лучшие модели.\\\n",
    "Порог значения f1 преодолевает только модель случайного леса с увеличением выборки.\n",
    "\n",
    "Модель | Дисбаланс | f1 | AUC-ROC\n",
    "------ | --------- | -- | ---------\n",
    "Дерево решений | Увеличение выборки  | 0.5333333333333333 | 0.8553651760355312 |\n",
    "Случайный лес | Увеличение выборки  | 0.6220472440944881 | 0.866771268180172 |"
   ]
  },
  {
   "cell_type": "markdown",
   "metadata": {},
   "source": [
    "## Чек-лист готовности проекта"
   ]
  },
  {
   "cell_type": "markdown",
   "metadata": {},
   "source": [
    "Поставьте 'x' в выполненных пунктах. Далее нажмите Shift+Enter."
   ]
  },
  {
   "cell_type": "markdown",
   "metadata": {},
   "source": [
    "- [x]  Jupyter Notebook открыт\n",
    "- [x]  Весь код выполняется без ошибок\n",
    "- [x]  Ячейки с кодом расположены в порядке исполнения\n",
    "- [x]  Выполнен шаг 1: данные подготовлены\n",
    "- [x]  Выполнен шаг 2: задача исследована\n",
    "    - [x]  Исследован баланс классов\n",
    "    - [x]  Изучены модели без учёта дисбаланса\n",
    "    - [x]  Написаны выводы по результатам исследования\n",
    "- [x]  Выполнен шаг 3: учтён дисбаланс\n",
    "    - [x]  Применено несколько способов борьбы с дисбалансом\n",
    "    - [x]  Написаны выводы по результатам исследования\n",
    "- [x]  Выполнен шаг 4: проведено тестирование\n",
    "- [x]  Удалось достичь *F1*-меры не менее 0.59\n",
    "- [x]  Исследована метрика *AUC-ROC*"
   ]
  }
 ],
 "metadata": {
  "ExecuteTimeLog": [
   {
    "duration": 448,
    "start_time": "2022-08-17T12:10:57.240Z"
   },
   {
    "duration": 161,
    "start_time": "2022-08-17T12:11:10.785Z"
   },
   {
    "duration": 19,
    "start_time": "2022-08-17T12:11:36.719Z"
   },
   {
    "duration": 11,
    "start_time": "2022-08-17T12:11:46.665Z"
   },
   {
    "duration": 12,
    "start_time": "2022-08-17T12:11:49.913Z"
   },
   {
    "duration": 45,
    "start_time": "2022-08-17T12:11:57.631Z"
   },
   {
    "duration": 13,
    "start_time": "2022-08-18T10:08:57.921Z"
   },
   {
    "duration": 5,
    "start_time": "2022-08-18T10:09:20.298Z"
   },
   {
    "duration": 95,
    "start_time": "2022-08-18T10:09:57.584Z"
   },
   {
    "duration": 40,
    "start_time": "2022-08-18T10:12:31.595Z"
   },
   {
    "duration": 403,
    "start_time": "2022-08-18T10:12:34.878Z"
   },
   {
    "duration": 176,
    "start_time": "2022-08-18T10:12:35.283Z"
   },
   {
    "duration": 22,
    "start_time": "2022-08-18T10:12:35.462Z"
   },
   {
    "duration": 15,
    "start_time": "2022-08-18T10:12:35.485Z"
   },
   {
    "duration": 22,
    "start_time": "2022-08-18T10:12:37.762Z"
   },
   {
    "duration": 76,
    "start_time": "2022-08-18T10:14:17.084Z"
   },
   {
    "duration": 21,
    "start_time": "2022-08-18T10:14:43.313Z"
   },
   {
    "duration": 43,
    "start_time": "2022-08-18T10:14:46.305Z"
   },
   {
    "duration": 21,
    "start_time": "2022-08-18T10:14:59.176Z"
   },
   {
    "duration": 12,
    "start_time": "2022-08-18T10:17:25.621Z"
   },
   {
    "duration": 7,
    "start_time": "2022-08-18T10:17:35.683Z"
   },
   {
    "duration": 7,
    "start_time": "2022-08-18T10:17:40.940Z"
   },
   {
    "duration": 9,
    "start_time": "2022-08-18T10:17:56.461Z"
   },
   {
    "duration": 9,
    "start_time": "2022-08-18T10:18:30.704Z"
   },
   {
    "duration": 14,
    "start_time": "2022-08-18T10:20:01.234Z"
   },
   {
    "duration": 8,
    "start_time": "2022-08-18T10:20:05.841Z"
   },
   {
    "duration": 14,
    "start_time": "2022-08-18T10:20:42.817Z"
   },
   {
    "duration": 1239,
    "start_time": "2022-08-18T11:38:59.859Z"
   },
   {
    "duration": 36,
    "start_time": "2022-08-18T11:40:02.966Z"
   },
   {
    "duration": 8,
    "start_time": "2022-08-18T11:40:37.134Z"
   },
   {
    "duration": 4,
    "start_time": "2022-08-18T11:40:47.406Z"
   },
   {
    "duration": 7,
    "start_time": "2022-08-18T11:40:56.878Z"
   },
   {
    "duration": 5,
    "start_time": "2022-08-18T11:41:05.368Z"
   },
   {
    "duration": 4,
    "start_time": "2022-08-18T11:41:09.605Z"
   },
   {
    "duration": 5,
    "start_time": "2022-08-18T11:41:24.353Z"
   },
   {
    "duration": 6,
    "start_time": "2022-08-18T11:41:29.248Z"
   },
   {
    "duration": 4,
    "start_time": "2022-08-18T11:41:34.319Z"
   },
   {
    "duration": 4,
    "start_time": "2022-08-18T11:41:43.523Z"
   },
   {
    "duration": 5,
    "start_time": "2022-08-18T11:41:51.756Z"
   },
   {
    "duration": 973,
    "start_time": "2022-08-18T11:43:27.151Z"
   },
   {
    "duration": 910,
    "start_time": "2022-08-18T11:43:35.186Z"
   },
   {
    "duration": 1187,
    "start_time": "2022-08-18T11:43:40.463Z"
   },
   {
    "duration": 9,
    "start_time": "2022-08-18T11:43:56.591Z"
   },
   {
    "duration": 1394,
    "start_time": "2022-08-18T11:44:03.346Z"
   },
   {
    "duration": 5,
    "start_time": "2022-08-18T11:45:46.133Z"
   },
   {
    "duration": 7,
    "start_time": "2022-08-18T11:46:32.220Z"
   },
   {
    "duration": 3,
    "start_time": "2022-08-18T11:46:57.892Z"
   },
   {
    "duration": 5,
    "start_time": "2022-08-18T11:47:06.226Z"
   },
   {
    "duration": 1431,
    "start_time": "2022-08-18T11:47:27.260Z"
   },
   {
    "duration": 5,
    "start_time": "2022-08-18T11:48:02.737Z"
   },
   {
    "duration": 6,
    "start_time": "2022-08-18T11:48:12.555Z"
   },
   {
    "duration": 5,
    "start_time": "2022-08-18T11:48:18.622Z"
   },
   {
    "duration": 21,
    "start_time": "2022-08-18T11:48:30.239Z"
   },
   {
    "duration": 62,
    "start_time": "2022-08-18T11:48:33.391Z"
   },
   {
    "duration": 47,
    "start_time": "2022-08-18T11:48:41.930Z"
   },
   {
    "duration": 4,
    "start_time": "2022-08-18T11:48:50.447Z"
   },
   {
    "duration": 5,
    "start_time": "2022-08-18T11:48:50.950Z"
   },
   {
    "duration": 11,
    "start_time": "2022-08-18T11:48:51.202Z"
   },
   {
    "duration": 28,
    "start_time": "2022-08-18T11:50:28.869Z"
   },
   {
    "duration": 5,
    "start_time": "2022-08-18T11:50:36.065Z"
   },
   {
    "duration": 4,
    "start_time": "2022-08-18T11:51:30.896Z"
   },
   {
    "duration": 9,
    "start_time": "2022-08-18T11:51:45.898Z"
   },
   {
    "duration": 6,
    "start_time": "2022-08-18T11:51:57.599Z"
   },
   {
    "duration": 12,
    "start_time": "2022-08-18T11:52:26.369Z"
   },
   {
    "duration": 9,
    "start_time": "2022-08-18T11:52:51.434Z"
   },
   {
    "duration": 4,
    "start_time": "2022-08-18T11:53:03.345Z"
   },
   {
    "duration": 8,
    "start_time": "2022-08-18T11:53:07.854Z"
   },
   {
    "duration": 8,
    "start_time": "2022-08-18T11:53:13.833Z"
   },
   {
    "duration": 11,
    "start_time": "2022-08-18T11:53:19.056Z"
   },
   {
    "duration": 11,
    "start_time": "2022-08-18T11:53:39.541Z"
   },
   {
    "duration": 11,
    "start_time": "2022-08-18T11:54:22.350Z"
   },
   {
    "duration": 8,
    "start_time": "2022-08-18T11:54:30.588Z"
   },
   {
    "duration": 10,
    "start_time": "2022-08-18T11:54:34.685Z"
   },
   {
    "duration": 7,
    "start_time": "2022-08-18T11:54:42.659Z"
   },
   {
    "duration": 8,
    "start_time": "2022-08-18T11:55:54.832Z"
   },
   {
    "duration": 11,
    "start_time": "2022-08-18T11:57:39.627Z"
   },
   {
    "duration": 13,
    "start_time": "2022-08-18T12:01:43.397Z"
   },
   {
    "duration": 25,
    "start_time": "2022-08-18T12:02:45.967Z"
   },
   {
    "duration": 9,
    "start_time": "2022-08-18T12:03:18.932Z"
   },
   {
    "duration": 30,
    "start_time": "2022-08-18T12:03:27.898Z"
   },
   {
    "duration": 8,
    "start_time": "2022-08-18T12:03:39.385Z"
   },
   {
    "duration": 20,
    "start_time": "2022-08-18T12:03:53.727Z"
   },
   {
    "duration": 42,
    "start_time": "2022-08-18T12:04:04.193Z"
   },
   {
    "duration": 82,
    "start_time": "2022-08-18T12:04:21.170Z"
   },
   {
    "duration": 174,
    "start_time": "2022-08-18T12:04:26.062Z"
   },
   {
    "duration": 184,
    "start_time": "2022-08-18T12:04:55.961Z"
   },
   {
    "duration": 174,
    "start_time": "2022-08-18T12:05:33.847Z"
   },
   {
    "duration": 136,
    "start_time": "2022-08-18T12:05:38.032Z"
   },
   {
    "duration": 149,
    "start_time": "2022-08-18T12:05:45.786Z"
   },
   {
    "duration": 1624,
    "start_time": "2022-08-18T12:13:52.058Z"
   },
   {
    "duration": 9,
    "start_time": "2022-08-18T12:14:04.721Z"
   },
   {
    "duration": 15,
    "start_time": "2022-08-18T12:14:30.842Z"
   },
   {
    "duration": 18,
    "start_time": "2022-08-18T12:14:36.146Z"
   },
   {
    "duration": 20,
    "start_time": "2022-08-18T12:14:40.231Z"
   },
   {
    "duration": 10,
    "start_time": "2022-08-18T12:15:08.930Z"
   },
   {
    "duration": 9,
    "start_time": "2022-08-18T12:15:35.842Z"
   },
   {
    "duration": 9,
    "start_time": "2022-08-18T12:15:52.581Z"
   },
   {
    "duration": 9,
    "start_time": "2022-08-18T12:15:55.985Z"
   },
   {
    "duration": 11,
    "start_time": "2022-08-18T12:18:42.822Z"
   },
   {
    "duration": 78,
    "start_time": "2022-08-18T12:23:03.838Z"
   },
   {
    "duration": 5,
    "start_time": "2022-08-18T12:24:12.787Z"
   },
   {
    "duration": 7,
    "start_time": "2022-08-18T12:25:37.779Z"
   },
   {
    "duration": 9,
    "start_time": "2022-08-18T12:25:47.651Z"
   },
   {
    "duration": 12,
    "start_time": "2022-08-18T12:25:48.281Z"
   },
   {
    "duration": 7,
    "start_time": "2022-08-18T12:25:58.787Z"
   },
   {
    "duration": 4,
    "start_time": "2022-08-18T12:26:01.347Z"
   },
   {
    "duration": 11,
    "start_time": "2022-08-18T12:26:05.124Z"
   },
   {
    "duration": 11,
    "start_time": "2022-08-18T12:26:07.221Z"
   },
   {
    "duration": 5,
    "start_time": "2022-08-18T12:26:59.423Z"
   },
   {
    "duration": 15,
    "start_time": "2022-08-18T12:27:32.123Z"
   },
   {
    "duration": 11,
    "start_time": "2022-08-18T12:28:01.826Z"
   },
   {
    "duration": 11,
    "start_time": "2022-08-18T12:29:03.895Z"
   },
   {
    "duration": 17,
    "start_time": "2022-08-18T12:29:05.351Z"
   },
   {
    "duration": 9,
    "start_time": "2022-08-18T12:29:23.405Z"
   },
   {
    "duration": 12,
    "start_time": "2022-08-18T12:29:24.444Z"
   },
   {
    "duration": 14,
    "start_time": "2022-08-18T12:30:31.036Z"
   },
   {
    "duration": 20,
    "start_time": "2022-08-18T12:30:34.863Z"
   },
   {
    "duration": 22,
    "start_time": "2022-08-18T12:30:39.192Z"
   },
   {
    "duration": 17,
    "start_time": "2022-08-18T12:30:46.297Z"
   },
   {
    "duration": 13,
    "start_time": "2022-08-18T12:30:57.048Z"
   },
   {
    "duration": 18,
    "start_time": "2022-08-18T12:30:59.022Z"
   },
   {
    "duration": 17,
    "start_time": "2022-08-18T12:31:40.157Z"
   },
   {
    "duration": 23,
    "start_time": "2022-08-18T12:31:41.847Z"
   },
   {
    "duration": 9,
    "start_time": "2022-08-18T12:34:30.929Z"
   },
   {
    "duration": 16,
    "start_time": "2022-08-18T12:34:31.718Z"
   },
   {
    "duration": 13,
    "start_time": "2022-08-18T12:36:41.225Z"
   },
   {
    "duration": 11,
    "start_time": "2022-08-18T12:36:42.665Z"
   },
   {
    "duration": 106,
    "start_time": "2022-08-18T12:37:54.388Z"
   },
   {
    "duration": 12,
    "start_time": "2022-08-18T12:38:07.640Z"
   },
   {
    "duration": 10,
    "start_time": "2022-08-18T12:38:49.027Z"
   },
   {
    "duration": 1123,
    "start_time": "2022-08-18T12:38:57.701Z"
   },
   {
    "duration": 4,
    "start_time": "2022-08-18T12:38:58.825Z"
   },
   {
    "duration": 45,
    "start_time": "2022-08-18T12:38:58.831Z"
   },
   {
    "duration": 23,
    "start_time": "2022-08-18T12:38:58.879Z"
   },
   {
    "duration": 18,
    "start_time": "2022-08-18T12:38:58.903Z"
   },
   {
    "duration": 1549,
    "start_time": "2022-08-18T12:38:58.922Z"
   },
   {
    "duration": 43,
    "start_time": "2022-08-18T12:39:00.473Z"
   },
   {
    "duration": 4,
    "start_time": "2022-08-18T12:39:00.518Z"
   },
   {
    "duration": 13,
    "start_time": "2022-08-18T12:39:00.524Z"
   },
   {
    "duration": 8,
    "start_time": "2022-08-18T12:39:00.541Z"
   },
   {
    "duration": 13,
    "start_time": "2022-08-18T12:39:00.550Z"
   },
   {
    "duration": 5,
    "start_time": "2022-08-18T12:39:00.564Z"
   },
   {
    "duration": 36,
    "start_time": "2022-08-18T12:39:00.571Z"
   },
   {
    "duration": 24,
    "start_time": "2022-08-18T12:39:00.609Z"
   },
   {
    "duration": 21,
    "start_time": "2022-08-18T12:39:00.635Z"
   },
   {
    "duration": 139,
    "start_time": "2022-08-18T12:39:00.657Z"
   },
   {
    "duration": 15,
    "start_time": "2022-08-18T12:39:00.798Z"
   },
   {
    "duration": 5,
    "start_time": "2022-08-18T12:39:00.814Z"
   },
   {
    "duration": 10,
    "start_time": "2022-08-18T12:39:00.821Z"
   },
   {
    "duration": 15,
    "start_time": "2022-08-18T12:39:00.832Z"
   },
   {
    "duration": 104,
    "start_time": "2022-08-18T12:39:00.849Z"
   },
   {
    "duration": 0,
    "start_time": "2022-08-18T12:39:00.956Z"
   },
   {
    "duration": 0,
    "start_time": "2022-08-18T12:39:00.957Z"
   },
   {
    "duration": 0,
    "start_time": "2022-08-18T12:39:00.959Z"
   },
   {
    "duration": 18,
    "start_time": "2022-08-18T12:39:10.893Z"
   },
   {
    "duration": 24,
    "start_time": "2022-08-18T12:39:12.062Z"
   },
   {
    "duration": 23,
    "start_time": "2022-08-18T12:39:46.462Z"
   },
   {
    "duration": 23,
    "start_time": "2022-08-18T12:40:33.231Z"
   },
   {
    "duration": 22,
    "start_time": "2022-08-18T12:40:33.691Z"
   },
   {
    "duration": 19,
    "start_time": "2022-08-18T12:41:05.821Z"
   },
   {
    "duration": 11,
    "start_time": "2022-08-18T12:44:26.358Z"
   },
   {
    "duration": 1016,
    "start_time": "2022-08-18T13:42:38.988Z"
   },
   {
    "duration": 3,
    "start_time": "2022-08-18T13:42:40.006Z"
   },
   {
    "duration": 65,
    "start_time": "2022-08-18T13:42:40.012Z"
   },
   {
    "duration": 18,
    "start_time": "2022-08-18T13:42:40.080Z"
   },
   {
    "duration": 12,
    "start_time": "2022-08-18T13:42:40.099Z"
   },
   {
    "duration": 1501,
    "start_time": "2022-08-18T13:42:40.113Z"
   },
   {
    "duration": 37,
    "start_time": "2022-08-18T13:42:41.615Z"
   },
   {
    "duration": 4,
    "start_time": "2022-08-18T13:42:41.653Z"
   },
   {
    "duration": 5,
    "start_time": "2022-08-18T13:42:41.658Z"
   },
   {
    "duration": 7,
    "start_time": "2022-08-18T13:42:41.664Z"
   },
   {
    "duration": 5,
    "start_time": "2022-08-18T13:42:41.672Z"
   },
   {
    "duration": 29,
    "start_time": "2022-08-18T13:42:41.678Z"
   },
   {
    "duration": 13,
    "start_time": "2022-08-18T13:42:41.709Z"
   },
   {
    "duration": 9,
    "start_time": "2022-08-18T13:42:41.723Z"
   },
   {
    "duration": 10,
    "start_time": "2022-08-18T13:42:41.733Z"
   },
   {
    "duration": 128,
    "start_time": "2022-08-18T13:42:41.745Z"
   },
   {
    "duration": 9,
    "start_time": "2022-08-18T13:42:41.875Z"
   },
   {
    "duration": 4,
    "start_time": "2022-08-18T13:42:41.885Z"
   },
   {
    "duration": 18,
    "start_time": "2022-08-18T13:42:41.891Z"
   },
   {
    "duration": 14,
    "start_time": "2022-08-18T13:42:41.911Z"
   },
   {
    "duration": 13,
    "start_time": "2022-08-18T13:42:41.926Z"
   },
   {
    "duration": 13,
    "start_time": "2022-08-18T13:42:41.941Z"
   },
   {
    "duration": 4,
    "start_time": "2022-08-18T13:42:41.955Z"
   },
   {
    "duration": 804,
    "start_time": "2022-08-18T13:42:41.961Z"
   },
   {
    "duration": 9,
    "start_time": "2022-08-18T13:42:42.767Z"
   },
   {
    "duration": 3,
    "start_time": "2022-08-18T13:49:27.010Z"
   },
   {
    "duration": 6,
    "start_time": "2022-08-18T13:49:27.015Z"
   },
   {
    "duration": 46,
    "start_time": "2022-08-18T13:49:27.022Z"
   },
   {
    "duration": 12,
    "start_time": "2022-08-18T13:49:27.070Z"
   },
   {
    "duration": 14,
    "start_time": "2022-08-18T13:49:27.084Z"
   },
   {
    "duration": 1208,
    "start_time": "2022-08-18T13:49:27.099Z"
   },
   {
    "duration": 37,
    "start_time": "2022-08-18T13:49:28.308Z"
   },
   {
    "duration": 4,
    "start_time": "2022-08-18T13:49:28.346Z"
   },
   {
    "duration": 6,
    "start_time": "2022-08-18T13:49:28.351Z"
   },
   {
    "duration": 5,
    "start_time": "2022-08-18T13:49:28.358Z"
   },
   {
    "duration": 6,
    "start_time": "2022-08-18T13:49:28.365Z"
   },
   {
    "duration": 35,
    "start_time": "2022-08-18T13:49:28.372Z"
   },
   {
    "duration": 13,
    "start_time": "2022-08-18T13:49:28.409Z"
   },
   {
    "duration": 9,
    "start_time": "2022-08-18T13:49:28.424Z"
   },
   {
    "duration": 6,
    "start_time": "2022-08-18T13:49:28.434Z"
   },
   {
    "duration": 149,
    "start_time": "2022-08-18T13:49:28.442Z"
   },
   {
    "duration": 16,
    "start_time": "2022-08-18T13:49:28.592Z"
   },
   {
    "duration": 4,
    "start_time": "2022-08-18T13:49:28.609Z"
   },
   {
    "duration": 7,
    "start_time": "2022-08-18T13:49:28.614Z"
   },
   {
    "duration": 14,
    "start_time": "2022-08-18T13:49:28.622Z"
   },
   {
    "duration": 12,
    "start_time": "2022-08-18T13:49:28.638Z"
   },
   {
    "duration": 166,
    "start_time": "2022-08-18T13:49:28.651Z"
   },
   {
    "duration": 0,
    "start_time": "2022-08-18T13:49:28.818Z"
   },
   {
    "duration": 0,
    "start_time": "2022-08-18T13:49:28.820Z"
   },
   {
    "duration": 141,
    "start_time": "2022-08-18T13:49:49.801Z"
   },
   {
    "duration": 925,
    "start_time": "2022-08-18T13:50:31.149Z"
   },
   {
    "duration": 769,
    "start_time": "2022-08-18T13:50:53.707Z"
   },
   {
    "duration": 9,
    "start_time": "2022-08-18T13:52:42.676Z"
   },
   {
    "duration": 4,
    "start_time": "2022-08-18T13:52:48.235Z"
   },
   {
    "duration": 7,
    "start_time": "2022-08-18T13:52:52.308Z"
   },
   {
    "duration": 12,
    "start_time": "2022-08-18T13:53:46.326Z"
   },
   {
    "duration": 3,
    "start_time": "2022-08-18T13:53:50.925Z"
   },
   {
    "duration": 5,
    "start_time": "2022-08-18T13:53:53.432Z"
   },
   {
    "duration": 9,
    "start_time": "2022-08-18T13:53:55.815Z"
   },
   {
    "duration": 15,
    "start_time": "2022-08-18T13:54:42.537Z"
   },
   {
    "duration": 3,
    "start_time": "2022-08-18T13:55:14.922Z"
   },
   {
    "duration": 143,
    "start_time": "2022-08-18T13:56:01.657Z"
   },
   {
    "duration": 145,
    "start_time": "2022-08-18T13:56:31.719Z"
   },
   {
    "duration": 155,
    "start_time": "2022-08-18T13:56:35.486Z"
   },
   {
    "duration": 135,
    "start_time": "2022-08-18T13:57:06.557Z"
   },
   {
    "duration": 3,
    "start_time": "2022-08-18T13:57:10.382Z"
   },
   {
    "duration": 142,
    "start_time": "2022-08-18T13:57:12.978Z"
   },
   {
    "duration": 13,
    "start_time": "2022-08-18T16:55:33.126Z"
   },
   {
    "duration": 4,
    "start_time": "2022-08-18T16:55:41.721Z"
   },
   {
    "duration": 32,
    "start_time": "2022-08-18T16:55:47.997Z"
   },
   {
    "duration": 27,
    "start_time": "2022-08-18T16:57:05.415Z"
   },
   {
    "duration": 10,
    "start_time": "2022-08-18T16:57:28.929Z"
   },
   {
    "duration": 25,
    "start_time": "2022-08-18T16:57:40.873Z"
   },
   {
    "duration": 1729,
    "start_time": "2022-08-18T16:59:00.262Z"
   },
   {
    "duration": 1636,
    "start_time": "2022-08-18T16:59:12.737Z"
   },
   {
    "duration": 5791,
    "start_time": "2022-08-18T16:59:41.338Z"
   },
   {
    "duration": 6580,
    "start_time": "2022-08-18T17:01:05.503Z"
   },
   {
    "duration": 49091,
    "start_time": "2022-08-18T17:01:21.535Z"
   },
   {
    "duration": 1230,
    "start_time": "2022-08-18T17:02:23.691Z"
   },
   {
    "duration": 3,
    "start_time": "2022-08-18T17:02:24.923Z"
   },
   {
    "duration": 45,
    "start_time": "2022-08-18T17:02:24.927Z"
   },
   {
    "duration": 14,
    "start_time": "2022-08-18T17:02:24.974Z"
   },
   {
    "duration": 11,
    "start_time": "2022-08-18T17:02:24.990Z"
   },
   {
    "duration": 1279,
    "start_time": "2022-08-18T17:02:25.002Z"
   },
   {
    "duration": 48,
    "start_time": "2022-08-18T17:02:26.283Z"
   },
   {
    "duration": 4,
    "start_time": "2022-08-18T17:02:26.332Z"
   },
   {
    "duration": 5,
    "start_time": "2022-08-18T17:02:26.337Z"
   },
   {
    "duration": 6,
    "start_time": "2022-08-18T17:02:26.343Z"
   },
   {
    "duration": 6,
    "start_time": "2022-08-18T17:02:26.350Z"
   },
   {
    "duration": 6,
    "start_time": "2022-08-18T17:02:26.358Z"
   },
   {
    "duration": 15,
    "start_time": "2022-08-18T17:02:26.365Z"
   },
   {
    "duration": 29,
    "start_time": "2022-08-18T17:02:26.383Z"
   },
   {
    "duration": 8,
    "start_time": "2022-08-18T17:02:26.413Z"
   },
   {
    "duration": 133,
    "start_time": "2022-08-18T17:02:26.422Z"
   },
   {
    "duration": 10,
    "start_time": "2022-08-18T17:02:26.557Z"
   },
   {
    "duration": 8,
    "start_time": "2022-08-18T17:02:26.568Z"
   },
   {
    "duration": 13,
    "start_time": "2022-08-18T17:02:26.578Z"
   },
   {
    "duration": 21,
    "start_time": "2022-08-18T17:02:26.592Z"
   },
   {
    "duration": 11,
    "start_time": "2022-08-18T17:02:26.614Z"
   },
   {
    "duration": 11,
    "start_time": "2022-08-18T17:02:26.627Z"
   },
   {
    "duration": 2,
    "start_time": "2022-08-18T17:02:26.639Z"
   },
   {
    "duration": 803,
    "start_time": "2022-08-18T17:02:26.642Z"
   },
   {
    "duration": 148,
    "start_time": "2022-08-18T17:02:27.446Z"
   },
   {
    "duration": 49826,
    "start_time": "2022-08-18T17:02:27.596Z"
   },
   {
    "duration": 8,
    "start_time": "2022-08-18T17:03:17.424Z"
   },
   {
    "duration": 97,
    "start_time": "2022-08-18T17:08:42.829Z"
   },
   {
    "duration": 5947,
    "start_time": "2022-08-18T17:11:37.274Z"
   },
   {
    "duration": 85,
    "start_time": "2022-08-18T17:14:44.320Z"
   },
   {
    "duration": 4,
    "start_time": "2022-08-18T17:15:20.071Z"
   },
   {
    "duration": 3,
    "start_time": "2022-08-18T17:15:29.116Z"
   },
   {
    "duration": 9,
    "start_time": "2022-08-18T17:15:35.274Z"
   },
   {
    "duration": 3,
    "start_time": "2022-08-18T17:15:39.390Z"
   },
   {
    "duration": 136,
    "start_time": "2022-08-18T17:16:12.354Z"
   },
   {
    "duration": 3,
    "start_time": "2022-08-18T17:16:21.940Z"
   },
   {
    "duration": 3,
    "start_time": "2022-08-18T17:16:34.201Z"
   },
   {
    "duration": 3,
    "start_time": "2022-08-18T17:17:00.597Z"
   },
   {
    "duration": 1383,
    "start_time": "2022-08-18T17:20:45.550Z"
   },
   {
    "duration": 3,
    "start_time": "2022-08-18T17:20:46.935Z"
   },
   {
    "duration": 44,
    "start_time": "2022-08-18T17:20:46.940Z"
   },
   {
    "duration": 15,
    "start_time": "2022-08-18T17:20:46.985Z"
   },
   {
    "duration": 12,
    "start_time": "2022-08-18T17:20:47.002Z"
   },
   {
    "duration": 1278,
    "start_time": "2022-08-18T17:20:47.015Z"
   },
   {
    "duration": 44,
    "start_time": "2022-08-18T17:20:48.295Z"
   },
   {
    "duration": 4,
    "start_time": "2022-08-18T17:20:48.341Z"
   },
   {
    "duration": 11,
    "start_time": "2022-08-18T17:20:48.346Z"
   },
   {
    "duration": 10,
    "start_time": "2022-08-18T17:20:48.358Z"
   },
   {
    "duration": 7,
    "start_time": "2022-08-18T17:20:48.369Z"
   },
   {
    "duration": 4,
    "start_time": "2022-08-18T17:20:48.378Z"
   },
   {
    "duration": 29,
    "start_time": "2022-08-18T17:20:48.384Z"
   },
   {
    "duration": 9,
    "start_time": "2022-08-18T17:20:48.416Z"
   },
   {
    "duration": 5,
    "start_time": "2022-08-18T17:20:48.426Z"
   },
   {
    "duration": 141,
    "start_time": "2022-08-18T17:20:48.432Z"
   },
   {
    "duration": 10,
    "start_time": "2022-08-18T17:20:48.575Z"
   },
   {
    "duration": 4,
    "start_time": "2022-08-18T17:20:48.586Z"
   },
   {
    "duration": 4,
    "start_time": "2022-08-18T17:20:48.606Z"
   },
   {
    "duration": 14,
    "start_time": "2022-08-18T17:20:48.612Z"
   },
   {
    "duration": 12,
    "start_time": "2022-08-18T17:20:48.627Z"
   },
   {
    "duration": 13,
    "start_time": "2022-08-18T17:20:48.640Z"
   },
   {
    "duration": 2,
    "start_time": "2022-08-18T17:20:48.654Z"
   },
   {
    "duration": 853,
    "start_time": "2022-08-18T17:20:48.658Z"
   },
   {
    "duration": 159,
    "start_time": "2022-08-18T17:20:49.513Z"
   },
   {
    "duration": 5794,
    "start_time": "2022-08-18T17:20:49.673Z"
   },
   {
    "duration": 30683,
    "start_time": "2022-08-18T17:20:55.469Z"
   },
   {
    "duration": 4,
    "start_time": "2022-08-18T17:21:26.154Z"
   },
   {
    "duration": 53316,
    "start_time": "2022-08-18T17:21:26.159Z"
   },
   {
    "duration": 8,
    "start_time": "2022-08-18T17:22:19.477Z"
   },
   {
    "duration": 11443,
    "start_time": "2022-08-18T17:23:04.878Z"
   },
   {
    "duration": 47838,
    "start_time": "2022-08-18T17:23:27.361Z"
   },
   {
    "duration": 92,
    "start_time": "2022-08-18T17:25:04.219Z"
   },
   {
    "duration": 46190,
    "start_time": "2022-08-18T17:26:04.031Z"
   },
   {
    "duration": 47422,
    "start_time": "2022-08-18T17:28:19.246Z"
   },
   {
    "duration": 5,
    "start_time": "2022-08-18T17:30:03.454Z"
   },
   {
    "duration": 4,
    "start_time": "2022-08-18T17:30:13.506Z"
   },
   {
    "duration": 48196,
    "start_time": "2022-08-18T17:34:37.595Z"
   },
   {
    "duration": 179,
    "start_time": "2022-08-18T17:38:29.789Z"
   },
   {
    "duration": 80,
    "start_time": "2022-08-18T17:38:40.446Z"
   },
   {
    "duration": 199735,
    "start_time": "2022-08-18T17:39:11.428Z"
   },
   {
    "duration": 121650,
    "start_time": "2022-08-18T17:47:26.186Z"
   },
   {
    "duration": 69364,
    "start_time": "2022-08-18T17:51:24.782Z"
   },
   {
    "duration": 13347,
    "start_time": "2022-08-18T17:57:59.454Z"
   },
   {
    "duration": 409148,
    "start_time": "2022-08-18T17:59:13.803Z"
   },
   {
    "duration": 1261,
    "start_time": "2022-08-18T18:27:25.057Z"
   },
   {
    "duration": 3,
    "start_time": "2022-08-18T18:27:26.320Z"
   },
   {
    "duration": 44,
    "start_time": "2022-08-18T18:27:26.324Z"
   },
   {
    "duration": 15,
    "start_time": "2022-08-18T18:27:26.370Z"
   },
   {
    "duration": 11,
    "start_time": "2022-08-18T18:27:26.387Z"
   },
   {
    "duration": 1273,
    "start_time": "2022-08-18T18:27:26.400Z"
   },
   {
    "duration": 48,
    "start_time": "2022-08-18T18:27:27.675Z"
   },
   {
    "duration": 4,
    "start_time": "2022-08-18T18:27:27.725Z"
   },
   {
    "duration": 7,
    "start_time": "2022-08-18T18:27:27.730Z"
   },
   {
    "duration": 8,
    "start_time": "2022-08-18T18:27:27.739Z"
   },
   {
    "duration": 7,
    "start_time": "2022-08-18T18:27:27.749Z"
   },
   {
    "duration": 6,
    "start_time": "2022-08-18T18:27:27.758Z"
   },
   {
    "duration": 15,
    "start_time": "2022-08-18T18:27:27.765Z"
   },
   {
    "duration": 30,
    "start_time": "2022-08-18T18:27:27.783Z"
   },
   {
    "duration": 6,
    "start_time": "2022-08-18T18:27:27.815Z"
   },
   {
    "duration": 139,
    "start_time": "2022-08-18T18:27:27.822Z"
   },
   {
    "duration": 9,
    "start_time": "2022-08-18T18:27:27.963Z"
   },
   {
    "duration": 9,
    "start_time": "2022-08-18T18:27:27.973Z"
   },
   {
    "duration": 6,
    "start_time": "2022-08-18T18:27:27.984Z"
   },
   {
    "duration": 21,
    "start_time": "2022-08-18T18:27:27.992Z"
   },
   {
    "duration": 12,
    "start_time": "2022-08-18T18:27:28.014Z"
   },
   {
    "duration": 12,
    "start_time": "2022-08-18T18:27:28.027Z"
   },
   {
    "duration": 851,
    "start_time": "2022-08-18T18:27:28.041Z"
   },
   {
    "duration": 158,
    "start_time": "2022-08-18T18:27:28.893Z"
   },
   {
    "duration": 484420,
    "start_time": "2022-08-18T18:27:29.053Z"
   },
   {
    "duration": 13734,
    "start_time": "2022-08-18T18:35:33.475Z"
   },
   {
    "duration": 428927,
    "start_time": "2022-08-18T18:35:47.211Z"
   },
   {
    "duration": 201138,
    "start_time": "2022-08-18T18:42:56.140Z"
   },
   {
    "duration": 67065,
    "start_time": "2022-08-18T18:46:17.279Z"
   },
   {
    "duration": 11,
    "start_time": "2022-08-18T18:47:24.346Z"
   },
   {
    "duration": 46,
    "start_time": "2022-08-19T11:54:29.115Z"
   },
   {
    "duration": 1416,
    "start_time": "2022-08-19T11:54:32.214Z"
   },
   {
    "duration": 2,
    "start_time": "2022-08-19T11:54:33.632Z"
   },
   {
    "duration": 91,
    "start_time": "2022-08-19T11:54:33.635Z"
   },
   {
    "duration": 16,
    "start_time": "2022-08-19T11:54:33.728Z"
   },
   {
    "duration": 11,
    "start_time": "2022-08-19T11:54:33.746Z"
   },
   {
    "duration": 1312,
    "start_time": "2022-08-19T11:54:33.759Z"
   },
   {
    "duration": 44,
    "start_time": "2022-08-19T11:54:35.072Z"
   },
   {
    "duration": 4,
    "start_time": "2022-08-19T11:54:35.117Z"
   },
   {
    "duration": 8,
    "start_time": "2022-08-19T11:54:35.122Z"
   },
   {
    "duration": 10,
    "start_time": "2022-08-19T11:54:35.131Z"
   },
   {
    "duration": 11,
    "start_time": "2022-08-19T11:54:35.142Z"
   },
   {
    "duration": 7,
    "start_time": "2022-08-19T11:54:35.155Z"
   },
   {
    "duration": 25,
    "start_time": "2022-08-19T11:54:35.164Z"
   },
   {
    "duration": 9,
    "start_time": "2022-08-19T11:54:35.191Z"
   },
   {
    "duration": 7,
    "start_time": "2022-08-19T11:54:35.201Z"
   },
   {
    "duration": 131,
    "start_time": "2022-08-19T11:54:35.209Z"
   },
   {
    "duration": 9,
    "start_time": "2022-08-19T11:54:35.342Z"
   },
   {
    "duration": 6,
    "start_time": "2022-08-19T11:54:35.353Z"
   },
   {
    "duration": 8,
    "start_time": "2022-08-19T11:54:35.360Z"
   },
   {
    "duration": 27,
    "start_time": "2022-08-19T11:54:35.369Z"
   },
   {
    "duration": 11,
    "start_time": "2022-08-19T11:54:35.398Z"
   },
   {
    "duration": 85,
    "start_time": "2022-08-19T11:56:26.356Z"
   },
   {
    "duration": 8,
    "start_time": "2022-08-19T11:56:51.591Z"
   },
   {
    "duration": 80445,
    "start_time": "2022-08-19T12:12:16.987Z"
   },
   {
    "duration": 159,
    "start_time": "2022-08-19T12:15:17.975Z"
   },
   {
    "duration": 182,
    "start_time": "2022-08-19T12:15:29.807Z"
   },
   {
    "duration": 172,
    "start_time": "2022-08-19T12:15:38.022Z"
   },
   {
    "duration": 320,
    "start_time": "2022-08-19T12:31:04.172Z"
   },
   {
    "duration": 158,
    "start_time": "2022-08-19T12:31:14.868Z"
   },
   {
    "duration": 286,
    "start_time": "2022-08-19T12:35:01.906Z"
   },
   {
    "duration": 281,
    "start_time": "2022-08-19T12:35:25.220Z"
   },
   {
    "duration": 153,
    "start_time": "2022-08-19T12:35:38.511Z"
   },
   {
    "duration": 165,
    "start_time": "2022-08-19T12:35:42.323Z"
   },
   {
    "duration": 205,
    "start_time": "2022-08-19T12:36:03.985Z"
   },
   {
    "duration": 303,
    "start_time": "2022-08-19T12:36:19.486Z"
   },
   {
    "duration": 181,
    "start_time": "2022-08-19T12:36:23.607Z"
   },
   {
    "duration": 253,
    "start_time": "2022-08-19T12:38:30.480Z"
   },
   {
    "duration": 270,
    "start_time": "2022-08-19T12:39:55.327Z"
   },
   {
    "duration": 529,
    "start_time": "2022-08-19T12:40:04.361Z"
   },
   {
    "duration": 346,
    "start_time": "2022-08-19T12:40:49.245Z"
   },
   {
    "duration": 298,
    "start_time": "2022-08-19T12:41:11.395Z"
   },
   {
    "duration": 321,
    "start_time": "2022-08-19T12:41:24.272Z"
   },
   {
    "duration": 341,
    "start_time": "2022-08-19T12:41:49.346Z"
   },
   {
    "duration": 9,
    "start_time": "2022-08-19T12:42:39.282Z"
   },
   {
    "duration": 172,
    "start_time": "2022-08-19T12:45:39.628Z"
   },
   {
    "duration": 472,
    "start_time": "2022-08-19T12:46:09.715Z"
   },
   {
    "duration": 218,
    "start_time": "2022-08-19T12:46:20.874Z"
   },
   {
    "duration": 241,
    "start_time": "2022-08-19T12:52:16.938Z"
   },
   {
    "duration": 276,
    "start_time": "2022-08-19T12:53:51.571Z"
   },
   {
    "duration": 224,
    "start_time": "2022-08-19T12:54:28.527Z"
   },
   {
    "duration": 14915,
    "start_time": "2022-08-19T12:57:16.572Z"
   },
   {
    "duration": 38,
    "start_time": "2022-08-19T12:57:31.489Z"
   },
   {
    "duration": 44,
    "start_time": "2022-08-19T12:58:12.660Z"
   },
   {
    "duration": 36,
    "start_time": "2022-08-19T12:59:42.294Z"
   },
   {
    "duration": 37,
    "start_time": "2022-08-19T12:59:46.953Z"
   },
   {
    "duration": 37,
    "start_time": "2022-08-19T13:03:01.041Z"
   },
   {
    "duration": 41,
    "start_time": "2022-08-19T13:03:10.165Z"
   },
   {
    "duration": 14803,
    "start_time": "2022-08-19T13:25:19.390Z"
   },
   {
    "duration": 45,
    "start_time": "2022-08-19T13:25:58.677Z"
   },
   {
    "duration": 38,
    "start_time": "2022-08-19T13:26:01.811Z"
   },
   {
    "duration": 52,
    "start_time": "2022-08-19T13:26:08.006Z"
   },
   {
    "duration": 40,
    "start_time": "2022-08-19T13:26:11.952Z"
   },
   {
    "duration": 36,
    "start_time": "2022-08-19T13:26:25.745Z"
   },
   {
    "duration": 39,
    "start_time": "2022-08-19T13:26:46.783Z"
   },
   {
    "duration": 12915,
    "start_time": "2022-08-19T13:28:12.111Z"
   },
   {
    "duration": 37,
    "start_time": "2022-08-19T13:28:38.818Z"
   },
   {
    "duration": 39,
    "start_time": "2022-08-19T13:29:11.718Z"
   },
   {
    "duration": 44,
    "start_time": "2022-08-19T13:29:24.018Z"
   },
   {
    "duration": 14765,
    "start_time": "2022-08-19T13:29:42.074Z"
   },
   {
    "duration": 48,
    "start_time": "2022-08-19T13:29:56.841Z"
   },
   {
    "duration": 7379,
    "start_time": "2022-08-19T13:30:18.074Z"
   },
   {
    "duration": 14735,
    "start_time": "2022-08-19T13:30:37.825Z"
   },
   {
    "duration": 28350,
    "start_time": "2022-08-19T13:31:29.588Z"
   },
   {
    "duration": 39,
    "start_time": "2022-08-19T13:32:19.117Z"
   },
   {
    "duration": 37,
    "start_time": "2022-08-19T13:32:27.417Z"
   },
   {
    "duration": 38,
    "start_time": "2022-08-19T13:32:40.151Z"
   },
   {
    "duration": 40,
    "start_time": "2022-08-19T13:34:04.726Z"
   },
   {
    "duration": 171,
    "start_time": "2022-08-19T13:36:40.721Z"
   },
   {
    "duration": 47,
    "start_time": "2022-08-19T13:43:16.429Z"
   },
   {
    "duration": 39,
    "start_time": "2022-08-19T13:44:48.929Z"
   },
   {
    "duration": 39,
    "start_time": "2022-08-19T13:46:07.027Z"
   },
   {
    "duration": 677538,
    "start_time": "2022-08-19T13:46:10.138Z"
   },
   {
    "duration": 33,
    "start_time": "2022-08-19T13:58:25.219Z"
   },
   {
    "duration": 34,
    "start_time": "2022-08-19T13:58:52.411Z"
   },
   {
    "duration": 34,
    "start_time": "2022-08-19T13:59:54.427Z"
   },
   {
    "duration": 12,
    "start_time": "2022-08-19T14:10:38.493Z"
   },
   {
    "duration": 1247,
    "start_time": "2022-08-19T14:16:01.981Z"
   },
   {
    "duration": 4,
    "start_time": "2022-08-19T14:16:03.230Z"
   },
   {
    "duration": 44,
    "start_time": "2022-08-19T14:16:03.238Z"
   },
   {
    "duration": 17,
    "start_time": "2022-08-19T14:16:03.285Z"
   },
   {
    "duration": 14,
    "start_time": "2022-08-19T14:16:03.303Z"
   },
   {
    "duration": 1364,
    "start_time": "2022-08-19T14:16:03.318Z"
   },
   {
    "duration": 39,
    "start_time": "2022-08-19T14:16:04.684Z"
   },
   {
    "duration": 4,
    "start_time": "2022-08-19T14:16:04.725Z"
   },
   {
    "duration": 9,
    "start_time": "2022-08-19T14:16:04.730Z"
   },
   {
    "duration": 22,
    "start_time": "2022-08-19T14:16:04.741Z"
   },
   {
    "duration": 11,
    "start_time": "2022-08-19T14:16:04.765Z"
   },
   {
    "duration": 10,
    "start_time": "2022-08-19T14:16:04.777Z"
   },
   {
    "duration": 13,
    "start_time": "2022-08-19T14:16:04.790Z"
   },
   {
    "duration": 9,
    "start_time": "2022-08-19T14:16:04.805Z"
   },
   {
    "duration": 13,
    "start_time": "2022-08-19T14:16:04.816Z"
   },
   {
    "duration": 138,
    "start_time": "2022-08-19T14:16:04.831Z"
   },
   {
    "duration": 17,
    "start_time": "2022-08-19T14:16:04.970Z"
   },
   {
    "duration": 4,
    "start_time": "2022-08-19T14:16:04.988Z"
   },
   {
    "duration": 10,
    "start_time": "2022-08-19T14:16:04.993Z"
   },
   {
    "duration": 35,
    "start_time": "2022-08-19T14:16:05.004Z"
   },
   {
    "duration": 13,
    "start_time": "2022-08-19T14:16:05.041Z"
   },
   {
    "duration": 13,
    "start_time": "2022-08-19T14:16:05.055Z"
   },
   {
    "duration": 53061,
    "start_time": "2022-08-19T14:16:05.070Z"
   },
   {
    "duration": 25047,
    "start_time": "2022-08-19T14:16:58.133Z"
   },
   {
    "duration": 34,
    "start_time": "2022-08-19T14:17:23.181Z"
   },
   {
    "duration": 48359,
    "start_time": "2022-08-19T14:17:23.216Z"
   },
   {
    "duration": 214380,
    "start_time": "2022-08-19T14:18:11.577Z"
   },
   {
    "duration": 197,
    "start_time": "2022-08-19T14:21:45.959Z"
   },
   {
    "duration": 1239,
    "start_time": "2022-08-19T14:23:12.536Z"
   },
   {
    "duration": 2,
    "start_time": "2022-08-19T14:23:13.777Z"
   },
   {
    "duration": 48,
    "start_time": "2022-08-19T14:23:13.781Z"
   },
   {
    "duration": 16,
    "start_time": "2022-08-19T14:23:13.830Z"
   },
   {
    "duration": 13,
    "start_time": "2022-08-19T14:23:13.849Z"
   },
   {
    "duration": 1325,
    "start_time": "2022-08-19T14:23:13.864Z"
   },
   {
    "duration": 38,
    "start_time": "2022-08-19T14:23:15.191Z"
   },
   {
    "duration": 4,
    "start_time": "2022-08-19T14:23:15.231Z"
   },
   {
    "duration": 11,
    "start_time": "2022-08-19T14:23:15.236Z"
   },
   {
    "duration": 8,
    "start_time": "2022-08-19T14:23:15.249Z"
   },
   {
    "duration": 7,
    "start_time": "2022-08-19T14:23:15.258Z"
   },
   {
    "duration": 23,
    "start_time": "2022-08-19T14:23:15.266Z"
   },
   {
    "duration": 14,
    "start_time": "2022-08-19T14:23:15.291Z"
   },
   {
    "duration": 9,
    "start_time": "2022-08-19T14:23:15.308Z"
   },
   {
    "duration": 6,
    "start_time": "2022-08-19T14:23:15.319Z"
   },
   {
    "duration": 152,
    "start_time": "2022-08-19T14:23:15.327Z"
   },
   {
    "duration": 13,
    "start_time": "2022-08-19T14:23:15.481Z"
   },
   {
    "duration": 28,
    "start_time": "2022-08-19T14:23:15.496Z"
   },
   {
    "duration": 8,
    "start_time": "2022-08-19T14:23:15.526Z"
   },
   {
    "duration": 22,
    "start_time": "2022-08-19T14:23:15.535Z"
   },
   {
    "duration": 11,
    "start_time": "2022-08-19T14:23:15.559Z"
   },
   {
    "duration": 11,
    "start_time": "2022-08-19T14:23:15.572Z"
   },
   {
    "duration": 27315,
    "start_time": "2022-08-19T14:23:18.289Z"
   },
   {
    "duration": 1207,
    "start_time": "2022-08-19T14:28:52.241Z"
   },
   {
    "duration": 3,
    "start_time": "2022-08-19T14:28:53.450Z"
   },
   {
    "duration": 50,
    "start_time": "2022-08-19T14:28:53.454Z"
   },
   {
    "duration": 16,
    "start_time": "2022-08-19T14:28:53.506Z"
   },
   {
    "duration": 12,
    "start_time": "2022-08-19T14:28:53.524Z"
   },
   {
    "duration": 1315,
    "start_time": "2022-08-19T14:28:53.538Z"
   },
   {
    "duration": 47,
    "start_time": "2022-08-19T14:28:54.855Z"
   },
   {
    "duration": 4,
    "start_time": "2022-08-19T14:28:54.903Z"
   },
   {
    "duration": 6,
    "start_time": "2022-08-19T14:28:54.908Z"
   },
   {
    "duration": 6,
    "start_time": "2022-08-19T14:28:54.916Z"
   },
   {
    "duration": 5,
    "start_time": "2022-08-19T14:28:54.923Z"
   },
   {
    "duration": 8,
    "start_time": "2022-08-19T14:28:54.930Z"
   },
   {
    "duration": 14,
    "start_time": "2022-08-19T14:28:54.939Z"
   },
   {
    "duration": 10,
    "start_time": "2022-08-19T14:28:54.955Z"
   },
   {
    "duration": 6,
    "start_time": "2022-08-19T14:28:54.987Z"
   },
   {
    "duration": 147,
    "start_time": "2022-08-19T14:28:54.995Z"
   },
   {
    "duration": 10,
    "start_time": "2022-08-19T14:28:55.144Z"
   },
   {
    "duration": 4,
    "start_time": "2022-08-19T14:28:55.155Z"
   },
   {
    "duration": 7,
    "start_time": "2022-08-19T14:28:55.160Z"
   },
   {
    "duration": 12,
    "start_time": "2022-08-19T14:28:55.187Z"
   },
   {
    "duration": 11,
    "start_time": "2022-08-19T14:28:55.201Z"
   },
   {
    "duration": 10,
    "start_time": "2022-08-19T14:28:58.742Z"
   },
   {
    "duration": 60684,
    "start_time": "2022-08-19T14:29:06.338Z"
   },
   {
    "duration": 40,
    "start_time": "2022-08-19T14:30:07.024Z"
   },
   {
    "duration": 53103,
    "start_time": "2022-08-19T14:30:07.066Z"
   },
   {
    "duration": 81083,
    "start_time": "2022-08-19T14:31:00.171Z"
   },
   {
    "duration": 33543,
    "start_time": "2022-08-19T14:32:21.256Z"
   },
   {
    "duration": 16686,
    "start_time": "2022-08-19T14:33:35.079Z"
   },
   {
    "duration": 41,
    "start_time": "2022-08-19T14:34:19.519Z"
   },
   {
    "duration": 41,
    "start_time": "2022-08-19T14:34:43.030Z"
   },
   {
    "duration": 43,
    "start_time": "2022-08-19T14:34:53.155Z"
   },
   {
    "duration": 48311,
    "start_time": "2022-08-19T14:35:08.582Z"
   },
   {
    "duration": 1285,
    "start_time": "2022-08-19T14:48:32.385Z"
   },
   {
    "duration": 3,
    "start_time": "2022-08-19T14:48:33.672Z"
   },
   {
    "duration": 46,
    "start_time": "2022-08-19T14:48:33.676Z"
   },
   {
    "duration": 16,
    "start_time": "2022-08-19T14:48:33.723Z"
   },
   {
    "duration": 13,
    "start_time": "2022-08-19T14:48:33.741Z"
   },
   {
    "duration": 1371,
    "start_time": "2022-08-19T14:48:33.755Z"
   },
   {
    "duration": 39,
    "start_time": "2022-08-19T14:48:35.127Z"
   },
   {
    "duration": 4,
    "start_time": "2022-08-19T14:48:35.167Z"
   },
   {
    "duration": 18,
    "start_time": "2022-08-19T14:48:35.172Z"
   },
   {
    "duration": 6,
    "start_time": "2022-08-19T14:48:35.191Z"
   },
   {
    "duration": 7,
    "start_time": "2022-08-19T14:48:35.199Z"
   },
   {
    "duration": 9,
    "start_time": "2022-08-19T14:48:35.208Z"
   },
   {
    "duration": 19,
    "start_time": "2022-08-19T14:48:35.218Z"
   },
   {
    "duration": 10,
    "start_time": "2022-08-19T14:48:35.239Z"
   },
   {
    "duration": 7,
    "start_time": "2022-08-19T14:48:35.250Z"
   },
   {
    "duration": 157,
    "start_time": "2022-08-19T14:48:35.258Z"
   },
   {
    "duration": 10,
    "start_time": "2022-08-19T14:48:35.417Z"
   },
   {
    "duration": 5,
    "start_time": "2022-08-19T14:48:35.428Z"
   },
   {
    "duration": 7,
    "start_time": "2022-08-19T14:48:35.435Z"
   },
   {
    "duration": 16,
    "start_time": "2022-08-19T14:48:35.443Z"
   },
   {
    "duration": 30,
    "start_time": "2022-08-19T14:48:35.461Z"
   },
   {
    "duration": 8,
    "start_time": "2022-08-19T14:48:35.493Z"
   },
   {
    "duration": 62640,
    "start_time": "2022-08-19T14:48:35.502Z"
   },
   {
    "duration": 17189,
    "start_time": "2022-08-19T14:49:38.144Z"
   },
   {
    "duration": 44,
    "start_time": "2022-08-19T14:49:55.334Z"
   },
   {
    "duration": 52442,
    "start_time": "2022-08-19T14:49:55.379Z"
   },
   {
    "duration": 11400,
    "start_time": "2022-08-19T14:50:47.824Z"
   },
   {
    "duration": 42,
    "start_time": "2022-08-19T14:51:17.274Z"
   },
   {
    "duration": 42,
    "start_time": "2022-08-19T14:51:29.630Z"
   },
   {
    "duration": 41,
    "start_time": "2022-08-19T14:51:44.304Z"
   },
   {
    "duration": 124508,
    "start_time": "2022-08-19T14:54:37.707Z"
   },
   {
    "duration": 414,
    "start_time": "2022-08-19T14:57:13.289Z"
   },
   {
    "duration": 84406,
    "start_time": "2022-08-19T14:57:40.913Z"
   },
   {
    "duration": 500,
    "start_time": "2022-08-19T14:59:36.888Z"
   },
   {
    "duration": 10,
    "start_time": "2022-08-19T15:00:33.713Z"
   },
   {
    "duration": 66594,
    "start_time": "2022-08-19T15:00:39.260Z"
   },
   {
    "duration": 24444,
    "start_time": "2022-08-19T15:02:40.024Z"
   },
   {
    "duration": 35,
    "start_time": "2022-08-19T15:03:15.727Z"
   },
   {
    "duration": 59337,
    "start_time": "2022-08-19T15:05:13.346Z"
   },
   {
    "duration": 33702,
    "start_time": "2022-08-19T15:06:40.706Z"
   },
   {
    "duration": 146576,
    "start_time": "2022-08-19T15:09:14.882Z"
   },
   {
    "duration": 257,
    "start_time": "2022-08-19T15:12:14.164Z"
   },
   {
    "duration": 329,
    "start_time": "2022-08-19T15:12:26.459Z"
   },
   {
    "duration": 137512,
    "start_time": "2022-08-19T15:14:44.613Z"
   },
   {
    "duration": 251,
    "start_time": "2022-08-19T15:18:47.088Z"
   },
   {
    "duration": 143,
    "start_time": "2022-08-19T15:29:11.560Z"
   },
   {
    "duration": 61,
    "start_time": "2022-08-19T15:29:52.979Z"
   },
   {
    "duration": 69293,
    "start_time": "2022-08-19T15:30:34.626Z"
   },
   {
    "duration": 145210,
    "start_time": "2022-08-19T15:31:55.132Z"
   },
   {
    "duration": 276,
    "start_time": "2022-08-19T15:34:20.344Z"
   },
   {
    "duration": 85394,
    "start_time": "2022-08-19T15:37:27.527Z"
   },
   {
    "duration": 20,
    "start_time": "2022-08-19T15:39:54.801Z"
   },
   {
    "duration": 4,
    "start_time": "2022-08-19T15:40:51.885Z"
   },
   {
    "duration": 205,
    "start_time": "2022-08-19T15:40:58.797Z"
   },
   {
    "duration": 273,
    "start_time": "2022-08-19T15:41:05.120Z"
   },
   {
    "duration": 238,
    "start_time": "2022-08-19T15:41:20.953Z"
   },
   {
    "duration": 365,
    "start_time": "2022-08-19T15:41:27.631Z"
   },
   {
    "duration": 270,
    "start_time": "2022-08-19T15:41:32.831Z"
   },
   {
    "duration": 265,
    "start_time": "2022-08-19T15:41:57.223Z"
   },
   {
    "duration": 463,
    "start_time": "2022-08-19T15:42:05.923Z"
   },
   {
    "duration": 92,
    "start_time": "2022-08-20T09:46:53.360Z"
   },
   {
    "duration": 1404,
    "start_time": "2022-08-20T09:47:09.253Z"
   },
   {
    "duration": 113,
    "start_time": "2022-08-20T09:47:19.122Z"
   },
   {
    "duration": 5,
    "start_time": "2022-08-20T09:47:31.460Z"
   },
   {
    "duration": 14,
    "start_time": "2022-08-20T09:47:31.468Z"
   },
   {
    "duration": 87,
    "start_time": "2022-08-20T09:47:31.484Z"
   },
   {
    "duration": 17,
    "start_time": "2022-08-20T09:47:31.573Z"
   },
   {
    "duration": 19,
    "start_time": "2022-08-20T09:47:31.592Z"
   },
   {
    "duration": 1382,
    "start_time": "2022-08-20T09:47:31.613Z"
   },
   {
    "duration": 38,
    "start_time": "2022-08-20T09:47:32.997Z"
   },
   {
    "duration": 4,
    "start_time": "2022-08-20T09:47:33.036Z"
   },
   {
    "duration": 6,
    "start_time": "2022-08-20T09:47:33.041Z"
   },
   {
    "duration": 8,
    "start_time": "2022-08-20T09:47:33.049Z"
   },
   {
    "duration": 6,
    "start_time": "2022-08-20T09:47:33.058Z"
   },
   {
    "duration": 5,
    "start_time": "2022-08-20T09:47:33.066Z"
   },
   {
    "duration": 23,
    "start_time": "2022-08-20T09:47:33.073Z"
   },
   {
    "duration": 20,
    "start_time": "2022-08-20T09:47:33.098Z"
   },
   {
    "duration": 6,
    "start_time": "2022-08-20T09:47:33.119Z"
   },
   {
    "duration": 131,
    "start_time": "2022-08-20T09:47:33.127Z"
   },
   {
    "duration": 9,
    "start_time": "2022-08-20T09:47:33.260Z"
   },
   {
    "duration": 3,
    "start_time": "2022-08-20T09:47:33.270Z"
   },
   {
    "duration": 6,
    "start_time": "2022-08-20T09:47:33.275Z"
   },
   {
    "duration": 34,
    "start_time": "2022-08-20T09:47:33.282Z"
   },
   {
    "duration": 11,
    "start_time": "2022-08-20T09:47:33.317Z"
   },
   {
    "duration": 8,
    "start_time": "2022-08-20T09:47:33.330Z"
   },
   {
    "duration": 11,
    "start_time": "2022-08-20T09:47:35.394Z"
   },
   {
    "duration": 337,
    "start_time": "2022-08-20T09:47:46.881Z"
   },
   {
    "duration": 126429,
    "start_time": "2022-08-20T09:47:51.283Z"
   },
   {
    "duration": 30,
    "start_time": "2022-08-20T09:50:40.561Z"
   },
   {
    "duration": 11,
    "start_time": "2022-08-20T09:53:20.832Z"
   },
   {
    "duration": 10,
    "start_time": "2022-08-20T10:02:12.430Z"
   },
   {
    "duration": 28,
    "start_time": "2022-08-20T10:02:28.398Z"
   },
   {
    "duration": 60,
    "start_time": "2022-08-20T10:03:27.593Z"
   },
   {
    "duration": 783,
    "start_time": "2022-08-20T10:03:48.129Z"
   },
   {
    "duration": 243529,
    "start_time": "2022-08-20T10:04:14.833Z"
   },
   {
    "duration": 279,
    "start_time": "2022-08-20T10:08:18.363Z"
   },
   {
    "duration": 103,
    "start_time": "2022-08-20T10:09:41.812Z"
   },
   {
    "duration": 38987,
    "start_time": "2022-08-20T10:20:09.381Z"
   },
   {
    "duration": 100,
    "start_time": "2022-08-20T10:21:15.006Z"
   },
   {
    "duration": 157,
    "start_time": "2022-08-20T10:21:59.183Z"
   },
   {
    "duration": 75372,
    "start_time": "2022-08-20T10:23:31.377Z"
   },
   {
    "duration": 64111,
    "start_time": "2022-08-20T10:25:08.438Z"
   },
   {
    "duration": 501,
    "start_time": "2022-08-20T10:26:27.111Z"
   },
   {
    "duration": 164652,
    "start_time": "2022-08-20T10:27:44.578Z"
   },
   {
    "duration": 34279,
    "start_time": "2022-08-20T10:30:29.232Z"
   },
   {
    "duration": 198,
    "start_time": "2022-08-20T10:31:03.513Z"
   },
   {
    "duration": 392,
    "start_time": "2022-08-20T10:31:48.211Z"
   },
   {
    "duration": 180,
    "start_time": "2022-08-20T10:32:12.914Z"
   },
   {
    "duration": 79607,
    "start_time": "2022-08-20T10:33:41.171Z"
   },
   {
    "duration": 44400,
    "start_time": "2022-08-20T10:36:55.408Z"
   },
   {
    "duration": 95274,
    "start_time": "2022-08-20T10:37:39.810Z"
   },
   {
    "duration": 70,
    "start_time": "2022-08-20T10:39:15.086Z"
   },
   {
    "duration": 55,
    "start_time": "2022-08-20T10:39:15.193Z"
   },
   {
    "duration": 27,
    "start_time": "2022-08-20T10:40:24.650Z"
   },
   {
    "duration": 59,
    "start_time": "2022-08-20T10:41:12.278Z"
   },
   {
    "duration": 367,
    "start_time": "2022-08-20T10:42:33.695Z"
   },
   {
    "duration": 166,
    "start_time": "2022-08-20T10:42:37.414Z"
   },
   {
    "duration": 574,
    "start_time": "2022-08-20T10:48:01.693Z"
   },
   {
    "duration": 60,
    "start_time": "2022-08-20T10:51:25.802Z"
   },
   {
    "duration": 626,
    "start_time": "2022-08-20T10:51:52.340Z"
   },
   {
    "duration": 20019,
    "start_time": "2022-08-20T11:00:57.944Z"
   },
   {
    "duration": 26,
    "start_time": "2022-08-20T11:01:48.307Z"
   },
   {
    "duration": 40897,
    "start_time": "2022-08-20T11:02:28.291Z"
   },
   {
    "duration": 24,
    "start_time": "2022-08-20T11:03:28.674Z"
   },
   {
    "duration": 18055,
    "start_time": "2022-08-20T11:04:04.635Z"
   },
   {
    "duration": 17331,
    "start_time": "2022-08-20T11:04:44.858Z"
   },
   {
    "duration": 25,
    "start_time": "2022-08-20T11:05:28.860Z"
   },
   {
    "duration": 25,
    "start_time": "2022-08-20T11:05:50.648Z"
   },
   {
    "duration": 48,
    "start_time": "2022-08-21T09:48:09.060Z"
   },
   {
    "duration": 2817,
    "start_time": "2022-08-22T09:35:21.287Z"
   },
   {
    "duration": 2,
    "start_time": "2022-08-22T09:35:24.106Z"
   },
   {
    "duration": 183,
    "start_time": "2022-08-22T09:35:24.110Z"
   },
   {
    "duration": 16,
    "start_time": "2022-08-22T09:35:24.295Z"
   },
   {
    "duration": 17,
    "start_time": "2022-08-22T09:35:24.313Z"
   },
   {
    "duration": 1332,
    "start_time": "2022-08-22T09:35:24.332Z"
   },
   {
    "duration": 44,
    "start_time": "2022-08-22T09:35:25.666Z"
   },
   {
    "duration": 3,
    "start_time": "2022-08-22T09:35:25.712Z"
   },
   {
    "duration": 5,
    "start_time": "2022-08-22T09:35:25.717Z"
   },
   {
    "duration": 5,
    "start_time": "2022-08-22T09:35:25.724Z"
   },
   {
    "duration": 5,
    "start_time": "2022-08-22T09:35:25.731Z"
   },
   {
    "duration": 3,
    "start_time": "2022-08-22T09:35:31.035Z"
   },
   {
    "duration": 14,
    "start_time": "2022-08-22T09:35:44.890Z"
   },
   {
    "duration": 4,
    "start_time": "2022-08-22T09:39:08.989Z"
   },
   {
    "duration": 13,
    "start_time": "2022-08-22T09:39:20.043Z"
   },
   {
    "duration": 3,
    "start_time": "2022-08-22T09:39:45.567Z"
   },
   {
    "duration": 14,
    "start_time": "2022-08-22T09:39:46.159Z"
   },
   {
    "duration": 24,
    "start_time": "2022-08-22T09:40:43.136Z"
   },
   {
    "duration": 8,
    "start_time": "2022-08-22T09:40:43.718Z"
   },
   {
    "duration": 81,
    "start_time": "2022-08-22T09:41:11.568Z"
   },
   {
    "duration": 77,
    "start_time": "2022-08-22T09:42:03.673Z"
   },
   {
    "duration": 210,
    "start_time": "2022-08-22T09:55:03.240Z"
   },
   {
    "duration": 4,
    "start_time": "2022-08-22T09:55:10.869Z"
   },
   {
    "duration": 5,
    "start_time": "2022-08-22T09:55:10.875Z"
   },
   {
    "duration": 51,
    "start_time": "2022-08-22T09:55:10.881Z"
   },
   {
    "duration": 13,
    "start_time": "2022-08-22T09:55:10.934Z"
   },
   {
    "duration": 14,
    "start_time": "2022-08-22T09:55:10.949Z"
   },
   {
    "duration": 1396,
    "start_time": "2022-08-22T09:55:10.965Z"
   },
   {
    "duration": 48,
    "start_time": "2022-08-22T09:55:12.363Z"
   },
   {
    "duration": 5,
    "start_time": "2022-08-22T09:55:12.412Z"
   },
   {
    "duration": 8,
    "start_time": "2022-08-22T09:55:12.420Z"
   },
   {
    "duration": 11,
    "start_time": "2022-08-22T09:55:12.429Z"
   },
   {
    "duration": 8,
    "start_time": "2022-08-22T09:55:12.441Z"
   },
   {
    "duration": 5,
    "start_time": "2022-08-22T09:55:12.450Z"
   },
   {
    "duration": 16,
    "start_time": "2022-08-22T09:55:12.457Z"
   },
   {
    "duration": 32,
    "start_time": "2022-08-22T09:55:12.474Z"
   },
   {
    "duration": 13,
    "start_time": "2022-08-22T09:55:12.509Z"
   },
   {
    "duration": 8,
    "start_time": "2022-08-22T09:55:12.524Z"
   },
   {
    "duration": 143,
    "start_time": "2022-08-22T09:55:12.534Z"
   },
   {
    "duration": 8,
    "start_time": "2022-08-22T09:55:12.679Z"
   },
   {
    "duration": 4,
    "start_time": "2022-08-22T09:55:12.688Z"
   },
   {
    "duration": 19,
    "start_time": "2022-08-22T09:55:12.693Z"
   },
   {
    "duration": 26,
    "start_time": "2022-08-22T09:55:12.713Z"
   },
   {
    "duration": 13,
    "start_time": "2022-08-22T09:55:12.740Z"
   },
   {
    "duration": 12,
    "start_time": "2022-08-22T09:55:12.755Z"
   },
   {
    "duration": 55308,
    "start_time": "2022-08-22T09:55:12.770Z"
   },
   {
    "duration": 12,
    "start_time": "2022-08-22T10:08:19.756Z"
   },
   {
    "duration": 33,
    "start_time": "2022-08-22T10:09:09.715Z"
   },
   {
    "duration": 37,
    "start_time": "2022-08-22T10:09:37.844Z"
   },
   {
    "duration": 38,
    "start_time": "2022-08-22T10:09:48.759Z"
   },
   {
    "duration": 38,
    "start_time": "2022-08-22T10:10:37.805Z"
   },
   {
    "duration": 575,
    "start_time": "2022-08-22T10:14:27.118Z"
   },
   {
    "duration": 561,
    "start_time": "2022-08-22T10:14:52.068Z"
   },
   {
    "duration": 742,
    "start_time": "2022-08-22T10:15:11.721Z"
   },
   {
    "duration": 12,
    "start_time": "2022-08-22T10:23:24.218Z"
   },
   {
    "duration": 18,
    "start_time": "2022-08-22T10:26:59.487Z"
   },
   {
    "duration": 149,
    "start_time": "2022-08-22T10:27:21.035Z"
   },
   {
    "duration": 11,
    "start_time": "2022-08-22T10:27:25.918Z"
   },
   {
    "duration": 97,
    "start_time": "2022-08-22T10:34:50.445Z"
   },
   {
    "duration": 1295,
    "start_time": "2022-08-22T10:50:08.760Z"
   },
   {
    "duration": 3,
    "start_time": "2022-08-22T10:50:10.057Z"
   },
   {
    "duration": 46,
    "start_time": "2022-08-22T10:50:10.062Z"
   },
   {
    "duration": 17,
    "start_time": "2022-08-22T10:50:10.110Z"
   },
   {
    "duration": 13,
    "start_time": "2022-08-22T10:50:10.128Z"
   },
   {
    "duration": 1385,
    "start_time": "2022-08-22T10:50:10.142Z"
   },
   {
    "duration": 38,
    "start_time": "2022-08-22T10:50:11.529Z"
   },
   {
    "duration": 4,
    "start_time": "2022-08-22T10:50:11.568Z"
   },
   {
    "duration": 6,
    "start_time": "2022-08-22T10:50:11.573Z"
   },
   {
    "duration": 26,
    "start_time": "2022-08-22T10:50:11.581Z"
   },
   {
    "duration": 4,
    "start_time": "2022-08-22T10:50:11.609Z"
   },
   {
    "duration": 8,
    "start_time": "2022-08-22T10:50:11.614Z"
   },
   {
    "duration": 14,
    "start_time": "2022-08-22T10:50:11.623Z"
   },
   {
    "duration": 7,
    "start_time": "2022-08-22T10:50:11.638Z"
   },
   {
    "duration": 8,
    "start_time": "2022-08-22T10:50:11.646Z"
   },
   {
    "duration": 146,
    "start_time": "2022-08-22T10:50:11.655Z"
   },
   {
    "duration": 10,
    "start_time": "2022-08-22T10:50:11.807Z"
   },
   {
    "duration": 4,
    "start_time": "2022-08-22T10:50:11.819Z"
   },
   {
    "duration": 6,
    "start_time": "2022-08-22T10:50:11.825Z"
   },
   {
    "duration": 14,
    "start_time": "2022-08-22T10:50:11.833Z"
   },
   {
    "duration": 12,
    "start_time": "2022-08-22T10:50:11.848Z"
   },
   {
    "duration": 13,
    "start_time": "2022-08-22T10:50:11.862Z"
   },
   {
    "duration": 56935,
    "start_time": "2022-08-22T10:50:11.907Z"
   },
   {
    "duration": 56010,
    "start_time": "2022-08-22T10:51:22.973Z"
   },
   {
    "duration": 804,
    "start_time": "2022-08-22T10:52:18.985Z"
   },
   {
    "duration": 13615,
    "start_time": "2022-08-22T10:54:14.991Z"
   },
   {
    "duration": 33,
    "start_time": "2022-08-22T10:54:54.230Z"
   },
   {
    "duration": 38,
    "start_time": "2022-08-22T10:55:09.003Z"
   },
   {
    "duration": 37,
    "start_time": "2022-08-22T10:55:19.985Z"
   },
   {
    "duration": 36,
    "start_time": "2022-08-22T10:55:53.419Z"
   },
   {
    "duration": 41,
    "start_time": "2022-08-22T10:56:18.028Z"
   },
   {
    "duration": 37,
    "start_time": "2022-08-22T11:00:42.055Z"
   },
   {
    "duration": 11,
    "start_time": "2022-08-22T11:01:01.569Z"
   },
   {
    "duration": 67313,
    "start_time": "2022-08-22T11:01:09.384Z"
   },
   {
    "duration": 705,
    "start_time": "2022-08-22T11:02:16.699Z"
   },
   {
    "duration": 16921,
    "start_time": "2022-08-22T11:03:26.726Z"
   },
   {
    "duration": 57114,
    "start_time": "2022-08-22T11:05:51.815Z"
   },
   {
    "duration": 1347,
    "start_time": "2022-08-22T11:18:45.884Z"
   },
   {
    "duration": 2,
    "start_time": "2022-08-22T11:18:47.233Z"
   },
   {
    "duration": 43,
    "start_time": "2022-08-22T11:18:47.236Z"
   },
   {
    "duration": 15,
    "start_time": "2022-08-22T11:18:47.281Z"
   },
   {
    "duration": 11,
    "start_time": "2022-08-22T11:18:47.298Z"
   },
   {
    "duration": 1257,
    "start_time": "2022-08-22T11:18:47.310Z"
   },
   {
    "duration": 46,
    "start_time": "2022-08-22T11:18:48.568Z"
   },
   {
    "duration": 4,
    "start_time": "2022-08-22T11:18:48.615Z"
   },
   {
    "duration": 6,
    "start_time": "2022-08-22T11:18:48.621Z"
   },
   {
    "duration": 7,
    "start_time": "2022-08-22T11:18:48.628Z"
   },
   {
    "duration": 7,
    "start_time": "2022-08-22T11:18:48.636Z"
   },
   {
    "duration": 5,
    "start_time": "2022-08-22T11:18:48.644Z"
   },
   {
    "duration": 14,
    "start_time": "2022-08-22T11:18:48.650Z"
   },
   {
    "duration": 7,
    "start_time": "2022-08-22T11:18:48.667Z"
   },
   {
    "duration": 37,
    "start_time": "2022-08-22T11:18:48.675Z"
   },
   {
    "duration": 128,
    "start_time": "2022-08-22T11:18:48.714Z"
   },
   {
    "duration": 9,
    "start_time": "2022-08-22T11:18:48.843Z"
   },
   {
    "duration": 4,
    "start_time": "2022-08-22T11:18:48.854Z"
   },
   {
    "duration": 9,
    "start_time": "2022-08-22T11:18:48.859Z"
   },
   {
    "duration": 14,
    "start_time": "2022-08-22T11:18:48.869Z"
   },
   {
    "duration": 32,
    "start_time": "2022-08-22T11:18:48.884Z"
   },
   {
    "duration": 9,
    "start_time": "2022-08-22T11:18:48.917Z"
   },
   {
    "duration": 65440,
    "start_time": "2022-08-22T11:18:48.928Z"
   },
   {
    "duration": 16073,
    "start_time": "2022-08-22T11:20:46.550Z"
   },
   {
    "duration": 41,
    "start_time": "2022-08-22T11:22:27.055Z"
   },
   {
    "duration": 43,
    "start_time": "2022-08-22T11:22:39.493Z"
   },
   {
    "duration": 41,
    "start_time": "2022-08-22T11:22:44.553Z"
   },
   {
    "duration": 43,
    "start_time": "2022-08-22T11:23:22.125Z"
   },
   {
    "duration": 53641,
    "start_time": "2022-08-22T11:24:46.888Z"
   },
   {
    "duration": 125789,
    "start_time": "2022-08-22T11:25:40.531Z"
   },
   {
    "duration": 71801,
    "start_time": "2022-08-22T11:27:46.322Z"
   },
   {
    "duration": 10,
    "start_time": "2022-08-22T11:28:58.124Z"
   },
   {
    "duration": 33249,
    "start_time": "2022-08-22T11:28:58.135Z"
   },
   {
    "duration": 1340,
    "start_time": "2022-08-22T11:36:29.872Z"
   },
   {
    "duration": 3,
    "start_time": "2022-08-22T11:36:31.214Z"
   },
   {
    "duration": 50,
    "start_time": "2022-08-22T11:36:31.218Z"
   },
   {
    "duration": 15,
    "start_time": "2022-08-22T11:36:31.270Z"
   },
   {
    "duration": 14,
    "start_time": "2022-08-22T11:36:31.287Z"
   },
   {
    "duration": 1353,
    "start_time": "2022-08-22T11:36:31.303Z"
   },
   {
    "duration": 53,
    "start_time": "2022-08-22T11:36:32.657Z"
   },
   {
    "duration": 4,
    "start_time": "2022-08-22T11:36:32.712Z"
   },
   {
    "duration": 7,
    "start_time": "2022-08-22T11:36:32.717Z"
   },
   {
    "duration": 10,
    "start_time": "2022-08-22T11:36:32.726Z"
   },
   {
    "duration": 6,
    "start_time": "2022-08-22T11:36:32.738Z"
   },
   {
    "duration": 6,
    "start_time": "2022-08-22T11:36:32.746Z"
   },
   {
    "duration": 28,
    "start_time": "2022-08-22T11:36:32.754Z"
   },
   {
    "duration": 21,
    "start_time": "2022-08-22T11:36:32.785Z"
   },
   {
    "duration": 10,
    "start_time": "2022-08-22T11:36:32.807Z"
   },
   {
    "duration": 140,
    "start_time": "2022-08-22T11:36:32.818Z"
   },
   {
    "duration": 12,
    "start_time": "2022-08-22T11:36:32.960Z"
   },
   {
    "duration": 6,
    "start_time": "2022-08-22T11:36:32.973Z"
   },
   {
    "duration": 7,
    "start_time": "2022-08-22T11:36:32.982Z"
   },
   {
    "duration": 28,
    "start_time": "2022-08-22T11:36:32.990Z"
   },
   {
    "duration": 17,
    "start_time": "2022-08-22T11:36:33.020Z"
   },
   {
    "duration": 11,
    "start_time": "2022-08-22T11:36:33.038Z"
   },
   {
    "duration": 119,
    "start_time": "2022-08-22T11:36:33.051Z"
   },
   {
    "duration": 0,
    "start_time": "2022-08-22T11:36:33.172Z"
   },
   {
    "duration": 0,
    "start_time": "2022-08-22T11:36:33.173Z"
   },
   {
    "duration": 0,
    "start_time": "2022-08-22T11:36:33.174Z"
   },
   {
    "duration": 3,
    "start_time": "2022-08-22T11:38:48.621Z"
   },
   {
    "duration": 0,
    "start_time": "2022-08-22T11:38:48.692Z"
   },
   {
    "duration": 0,
    "start_time": "2022-08-22T11:38:48.693Z"
   },
   {
    "duration": 0,
    "start_time": "2022-08-22T11:38:48.694Z"
   },
   {
    "duration": 0,
    "start_time": "2022-08-22T11:38:48.695Z"
   },
   {
    "duration": 1,
    "start_time": "2022-08-22T11:38:48.696Z"
   },
   {
    "duration": 17,
    "start_time": "2022-08-22T11:40:12.909Z"
   },
   {
    "duration": 11,
    "start_time": "2022-08-22T11:40:18.699Z"
   },
   {
    "duration": 70,
    "start_time": "2022-08-22T11:40:30.667Z"
   },
   {
    "duration": 70,
    "start_time": "2022-08-22T11:40:36.724Z"
   },
   {
    "duration": 7,
    "start_time": "2022-08-22T11:41:13.809Z"
   },
   {
    "duration": 9,
    "start_time": "2022-08-22T11:41:13.820Z"
   },
   {
    "duration": 44,
    "start_time": "2022-08-22T11:41:13.830Z"
   },
   {
    "duration": 12,
    "start_time": "2022-08-22T11:41:13.875Z"
   },
   {
    "duration": 11,
    "start_time": "2022-08-22T11:41:13.889Z"
   },
   {
    "duration": 1352,
    "start_time": "2022-08-22T11:41:13.901Z"
   },
   {
    "duration": 38,
    "start_time": "2022-08-22T11:41:15.254Z"
   },
   {
    "duration": 15,
    "start_time": "2022-08-22T11:41:15.305Z"
   },
   {
    "duration": 6,
    "start_time": "2022-08-22T11:41:15.322Z"
   },
   {
    "duration": 10,
    "start_time": "2022-08-22T11:41:15.329Z"
   },
   {
    "duration": 6,
    "start_time": "2022-08-22T11:41:15.340Z"
   },
   {
    "duration": 5,
    "start_time": "2022-08-22T11:41:15.348Z"
   },
   {
    "duration": 13,
    "start_time": "2022-08-22T11:41:15.354Z"
   },
   {
    "duration": 6,
    "start_time": "2022-08-22T11:41:15.369Z"
   },
   {
    "duration": 11,
    "start_time": "2022-08-22T11:41:15.377Z"
   },
   {
    "duration": 144,
    "start_time": "2022-08-22T11:41:15.390Z"
   },
   {
    "duration": 9,
    "start_time": "2022-08-22T11:41:15.536Z"
   },
   {
    "duration": 3,
    "start_time": "2022-08-22T11:41:15.547Z"
   },
   {
    "duration": 10,
    "start_time": "2022-08-22T11:41:15.552Z"
   },
   {
    "duration": 16,
    "start_time": "2022-08-22T11:41:15.564Z"
   },
   {
    "duration": 37,
    "start_time": "2022-08-22T11:41:15.582Z"
   },
   {
    "duration": 12,
    "start_time": "2022-08-22T11:41:15.622Z"
   },
   {
    "duration": 3,
    "start_time": "2022-08-22T11:41:15.636Z"
   },
   {
    "duration": 69031,
    "start_time": "2022-08-22T11:41:15.640Z"
   },
   {
    "duration": 17824,
    "start_time": "2022-08-22T11:42:24.673Z"
   },
   {
    "duration": 61852,
    "start_time": "2022-08-22T11:42:42.499Z"
   },
   {
    "duration": 132822,
    "start_time": "2022-08-22T11:43:44.352Z"
   },
   {
    "duration": 68551,
    "start_time": "2022-08-22T11:45:57.175Z"
   },
   {
    "duration": 10,
    "start_time": "2022-08-22T11:47:05.728Z"
   },
   {
    "duration": 10,
    "start_time": "2022-08-22T12:23:18.292Z"
   },
   {
    "duration": 13,
    "start_time": "2022-08-22T12:23:19.157Z"
   },
   {
    "duration": 69684,
    "start_time": "2022-08-22T12:23:21.694Z"
   },
   {
    "duration": 24764,
    "start_time": "2022-08-22T12:24:31.380Z"
   },
   {
    "duration": 40,
    "start_time": "2022-08-22T12:24:56.145Z"
   },
   {
    "duration": 22835,
    "start_time": "2022-08-22T12:26:28.386Z"
   },
   {
    "duration": 41884,
    "start_time": "2022-08-22T12:26:51.223Z"
   },
   {
    "duration": 2,
    "start_time": "2022-08-22T12:32:16.945Z"
   },
   {
    "duration": 37,
    "start_time": "2022-08-22T12:33:30.170Z"
   },
   {
    "duration": 34,
    "start_time": "2022-08-22T12:33:50.743Z"
   },
   {
    "duration": 35,
    "start_time": "2022-08-22T12:33:55.554Z"
   },
   {
    "duration": 24,
    "start_time": "2022-08-22T12:34:25.147Z"
   },
   {
    "duration": 90250,
    "start_time": "2022-08-22T12:34:38.244Z"
   },
   {
    "duration": 51,
    "start_time": "2022-08-22T12:37:43.740Z"
   },
   {
    "duration": 58,
    "start_time": "2022-08-22T12:37:59.893Z"
   },
   {
    "duration": 52,
    "start_time": "2022-08-22T12:40:47.557Z"
   },
   {
    "duration": 56,
    "start_time": "2022-08-22T12:40:53.698Z"
   },
   {
    "duration": 56439,
    "start_time": "2022-08-22T12:41:36.902Z"
   },
   {
    "duration": 131205,
    "start_time": "2022-08-22T12:44:21.114Z"
   },
   {
    "duration": 463,
    "start_time": "2022-08-22T12:47:18.937Z"
   },
   {
    "duration": 39098,
    "start_time": "2022-08-22T12:48:15.841Z"
   },
   {
    "duration": 74994,
    "start_time": "2022-08-22T12:48:54.941Z"
   },
   {
    "duration": 266,
    "start_time": "2022-08-22T12:52:25.081Z"
   },
   {
    "duration": 534,
    "start_time": "2022-08-22T12:52:34.553Z"
   },
   {
    "duration": 401,
    "start_time": "2022-08-22T12:52:44.733Z"
   },
   {
    "duration": 88597,
    "start_time": "2022-08-22T12:53:05.267Z"
   },
   {
    "duration": 186,
    "start_time": "2022-08-22T12:56:23.531Z"
   },
   {
    "duration": 46,
    "start_time": "2022-08-22T12:56:27.385Z"
   },
   {
    "duration": 88911,
    "start_time": "2022-08-22T12:58:48.233Z"
   },
   {
    "duration": 48705,
    "start_time": "2022-08-22T13:01:58.965Z"
   },
   {
    "duration": 135,
    "start_time": "2022-08-22T13:02:47.672Z"
   },
   {
    "duration": 190,
    "start_time": "2022-08-22T13:03:29.217Z"
   },
   {
    "duration": 64900,
    "start_time": "2022-08-22T13:03:52.117Z"
   },
   {
    "duration": 97744,
    "start_time": "2022-08-22T13:04:57.019Z"
   },
   {
    "duration": 141,
    "start_time": "2022-08-22T13:06:34.766Z"
   },
   {
    "duration": 252,
    "start_time": "2022-08-22T13:07:02.353Z"
   },
   {
    "duration": 577,
    "start_time": "2022-08-22T13:07:15.730Z"
   },
   {
    "duration": 63,
    "start_time": "2022-08-22T13:07:32.318Z"
   },
   {
    "duration": 37,
    "start_time": "2022-08-22T13:09:14.667Z"
   },
   {
    "duration": 68,
    "start_time": "2022-08-22T13:11:59.772Z"
   },
   {
    "duration": 5,
    "start_time": "2022-08-22T13:12:33.583Z"
   },
   {
    "duration": 3,
    "start_time": "2022-08-22T13:12:49.980Z"
   },
   {
    "duration": 12,
    "start_time": "2022-08-22T13:13:22.118Z"
   },
   {
    "duration": 9,
    "start_time": "2022-08-22T13:13:26.762Z"
   },
   {
    "duration": 5,
    "start_time": "2022-08-22T13:13:35.420Z"
   },
   {
    "duration": 3,
    "start_time": "2022-08-22T13:13:38.080Z"
   },
   {
    "duration": 12,
    "start_time": "2022-08-22T13:13:39.892Z"
   },
   {
    "duration": 14,
    "start_time": "2022-08-22T13:13:46.187Z"
   },
   {
    "duration": 9,
    "start_time": "2022-08-22T13:13:54.450Z"
   },
   {
    "duration": 9,
    "start_time": "2022-08-22T13:13:58.693Z"
   },
   {
    "duration": 9,
    "start_time": "2022-08-22T13:14:03.090Z"
   },
   {
    "duration": 5,
    "start_time": "2022-08-22T13:15:00.505Z"
   },
   {
    "duration": 5,
    "start_time": "2022-08-22T13:15:35.501Z"
   },
   {
    "duration": 11,
    "start_time": "2022-08-22T13:20:17.501Z"
   },
   {
    "duration": 20,
    "start_time": "2022-08-22T13:20:52.266Z"
   },
   {
    "duration": 7,
    "start_time": "2022-08-22T13:22:33.491Z"
   },
   {
    "duration": 57,
    "start_time": "2022-08-22T13:23:04.407Z"
   },
   {
    "duration": 12,
    "start_time": "2022-08-22T13:23:59.750Z"
   },
   {
    "duration": 58,
    "start_time": "2022-08-22T13:24:02.554Z"
   },
   {
    "duration": 129,
    "start_time": "2022-08-22T13:24:23.820Z"
   },
   {
    "duration": 68,
    "start_time": "2022-08-22T13:24:27.758Z"
   },
   {
    "duration": 12,
    "start_time": "2022-08-22T13:24:46.573Z"
   },
   {
    "duration": 64,
    "start_time": "2022-08-22T13:24:46.587Z"
   },
   {
    "duration": 12,
    "start_time": "2022-08-22T13:24:49.180Z"
   },
   {
    "duration": 59,
    "start_time": "2022-08-22T13:24:49.471Z"
   },
   {
    "duration": 12,
    "start_time": "2022-08-22T13:24:54.495Z"
   },
   {
    "duration": 60,
    "start_time": "2022-08-22T13:24:54.757Z"
   },
   {
    "duration": 12,
    "start_time": "2022-08-22T13:24:58.014Z"
   },
   {
    "duration": 57,
    "start_time": "2022-08-22T13:24:58.232Z"
   },
   {
    "duration": 780,
    "start_time": "2022-08-22T13:26:06.007Z"
   },
   {
    "duration": 708,
    "start_time": "2022-08-22T13:26:20.720Z"
   },
   {
    "duration": 678,
    "start_time": "2022-08-22T13:26:33.691Z"
   },
   {
    "duration": 664,
    "start_time": "2022-08-22T13:27:51.394Z"
   },
   {
    "duration": 9,
    "start_time": "2022-08-22T13:30:48.940Z"
   },
   {
    "duration": 78,
    "start_time": "2022-08-22T13:32:05.641Z"
   },
   {
    "duration": 87,
    "start_time": "2022-08-22T13:32:50.372Z"
   },
   {
    "duration": 78,
    "start_time": "2022-08-22T13:33:04.083Z"
   },
   {
    "duration": 74,
    "start_time": "2022-08-22T13:34:25.129Z"
   },
   {
    "duration": 113,
    "start_time": "2022-08-22T13:35:57.910Z"
   },
   {
    "duration": 10,
    "start_time": "2022-08-22T13:37:14.894Z"
   },
   {
    "duration": 4,
    "start_time": "2022-08-22T13:37:23.852Z"
   },
   {
    "duration": 3,
    "start_time": "2022-08-22T13:38:30.277Z"
   },
   {
    "duration": 9,
    "start_time": "2022-08-22T13:40:11.699Z"
   },
   {
    "duration": 3,
    "start_time": "2022-08-22T13:40:16.221Z"
   },
   {
    "duration": 6,
    "start_time": "2022-08-22T13:43:08.137Z"
   },
   {
    "duration": 3,
    "start_time": "2022-08-22T13:43:12.556Z"
   },
   {
    "duration": 3,
    "start_time": "2022-08-22T13:43:33.059Z"
   },
   {
    "duration": 5,
    "start_time": "2022-08-22T13:43:40.241Z"
   },
   {
    "duration": 8,
    "start_time": "2022-08-22T13:43:50.449Z"
   },
   {
    "duration": 4,
    "start_time": "2022-08-22T13:43:58.346Z"
   },
   {
    "duration": 10,
    "start_time": "2022-08-22T13:44:00.476Z"
   },
   {
    "duration": 6,
    "start_time": "2022-08-22T13:44:05.544Z"
   },
   {
    "duration": 1768,
    "start_time": "2022-08-22T22:23:14.558Z"
   },
   {
    "duration": 4,
    "start_time": "2022-08-22T22:23:16.329Z"
   },
   {
    "duration": 54,
    "start_time": "2022-08-22T22:23:16.335Z"
   },
   {
    "duration": 30,
    "start_time": "2022-08-22T22:23:16.391Z"
   },
   {
    "duration": 14,
    "start_time": "2022-08-22T22:23:16.423Z"
   },
   {
    "duration": 1736,
    "start_time": "2022-08-22T22:23:16.439Z"
   },
   {
    "duration": 57,
    "start_time": "2022-08-22T22:23:18.177Z"
   },
   {
    "duration": 5,
    "start_time": "2022-08-22T22:23:18.236Z"
   },
   {
    "duration": 6,
    "start_time": "2022-08-22T22:23:18.243Z"
   },
   {
    "duration": 7,
    "start_time": "2022-08-22T22:23:18.252Z"
   },
   {
    "duration": 34,
    "start_time": "2022-08-22T22:23:18.261Z"
   },
   {
    "duration": 14,
    "start_time": "2022-08-22T22:23:18.297Z"
   },
   {
    "duration": 33,
    "start_time": "2022-08-22T22:23:18.314Z"
   },
   {
    "duration": 11,
    "start_time": "2022-08-22T22:23:18.349Z"
   },
   {
    "duration": 46,
    "start_time": "2022-08-22T22:23:18.361Z"
   },
   {
    "duration": 151,
    "start_time": "2022-08-22T22:23:18.409Z"
   },
   {
    "duration": 12,
    "start_time": "2022-08-22T22:23:18.562Z"
   },
   {
    "duration": 29,
    "start_time": "2022-08-22T22:23:18.575Z"
   },
   {
    "duration": 13,
    "start_time": "2022-08-22T22:23:18.609Z"
   },
   {
    "duration": 19,
    "start_time": "2022-08-22T22:23:18.625Z"
   },
   {
    "duration": 15,
    "start_time": "2022-08-22T22:23:18.646Z"
   },
   {
    "duration": 30,
    "start_time": "2022-08-22T22:23:18.663Z"
   },
   {
    "duration": 89330,
    "start_time": "2022-08-22T22:23:18.695Z"
   },
   {
    "duration": 1038,
    "start_time": "2022-08-22T22:24:48.029Z"
   },
   {
    "duration": 22247,
    "start_time": "2022-08-22T22:24:49.070Z"
   },
   {
    "duration": 72469,
    "start_time": "2022-08-22T22:25:11.319Z"
   },
   {
    "duration": 156595,
    "start_time": "2022-08-22T22:26:23.794Z"
   },
   {
    "duration": 78321,
    "start_time": "2022-08-22T22:29:00.397Z"
   },
   {
    "duration": 99,
    "start_time": "2022-08-22T22:30:18.720Z"
   },
   {
    "duration": 12,
    "start_time": "2022-08-22T22:30:18.821Z"
   },
   {
    "duration": 94,
    "start_time": "2022-08-22T22:30:18.835Z"
   },
   {
    "duration": 12,
    "start_time": "2022-08-22T22:30:18.931Z"
   },
   {
    "duration": 98,
    "start_time": "2022-08-22T22:30:18.945Z"
   },
   {
    "duration": 89695,
    "start_time": "2022-08-22T22:30:19.045Z"
   },
   {
    "duration": 29041,
    "start_time": "2022-08-22T22:31:48.742Z"
   },
   {
    "duration": 54752,
    "start_time": "2022-08-22T22:32:17.785Z"
   },
   {
    "duration": 113766,
    "start_time": "2022-08-22T22:33:12.539Z"
   },
   {
    "duration": 69101,
    "start_time": "2022-08-22T22:35:06.307Z"
   },
   {
    "duration": 156566,
    "start_time": "2022-08-22T22:36:15.413Z"
   },
   {
    "duration": 45479,
    "start_time": "2022-08-22T22:38:51.981Z"
   },
   {
    "duration": 88892,
    "start_time": "2022-08-22T22:39:37.462Z"
   },
   {
    "duration": 96823,
    "start_time": "2022-08-22T22:41:06.356Z"
   },
   {
    "duration": 51076,
    "start_time": "2022-08-22T22:42:43.181Z"
   },
   {
    "duration": 66483,
    "start_time": "2022-08-22T22:43:34.259Z"
   },
   {
    "duration": 105762,
    "start_time": "2022-08-22T22:44:40.744Z"
   },
   {
    "duration": 47,
    "start_time": "2022-08-22T22:46:26.508Z"
   },
   {
    "duration": 49,
    "start_time": "2022-08-22T22:46:26.557Z"
   },
   {
    "duration": 29,
    "start_time": "2022-08-22T22:46:26.608Z"
   },
   {
    "duration": 81,
    "start_time": "2022-08-22T22:46:26.639Z"
   },
   {
    "duration": 528,
    "start_time": "2022-08-22T22:46:26.722Z"
   },
   {
    "duration": 554,
    "start_time": "2022-08-22T22:46:27.252Z"
   },
   {
    "duration": 380,
    "start_time": "2022-08-22T22:46:27.807Z"
   },
   {
    "duration": 719,
    "start_time": "2022-08-22T22:46:28.188Z"
   },
   {
    "duration": 99,
    "start_time": "2022-08-22T22:46:28.909Z"
   },
   {
    "duration": 390,
    "start_time": "2022-08-22T22:46:29.016Z"
   },
   {
    "duration": 377,
    "start_time": "2022-08-22T22:46:29.417Z"
   },
   {
    "duration": 398,
    "start_time": "2022-08-22T22:46:29.801Z"
   },
   {
    "duration": 49,
    "start_time": "2022-08-23T11:03:39.935Z"
   },
   {
    "duration": 1622,
    "start_time": "2022-08-23T11:03:51.113Z"
   },
   {
    "duration": 3,
    "start_time": "2022-08-23T11:03:52.736Z"
   },
   {
    "duration": 187,
    "start_time": "2022-08-23T11:03:52.741Z"
   },
   {
    "duration": 17,
    "start_time": "2022-08-23T11:03:52.930Z"
   },
   {
    "duration": 12,
    "start_time": "2022-08-23T11:03:52.949Z"
   },
   {
    "duration": 1594,
    "start_time": "2022-08-23T11:03:52.963Z"
   },
   {
    "duration": 52,
    "start_time": "2022-08-23T11:03:54.559Z"
   },
   {
    "duration": 4,
    "start_time": "2022-08-23T11:03:54.613Z"
   },
   {
    "duration": 5,
    "start_time": "2022-08-23T11:03:54.619Z"
   },
   {
    "duration": 9,
    "start_time": "2022-08-23T11:03:54.626Z"
   },
   {
    "duration": 8,
    "start_time": "2022-08-23T11:03:54.637Z"
   },
   {
    "duration": 6,
    "start_time": "2022-08-23T11:03:54.646Z"
   },
   {
    "duration": 15,
    "start_time": "2022-08-23T11:03:54.653Z"
   },
   {
    "duration": 31,
    "start_time": "2022-08-23T11:03:54.669Z"
   },
   {
    "duration": 11,
    "start_time": "2022-08-23T11:03:54.702Z"
   },
   {
    "duration": 161,
    "start_time": "2022-08-23T11:03:54.715Z"
   },
   {
    "duration": 15,
    "start_time": "2022-08-23T11:03:54.878Z"
   },
   {
    "duration": 12,
    "start_time": "2022-08-23T11:03:54.895Z"
   },
   {
    "duration": 8,
    "start_time": "2022-08-23T11:03:54.910Z"
   },
   {
    "duration": 16,
    "start_time": "2022-08-23T11:03:54.920Z"
   },
   {
    "duration": 12,
    "start_time": "2022-08-23T11:03:54.937Z"
   },
   {
    "duration": 8,
    "start_time": "2022-08-23T11:03:54.950Z"
   },
   {
    "duration": 79997,
    "start_time": "2022-08-23T11:03:54.960Z"
   },
   {
    "duration": 1201,
    "start_time": "2022-08-23T11:12:07.996Z"
   },
   {
    "duration": 80,
    "start_time": "2022-08-23T11:12:19.132Z"
   },
   {
    "duration": 767,
    "start_time": "2022-08-23T11:12:26.807Z"
   },
   {
    "duration": 756,
    "start_time": "2022-08-23T11:12:53.278Z"
   },
   {
    "duration": 103,
    "start_time": "2022-08-23T11:22:33.204Z"
   },
   {
    "duration": 19,
    "start_time": "2022-08-23T11:22:54.949Z"
   },
   {
    "duration": 9,
    "start_time": "2022-08-23T11:22:55.471Z"
   },
   {
    "duration": 5,
    "start_time": "2022-08-23T11:22:58.756Z"
   },
   {
    "duration": 5,
    "start_time": "2022-08-23T11:22:58.764Z"
   },
   {
    "duration": 42,
    "start_time": "2022-08-23T11:22:58.771Z"
   },
   {
    "duration": 14,
    "start_time": "2022-08-23T11:22:58.815Z"
   },
   {
    "duration": 18,
    "start_time": "2022-08-23T11:22:58.831Z"
   },
   {
    "duration": 1531,
    "start_time": "2022-08-23T11:22:58.851Z"
   },
   {
    "duration": 48,
    "start_time": "2022-08-23T11:23:00.384Z"
   },
   {
    "duration": 4,
    "start_time": "2022-08-23T11:23:00.434Z"
   },
   {
    "duration": 30,
    "start_time": "2022-08-23T11:23:00.442Z"
   },
   {
    "duration": 27,
    "start_time": "2022-08-23T11:23:00.474Z"
   },
   {
    "duration": 16,
    "start_time": "2022-08-23T11:23:00.503Z"
   },
   {
    "duration": 26,
    "start_time": "2022-08-23T11:23:00.521Z"
   },
   {
    "duration": 51,
    "start_time": "2022-08-23T11:23:00.549Z"
   },
   {
    "duration": 22,
    "start_time": "2022-08-23T11:23:00.602Z"
   },
   {
    "duration": 18,
    "start_time": "2022-08-23T11:23:00.626Z"
   },
   {
    "duration": 137,
    "start_time": "2022-08-23T11:23:00.646Z"
   },
   {
    "duration": 11,
    "start_time": "2022-08-23T11:23:00.785Z"
   },
   {
    "duration": 8,
    "start_time": "2022-08-23T11:23:00.798Z"
   },
   {
    "duration": 23,
    "start_time": "2022-08-23T11:23:00.808Z"
   },
   {
    "duration": 20,
    "start_time": "2022-08-23T11:23:00.833Z"
   },
   {
    "duration": 15,
    "start_time": "2022-08-23T11:23:00.855Z"
   },
   {
    "duration": 11,
    "start_time": "2022-08-23T11:23:00.872Z"
   },
   {
    "duration": 77920,
    "start_time": "2022-08-23T11:23:00.893Z"
   },
   {
    "duration": 843,
    "start_time": "2022-08-23T11:24:18.815Z"
   },
   {
    "duration": 19351,
    "start_time": "2022-08-23T11:24:19.660Z"
   },
   {
    "duration": 63656,
    "start_time": "2022-08-23T11:24:39.013Z"
   },
   {
    "duration": 143113,
    "start_time": "2022-08-23T11:25:42.671Z"
   },
   {
    "duration": 78233,
    "start_time": "2022-08-23T11:28:05.792Z"
   },
   {
    "duration": 97,
    "start_time": "2022-08-23T11:29:24.027Z"
   },
   {
    "duration": 13,
    "start_time": "2022-08-23T11:29:24.126Z"
   },
   {
    "duration": 94,
    "start_time": "2022-08-23T11:29:24.141Z"
   },
   {
    "duration": 17,
    "start_time": "2022-08-23T11:29:24.237Z"
   },
   {
    "duration": 0,
    "start_time": "2022-08-23T11:29:24.256Z"
   },
   {
    "duration": 0,
    "start_time": "2022-08-23T11:29:24.257Z"
   },
   {
    "duration": 17,
    "start_time": "2022-08-23T11:29:33.093Z"
   },
   {
    "duration": 11,
    "start_time": "2022-08-23T11:29:36.329Z"
   },
   {
    "duration": 64,
    "start_time": "2022-08-23T11:29:40.099Z"
   },
   {
    "duration": 13,
    "start_time": "2022-08-23T11:29:52.252Z"
   },
   {
    "duration": 65,
    "start_time": "2022-08-23T11:29:52.800Z"
   },
   {
    "duration": 18,
    "start_time": "2022-08-23T11:30:00.212Z"
   },
   {
    "duration": 65,
    "start_time": "2022-08-23T11:30:08.717Z"
   },
   {
    "duration": 14,
    "start_time": "2022-08-23T11:30:10.260Z"
   },
   {
    "duration": 12,
    "start_time": "2022-08-23T11:30:41.013Z"
   },
   {
    "duration": 65,
    "start_time": "2022-08-23T11:30:41.252Z"
   },
   {
    "duration": 13,
    "start_time": "2022-08-23T11:30:49.396Z"
   },
   {
    "duration": 171,
    "start_time": "2022-08-23T11:30:49.629Z"
   },
   {
    "duration": 80185,
    "start_time": "2022-08-23T11:30:59.230Z"
   },
   {
    "duration": 25958,
    "start_time": "2022-08-23T11:32:26.035Z"
   },
   {
    "duration": 46172,
    "start_time": "2022-08-23T11:33:24.427Z"
   },
   {
    "duration": 110735,
    "start_time": "2022-08-23T11:34:10.600Z"
   },
   {
    "duration": 42,
    "start_time": "2022-08-23T16:02:45.409Z"
   },
   {
    "duration": 7,
    "start_time": "2022-08-23T16:02:55.406Z"
   },
   {
    "duration": 1597,
    "start_time": "2022-08-23T16:03:02.297Z"
   },
   {
    "duration": 2,
    "start_time": "2022-08-23T16:03:03.896Z"
   },
   {
    "duration": 166,
    "start_time": "2022-08-23T16:03:03.906Z"
   },
   {
    "duration": 23,
    "start_time": "2022-08-23T16:03:04.074Z"
   },
   {
    "duration": 12,
    "start_time": "2022-08-23T16:03:04.099Z"
   },
   {
    "duration": 1387,
    "start_time": "2022-08-23T16:03:04.113Z"
   },
   {
    "duration": 39,
    "start_time": "2022-08-23T16:03:05.502Z"
   },
   {
    "duration": 3,
    "start_time": "2022-08-23T16:03:05.543Z"
   },
   {
    "duration": 5,
    "start_time": "2022-08-23T16:03:05.548Z"
   },
   {
    "duration": 5,
    "start_time": "2022-08-23T16:03:05.555Z"
   },
   {
    "duration": 6,
    "start_time": "2022-08-23T16:03:05.562Z"
   },
   {
    "duration": 40,
    "start_time": "2022-08-23T16:03:05.569Z"
   },
   {
    "duration": 13,
    "start_time": "2022-08-23T16:03:05.610Z"
   },
   {
    "duration": 14,
    "start_time": "2022-08-23T16:03:05.625Z"
   },
   {
    "duration": 10,
    "start_time": "2022-08-23T16:03:05.640Z"
   },
   {
    "duration": 143,
    "start_time": "2022-08-23T16:03:05.652Z"
   },
   {
    "duration": 11,
    "start_time": "2022-08-23T16:03:05.797Z"
   },
   {
    "duration": 3,
    "start_time": "2022-08-23T16:03:05.810Z"
   },
   {
    "duration": 7,
    "start_time": "2022-08-23T16:03:05.815Z"
   },
   {
    "duration": 15,
    "start_time": "2022-08-23T16:03:05.823Z"
   },
   {
    "duration": 11,
    "start_time": "2022-08-23T16:03:05.840Z"
   },
   {
    "duration": 10,
    "start_time": "2022-08-23T16:03:05.852Z"
   },
   {
    "duration": 67960,
    "start_time": "2022-08-23T16:03:05.863Z"
   },
   {
    "duration": 12,
    "start_time": "2022-08-23T16:04:17.033Z"
   },
   {
    "duration": 11,
    "start_time": "2022-08-23T16:04:19.636Z"
   },
   {
    "duration": 4,
    "start_time": "2022-08-23T16:04:29.361Z"
   },
   {
    "duration": 836,
    "start_time": "2022-08-23T16:08:39.199Z"
   },
   {
    "duration": 642,
    "start_time": "2022-08-23T16:08:51.449Z"
   },
   {
    "duration": 639,
    "start_time": "2022-08-23T16:09:20.274Z"
   },
   {
    "duration": 3,
    "start_time": "2022-08-23T16:10:06.896Z"
   },
   {
    "duration": 629,
    "start_time": "2022-08-23T16:11:40.873Z"
   },
   {
    "duration": 626,
    "start_time": "2022-08-23T16:11:44.925Z"
   },
   {
    "duration": 13,
    "start_time": "2022-08-23T16:12:23.890Z"
   },
   {
    "duration": 4,
    "start_time": "2022-08-23T16:12:29.130Z"
   },
   {
    "duration": 8,
    "start_time": "2022-08-23T16:12:49.572Z"
   },
   {
    "duration": 4,
    "start_time": "2022-08-23T16:12:52.810Z"
   },
   {
    "duration": 4,
    "start_time": "2022-08-23T16:13:02.957Z"
   },
   {
    "duration": 4,
    "start_time": "2022-08-23T16:13:13.445Z"
   },
   {
    "duration": 722,
    "start_time": "2022-08-23T16:19:45.017Z"
   },
   {
    "duration": 738,
    "start_time": "2022-08-23T16:19:51.282Z"
   },
   {
    "duration": 6,
    "start_time": "2022-08-23T16:48:25.945Z"
   },
   {
    "duration": 601,
    "start_time": "2022-08-23T17:55:36.590Z"
   },
   {
    "duration": 693,
    "start_time": "2022-08-23T17:56:12.373Z"
   },
   {
    "duration": 1367,
    "start_time": "2022-08-24T09:15:51.984Z"
   },
   {
    "duration": 3,
    "start_time": "2022-08-24T09:15:53.353Z"
   },
   {
    "duration": 159,
    "start_time": "2022-08-24T09:15:53.357Z"
   },
   {
    "duration": 15,
    "start_time": "2022-08-24T09:15:53.517Z"
   },
   {
    "duration": 11,
    "start_time": "2022-08-24T09:15:53.534Z"
   },
   {
    "duration": 1244,
    "start_time": "2022-08-24T09:15:53.546Z"
   },
   {
    "duration": 41,
    "start_time": "2022-08-24T09:15:54.792Z"
   },
   {
    "duration": 3,
    "start_time": "2022-08-24T09:15:54.834Z"
   },
   {
    "duration": 5,
    "start_time": "2022-08-24T09:15:54.839Z"
   },
   {
    "duration": 7,
    "start_time": "2022-08-24T09:15:54.845Z"
   },
   {
    "duration": 6,
    "start_time": "2022-08-24T09:15:54.854Z"
   },
   {
    "duration": 6,
    "start_time": "2022-08-24T09:15:54.861Z"
   },
   {
    "duration": 14,
    "start_time": "2022-08-24T09:15:54.868Z"
   },
   {
    "duration": 26,
    "start_time": "2022-08-24T09:15:54.884Z"
   },
   {
    "duration": 7,
    "start_time": "2022-08-24T09:15:54.912Z"
   },
   {
    "duration": 130,
    "start_time": "2022-08-24T09:15:54.921Z"
   },
   {
    "duration": 8,
    "start_time": "2022-08-24T09:15:55.053Z"
   },
   {
    "duration": 4,
    "start_time": "2022-08-24T09:15:55.062Z"
   },
   {
    "duration": 12,
    "start_time": "2022-08-24T09:15:55.067Z"
   },
   {
    "duration": 26,
    "start_time": "2022-08-24T09:15:55.080Z"
   },
   {
    "duration": 11,
    "start_time": "2022-08-24T09:15:55.107Z"
   },
   {
    "duration": 4,
    "start_time": "2022-08-24T09:16:11.753Z"
   },
   {
    "duration": 7,
    "start_time": "2022-08-24T09:16:13.665Z"
   },
   {
    "duration": 2,
    "start_time": "2022-08-24T09:23:28.393Z"
   },
   {
    "duration": 3,
    "start_time": "2022-08-24T09:23:28.639Z"
   },
   {
    "duration": 2,
    "start_time": "2022-08-24T09:23:28.872Z"
   },
   {
    "duration": 2,
    "start_time": "2022-08-24T09:23:29.628Z"
   },
   {
    "duration": 178,
    "start_time": "2022-08-24T09:23:42.156Z"
   },
   {
    "duration": 7,
    "start_time": "2022-08-24T09:24:18.023Z"
   },
   {
    "duration": 121,
    "start_time": "2022-08-24T09:24:21.510Z"
   },
   {
    "duration": 7,
    "start_time": "2022-08-24T09:25:00.699Z"
   },
   {
    "duration": 10012,
    "start_time": "2022-08-24T09:25:03.909Z"
   },
   {
    "duration": 4,
    "start_time": "2022-08-24T09:27:29.525Z"
   },
   {
    "duration": 10,
    "start_time": "2022-08-24T09:27:30.059Z"
   },
   {
    "duration": 10299,
    "start_time": "2022-08-24T09:27:41.080Z"
   },
   {
    "duration": 6,
    "start_time": "2022-08-24T09:28:19.714Z"
   },
   {
    "duration": 8,
    "start_time": "2022-08-24T09:28:20.270Z"
   },
   {
    "duration": 65414,
    "start_time": "2022-08-24T09:28:23.308Z"
   },
   {
    "duration": 4,
    "start_time": "2022-08-24T09:30:34.593Z"
   },
   {
    "duration": 708,
    "start_time": "2022-08-24T09:30:35.081Z"
   },
   {
    "duration": 15350,
    "start_time": "2022-08-24T09:30:45.078Z"
   },
   {
    "duration": 58749,
    "start_time": "2022-08-24T09:31:00.430Z"
   },
   {
    "duration": 70955,
    "start_time": "2022-08-24T09:31:59.181Z"
   },
   {
    "duration": 209,
    "start_time": "2022-08-24T09:33:10.139Z"
   },
   {
    "duration": 10,
    "start_time": "2022-08-24T09:33:10.419Z"
   },
   {
    "duration": 114,
    "start_time": "2022-08-24T09:33:10.430Z"
   },
   {
    "duration": 64,
    "start_time": "2022-08-24T09:33:10.546Z"
   },
   {
    "duration": 120,
    "start_time": "2022-08-24T09:33:10.612Z"
   },
   {
    "duration": 151361,
    "start_time": "2022-08-24T09:34:08.465Z"
   },
   {
    "duration": 79511,
    "start_time": "2022-08-24T09:36:39.828Z"
   },
   {
    "duration": 9877,
    "start_time": "2022-08-24T09:39:05.714Z"
   },
   {
    "duration": 35571,
    "start_time": "2022-08-24T09:39:15.593Z"
   },
   {
    "duration": 21408,
    "start_time": "2022-08-24T09:39:51.166Z"
   },
   {
    "duration": 91534,
    "start_time": "2022-08-24T09:40:12.575Z"
   },
   {
    "duration": 56623,
    "start_time": "2022-08-24T09:41:44.111Z"
   },
   {
    "duration": 150027,
    "start_time": "2022-08-24T09:44:17.979Z"
   },
   {
    "duration": 32379,
    "start_time": "2022-08-24T09:46:48.008Z"
   },
   {
    "duration": 82314,
    "start_time": "2022-08-24T09:47:20.388Z"
   },
   {
    "duration": 74109,
    "start_time": "2022-08-24T09:48:42.705Z"
   },
   {
    "duration": 56416,
    "start_time": "2022-08-24T09:49:56.816Z"
   },
   {
    "duration": 82796,
    "start_time": "2022-08-24T09:50:53.233Z"
   },
   {
    "duration": 23786,
    "start_time": "2022-08-24T09:52:16.031Z"
   },
   {
    "duration": 54,
    "start_time": "2022-08-24T09:58:49.928Z"
   },
   {
    "duration": 18,
    "start_time": "2022-08-24T09:59:48.305Z"
   },
   {
    "duration": 58650,
    "start_time": "2022-08-24T10:00:32.934Z"
   },
   {
    "duration": 215,
    "start_time": "2022-08-24T10:01:31.586Z"
   },
   {
    "duration": 241,
    "start_time": "2022-08-24T10:01:52.718Z"
   },
   {
    "duration": 255,
    "start_time": "2022-08-24T10:02:11.332Z"
   },
   {
    "duration": 216,
    "start_time": "2022-08-24T10:02:15.715Z"
   },
   {
    "duration": 627,
    "start_time": "2022-08-24T10:02:52.606Z"
   },
   {
    "duration": 692,
    "start_time": "2022-08-24T10:05:45.819Z"
   },
   {
    "duration": 201,
    "start_time": "2022-08-24T10:05:47.846Z"
   },
   {
    "duration": 24,
    "start_time": "2022-08-24T10:06:55.170Z"
   },
   {
    "duration": 53,
    "start_time": "2022-08-24T10:06:55.853Z"
   },
   {
    "duration": 202,
    "start_time": "2022-08-24T10:06:56.692Z"
   },
   {
    "duration": 625,
    "start_time": "2022-08-24T10:06:57.624Z"
   },
   {
    "duration": 110,
    "start_time": "2022-08-24T10:13:00.715Z"
   },
   {
    "duration": 93,
    "start_time": "2022-08-24T10:15:04.848Z"
   },
   {
    "duration": 73,
    "start_time": "2022-08-24T10:15:16.357Z"
   },
   {
    "duration": 82,
    "start_time": "2022-08-24T10:16:28.956Z"
   },
   {
    "duration": 77,
    "start_time": "2022-08-24T10:19:50.861Z"
   },
   {
    "duration": 1709,
    "start_time": "2022-08-24T16:42:24.684Z"
   },
   {
    "duration": 3,
    "start_time": "2022-08-24T16:42:26.395Z"
   },
   {
    "duration": 85,
    "start_time": "2022-08-24T16:42:26.399Z"
   },
   {
    "duration": 22,
    "start_time": "2022-08-24T16:42:26.487Z"
   },
   {
    "duration": 14,
    "start_time": "2022-08-24T16:42:26.511Z"
   },
   {
    "duration": 1339,
    "start_time": "2022-08-24T16:42:26.527Z"
   },
   {
    "duration": 50,
    "start_time": "2022-08-24T16:42:27.867Z"
   },
   {
    "duration": 4,
    "start_time": "2022-08-24T16:42:27.919Z"
   },
   {
    "duration": 8,
    "start_time": "2022-08-24T16:42:27.925Z"
   },
   {
    "duration": 7,
    "start_time": "2022-08-24T16:42:27.935Z"
   },
   {
    "duration": 12,
    "start_time": "2022-08-24T16:42:27.943Z"
   },
   {
    "duration": 7,
    "start_time": "2022-08-24T16:42:27.957Z"
   },
   {
    "duration": 19,
    "start_time": "2022-08-24T16:42:27.965Z"
   },
   {
    "duration": 15,
    "start_time": "2022-08-24T16:42:27.986Z"
   },
   {
    "duration": 12,
    "start_time": "2022-08-24T16:42:28.002Z"
   },
   {
    "duration": 130,
    "start_time": "2022-08-24T16:42:28.016Z"
   },
   {
    "duration": 10,
    "start_time": "2022-08-24T16:42:28.147Z"
   },
   {
    "duration": 4,
    "start_time": "2022-08-24T16:42:28.159Z"
   },
   {
    "duration": 14,
    "start_time": "2022-08-24T16:42:28.165Z"
   },
   {
    "duration": 24,
    "start_time": "2022-08-24T16:42:28.181Z"
   },
   {
    "duration": 12,
    "start_time": "2022-08-24T16:42:28.207Z"
   },
   {
    "duration": 4,
    "start_time": "2022-08-24T16:42:28.221Z"
   },
   {
    "duration": 15,
    "start_time": "2022-08-24T16:42:28.226Z"
   },
   {
    "duration": 3,
    "start_time": "2022-08-24T16:42:28.242Z"
   },
   {
    "duration": 65332,
    "start_time": "2022-08-24T16:42:28.246Z"
   },
   {
    "duration": 4,
    "start_time": "2022-08-24T16:43:33.580Z"
   },
   {
    "duration": 690,
    "start_time": "2022-08-24T16:43:33.585Z"
   },
   {
    "duration": 15548,
    "start_time": "2022-08-24T16:43:34.278Z"
   },
   {
    "duration": 58017,
    "start_time": "2022-08-24T16:43:49.828Z"
   },
   {
    "duration": 153923,
    "start_time": "2022-08-24T16:44:47.847Z"
   },
   {
    "duration": 71658,
    "start_time": "2022-08-24T16:47:21.772Z"
   },
   {
    "duration": 86,
    "start_time": "2022-08-24T16:48:33.432Z"
   },
   {
    "duration": 11,
    "start_time": "2022-08-24T16:48:33.520Z"
   },
   {
    "duration": 70,
    "start_time": "2022-08-24T16:48:33.533Z"
   },
   {
    "duration": 12,
    "start_time": "2022-08-24T16:48:33.604Z"
   },
   {
    "duration": 55,
    "start_time": "2022-08-24T16:48:33.617Z"
   },
   {
    "duration": 84282,
    "start_time": "2022-08-24T16:48:33.674Z"
   },
   {
    "duration": 23943,
    "start_time": "2022-08-24T16:49:57.958Z"
   },
   {
    "duration": 34682,
    "start_time": "2022-08-24T16:50:21.905Z"
   },
   {
    "duration": 94685,
    "start_time": "2022-08-24T16:50:56.588Z"
   },
   {
    "duration": 58218,
    "start_time": "2022-08-24T16:52:31.274Z"
   },
   {
    "duration": 153388,
    "start_time": "2022-08-24T16:53:29.494Z"
   },
   {
    "duration": 32576,
    "start_time": "2022-08-24T16:56:02.883Z"
   },
   {
    "duration": 84897,
    "start_time": "2022-08-24T16:56:35.461Z"
   },
   {
    "duration": 75648,
    "start_time": "2022-08-24T16:58:00.359Z"
   },
   {
    "duration": 23593,
    "start_time": "2022-08-24T16:59:16.008Z"
   },
   {
    "duration": 57532,
    "start_time": "2022-08-24T16:59:39.602Z"
   },
   {
    "duration": 84391,
    "start_time": "2022-08-24T17:00:37.137Z"
   },
   {
    "duration": 80,
    "start_time": "2022-08-24T17:02:01.531Z"
   },
   {
    "duration": 648,
    "start_time": "2022-08-24T17:02:01.613Z"
   },
   {
    "duration": 13,
    "start_time": "2022-08-25T13:13:56.168Z"
   },
   {
    "duration": 84,
    "start_time": "2022-08-25T13:14:04.210Z"
   },
   {
    "duration": 4,
    "start_time": "2022-08-25T13:14:09.156Z"
   },
   {
    "duration": 132,
    "start_time": "2022-08-25T13:14:11.775Z"
   },
   {
    "duration": 4,
    "start_time": "2022-08-25T13:14:14.724Z"
   }
  ],
  "kernelspec": {
   "display_name": "Python 3 (ipykernel)",
   "language": "python",
   "name": "python3"
  },
  "language_info": {
   "codemirror_mode": {
    "name": "ipython",
    "version": 3
   },
   "file_extension": ".py",
   "mimetype": "text/x-python",
   "name": "python",
   "nbconvert_exporter": "python",
   "pygments_lexer": "ipython3",
   "version": "3.9.13"
  },
  "toc": {
   "base_numbering": 1,
   "nav_menu": {},
   "number_sections": true,
   "sideBar": true,
   "skip_h1_title": true,
   "title_cell": "Содержание",
   "title_sidebar": "Contents",
   "toc_cell": true,
   "toc_position": {
    "height": "calc(100% - 180px)",
    "left": "10px",
    "top": "150px",
    "width": "197px"
   },
   "toc_section_display": true,
   "toc_window_display": true
  }
 },
 "nbformat": 4,
 "nbformat_minor": 2
}
